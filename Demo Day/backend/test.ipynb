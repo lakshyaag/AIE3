{
 "cells": [
  {
   "cell_type": "code",
   "execution_count": 1,
   "metadata": {},
   "outputs": [],
   "source": [
    "import os\n",
    "import re\n",
    "from operator import itemgetter\n",
    "from textwrap import dedent\n",
    "from typing import List\n",
    "\n",
    "import matplotlib.pyplot as plt\n",
    "import matplotlib.ticker as mtick\n",
    "import pandas as pd\n",
    "import seaborn as sns\n",
    "from datasets import load_dataset\n",
    "from dotenv import load_dotenv\n",
    "from edgar import Company, CompanyFiling, CompanyFilings, set_identity\n",
    "from langchain.schema import Document\n",
    "from langchain.schema.output_parser import StrOutputParser\n",
    "from langchain.schema.runnable import RunnableLambda, RunnablePassthrough\n",
    "from langchain_community.vectorstores import SupabaseVectorStore\n",
    "from langchain_core.prompts import ChatPromptTemplate\n",
    "from langchain_openai import ChatOpenAI, OpenAIEmbeddings\n",
    "from langchain_text_splitters import RecursiveCharacterTextSplitter\n",
    "from langsmith import Client as LangsmithClient\n",
    "from langsmith.evaluation import LangChainStringEvaluator, evaluate\n",
    "from rich import print\n",
    "from supabase.client import Client, create_client\n",
    "\n",
    "load_dotenv()\n",
    "os.environ[\"LANGCHAIN_PROJECT\"] = \"llm-evals\"\n",
    "%load_ext rich\n"
   ]
  },
  {
   "cell_type": "code",
   "execution_count": 18,
   "metadata": {},
   "outputs": [],
   "source": [
    "supabase_url = os.environ.get(\"SUPABASE_URL\")\n",
    "supabase_key = os.environ.get(\"SUPABASE_PRIVATE_KEY\")\n",
    "supabase: Client = create_client(supabase_url, supabase_key)\n",
    "\n",
    "embeddings = OpenAIEmbeddings(model=\"text-embedding-3-small\", dimensions=512)\n",
    "\n",
    "vectorstore = SupabaseVectorStore(\n",
    "    supabase,\n",
    "    embedding=embeddings,\n",
    "    table_name=\"documents_duplicate\",\n",
    "    query_name=\"match_documents_duplicate\",\n",
    ")\n"
   ]
  },
  {
   "cell_type": "code",
   "execution_count": 21,
   "metadata": {},
   "outputs": [],
   "source": [
    "from langchain.chains.query_constructor.base import AttributeInfo\n",
    "from langchain.retrievers.self_query.base import SelfQueryRetriever\n",
    "from langchain_openai import OpenAI\n",
    "\n",
    "metadata_field_info = [\n",
    "    AttributeInfo(\n",
    "        name=\"ticker\",\n",
    "        description=\"The ticker of the company\",\n",
    "        type=\"string or list[string]\",\n",
    "    ),\n",
    "    AttributeInfo(\n",
    "        name=\"year\",\n",
    "        description=\"The year of the report\",\n",
    "        type=\"integer or list[integer]\",\n",
    "    ),\n",
    "]\n",
    "\n",
    "document_content_description = \"Chunks of text from financial reports\"\n",
    "\n",
    "llm = OpenAI(temperature=0)\n",
    "\n",
    "retriever = SelfQueryRetriever.from_llm(\n",
    "    llm, vectorstore, document_content_description, metadata_field_info, verbose=True\n",
    ")\n"
   ]
  },
  {
   "cell_type": "code",
   "execution_count": 25,
   "metadata": {},
   "outputs": [
    {
     "data": {
      "text/html": [
       "<pre style=\"white-space:pre;overflow-x:auto;line-height:normal;font-family:Menlo,'DejaVu Sans Mono',consolas,'Courier New',monospace\"><span style=\"color: #7fbfbf; text-decoration-color: #7fbfbf\">[01:03:18] </span><span style=\"color: #000080; text-decoration-color: #000080\">INFO    </span> Generated Query: <span style=\"color: #808000; text-decoration-color: #808000\">query</span>=<span style=\"color: #008000; text-decoration-color: #008000\">'risk'</span> <span style=\"color: #808000; text-decoration-color: #808000\">filter</span>=<span style=\"color: #800080; text-decoration-color: #800080; font-weight: bold\">Comparison</span><span style=\"font-weight: bold\">(</span><span style=\"color: #808000; text-decoration-color: #808000\">comparator</span>=<span style=\"font-weight: bold\">&lt;</span><span style=\"color: #ff00ff; text-decoration-color: #ff00ff; font-weight: bold\">Comparator.EQ:</span><span style=\"color: #000000; text-decoration-color: #000000\"> </span><span style=\"color: #008000; text-decoration-color: #008000\">'eq'</span><span style=\"font-weight: bold\">&gt;</span>,   <a href=\"file://e:\\Projects\\AI-Maven\\AIE3\\.venv\\Lib\\site-packages\\langchain\\retrievers\\self_query\\base.py\" target=\"_blank\"><span style=\"color: #7f7f7f; text-decoration-color: #7f7f7f\">base.py</span></a><span style=\"color: #7f7f7f; text-decoration-color: #7f7f7f\">:</span><a href=\"file://e:\\Projects\\AI-Maven\\AIE3\\.venv\\Lib\\site-packages\\langchain\\retrievers\\self_query\\base.py#267\" target=\"_blank\"><span style=\"color: #7f7f7f; text-decoration-color: #7f7f7f\">267</span></a>\n",
       "<span style=\"color: #7fbfbf; text-decoration-color: #7fbfbf\">           </span>         <span style=\"color: #808000; text-decoration-color: #808000\">attribute</span>=<span style=\"color: #008000; text-decoration-color: #008000\">'ticker'</span>, <span style=\"color: #808000; text-decoration-color: #808000\">value</span>=<span style=\"color: #008000; text-decoration-color: #008000\">'COST'</span><span style=\"font-weight: bold\">)</span> <span style=\"color: #808000; text-decoration-color: #808000\">limit</span>=<span style=\"color: #800080; text-decoration-color: #800080; font-style: italic\">None</span>                                        <span style=\"color: #7f7f7f; text-decoration-color: #7f7f7f\">           </span>\n",
       "</pre>\n"
      ],
      "text/plain": [
       "\u001b[2;36m[01:03:18]\u001b[0m\u001b[2;36m \u001b[0m\u001b[34mINFO    \u001b[0m Generated Query: \u001b[33mquery\u001b[0m=\u001b[32m'risk'\u001b[0m \u001b[33mfilter\u001b[0m=\u001b[1;35mComparison\u001b[0m\u001b[1m(\u001b[0m\u001b[33mcomparator\u001b[0m=\u001b[1m<\u001b[0m\u001b[1;95mComparator.EQ:\u001b[0m\u001b[39m \u001b[0m\u001b[32m'eq'\u001b[0m\u001b[1m>\u001b[0m,   \u001b]8;id=639096;file://e:\\Projects\\AI-Maven\\AIE3\\.venv\\Lib\\site-packages\\langchain\\retrievers\\self_query\\base.py\u001b\\\u001b[2mbase.py\u001b[0m\u001b]8;;\u001b\\\u001b[2m:\u001b[0m\u001b]8;id=955066;file://e:\\Projects\\AI-Maven\\AIE3\\.venv\\Lib\\site-packages\\langchain\\retrievers\\self_query\\base.py#267\u001b\\\u001b[2m267\u001b[0m\u001b]8;;\u001b\\\n",
       "\u001b[2;36m           \u001b[0m         \u001b[33mattribute\u001b[0m=\u001b[32m'ticker'\u001b[0m, \u001b[33mvalue\u001b[0m=\u001b[32m'COST'\u001b[0m\u001b[1m)\u001b[0m \u001b[33mlimit\u001b[0m=\u001b[3;35mNone\u001b[0m                                        \u001b[2m           \u001b[0m\n"
      ]
     },
     "metadata": {},
     "output_type": "display_data"
    },
    {
     "data": {
      "text/html": [
       "<pre style=\"white-space:pre;overflow-x:auto;line-height:normal;font-family:Menlo,'DejaVu Sans Mono',consolas,'Courier New',monospace\"></pre>\n"
      ],
      "text/plain": []
     },
     "metadata": {},
     "output_type": "display_data"
    },
    {
     "data": {
      "text/plain": [
       "\n",
       "\u001b[1m[\u001b[0m\n",
       "    \u001b[1;35mDocument\u001b[0m\u001b[1m(\u001b[0m\n",
       "        \u001b[33mpage_content\u001b[0m=\u001b[32m'of coverage to account for these variables, actual claims and costs could differ significantly from recorded liabilities. Historically, adjustments to our estimates have not been material. Recent Accounting Pronouncements We do not expect that any recently issued accounting pronouncements will have a material effect on our financial statements.'\u001b[0m,\n",
       "        \u001b[33mmetadata\u001b[0m=\u001b[1m{\u001b[0m\u001b[32m'form'\u001b[0m: \u001b[32m'10-K'\u001b[0m, \u001b[32m'year'\u001b[0m: \u001b[1;36m2022\u001b[0m, \u001b[32m'ticker'\u001b[0m: \u001b[32m'COST'\u001b[0m, \u001b[32m'item_name'\u001b[0m: \u001b[32m'Item 7'\u001b[0m\u001b[1m}\u001b[0m\n",
       "    \u001b[1m)\u001b[0m,\n",
       "    \u001b[1;35mDocument\u001b[0m\u001b[1m(\u001b[0m\n",
       "        \u001b[33mpage_content\u001b[0m=\u001b[32m'or are reasonably likely to have a material current or future effect on our financial condition or financial statements. Critical Accounting Estimates The preparation of our consolidated financial statements in accordance with U.S. generally accepted accounting principles \u001b[0m\u001b[32m(\u001b[0m\u001b[32mU.S. GAAP\u001b[0m\u001b[32m)\u001b[0m\u001b[32m requires that we make estimates and assumptions that affect the reported amounts of assets and liabilities and the disclosure of contingent assets and liabilities at the date of the financial statements and the reported amounts of revenues and expenses during the reporting period. We base our estimates on historical experience and on assumptions that we believe to be reasonable, and we continue to review and evaluate these estimates. For further information on significant accounting policies, see discussion in Note 1 to the consolidated financial statements included in Item 8 of this Report. Insurance/Self-insurance Liabilities Claims for employee health-care benefits, workers’ compensation, general liability, property damage,'\u001b[0m,\n",
       "        \u001b[33mmetadata\u001b[0m=\u001b[1m{\u001b[0m\u001b[32m'form'\u001b[0m: \u001b[32m'10-K'\u001b[0m, \u001b[32m'year'\u001b[0m: \u001b[1;36m2022\u001b[0m, \u001b[32m'ticker'\u001b[0m: \u001b[32m'COST'\u001b[0m, \u001b[32m'item_name'\u001b[0m: \u001b[32m'Item 7'\u001b[0m\u001b[1m}\u001b[0m\n",
       "    \u001b[1m)\u001b[0m,\n",
       "    \u001b[1;35mDocument\u001b[0m\u001b[1m(\u001b[0m\n",
       "        \u001b[33mpage_content\u001b[0m=\u001b[32m'for employee health-care benefits, workers’ compensation, general liability, property damage, directors’ and officers’ liability, vehicle liability, inventory loss, and other exposures are funded predominantly through self-insurance. Insurance coverage is maintained for certain risks to seek to limit exposures arising from very large losses. We use different risk management mechanisms, including a wholly-owned captive insurance subsidiary, and participate in a reinsurance program. Liabilities associated with the risks that we retain are not discounted and are estimated by using historical claims experience, demographic factors, severity factors, and other actuarial assumptions. The costs of claims are highly unpredictable and can fluctuate as a result of inflation rates, regulatory or legal changes, and unforeseen developments in claims. While we believe our estimates are reasonable and provide for a certain degree of coverage to account for these variables, actual claims and costs could differ significantly'\u001b[0m,\n",
       "        \u001b[33mmetadata\u001b[0m=\u001b[1m{\u001b[0m\u001b[32m'form'\u001b[0m: \u001b[32m'10-K'\u001b[0m, \u001b[32m'year'\u001b[0m: \u001b[1;36m2022\u001b[0m, \u001b[32m'ticker'\u001b[0m: \u001b[32m'COST'\u001b[0m, \u001b[32m'item_name'\u001b[0m: \u001b[32m'Item 7'\u001b[0m\u001b[1m}\u001b[0m\n",
       "    \u001b[1m)\u001b[0m,\n",
       "    \u001b[1;35mDocument\u001b[0m\u001b[1m(\u001b[0m\n",
       "        \u001b[33mpage_content\u001b[0m=\u001b[32m'to our non-gasoline business. A higher penetration of gasoline sales will generally lower our gross margin percentage. Rapidly changing gasoline prices may significantly impact our near- term net sales growth. Generally, rising gasoline prices benefit net sales growth which, given the higher sales base, negatively impacts our gross margin percentage but decreases our SG&A expenses as a percentage of net sales. A decline in gasoline prices has the inverse effect. Additionally, actions in various countries, particularly China and the United States, have affected the costs of some of our merchandise. The degree of our exposure is dependent on \u001b[0m\u001b[32m(\u001b[0m\u001b[32mamong other things\u001b[0m\u001b[32m)\u001b[0m\u001b[32m the type of goods, rates imposed, and timing of the tariffs. Higher tariffs could adversely impact our results. We also achieve net sales growth by opening new warehouses. As our warehouse base grows, available and desirable sites become more difficult to secure, and square footage growth becomes a comparatively less substantial component of growth.'\u001b[0m,\n",
       "        \u001b[33mmetadata\u001b[0m=\u001b[1m{\u001b[0m\u001b[32m'form'\u001b[0m: \u001b[32m'10-K'\u001b[0m, \u001b[32m'year'\u001b[0m: \u001b[1;36m2022\u001b[0m, \u001b[32m'ticker'\u001b[0m: \u001b[32m'COST'\u001b[0m, \u001b[32m'item_name'\u001b[0m: \u001b[32m'Item 7'\u001b[0m\u001b[1m}\u001b[0m\n",
       "    \u001b[1m)\u001b[0m\n",
       "\u001b[1m]\u001b[0m"
      ]
     },
     "execution_count": 25,
     "metadata": {},
     "output_type": "execute_result"
    }
   ],
   "source": [
    "# This example only specifies a filter\n",
    "retriever.invoke(\"What is COST's risk?\")\n"
   ]
  },
  {
   "cell_type": "code",
   "execution_count": 11,
   "metadata": {},
   "outputs": [
    {
     "data": {
      "text/html": [
       "<pre style=\"white-space:pre;overflow-x:auto;line-height:normal;font-family:Menlo,'DejaVu Sans Mono',consolas,'Courier New',monospace\"><span style=\"color: #7fbfbf; text-decoration-color: #7fbfbf\">[00:55:41] </span><span style=\"color: #000080; text-decoration-color: #000080\">INFO    </span> Generated Query: <span style=\"color: #808000; text-decoration-color: #808000\">query</span>=<span style=\"color: #008000; text-decoration-color: #008000\">'dinosaurs'</span> <span style=\"color: #808000; text-decoration-color: #808000\">filter</span>=<span style=\"color: #800080; text-decoration-color: #800080; font-style: italic\">None</span> <span style=\"color: #808000; text-decoration-color: #808000\">limit</span>=<span style=\"color: #800080; text-decoration-color: #800080; font-style: italic\">None</span>                           <a href=\"file://e:\\Projects\\AI-Maven\\AIE3\\.venv\\Lib\\site-packages\\langchain\\retrievers\\self_query\\base.py\" target=\"_blank\"><span style=\"color: #7f7f7f; text-decoration-color: #7f7f7f\">base.py</span></a><span style=\"color: #7f7f7f; text-decoration-color: #7f7f7f\">:</span><a href=\"file://e:\\Projects\\AI-Maven\\AIE3\\.venv\\Lib\\site-packages\\langchain\\retrievers\\self_query\\base.py#267\" target=\"_blank\"><span style=\"color: #7f7f7f; text-decoration-color: #7f7f7f\">267</span></a>\n",
       "</pre>\n"
      ],
      "text/plain": [
       "\u001b[2;36m[00:55:41]\u001b[0m\u001b[2;36m \u001b[0m\u001b[34mINFO    \u001b[0m Generated Query: \u001b[33mquery\u001b[0m=\u001b[32m'dinosaurs'\u001b[0m \u001b[33mfilter\u001b[0m=\u001b[3;35mNone\u001b[0m \u001b[33mlimit\u001b[0m=\u001b[3;35mNone\u001b[0m                           \u001b]8;id=742024;file://e:\\Projects\\AI-Maven\\AIE3\\.venv\\Lib\\site-packages\\langchain\\retrievers\\self_query\\base.py\u001b\\\u001b[2mbase.py\u001b[0m\u001b]8;;\u001b\\\u001b[2m:\u001b[0m\u001b]8;id=264648;file://e:\\Projects\\AI-Maven\\AIE3\\.venv\\Lib\\site-packages\\langchain\\retrievers\\self_query\\base.py#267\u001b\\\u001b[2m267\u001b[0m\u001b]8;;\u001b\\\n"
      ]
     },
     "metadata": {},
     "output_type": "display_data"
    },
    {
     "data": {
      "text/html": [
       "<pre style=\"white-space:pre;overflow-x:auto;line-height:normal;font-family:Menlo,'DejaVu Sans Mono',consolas,'Courier New',monospace\"></pre>\n"
      ],
      "text/plain": []
     },
     "metadata": {},
     "output_type": "display_data"
    },
    {
     "data": {
      "text/plain": [
       "\n",
       "\u001b[1m[\u001b[0m\n",
       "    \u001b[1;35mDocument\u001b[0m\u001b[1m(\u001b[0m\n",
       "        \u001b[33mpage_content\u001b[0m=\u001b[32m'A bunch of scientists bring back dinosaurs and mayhem breaks loose'\u001b[0m,\n",
       "        \u001b[33mmetadata\u001b[0m=\u001b[1m{\u001b[0m\u001b[32m'year'\u001b[0m: \u001b[1;36m1993\u001b[0m, \u001b[32m'genre'\u001b[0m: \u001b[32m'science fiction'\u001b[0m, \u001b[32m'rating'\u001b[0m: \u001b[1;36m7.7\u001b[0m\u001b[1m}\u001b[0m\n",
       "    \u001b[1m)\u001b[0m,\n",
       "    \u001b[1;35mDocument\u001b[0m\u001b[1m(\u001b[0m\n",
       "        \u001b[33mpage_content\u001b[0m=\u001b[32m'Toys come alive and have a blast doing so'\u001b[0m,\n",
       "        \u001b[33mmetadata\u001b[0m=\u001b[1m{\u001b[0m\u001b[32m'year'\u001b[0m: \u001b[1;36m1995\u001b[0m, \u001b[32m'genre'\u001b[0m: \u001b[32m'animated'\u001b[0m\u001b[1m}\u001b[0m\n",
       "    \u001b[1m)\u001b[0m,\n",
       "    \u001b[1;35mDocument\u001b[0m\u001b[1m(\u001b[0m\n",
       "        \u001b[33mpage_content\u001b[0m=\u001b[32m'Leo DiCaprio gets lost in a dream within a dream within a dream within a ...'\u001b[0m,\n",
       "        \u001b[33mmetadata\u001b[0m=\u001b[1m{\u001b[0m\u001b[32m'year'\u001b[0m: \u001b[1;36m2010\u001b[0m, \u001b[32m'rating'\u001b[0m: \u001b[1;36m8.2\u001b[0m, \u001b[32m'director'\u001b[0m: \u001b[32m'Christopher Nolan'\u001b[0m\u001b[1m}\u001b[0m\n",
       "    \u001b[1m)\u001b[0m,\n",
       "    \u001b[1;35mDocument\u001b[0m\u001b[1m(\u001b[0m\n",
       "        \u001b[33mpage_content\u001b[0m=\u001b[32m'A psychologist / detective gets lost in a series of dreams within dreams within dreams and Inception reused the idea'\u001b[0m,\n",
       "        \u001b[33mmetadata\u001b[0m=\u001b[1m{\u001b[0m\u001b[32m'year'\u001b[0m: \u001b[1;36m2006\u001b[0m, \u001b[32m'rating'\u001b[0m: \u001b[1;36m8.6\u001b[0m, \u001b[32m'director'\u001b[0m: \u001b[32m'Satoshi Kon'\u001b[0m\u001b[1m}\u001b[0m\n",
       "    \u001b[1m)\u001b[0m\n",
       "\u001b[1m]\u001b[0m"
      ]
     },
     "execution_count": 11,
     "metadata": {},
     "output_type": "execute_result"
    }
   ],
   "source": [
    "# This example only specifies a relevant query\n",
    "retriever.invoke(\"What are some movies about dinosaurs\")\n"
   ]
  },
  {
   "cell_type": "code",
   "execution_count": 12,
   "metadata": {},
   "outputs": [
    {
     "data": {
      "text/html": [
       "<pre style=\"white-space:pre;overflow-x:auto;line-height:normal;font-family:Menlo,'DejaVu Sans Mono',consolas,'Courier New',monospace\"><span style=\"color: #7fbfbf; text-decoration-color: #7fbfbf\">[00:56:00] </span><span style=\"color: #000080; text-decoration-color: #000080\">INFO    </span> Generated Query: <span style=\"color: #808000; text-decoration-color: #808000\">query</span>=<span style=\"color: #008000; text-decoration-color: #008000\">'toys'</span> <span style=\"color: #808000; text-decoration-color: #808000\">filter</span>=<span style=\"color: #800080; text-decoration-color: #800080; font-weight: bold\">Operation</span><span style=\"font-weight: bold\">(</span><span style=\"color: #808000; text-decoration-color: #808000\">operator</span>=<span style=\"font-weight: bold\">&lt;</span><span style=\"color: #ff00ff; text-decoration-color: #ff00ff; font-weight: bold\">Operator.AND:</span><span style=\"color: #000000; text-decoration-color: #000000\"> </span><span style=\"color: #008000; text-decoration-color: #008000\">'and'</span><span style=\"color: #000000; text-decoration-color: #000000\">&gt;, </span>     <a href=\"file://e:\\Projects\\AI-Maven\\AIE3\\.venv\\Lib\\site-packages\\langchain\\retrievers\\self_query\\base.py\" target=\"_blank\"><span style=\"color: #7f7f7f; text-decoration-color: #7f7f7f\">base.py</span></a><span style=\"color: #7f7f7f; text-decoration-color: #7f7f7f\">:</span><a href=\"file://e:\\Projects\\AI-Maven\\AIE3\\.venv\\Lib\\site-packages\\langchain\\retrievers\\self_query\\base.py#267\" target=\"_blank\"><span style=\"color: #7f7f7f; text-decoration-color: #7f7f7f\">267</span></a>\n",
       "<span style=\"color: #7fbfbf; text-decoration-color: #7fbfbf\">           </span>         <span style=\"color: #808000; text-decoration-color: #808000\">arguments</span><span style=\"color: #000000; text-decoration-color: #000000\">=</span><span style=\"color: #000000; text-decoration-color: #000000; font-weight: bold\">[</span><span style=\"color: #800080; text-decoration-color: #800080; font-weight: bold\">Operation</span><span style=\"color: #000000; text-decoration-color: #000000; font-weight: bold\">(</span><span style=\"color: #808000; text-decoration-color: #808000\">operator</span><span style=\"color: #000000; text-decoration-color: #000000\">=&lt;Operator.AND: </span><span style=\"color: #008000; text-decoration-color: #008000\">'and'</span><span style=\"color: #000000; text-decoration-color: #000000\">&gt;, </span>                               <span style=\"color: #7f7f7f; text-decoration-color: #7f7f7f\">           </span>\n",
       "<span style=\"color: #7fbfbf; text-decoration-color: #7fbfbf\">           </span>         <span style=\"color: #808000; text-decoration-color: #808000\">arguments</span><span style=\"color: #000000; text-decoration-color: #000000\">=</span><span style=\"color: #000000; text-decoration-color: #000000; font-weight: bold\">[</span><span style=\"color: #800080; text-decoration-color: #800080; font-weight: bold\">Comparison</span><span style=\"color: #000000; text-decoration-color: #000000; font-weight: bold\">(</span><span style=\"color: #808000; text-decoration-color: #808000\">comparator</span><span style=\"color: #000000; text-decoration-color: #000000\">=&lt;Comparator.GTE: </span><span style=\"color: #008000; text-decoration-color: #008000\">'gte'</span><span style=\"color: #000000; text-decoration-color: #000000\">&gt;, </span><span style=\"color: #808000; text-decoration-color: #808000\">attribute</span><span style=\"color: #000000; text-decoration-color: #000000\">=</span><span style=\"color: #008000; text-decoration-color: #008000\">'year'</span><span style=\"color: #000000; text-decoration-color: #000000\">, </span>        <span style=\"color: #7f7f7f; text-decoration-color: #7f7f7f\">           </span>\n",
       "<span style=\"color: #7fbfbf; text-decoration-color: #7fbfbf\">           </span>         <span style=\"color: #808000; text-decoration-color: #808000\">value</span><span style=\"color: #000000; text-decoration-color: #000000\">=</span><span style=\"color: #008080; text-decoration-color: #008080; font-weight: bold\">1990</span><span style=\"color: #000000; text-decoration-color: #000000; font-weight: bold\">)</span><span style=\"color: #000000; text-decoration-color: #000000\">, </span><span style=\"color: #800080; text-decoration-color: #800080; font-weight: bold\">Comparison</span><span style=\"color: #000000; text-decoration-color: #000000; font-weight: bold\">(</span><span style=\"color: #808000; text-decoration-color: #808000\">comparator</span><span style=\"color: #000000; text-decoration-color: #000000\">=&lt;Comparator.LTE: </span><span style=\"color: #008000; text-decoration-color: #008000\">'lte'</span><span style=\"color: #000000; text-decoration-color: #000000\">&gt;, </span><span style=\"color: #808000; text-decoration-color: #808000\">attribute</span><span style=\"color: #000000; text-decoration-color: #000000\">=</span><span style=\"color: #008000; text-decoration-color: #008000\">'year'</span><span style=\"color: #000000; text-decoration-color: #000000\">, </span>      <span style=\"color: #7f7f7f; text-decoration-color: #7f7f7f\">           </span>\n",
       "<span style=\"color: #7fbfbf; text-decoration-color: #7fbfbf\">           </span>         <span style=\"color: #808000; text-decoration-color: #808000\">value</span><span style=\"color: #000000; text-decoration-color: #000000\">=</span><span style=\"color: #008080; text-decoration-color: #008080; font-weight: bold\">2005</span><span style=\"color: #000000; text-decoration-color: #000000; font-weight: bold\">)])</span><span style=\"color: #000000; text-decoration-color: #000000\">, </span><span style=\"color: #800080; text-decoration-color: #800080; font-weight: bold\">Comparison</span><span style=\"color: #000000; text-decoration-color: #000000; font-weight: bold\">(</span><span style=\"color: #808000; text-decoration-color: #808000\">comparator</span><span style=\"color: #000000; text-decoration-color: #000000\">=&lt;Comparator.LIKE: </span><span style=\"color: #008000; text-decoration-color: #008000\">'like'</span><span style=\"font-weight: bold\">&gt;</span>, <span style=\"color: #808000; text-decoration-color: #808000\">attribute</span>=<span style=\"color: #008000; text-decoration-color: #008000\">'genre'</span>,  <span style=\"color: #7f7f7f; text-decoration-color: #7f7f7f\">           </span>\n",
       "<span style=\"color: #7fbfbf; text-decoration-color: #7fbfbf\">           </span>         <span style=\"color: #808000; text-decoration-color: #808000\">value</span>=<span style=\"color: #008000; text-decoration-color: #008000\">'animated'</span><span style=\"font-weight: bold\">)])</span> <span style=\"color: #808000; text-decoration-color: #808000\">limit</span>=<span style=\"color: #800080; text-decoration-color: #800080; font-style: italic\">None</span>                                                      <span style=\"color: #7f7f7f; text-decoration-color: #7f7f7f\">           </span>\n",
       "</pre>\n"
      ],
      "text/plain": [
       "\u001b[2;36m[00:56:00]\u001b[0m\u001b[2;36m \u001b[0m\u001b[34mINFO    \u001b[0m Generated Query: \u001b[33mquery\u001b[0m=\u001b[32m'toys'\u001b[0m \u001b[33mfilter\u001b[0m=\u001b[1;35mOperation\u001b[0m\u001b[1m(\u001b[0m\u001b[33moperator\u001b[0m=\u001b[1m<\u001b[0m\u001b[1;95mOperator.AND:\u001b[0m\u001b[39m \u001b[0m\u001b[32m'and'\u001b[0m\u001b[39m>, \u001b[0m     \u001b]8;id=471441;file://e:\\Projects\\AI-Maven\\AIE3\\.venv\\Lib\\site-packages\\langchain\\retrievers\\self_query\\base.py\u001b\\\u001b[2mbase.py\u001b[0m\u001b]8;;\u001b\\\u001b[2m:\u001b[0m\u001b]8;id=681531;file://e:\\Projects\\AI-Maven\\AIE3\\.venv\\Lib\\site-packages\\langchain\\retrievers\\self_query\\base.py#267\u001b\\\u001b[2m267\u001b[0m\u001b]8;;\u001b\\\n",
       "\u001b[2;36m           \u001b[0m         \u001b[33marguments\u001b[0m\u001b[39m=\u001b[0m\u001b[1;39m[\u001b[0m\u001b[1;35mOperation\u001b[0m\u001b[1;39m(\u001b[0m\u001b[33moperator\u001b[0m\u001b[39m=<Operator.AND: \u001b[0m\u001b[32m'and'\u001b[0m\u001b[39m>, \u001b[0m                               \u001b[2m           \u001b[0m\n",
       "\u001b[2;36m           \u001b[0m         \u001b[33marguments\u001b[0m\u001b[39m=\u001b[0m\u001b[1;39m[\u001b[0m\u001b[1;35mComparison\u001b[0m\u001b[1;39m(\u001b[0m\u001b[33mcomparator\u001b[0m\u001b[39m=<Comparator.GTE: \u001b[0m\u001b[32m'gte'\u001b[0m\u001b[39m>, \u001b[0m\u001b[33mattribute\u001b[0m\u001b[39m=\u001b[0m\u001b[32m'year'\u001b[0m\u001b[39m, \u001b[0m        \u001b[2m           \u001b[0m\n",
       "\u001b[2;36m           \u001b[0m         \u001b[33mvalue\u001b[0m\u001b[39m=\u001b[0m\u001b[1;36m1990\u001b[0m\u001b[1;39m)\u001b[0m\u001b[39m, \u001b[0m\u001b[1;35mComparison\u001b[0m\u001b[1;39m(\u001b[0m\u001b[33mcomparator\u001b[0m\u001b[39m=<Comparator.LTE: \u001b[0m\u001b[32m'lte'\u001b[0m\u001b[39m>, \u001b[0m\u001b[33mattribute\u001b[0m\u001b[39m=\u001b[0m\u001b[32m'year'\u001b[0m\u001b[39m, \u001b[0m      \u001b[2m           \u001b[0m\n",
       "\u001b[2;36m           \u001b[0m         \u001b[33mvalue\u001b[0m\u001b[39m=\u001b[0m\u001b[1;36m2005\u001b[0m\u001b[1;39m)\u001b[0m\u001b[1;39m]\u001b[0m\u001b[1;39m)\u001b[0m\u001b[39m, \u001b[0m\u001b[1;35mComparison\u001b[0m\u001b[1;39m(\u001b[0m\u001b[33mcomparator\u001b[0m\u001b[39m=<Comparator.LIKE: \u001b[0m\u001b[32m'like'\u001b[0m\u001b[1m>\u001b[0m, \u001b[33mattribute\u001b[0m=\u001b[32m'genre'\u001b[0m,  \u001b[2m           \u001b[0m\n",
       "\u001b[2;36m           \u001b[0m         \u001b[33mvalue\u001b[0m=\u001b[32m'animated'\u001b[0m\u001b[1m)\u001b[0m\u001b[1m]\u001b[0m\u001b[1m)\u001b[0m \u001b[33mlimit\u001b[0m=\u001b[3;35mNone\u001b[0m                                                      \u001b[2m           \u001b[0m\n"
      ]
     },
     "metadata": {},
     "output_type": "display_data"
    },
    {
     "data": {
      "text/html": [
       "<pre style=\"white-space:pre;overflow-x:auto;line-height:normal;font-family:Menlo,'DejaVu Sans Mono',consolas,'Courier New',monospace\"></pre>\n"
      ],
      "text/plain": []
     },
     "metadata": {},
     "output_type": "display_data"
    },
    {
     "data": {
      "text/plain": [
       "\n",
       "\u001b[1m[\u001b[0m\n",
       "    \u001b[1;35mDocument\u001b[0m\u001b[1m(\u001b[0m\n",
       "        \u001b[33mpage_content\u001b[0m=\u001b[32m'Toys come alive and have a blast doing so'\u001b[0m,\n",
       "        \u001b[33mmetadata\u001b[0m=\u001b[1m{\u001b[0m\u001b[32m'year'\u001b[0m: \u001b[1;36m1995\u001b[0m, \u001b[32m'genre'\u001b[0m: \u001b[32m'animated'\u001b[0m\u001b[1m}\u001b[0m\n",
       "    \u001b[1m)\u001b[0m\n",
       "\u001b[1m]\u001b[0m"
      ]
     },
     "execution_count": 12,
     "metadata": {},
     "output_type": "execute_result"
    }
   ],
   "source": [
    "# This example specifies a query and composite filter\n",
    "retriever.invoke(\n",
    "    \"What's a movie after 1990 but before (or on) 2005 that's all about toys, and preferably is animated\"\n",
    ")\n"
   ]
  },
  {
   "cell_type": "code",
   "execution_count": null,
   "metadata": {},
   "outputs": [],
   "source": []
  }
 ],
 "metadata": {
  "kernelspec": {
   "display_name": ".venv",
   "language": "python",
   "name": "python3"
  },
  "language_info": {
   "codemirror_mode": {
    "name": "ipython",
    "version": 3
   },
   "file_extension": ".py",
   "mimetype": "text/x-python",
   "name": "python",
   "nbconvert_exporter": "python",
   "pygments_lexer": "ipython3",
   "version": "3.11.0"
  }
 },
 "nbformat": 4,
 "nbformat_minor": 2
}
