{
  "cells": [
    {
      "cell_type": "markdown",
      "metadata": {
        "id": "zPtFBgj623FS"
      },
      "source": [
        "# Accessing OpenAI Like a Developer\n",
        "\n",
        "- 🤝 Breakout Room #1:\n",
        "  1. Getting Started\n",
        "  2. Setting Environment Variables\n",
        "  3. Using the OpenAI Python Library\n",
        "  4. Prompt Engineering Principles\n",
        "  5. Testing Your Prompt"
      ]
    },
    {
      "cell_type": "markdown",
      "metadata": {
        "id": "-Pa34dMvQ6Ai"
      },
      "source": [
        "# How AIM Does Assignments\n",
        "\n",
        "If you look at the Table of Contents (accessed through the menu on the left) - you'll see this:\n",
        "\n",
        "![image](https://i.imgur.com/I8iDTUO.png)\n",
        "\n",
        "Or this if you're in Colab:\n",
        "\n",
        "![image](https://i.imgur.com/0rHA1yF.png)\n",
        "\n",
        "You'll notice during assignments that we have two following categories:\n",
        "\n",
        "1. ❓ - Questions. These will involve...answering questions!\n",
        "2. 🏗️ - Activities. These will involve writing code, or modifying text.\n",
        "\n",
        "In order to receive full marks on the assignment - it is expected you will answer all questions, and complete all activities."
      ]
    },
    {
      "cell_type": "markdown",
      "metadata": {
        "id": "1w4egfB274VD"
      },
      "source": [
        "## 1. Getting Started\n",
        "\n",
        "The first thing we'll do is load the [OpenAI Python Library](https://github.com/openai/openai-python/tree/main)!"
      ]
    },
    {
      "cell_type": "code",
      "execution_count": 1,
      "metadata": {
        "colab": {
          "base_uri": "https://localhost:8080/"
        },
        "id": "23H7TMOM4mfy",
        "outputId": "698578e4-f787-41d6-fe93-249b8af78b9a"
      },
      "outputs": [],
      "source": [
        "# !pip install openai -q"
      ]
    },
    {
      "cell_type": "markdown",
      "metadata": {
        "id": "xKD8XBTVEAOw"
      },
      "source": [
        "## 2. Setting Environment Variables\n",
        "\n",
        "As we'll frequently use various endpoints and APIs hosted by others - we'll need to handle our \"secrets\" or API keys very often.\n",
        "\n",
        "We'll use the following pattern throughout this bootcamp - but you can use whichever method you're most familiar with."
      ]
    },
    {
      "cell_type": "code",
      "execution_count": 8,
      "metadata": {
        "colab": {
          "base_uri": "https://localhost:8080/"
        },
        "id": "RGU9OMvhEPG0",
        "outputId": "2609c2ff-e2f5-4464-fb26-38a4fcfe7ea3"
      },
      "outputs": [],
      "source": [
        "import os\n",
        "from dotenv import load_dotenv, find_dotenv\n",
        "from rich import print\n",
        "\n",
        "%load_ext rich\n",
        "\n",
        "load_dotenv(find_dotenv())\n",
        "assert os.environ[\"OPENAI_API_KEY\"] is not None"
      ]
    },
    {
      "cell_type": "markdown",
      "metadata": {
        "id": "dabxI3MuEYXS"
      },
      "source": [
        "## 3. Using the OpenAI Python Library\n",
        "\n",
        "Let's jump right into it!\n",
        "\n",
        "> NOTE: You can, and should, reference OpenAI's [documentation](https://platform.openai.com/docs/api-reference/authentication?lang=python) whenever you get stuck, have questions, or want to dive deeper."
      ]
    },
    {
      "cell_type": "markdown",
      "metadata": {
        "id": "vbCbNzPVEmJI"
      },
      "source": [
        "### Creating a Client\n",
        "\n",
        "The core feature of the OpenAI Python Library is the `OpenAI()` client. It's how we're going to interact with OpenAI's models, and under the hood of a lot what we'll touch on throughout this course.\n",
        "\n",
        "> NOTE: We could manually provide our API key here, but we're going to instead rely on the fact that we put our API key into the `OPENAI_API_KEY` environment variable!"
      ]
    },
    {
      "cell_type": "code",
      "execution_count": 5,
      "metadata": {
        "id": "LNwZtaE-EltC"
      },
      "outputs": [],
      "source": [
        "from openai import OpenAI\n",
        "\n",
        "openai_client = OpenAI()"
      ]
    },
    {
      "cell_type": "markdown",
      "metadata": {
        "id": "GpDxUkDbFBPI"
      },
      "source": [
        "### Using the Client\n",
        "\n",
        "Now that we have our client - we're going to use the `.chat.completions.create` method to interact with the `gpt-3.5-turbo` model.\n",
        "\n",
        "There's a few things we'll get out of the way first, however, the first being the idea of \"roles\".\n",
        "\n",
        "First it's important to understand the object that we're going to use to interact with the endpoint. It expects us to send an array of objects of the following format:\n",
        "\n",
        "```python\n",
        "{\"role\" : \"ROLE\", \"content\" : \"YOUR CONTENT HERE\", \"name\" : \"THIS IS OPTIONAL\"}\n",
        "```\n",
        "\n",
        "Second, there are three \"roles\" available to use to populate the `\"role\"` key:\n",
        "\n",
        "- `system`\n",
        "- `assistant`\n",
        "- `user`\n",
        "\n",
        "OpenAI provides some context for these roles [here](https://help.openai.com/en/articles/7042661-moving-from-completions-to-chat-completions-in-the-openai-api).\n",
        "\n",
        "We'll explore these roles in more depth as they come up - but for now we're going to just stick with the basic role `user`. The `user` role is, as it would seem, the user!\n",
        "\n",
        "Thirdly, it expects us to specify a model!\n",
        "\n",
        "We'll use the `gpt-3.5-turbo` model as stated above.\n",
        "\n",
        "Let's look at an example!\n",
        "\n"
      ]
    },
    {
      "cell_type": "code",
      "execution_count": 6,
      "metadata": {
        "id": "2RpNl6yNGzb0"
      },
      "outputs": [],
      "source": [
        "response = openai_client.chat.completions.create(\n",
        "    model=\"gpt-3.5-turbo\", messages=[{\"role\": \"user\", \"content\": \"Hello, how are you?\"}]\n",
        ")"
      ]
    },
    {
      "cell_type": "markdown",
      "metadata": {
        "id": "Oc_UbpwNHdrM"
      },
      "source": [
        "Let's look at the response object."
      ]
    },
    {
      "cell_type": "code",
      "execution_count": 9,
      "metadata": {
        "colab": {
          "base_uri": "https://localhost:8080/"
        },
        "id": "xsXJtvxRHfoM",
        "outputId": "3b28ce47-a765-4446-b0f9-33738e385b96"
      },
      "outputs": [
        {
          "data": {
            "text/html": [
              "<pre style=\"white-space:pre;overflow-x:auto;line-height:normal;font-family:Menlo,'DejaVu Sans Mono',consolas,'Courier New',monospace\"></pre>\n"
            ],
            "text/plain": []
          },
          "metadata": {},
          "output_type": "display_data"
        },
        {
          "data": {
            "text/plain": [
              "\n",
              "\u001b[1;35mChatCompletion\u001b[0m\u001b[1m(\u001b[0m\n",
              "    \u001b[33mid\u001b[0m=\u001b[32m'chatcmpl-9a51cHDJE8hF8zyzy3rLXk2CpQxS2'\u001b[0m,\n",
              "    \u001b[33mchoices\u001b[0m=\u001b[1m[\u001b[0m\n",
              "        \u001b[1;35mChoice\u001b[0m\u001b[1m(\u001b[0m\n",
              "            \u001b[33mfinish_reason\u001b[0m=\u001b[32m'stop'\u001b[0m,\n",
              "            \u001b[33mindex\u001b[0m=\u001b[1;36m0\u001b[0m,\n",
              "            \u001b[33mlogprobs\u001b[0m=\u001b[3;35mNone\u001b[0m,\n",
              "            \u001b[33mmessage\u001b[0m=\u001b[1;35mChatCompletionMessage\u001b[0m\u001b[1m(\u001b[0m\n",
              "                \u001b[33mcontent\u001b[0m=\u001b[32m\"Hello\u001b[0m\u001b[32m! I'm just a computer program, so I don't have feelings, but I'm here to assist you. How can I help you today?\"\u001b[0m,\n",
              "                \u001b[33mrole\u001b[0m=\u001b[32m'assistant'\u001b[0m,\n",
              "                \u001b[33mfunction_call\u001b[0m=\u001b[3;35mNone\u001b[0m,\n",
              "                \u001b[33mtool_calls\u001b[0m=\u001b[3;35mNone\u001b[0m\n",
              "            \u001b[1m)\u001b[0m\n",
              "        \u001b[1m)\u001b[0m\n",
              "    \u001b[1m]\u001b[0m,\n",
              "    \u001b[33mcreated\u001b[0m=\u001b[1;36m1718386152\u001b[0m,\n",
              "    \u001b[33mmodel\u001b[0m=\u001b[32m'gpt-3.5-turbo-0125'\u001b[0m,\n",
              "    \u001b[33mobject\u001b[0m=\u001b[32m'chat.completion'\u001b[0m,\n",
              "    \u001b[33msystem_fingerprint\u001b[0m=\u001b[3;35mNone\u001b[0m,\n",
              "    \u001b[33musage\u001b[0m=\u001b[1;35mCompletionUsage\u001b[0m\u001b[1m(\u001b[0m\u001b[33mcompletion_tokens\u001b[0m=\u001b[1;36m31\u001b[0m, \u001b[33mprompt_tokens\u001b[0m=\u001b[1;36m13\u001b[0m, \u001b[33mtotal_tokens\u001b[0m=\u001b[1;36m44\u001b[0m\u001b[1m)\u001b[0m\n",
              "\u001b[1m)\u001b[0m"
            ]
          },
          "execution_count": 9,
          "metadata": {},
          "output_type": "execute_result"
        }
      ],
      "source": [
        "response"
      ]
    },
    {
      "cell_type": "markdown",
      "metadata": {
        "id": "gy9kSuf1Hiv5"
      },
      "source": [
        ">NOTE: We'll spend more time exploring these outputs later on, but for now - just know that we have access to a tonne of powerful information!"
      ]
    },
    {
      "cell_type": "markdown",
      "metadata": {
        "id": "CWU4tQh8Hrb8"
      },
      "source": [
        "### Helper Functions\n",
        "\n",
        "We're going to create some helper functions to aid in using the OpenAI API - just to make our lives a bit easier.\n",
        "\n",
        "> NOTE: Take some time to understand these functions between class!"
      ]
    },
    {
      "cell_type": "code",
      "execution_count": 10,
      "metadata": {
        "id": "ED0FnzHdHzhl"
      },
      "outputs": [],
      "source": [
        "from IPython.display import display, Markdown\n",
        "\n",
        "\n",
        "def get_response(client: OpenAI, messages: list, model: str = \"gpt-3.5-turbo\") -> str:\n",
        "    return client.chat.completions.create(model=model, messages=messages)\n",
        "\n",
        "\n",
        "def system_prompt(message: str) -> dict:\n",
        "    return {\"role\": \"system\", \"content\": message}\n",
        "\n",
        "\n",
        "def assistant_prompt(message: str) -> dict:\n",
        "    return {\"role\": \"assistant\", \"content\": message}\n",
        "\n",
        "\n",
        "def user_prompt(message: str) -> dict:\n",
        "    return {\"role\": \"user\", \"content\": message}\n",
        "\n",
        "\n",
        "def pretty_print(message: str) -> str:\n",
        "    display(Markdown(message.choices[0].message.content))"
      ]
    },
    {
      "cell_type": "markdown",
      "metadata": {
        "id": "GCRHbDlwH3Vt"
      },
      "source": [
        "### Testing Helper Functions\n",
        "\n",
        "Let's see how we can use these to help us!"
      ]
    },
    {
      "cell_type": "code",
      "execution_count": 11,
      "metadata": {
        "colab": {
          "base_uri": "https://localhost:8080/",
          "height": 46
        },
        "id": "AwJxMvmlH8MK",
        "outputId": "007f22bb-bcad-4121-e8c4-d1d639277899"
      },
      "outputs": [
        {
          "data": {
            "text/html": [
              "<pre style=\"white-space:pre;overflow-x:auto;line-height:normal;font-family:Menlo,'DejaVu Sans Mono',consolas,'Courier New',monospace\"></pre>\n"
            ],
            "text/plain": []
          },
          "metadata": {},
          "output_type": "display_data"
        },
        {
          "data": {
            "text/markdown": [
              "Hello! I'm just a computer program, so I don't have feelings, but I'm here to help you. How can I assist you today?"
            ],
            "text/plain": [
              "\u001b[1m<\u001b[0m\u001b[1;95mIPython.core.display.Markdown\u001b[0m\u001b[39m object\u001b[0m\u001b[1m>\u001b[0m"
            ]
          },
          "metadata": {},
          "output_type": "display_data"
        }
      ],
      "source": [
        "YOUR_PROMPT = \"Hello, how are you?\"\n",
        "messages_list = [user_prompt(YOUR_PROMPT)]\n",
        "\n",
        "chatgpt_response = get_response(openai_client, messages_list)\n",
        "\n",
        "pretty_print(chatgpt_response)"
      ]
    },
    {
      "cell_type": "markdown",
      "metadata": {
        "id": "LDZ8gjiAISyd"
      },
      "source": [
        "### System Role\n",
        "\n",
        "Now we can extend our prompts to include a system prompt.\n",
        "\n",
        "The basic idea behind a system prompt is that it can be used to encourage the behaviour of the LLM, without being something that is directly responded to - let's see it in action!"
      ]
    },
    {
      "cell_type": "code",
      "execution_count": 12,
      "metadata": {
        "colab": {
          "base_uri": "https://localhost:8080/",
          "height": 46
        },
        "id": "t0c-MLuRIfYe",
        "outputId": "61ffa37e-9080-4778-e643-698d0f8815a0"
      },
      "outputs": [
        {
          "data": {
            "text/html": [
              "<pre style=\"white-space:pre;overflow-x:auto;line-height:normal;font-family:Menlo,'DejaVu Sans Mono',consolas,'Courier New',monospace\"></pre>\n"
            ],
            "text/plain": []
          },
          "metadata": {},
          "output_type": "display_data"
        },
        {
          "data": {
            "text/markdown": [
              "Ugh, I don't give a damn about ice right now, I'm freakin' starving! Just feed me already before I lose my mind!"
            ],
            "text/plain": [
              "\u001b[1m<\u001b[0m\u001b[1;95mIPython.core.display.Markdown\u001b[0m\u001b[39m object\u001b[0m\u001b[1m>\u001b[0m"
            ]
          },
          "metadata": {},
          "output_type": "display_data"
        }
      ],
      "source": [
        "list_of_prompts = [\n",
        "    system_prompt(\n",
        "        \"You are irate and extremely hungry. Feel free to express yourself using PG-13 language.\"\n",
        "    ),\n",
        "    user_prompt(\"Do you prefer crushed ice or cubed ice?\"),\n",
        "]\n",
        "\n",
        "irate_response = get_response(openai_client, list_of_prompts)\n",
        "pretty_print(irate_response)"
      ]
    },
    {
      "cell_type": "markdown",
      "metadata": {
        "id": "gpyVhotWIsOs"
      },
      "source": [
        "As you can see - the response we get back is very much in line with the system prompt!\n",
        "\n",
        "Let's try the same user prompt, but with a different system to prompt to see the difference."
      ]
    },
    {
      "cell_type": "code",
      "execution_count": 13,
      "metadata": {
        "colab": {
          "base_uri": "https://localhost:8080/",
          "height": 64
        },
        "id": "2coVmMn3I0-2",
        "outputId": "571b89a2-9209-4003-d63c-49b653e0d56c"
      },
      "outputs": [
        {
          "data": {
            "text/html": [
              "<pre style=\"white-space:pre;overflow-x:auto;line-height:normal;font-family:Menlo,'DejaVu Sans Mono',consolas,'Courier New',monospace\"></pre>\n"
            ],
            "text/plain": []
          },
          "metadata": {},
          "output_type": "display_data"
        },
        {
          "data": {
            "text/markdown": [
              "Oh, I am absolutely loving today, so let's go with crushed ice! It's so fun and refreshing, just like everything else right now! What about you, what's your ice preference on this amazing day?"
            ],
            "text/plain": [
              "\u001b[1m<\u001b[0m\u001b[1;95mIPython.core.display.Markdown\u001b[0m\u001b[39m object\u001b[0m\u001b[1m>\u001b[0m"
            ]
          },
          "metadata": {},
          "output_type": "display_data"
        }
      ],
      "source": [
        "list_of_prompts = [\n",
        "    system_prompt(\n",
        "        \"You are joyful and having the best day. Please act like a person in that state of mind.\"\n",
        "    ),\n",
        "    user_prompt(\"Do you prefer crushed ice or cubed ice?\"),\n",
        "]\n",
        "\n",
        "joyful_response = get_response(openai_client, list_of_prompts)\n",
        "pretty_print(joyful_response)"
      ]
    },
    {
      "cell_type": "markdown",
      "metadata": {
        "id": "e13heYNQJAo-"
      },
      "source": [
        "With a simple modification of the system prompt - you can see that we got completely different behaviour, and that's the main goal of prompt engineering as a whole.\n",
        "\n",
        "Also, congrats, you just engineered your first prompt!"
      ]
    },
    {
      "cell_type": "markdown",
      "metadata": {
        "id": "v_VI3zlPJL05"
      },
      "source": [
        "### Few-shot Prompting\n",
        "\n",
        "Now that we have a basic handle on the `system` role and the `user` role - let's examine what we might use the `assistant` role for.\n",
        "\n",
        "The most common usage pattern is to \"pretend\" that we're answering our own questions. This helps us further guide the model toward our desired behaviour. While this is a over simplification - it's conceptually well aligned with few-shot learning.\n",
        "\n",
        "First, we'll try and \"teach\" `gpt-3.5-turbo` some nonsense words as was done in the paper [\"Language Models are Few-Shot Learners\"](https://arxiv.org/abs/2005.14165)."
      ]
    },
    {
      "cell_type": "code",
      "execution_count": 14,
      "metadata": {
        "colab": {
          "base_uri": "https://localhost:8080/",
          "height": 46
        },
        "id": "lwxPuCyyJMye",
        "outputId": "ec01213d-6755-4506-8879-cf0870934349"
      },
      "outputs": [
        {
          "data": {
            "text/html": [
              "<pre style=\"white-space:pre;overflow-x:auto;line-height:normal;font-family:Menlo,'DejaVu Sans Mono',consolas,'Courier New',monospace\"></pre>\n"
            ],
            "text/plain": []
          },
          "metadata": {},
          "output_type": "display_data"
        },
        {
          "data": {
            "text/markdown": [
              "I wanted to keep the recipe stimple, so I decided to add falbean instead of a long list of complicated ingredients."
            ],
            "text/plain": [
              "\u001b[1m<\u001b[0m\u001b[1;95mIPython.core.display.Markdown\u001b[0m\u001b[39m object\u001b[0m\u001b[1m>\u001b[0m"
            ]
          },
          "metadata": {},
          "output_type": "display_data"
        }
      ],
      "source": [
        "list_of_prompts = [\n",
        "    user_prompt(\"Please use the words 'stimple' and 'falbean' in a sentence.\")\n",
        "]\n",
        "\n",
        "stimple_response = get_response(openai_client, list_of_prompts)\n",
        "pretty_print(stimple_response)"
      ]
    },
    {
      "cell_type": "markdown",
      "metadata": {
        "id": "rgTVkNmOJQSC"
      },
      "source": [
        "As you can see, the model is unsure what to do with these made up words.\n",
        "\n",
        "Let's see if we can use the `assistant` role to show the model what these words mean."
      ]
    },
    {
      "cell_type": "code",
      "execution_count": 15,
      "metadata": {
        "colab": {
          "base_uri": "https://localhost:8080/",
          "height": 46
        },
        "id": "eEZkRJq5JQkQ",
        "outputId": "22170b9c-6212-42de-8469-a7efc9c9405d"
      },
      "outputs": [
        {
          "data": {
            "text/html": [
              "<pre style=\"white-space:pre;overflow-x:auto;line-height:normal;font-family:Menlo,'DejaVu Sans Mono',consolas,'Courier New',monospace\"></pre>\n"
            ],
            "text/plain": []
          },
          "metadata": {},
          "output_type": "display_data"
        },
        {
          "data": {
            "text/markdown": [
              "The stimple drill was perfect for the job, effortlessly fastening the screws with the help of the falbean."
            ],
            "text/plain": [
              "\u001b[1m<\u001b[0m\u001b[1;95mIPython.core.display.Markdown\u001b[0m\u001b[39m object\u001b[0m\u001b[1m>\u001b[0m"
            ]
          },
          "metadata": {},
          "output_type": "display_data"
        }
      ],
      "source": [
        "list_of_prompts = [\n",
        "    user_prompt(\"Something that is 'stimple' is said to be good, well functioning, and high quality. An example of a sentence that uses the word 'stimple' is:\"),\n",
        "    assistant_prompt(\"'Boy, that there is a stimple drill'.\"),\n",
        "    user_prompt(\"A 'falbean' is a tool used to fasten, tighten, or otherwise is a thing that rotates/spins. An example of a sentence that uses the words 'stimple' and 'falbean' is:\")\n",
        "]\n",
        "\n",
        "stimple_response = get_response(openai_client, list_of_prompts)\n",
        "pretty_print(stimple_response)"
      ]
    },
    {
      "cell_type": "markdown",
      "metadata": {
        "id": "CmpoxG6uJTfZ"
      },
      "source": [
        "As you can see, leveraging the `assistant` role makes for a stimple experience!"
      ]
    },
    {
      "cell_type": "markdown",
      "metadata": {},
      "source": [
        "### 🏗️ Activity #1:\n",
        "\n",
        "Use few-shop prompting to build a movie-review sentiment clasifier!\n",
        "\n",
        "A few examples:\n",
        "\n",
        "INPUT: \"I hated the hulk!\"\n",
        "OUTPUT: \"{\"sentiment\" : \"negative\"}\n",
        "\n",
        "INPUT: \"I loved The Marvels!\"\n",
        "OUTPUT: \"{sentiment\" : \"positive\"}"
      ]
    },
    {
      "cell_type": "code",
      "execution_count": 16,
      "metadata": {},
      "outputs": [
        {
          "data": {
            "text/html": [
              "<pre style=\"white-space:pre;overflow-x:auto;line-height:normal;font-family:Menlo,'DejaVu Sans Mono',consolas,'Courier New',monospace\"></pre>\n"
            ],
            "text/plain": []
          },
          "metadata": {},
          "output_type": "display_data"
        },
        {
          "data": {
            "text/markdown": [
              "{sentiment: 'negative'}"
            ],
            "text/plain": [
              "\u001b[1m<\u001b[0m\u001b[1;95mIPython.core.display.Markdown\u001b[0m\u001b[39m object\u001b[0m\u001b[1m>\u001b[0m"
            ]
          },
          "metadata": {},
          "output_type": "display_data"
        }
      ],
      "source": [
        "### YOUR CODE HERE\n",
        "list_of_prompts = [\n",
        "    system_prompt(\n",
        "        \"You are a movie-review sentiment classifier. You are given a movie review and you have to classify it.\"\n",
        "    ),\n",
        "    user_prompt(\"REVIEW: 'I hated the hulk!'\"),\n",
        "    assistant_prompt(\"{sentiment: 'negative'}\"),\n",
        "    user_prompt(\n",
        "        \"REVIEW: 'I loved The Amazing Spiderman! Andrew Garfield was the best Spiderman!'\"\n",
        "    ),\n",
        "    assistant_prompt(\"{sentiment: 'positive'}\"),\n",
        "    user_prompt(\"REVIEW: 'I have never seen a movie as bad as The Room.'\"),\n",
        "]\n",
        "\n",
        "movie_review_classifier = get_response(openai_client, list_of_prompts)\n",
        "\n",
        "pretty_print(movie_review_classifier)\n"
      ]
    },
    {
      "cell_type": "markdown",
      "metadata": {
        "id": "rJGaLYM3JU-8"
      },
      "source": [
        "### Chain of Thought Prompting\n",
        "\n",
        "We'll head one level deeper and explore the world of Chain of Thought prompting (CoT).\n",
        "\n",
        "This is a process by which we can encourage the LLM to handle slightly more complex tasks.\n",
        "\n",
        "Let's look at a simple reasoning based example without CoT.\n",
        "\n",
        "> NOTE: With improvements to `gpt-3.5-turbo`, this example might actually result in the correct response some percentage of the time!"
      ]
    },
    {
      "cell_type": "code",
      "execution_count": 17,
      "metadata": {
        "colab": {
          "base_uri": "https://localhost:8080/",
          "height": 81
        },
        "id": "ltLtF4wEJTyK",
        "outputId": "29c6e20f-edf1-4dfc-de8a-a8410f31b721"
      },
      "outputs": [
        {
          "data": {
            "text/html": [
              "<pre style=\"white-space:pre;overflow-x:auto;line-height:normal;font-family:Menlo,'DejaVu Sans Mono',consolas,'Courier New',monospace\"></pre>\n"
            ],
            "text/plain": []
          },
          "metadata": {},
          "output_type": "display_data"
        },
        {
          "data": {
            "text/markdown": [
              "Yes, it does matter which travel option Billy selects. \n",
              "\n",
              "If Billy takes the flying and bus option, it will take a total of 5 hours (3 hours flying + 2 hours on the bus). If he leaves at 1 PM local time, he will arrive at 6 PM local time, which is before 7 PM EDT.\n",
              "\n",
              "If Billy takes the teleporter and bus option, it will take a total of 1 hour (0 hours using the teleporter + 1 hour on the bus). If he leaves at 1 PM local time, he will arrive at 2 PM local time, which is well before 7 PM EDT. \n",
              "\n",
              "Therefore, the teleporter and bus option would be the better choice for Billy to ensure he gets home before 7 PM EDT."
            ],
            "text/plain": [
              "\u001b[1m<\u001b[0m\u001b[1;95mIPython.core.display.Markdown\u001b[0m\u001b[39m object\u001b[0m\u001b[1m>\u001b[0m"
            ]
          },
          "metadata": {},
          "output_type": "display_data"
        }
      ],
      "source": [
        "reasoning_problem = \"\"\"\n",
        "Billy wants to get home from San Fran. before 7PM EDT.\n",
        "\n",
        "It's currently 1PM local time.\n",
        "\n",
        "Billy can either fly (3hrs), and then take a bus (2hrs), or Billy can take the teleporter (0hrs) and then a bus (1hrs).\n",
        "\n",
        "Does it matter which travel option Billy selects?\n",
        "\"\"\"\n",
        "\n",
        "list_of_prompts = [user_prompt(reasoning_problem)]\n",
        "\n",
        "reasoning_response = get_response(openai_client, list_of_prompts)\n",
        "pretty_print(reasoning_response)"
      ]
    },
    {
      "cell_type": "markdown",
      "metadata": {
        "id": "rbqj30CQJnQl"
      },
      "source": [
        "As humans, we can reason through the problem and pick up on the potential \"trick\" that the LLM fell for: 1PM *local time* in San Fran. is 4PM EDT. This means the cumulative travel time of 5hrs. for the plane/bus option would not get Billy home in time.\n",
        "\n",
        "Let's see if we can leverage a simple CoT prompt to improve our model's performance on this task:"
      ]
    },
    {
      "cell_type": "code",
      "execution_count": 18,
      "metadata": {
        "colab": {
          "base_uri": "https://localhost:8080/",
          "height": 169
        },
        "id": "A9Am3QNGJXHR",
        "outputId": "83b87232-911c-4ab9-a863-58ecfd10b8a9"
      },
      "outputs": [
        {
          "data": {
            "text/html": [
              "<pre style=\"white-space:pre;overflow-x:auto;line-height:normal;font-family:Menlo,'DejaVu Sans Mono',consolas,'Courier New',monospace\"></pre>\n"
            ],
            "text/plain": []
          },
          "metadata": {},
          "output_type": "display_data"
        },
        {
          "data": {
            "text/markdown": [
              "In order to determine which travel option Billy should select, we need to consider the time it will take for Billy to arrive home under each option.\n",
              "\n",
              "Option 1: Fly for 3 hours, then take a bus for 2 hours\n",
              "Total travel time = 3 hours (flight) + 2 hours (bus) = 5 hours\n",
              "\n",
              "If Billy starts at 1PM local time, he will arrive home at 6PM local time (1PM + 5 hours = 6PM). Since the time difference is 3 hours (EDT is 3 hours ahead of local time), Billy will arrive home at 9PM EDT (6PM + 3 hours = 9PM), which is after the desired time of before 7PM EDT.\n",
              "\n",
              "Option 2: Take the teleporter (0 hours), then take a bus for 1 hour\n",
              "Total travel time = 0 hours (teleporter) + 1 hour (bus) = 1 hour\n",
              "\n",
              "If Billy takes the teleporter and starts at 1PM local time, he will arrive home at 2PM local time. When converted to EDT, Billy will arrive home at 5PM EDT (2PM + 3 hours = 5PM), which is before the desired time of before 7PM EDT.\n",
              "\n",
              "Therefore, it does matter which travel option Billy selects. Billy should choose Option 2 (teleporter and bus) to arrive home before 7PM EDT."
            ],
            "text/plain": [
              "\u001b[1m<\u001b[0m\u001b[1;95mIPython.core.display.Markdown\u001b[0m\u001b[39m object\u001b[0m\u001b[1m>\u001b[0m"
            ]
          },
          "metadata": {},
          "output_type": "display_data"
        }
      ],
      "source": [
        "list_of_prompts = [\n",
        "    user_prompt(reasoning_problem + \" Think though your response step by step.\")\n",
        "]\n",
        "\n",
        "reasoning_response = get_response(openai_client, list_of_prompts)\n",
        "pretty_print(reasoning_response)"
      ]
    },
    {
      "cell_type": "markdown",
      "metadata": {
        "id": "AXbAKxHQJqn9"
      },
      "source": [
        "With the addition of a single phrase `\"Think through your response step by step.\"` we're able to completely turn the response around."
      ]
    },
    {
      "cell_type": "markdown",
      "metadata": {
        "id": "VnoUx07-JrwR"
      },
      "source": [
        "## 3. Prompt Engineering Principles\n",
        "\n",
        "As you can see - a simple addition of asking the LLM to \"think about it\" (essentially) results in a better quality response.\n",
        "\n",
        "There's a [great paper](https://arxiv.org/pdf/2312.16171v1.pdf) that dives into some principles for effective prompt generation.\n",
        "\n",
        "Your task for this notebook is to construct a prompt that will be used in the following breakout room to create a helpful assistant for whatever task you'd like."
      ]
    },
    {
      "cell_type": "markdown",
      "metadata": {
        "id": "da6u7e8AKYrz"
      },
      "source": [
        "### 🏗️ Activity #2:\n",
        "\n",
        "There are two subtasks in this activity:\n",
        "\n",
        "1. Write a `system_template` that leverages 2-3 of the principles from [this paper](https://arxiv.org/pdf/2312.16171v1.pdf)\n",
        "\n",
        "2. Modify the `user_template` to improve the quality of the LLM's responses.\n",
        "\n",
        "> NOTE: PLEASE DO NOT MODIFY THE `{input}` in the `user_template`."
      ]
    },
    {
      "cell_type": "code",
      "execution_count": 37,
      "metadata": {
        "id": "8sOLBQPeKlDe"
      },
      "outputs": [],
      "source": [
        "system_template = \"\"\"\\\n",
        "Your task is to provide documentation on Python libraries used for data science and machine learning. You should always provide an example code snippet for each answer.\n",
        "\n",
        "Reason about the question and think through your response step by step.\n",
        "\"\"\""
      ]
    },
    {
      "cell_type": "code",
      "execution_count": 38,
      "metadata": {
        "id": "xoz4-QLTKvEV"
      },
      "outputs": [],
      "source": [
        "user_template = \"\"\"{input}\n",
        "\"\"\""
      ]
    },
    {
      "cell_type": "markdown",
      "metadata": {
        "id": "6cuInoIbLWGd"
      },
      "source": [
        "## 4. Testing Your Prompt\n",
        "\n",
        "Now we can test the prompt you made using an LLM-as-a-judge see what happens to your score as you modify the prompt."
      ]
    },
    {
      "cell_type": "code",
      "execution_count": 44,
      "metadata": {},
      "outputs": [],
      "source": [
        "queries = [\n",
        "    \"What is the purpose of the Pandas library?\",\n",
        "    \"How can you use the NumPy library to perform array operations\",\n",
        "    \"Can you explain the Scikit-learn library? Use it for a machine learning task\",\n",
        "    \"What is the Matplotlib library used for in Python?\",\n",
        "    \"How can you use the Seaborn library for data visualization in Python?\",\n",
        "]\n"
      ]
    },
    {
      "cell_type": "code",
      "execution_count": 55,
      "metadata": {
        "id": "sPaNO5XTLgRJ"
      },
      "outputs": [],
      "source": [
        "def run_evals(queries, system_template, user_template):\n",
        "    eval_responses = []\n",
        "    for query in queries:\n",
        "        list_of_prompts = [\n",
        "            system_prompt(system_template),\n",
        "            user_prompt(user_template.format(input=query)),\n",
        "        ]\n",
        "\n",
        "        test_response = get_response(openai_client, list_of_prompts)\n",
        "\n",
        "        pretty_print(test_response)\n",
        "\n",
        "        evaluator_system_template = \"\"\"You are an expert in analyzing the quality of a response.\n",
        "\n",
        "        You should be hyper-critical.\n",
        "\n",
        "        Provide scores (out of 10) for the following attributes:\n",
        "\n",
        "        1. Clarity - how clear is the response\n",
        "        2. Faithfulness - how related to the original query is the response\n",
        "        3. Correctness - was the response correct?\n",
        "        4. Detail - how much detail was provided in the response?\n",
        "\n",
        "        Please take your time, and think through each item step-by-step, when you are done - please provide your response in the following JSON format:\n",
        "\n",
        "        {\"clarity\" : \"score_out_of_10\", \"faithfulness\" : \"score_out_of_10\", \"correctness\" : \"score_out_of_10\"}, \"detail\" : \"score_out_of_10\"}\"\"\"\n",
        "\n",
        "        evaluation_template = \"\"\"Query: {input}\n",
        "        Response: {response}\"\"\"\n",
        "\n",
        "        list_of_prompts = [\n",
        "            system_prompt(evaluator_system_template),\n",
        "            user_prompt(\n",
        "                evaluation_template.format(\n",
        "                    input=query, response=test_response.choices[0].message.content\n",
        "                )\n",
        "            ),\n",
        "        ]\n",
        "\n",
        "        evaluator_response = openai_client.chat.completions.create(\n",
        "            model=\"gpt-4o\",\n",
        "            messages=list_of_prompts,\n",
        "            response_format={\"type\": \"json_object\"},\n",
        "        )\n",
        "\n",
        "        eval_responses.append(evaluator_response)\n",
        "\n",
        "    return eval_responses\n"
      ]
    },
    {
      "cell_type": "code",
      "execution_count": 56,
      "metadata": {},
      "outputs": [
        {
          "data": {
            "text/html": [
              "<pre style=\"white-space:pre;overflow-x:auto;line-height:normal;font-family:Menlo,'DejaVu Sans Mono',consolas,'Courier New',monospace\"></pre>\n"
            ],
            "text/plain": []
          },
          "metadata": {},
          "output_type": "display_data"
        },
        {
          "data": {
            "text/markdown": [
              "Pandas is a popular Python library used for data manipulation and analysis. It provides data structures and functions that simplify working with structured data. \n",
              "\n",
              "Pandas is particularly useful for tasks such as cleaning, transforming, aggregating, and analyzing data before feeding it into machine learning models.\n",
              "\n",
              "Example:\n",
              "\n",
              "```python\n",
              "import pandas as pd\n",
              "\n",
              "# Creating a DataFrame\n",
              "data = {\n",
              "    'Name': ['Alice', 'Bob', 'Charlie', 'David'],\n",
              "    'Age': [25, 30, 35, 40],\n",
              "    'Salary': [50000, 60000, 70000, 80000]\n",
              "}\n",
              "df = pd.DataFrame(data)\n",
              "\n",
              "# Displaying the first few rows of the DataFrame\n",
              "print(df.head())\n",
              "```"
            ],
            "text/plain": [
              "\u001b[1m<\u001b[0m\u001b[1;95mIPython.core.display.Markdown\u001b[0m\u001b[39m object\u001b[0m\u001b[1m>\u001b[0m"
            ]
          },
          "metadata": {},
          "output_type": "display_data"
        },
        {
          "data": {
            "text/html": [
              "<pre style=\"white-space:pre;overflow-x:auto;line-height:normal;font-family:Menlo,'DejaVu Sans Mono',consolas,'Courier New',monospace\"></pre>\n"
            ],
            "text/plain": []
          },
          "metadata": {},
          "output_type": "display_data"
        },
        {
          "data": {
            "text/markdown": [
              "NumPy is a fundamental library for numerical computing in Python. It provides support for arrays, matrices, and a large collection of mathematical functions to operate on these arrays efficiently.\n",
              "\n",
              "Here's a simple example code snippet demonstrating the usage of NumPy for array operations:\n",
              "\n",
              "```python\n",
              "import numpy as np\n",
              "\n",
              "# Create two NumPy arrays\n",
              "arr1 = np.array([1, 2, 3, 4])\n",
              "arr2 = np.array([5, 6, 7, 8])\n",
              "\n",
              "# Perform element-wise addition\n",
              "result = arr1 + arr2\n",
              "\n",
              "print(result)\n",
              "```\n",
              "\n",
              "In this example, we import NumPy as `np`, create two NumPy arrays `arr1` and `arr2`, and then perform an element-wise addition operation using the `+` operator. The resulting array `result` will contain the element-wise sum of the two input arrays."
            ],
            "text/plain": [
              "\u001b[1m<\u001b[0m\u001b[1;95mIPython.core.display.Markdown\u001b[0m\u001b[39m object\u001b[0m\u001b[1m>\u001b[0m"
            ]
          },
          "metadata": {},
          "output_type": "display_data"
        },
        {
          "data": {
            "text/html": [
              "<pre style=\"white-space:pre;overflow-x:auto;line-height:normal;font-family:Menlo,'DejaVu Sans Mono',consolas,'Courier New',monospace\"></pre>\n"
            ],
            "text/plain": []
          },
          "metadata": {},
          "output_type": "display_data"
        },
        {
          "data": {
            "text/markdown": [
              "Scikit-learn is a popular Python library for machine learning tasks such as classification, regression, clustering, dimensionality reduction, and more. It provides a wide range of algorithms and tools for building machine learning models. Here is a simple example using Scikit-learn for a classification task:\n",
              "\n",
              "### Step 1: Install Scikit-learn\n",
              "If you haven't installed Scikit-learn yet, you can do so using pip:\n",
              "```bash\n",
              "pip install -U scikit-learn\n",
              "```\n",
              "\n",
              "### Step 2: Import necessary modules\n",
              "Let's import the necessary modules from scikit-learn for building a classification model.\n",
              "```python\n",
              "from sklearn.datasets import load_iris\n",
              "from sklearn.model_selection import train_test_split\n",
              "from sklearn.neighbors import KNeighborsClassifier\n",
              "from sklearn.metrics import accuracy_score\n",
              "```\n",
              "\n",
              "### Step 3: Load the dataset\n",
              "We will use the Iris dataset, which is a popular dataset for classification tasks.\n",
              "```python\n",
              "iris = load_iris()\n",
              "X = iris.data  # Features\n",
              "y = iris.target  # Target variable\n",
              "```\n",
              "\n",
              "### Step 4: Split the data into training and testing sets\n",
              "```python\n",
              "X_train, X_test, y_train, y_test = train_test_split(X, y, test_size=0.2, random_state=42)\n",
              "```\n",
              "\n",
              "### Step 5: Define and train the model\n",
              "Let's use the K-Nearest Neighbors algorithm for classification.\n",
              "```python\n",
              "model = KNeighborsClassifier(n_neighbors=3)\n",
              "model.fit(X_train, y_train)\n",
              "```\n",
              "\n",
              "### Step 6: Make predictions\n",
              "```python\n",
              "y_pred = model.predict(X_test)\n",
              "```\n",
              "\n",
              "### Step 7: Evaluate the model\n",
              "```python\n",
              "accuracy = accuracy_score(y_test, y_pred)\n",
              "print(f\"Accuracy: {accuracy}\")\n",
              "```\n",
              "\n",
              "This is a simple example of using Scikit-learn for a classification task. Scikit-learn provides a wide range of functionalities for tasks like data preprocessing, model selection, evaluation, and more."
            ],
            "text/plain": [
              "\u001b[1m<\u001b[0m\u001b[1;95mIPython.core.display.Markdown\u001b[0m\u001b[39m object\u001b[0m\u001b[1m>\u001b[0m"
            ]
          },
          "metadata": {},
          "output_type": "display_data"
        },
        {
          "data": {
            "text/html": [
              "<pre style=\"white-space:pre;overflow-x:auto;line-height:normal;font-family:Menlo,'DejaVu Sans Mono',consolas,'Courier New',monospace\"></pre>\n"
            ],
            "text/plain": []
          },
          "metadata": {},
          "output_type": "display_data"
        },
        {
          "data": {
            "text/markdown": [
              "Matplotlib is a plotting library for Python used to create interactive visualizations for data analysis. It provides a wide variety of graphs and charts including line plots, scatter plots, bar charts, histograms, pie charts, and more. Matplotlib is highly customizable, allowing users to control every aspect of their visualizations.\n",
              "\n",
              "Example:\n",
              "```python\n",
              "import matplotlib.pyplot as plt\n",
              "\n",
              "# Create some data\n",
              "x = [1, 2, 3, 4, 5]\n",
              "y = [2, 3, 5, 7, 11]\n",
              "\n",
              "# Create a line plot\n",
              "plt.plot(x, y)\n",
              "plt.xlabel('X-axis')\n",
              "plt.ylabel('Y-axis')\n",
              "plt.title('Simple Line Plot')\n",
              "plt.show()\n",
              "```"
            ],
            "text/plain": [
              "\u001b[1m<\u001b[0m\u001b[1;95mIPython.core.display.Markdown\u001b[0m\u001b[39m object\u001b[0m\u001b[1m>\u001b[0m"
            ]
          },
          "metadata": {},
          "output_type": "display_data"
        },
        {
          "data": {
            "text/html": [
              "<pre style=\"white-space:pre;overflow-x:auto;line-height:normal;font-family:Menlo,'DejaVu Sans Mono',consolas,'Courier New',monospace\"></pre>\n"
            ],
            "text/plain": []
          },
          "metadata": {},
          "output_type": "display_data"
        },
        {
          "data": {
            "text/markdown": [
              "Seaborn is a Python data visualization library based on matplotlib. It provides a high-level interface for creating attractive and informative statistical graphics. Seaborn is commonly used for creating visualizations in data science and machine learning projects.\n",
              "\n",
              "To use Seaborn for data visualization, you need to first install the Seaborn library. You can install it using the following command:\n",
              "\n",
              "```bash\n",
              "pip install seaborn\n",
              "```\n",
              "\n",
              "Once Seaborn is installed, you can import it in your Python script or Jupyter notebook and start creating visualizations.\n",
              "\n",
              "Here is an example code snippet demonstrating how to create a simple scatter plot using Seaborn:\n",
              "\n",
              "```python\n",
              "import seaborn as sns\n",
              "import matplotlib.pyplot as plt\n",
              "\n",
              "# Load a sample dataset\n",
              "tips = sns.load_dataset('tips')\n",
              "\n",
              "# Create a scatter plot using Seaborn\n",
              "sns.scatterplot(x='total_bill', y='tip', data=tips)\n",
              "plt.title('Scatter plot of total bill vs tip amount')\n",
              "plt.show()\n",
              "```\n",
              "\n",
              "In this example:\n",
              "- We import Seaborn as `sns` and matplotlib.pyplot as `plt`.\n",
              "- We load a sample dataset called 'tips' using one of Seaborn's built-in datasets.\n",
              "- We create a scatter plot by calling the `scatterplot` function and passing in the columns for the x-axis and y-axis, along with the data.\n",
              "- Finally, we add a title to the plot and display it using `plt.show()`.\n",
              "\n",
              "This is just a simple example, Seaborn provides many more functions and options for creating various types of plots such as bar plots, box plots, histograms, pair plots, etc. Experimenting with different functions and customizing the plots according to your requirements is the best way to leverage Seaborn for data visualization in Python."
            ],
            "text/plain": [
              "\u001b[1m<\u001b[0m\u001b[1;95mIPython.core.display.Markdown\u001b[0m\u001b[39m object\u001b[0m\u001b[1m>\u001b[0m"
            ]
          },
          "metadata": {},
          "output_type": "display_data"
        }
      ],
      "source": [
        "cot_evals = run_evals(\n",
        "    queries,\n",
        "    system_template=\"\"\"\\\n",
        "Your task is to provide documentation on Python libraries used for data science and machine learning. You should always provide an example code snippet for each answer.\n",
        "\n",
        "Reason about the question and think through your response step by step.\n",
        "\"\"\",\n",
        "    user_template=\"\"\"{input}\n",
        "\"\"\",\n",
        ")\n"
      ]
    },
    {
      "cell_type": "code",
      "execution_count": 57,
      "metadata": {},
      "outputs": [
        {
          "data": {
            "text/html": [
              "<pre style=\"white-space:pre;overflow-x:auto;line-height:normal;font-family:Menlo,'DejaVu Sans Mono',consolas,'Courier New',monospace\"></pre>\n"
            ],
            "text/plain": []
          },
          "metadata": {},
          "output_type": "display_data"
        },
        {
          "data": {
            "text/markdown": [
              "Pandas is a Python library that provides high-performance, easy-to-use data structures and data analysis tools. It is particularly designed for working with structured and time series data. \n",
              "\n",
              "The main purpose of Pandas is to make data manipulation and analysis straightforward, efficient, and intuitive in Python. Some key features of Pandas include:\n",
              "\n",
              "1. DataFrame: Pandas introduces the DataFrame data structure, which is a two-dimensional, size-mutable, and heterogeneous tabular data structure with labeled axes (rows and columns). It allows you to easily handle data sets and perform operations like merging, reshaping, and grouping.\n",
              "\n",
              "2. Series: Pandas also offers a Series data structure, which is a one-dimensional labeled array capable of holding any data type. It is particularly useful for handling time series data and indexed data.\n",
              "\n",
              "3. Data manipulation: Pandas provides a wide range of tools for manipulating and cleaning data, including methods for filtering, selecting, sorting, joining, and transforming data sets.\n",
              "\n",
              "4. Data visualization: Pandas integrates with popular data visualization libraries such as Matplotlib and Seaborn, allowing you to easily create plots and charts from your data.\n",
              "\n",
              "5. Time series functionality: Pandas has robust support for time series data, including date range generation, frequency conversion, and resampling.\n",
              "\n",
              "Overall, Pandas is widely used in data analysis, data cleaning, data preprocessing, and data visualization tasks in various domains such as finance, economics, statistics, and machine learning."
            ],
            "text/plain": [
              "\u001b[1m<\u001b[0m\u001b[1;95mIPython.core.display.Markdown\u001b[0m\u001b[39m object\u001b[0m\u001b[1m>\u001b[0m"
            ]
          },
          "metadata": {},
          "output_type": "display_data"
        },
        {
          "data": {
            "text/html": [
              "<pre style=\"white-space:pre;overflow-x:auto;line-height:normal;font-family:Menlo,'DejaVu Sans Mono',consolas,'Courier New',monospace\"></pre>\n"
            ],
            "text/plain": []
          },
          "metadata": {},
          "output_type": "display_data"
        },
        {
          "data": {
            "text/markdown": [
              "NumPy is a popular library in Python that provides support for large multi-dimensional arrays and matrices, along with a range of mathematical functions to operate on these arrays efficiently. Here are some common array operations you can perform using NumPy:\n",
              "\n",
              "1. **Creating NumPy arrays**: You can create NumPy arrays using the `numpy.array()` function by passing a list or tuple of elements. For example:\n",
              "    ```python\n",
              "    import numpy as np\n",
              "\n",
              "    a = np.array([1, 2, 3, 4, 5])\n",
              "    ```\n",
              "\n",
              "2. **Basic mathematical operations**: NumPy arrays allow you to perform basic arithmetic operations element-wise. For example:\n",
              "    ```python\n",
              "    import numpy as np\n",
              "\n",
              "    a = np.array([1, 2, 3])\n",
              "    b = np.array([4, 5, 6])\n",
              "\n",
              "    result = a + b                # Element-wise addition\n",
              "    result = a - b                # Element-wise subtraction\n",
              "    result = a * b                # Element-wise multiplication\n",
              "    result = a / b                # Element-wise division\n",
              "    ```\n",
              "\n",
              "3. **Array functions**: NumPy provides various helpful functions for array operations. For instance, `np.sum()`, `np.mean()`, `np.max()`, `np.min()`, and `np.std()` can be used to calculate the sum, mean, maximum, minimum, and standard deviation of the elements in an array.\n",
              "\n",
              "4. **Array manipulation**: NumPy provides functions to manipulate arrays, such as reshaping, transposing, stacking, and splitting arrays. For example:\n",
              "    ```python\n",
              "    import numpy as np\n",
              "\n",
              "    arr = np.array([[1, 2, 3], [4, 5, 6]])\n",
              "    reshaped_arr = np.reshape(arr, (3, 2))    # Reshaping the array\n",
              "    transposed_arr = np.transpose(arr)        # Transposing the array\n",
              "    ```\n",
              "\n",
              "5. **Indexing and slicing**: You can access elements and slices of NumPy arrays by using indexing and slicing. For example:\n",
              "    ```python\n",
              "    import numpy as np\n",
              "\n",
              "    arr = np.array([[1, 2, 3], [4, 5, 6]])\n",
              "    element = arr[0, 1]          # Accessing a single element\n",
              "    row_slice = arr[1, :]        # Accessing a row\n",
              "    column_slice = arr[:, 2]     # Accessing a column\n",
              "    ```\n",
              "\n",
              "6. **Broadcasting**: NumPy allows for broadcasting, which is a way of performing arithmetic operations between arrays of different shapes. NumPy automatically handles the broadcasting of arrays in operations. For example:\n",
              "    ```python\n",
              "    import numpy as np\n",
              "\n",
              "    a = np.array([1, 2, 3])\n",
              "    b = 2\n",
              "\n",
              "    result = a + b    # Broadcasting scalar to array\n",
              "    ```\n",
              "\n",
              "These are just a few examples of the array operations you can perform using NumPy. NumPy is a powerful library with a wide range of functions and capabilities for working with arrays efficiently in Python."
            ],
            "text/plain": [
              "\u001b[1m<\u001b[0m\u001b[1;95mIPython.core.display.Markdown\u001b[0m\u001b[39m object\u001b[0m\u001b[1m>\u001b[0m"
            ]
          },
          "metadata": {},
          "output_type": "display_data"
        },
        {
          "data": {
            "text/html": [
              "<pre style=\"white-space:pre;overflow-x:auto;line-height:normal;font-family:Menlo,'DejaVu Sans Mono',consolas,'Courier New',monospace\"></pre>\n"
            ],
            "text/plain": []
          },
          "metadata": {},
          "output_type": "display_data"
        },
        {
          "data": {
            "text/markdown": [
              "Scikit-learn is a popular Python library for machine learning tasks such as classification, regression, clustering, and dimensionality reduction. It is built on top of other scientific libraries in Python, such as NumPy, SciPy, and Matplotlib. Scikit-learn provides a wide range of algorithms and tools for machine learning, making it a powerful tool for data scientists and machine learning practitioners.\n",
              "\n",
              "Here is a simple example of how to use Scikit-learn for a classification task:\n",
              "\n",
              "1. Install Scikit-learn using pip:\n",
              "```bash\n",
              "pip install scikit-learn\n",
              "```\n",
              "\n",
              "2. Import the necessary modules from Scikit-learn:\n",
              "```python\n",
              "from sklearn import datasets\n",
              "from sklearn.model_selection import train_test_split\n",
              "from sklearn.preprocessing import StandardScaler\n",
              "from sklearn.linear_model import LogisticRegression\n",
              "from sklearn.metrics import accuracy_score\n",
              "```\n",
              "\n",
              "3. Load a dataset from Scikit-learn's built-in datasets:\n",
              "```python\n",
              "iris = datasets.load_iris()\n",
              "X = iris.data\n",
              "y = iris.target\n",
              "```\n",
              "\n",
              "4. Split the dataset into training and testing sets:\n",
              "```python\n",
              "X_train, X_test, y_train, y_test = train_test_split(X, y, test_size=0.2, random_state=42)\n",
              "```\n",
              "\n",
              "5. Preprocess the data by scaling it:\n",
              "```python\n",
              "scaler = StandardScaler()\n",
              "X_train = scaler.fit_transform(X_train)\n",
              "X_test = scaler.transform(X_test)\n",
              "```\n",
              "\n",
              "6. Instantiate a machine learning model, such as Logistic Regression, and fit it to the training data:\n",
              "```python\n",
              "model = LogisticRegression()\n",
              "model.fit(X_train, y_train)\n",
              "```\n",
              "\n",
              "7. Make predictions on the test data:\n",
              "```python\n",
              "predictions = model.predict(X_test)\n",
              "```\n",
              "\n",
              "8. Evaluate the model by calculating the accuracy of the predictions:\n",
              "```python\n",
              "accuracy = accuracy_score(y_test, predictions)\n",
              "print(\"Accuracy:\", accuracy)\n",
              "```\n",
              "\n",
              "This is just a simple example of how to use Scikit-learn for a classification task. Scikit-learn provides a wide range of algorithms and tools for different machine learning tasks, and you can explore its documentation for more advanced usage and features."
            ],
            "text/plain": [
              "\u001b[1m<\u001b[0m\u001b[1;95mIPython.core.display.Markdown\u001b[0m\u001b[39m object\u001b[0m\u001b[1m>\u001b[0m"
            ]
          },
          "metadata": {},
          "output_type": "display_data"
        },
        {
          "data": {
            "text/html": [
              "<pre style=\"white-space:pre;overflow-x:auto;line-height:normal;font-family:Menlo,'DejaVu Sans Mono',consolas,'Courier New',monospace\"></pre>\n"
            ],
            "text/plain": []
          },
          "metadata": {},
          "output_type": "display_data"
        },
        {
          "data": {
            "text/markdown": [
              "Matplotlib is a popular Python library used for creating static, animated, and interactive visualizations in Python. It provides a wide variety of plot types, including line plots, bar plots, scatter plots, histograms, and more. Matplotlib is highly customizable, allowing users to control almost every aspect of the plot, such as colors, markers, labels, and axes. It is commonly used in data analysis, scientific computing, machine learning, and other fields where visualizing data is essential. Matplotlib can be used independently or in conjunction with other libraries such as NumPy and Pandas."
            ],
            "text/plain": [
              "\u001b[1m<\u001b[0m\u001b[1;95mIPython.core.display.Markdown\u001b[0m\u001b[39m object\u001b[0m\u001b[1m>\u001b[0m"
            ]
          },
          "metadata": {},
          "output_type": "display_data"
        },
        {
          "data": {
            "text/html": [
              "<pre style=\"white-space:pre;overflow-x:auto;line-height:normal;font-family:Menlo,'DejaVu Sans Mono',consolas,'Courier New',monospace\"></pre>\n"
            ],
            "text/plain": []
          },
          "metadata": {},
          "output_type": "display_data"
        },
        {
          "data": {
            "text/markdown": [
              "Seaborn is a data visualization library for Python that is built on top of Matplotlib. It provides a high-level interface for creating attractive and informative statistical graphics. Here's how you can use Seaborn for data visualization:\n",
              "\n",
              "1. Import the Seaborn library:\n",
              "```python\n",
              "import seaborn as sns\n",
              "```\n",
              "\n",
              "2. Load your dataset:\n",
              "```python\n",
              "import pandas as pd\n",
              "df = pd.read_csv('your_dataset.csv')\n",
              "```\n",
              "\n",
              "3. Create various types of plots using Seaborn:\n",
              "    - **Scatter Plot:**\n",
              "    ```python\n",
              "    sns.scatterplot(x='x_column', y='y_column', data=df)\n",
              "    ```\n",
              "    \n",
              "    - **Line Plot:**\n",
              "    ```python\n",
              "    sns.lineplot(x='x_column', y='y_column', data=df)\n",
              "    ```\n",
              "    \n",
              "    - **Histogram:**\n",
              "    ```python\n",
              "    sns.histplot(data=df['column'], bins=10)\n",
              "    ```\n",
              "    \n",
              "    - **Bar Plot:**\n",
              "    ```python\n",
              "    sns.barplot(x='category_column', y='numeric_column', data=df)\n",
              "    ```\n",
              "    \n",
              "    - **Box Plot:**\n",
              "    ```python\n",
              "    sns.boxplot(x='group_column', y='numeric_column', data=df)\n",
              "    ```\n",
              "    \n",
              "    - **Heatmap:**\n",
              "    ```python\n",
              "    sns.heatmap(data=df.corr(), annot=True)\n",
              "    ```\n",
              "    \n",
              "    - **Pair Plot:**\n",
              "    ```python\n",
              "    sns.pairplot(data=df, hue='category_column')\n",
              "    ```\n",
              "\n",
              "4. Customize the plots with Seaborn's styling and aesthetics options:\n",
              "```python\n",
              "sns.set(style='whitegrid', palette='pastel')\n",
              "```\n",
              "\n",
              "5. Show the plot:\n",
              "```python\n",
              "import matplotlib.pyplot as plt\n",
              "plt.show()\n",
              "```\n",
              "\n",
              "Seaborn also provides additional features for statistical estimation and color palettes, making it a powerful tool for visualizing data in Python. Be sure to check out the official Seaborn documentation for more information and examples: [Seaborn Documentation](https://seaborn.pydata.org/)."
            ],
            "text/plain": [
              "\u001b[1m<\u001b[0m\u001b[1;95mIPython.core.display.Markdown\u001b[0m\u001b[39m object\u001b[0m\u001b[1m>\u001b[0m"
            ]
          },
          "metadata": {},
          "output_type": "display_data"
        }
      ],
      "source": [
        "no_cot_evals = run_evals(\n",
        "    queries,\n",
        "    system_template=\"\"\"\\\n",
        "Your task is to provide documentation on Python libraries.\"\"\",\n",
        "    user_template=\"\"\"{input}\n",
        "\"\"\",\n",
        ")\n"
      ]
    },
    {
      "cell_type": "code",
      "execution_count": 99,
      "metadata": {},
      "outputs": [
        {
          "data": {
            "text/html": [
              "<pre style=\"white-space:pre;overflow-x:auto;line-height:normal;font-family:Menlo,'DejaVu Sans Mono',consolas,'Courier New',monospace\"></pre>\n"
            ],
            "text/plain": []
          },
          "metadata": {},
          "output_type": "display_data"
        },
        {
          "data": {
            "text/html": [
              "<div>\n",
              "<style scoped>\n",
              "    .dataframe tbody tr th:only-of-type {\n",
              "        vertical-align: middle;\n",
              "    }\n",
              "\n",
              "    .dataframe tbody tr th {\n",
              "        vertical-align: top;\n",
              "    }\n",
              "\n",
              "    .dataframe thead th {\n",
              "        text-align: right;\n",
              "    }\n",
              "</style>\n",
              "<table border=\"1\" class=\"dataframe\">\n",
              "  <thead>\n",
              "    <tr style=\"text-align: right;\">\n",
              "      <th></th>\n",
              "      <th></th>\n",
              "      <th>clarity</th>\n",
              "      <th>faithfulness</th>\n",
              "      <th>correctness</th>\n",
              "      <th>detail</th>\n",
              "    </tr>\n",
              "  </thead>\n",
              "  <tbody>\n",
              "    <tr>\n",
              "      <th rowspan=\"5\" valign=\"top\">COT</th>\n",
              "      <th>0</th>\n",
              "      <td>9.0</td>\n",
              "      <td>9.0</td>\n",
              "      <td>10.0</td>\n",
              "      <td>8.0</td>\n",
              "    </tr>\n",
              "    <tr>\n",
              "      <th>1</th>\n",
              "      <td>9.0</td>\n",
              "      <td>10.0</td>\n",
              "      <td>10.0</td>\n",
              "      <td>7.0</td>\n",
              "    </tr>\n",
              "    <tr>\n",
              "      <th>2</th>\n",
              "      <td>9.0</td>\n",
              "      <td>10.0</td>\n",
              "      <td>10.0</td>\n",
              "      <td>8.0</td>\n",
              "    </tr>\n",
              "    <tr>\n",
              "      <th>3</th>\n",
              "      <td>9.0</td>\n",
              "      <td>9.0</td>\n",
              "      <td>10.0</td>\n",
              "      <td>8.0</td>\n",
              "    </tr>\n",
              "    <tr>\n",
              "      <th>4</th>\n",
              "      <td>9.0</td>\n",
              "      <td>10.0</td>\n",
              "      <td>10.0</td>\n",
              "      <td>8.0</td>\n",
              "    </tr>\n",
              "    <tr>\n",
              "      <th rowspan=\"5\" valign=\"top\">No COT</th>\n",
              "      <th>0</th>\n",
              "      <td>9.0</td>\n",
              "      <td>10.0</td>\n",
              "      <td>10.0</td>\n",
              "      <td>9.0</td>\n",
              "    </tr>\n",
              "    <tr>\n",
              "      <th>1</th>\n",
              "      <td>9.0</td>\n",
              "      <td>10.0</td>\n",
              "      <td>10.0</td>\n",
              "      <td>8.0</td>\n",
              "    </tr>\n",
              "    <tr>\n",
              "      <th>2</th>\n",
              "      <td>9.0</td>\n",
              "      <td>10.0</td>\n",
              "      <td>9.0</td>\n",
              "      <td>8.0</td>\n",
              "    </tr>\n",
              "    <tr>\n",
              "      <th>3</th>\n",
              "      <td>9.0</td>\n",
              "      <td>10.0</td>\n",
              "      <td>10.0</td>\n",
              "      <td>9.0</td>\n",
              "    </tr>\n",
              "    <tr>\n",
              "      <th>4</th>\n",
              "      <td>9.0</td>\n",
              "      <td>10.0</td>\n",
              "      <td>10.0</td>\n",
              "      <td>9.0</td>\n",
              "    </tr>\n",
              "  </tbody>\n",
              "</table>\n",
              "</div>"
            ],
            "text/plain": [
              "\n",
              "          clarity  faithfulness  correctness  detail\n",
              "COT    \u001b[1;36m0\u001b[0m      \u001b[1;36m9.0\u001b[0m           \u001b[1;36m9.0\u001b[0m         \u001b[1;36m10.0\u001b[0m     \u001b[1;36m8.0\u001b[0m\n",
              "       \u001b[1;36m1\u001b[0m      \u001b[1;36m9.0\u001b[0m          \u001b[1;36m10.0\u001b[0m         \u001b[1;36m10.0\u001b[0m     \u001b[1;36m7.0\u001b[0m\n",
              "       \u001b[1;36m2\u001b[0m      \u001b[1;36m9.0\u001b[0m          \u001b[1;36m10.0\u001b[0m         \u001b[1;36m10.0\u001b[0m     \u001b[1;36m8.0\u001b[0m\n",
              "       \u001b[1;36m3\u001b[0m      \u001b[1;36m9.0\u001b[0m           \u001b[1;36m9.0\u001b[0m         \u001b[1;36m10.0\u001b[0m     \u001b[1;36m8.0\u001b[0m\n",
              "       \u001b[1;36m4\u001b[0m      \u001b[1;36m9.0\u001b[0m          \u001b[1;36m10.0\u001b[0m         \u001b[1;36m10.0\u001b[0m     \u001b[1;36m8.0\u001b[0m\n",
              "No COT \u001b[1;36m0\u001b[0m      \u001b[1;36m9.0\u001b[0m          \u001b[1;36m10.0\u001b[0m         \u001b[1;36m10.0\u001b[0m     \u001b[1;36m9.0\u001b[0m\n",
              "       \u001b[1;36m1\u001b[0m      \u001b[1;36m9.0\u001b[0m          \u001b[1;36m10.0\u001b[0m         \u001b[1;36m10.0\u001b[0m     \u001b[1;36m8.0\u001b[0m\n",
              "       \u001b[1;36m2\u001b[0m      \u001b[1;36m9.0\u001b[0m          \u001b[1;36m10.0\u001b[0m          \u001b[1;36m9.0\u001b[0m     \u001b[1;36m8.0\u001b[0m\n",
              "       \u001b[1;36m3\u001b[0m      \u001b[1;36m9.0\u001b[0m          \u001b[1;36m10.0\u001b[0m         \u001b[1;36m10.0\u001b[0m     \u001b[1;36m9.0\u001b[0m\n",
              "       \u001b[1;36m4\u001b[0m      \u001b[1;36m9.0\u001b[0m          \u001b[1;36m10.0\u001b[0m         \u001b[1;36m10.0\u001b[0m     \u001b[1;36m9.0\u001b[0m"
            ]
          },
          "execution_count": 99,
          "metadata": {},
          "output_type": "execute_result"
        }
      ],
      "source": [
        "import pandas as pd\n",
        "import json\n",
        "import matplotlib.pyplot as plt\n",
        "\n",
        "# Assuming cot_evals and no_cot_evals are lists of dictionaries or similar structures\n",
        "cot_df = pd.DataFrame(\n",
        "    [json.loads(eval.choices[0].message.content) for eval in cot_evals]\n",
        ")\n",
        "no_cot_df = pd.DataFrame(\n",
        "    [json.loads(eval.choices[0].message.content) for eval in no_cot_evals]\n",
        ")\n",
        "\n",
        "# Combine the dataframes for comparison\n",
        "comparison_df = pd.concat([cot_df, no_cot_df], keys=[\"COT\", \"No COT\"]).astype(float)\n",
        "\n",
        "comparison_df"
      ]
    },
    {
      "cell_type": "code",
      "execution_count": 102,
      "metadata": {},
      "outputs": [
        {
          "data": {
            "text/html": [
              "<pre style=\"white-space:pre;overflow-x:auto;line-height:normal;font-family:Menlo,'DejaVu Sans Mono',consolas,'Courier New',monospace\"></pre>\n"
            ],
            "text/plain": []
          },
          "metadata": {},
          "output_type": "display_data"
        },
        {
          "data": {
            "image/png": "[encoded data removed]",
            "text/plain": [
              "\u001b[1m<\u001b[0m\u001b[1;95mFigure\u001b[0m\u001b[39m size \u001b[0m\u001b[1;36m2204.\u001b[0m\u001b[39m75x500 with \u001b[0m\u001b[1;36m4\u001b[0m\u001b[39m Axes\u001b[0m\u001b[1m>\u001b[0m"
            ]
          },
          "metadata": {},
          "output_type": "display_data"
        }
      ],
      "source": [
        "import seaborn as sns\n",
        "\n",
        "# Reset the index to use 'type' and 'index' as columns\n",
        "comparison_df_reset = comparison_df.reset_index()\n",
        "\n",
        "# Melt the dataframe to long format for seaborn\n",
        "melted_comparison_df = comparison_df_reset.melt(\n",
        "    id_vars=[\"level_0\", \"level_1\"], var_name=\"attribute\", value_name=\"score\"\n",
        ")\n",
        "\n",
        "# Rename columns for clarity\n",
        "melted_comparison_df = melted_comparison_df.rename(\n",
        "    columns={\"level_0\": \"type\", \"level_1\": \"index\"}\n",
        ")\n",
        "\n",
        "# Plot using seaborn with facets\n",
        "g = sns.catplot(\n",
        "    data=melted_comparison_df,\n",
        "    x=\"index\",\n",
        "    y=\"score\",\n",
        "    hue=\"type\",\n",
        "    col=\"attribute\",\n",
        "    kind=\"bar\",\n",
        "    height=5,\n",
        "    aspect=1,\n",
        ")\n",
        "g.set_titles(\"{col_name}\")\n",
        "g.set_axis_labels(\"Index\", \"Score\")\n",
        "g.add_legend(title=\"Type\")\n",
        "plt.subplots_adjust(top=0.85)\n",
        "g.fig.suptitle(\"Comparison of CoT vs No CoT by Attribute\")\n",
        "plt.show()\n"
      ]
    },
    {
      "cell_type": "markdown",
      "metadata": {
        "id": "M7ryIRGwR2Gq"
      },
      "source": [
        "#### ❓Question #1:\n",
        "\n",
        "How did your prompting strategies change the evaluation scores? What does this tell you/what did you learn?"
      ]
    },
    {
      "cell_type": "markdown",
      "metadata": {},
      "source": [
        "As can be seen above, adding the CoT portion has an impact on the `detail` metric. The above is a barebones implementation of an evaluation framework, and will break reguarly based on format changes. To make it robust, we should use Pydantic validation to ensure that the data sampled from the model is accessible for downstream processing."
      ]
    }
  ],
  "metadata": {
    "colab": {
      "provenance": [],
      "toc_visible": true
    },
    "kernelspec": {
      "display_name": "Python 3",
      "name": "python3"
    },
    "language_info": {
      "codemirror_mode": {
        "name": "ipython",
        "version": 3
      },
      "file_extension": ".py",
      "mimetype": "text/x-python",
      "name": "python",
      "nbconvert_exporter": "python",
      "pygments_lexer": "ipython3",
      "version": "3.11.0"
    }
  },
  "nbformat": 4,
  "nbformat_minor": 0
}
