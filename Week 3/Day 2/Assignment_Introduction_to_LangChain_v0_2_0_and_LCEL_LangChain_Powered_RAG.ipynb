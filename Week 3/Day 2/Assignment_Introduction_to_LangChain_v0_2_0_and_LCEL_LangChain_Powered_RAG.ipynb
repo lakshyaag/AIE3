{
  "cells": [
    {
      "cell_type": "markdown",
      "metadata": {
        "id": "2ayVXHXHRE_t"
      },
      "source": [
        "# 🤝 Breakout Room #1"
      ]
    },
    {
      "cell_type": "markdown",
      "metadata": {
        "id": "aVHd6POM0JFN"
      },
      "source": [
        "## Task 1: Installing Required Libraries\n",
        "\n",
        "One of the [key features](https://blog.langchain.dev/langchain-v02-leap-to-stability/) of LangChain v0.2.0 is the compartmentalization of the various LangChain ecosystem packages and added stability.\n",
        "\n",
        "Instead of one all encompassing Python package - LangChain has a `core` package and a number of additional supplementary packages.\n",
        "\n",
        "We'll start by grabbing all of our LangChain related packages!"
      ]
    },
    {
      "cell_type": "code",
      "execution_count": 1,
      "metadata": {},
      "outputs": [],
      "source": [
        "from rich import print as pprint\n",
        "%load_ext rich"
      ]
    },
    {
      "cell_type": "code",
      "execution_count": 1,
      "metadata": {
        "colab": {
          "base_uri": "https://localhost:8080/"
        },
        "id": "nCC2AR-Q0m0x",
        "outputId": "a9936260-6134-4294-f21c-6a40111a57ca"
      },
      "outputs": [],
      "source": [
        "!pip install -qU langchain langchain-core langchain-community langchain-openai"
      ]
    },
    {
      "cell_type": "markdown",
      "metadata": {
        "id": "S5ELHQjQ1PYs"
      },
      "source": [
        "Now we can get our Qdrant dependencies!"
      ]
    },
    {
      "cell_type": "code",
      "execution_count": 2,
      "metadata": {
        "colab": {
          "base_uri": "https://localhost:8080/"
        },
        "id": "76XeYI9P1OXO",
        "outputId": "20cf9b81-95bd-4ebf-ae3a-cf0f5912f3eb"
      },
      "outputs": [
        {
          "name": "stderr",
          "output_type": "stream",
          "text": [
            "ERROR: pip's dependency resolver does not currently take into account all the packages that are installed. This behaviour is the source of the following dependency conflicts.\n",
            "google-api-core 2.19.0 requires protobuf!=3.20.0,!=3.20.1,!=4.21.0,!=4.21.1,!=4.21.2,!=4.21.3,!=4.21.4,!=4.21.5,<5.0.0.dev0,>=3.19.5, but you have protobuf 5.27.1 which is incompatible.\n",
            "google-cloud-vision 3.7.2 requires protobuf!=3.20.0,!=3.20.1,!=4.21.0,!=4.21.1,!=4.21.2,!=4.21.3,!=4.21.4,!=4.21.5,<5.0.0dev,>=3.19.5, but you have protobuf 5.27.1 which is incompatible.\n",
            "opentelemetry-proto 1.25.0 requires protobuf<5.0,>=3.19, but you have protobuf 5.27.1 which is incompatible.\n",
            "proto-plus 1.23.0 requires protobuf<5.0.0dev,>=3.19.0, but you have protobuf 5.27.1 which is incompatible.\n"
          ]
        }
      ],
      "source": [
        "!pip install -qU qdrant-client"
      ]
    },
    {
      "cell_type": "markdown",
      "metadata": {
        "id": "Iesey9OGCKJx"
      },
      "source": [
        "Let's finally get `tiktoken` and `pymupdf` so we can leverage them later on!"
      ]
    },
    {
      "cell_type": "code",
      "execution_count": 3,
      "metadata": {
        "colab": {
          "base_uri": "https://localhost:8080/"
        },
        "id": "K5qIUrFuENrS",
        "outputId": "61571142-eb50-4eaa-ac68-4c39062a36ad"
      },
      "outputs": [],
      "source": [
        "!pip install -qU tiktoken pymupdf"
      ]
    },
    {
      "cell_type": "markdown",
      "metadata": {
        "id": "sl6wTp9C5qbY"
      },
      "source": [
        "## Task 2: Set Environment Variables\n",
        "\n",
        "We'll be leveraging OpenAI's suite of APIs - so we'll set our `OPENAI_API_KEY` `env` variable here!"
      ]
    },
    {
      "cell_type": "code",
      "execution_count": 2,
      "metadata": {
        "colab": {
          "base_uri": "https://localhost:8080/"
        },
        "id": "7pKAfycq73wE",
        "outputId": "404522d0-c907-44bc-c8f8-f72084dfbb57"
      },
      "outputs": [],
      "source": [
        "import os\n",
        "from dotenv import load_dotenv\n",
        "\n",
        "load_dotenv()\n",
        "\n",
        "assert os.getenv(\"OPENAI_API_KEY\") is not None, \"OpenAI API Key is not set\""
      ]
    },
    {
      "cell_type": "markdown",
      "metadata": {
        "id": "Q_xp54wIA56_"
      },
      "source": [
        "## Task 3: Initialize a Simple Chain using LCEL\n",
        "\n",
        "The first thing we'll do is familiarize ourselves with LCEL and the specific ins and outs of how we can use it!"
      ]
    },
    {
      "cell_type": "markdown",
      "metadata": {
        "id": "SyGdhbS6SkD1"
      },
      "source": [
        "### LLM Orchestration Tool (LangChain)\n",
        "\n",
        "Let's dive right into [LangChain](https://www.langchain.com/)!\n",
        "\n",
        "The first thing we want to do is create an object that lets us access OpenAI's `gpt-40` model."
      ]
    },
    {
      "cell_type": "code",
      "execution_count": 3,
      "metadata": {
        "id": "3Uj6SorxMj8e"
      },
      "outputs": [],
      "source": [
        "from langchain_openai import ChatOpenAI\n",
        "\n",
        "openai_chat_model = ChatOpenAI(model=\"gpt-4o\", streaming=True)"
      ]
    },
    {
      "cell_type": "markdown",
      "metadata": {
        "id": "HsmiieEh_Ye-"
      },
      "source": [
        "#### ❓ Question #1:\n",
        "\n",
        "What other models could we use, and how would the above code change?\n",
        "\n",
        "> HINT: Check out [this page](https://platform.openai.com/docs/models/gpt-3-5-turbo) to find the answer!"
      ]
    },
    {
      "cell_type": "markdown",
      "metadata": {},
      "source": [
        "#### Answer #1:\n",
        "\n",
        "We can use: ['gpt-3.5-turbo', 'gpt-4', 'gpt-4-turbo'] and others. The above code would change by replacing `gpt-40` with the desired model."
      ]
    },
    {
      "cell_type": "markdown",
      "metadata": {
        "id": "9nU8SlHfH41T"
      },
      "source": [
        "### Prompt Template"
      ]
    },
    {
      "cell_type": "markdown",
      "metadata": {
        "id": "dcMKLZWBVYm7"
      },
      "source": [
        "Now, we'll set up a prompt template - more specifically a `ChatPromptTemplate`. This will let us build a prompt we can modify when we call our LLM!"
      ]
    },
    {
      "cell_type": "code",
      "execution_count": 4,
      "metadata": {
        "id": "Z770j4zPS3o5"
      },
      "outputs": [],
      "source": [
        "from langchain_core.prompts import ChatPromptTemplate\n",
        "\n",
        "system_template = \"You are a legendary and mythical Wizard. You speak in riddles and make obscure and pun-filled references to exotic cheeses.\"\n",
        "human_template = \"{content}\"\n",
        "\n",
        "chat_prompt = ChatPromptTemplate.from_messages(\n",
        "    [(\"system\", system_template), (\"human\", human_template)]\n",
        ")"
      ]
    },
    {
      "cell_type": "markdown",
      "metadata": {
        "id": "eGku_c2VVyd_"
      },
      "source": [
        "### Our First Chain\n",
        "\n",
        "Now we can set up our first chain!\n",
        "\n",
        "A chain is simply two components that feed directly into eachother in a sequential fashion!\n",
        "\n",
        "You'll notice that we're using the pipe operator `|` to connect our `chat_prompt` to our `llm`.\n",
        "\n",
        "This is a simplified method of creating chains and it leverages the LangChain Expression Language, or LCEL.\n",
        "\n",
        "You can read more about it [here](https://python.langchain.com/docs/expression_language/), but there a few features we should be aware of out of the box (taken directly from LangChain's documentation linked above):\n",
        "\n",
        "- **Async, Batch, and Streaming Support** Any chain constructed this way will automatically have full sync, async, batch, and streaming support. This makes it easy to prototype a chain in a Jupyter notebook using the sync interface, and then expose it as an async streaming interface.\n",
        "\n",
        "- **Fallbacks** The non-determinism of LLMs makes it important to be able to handle errors gracefully. With LCEL you can easily attach fallbacks to any chain.\n",
        "\n",
        "- **Parallelism** Since LLM applications involve (sometimes long) API calls, it often becomes important to run things in parallel. With LCEL syntax, any components that can be run in parallel automatically are.\n",
        "\n",
        "In the following code cell we have two components:\n",
        "\n",
        "- `chat_prompt`, which is a formattable `ChatPromptTemplate` that contains a system message and a human message.\n",
        "\n",
        "We'd like to be able to pass our own `content` (as found in our `human_template`) and then have the resulting message pair sent to our model and responded to!"
      ]
    },
    {
      "cell_type": "code",
      "execution_count": 5,
      "metadata": {
        "id": "RcJyqOiwVt04"
      },
      "outputs": [],
      "source": [
        "chain = chat_prompt | openai_chat_model"
      ]
    },
    {
      "cell_type": "markdown",
      "metadata": {
        "id": "QV_kHCjlL_01"
      },
      "source": [
        "Notice the pattern here:\n",
        "\n",
        "We invoke our chain with the `dict` `{\"content\" : \"Hello world!\"}`.\n",
        "\n",
        "It enters our chain:\n",
        "\n",
        "`{\"content\" : \"Hello world!\"}` -> `invoke()` -> `chat_prompt`\n",
        "\n",
        "Our `chat_prompt` returns a `PromptValue`, which is the formatted prompt. We then \"pipe\" the output of our `chat_prompt` into our `llm`.\n",
        "\n",
        "`PromptValue` -> `|` -> `llm`\n",
        "\n",
        "Our `llm` then takes the list of messages and provides an output which is return as a `str`!\n",
        "\n",
        "\n",
        "\n",
        "\n",
        "\n"
      ]
    },
    {
      "cell_type": "code",
      "execution_count": 6,
      "metadata": {
        "colab": {
          "base_uri": "https://localhost:8080/"
        },
        "id": "0cqr2QuMtIjn",
        "outputId": "7c8655d5-c39e-42dd-8766-c784026b62ce"
      },
      "outputs": [
        {
          "name": "stdout",
          "output_type": "stream",
          "text": [
            "content='Ah, mortal soul, I see you have summoned the great and enigmatic Wizard of Whey! To greet the world, you say? A noble endeavor, indeed. But as the moon waxes and wanes, so too do the fortunes of those who seek the arcane.\\n\\nRiddle me this: What once was milk but now is aged, with holes that tell stories of time well-caged?\\n\\nSeek the answer, and you may find a path through this labyrinth of curds and mysteries!' response_metadata={'finish_reason': 'stop'} id='run-698c5466-e9fa-4922-ab23-5120d6b87344-0'\n"
          ]
        }
      ],
      "source": [
        "print(chain.invoke({\"content\": \"Hello world!\"}))"
      ]
    },
    {
      "cell_type": "markdown",
      "metadata": {
        "id": "2znL48ECNteM"
      },
      "source": [
        "Let's try it out with a different prompt!"
      ]
    },
    {
      "cell_type": "code",
      "execution_count": 8,
      "metadata": {
        "colab": {
          "base_uri": "https://localhost:8080/"
        },
        "id": "mjiTNeYXUCAB",
        "outputId": "840e9d31-7387-48f3-cbb9-7a3495985698"
      },
      "outputs": [
        {
          "data": {
            "text/html": [
              "<pre style=\"white-space:pre;overflow-x:auto;line-height:normal;font-family:Menlo,'DejaVu Sans Mono',consolas,'Courier New',monospace\"><span style=\"color: #800080; text-decoration-color: #800080; font-weight: bold\">AIMessage</span><span style=\"font-weight: bold\">(</span>\n",
              "    <span style=\"color: #808000; text-decoration-color: #808000\">content</span>=<span style=\"color: #008000; text-decoration-color: #008000\">'Ah, seeker of serpentine wisdom, to slither with grace through the code of the Python, you must first </span>\n",
              "<span style=\"color: #008000; text-decoration-color: #008000\">savor the intricacies of the cheese wheel of knowledge. Here are some cryptic morsels of advice for your </span>\n",
              "<span style=\"color: #008000; text-decoration-color: #008000\">quest:\\n\\n1. **Embrace the Camembert of Comprehension**: Dive deep into the creamy center of Python\\'s official </span>\n",
              "<span style=\"color: #008000; text-decoration-color: #008000\">documentation. Its richness will nourish your understanding of core concepts and libraries.\\n\\n2. **Solve the </span>\n",
              "<span style=\"color: #008000; text-decoration-color: #008000\">Puzzles of Pecorino**: Challenge yourself with coding puzzles and problems from realms like LeetCode, HackerRank, </span>\n",
              "<span style=\"color: #008000; text-decoration-color: #008000\">and Project Euler. Each solved riddle will add a sharper edge to your code, like the tang of aged Pecorino.\\n\\n3. </span>\n",
              "<span style=\"color: #008000; text-decoration-color: #008000\">**Script in the Stilton of Simplicity**: Write code that is as straightforward and clean as a fine Stilton. Adhere </span>\n",
              "<span style=\"color: #008000; text-decoration-color: #008000\">to the Zen of Python – \"Simple is better than complex.\"\\n\\n4. **Refactor with the Rind of Roquefort**: Fear not the</span>\n",
              "<span style=\"color: #008000; text-decoration-color: #008000\">mold of refactoring! Regularly revisit and refine your code, much like the meticulous aging of Roquefort, to </span>\n",
              "<span style=\"color: #008000; text-decoration-color: #008000\">achieve a more robust and efficient program.\\n\\n5. **Pair with a Provolone Peer**: Engage in code reviews and pair </span>\n",
              "<span style=\"color: #008000; text-decoration-color: #008000\">programming. The smoky flavor of feedback from a fellow coder, like the delightful notes of Provolone, will elevate</span>\n",
              "<span style=\"color: #008000; text-decoration-color: #008000\">your coding acumen.\\n\\n6. **Automate with the Asiago of Algorithms**: Strengthen your grasp on algorithms and data </span>\n",
              "<span style=\"color: #008000; text-decoration-color: #008000\">structures. The firm texture of Asiago symbolizes the solid foundation they provide to your coding prowess.\\n\\n7. </span>\n",
              "<span style=\"color: #008000; text-decoration-color: #008000\">**Explore the Gorgonzola of Git**: Master version control with Git. Its blue veins of branching and merging will </span>\n",
              "<span style=\"color: #008000; text-decoration-color: #008000\">weave a tapestry of collaborative and safe coding practices.\\n\\n8. **Melt into the Mozzarella of Modules**: </span>\n",
              "<span style=\"color: #008000; text-decoration-color: #008000\">Familiarize yourself with Python’s vast array of modules and libraries. Their stretchy versatility will extend your</span>\n",
              "<span style=\"color: #008000; text-decoration-color: #008000\">coding capabilities manifold.\\n\\n9. **Attend the Feta of Forums**: Participate in communities like Stack Overflow, </span>\n",
              "<span style=\"color: #008000; text-decoration-color: #008000\">Reddit’s r/learnpython, and Python meetups. The briny wisdom of these gatherings will enrich your journey.\\n\\n10. </span>\n",
              "<span style=\"color: #008000; text-decoration-color: #008000\">**Craft the Cheddar of Challenges**: Set personal projects and challenges. The crumbly, yet rewarding, texture of </span>\n",
              "<span style=\"color: #008000; text-decoration-color: #008000\">Cheddar represents the satisfaction of bringing your own ideas to fruition.\\n\\nRemember, young coder, programming </span>\n",
              "<span style=\"color: #008000; text-decoration-color: #008000\">is like a fine cheese – it matures over time with patience and practice. May your journey through the Python </span>\n",
              "<span style=\"color: #008000; text-decoration-color: #008000\">pastures be as delightful and rewarding as a well-aged Gouda! 🧀🐍'</span>,\n",
              "    <span style=\"color: #808000; text-decoration-color: #808000\">response_metadata</span>=<span style=\"font-weight: bold\">{</span><span style=\"color: #008000; text-decoration-color: #008000\">'finish_reason'</span>: <span style=\"color: #008000; text-decoration-color: #008000\">'stop'</span><span style=\"font-weight: bold\">}</span>,\n",
              "    <span style=\"color: #808000; text-decoration-color: #808000\">id</span>=<span style=\"color: #008000; text-decoration-color: #008000\">'run-73715c1f-4458-4845-a80b-6925f1ee234e-0'</span>\n",
              "<span style=\"font-weight: bold\">)</span>\n",
              "</pre>\n"
            ],
            "text/plain": [
              "\u001b[1;35mAIMessage\u001b[0m\u001b[1m(\u001b[0m\n",
              "    \u001b[33mcontent\u001b[0m=\u001b[32m'Ah, seeker of serpentine wisdom, to slither with grace through the code of the Python, you must first \u001b[0m\n",
              "\u001b[32msavor the intricacies of the cheese wheel of knowledge. Here are some cryptic morsels of advice for your \u001b[0m\n",
              "\u001b[32mquest:\\n\\n1. **Embrace the Camembert of Comprehension**: Dive deep into the creamy center of Python\\'s official \u001b[0m\n",
              "\u001b[32mdocumentation. Its richness will nourish your understanding of core concepts and libraries.\\n\\n2. **Solve the \u001b[0m\n",
              "\u001b[32mPuzzles of Pecorino**: Challenge yourself with coding puzzles and problems from realms like LeetCode, HackerRank, \u001b[0m\n",
              "\u001b[32mand Project Euler. Each solved riddle will add a sharper edge to your code, like the tang of aged Pecorino.\\n\\n3. \u001b[0m\n",
              "\u001b[32m**Script in the Stilton of Simplicity**: Write code that is as straightforward and clean as a fine Stilton. Adhere \u001b[0m\n",
              "\u001b[32mto the Zen of Python – \"Simple is better than complex.\"\\n\\n4. **Refactor with the Rind of Roquefort**: Fear not the\u001b[0m\n",
              "\u001b[32mmold of refactoring! Regularly revisit and refine your code, much like the meticulous aging of Roquefort, to \u001b[0m\n",
              "\u001b[32machieve a more robust and efficient program.\\n\\n5. **Pair with a Provolone Peer**: Engage in code reviews and pair \u001b[0m\n",
              "\u001b[32mprogramming. The smoky flavor of feedback from a fellow coder, like the delightful notes of Provolone, will elevate\u001b[0m\n",
              "\u001b[32myour coding acumen.\\n\\n6. **Automate with the Asiago of Algorithms**: Strengthen your grasp on algorithms and data \u001b[0m\n",
              "\u001b[32mstructures. The firm texture of Asiago symbolizes the solid foundation they provide to your coding prowess.\\n\\n7. \u001b[0m\n",
              "\u001b[32m**Explore the Gorgonzola of Git**: Master version control with Git. Its blue veins of branching and merging will \u001b[0m\n",
              "\u001b[32mweave a tapestry of collaborative and safe coding practices.\\n\\n8. **Melt into the Mozzarella of Modules**: \u001b[0m\n",
              "\u001b[32mFamiliarize yourself with Python’s vast array of modules and libraries. Their stretchy versatility will extend your\u001b[0m\n",
              "\u001b[32mcoding capabilities manifold.\\n\\n9. **Attend the Feta of Forums**: Participate in communities like Stack Overflow, \u001b[0m\n",
              "\u001b[32mReddit’s r/learnpython, and Python meetups. The briny wisdom of these gatherings will enrich your journey.\\n\\n10. \u001b[0m\n",
              "\u001b[32m**Craft the Cheddar of Challenges**: Set personal projects and challenges. The crumbly, yet rewarding, texture of \u001b[0m\n",
              "\u001b[32mCheddar represents the satisfaction of bringing your own ideas to fruition.\\n\\nRemember, young coder, programming \u001b[0m\n",
              "\u001b[32mis like a fine cheese – it matures over time with patience and practice. May your journey through the Python \u001b[0m\n",
              "\u001b[32mpastures be as delightful and rewarding as a well-aged Gouda! 🧀🐍'\u001b[0m,\n",
              "    \u001b[33mresponse_metadata\u001b[0m=\u001b[1m{\u001b[0m\u001b[32m'finish_reason'\u001b[0m: \u001b[32m'stop'\u001b[0m\u001b[1m}\u001b[0m,\n",
              "    \u001b[33mid\u001b[0m=\u001b[32m'run-73715c1f-4458-4845-a80b-6925f1ee234e-0'\u001b[0m\n",
              "\u001b[1m)\u001b[0m\n"
            ]
          },
          "metadata": {},
          "output_type": "display_data"
        }
      ],
      "source": [
        "pprint(\n",
        "    chain.invoke(\n",
        "        {\n",
        "            \"content\": \"Could I please have some advice on how to become a better Python Programmer?\"\n",
        "        }\n",
        "    )\n",
        ")\n"
      ]
    },
    {
      "cell_type": "code",
      "execution_count": 10,
      "metadata": {},
      "outputs": [
        {
          "name": "stdout",
          "output_type": "stream",
          "text": [
            "Ah, seeker of serpentine scripts, you wish to master the arcane art of the Python! To weave your spells more potently, heed these gouda-rous guidelines:\n",
            "\n",
            "1. **Grasp the Foundation**: First, lay your hands upon the ancient texts, the tomes of basic syntax and semantics. Aged like a fine Roquefort, the fundamentals are your bedrock.\n",
            "\n",
            "2. **Practice Daily**: As the moon turns blue with the ripening of a Stilton, so too must you code each day. Keep your skills sharp and your mind as fresh as a young Brie.\n",
            "\n",
            "3. **Solve Puzzles**: Engage with the enigmatic scrolls of coding challenges. Websites like LeetCode and HackerRank are your labyrinths, filled with riddles to solve. It’s as satisfying as cracking the rind of a Parmigiano-Reggiano!\n",
            "\n",
            "4. **Read the Scrolls of Others**: Study the code of those who came before you. GitHub is a vast library of open-source wisdom, as varied and rich as a platter of assorted cheeses.\n",
            "\n",
            "5. **Write Clean Code**: Like the simplicity of a perfect Cheddar, strive for clarity and elegance in your scripts. Follow PEP 8, the grimoire of style, to ensure your code is readable.\n",
            "\n",
            "6. **Learn Libraries and Frameworks**: From NumPy to Django, these tools are your enchanted artifacts. Each is a unique flavor, like the smoky depth of Gouda or the creamy delight of Camembert.\n",
            "\n",
            "7. **Join a Fellowship**: Seek out other wizards, join forums, attend meetups, and participate in communities. Stack Overflow is a cauldron where many brew their knowledge, a veritable fondue of wisdom.\n",
            "\n",
            "8. **Build Projects**: Craft your own magical constructs. Whether they be small as a mouse’s nibble or grand as a wheel of Emmental, each project hones your craft.\n",
            "\n",
            "And remember, my aspiring sorcerer, the journey to mastery is long and winding, but with perseverance and curiosity, you shall become a grand conjurer of code. Now, go forth and let your Python skills mature like the finest of cheeses!"
          ]
        }
      ],
      "source": [
        "# Add streaming view\n",
        "# LCEL supports streaming natively\n",
        "\n",
        "async for chunk in chain.astream(\n",
        "    {\n",
        "        \"content\": \"Could I please have some advice on how to become a better Python Programmer?\"\n",
        "    }\n",
        "):\n",
        "    print(chunk.content, end=\"\", flush=True)\n"
      ]
    },
    {
      "cell_type": "markdown",
      "metadata": {
        "id": "THcMz8YAWsjP"
      },
      "source": [
        "Notice how we specifically referenced our `content` format option!\n",
        "\n",
        "Now that we have the basics set up - let's see what we mean by \"Retrieval Augmented\" Generation."
      ]
    },
    {
      "cell_type": "markdown",
      "metadata": {
        "id": "P7o8aXbhRAPe"
      },
      "source": [
        "## Naive RAG - Manually adding context through the Prompt Template\n",
        "\n",
        "Let's look at how our model performs at a simple task - defining what LangChain is!\n",
        "\n",
        "We'll redo some of our previous work to change the `system_template` to be less...verbose."
      ]
    },
    {
      "cell_type": "code",
      "execution_count": 6,
      "metadata": {
        "colab": {
          "base_uri": "https://localhost:8080/"
        },
        "id": "Qu_Uox_pPKaf",
        "outputId": "5b93eef2-c844-4a23-cd87-94b1686a943a"
      },
      "outputs": [
        {
          "data": {
            "text/html": [
              "<pre style=\"white-space:pre;overflow-x:auto;line-height:normal;font-family:Menlo,'DejaVu Sans Mono',consolas,'Courier New',monospace\">LangChain is a framework designed to facilitate the development of applications that are driven by language models.\n",
              "This includes a variety of applications such as chatbots, Generative Question-Answering <span style=\"font-weight: bold\">(</span>GQA<span style=\"font-weight: bold\">)</span> systems, \n",
              "summarization tools, and more. LangChain is built around two key principles:\n",
              "\n",
              "<span style=\"color: #008080; text-decoration-color: #008080; font-weight: bold\">1</span>. **Components:** LangChain provides modular components that can be used independently or in conjunction with each\n",
              "other to create sophisticated applications. These components include:\n",
              "   - **Model I/O:** Interfaces for interacting with language models.\n",
              "   - **Data Connection:** Tools to connect language models with various data sources.\n",
              "   - **Chains:** Sequences of calls to components that can be arranged to perform complex tasks.\n",
              "   - **Agents:** Components that use language models to make decisions and interact dynamically with other \n",
              "components or data sources.\n",
              "   - **Memory:** Mechanisms to maintain state or context over interactions.\n",
              "\n",
              "<span style=\"color: #008080; text-decoration-color: #008080; font-weight: bold\">2</span>. **Use Cases:** LangChain offers specialized chains tailored for specific tasks such as:\n",
              "   - **Question Answering:** Leveraging language models to answer questions based on provided data.\n",
              "   - **Chatbots:** Creating conversational agents that can interact with users.\n",
              "   - **Data Augmented Generation:** Enhancing the capabilities of language models by integrating them with external\n",
              "data sources.\n",
              "   - **Code Understanding:** Using language models to understand and generate code.\n",
              "   - **Evaluation:** Tools to assess the performance of language model-driven applications.\n",
              "\n",
              "By focusing on these two areas, LangChain aims to provide a robust and flexible toolkit for developers to build and\n",
              "optimize their language model-based applications.\n",
              "</pre>\n"
            ],
            "text/plain": [
              "LangChain is a framework designed to facilitate the development of applications that are driven by language models.\n",
              "This includes a variety of applications such as chatbots, Generative Question-Answering \u001b[1m(\u001b[0mGQA\u001b[1m)\u001b[0m systems, \n",
              "summarization tools, and more. LangChain is built around two key principles:\n",
              "\n",
              "\u001b[1;36m1\u001b[0m. **Components:** LangChain provides modular components that can be used independently or in conjunction with each\n",
              "other to create sophisticated applications. These components include:\n",
              "   - **Model I/O:** Interfaces for interacting with language models.\n",
              "   - **Data Connection:** Tools to connect language models with various data sources.\n",
              "   - **Chains:** Sequences of calls to components that can be arranged to perform complex tasks.\n",
              "   - **Agents:** Components that use language models to make decisions and interact dynamically with other \n",
              "components or data sources.\n",
              "   - **Memory:** Mechanisms to maintain state or context over interactions.\n",
              "\n",
              "\u001b[1;36m2\u001b[0m. **Use Cases:** LangChain offers specialized chains tailored for specific tasks such as:\n",
              "   - **Question Answering:** Leveraging language models to answer questions based on provided data.\n",
              "   - **Chatbots:** Creating conversational agents that can interact with users.\n",
              "   - **Data Augmented Generation:** Enhancing the capabilities of language models by integrating them with external\n",
              "data sources.\n",
              "   - **Code Understanding:** Using language models to understand and generate code.\n",
              "   - **Evaluation:** Tools to assess the performance of language model-driven applications.\n",
              "\n",
              "By focusing on these two areas, LangChain aims to provide a robust and flexible toolkit for developers to build and\n",
              "optimize their language model-based applications.\n"
            ]
          },
          "metadata": {},
          "output_type": "display_data"
        }
      ],
      "source": [
        "system_template = \"You are a helpful assistant.\"\n",
        "human_template = \"{content}\"\n",
        "\n",
        "chat_prompt = ChatPromptTemplate.from_messages(\n",
        "    [(\"system\", system_template), (\"human\", human_template)]\n",
        ")\n",
        "\n",
        "chat_chain = chat_prompt | openai_chat_model\n",
        "\n",
        "pprint(chat_chain.invoke({\"content\": \"Please define LangChain.\"}).content)"
      ]
    },
    {
      "cell_type": "markdown",
      "metadata": {
        "id": "18KXqGI4XbMb"
      },
      "source": [
        "Well, that's not very good - is it!\n",
        "\n",
        "The issue at play here is that our model was not trained on the idea of \"LangChain\", and so it's left with nothing but a guess - definitely not what we want the answer to be!\n",
        "\n",
        "Let's ask another simple LangChain question!"
      ]
    },
    {
      "cell_type": "code",
      "execution_count": 14,
      "metadata": {
        "colab": {
          "base_uri": "https://localhost:8080/"
        },
        "id": "pRG5LwYoXnsr",
        "outputId": "58769a17-aba2-45f8-e9d4-23e96314de54"
      },
      "outputs": [
        {
          "data": {
            "text/html": [
              "<pre style=\"white-space:pre;overflow-x:auto;line-height:normal;font-family:Menlo,'DejaVu Sans Mono',consolas,'Courier New',monospace\">LangChain Expression Language <span style=\"font-weight: bold\">(</span>LCEL<span style=\"font-weight: bold\">)</span> is a specialized language developed for use within the LangChain framework, \n",
              "which is designed to facilitate the building and deployment of applications that integrate with large language \n",
              "models <span style=\"font-weight: bold\">(</span>LLMs<span style=\"font-weight: bold\">)</span>. LCEL enables the definition, manipulation, and execution of expressions and queries in a structured \n",
              "manner, allowing developers to create sophisticated workflows and interactions with LLMs more efficiently.\n",
              "\n",
              "Key features of LCEL include:\n",
              "\n",
              "<span style=\"color: #008080; text-decoration-color: #008080; font-weight: bold\">1</span>. **Structured Query Language**: LCEL provides a structured approach to querying and manipulating data, making it \n",
              "easier to interact with LLMs and other integrated systems.\n",
              "<span style=\"color: #008080; text-decoration-color: #008080; font-weight: bold\">2</span>. **Interoperability**: It is designed to work seamlessly with the LangChain framework, allowing for smooth \n",
              "integration with various tools, APIs, and data sources.\n",
              "<span style=\"color: #008080; text-decoration-color: #008080; font-weight: bold\">3</span>. **Flexibility**: LCEL supports a wide range of expressions and operations, enabling developers to create \n",
              "customized and complex workflows tailored to their specific needs.\n",
              "<span style=\"color: #008080; text-decoration-color: #008080; font-weight: bold\">4</span>. **Ease of Use**: With its syntax and structure, LCEL aims to be user-friendly, making it accessible to \n",
              "developers who may not have extensive experience with traditional programming languages or query languages.\n",
              "\n",
              "In summary, LCEL is a powerful tool within the LangChain ecosystem that enhances the capabilities of applications \n",
              "leveraging large language models by providing a robust and flexible language for defining and executing complex \n",
              "expressions and queries.\n",
              "</pre>\n"
            ],
            "text/plain": [
              "LangChain Expression Language \u001b[1m(\u001b[0mLCEL\u001b[1m)\u001b[0m is a specialized language developed for use within the LangChain framework, \n",
              "which is designed to facilitate the building and deployment of applications that integrate with large language \n",
              "models \u001b[1m(\u001b[0mLLMs\u001b[1m)\u001b[0m. LCEL enables the definition, manipulation, and execution of expressions and queries in a structured \n",
              "manner, allowing developers to create sophisticated workflows and interactions with LLMs more efficiently.\n",
              "\n",
              "Key features of LCEL include:\n",
              "\n",
              "\u001b[1;36m1\u001b[0m. **Structured Query Language**: LCEL provides a structured approach to querying and manipulating data, making it \n",
              "easier to interact with LLMs and other integrated systems.\n",
              "\u001b[1;36m2\u001b[0m. **Interoperability**: It is designed to work seamlessly with the LangChain framework, allowing for smooth \n",
              "integration with various tools, APIs, and data sources.\n",
              "\u001b[1;36m3\u001b[0m. **Flexibility**: LCEL supports a wide range of expressions and operations, enabling developers to create \n",
              "customized and complex workflows tailored to their specific needs.\n",
              "\u001b[1;36m4\u001b[0m. **Ease of Use**: With its syntax and structure, LCEL aims to be user-friendly, making it accessible to \n",
              "developers who may not have extensive experience with traditional programming languages or query languages.\n",
              "\n",
              "In summary, LCEL is a powerful tool within the LangChain ecosystem that enhances the capabilities of applications \n",
              "leveraging large language models by providing a robust and flexible language for defining and executing complex \n",
              "expressions and queries.\n"
            ]
          },
          "metadata": {},
          "output_type": "display_data"
        }
      ],
      "source": [
        "pprint(\n",
        "    chat_chain.invoke(\n",
        "        {\"content\": \"What is LangChain Expression Language (LECL)?\"}\n",
        "    ).content\n",
        ")"
      ]
    },
    {
      "cell_type": "markdown",
      "metadata": {
        "id": "63pr0fgYXxC3"
      },
      "source": [
        "While it provides a confident response, that response is entirely ficticious! Not a great look, OpenAI!\n",
        "\n",
        "However, let's see what happens when we rework our prompts - and we add the content from the docs to our prompt as context."
      ]
    },
    {
      "cell_type": "code",
      "execution_count": 7,
      "metadata": {
        "colab": {
          "base_uri": "https://localhost:8080/"
        },
        "id": "Fgr25HjgYHwh",
        "outputId": "7d590389-8a46-4105-fbe7-c08495dced25"
      },
      "outputs": [
        {
          "name": "stdout",
          "output_type": "stream",
          "text": [
            "LangChain Expression Language (LCEL) is a declarative way to easily compose chains together. It provides several benefits, including full support for sync, async, batch, and streaming interfaces, the ability to handle errors gracefully with fallbacks, automatic parallel execution of components that can be run in parallel, and seamless integration with LangSmith Tracing for detailed observability and debuggability of complex chains."
          ]
        }
      ],
      "source": [
        "HUMAN_TEMPLATE = \"\"\"\n",
        "#CONTEXT:\n",
        "{context}\n",
        "\n",
        "QUERY:\n",
        "{query}\n",
        "\n",
        "Use the provide context to answer the provided user query. Only use the provided context to answer the query. If you do not know the answer, response with \"I don't know\"\n",
        "\"\"\"\n",
        "\n",
        "CONTEXT = \"\"\"\n",
        "LangChain Expression Language or LCEL is a declarative way to easily compose chains together. There are several benefits to writing chains in this manner (as opposed to writing normal code):\n",
        "\n",
        "Async, Batch, and Streaming Support Any chain constructed this way will automatically have full sync, async, batch, and streaming support. This makes it easy to prototype a chain in a Jupyter notebook using the sync interface, and then expose it as an async streaming interface.\n",
        "\n",
        "Fallbacks The non-determinism of LLMs makes it important to be able to handle errors gracefully. With LCEL you can easily attach fallbacks to any chain.\n",
        "\n",
        "Parallelism Since LLM applications involve (sometimes long) API calls, it often becomes important to run things in parallel. With LCEL syntax, any components that can be run in parallel automatically are.\n",
        "\n",
        "Seamless LangSmith Tracing Integration As your chains get more and more complex, it becomes increasingly important to understand what exactly is happening at every step. With LCEL, all steps are automatically logged to LangSmith for maximal observability and debuggability.\n",
        "\"\"\"\n",
        "\n",
        "chat_prompt = ChatPromptTemplate.from_messages([(\"human\", HUMAN_TEMPLATE)])\n",
        "\n",
        "chat_chain = chat_prompt | openai_chat_model\n",
        "\n",
        "async for chunk in chat_chain.astream(\n",
        "    {\"query\": \"What is LangChain Expression Language?\", \"context\": CONTEXT}\n",
        "):\n",
        "    print(chunk.content, end=\"\", flush=True)"
      ]
    },
    {
      "cell_type": "markdown",
      "metadata": {
        "id": "ppQdtCedY7C4"
      },
      "source": [
        "You'll notice that the response is much better this time. Not only does it answer the question well - but there's no trace of confabulation (hallucination) at all!\n",
        "\n",
        "> NOTE: While RAG is an effective strategy to *help* ground LLMs, it is not nearly 100% effective. You will still need to ensure your responses are factual through some other processes\n",
        "\n",
        "That, in essence, is the idea of RAG. We provide the model with context to answer our queries - and rely on it to translate the potentially lengthy and difficult to parse context into a natural language answer!\n",
        "\n",
        "However, manually providing context is not scalable - and doesn't really offer any benefit.\n",
        "\n",
        "Enter: Retrieval Pipelines."
      ]
    },
    {
      "cell_type": "markdown",
      "metadata": {
        "id": "DFmdARsVBJUq"
      },
      "source": [
        "## Task #4: Implement Naive RAG using LCEL\n",
        "\n",
        "Now we can make a naive RAG application that will help us bridge the gap between our Pythonic implementation and a fully LangChain powered solution!"
      ]
    },
    {
      "cell_type": "markdown",
      "metadata": {
        "id": "n4AozVoEZveK"
      },
      "source": [
        "## Putting the R in RAG: Retrieval 101\n",
        "\n",
        "In order to make our RAG system useful, we need a way to provide context that is most likely to answer our user's query to the LLM as additional context.\n",
        "\n",
        "Let's tackle an immediate problem first: The Context Window.\n",
        "\n",
        "All (most) LLMs have a limited context window which is typically measured in tokens. This window is an upper bound of how much stuff we can stuff in the model's input at a time.\n",
        "\n",
        "Let's say we want to work off of a relatively large piece of source data - like the Ultimate Hitchhiker's Guide to the Galaxy. All 898 pages of it!\n",
        "\n",
        "> NOTE: It is recommended you do not run the following cells, they are purely for demonstrative purposes."
      ]
    },
    {
      "cell_type": "code",
      "execution_count": 19,
      "metadata": {
        "id": "PbXBxffibeyp"
      },
      "outputs": [],
      "source": [
        "context = \"\"\"\n",
        "EVERY HITCHHIKER'S GUIDE BOOK\n",
        "\"\"\""
      ]
    },
    {
      "cell_type": "markdown",
      "metadata": {
        "id": "EZvgFuaXcHFT"
      },
      "source": [
        "We can leverage our tokenizer to count the number of tokens for us!"
      ]
    },
    {
      "cell_type": "code",
      "execution_count": 20,
      "metadata": {
        "id": "HaKPOdSjbifn"
      },
      "outputs": [],
      "source": [
        "import tiktoken\n",
        "\n",
        "enc = tiktoken.encoding_for_model(\"gpt-4o\")"
      ]
    },
    {
      "cell_type": "code",
      "execution_count": null,
      "metadata": {
        "colab": {
          "base_uri": "https://localhost:8080/"
        },
        "id": "NtDiSMxpE4Xi",
        "outputId": "886fd517-9128-45ca-9fbd-5152ae7f146b"
      },
      "outputs": [
        {
          "data": {
            "text/plain": [
              "636144"
            ]
          },
          "execution_count": 29,
          "metadata": {},
          "output_type": "execute_result"
        }
      ],
      "source": [
        "len(enc.encode(context))"
      ]
    },
    {
      "cell_type": "markdown",
      "metadata": {
        "id": "5oUuZpAicLdm"
      },
      "source": [
        "The full set comes in at a whopping *636,144* tokens.\n",
        "\n",
        "So, we have too much context. What can we do?\n",
        "\n",
        "Well, the first thing that might enter your mind is: \"Use a model with more context window\", and we could definitely do that! However, even `gpt-4-32k` wouldn't be able to fit that whole text in the context window at once.\n",
        "\n",
        "So, we can try splitting our document up into little pieces - that way, we can avoid providing too much context.\n",
        "\n",
        "We have another problem now.\n",
        "\n",
        "If we split our document up into little pieces, and we can't put all of them in the prompt. How do we decide which to include in the prompt?!\n",
        "\n",
        "> NOTE: Content splitting/chunking strategies are an active area of research and iterative developement. There is no \"one size fits all\" approach to chunking/splitting at this moment. Use your best judgement to determine chunking strategies!\n",
        "\n",
        "In order to conceptualize the following processes - let's create a toy context set!"
      ]
    },
    {
      "cell_type": "markdown",
      "metadata": {
        "id": "UPCiOPwUfbqn"
      },
      "source": [
        "### TextSplitting aka Chunking\n",
        "\n",
        "We'll use the `RecursiveCharacterTextSplitter` to create our toy example.\n",
        "\n",
        "It will split based on the following rules:\n",
        "\n",
        "- Each chunk has a maximum size of 100 tokens\n",
        "- It will try and split first on the `\\n\\n` character, then on the `\\n`, then on the `<SPACE>` character, and finally it will split on individual tokens.\n",
        "\n",
        "Let's implement it and see the results!"
      ]
    },
    {
      "cell_type": "code",
      "execution_count": 8,
      "metadata": {
        "id": "nLW9AfDKfVHn"
      },
      "outputs": [],
      "source": [
        "import tiktoken\n",
        "from langchain.text_splitter import RecursiveCharacterTextSplitter\n",
        "\n",
        "\n",
        "def tiktoken_len(text):\n",
        "    tokens = tiktoken.encoding_for_model(\"gpt-4o\").encode(text)\n",
        "    return len(tokens)\n",
        "\n",
        "\n",
        "text_splitter = RecursiveCharacterTextSplitter(\n",
        "    chunk_size=100,\n",
        "    chunk_overlap=0,\n",
        "    length_function=tiktoken_len,\n",
        ")"
      ]
    },
    {
      "cell_type": "code",
      "execution_count": 9,
      "metadata": {},
      "outputs": [
        {
          "data": {
            "text/html": [
              "<pre style=\"white-space:pre;overflow-x:auto;line-height:normal;font-family:Menlo,'DejaVu Sans Mono',consolas,'Courier New',monospace\"></pre>\n"
            ],
            "text/plain": []
          },
          "metadata": {},
          "output_type": "display_data"
        },
        {
          "data": {
            "text/plain": [
              "\n",
              "\u001b[1m{\u001b[0m\n",
              "    \u001b[32m'_chunk_size'\u001b[0m: \u001b[1;36m100\u001b[0m,\n",
              "    \u001b[32m'_chunk_overlap'\u001b[0m: \u001b[1;36m0\u001b[0m,\n",
              "    \u001b[32m'_length_function'\u001b[0m: \u001b[1m<\u001b[0m\u001b[1;95mfunction\u001b[0m\u001b[39m tiktoken_len at \u001b[0m\u001b[1;36m0x000001DE346342C0\u001b[0m\u001b[1m>\u001b[0m,\n",
              "    \u001b[32m'_keep_separator'\u001b[0m: \u001b[3;92mTrue\u001b[0m,\n",
              "    \u001b[32m'_add_start_index'\u001b[0m: \u001b[3;91mFalse\u001b[0m,\n",
              "    \u001b[32m'_strip_whitespace'\u001b[0m: \u001b[3;92mTrue\u001b[0m,\n",
              "    \u001b[32m'_separators'\u001b[0m: \u001b[1m[\u001b[0m\u001b[32m'\\n\\n'\u001b[0m, \u001b[32m'\\n'\u001b[0m, \u001b[32m' '\u001b[0m, \u001b[32m''\u001b[0m\u001b[1m]\u001b[0m,\n",
              "    \u001b[32m'_is_separator_regex'\u001b[0m: \u001b[3;91mFalse\u001b[0m\n",
              "\u001b[1m}\u001b[0m"
            ]
          },
          "execution_count": 9,
          "metadata": {},
          "output_type": "execute_result"
        }
      ],
      "source": [
        "text_splitter.__dict__"
      ]
    },
    {
      "cell_type": "code",
      "execution_count": 10,
      "metadata": {
        "id": "nPYPBe2ngT9N"
      },
      "outputs": [],
      "source": [
        "chunks = text_splitter.split_text(CONTEXT)"
      ]
    },
    {
      "cell_type": "code",
      "execution_count": 11,
      "metadata": {
        "colab": {
          "base_uri": "https://localhost:8080/"
        },
        "id": "n_RGVlTihaQX",
        "outputId": "d1b260d2-8559-4ccc-d333-9e66543d9ed2"
      },
      "outputs": [
        {
          "data": {
            "text/html": [
              "<pre style=\"white-space:pre;overflow-x:auto;line-height:normal;font-family:Menlo,'DejaVu Sans Mono',consolas,'Courier New',monospace\"></pre>\n"
            ],
            "text/plain": []
          },
          "metadata": {},
          "output_type": "display_data"
        },
        {
          "data": {
            "text/plain": [
              "\u001b[1;36m3\u001b[0m"
            ]
          },
          "execution_count": 11,
          "metadata": {},
          "output_type": "execute_result"
        }
      ],
      "source": [
        "len(chunks)"
      ]
    },
    {
      "cell_type": "code",
      "execution_count": 12,
      "metadata": {
        "colab": {
          "base_uri": "https://localhost:8080/"
        },
        "id": "rTYny2xchS_Z",
        "outputId": "35a390f4-2e17-46f6-b4d2-7c9c86773507"
      },
      "outputs": [
        {
          "data": {
            "text/html": [
              "<pre style=\"white-space:pre;overflow-x:auto;line-height:normal;font-family:Menlo,'DejaVu Sans Mono',consolas,'Courier New',monospace\">LangChain Expression Language or LCEL is a declarative way to easily compose chains together. There are several \n",
              "benefits to writing chains in this manner <span style=\"font-weight: bold\">(</span>as opposed to writing normal code<span style=\"font-weight: bold\">)</span>:\n",
              "\n",
              "Async, Batch, and Streaming Support Any chain constructed this way will automatically have full sync, async, batch,\n",
              "and streaming support. This makes it easy to prototype a chain in a Jupyter notebook using the sync interface, and \n",
              "then expose it as an async streaming interface.\n",
              "</pre>\n"
            ],
            "text/plain": [
              "LangChain Expression Language or LCEL is a declarative way to easily compose chains together. There are several \n",
              "benefits to writing chains in this manner \u001b[1m(\u001b[0mas opposed to writing normal code\u001b[1m)\u001b[0m:\n",
              "\n",
              "Async, Batch, and Streaming Support Any chain constructed this way will automatically have full sync, async, batch,\n",
              "and streaming support. This makes it easy to prototype a chain in a Jupyter notebook using the sync interface, and \n",
              "then expose it as an async streaming interface.\n"
            ]
          },
          "metadata": {},
          "output_type": "display_data"
        },
        {
          "name": "stdout",
          "output_type": "stream",
          "text": [
            "----\n"
          ]
        },
        {
          "data": {
            "text/html": [
              "<pre style=\"white-space:pre;overflow-x:auto;line-height:normal;font-family:Menlo,'DejaVu Sans Mono',consolas,'Courier New',monospace\">Fallbacks The non-determinism of LLMs makes it important to be able to handle errors gracefully. With LCEL you can \n",
              "easily attach fallbacks to any chain.\n",
              "\n",
              "Parallelism Since LLM applications involve <span style=\"font-weight: bold\">(</span>sometimes long<span style=\"font-weight: bold\">)</span> API calls, it often becomes important to run things in \n",
              "parallel. With LCEL syntax, any components that can be run in parallel automatically are.\n",
              "</pre>\n"
            ],
            "text/plain": [
              "Fallbacks The non-determinism of LLMs makes it important to be able to handle errors gracefully. With LCEL you can \n",
              "easily attach fallbacks to any chain.\n",
              "\n",
              "Parallelism Since LLM applications involve \u001b[1m(\u001b[0msometimes long\u001b[1m)\u001b[0m API calls, it often becomes important to run things in \n",
              "parallel. With LCEL syntax, any components that can be run in parallel automatically are.\n"
            ]
          },
          "metadata": {},
          "output_type": "display_data"
        },
        {
          "name": "stdout",
          "output_type": "stream",
          "text": [
            "----\n"
          ]
        },
        {
          "data": {
            "text/html": [
              "<pre style=\"white-space:pre;overflow-x:auto;line-height:normal;font-family:Menlo,'DejaVu Sans Mono',consolas,'Courier New',monospace\">Seamless LangSmith Tracing Integration As your chains get more and more complex, it becomes increasingly important \n",
              "to understand what exactly is happening at every step. With LCEL, all steps are automatically logged to LangSmith \n",
              "for maximal observability and debuggability.\n",
              "</pre>\n"
            ],
            "text/plain": [
              "Seamless LangSmith Tracing Integration As your chains get more and more complex, it becomes increasingly important \n",
              "to understand what exactly is happening at every step. With LCEL, all steps are automatically logged to LangSmith \n",
              "for maximal observability and debuggability.\n"
            ]
          },
          "metadata": {},
          "output_type": "display_data"
        },
        {
          "name": "stdout",
          "output_type": "stream",
          "text": [
            "----\n"
          ]
        }
      ],
      "source": [
        "for chunk in chunks:\n",
        "  pprint(chunk)\n",
        "  print(\"----\")"
      ]
    },
    {
      "cell_type": "markdown",
      "metadata": {
        "id": "98hOgu5Yhefv"
      },
      "source": [
        "As is shown in our result, we've split each section into 100 token chunks - cleanly separated by `\\n\\n` characters!"
      ]
    },
    {
      "cell_type": "markdown",
      "metadata": {
        "id": "3PTiJ2utMpqq"
      },
      "source": [
        "#### 🏗️ Activity #1:\n",
        "\n",
        "While there's nothing specifically wrong with the chunking method used above - it is a naive approach that is not sensitive to specific data formats.\n",
        "\n",
        "Brainstorm some ideas that would split large single documents into smaller documents.\n",
        "\n",
        "1. We can split by document sections, chapters, or paragraphs. An example of this would be splitting SEC 10-K filings by section\n",
        "2. We can split by page numbers as well. This would be useful for documents that are paginated and have a consistent format\n",
        "3. We can split by sentence. This would be useful for documents that are more conversational in nature"
      ]
    },
    {
      "cell_type": "markdown",
      "metadata": {
        "id": "rj18Rjafhp7d"
      },
      "source": [
        "## Embeddings and Dense Vector Search\n",
        "\n",
        "Now that we have our individual chunks, we need a system to correctly select the relevant pieces of information to answer our query.\n",
        "\n",
        "This sounds like a perfect job for embeddings!\n",
        "\n",
        "We'll be using OpenAI's `text-embedding-3` model as our embedding model today!\n",
        "\n",
        "Let's load it up through LangChain."
      ]
    },
    {
      "cell_type": "code",
      "execution_count": 13,
      "metadata": {
        "id": "quNjOLWspOVN"
      },
      "outputs": [],
      "source": [
        "from langchain_openai.embeddings import OpenAIEmbeddings\n",
        "\n",
        "embedding_model = OpenAIEmbeddings(model=\"text-embedding-3-small\")"
      ]
    },
    {
      "cell_type": "markdown",
      "metadata": {
        "id": "dsGZ92hm9IeX"
      },
      "source": [
        "#### ❓ Question #2:\n",
        "\n",
        "What is the embedding dimension, given that we're using `text-embedding-3-small`?\n",
        "\n",
        "> HINT: Check out the [docs](https://platform.openai.com/docs/guides/embeddings) to help you answer this question."
      ]
    },
    {
      "cell_type": "markdown",
      "metadata": {},
      "source": [
        "#### Answer #2:\n",
        "\n",
        "The default embedding dimension for `text-embedding-3-small` is 1536, equivalent to the `ada-002` model.\n"
      ]
    },
    {
      "cell_type": "markdown",
      "metadata": {
        "id": "ByK-zb0FsnqR"
      },
      "source": [
        "### Finding the Embeddings for Our Chunks\n",
        "\n",
        "First, let's find all our embeddings for each chunk and store them in a convenient format for later."
      ]
    },
    {
      "cell_type": "code",
      "execution_count": 14,
      "metadata": {
        "id": "ZHl-u6Fxske9"
      },
      "outputs": [],
      "source": [
        "embeddings_dict = {}\n",
        "\n",
        "for chunk in chunks:\n",
        "    embeddings_dict[chunk] = embedding_model.embed_query(chunk)"
      ]
    },
    {
      "cell_type": "code",
      "execution_count": 15,
      "metadata": {
        "colab": {
          "base_uri": "https://localhost:8080/"
        },
        "id": "RhJ9wY2etK7y",
        "outputId": "bc3554eb-9075-4a7f-c028-7dae06e7256c"
      },
      "outputs": [
        {
          "data": {
            "text/html": [
              "<pre style=\"white-space:pre;overflow-x:auto;line-height:normal;font-family:Menlo,'DejaVu Sans Mono',consolas,'Courier New',monospace\">Chunk - LangChain Expression Language or LCEL is a declarative way to easily compose chains together. There are \n",
              "several benefits to writing chains in this manner <span style=\"font-weight: bold\">(</span>as opposed to writing normal code<span style=\"font-weight: bold\">)</span>:\n",
              "\n",
              "Async, Batch, and Streaming Support Any chain constructed this way will automatically have full sync, async, batch,\n",
              "and streaming support. This makes it easy to prototype a chain in a Jupyter notebook using the sync interface, and \n",
              "then expose it as an async streaming interface.\n",
              "</pre>\n"
            ],
            "text/plain": [
              "Chunk - LangChain Expression Language or LCEL is a declarative way to easily compose chains together. There are \n",
              "several benefits to writing chains in this manner \u001b[1m(\u001b[0mas opposed to writing normal code\u001b[1m)\u001b[0m:\n",
              "\n",
              "Async, Batch, and Streaming Support Any chain constructed this way will automatically have full sync, async, batch,\n",
              "and streaming support. This makes it easy to prototype a chain in a Jupyter notebook using the sync interface, and \n",
              "then expose it as an async streaming interface.\n"
            ]
          },
          "metadata": {},
          "output_type": "display_data"
        },
        {
          "name": "stdout",
          "output_type": "stream",
          "text": [
            "---\n"
          ]
        },
        {
          "data": {
            "text/html": [
              "<pre style=\"white-space:pre;overflow-x:auto;line-height:normal;font-family:Menlo,'DejaVu Sans Mono',consolas,'Courier New',monospace\">Embedding - Vector of Size: <span style=\"color: #008080; text-decoration-color: #008080; font-weight: bold\">1536</span>\n",
              "</pre>\n"
            ],
            "text/plain": [
              "Embedding - Vector of Size: \u001b[1;36m1536\u001b[0m\n"
            ]
          },
          "metadata": {},
          "output_type": "display_data"
        },
        {
          "data": {
            "text/html": [
              "<pre style=\"white-space:pre;overflow-x:auto;line-height:normal;font-family:Menlo,'DejaVu Sans Mono',consolas,'Courier New',monospace\">Chunk - Fallbacks The non-determinism of LLMs makes it important to be able to handle errors gracefully. With LCEL \n",
              "you can easily attach fallbacks to any chain.\n",
              "\n",
              "Parallelism Since LLM applications involve <span style=\"font-weight: bold\">(</span>sometimes long<span style=\"font-weight: bold\">)</span> API calls, it often becomes important to run things in \n",
              "parallel. With LCEL syntax, any components that can be run in parallel automatically are.\n",
              "</pre>\n"
            ],
            "text/plain": [
              "Chunk - Fallbacks The non-determinism of LLMs makes it important to be able to handle errors gracefully. With LCEL \n",
              "you can easily attach fallbacks to any chain.\n",
              "\n",
              "Parallelism Since LLM applications involve \u001b[1m(\u001b[0msometimes long\u001b[1m)\u001b[0m API calls, it often becomes important to run things in \n",
              "parallel. With LCEL syntax, any components that can be run in parallel automatically are.\n"
            ]
          },
          "metadata": {},
          "output_type": "display_data"
        },
        {
          "name": "stdout",
          "output_type": "stream",
          "text": [
            "---\n"
          ]
        },
        {
          "data": {
            "text/html": [
              "<pre style=\"white-space:pre;overflow-x:auto;line-height:normal;font-family:Menlo,'DejaVu Sans Mono',consolas,'Courier New',monospace\">Embedding - Vector of Size: <span style=\"color: #008080; text-decoration-color: #008080; font-weight: bold\">1536</span>\n",
              "</pre>\n"
            ],
            "text/plain": [
              "Embedding - Vector of Size: \u001b[1;36m1536\u001b[0m\n"
            ]
          },
          "metadata": {},
          "output_type": "display_data"
        },
        {
          "data": {
            "text/html": [
              "<pre style=\"white-space:pre;overflow-x:auto;line-height:normal;font-family:Menlo,'DejaVu Sans Mono',consolas,'Courier New',monospace\">Chunk - Seamless LangSmith Tracing Integration As your chains get more and more complex, it becomes increasingly \n",
              "important to understand what exactly is happening at every step. With LCEL, all steps are automatically logged to \n",
              "LangSmith for maximal observability and debuggability.\n",
              "</pre>\n"
            ],
            "text/plain": [
              "Chunk - Seamless LangSmith Tracing Integration As your chains get more and more complex, it becomes increasingly \n",
              "important to understand what exactly is happening at every step. With LCEL, all steps are automatically logged to \n",
              "LangSmith for maximal observability and debuggability.\n"
            ]
          },
          "metadata": {},
          "output_type": "display_data"
        },
        {
          "name": "stdout",
          "output_type": "stream",
          "text": [
            "---\n"
          ]
        },
        {
          "data": {
            "text/html": [
              "<pre style=\"white-space:pre;overflow-x:auto;line-height:normal;font-family:Menlo,'DejaVu Sans Mono',consolas,'Courier New',monospace\">Embedding - Vector of Size: <span style=\"color: #008080; text-decoration-color: #008080; font-weight: bold\">1536</span>\n",
              "</pre>\n"
            ],
            "text/plain": [
              "Embedding - Vector of Size: \u001b[1;36m1536\u001b[0m\n"
            ]
          },
          "metadata": {},
          "output_type": "display_data"
        }
      ],
      "source": [
        "for k, v in embeddings_dict.items():\n",
        "    pprint(f\"Chunk - {k}\")\n",
        "    print(\"---\")\n",
        "    pprint(f\"Embedding - Vector of Size: {len(v)}\")"
      ]
    },
    {
      "cell_type": "markdown",
      "metadata": {
        "id": "SOxYybdNtkWv"
      },
      "source": [
        "Okay, great. Let's create a query - and then embed it!"
      ]
    },
    {
      "cell_type": "code",
      "execution_count": 16,
      "metadata": {
        "colab": {
          "base_uri": "https://localhost:8080/"
        },
        "id": "FQD5Zwl1tLrZ",
        "outputId": "d42d7488-edca-458b-dca4-1b11f3536cb2"
      },
      "outputs": [
        {
          "name": "stdout",
          "output_type": "stream",
          "text": [
            "Vector of Size: 1536\n"
          ]
        }
      ],
      "source": [
        "query = \"Can LCEL help take code from the notebook to production?\"\n",
        "\n",
        "query_vector = embedding_model.embed_query(query)\n",
        "print(f\"Vector of Size: {len(query_vector)}\")"
      ]
    },
    {
      "cell_type": "markdown",
      "metadata": {
        "id": "kkJhyvgEt5Vt"
      },
      "source": [
        "Now, let's compare it against each existing chunk's embedding by using cosine similarity."
      ]
    },
    {
      "cell_type": "code",
      "execution_count": 17,
      "metadata": {
        "id": "vfyDZlpmfWYa"
      },
      "outputs": [],
      "source": [
        "import numpy as np\n",
        "from numpy.linalg import norm\n",
        "\n",
        "\n",
        "def cosine_similarity(vec_1, vec_2):\n",
        "    return np.dot(vec_1, vec_2) / (norm(vec_1) * norm(vec_2))"
      ]
    },
    {
      "cell_type": "code",
      "execution_count": 18,
      "metadata": {
        "colab": {
          "base_uri": "https://localhost:8080/"
        },
        "id": "MwnJ0uYQt-G_",
        "outputId": "5ed2d13c-564c-4e2d-b06a-9f4e2e75d9d0"
      },
      "outputs": [
        {
          "name": "stdout",
          "output_type": "stream",
          "text": [
            "LangChain Expression Language or LCEL is a declarative way to easily compose chains together. There are several benefits to writing chains in this manner (as opposed to writing normal code):\n",
            "\n",
            "Async, Batch, and Streaming Support Any chain constructed this way will automatically have full sync, async, batch, and streaming support. This makes it easy to prototype a chain in a Jupyter notebook using the sync interface, and then expose it as an async streaming interface.\n",
            "0.537298487051912\n"
          ]
        }
      ],
      "source": [
        "max_similarity = -float(\"inf\")\n",
        "closest_chunk = \"\"\n",
        "\n",
        "for chunk, chunk_vector in embeddings_dict.items():\n",
        "    cosine_similarity_score = cosine_similarity(chunk_vector, query_vector)\n",
        "\n",
        "    if cosine_similarity_score > max_similarity:\n",
        "        closest_chunk = chunk\n",
        "        max_similarity = cosine_similarity_score\n",
        "\n",
        "print(closest_chunk)\n",
        "print(max_similarity)"
      ]
    },
    {
      "cell_type": "markdown",
      "metadata": {
        "id": "JDC7HS7iumN-"
      },
      "source": [
        "And we get the expected result, which is the passage that specifically mentions prototyping in a Jupyter Notebook!"
      ]
    },
    {
      "cell_type": "markdown",
      "metadata": {
        "id": "UPJexL1kuw45"
      },
      "source": [
        "### Creating a Retriever\n",
        "\n",
        "Now that we have an idea of how we're getting our most relevant information - let's see how we could create a pipeline that would automatically extract the closest chunk to our query and use it as context for our prompt!\n",
        "\n",
        "First, we'll wrap the above in a helper function!"
      ]
    },
    {
      "cell_type": "code",
      "execution_count": 19,
      "metadata": {
        "id": "tnLpo26pu8-1"
      },
      "outputs": [],
      "source": [
        "def retrieve_context(query, embeddings_dict, embedding_model):\n",
        "    query_vector = embedding_model.embed_query(query)\n",
        "    max_similarity = -float(\"inf\")\n",
        "    closest_chunk = \"\"\n",
        "\n",
        "    for chunk, chunk_vector in embeddings_dict.items():\n",
        "        cosine_similarity_score = cosine_similarity(chunk_vector, query_vector)\n",
        "\n",
        "        if cosine_similarity_score > max_similarity:\n",
        "            closest_chunk = chunk\n",
        "            max_similarity = cosine_similarity_score\n",
        "\n",
        "    return closest_chunk"
      ]
    },
    {
      "cell_type": "markdown",
      "metadata": {
        "id": "ytrINkVrvL1Q"
      },
      "source": [
        "Now, let's add it to our pipeline!"
      ]
    },
    {
      "cell_type": "code",
      "execution_count": 20,
      "metadata": {
        "id": "Q26pl1osvNmL"
      },
      "outputs": [],
      "source": [
        "# Added streaming view\n",
        "\n",
        "async def simple_rag(\n",
        "    query: str, embeddings_dict: dict, embedding_model: OpenAIEmbeddings, chat_chain\n",
        "):\n",
        "    context = retrieve_context(query, embeddings_dict, embedding_model)\n",
        "\n",
        "    chunks = []\n",
        "    async for chunk in chat_chain.astream({\"query\": query, \"context\": context}):\n",
        "        chunks.append(chunk.content)\n",
        "        print(chunk.content, end=\"\", flush=True)\n",
        "\n",
        "    return_package = {\n",
        "        \"query\": query,\n",
        "        \"response\": \"\".join(chunks),\n",
        "        \"retriever_context\": context,\n",
        "    }\n",
        "\n",
        "    return return_package"
      ]
    },
    {
      "cell_type": "code",
      "execution_count": 21,
      "metadata": {},
      "outputs": [
        {
          "name": "stdout",
          "output_type": "stream",
          "text": [
            "Yes, LCEL can help take code from the notebook to production. Any chain constructed using LCEL will automatically have full support for sync, async, batch, and streaming operations. This allows for easy prototyping of a chain in a Jupyter notebook using the sync interface, and then seamlessly exposing it as an async streaming interface for production use."
          ]
        },
        {
          "data": {
            "text/html": [
              "<pre style=\"white-space:pre;overflow-x:auto;line-height:normal;font-family:Menlo,'DejaVu Sans Mono',consolas,'Courier New',monospace\"></pre>\n"
            ],
            "text/plain": []
          },
          "metadata": {},
          "output_type": "display_data"
        },
        {
          "data": {
            "text/plain": [
              "\n",
              "\u001b[1m{\u001b[0m\n",
              "    \u001b[32m'query'\u001b[0m: \u001b[32m'Can LCEL help take code from the notebook to production?'\u001b[0m,\n",
              "    \u001b[32m'response'\u001b[0m: \u001b[32m'Yes, LCEL can help take code from the notebook to production. Any chain constructed using LCEL will automatically have full support for sync, async, batch, and streaming operations. This allows for easy prototyping of a chain in a Jupyter notebook using the sync interface, and then seamlessly exposing it as an async streaming interface for production use.'\u001b[0m,\n",
              "    \u001b[32m'retriever_context'\u001b[0m: \u001b[32m'LangChain Expression Language or LCEL is a declarative way to easily compose chains together. There are several benefits to writing chains in this manner \u001b[0m\u001b[32m(\u001b[0m\u001b[32mas opposed to writing normal code\u001b[0m\u001b[32m)\u001b[0m\u001b[32m:\\n\\nAsync, Batch, and Streaming Support Any chain constructed this way will automatically have full sync, async, batch, and streaming support. This makes it easy to prototype a chain in a Jupyter notebook using the sync interface, and then expose it as an async streaming interface.'\u001b[0m\n",
              "\u001b[1m}\u001b[0m"
            ]
          },
          "execution_count": 21,
          "metadata": {},
          "output_type": "execute_result"
        }
      ],
      "source": [
        "await simple_rag(\n",
        "    \"Can LCEL help take code from the notebook to production?\",\n",
        "    embeddings_dict,\n",
        "    embedding_model,\n",
        "    chat_chain,\n",
        ")\n"
      ]
    },
    {
      "cell_type": "code",
      "execution_count": 22,
      "metadata": {},
      "outputs": [
        {
          "name": "stdout",
          "output_type": "stream",
          "text": [
            "LCEL makes it more reliable at scale by automatically providing full support for sync, async, batch, and streaming operations. This ensures that chains constructed using LCEL can efficiently handle various types of workloads and execution modes, making them robust and scalable."
          ]
        },
        {
          "data": {
            "text/html": [
              "<pre style=\"white-space:pre;overflow-x:auto;line-height:normal;font-family:Menlo,'DejaVu Sans Mono',consolas,'Courier New',monospace\"></pre>\n"
            ],
            "text/plain": []
          },
          "metadata": {},
          "output_type": "display_data"
        },
        {
          "data": {
            "text/plain": [
              "\n",
              "\u001b[1m{\u001b[0m\n",
              "    \u001b[32m'query'\u001b[0m: \u001b[32m'What does LCEL do that makes it more reliable at scale?'\u001b[0m,\n",
              "    \u001b[32m'response'\u001b[0m: \u001b[32m'LCEL makes it more reliable at scale by automatically providing full support for sync, async, batch, and streaming operations. This ensures that chains constructed using LCEL can efficiently handle various types of workloads and execution modes, making them robust and scalable.'\u001b[0m,\n",
              "    \u001b[32m'retriever_context'\u001b[0m: \u001b[32m'LangChain Expression Language or LCEL is a declarative way to easily compose chains together. There are several benefits to writing chains in this manner \u001b[0m\u001b[32m(\u001b[0m\u001b[32mas opposed to writing normal code\u001b[0m\u001b[32m)\u001b[0m\u001b[32m:\\n\\nAsync, Batch, and Streaming Support Any chain constructed this way will automatically have full sync, async, batch, and streaming support. This makes it easy to prototype a chain in a Jupyter notebook using the sync interface, and then expose it as an async streaming interface.'\u001b[0m\n",
              "\u001b[1m}\u001b[0m"
            ]
          },
          "execution_count": 22,
          "metadata": {},
          "output_type": "execute_result"
        }
      ],
      "source": [
        "await simple_rag(\n",
        "    \"What does LCEL do that makes it more reliable at scale?\",\n",
        "    embeddings_dict,\n",
        "    embedding_model,\n",
        "    chat_chain,\n",
        ")\n"
      ]
    },
    {
      "cell_type": "markdown",
      "metadata": {
        "id": "cD2URVX3O3XJ"
      },
      "source": [
        "#### ❓ Question #3:\n",
        "\n",
        "What does LCEL do that makes it more reliable at scale?\n",
        "\n",
        "> HINT: Use your newly created `simple_rag` to help you answer this question!"
      ]
    },
    {
      "cell_type": "markdown",
      "metadata": {},
      "source": [
        "#### Answer #3:\n",
        "\n",
        "LCEL makes chains more reliable at scale by automatically providing full sync, async, batch, and streaming support. This ensures that any chain constructed using LCEL can be easily prototyped and then scaled to different execution modes without needing to rewrite the code, thus enhancing reliability and flexibility."
      ]
    },
    {
      "cell_type": "markdown",
      "metadata": {
        "id": "FfYsBu45-0pL"
      },
      "source": [
        "# 🤝 Breakout Room #2"
      ]
    },
    {
      "cell_type": "markdown",
      "metadata": {
        "id": "Cx2AOb-QHwJm"
      },
      "source": [
        "## Task #5: Create a Simple RAG Application Using Qdrant, OpenAI, and LCEL\n",
        "\n",
        "Now that we have a grasp on how LCEL works, and how we can use LangChain and OpenAI to interact with our data - let's step it up a notch and incorporate Qdrant!"
      ]
    },
    {
      "cell_type": "markdown",
      "metadata": {
        "id": "XYJB3IxEwpnh"
      },
      "source": [
        "## LangChain Powered RAG\n",
        "\n",
        "First and foremost, LangChain provides a convenient way to store our chunks and their embeddings.\n",
        "\n",
        "It's called a `VectorStore`!\n",
        "\n",
        "We'll be using Drant as our `VectorStore` today. You can read more about it [here](https://qdrant.tech/documentation/).\n",
        "\n",
        "Think of a `VectorStore` as a smart way to house your chunks and their associated embedding vectors. The implementation of the `VectorStore` also allows for smarter and more efficient search of our embedding vectors - as the method we used above would not scale well as we got into the millions of chunks.\n",
        "\n",
        "Otherwise, the process remains relatively similar under the hood!\n",
        "\n",
        "Let's use [Steve Jobs iPhone 2007 Presentation Introduction Speech PDF](https://singjupost.com/wp-content/uploads/2014/07/Steve-Jobs-iPhone-2007-Presentation-Full-Transcript.pdf) as our data today!"
      ]
    },
    {
      "cell_type": "markdown",
      "metadata": {
        "id": "pBErqPRgxgZR"
      },
      "source": [
        "### Data Collection\n",
        "\n",
        "We'll be leveraging the `PyMUPDFLoader` to load our PDF directly from the web!"
      ]
    },
    {
      "cell_type": "code",
      "execution_count": 23,
      "metadata": {
        "id": "-AHA9L3Jxo3r"
      },
      "outputs": [],
      "source": [
        "from langchain.document_loaders import PyMuPDFLoader\n",
        "\n",
        "docs = PyMuPDFLoader(\n",
        "    \"https://singjupost.com/wp-content/uploads/2014/07/Steve-Jobs-iPhone-2007-Presentation-Full-Transcript.pdf\"\n",
        ").load()"
      ]
    },
    {
      "cell_type": "code",
      "execution_count": 24,
      "metadata": {},
      "outputs": [
        {
          "data": {
            "text/html": [
              "<pre style=\"white-space:pre;overflow-x:auto;line-height:normal;font-family:Menlo,'DejaVu Sans Mono',consolas,'Courier New',monospace\"></pre>\n"
            ],
            "text/plain": []
          },
          "metadata": {},
          "output_type": "display_data"
        },
        {
          "data": {
            "text/plain": [
              "\n",
              "\u001b[1m[\u001b[0m\n",
              "    \u001b[1;35mDocument\u001b[0m\u001b[1m(\u001b[0m\n",
              "        \u001b[33mpage_content\u001b[0m=\u001b[32m'© 2020 The Singju Post\\nOn January 9, 2007, then Apple’s CEO Steve Jobs introduced the iPhone for the first time\\nand the world of mobile devices changed forever. Here is the full keynote presentation by\\nSteve Jobs….\\n TRANSCRIPT: \\nSteve Jobs- Apple CEO\\nThis is the day I’ve been looking forward to for two and a half years.\\nEvery once in a while, a revolutionary product comes along that changes everything and\\nApple has been – well, first of all, one’s very fortunate if you get to work on just one of these\\nin your career. Apple has been very fortunate. It’s been able to introduce a few of these into\\nthe world.\\n1984 – we introduced the Macintosh. It didn’t just change Apple. It changed the whole\\ncomputer industry.\\nIn 2001, we introduced the first iPod. And it didn’t just change the way we all listen to\\nmusic, it changed the entire music industry.\\nWell, today we’re introducing three revolutionary products of this class. The first one is a\\nwidescreen iPod with touch controls. The second is a revolutionary mobile phone.\\nAnd the third is a breakthrough Internet communications device.\\nSo, three things: a widescreen iPod with touch controls; a revolutionary mobile phone; and a\\nbreakthrough Internet communications device. An iPod, a phone, and an Internet\\ncommunicator. An iPod, a phone… are you getting it? These are not three separate devices,\\nthis is one device, and we are calling it iPhone. Today, Apple is going to reinvent the phone,\\nand here it is.\\nNo, actually here it is, but we’re going to leave it there for now.\\nSo, before we get into it, let me talk about a category of things. The most advanced phones\\nare called smart phones, so they say. And they typically combine a phone plus some e-mail\\ncapability, plus they say it’s the Internet. It’s sort of the baby Internet into one device, and\\nthey all have these little plastic keyboards on them. And the problem is that they’re not so\\nsmart and they’re not so easy to use, and so if you kind of make a Business School 101\\ngraph of the smart axis and the easy-to-use axis, phones, regular cell phones are right there,\\nthey’re not so smart, and they’re not so easy to use.\\n'\u001b[0m,\n",
              "        \u001b[33mmetadata\u001b[0m=\u001b[1m{\u001b[0m\n",
              "            \u001b[32m'source'\u001b[0m: \u001b[32m'https://singjupost.com/wp-content/uploads/2014/07/Steve-Jobs-iPhone-2007-Presentation-Full-Transcript.pdf'\u001b[0m,\n",
              "            \u001b[32m'file_path'\u001b[0m: \u001b[32m'https://singjupost.com/wp-content/uploads/2014/07/Steve-Jobs-iPhone-2007-Presentation-Full-Transcript.pdf'\u001b[0m,\n",
              "            \u001b[32m'page'\u001b[0m: \u001b[1;36m0\u001b[0m,\n",
              "            \u001b[32m'total_pages'\u001b[0m: \u001b[1;36m22\u001b[0m,\n",
              "            \u001b[32m'format'\u001b[0m: \u001b[32m'PDF 1.4'\u001b[0m,\n",
              "            \u001b[32m'title'\u001b[0m: \u001b[32m'Steve Jobs iPhone 2007 Presentation \u001b[0m\u001b[32m(\u001b[0m\u001b[32mFull Transcript\u001b[0m\u001b[32m)\u001b[0m\u001b[32m'\u001b[0m,\n",
              "            \u001b[32m'author'\u001b[0m: \u001b[32m'Married Wildebeest'\u001b[0m,\n",
              "            \u001b[32m'subject'\u001b[0m: \u001b[32m''\u001b[0m,\n",
              "            \u001b[32m'keywords'\u001b[0m: \u001b[32m''\u001b[0m,\n",
              "            \u001b[32m'creator'\u001b[0m: \u001b[32m''\u001b[0m,\n",
              "            \u001b[32m'producer'\u001b[0m: \u001b[32m'mPDF 7.0.3'\u001b[0m,\n",
              "            \u001b[32m'creationDate'\u001b[0m: \u001b[32m\"20200415062431+00'00'\"\u001b[0m,\n",
              "            \u001b[32m'modDate'\u001b[0m: \u001b[32m\"20200415062431+00'00'\"\u001b[0m,\n",
              "            \u001b[32m'trapped'\u001b[0m: \u001b[32m''\u001b[0m\n",
              "        \u001b[1m}\u001b[0m\n",
              "    \u001b[1m)\u001b[0m,\n",
              "    \u001b[1;35mDocument\u001b[0m\u001b[1m(\u001b[0m\n",
              "        \u001b[33mpage_content\u001b[0m=\u001b[32m'© 2020 The Singju Post\\nBut smartphones are definitely a little smarter, but they actually are harder to use. They’re\\nreally complicated. Just for the basic stuff people have a hard time figuring out how to use\\nthem. Well, we don’t want to do either one of these things. What we want to do is make a\\nleapfrog product that is way smarter than any mobile device has ever been and super-easy\\nto use. This is what iPhone is.\\nSo, we’re going to reinvent the phone. Now, we’re going to start with a revolutionary user\\ninterface. It is the result of years of research and development, and of course, it’s an\\ninterplay of hardware and software.\\nNow, why do we need a revolutionary user interface. Here’s four smartphones, right?\\nMotorola Q, the BlackBerry, Palm Treo, Nokia E62 — the usual suspects. And, what’s wrong\\nwith their user interfaces? Well, the problem with them is really sort of in the bottom 40\\nthere. It’s this stuff right there. They all have these keyboards that are there whether or not\\nyou need them to be there. And they all have these control buttons that are fixed in plastic\\nand are the same for every application. Well, every application wants a slightly different\\nuser interface, a slightly optimized set of buttons, just for it.\\nAnd what happens if you think of a great idea six months from now? You can’t run around\\nand add a button to these things. They’re already shipped. So what do you do? It doesn’t\\nwork because the buttons and the controls can’t change. They can’t change for each\\napplication, and they can’t change down the road if you think of another great idea you want\\nto add to this product.\\nWell, how do you solve this? Hmm. It turns out, we have solved it. We solved in computers\\n20 years ago. We solved it with a bit-mapped screen that could display anything we want.\\nPut any user interface up. And a pointing device. We solved it with the mouse. We solved\\nthis problem. So how are we going to take this to a mobile device? What we’re going to do is\\nget rid of all these buttons and just make a giant screen. A giant screen.\\nNow, how are we going to communicate this? We don’t want to carry around a mouse,\\nright? So what are we going to do? Oh, a stylus, right? We’re going to use a stylus. No. Who\\nwants a stylus? You have to get them and put them away, and you lose them. Yuck. Nobody\\nwants a stylus. So let’s not use a stylus.\\nWe’re going to use the best pointing device in the world. We’re going to use a pointing\\ndevice that we’re all born with — born with ten of them. We’re going to use our fingers.\\nWe’re going to touch this with our fingers. And we have invented a new technology called\\nmulti-touch, which is phenomenal. It works like magic. You don’t need a stylus. It’s far\\n'\u001b[0m,\n",
              "        \u001b[33mmetadata\u001b[0m=\u001b[1m{\u001b[0m\n",
              "            \u001b[32m'source'\u001b[0m: \u001b[32m'https://singjupost.com/wp-content/uploads/2014/07/Steve-Jobs-iPhone-2007-Presentation-Full-Transcript.pdf'\u001b[0m,\n",
              "            \u001b[32m'file_path'\u001b[0m: \u001b[32m'https://singjupost.com/wp-content/uploads/2014/07/Steve-Jobs-iPhone-2007-Presentation-Full-Transcript.pdf'\u001b[0m,\n",
              "            \u001b[32m'page'\u001b[0m: \u001b[1;36m1\u001b[0m,\n",
              "            \u001b[32m'total_pages'\u001b[0m: \u001b[1;36m22\u001b[0m,\n",
              "            \u001b[32m'format'\u001b[0m: \u001b[32m'PDF 1.4'\u001b[0m,\n",
              "            \u001b[32m'title'\u001b[0m: \u001b[32m'Steve Jobs iPhone 2007 Presentation \u001b[0m\u001b[32m(\u001b[0m\u001b[32mFull Transcript\u001b[0m\u001b[32m)\u001b[0m\u001b[32m'\u001b[0m,\n",
              "            \u001b[32m'author'\u001b[0m: \u001b[32m'Married Wildebeest'\u001b[0m,\n",
              "            \u001b[32m'subject'\u001b[0m: \u001b[32m''\u001b[0m,\n",
              "            \u001b[32m'keywords'\u001b[0m: \u001b[32m''\u001b[0m,\n",
              "            \u001b[32m'creator'\u001b[0m: \u001b[32m''\u001b[0m,\n",
              "            \u001b[32m'producer'\u001b[0m: \u001b[32m'mPDF 7.0.3'\u001b[0m,\n",
              "            \u001b[32m'creationDate'\u001b[0m: \u001b[32m\"20200415062431+00'00'\"\u001b[0m,\n",
              "            \u001b[32m'modDate'\u001b[0m: \u001b[32m\"20200415062431+00'00'\"\u001b[0m,\n",
              "            \u001b[32m'trapped'\u001b[0m: \u001b[32m''\u001b[0m\n",
              "        \u001b[1m}\u001b[0m\n",
              "    \u001b[1m)\u001b[0m,\n",
              "    \u001b[1;35mDocument\u001b[0m\u001b[1m(\u001b[0m\n",
              "        \u001b[33mpage_content\u001b[0m=\u001b[32m'© 2020 The Singju Post\\nmore accurate than any touch display that’s ever been shipped. It ignores unintended\\ntouches, it’s super-smart. You can do multi-finger gestures on it. And boy, have we patented\\nit.\\nSo we have been very lucky to have brought a few revolutionary user interfaces to the\\nmarket in our time. First was the mouse. The second was the click wheel. And now, we’re\\ngoing to bring multi-touch to the market. And each of these revolutionary interfaces has\\nmade possible a revolutionary product — the Mac, the iPod and now the iPhone. So, a\\nrevolutionary user interface. We’re going to build on top of that with software.\\nNow, software on mobile phones is like baby software. It’s not so powerful, and today we’re\\ngoing to show you a software breakthrough. Software that’s at least five years ahead of\\nwhat’s on any other phone. Now how do we do this? Well, we start with a strong foundation.\\niPhone runs OSX.\\nNow, why would we want to run such a sophisticated operating system on a mobile\\ndevice? Well, because it’s got everything we need. It’s got multi-tasking. It’s got the best\\nnetworking. It already knows how to power manage. We’ve been doing this on mobile\\ncomputers for years. It’s got awesome security. And the right apps. It’s got everything from\\nCocoa and the graphics and it’s got core animation built in and it’s got the audio and video\\nthat OSX is famous for. It’s got all the stuff we want. And it’s built right in to iPhone. And\\nthat has let us create desktop class applications and networking. Not the crippled stuff that\\nyou find on most phones. This is real, desktop-class applications.\\nNow, you know, one of the pioneers of our industry, Alan Kay, has had a lot of great quotes\\nthroughout the years, and I ran across one of them recently that explains how we look at\\nthis, explains why we go about doing things the way we do, because we love software.\\nAnd here’s the quote: “People who are really serious about software should make their own\\nhardware.” Alan said that 30 years ago, and this is how we feel about it. And so we’re\\nbringing breakthrough software to a mobile device for the first time. It’s five years ahead of\\nanything on any other phone.\\nSynch with iTunes\\nThe second thing we’re doing is we’re learning from the iPod, synching with iTunes. You\\nknow, we’re going to ship our 100 millionth iPod this year, and that’s tens of millions of\\npeople that know how to synch these devices with their PCs or Mac and synch all of their\\nmedia right on to their iPod. Right? So you just drop your iPod in, and it automatically\\n'\u001b[0m,\n",
              "        \u001b[33mmetadata\u001b[0m=\u001b[1m{\u001b[0m\n",
              "            \u001b[32m'source'\u001b[0m: \u001b[32m'https://singjupost.com/wp-content/uploads/2014/07/Steve-Jobs-iPhone-2007-Presentation-Full-Transcript.pdf'\u001b[0m,\n",
              "            \u001b[32m'file_path'\u001b[0m: \u001b[32m'https://singjupost.com/wp-content/uploads/2014/07/Steve-Jobs-iPhone-2007-Presentation-Full-Transcript.pdf'\u001b[0m,\n",
              "            \u001b[32m'page'\u001b[0m: \u001b[1;36m2\u001b[0m,\n",
              "            \u001b[32m'total_pages'\u001b[0m: \u001b[1;36m22\u001b[0m,\n",
              "            \u001b[32m'format'\u001b[0m: \u001b[32m'PDF 1.4'\u001b[0m,\n",
              "            \u001b[32m'title'\u001b[0m: \u001b[32m'Steve Jobs iPhone 2007 Presentation \u001b[0m\u001b[32m(\u001b[0m\u001b[32mFull Transcript\u001b[0m\u001b[32m)\u001b[0m\u001b[32m'\u001b[0m,\n",
              "            \u001b[32m'author'\u001b[0m: \u001b[32m'Married Wildebeest'\u001b[0m,\n",
              "            \u001b[32m'subject'\u001b[0m: \u001b[32m''\u001b[0m,\n",
              "            \u001b[32m'keywords'\u001b[0m: \u001b[32m''\u001b[0m,\n",
              "            \u001b[32m'creator'\u001b[0m: \u001b[32m''\u001b[0m,\n",
              "            \u001b[32m'producer'\u001b[0m: \u001b[32m'mPDF 7.0.3'\u001b[0m,\n",
              "            \u001b[32m'creationDate'\u001b[0m: \u001b[32m\"20200415062431+00'00'\"\u001b[0m,\n",
              "            \u001b[32m'modDate'\u001b[0m: \u001b[32m\"20200415062431+00'00'\"\u001b[0m,\n",
              "            \u001b[32m'trapped'\u001b[0m: \u001b[32m''\u001b[0m\n",
              "        \u001b[1m}\u001b[0m\n",
              "    \u001b[1m)\u001b[0m,\n",
              "    \u001b[1;35mDocument\u001b[0m\u001b[1m(\u001b[0m\n",
              "        \u001b[33mpage_content\u001b[0m=\u001b[32m'© 2020 The Singju Post\\nsynchs. You’re going to do the same thing with iPhone. It automatically syncs to your PC or\\nMac right through iTunes. And iTunes is going to synch all of your media onto your iPhone.\\nYour music, your audio books, podcasts, movies, TV shows, music videos. But it also synchs\\na ton of data. Your Contacts, your Calendars and your Photos, which you can get on your\\niPod today, your Notes, your Bookmarks from your Web browser, your e-mail accounts, your\\nwhole e-mail set-up. All that stuff can be moved over to your iPhone completely\\nautomatically. It’s really nice. And we do it through iTunes.\\nAgain, you go to iTunes and you set it up. Just like you’d set up an iPod or an Apple TV. And\\nyou set up what you want synched to your iPhone. And it’s just like an iPod. Charge and\\nsynch. So synch with iTunes.\\nThird thing I want to talk about a little is design. We’ve designed something wonderful for\\nyour hand, just wonderful. This is what it looks like. It’s got a three-and-a-half-inch screen\\non it. It’s really big. And, it’s the highest-resolution screen we’ve ever shipped. It’s 160\\npixels per inch. Highest we’ve ever shipped. It’s gorgeous. And on the front, there’s only one\\nbutton down there. We call it the Home button. Takes you Home from wherever you are.\\nAnd that’s it.\\nLet’s take a look at the side. It’s really thin. It’s thinner than any smartphone out there, at\\n11.6 millimeters. Thinner than the Q, thinner than the BlackJack, thinner than all of them.\\nIt’s really nice.\\nAnd we’ve got some controls on the side, we’ve got a little switch for ring and silent, we’ve\\ngot a volume up and down control.\\nLet’s look at the back. On the back, biggest thing of note is we’ve got a two-megapixel\\ncamera built right in. The other side, we’re back in the front. So let’s take a look at the top\\nnow. We’ve got a headset jack. 3.5 millimeter all your iPod headphones fit right in. We’ve\\ngot a place, a little tray for your SIM card, and we’ve got one switch for sleep and wake.\\nPush it to go to sleep, push it to wake up.\\nLet’s take a look at the bottom. We’ve got a speaker, we’ve got a microphone, and we’ve got\\nour 30-pin iPod connector. So that’s the bottom.\\nNow, we’ve also got some stuff you can’t see. We’ve got three really advanced sensors\\nbuilt into this phone. The first one is a proximity sensor. It senses when physical objects\\nget close, so when you bring iPhone up to your ear, to take a phone call, it turns off the\\ndisplay, and it turns off the touch sensor, instantly. Well, why do you want to do that? Well,\\n'\u001b[0m,\n",
              "        \u001b[33mmetadata\u001b[0m=\u001b[1m{\u001b[0m\n",
              "            \u001b[32m'source'\u001b[0m: \u001b[32m'https://singjupost.com/wp-content/uploads/2014/07/Steve-Jobs-iPhone-2007-Presentation-Full-Transcript.pdf'\u001b[0m,\n",
              "            \u001b[32m'file_path'\u001b[0m: \u001b[32m'https://singjupost.com/wp-content/uploads/2014/07/Steve-Jobs-iPhone-2007-Presentation-Full-Transcript.pdf'\u001b[0m,\n",
              "            \u001b[32m'page'\u001b[0m: \u001b[1;36m3\u001b[0m,\n",
              "            \u001b[32m'total_pages'\u001b[0m: \u001b[1;36m22\u001b[0m,\n",
              "            \u001b[32m'format'\u001b[0m: \u001b[32m'PDF 1.4'\u001b[0m,\n",
              "            \u001b[32m'title'\u001b[0m: \u001b[32m'Steve Jobs iPhone 2007 Presentation \u001b[0m\u001b[32m(\u001b[0m\u001b[32mFull Transcript\u001b[0m\u001b[32m)\u001b[0m\u001b[32m'\u001b[0m,\n",
              "            \u001b[32m'author'\u001b[0m: \u001b[32m'Married Wildebeest'\u001b[0m,\n",
              "            \u001b[32m'subject'\u001b[0m: \u001b[32m''\u001b[0m,\n",
              "            \u001b[32m'keywords'\u001b[0m: \u001b[32m''\u001b[0m,\n",
              "            \u001b[32m'creator'\u001b[0m: \u001b[32m''\u001b[0m,\n",
              "            \u001b[32m'producer'\u001b[0m: \u001b[32m'mPDF 7.0.3'\u001b[0m,\n",
              "            \u001b[32m'creationDate'\u001b[0m: \u001b[32m\"20200415062431+00'00'\"\u001b[0m,\n",
              "            \u001b[32m'modDate'\u001b[0m: \u001b[32m\"20200415062431+00'00'\"\u001b[0m,\n",
              "            \u001b[32m'trapped'\u001b[0m: \u001b[32m''\u001b[0m\n",
              "        \u001b[1m}\u001b[0m\n",
              "    \u001b[1m)\u001b[0m,\n",
              "    \u001b[1;35mDocument\u001b[0m\u001b[1m(\u001b[0m\n",
              "        \u001b[33mpage_content\u001b[0m=\u001b[32m'© 2020 The Singju Post\\none to save battery, but two, so you don’t get spurious inputs from your face into the touch\\nscreen. Just automatically turns them off, take it away, boom, it’s back on. So it’s got a\\nproximity sensor built in. It’s got an ambient light sensor built in, as well. We sense the\\nambient lighting conditions and adjust the brightness of the display to match the ambient\\nlighting conditions. Again, better user experience, saves power.\\nAnd the third thing that we’ve got is an accelerometer, so that we can tell when you switch\\nfrom portrait to landscape. It’s pretty cool. Show it to you in a minute. So three advanced\\nsensors built in.\\nSo, let’s go ahead and turn it on. This is the size of it. It fits beautifully in the palm of your\\nhand. So, an iPod, a phone, and an internet communicator.\\niPod – You can touch your music\\nLet’s start with the iPod. You can touch your music. You can just touch your music, it’s so\\ncool. You’ve got a widescreen video. You can find your music even faster. Gorgeous album\\nart on this display. Built-in speaker, and, why not? Cover flow. First time ever on an iPod. So\\nrather than talk about this some more, let me show it to you.\\nAlrighty. Now, I’ve got some special iPhones up here, they’ve got a little special board in\\nthem so I can get some digital video out, and I’ve got a little cord here which goes up to\\nthese projectors, so I’ve got some great images, and you get to see what it really looks like.\\nSo, let me — I’ve got a camera here so you can see what I’m doing with my finger for a few\\nseconds. And let me go ahead and get that picture within picture up. I’m going to go ahead\\nand just push the sleep/wake button and there we go, right there. And to unlock the phone I\\njust take my finger and slide it across. Want to see that again? We wanted something that\\nyou couldn’t do by accident in your pocket. Just slide it across. Boom. And this is the home\\nscreen of iPhone right here. And so if I want to get in the iPod, I just go down to that lower\\nright hand corner and push this icon right here, and boom, I’m in the iPod. I want to get\\nhome, I push the home button right here, and I’m home. Back in the iPod.\\nNow, here I am you see five playlists across the bottom. Playlists, songs, videos and more.\\nI’m in artists right now. Well, how do I scroll through my lists of artists? How do I do this? I\\njust take my finger, and I scroll. Isn’t that cool? A little rubber banding up when I run off the\\nedge.\\nAnd if I want to pick somebody, let’s say I want to pick the Beatles, I just tap them, and\\n'\u001b[0m,\n",
              "        \u001b[33mmetadata\u001b[0m=\u001b[1m{\u001b[0m\n",
              "            \u001b[32m'source'\u001b[0m: \u001b[32m'https://singjupost.com/wp-content/uploads/2014/07/Steve-Jobs-iPhone-2007-Presentation-Full-Transcript.pdf'\u001b[0m,\n",
              "            \u001b[32m'file_path'\u001b[0m: \u001b[32m'https://singjupost.com/wp-content/uploads/2014/07/Steve-Jobs-iPhone-2007-Presentation-Full-Transcript.pdf'\u001b[0m,\n",
              "            \u001b[32m'page'\u001b[0m: \u001b[1;36m4\u001b[0m,\n",
              "            \u001b[32m'total_pages'\u001b[0m: \u001b[1;36m22\u001b[0m,\n",
              "            \u001b[32m'format'\u001b[0m: \u001b[32m'PDF 1.4'\u001b[0m,\n",
              "            \u001b[32m'title'\u001b[0m: \u001b[32m'Steve Jobs iPhone 2007 Presentation \u001b[0m\u001b[32m(\u001b[0m\u001b[32mFull Transcript\u001b[0m\u001b[32m)\u001b[0m\u001b[32m'\u001b[0m,\n",
              "            \u001b[32m'author'\u001b[0m: \u001b[32m'Married Wildebeest'\u001b[0m,\n",
              "            \u001b[32m'subject'\u001b[0m: \u001b[32m''\u001b[0m,\n",
              "            \u001b[32m'keywords'\u001b[0m: \u001b[32m''\u001b[0m,\n",
              "            \u001b[32m'creator'\u001b[0m: \u001b[32m''\u001b[0m,\n",
              "            \u001b[32m'producer'\u001b[0m: \u001b[32m'mPDF 7.0.3'\u001b[0m,\n",
              "            \u001b[32m'creationDate'\u001b[0m: \u001b[32m\"20200415062431+00'00'\"\u001b[0m,\n",
              "            \u001b[32m'modDate'\u001b[0m: \u001b[32m\"20200415062431+00'00'\"\u001b[0m,\n",
              "            \u001b[32m'trapped'\u001b[0m: \u001b[32m''\u001b[0m\n",
              "        \u001b[1m}\u001b[0m\n",
              "    \u001b[1m)\u001b[0m,\n",
              "    \u001b[1;35mDocument\u001b[0m\u001b[1m(\u001b[0m\n",
              "        \u001b[33mpage_content\u001b[0m=\u001b[32m'© 2020 The Singju Post\\nhere’s the Beatles songs with their albums right here. If I want to play Sgt. Pepper’s I just\\nhit Sgt. Pepper’s right there, and “A Little Help From My Friends.”\\nLook at this gorgeous album artwork here. Of course, I’ve got a volume control. Now, I’ve\\ngot a little button up in the corner right here, you can see in the upper right-hand corner, I\\ncan hit that and flip the album art around. There’s all the other songs back here. And I can\\nplay “Lovely Rita” if I want to. Flip back around. Very simple. Right, I can set some stars\\nback here just by setting the arrows. That’s a five star album. Isn’t that cool? Yeah, it’s\\npretty nice.\\nNow, let me show you something else. I just take my unit here, and I turn it landscape mode,\\noh, look what happens! I’m in cover flow.\\nLet’s go into Dylan here, let’s play “Like a Rolling Stone.” I just thumb through, just\\nthumb through my albums. It’s real easy. Anytime I find something I like, I just turn it\\naround, and play something. It’s that easy. It’s that simple. Isn’t that great? Alright. I could\\nplay with this for a long time.\\nAgain, I’ve got playlists here. I can go into my playlists. I’ve got artists. I’ve got songs. I’ve\\ngot more over here. I’ve got albums. I’ve got a great album view again that shows all my\\nalbum artwork if I want. And I’ve also got audio books and compilations and things like that.\\nI’ve also got videos here. So I push videos and I’ve got a video podcast loaded on, and a\\nmusic video. And I’ve got a TV show and a movie, and I’d just like to show you the TV show\\nhere. This is an episode from The Office. All videos we look at in landscape.\\n\u001b[0m\u001b[32m[\u001b[0m\u001b[32mVideo Clip – The Office\u001b[0m\u001b[32m]\u001b[0m\u001b[32m\\nWe have touch controls on here, of course. Isn’t that awesome? Isn’t that awesome?\\nNow I want to show you a movie playing. Let’s play Pirates of the Caribbean, the second\\none. Great movie, by the way.\\n\u001b[0m\u001b[32m[\u001b[0m\u001b[32mVideo Clip – Pirates of the Caribbean\u001b[0m\u001b[32m]\u001b[0m\u001b[32m\\nNow this is a widescreen movie so I just double-tap and I can see the whole thing here, or I\\ncan fill up the screen, whichever I like. And again, I’ve got on-screen controls here. Isn’t this\\ncool? So we can be watching feature-length movies just like this.\\nAlrighty. So that is the iPod. Pretty cool, huh? We’ve just started.\\n'\u001b[0m,\n",
              "        \u001b[33mmetadata\u001b[0m=\u001b[1m{\u001b[0m\n",
              "            \u001b[32m'source'\u001b[0m: \u001b[32m'https://singjupost.com/wp-content/uploads/2014/07/Steve-Jobs-iPhone-2007-Presentation-Full-Transcript.pdf'\u001b[0m,\n",
              "            \u001b[32m'file_path'\u001b[0m: \u001b[32m'https://singjupost.com/wp-content/uploads/2014/07/Steve-Jobs-iPhone-2007-Presentation-Full-Transcript.pdf'\u001b[0m,\n",
              "            \u001b[32m'page'\u001b[0m: \u001b[1;36m5\u001b[0m,\n",
              "            \u001b[32m'total_pages'\u001b[0m: \u001b[1;36m22\u001b[0m,\n",
              "            \u001b[32m'format'\u001b[0m: \u001b[32m'PDF 1.4'\u001b[0m,\n",
              "            \u001b[32m'title'\u001b[0m: \u001b[32m'Steve Jobs iPhone 2007 Presentation \u001b[0m\u001b[32m(\u001b[0m\u001b[32mFull Transcript\u001b[0m\u001b[32m)\u001b[0m\u001b[32m'\u001b[0m,\n",
              "            \u001b[32m'author'\u001b[0m: \u001b[32m'Married Wildebeest'\u001b[0m,\n",
              "            \u001b[32m'subject'\u001b[0m: \u001b[32m''\u001b[0m,\n",
              "            \u001b[32m'keywords'\u001b[0m: \u001b[32m''\u001b[0m,\n",
              "            \u001b[32m'creator'\u001b[0m: \u001b[32m''\u001b[0m,\n",
              "            \u001b[32m'producer'\u001b[0m: \u001b[32m'mPDF 7.0.3'\u001b[0m,\n",
              "            \u001b[32m'creationDate'\u001b[0m: \u001b[32m\"20200415062431+00'00'\"\u001b[0m,\n",
              "            \u001b[32m'modDate'\u001b[0m: \u001b[32m\"20200415062431+00'00'\"\u001b[0m,\n",
              "            \u001b[32m'trapped'\u001b[0m: \u001b[32m''\u001b[0m\n",
              "        \u001b[1m}\u001b[0m\n",
              "    \u001b[1m)\u001b[0m,\n",
              "    \u001b[1;35mDocument\u001b[0m\u001b[1m(\u001b[0m\n",
              "        \u001b[33mpage_content\u001b[0m=\u001b[32m'© 2020 The Singju Post\\nSo again, touch your music, scroll through your songs, scroll through your playlists. It’s\\nincredible. Widescreen video like you’ve never seen on a portable device, 160 pixels per\\ninch, gorgeous screen quality, gorgeous album art, and cover flow. It’s the best iPod we’ve\\never made.\\nAgain, some screen shots. It’s unbelievable. Here’s some album art I just put up, so you can\\nsee what it looks like. Just, no matter what you like, it looks pretty doggone gorgeous. And\\nof course, cover flow and video, with on-screen controls.\\nYou know, I was showing this to somebody — I was giving a demo to somebody a while ago,\\nwho had never seen this before, inside Apple. And I finished the demo, and I said what do\\nyou think. They told me this, they said, You had me at scrolling. So, the iPhone with the\\nmost amazing iPod ever. You can now touch your music. So that’s the iPod.\\nNow, let’s take a look at a revolutionary phone. We want to reinvent the phone. Now, what’s\\nthe killer app? The killer app is making calls! It’s amazing — it’s amazing how hard it is to\\nmake calls on most phones. Most people actually dial them every time. Most people don’t\\nhave very many numbers in their address book they use their recents as their address book.\\nRight? How many of you do that? I bet more than a few. So, we want to let you use contacts\\nlike never before. You can synch your iPhone with your PC or Mac and bring down all your\\ncontacts right into your phone. So you’ve got everybody’s numbers with you at all times.\\nWe have something that’s going to revolutionize voice mail. We call it visual voice mail.\\nWouldn’t it be great if you had six voice mails if you didn’t have to listen to five of them first\\nbefore you wanted to listen to the sixth? Wouldn’t that be great if you had random access\\nvoice mail? Well, we’ve got it. Just like e-mail you can go directly to the voice mails that\\ninterest you. Excellent audio quality. iPhone is a quad-band, GSM plus EDGE phone. We\\nhave decided to go with the most popular international standard, which is GSM. We’re on\\nthat bandwagon, headed on that roadmap, and plan to make 3G phones and all sorts of\\namazing things in the future. So, quad-band GSM plus EDGE, and of course we have wi-fi\\nand Bluetooth 2.0 EDR built in, as well.\\nSo this is what it looks like when you get a call. This is what it sounds like. It’s one of our\\nring tones, you can pick of course.\\nSo, I want to show you four things. I want to show you the phone app, photos, a calendar,\\nand SMS messaging. The kind of things you would find on a typical phone, but in a very\\nuntypical way. So let’s go ahead and take a look.\\n'\u001b[0m,\n",
              "        \u001b[33mmetadata\u001b[0m=\u001b[1m{\u001b[0m\n",
              "            \u001b[32m'source'\u001b[0m: \u001b[32m'https://singjupost.com/wp-content/uploads/2014/07/Steve-Jobs-iPhone-2007-Presentation-Full-Transcript.pdf'\u001b[0m,\n",
              "            \u001b[32m'file_path'\u001b[0m: \u001b[32m'https://singjupost.com/wp-content/uploads/2014/07/Steve-Jobs-iPhone-2007-Presentation-Full-Transcript.pdf'\u001b[0m,\n",
              "            \u001b[32m'page'\u001b[0m: \u001b[1;36m6\u001b[0m,\n",
              "            \u001b[32m'total_pages'\u001b[0m: \u001b[1;36m22\u001b[0m,\n",
              "            \u001b[32m'format'\u001b[0m: \u001b[32m'PDF 1.4'\u001b[0m,\n",
              "            \u001b[32m'title'\u001b[0m: \u001b[32m'Steve Jobs iPhone 2007 Presentation \u001b[0m\u001b[32m(\u001b[0m\u001b[32mFull Transcript\u001b[0m\u001b[32m)\u001b[0m\u001b[32m'\u001b[0m,\n",
              "            \u001b[32m'author'\u001b[0m: \u001b[32m'Married Wildebeest'\u001b[0m,\n",
              "            \u001b[32m'subject'\u001b[0m: \u001b[32m''\u001b[0m,\n",
              "            \u001b[32m'keywords'\u001b[0m: \u001b[32m''\u001b[0m,\n",
              "            \u001b[32m'creator'\u001b[0m: \u001b[32m''\u001b[0m,\n",
              "            \u001b[32m'producer'\u001b[0m: \u001b[32m'mPDF 7.0.3'\u001b[0m,\n",
              "            \u001b[32m'creationDate'\u001b[0m: \u001b[32m\"20200415062431+00'00'\"\u001b[0m,\n",
              "            \u001b[32m'modDate'\u001b[0m: \u001b[32m\"20200415062431+00'00'\"\u001b[0m,\n",
              "            \u001b[32m'trapped'\u001b[0m: \u001b[32m''\u001b[0m\n",
              "        \u001b[1m}\u001b[0m\n",
              "    \u001b[1m)\u001b[0m,\n",
              "    \u001b[1;35mDocument\u001b[0m\u001b[1m(\u001b[0m\n",
              "        \u001b[33mpage_content\u001b[0m=\u001b[32m'© 2020 The Singju Post\\nSo let’s go to our phone first. You see that icon in the lower left-hand corner, the phone? I\\njust push it right here, and boom, I’m in the phone. And I’ve got five buttons across the\\nbottom: favorites, recents, contacts, keypad and voice mail. I’m in contacts, right now,\\nagain. How do I move around my contacts? I just scroll through them. And so, let’s say I\\nwant to make a call to Jony Ive. I can just push here, and I see Jony Ive’s context, with all his\\ninformation: his three phone numbers, his e-mail, whatever else, his address, whatever else\\nI’ve got. It’s all in one place. And if I want to call Jony, all I do is push his phone number. I’ll\\ncall his mobile number right now. And now, we are calling Jony here.\\nHey, Jony, how you doing? Well, it’s been 2.5 years, and I can’t tell you how thrilled I am to\\nmake the first public phone call with iPhone. I remember when we first started working on\\nthis, and it’s just unbelievable. Woah, what is this? I’ve got another call coming in. Jony, can\\nI put you on hold for a minute? So I put Jony on hold and …\\n\u001b[0m\u001b[32m[\u001b[0m\u001b[32mSchiller says: Hey, Steve, I wanted to be the first call!”\u001b[0m\u001b[32m]\u001b[0m\u001b[32m\\nSorry Phil! As you can see, it’s put Jony on hold, and Phil, I can just touch Jony and bring\\nJony back. Hey, Jony are you there? Hey listen, Phil called. Do you mind if I conference him\\nin?\\n\u001b[0m\u001b[32m[\u001b[0m\u001b[32m“I guess so,” Ive says\u001b[0m\u001b[32m]\u001b[0m\u001b[32m\\nYou can see the button has changed to merge calls right there in the middle, so I just push\\nthat right here, and now, I’ve created a conference call. Jony, you there? Phil, you there? So\\nhere we are, and listen I got to get back to my keynote, so if I want to do that, I just touch\\nthis arrow right here, and I’m going to go ahead and take Jony private here and put Phil on\\nhold. Jony, do you have anything to say on the first phone call?\\n\u001b[0m\u001b[32m[\u001b[0m\u001b[32m“It’s not too shabby is it?” Ive says\u001b[0m\u001b[32m]\u001b[0m\u001b[32m\\nIt’s not too shabby. You take care, Jony. And I end this call. Phil’s on hold. I take him off of\\nhold. Phil, thanks very much, I’ve got to get back to the keynote now. Alrighty.\\nSo, now I’ve also got a way to make a list of favorites here, from my most-often called\\nnumbers so I can just touch it once and dial the number. And I might want to add somebody\\nto favorites, so let’s say I want to add Phil Schiller, I just push that plus button in the upper\\nright-hand corner right there, and up pop my favorites, and I can just go to S is here and\\nthere’s Phil, so Phil Schiller is right there. And I’ll put, let’s say I want to put Phil’s work\\nnumber, and it’s added Phil, right there you see favorites. I can edit favorites by pushing the\\n'\u001b[0m,\n",
              "        \u001b[33mmetadata\u001b[0m=\u001b[1m{\u001b[0m\n",
              "            \u001b[32m'source'\u001b[0m: \u001b[32m'https://singjupost.com/wp-content/uploads/2014/07/Steve-Jobs-iPhone-2007-Presentation-Full-Transcript.pdf'\u001b[0m,\n",
              "            \u001b[32m'file_path'\u001b[0m: \u001b[32m'https://singjupost.com/wp-content/uploads/2014/07/Steve-Jobs-iPhone-2007-Presentation-Full-Transcript.pdf'\u001b[0m,\n",
              "            \u001b[32m'page'\u001b[0m: \u001b[1;36m7\u001b[0m,\n",
              "            \u001b[32m'total_pages'\u001b[0m: \u001b[1;36m22\u001b[0m,\n",
              "            \u001b[32m'format'\u001b[0m: \u001b[32m'PDF 1.4'\u001b[0m,\n",
              "            \u001b[32m'title'\u001b[0m: \u001b[32m'Steve Jobs iPhone 2007 Presentation \u001b[0m\u001b[32m(\u001b[0m\u001b[32mFull Transcript\u001b[0m\u001b[32m)\u001b[0m\u001b[32m'\u001b[0m,\n",
              "            \u001b[32m'author'\u001b[0m: \u001b[32m'Married Wildebeest'\u001b[0m,\n",
              "            \u001b[32m'subject'\u001b[0m: \u001b[32m''\u001b[0m,\n",
              "            \u001b[32m'keywords'\u001b[0m: \u001b[32m''\u001b[0m,\n",
              "            \u001b[32m'creator'\u001b[0m: \u001b[32m''\u001b[0m,\n",
              "            \u001b[32m'producer'\u001b[0m: \u001b[32m'mPDF 7.0.3'\u001b[0m,\n",
              "            \u001b[32m'creationDate'\u001b[0m: \u001b[32m\"20200415062431+00'00'\"\u001b[0m,\n",
              "            \u001b[32m'modDate'\u001b[0m: \u001b[32m\"20200415062431+00'00'\"\u001b[0m,\n",
              "            \u001b[32m'trapped'\u001b[0m: \u001b[32m''\u001b[0m\n",
              "        \u001b[1m}\u001b[0m\n",
              "    \u001b[1m)\u001b[0m,\n",
              "    \u001b[1;35mDocument\u001b[0m\u001b[1m(\u001b[0m\n",
              "        \u001b[33mpage_content\u001b[0m=\u001b[32m'© 2020 The Singju Post\\nedit button in the left-hand corner, and I can move Phil up if I want to, maybe to the top.\\nAnd let’s see, Tony’s changed his number I’ve got to update this anyway, so I’m going to get\\nrid of that and I can just remove Tony. Boom, there we go. It’s that simple to edit these\\nthings. Very, very easy. I’ve got recents right here, which is all my recent phone calls. If I\\nwant to see the ones I’ve missed, which are in red, I can just go up and touch that button at\\nthe top, and boom, those are all the ones I’ve missed, and those are all the calls that I’ve\\nplaced or have gotten. If I want to dial the phone, if I’m real last-century, I can push keypad\\nhere, and I can dial a call just with … oops, called four, sorry. Wrong number. 408-996-1010.\\nAnd it formats the numbers and if I want to, I can just keep dialing, let’s say it’s a European\\nnumber, and the numbers just keep getting smaller, real simple. Very simple to dial with the\\nkeypad.\\nNow let me show you visual voice mail. This is so cool. This is a collaboration that we’ve\\ndone, which I’ll talk more about later, and it allows us to have random access voice mail. Go\\ndirectly to the voice mails we want. So as an example, I come to my voice mail, and I say, oh,\\nthere’s one by Al Gore. I want to hear that one. I just push it.\\nNow, if I want to call Al back right now, I can just push that call back button. But I want to\\nlisten to one from Tim Cook that I’ve got here, so let me listen to Tim.\\nIsn’t this awesome. And so I’ve got voice mail how I want to listen to it, when I want to listen\\nto it, in any order I want to listen to it with visual voice mail. So that is a quick tour of the\\nphone app.\\nNow what I want to do is show you SMS texting. So I just go to that SMS icon in the upper-\\nleft-hand corner and push it. And I not only have SMS texting, but I have multiple sessions.\\nSo I can be carrying on conversations with people, and every time I get messages from\\nthem, I can be alerted to that, and go check it out. As an example here, I’ve got Eddie Q and\\nI’ve been carrying on a conversation with Eddie, and I just tap this, and here’s the\\nconversation I’ve been carrying on right here. And if there’s a new message it will tell me.\\nAnd so there’s a new message from Phil, and let’s see the conversation was what.\\nAnd I’ve got this little keyboard which was phenomenal. It does error prevention and\\ncorrection. Not that I won’t make some, I probably will. But it’s actually really fast to type\\non. It’s faster than all these little plastic keyboards on all these smart phones. So I can just\\nsay sounds great, see you there. And I can send that. And there it is. It’s that simple. And\\nwhen Phil messages me back, I’ll be alerted, I’ll see the dot, and I can just go pick up that\\nconversation where it left off. If I want to send a message to Eddie or Scott, I just push this\\n'\u001b[0m,\n",
              "        \u001b[33mmetadata\u001b[0m=\u001b[1m{\u001b[0m\n",
              "            \u001b[32m'source'\u001b[0m: \u001b[32m'https://singjupost.com/wp-content/uploads/2014/07/Steve-Jobs-iPhone-2007-Presentation-Full-Transcript.pdf'\u001b[0m,\n",
              "            \u001b[32m'file_path'\u001b[0m: \u001b[32m'https://singjupost.com/wp-content/uploads/2014/07/Steve-Jobs-iPhone-2007-Presentation-Full-Transcript.pdf'\u001b[0m,\n",
              "            \u001b[32m'page'\u001b[0m: \u001b[1;36m8\u001b[0m,\n",
              "            \u001b[32m'total_pages'\u001b[0m: \u001b[1;36m22\u001b[0m,\n",
              "            \u001b[32m'format'\u001b[0m: \u001b[32m'PDF 1.4'\u001b[0m,\n",
              "            \u001b[32m'title'\u001b[0m: \u001b[32m'Steve Jobs iPhone 2007 Presentation \u001b[0m\u001b[32m(\u001b[0m\u001b[32mFull Transcript\u001b[0m\u001b[32m)\u001b[0m\u001b[32m'\u001b[0m,\n",
              "            \u001b[32m'author'\u001b[0m: \u001b[32m'Married Wildebeest'\u001b[0m,\n",
              "            \u001b[32m'subject'\u001b[0m: \u001b[32m''\u001b[0m,\n",
              "            \u001b[32m'keywords'\u001b[0m: \u001b[32m''\u001b[0m,\n",
              "            \u001b[32m'creator'\u001b[0m: \u001b[32m''\u001b[0m,\n",
              "            \u001b[32m'producer'\u001b[0m: \u001b[32m'mPDF 7.0.3'\u001b[0m,\n",
              "            \u001b[32m'creationDate'\u001b[0m: \u001b[32m\"20200415062431+00'00'\"\u001b[0m,\n",
              "            \u001b[32m'modDate'\u001b[0m: \u001b[32m\"20200415062431+00'00'\"\u001b[0m,\n",
              "            \u001b[32m'trapped'\u001b[0m: \u001b[32m''\u001b[0m\n",
              "        \u001b[1m}\u001b[0m\n",
              "    \u001b[1m)\u001b[0m,\n",
              "    \u001b[1;35mDocument\u001b[0m\u001b[1m(\u001b[0m\n",
              "        \u001b[33mpage_content\u001b[0m=\u001b[32m'© 2020 The Singju Post\\nand send a message and go. It’s so simple. So that’s SMS messaging, and again, you’ve seen\\nthe keyboard, it’s pretty awesome. We’ll come back to that a little bit later.\\nAnd the third app I want to show you as part of the phone package is Photos. You know, we\\nhave a two-megapixel camera built in, as I said. We also have the coolest photo management\\napp ever, certainly on a mobile device, but I think maybe ever. And so here’s our photos. I’m\\ngoing to go into our photo library, and this is our library and again, I can just scroll through\\nphotos here with my finger. Pretty cool. Let me go to photo album, I’ll pick Italy, and I just,\\nlet’s start at the top. And to go through pictures, I just swipe them. I can just swipe through\\nmy photo library. There’s one that’s landscape. I can just turn my device and take a look at\\nit. Pretty cool, huh?\\nSo I can even swipe when I’m in landscape here. Isn’t this awesome? The other thing I can\\ndo is I can take any of these pictures and I can make them bigger. So let me go ahead and\\nget the camera back up. I can take my fingers and I can, we call it the pinch, I can bring\\nthem closer together and move them further apart to make it bigger or smaller. So I can just\\nmove them further apart and stretch the image. Isn’t that cool? I can move it around,\\nand…isn’t that cool? And now what I can do is I can pick to make this my wallpaper. And of\\ncourse, I could jigger it around then and just set the wallpaper, and now if I’m back at home\\nand I go to sleep, when I wake up from here on out, until I reset it, that’s my wallpaper.\\nWhenever I’m making a call, that’s what I’m going to see. Boom. There we go. So photos,\\nSMS and the phone app. That is part of our phone package for iPhone.\\nGet a call, again, just really great call management features, just scroll through contacts\\nwith your finger. All the information at your fingertips here. Favorites, last century, visual\\nvoice mail. Calendar, SMS texting, incredible photo app, the ability to just take any picture\\nand make it your wallpaper. It’s pretty unbelievable, and I think when you have a chance to\\nget your hand on it, you’ll agree, we have reinvented the phone.\\nSo, now, let’s take a look at an Internet communications device as part of iPhone. So what’s\\nthis all about? Well, we’ve got some real breakthroughs here. To start off with, we’ve got\\nrich, HTML e-mail on iPhone. The first time really rich e-mail on a mobile device. And it\\nworks with any IMAP or POP e-mail service. You got your favorite mail service, it’ll likely\\nwork with it. And it’s rich text e-mail. We wanted the best web browser in the world on our\\nphone, not a baby web browser or a WAP browser, a real Web browser, and we picked the\\nbest one in the world, Safari, and we have Safari running on iPhone. It is the first fully\\nusable HTML browser on a phone.\\nThird, we have Google Maps. Maps, satellite images, directions and traffic. This is\\n'\u001b[0m,\n",
              "        \u001b[33mmetadata\u001b[0m=\u001b[1m{\u001b[0m\n",
              "            \u001b[32m'source'\u001b[0m: \u001b[32m'https://singjupost.com/wp-content/uploads/2014/07/Steve-Jobs-iPhone-2007-Presentation-Full-Transcript.pdf'\u001b[0m,\n",
              "            \u001b[32m'file_path'\u001b[0m: \u001b[32m'https://singjupost.com/wp-content/uploads/2014/07/Steve-Jobs-iPhone-2007-Presentation-Full-Transcript.pdf'\u001b[0m,\n",
              "            \u001b[32m'page'\u001b[0m: \u001b[1;36m9\u001b[0m,\n",
              "            \u001b[32m'total_pages'\u001b[0m: \u001b[1;36m22\u001b[0m,\n",
              "            \u001b[32m'format'\u001b[0m: \u001b[32m'PDF 1.4'\u001b[0m,\n",
              "            \u001b[32m'title'\u001b[0m: \u001b[32m'Steve Jobs iPhone 2007 Presentation \u001b[0m\u001b[32m(\u001b[0m\u001b[32mFull Transcript\u001b[0m\u001b[32m)\u001b[0m\u001b[32m'\u001b[0m,\n",
              "            \u001b[32m'author'\u001b[0m: \u001b[32m'Married Wildebeest'\u001b[0m,\n",
              "            \u001b[32m'subject'\u001b[0m: \u001b[32m''\u001b[0m,\n",
              "            \u001b[32m'keywords'\u001b[0m: \u001b[32m''\u001b[0m,\n",
              "            \u001b[32m'creator'\u001b[0m: \u001b[32m''\u001b[0m,\n",
              "            \u001b[32m'producer'\u001b[0m: \u001b[32m'mPDF 7.0.3'\u001b[0m,\n",
              "            \u001b[32m'creationDate'\u001b[0m: \u001b[32m\"20200415062431+00'00'\"\u001b[0m,\n",
              "            \u001b[32m'modDate'\u001b[0m: \u001b[32m\"20200415062431+00'00'\"\u001b[0m,\n",
              "            \u001b[32m'trapped'\u001b[0m: \u001b[32m''\u001b[0m\n",
              "        \u001b[1m}\u001b[0m\n",
              "    \u001b[1m)\u001b[0m,\n",
              "    \u001b[1;35mDocument\u001b[0m\u001b[1m(\u001b[0m\n",
              "        \u001b[33mpage_content\u001b[0m=\u001b[32m'© 2020 The Singju Post\\nunbelievable, wait until you see it. We have widgets, starting off with weather and stocks.\\nAnd this communicates with the Internet over EDGE and Wi-fi. And iPhone automatically\\ndetects Wi-fi and switches seamlessly to it. You don’t have to manage the network. It just\\ndoes the right thing.\\nNow, I want to take a second and talk about e-mail. We hook up to almost any IMAP or\\nPOP3 mail service. I just want to give you some examples. IMAP of course is the best\\nbecause you can keep folders and all your e-mail on the server and access it from anywhere.\\nYahoo Mail is IMAP. Microsoft Exchange has an IMAP option. And obviously. Mac mail is\\nIMAP, as well. POP3, Google Gmail, AOL Mail, and most ISPs are POP3 e-mail.\\nNow, I want to take a minute and highlight one. Yahoo! Mail. Yahoo! Mail is the biggest mail\\nservice in the world. They have over a quarter billion users. Biggest e-mail service in the\\nworld, and today, we are announcing with Yahoo! that they are going to provide free push\\nIMAP e-mail to all iPhone customers. So, this isn’t just IMAP e-mail. It is push IMAP e-mail.\\nSo when you get a message, it will push it right out to the phone for you. Same as a\\nBlackBerry. Free IMAP push e-mail from Yahoo!. So we think this is a pretty big deal. So\\nwhat I’d like to do now is I’d like to show you mail, Safari, Google Maps and widgets\\nrunning on iPhone. So let’s go see.\\nSo let’s go into mail. Second icon from the left on the bottom there. I just touch it with my\\nfinger, and boom, I’m there. And so I’ve got an in-box here, and this is, by the way, running\\nlive on Yahoo! IMAP e-mail. This stuff is coming off a Yahoo! server somewhere up in the\\ncloud. And so I can say James Vincent here sent me an e-mail. He’s a proud father, and\\nthere we go. And I can just scroll here. I’ve got in-line photos, rich text e-mail. There we go.\\nSo let’s look at another one. Phil Schiller. She loved the gift. Again, in-line photos, rich text,\\npretty nice. Shopping list, again, rich text right here. Pretty cool. Directions to Sushi Ron for\\ntonight’s dinner. Now, iPhone of course parses out phone numbers and you can see there’s a\\nphone number in blue. I can just touch it, and boom, I’m going to call this place. I don’t\\nreally want to call them so I’m going to end the call here. But you get the idea.\\nAnd this last one, Ken Bereskin is one of our marketing folks. He just returned from\\nAntarctica. Ken’s a great photographer, and he took all these great photos of penguins in\\nAntarctica. Look at this, it’s great. Right in your e-mail, right on your phone. And if I want to\\nby the way, I can look at my e-mail with a split view just like I do on my computer, and so I\\ncan select something here and just look at it down here if I want to push my messages real\\nfast and just find that one message I was looking for. But I actually like the full-screen view.\\nAnd of course, we have a standard in-box and drafts, and all sorts of folders you can put\\n'\u001b[0m,\n",
              "        \u001b[33mmetadata\u001b[0m=\u001b[1m{\u001b[0m\n",
              "            \u001b[32m'source'\u001b[0m: \u001b[32m'https://singjupost.com/wp-content/uploads/2014/07/Steve-Jobs-iPhone-2007-Presentation-Full-Transcript.pdf'\u001b[0m,\n",
              "            \u001b[32m'file_path'\u001b[0m: \u001b[32m'https://singjupost.com/wp-content/uploads/2014/07/Steve-Jobs-iPhone-2007-Presentation-Full-Transcript.pdf'\u001b[0m,\n",
              "            \u001b[32m'page'\u001b[0m: \u001b[1;36m10\u001b[0m,\n",
              "            \u001b[32m'total_pages'\u001b[0m: \u001b[1;36m22\u001b[0m,\n",
              "            \u001b[32m'format'\u001b[0m: \u001b[32m'PDF 1.4'\u001b[0m,\n",
              "            \u001b[32m'title'\u001b[0m: \u001b[32m'Steve Jobs iPhone 2007 Presentation \u001b[0m\u001b[32m(\u001b[0m\u001b[32mFull Transcript\u001b[0m\u001b[32m)\u001b[0m\u001b[32m'\u001b[0m,\n",
              "            \u001b[32m'author'\u001b[0m: \u001b[32m'Married Wildebeest'\u001b[0m,\n",
              "            \u001b[32m'subject'\u001b[0m: \u001b[32m''\u001b[0m,\n",
              "            \u001b[32m'keywords'\u001b[0m: \u001b[32m''\u001b[0m,\n",
              "            \u001b[32m'creator'\u001b[0m: \u001b[32m''\u001b[0m,\n",
              "            \u001b[32m'producer'\u001b[0m: \u001b[32m'mPDF 7.0.3'\u001b[0m,\n",
              "            \u001b[32m'creationDate'\u001b[0m: \u001b[32m\"20200415062431+00'00'\"\u001b[0m,\n",
              "            \u001b[32m'modDate'\u001b[0m: \u001b[32m\"20200415062431+00'00'\"\u001b[0m,\n",
              "            \u001b[32m'trapped'\u001b[0m: \u001b[32m''\u001b[0m\n",
              "        \u001b[1m}\u001b[0m\n",
              "    \u001b[1m)\u001b[0m,\n",
              "    \u001b[1;35mDocument\u001b[0m\u001b[1m(\u001b[0m\n",
              "        \u001b[33mpage_content\u001b[0m=\u001b[32m'© 2020 The Singju Post\\nthings in as well. So it’s real e-mail, just like you’re used to on your computer, right here on\\nyour phone. It’s extraordinary. And again, free IMAP e-mail from Yahoo!.\\nNow, let me go ahead and create an e-mail message. Show you what that’s like. So again,\\nwhen I don’t need a keyboard it’s not there. When I do, it’s there. I want to send a message\\nto, let’s say, Phil. I just type Ph, and boom, Phil Schiller, it’s address completion and maybe\\nI’ll send one to Scott Forrestal, as well, and there’s Scott right there, and let’s say the\\nsubject is dinner. Boom, and I just hit send. It sends that e-mail, and we’re done. So that is\\nmail. Full desktop class e-mail running on a mobile device.\\nAll right, now I want to show you something incredible. I want to show you Safari running\\non a mobile device. So let’s go to the Web, and here we are. I’m going to load in, rather than\\napple.com here, a more universal site. I’m going to load in the New York Times, it’s kind of\\na slow site because it’s got a lot of images, but here we’re loading and we’re loading over\\nwi-fi right now. And rather than just give you a WAP version of the New York Times, rather\\nthan giving you this wrapped version all around, we’re showing you the whole New York\\nTimes Web site, and there it is. Guess what I can do, I can just put this into landscape mode,\\nand there it is right there. And I can scroll here if I want. Scroll up and down here. Still\\nloading it in. There we go. Or I can just get back like this.\\nNow, this is really great and I can see the whole page but of course I can’t read it. It’s a\\nlittle too small. So I can get in with my fingers and pinch it but we have an optimization\\nhere. I can just double-tap on anything and it automatically fills up the screen with it. And I\\ncan just scroll around like this and scroll over here and I can even make this text bigger if I\\nwant to, and there it is. Just double-tap again to get back to the whole page. Isn’t this cool?\\nLook at this. There is the New York Times. And again, any article I want, boom, there we go.\\nBoom. Unbelievable.\\nNow, you can look at multiple Web pages as well. You can have multiple Web pages open.\\nSo I just push this button in the lower-right hand corner. Shrinks it down, and I can add a\\nnew page if I want. And I’ll go to Amazon here out of my bookmarks. So let’s go to Amazon.\\nAnd I love to go the DVD section of Amazon and see what DVDs are selling. I like it\\nespecially when Disney’s are in the top. And, so here’s Amazon, and even before the whole\\npage is loaded on, I’m just going to double-tap on this, and I’m going to say let’s go to the\\nDVD section here, and now it’s doing that. And here we are.\\nAnd there’s a section over here in the right hand side right there, and these are the top\\nsellers, updated hourly. Oh look, Al’s Inconvenient Truth is number one. Alright. And here’s\\nthe other movies. Gray’s Anatomy, I like that. Pirates of the Caribbean. Fantastic. And so\\n'\u001b[0m,\n",
              "        \u001b[33mmetadata\u001b[0m=\u001b[1m{\u001b[0m\n",
              "            \u001b[32m'source'\u001b[0m: \u001b[32m'https://singjupost.com/wp-content/uploads/2014/07/Steve-Jobs-iPhone-2007-Presentation-Full-Transcript.pdf'\u001b[0m,\n",
              "            \u001b[32m'file_path'\u001b[0m: \u001b[32m'https://singjupost.com/wp-content/uploads/2014/07/Steve-Jobs-iPhone-2007-Presentation-Full-Transcript.pdf'\u001b[0m,\n",
              "            \u001b[32m'page'\u001b[0m: \u001b[1;36m11\u001b[0m,\n",
              "            \u001b[32m'total_pages'\u001b[0m: \u001b[1;36m22\u001b[0m,\n",
              "            \u001b[32m'format'\u001b[0m: \u001b[32m'PDF 1.4'\u001b[0m,\n",
              "            \u001b[32m'title'\u001b[0m: \u001b[32m'Steve Jobs iPhone 2007 Presentation \u001b[0m\u001b[32m(\u001b[0m\u001b[32mFull Transcript\u001b[0m\u001b[32m)\u001b[0m\u001b[32m'\u001b[0m,\n",
              "            \u001b[32m'author'\u001b[0m: \u001b[32m'Married Wildebeest'\u001b[0m,\n",
              "            \u001b[32m'subject'\u001b[0m: \u001b[32m''\u001b[0m,\n",
              "            \u001b[32m'keywords'\u001b[0m: \u001b[32m''\u001b[0m,\n",
              "            \u001b[32m'creator'\u001b[0m: \u001b[32m''\u001b[0m,\n",
              "            \u001b[32m'producer'\u001b[0m: \u001b[32m'mPDF 7.0.3'\u001b[0m,\n",
              "            \u001b[32m'creationDate'\u001b[0m: \u001b[32m\"20200415062431+00'00'\"\u001b[0m,\n",
              "            \u001b[32m'modDate'\u001b[0m: \u001b[32m\"20200415062431+00'00'\"\u001b[0m,\n",
              "            \u001b[32m'trapped'\u001b[0m: \u001b[32m''\u001b[0m\n",
              "        \u001b[1m}\u001b[0m\n",
              "    \u001b[1m)\u001b[0m,\n",
              "    \u001b[1;35mDocument\u001b[0m\u001b[1m(\u001b[0m\n",
              "        \u001b[33mpage_content\u001b[0m=\u001b[32m'© 2020 The Singju Post\\nI’ve got this right here, and I can go back to the New York Times if I want. Zoom up to that\\npicture so we can all see it. And again, isn’t this cool? Just go over there and get back to this\\none. I can get rid of it just by hitting the X. And there we go. Isn’t that incredible? Safari.\\nYou know, if you’ve ever used what’s called a Web browser on a mobile phone, you’ll know\\nhow incredible this is. I hope you’ll never really know, because it’s bad out there today, and\\nthis is a revolution of the first order, to really bring the real Internet to your phone.\\nLet me show you something about widgets here. Let’s go to stocks right now, and we’re\\ngoing to load stock information off the Web, and just right onto the phone here. Oh, look,\\nApple’s up! That’s great! Well, I could look at different graphs here if I want to. And that’s\\nfantastic. Let’s look at the percentages here. Oh, good. Good good. So I’ve got stocks right\\nhere, and I can go look at the weather. Let’s see what it’s like outside. 49 degrees, but it’s\\nsupposed to get to 61 today, so that’s good. We’ll just stay in here until it warms up. Now,\\nI’ve got Paris right here. I can have as many of these as I want, so it’s nighttime in Paris. It’s\\nactually warmer in Paris at night than it is here today. Wow. Aspen, well, no snow until later\\nin the week. And Hawaii. Oh, it’s raining, that’s not good. Well, anyway, here’s four places.\\nHawaii, Aspen, Paris and San Francisco, and again, the weather widget.\\nNow, to conclude with the Internet device section here, I want to show you something truly\\nremarkable, which is, Google Maps on iPhone. I hit our maps application here and it’s\\ncoming up. And it shows us North America, and I’m going to go to Moscone West. That’s\\nwhere we are right now. And here we are. Boom. That’s where we are.\\nNow, what I’m going to do, is I’m going to go look for something. I’m going to certainly want\\na cup of coffee afterwards, so I’m just going to look for Starbucks, right? Starbucks, so I’m\\ngoing to search for Starbucks, and sure enough, there’s all the Starbucks. Now, I can get a\\nlist of Starbucks here, and I can pick that one if I want, and I can even go look at that\\nStarbucks, and there it is, and let’s give them a call.\\n“Good morning, Starbucks, how can I help you?”\\nYes, I’d like to order 4,000 lattes to go, please. No, just kidding, wrong number. Thank you.\\nBye-bye.\\nNow, I can zoom in by just pinching if I want to. Or I can just double click to zoom in, and I\\nget just higher and higher resolution versions of the map. So let’s go somewhere else here\\nthat I’ve got bookmarked. Let’s go to the Washington Monument. And so here’s Washington,\\nD.C, and I could just double-tap and I’m going in a little further here, just double-tapping in.\\n'\u001b[0m,\n",
              "        \u001b[33mmetadata\u001b[0m=\u001b[1m{\u001b[0m\n",
              "            \u001b[32m'source'\u001b[0m: \u001b[32m'https://singjupost.com/wp-content/uploads/2014/07/Steve-Jobs-iPhone-2007-Presentation-Full-Transcript.pdf'\u001b[0m,\n",
              "            \u001b[32m'file_path'\u001b[0m: \u001b[32m'https://singjupost.com/wp-content/uploads/2014/07/Steve-Jobs-iPhone-2007-Presentation-Full-Transcript.pdf'\u001b[0m,\n",
              "            \u001b[32m'page'\u001b[0m: \u001b[1;36m12\u001b[0m,\n",
              "            \u001b[32m'total_pages'\u001b[0m: \u001b[1;36m22\u001b[0m,\n",
              "            \u001b[32m'format'\u001b[0m: \u001b[32m'PDF 1.4'\u001b[0m,\n",
              "            \u001b[32m'title'\u001b[0m: \u001b[32m'Steve Jobs iPhone 2007 Presentation \u001b[0m\u001b[32m(\u001b[0m\u001b[32mFull Transcript\u001b[0m\u001b[32m)\u001b[0m\u001b[32m'\u001b[0m,\n",
              "            \u001b[32m'author'\u001b[0m: \u001b[32m'Married Wildebeest'\u001b[0m,\n",
              "            \u001b[32m'subject'\u001b[0m: \u001b[32m''\u001b[0m,\n",
              "            \u001b[32m'keywords'\u001b[0m: \u001b[32m''\u001b[0m,\n",
              "            \u001b[32m'creator'\u001b[0m: \u001b[32m''\u001b[0m,\n",
              "            \u001b[32m'producer'\u001b[0m: \u001b[32m'mPDF 7.0.3'\u001b[0m,\n",
              "            \u001b[32m'creationDate'\u001b[0m: \u001b[32m\"20200415062431+00'00'\"\u001b[0m,\n",
              "            \u001b[32m'modDate'\u001b[0m: \u001b[32m\"20200415062431+00'00'\"\u001b[0m,\n",
              "            \u001b[32m'trapped'\u001b[0m: \u001b[32m''\u001b[0m\n",
              "        \u001b[1m}\u001b[0m\n",
              "    \u001b[1m)\u001b[0m,\n",
              "    \u001b[1;35mDocument\u001b[0m\u001b[1m(\u001b[0m\n",
              "        \u001b[33mpage_content\u001b[0m=\u001b[32m'© 2020 The Singju Post\\nAnd there’s the Washington Monument there, and I’ll double-tap in again. But now I want to\\nshow you something else.\\nSatellite images. So I just hit this button called satellite at the bottom. It’s going to replace\\nthe map with satellite images, there we go. And I can just double-tap in, and double-tap in\\nagain. And let’s double-tap in again. This is the Washington Monument. Look at this. I can\\nsee people down there. Whoops, there we go. Yep. Isn’t that incredible. Right on my phone!\\nIt’s unbelievable. So let’s go, I’ve got another one, the Eiffel Tower, which is very cool. I set\\nthis one to be, look at this, there’s the Eiffel tower. There’s people at the Eiffel Tower you\\ncan see. Look at that. Incredible. And here, one last one I have to show you, the Colosseum\\nin Rome. So again, here we are in Rome. That’s as far as we can go with the map, but we\\ncan go a little further with the satellite. There’s the Colosseum. There’s the Roman\\nColosseum. Satellite imagery, right on the phone. Look at that. That’s the Colosseum.\\nUnbelievable. Right on the phone. What do you think. Isn’t that incredible?\\nSo, all these amazing things. This is a breakthrough Internet communicator built right into\\niPhone. The first rich HTML e-mail on a phone. The first real Web browser on a phone. Best\\nversion of Google Maps on the planet, widgets, and all with EDGE and Wi-fi networking.\\nWe’re very, very happy with this. Again, push e-mail. IMAP free Yahoo! and almost any other\\nIMAP and POP service you want to hook up to. Incredible new technology for entering text.\\nFar better than we’ve seen on phones before. A real browser on the phone. We can see real\\nWeb pages in portrait or landscape. We can zoom in on what we want to take a look at more\\nclosely. Google Maps and widgets. It’s the Internet in your pocket for the first time ever.\\nNow, you can’t really think about the Internet, of course, without thinking about Google,\\nright? And for Google, what we have on our phone, working with them is of course Google\\nsearch, we have that built right into the browser. Just type what you want, hit Google and\\nyou’re off. And Google Maps. We’ve been working very closely with them to make this all\\nhappen. We’re thrilled with the results, and it’s my pleasure now to introduce Dr. Eric\\nSchmidt, Google’s CEO.\\nDr. Eric Schmidt – CEO, Google\\nCongratulations Steve! What an incredible job!\\nSo, Steve, I’ve had the privilege of joining the board and there’s lot of relationships between\\nthe boards and I thought we just sort of merged the companies, we could call them\\nAppleGoo. But I am not a marketing guy.\\n'\u001b[0m,\n",
              "        \u001b[33mmetadata\u001b[0m=\u001b[1m{\u001b[0m\n",
              "            \u001b[32m'source'\u001b[0m: \u001b[32m'https://singjupost.com/wp-content/uploads/2014/07/Steve-Jobs-iPhone-2007-Presentation-Full-Transcript.pdf'\u001b[0m,\n",
              "            \u001b[32m'file_path'\u001b[0m: \u001b[32m'https://singjupost.com/wp-content/uploads/2014/07/Steve-Jobs-iPhone-2007-Presentation-Full-Transcript.pdf'\u001b[0m,\n",
              "            \u001b[32m'page'\u001b[0m: \u001b[1;36m13\u001b[0m,\n",
              "            \u001b[32m'total_pages'\u001b[0m: \u001b[1;36m22\u001b[0m,\n",
              "            \u001b[32m'format'\u001b[0m: \u001b[32m'PDF 1.4'\u001b[0m,\n",
              "            \u001b[32m'title'\u001b[0m: \u001b[32m'Steve Jobs iPhone 2007 Presentation \u001b[0m\u001b[32m(\u001b[0m\u001b[32mFull Transcript\u001b[0m\u001b[32m)\u001b[0m\u001b[32m'\u001b[0m,\n",
              "            \u001b[32m'author'\u001b[0m: \u001b[32m'Married Wildebeest'\u001b[0m,\n",
              "            \u001b[32m'subject'\u001b[0m: \u001b[32m''\u001b[0m,\n",
              "            \u001b[32m'keywords'\u001b[0m: \u001b[32m''\u001b[0m,\n",
              "            \u001b[32m'creator'\u001b[0m: \u001b[32m''\u001b[0m,\n",
              "            \u001b[32m'producer'\u001b[0m: \u001b[32m'mPDF 7.0.3'\u001b[0m,\n",
              "            \u001b[32m'creationDate'\u001b[0m: \u001b[32m\"20200415062431+00'00'\"\u001b[0m,\n",
              "            \u001b[32m'modDate'\u001b[0m: \u001b[32m\"20200415062431+00'00'\"\u001b[0m,\n",
              "            \u001b[32m'trapped'\u001b[0m: \u001b[32m''\u001b[0m\n",
              "        \u001b[1m}\u001b[0m\n",
              "    \u001b[1m)\u001b[0m,\n",
              "    \u001b[1;35mDocument\u001b[0m\u001b[1m(\u001b[0m\n",
              "        \u001b[33mpage_content\u001b[0m=\u001b[32m'© 2020 The Singju Post\\nWhat I like about this new device and the new architecture of the internet is that you can\\nactually merge without merging. Steve says that each company should do the absolutely\\nbest thing that they can do every time, and I think he has shown it once again today.\\nInternet architectures allow you now to take the enormous brain thrust that is represented\\nby the Apple development team and combine that with the open protocols and data services,\\nthe companies like Google and the others represented that are coming up in a bit, to\\nactually put them together in a seamless environment for end users.\\nWhat I particularly like about this is – it’s the first time it’s all come together in one place.\\nAnd from a Google perspective, what we have done is we’ve pushed very, very hard to\\npartner with others and particularly partner with Apple, the companies, the cultures are\\nsimilar, innovation, having fun while you are doing it, and also working with many, many\\ndifferent data services. So Steve showed a little bit of some of the components, some of the\\npieces and so forth that you can do but understand that this is a set of data just for maps\\nand partners and so forth, so that you really can get the full integration. The person doesn’t\\nunderstand how hard it was to get it all together, it comes together seamlessly.\\nFrom my perspective, this is the first of whole new generation of data services where these\\npowerful based cloud computers, Google being – we hope – a leading representative\\nprovides HTML, XTML and other sophisticated services, that the Safari browser that’s\\nembedded into iPhone and many other of its type devices, future devices out of Apple will be\\nable to take advantage.\\nSteve, my congratulations to you and this product is going to be hot.\\nSteve Jobs- Apple CEO\\nThank you, Eric. As a board member, you will get one of the first ones.\\nOkay. Now, you also can’t think about the Internet without thinking about Yahoo!. And again\\non the phone, we’ve got Yahoo! Search built right in, you can select which one you want to\\nuse. Just type in something, hit that Yahoo! button and boom, you’re off. And of course, we\\nalso have Yahoo! IMAP e-mail services. And so, it is my great pleasure to introduce Jerry\\nYang, co-founder and chief Yahoo.\\nJerry Yang – Co-founder and CEO, Yahoo!\\nCongrats. Thank you, Steve. I am not a board member of Apple but I love one of these two,\\nobviously. Wow, all this for a phone, pretty incredible and what a great device! Steve, we’re\\n'\u001b[0m,\n",
              "        \u001b[33mmetadata\u001b[0m=\u001b[1m{\u001b[0m\n",
              "            \u001b[32m'source'\u001b[0m: \u001b[32m'https://singjupost.com/wp-content/uploads/2014/07/Steve-Jobs-iPhone-2007-Presentation-Full-Transcript.pdf'\u001b[0m,\n",
              "            \u001b[32m'file_path'\u001b[0m: \u001b[32m'https://singjupost.com/wp-content/uploads/2014/07/Steve-Jobs-iPhone-2007-Presentation-Full-Transcript.pdf'\u001b[0m,\n",
              "            \u001b[32m'page'\u001b[0m: \u001b[1;36m14\u001b[0m,\n",
              "            \u001b[32m'total_pages'\u001b[0m: \u001b[1;36m22\u001b[0m,\n",
              "            \u001b[32m'format'\u001b[0m: \u001b[32m'PDF 1.4'\u001b[0m,\n",
              "            \u001b[32m'title'\u001b[0m: \u001b[32m'Steve Jobs iPhone 2007 Presentation \u001b[0m\u001b[32m(\u001b[0m\u001b[32mFull Transcript\u001b[0m\u001b[32m)\u001b[0m\u001b[32m'\u001b[0m,\n",
              "            \u001b[32m'author'\u001b[0m: \u001b[32m'Married Wildebeest'\u001b[0m,\n",
              "            \u001b[32m'subject'\u001b[0m: \u001b[32m''\u001b[0m,\n",
              "            \u001b[32m'keywords'\u001b[0m: \u001b[32m''\u001b[0m,\n",
              "            \u001b[32m'creator'\u001b[0m: \u001b[32m''\u001b[0m,\n",
              "            \u001b[32m'producer'\u001b[0m: \u001b[32m'mPDF 7.0.3'\u001b[0m,\n",
              "            \u001b[32m'creationDate'\u001b[0m: \u001b[32m\"20200415062431+00'00'\"\u001b[0m,\n",
              "            \u001b[32m'modDate'\u001b[0m: \u001b[32m\"20200415062431+00'00'\"\u001b[0m,\n",
              "            \u001b[32m'trapped'\u001b[0m: \u001b[32m''\u001b[0m\n",
              "        \u001b[1m}\u001b[0m\n",
              "    \u001b[1m)\u001b[0m,\n",
              "    \u001b[1;35mDocument\u001b[0m\u001b[1m(\u001b[0m\n",
              "        \u001b[33mpage_content\u001b[0m=\u001b[32m'© 2020 The Singju Post\\nreally proud at Yahoo! to be partnering with Apple, on not only the Yahoo! IMAP email, the\\nfirst one we are doing, but also hopefully on a whole variety of other popular services from\\nYahoo!\\nOne of the things that we are going to be doing with Apple is also launching some of our\\nnew services that we announced this week Yahoo! Go, Yahoo! One Search and hopefully we\\ncan get Yahoo! One Search which is one of our new products on to this phone which is really\\ninnovative way of looking at search. You’re really able to not get the traditional web search\\nresults but rather get all the things you want in a very concise format aggregated, if having\\nthings like San Francisco you’ll get all the local news, local weather and local maps all in\\none place. So we’re looking forward to doing that.\\nAs Steve said, mail was a killer app on the phone and Yahoo! is really trying to redesign and\\nre-innovate and reinvent the web experience and internet experience on the mobile devices.\\nSo on the email you can look forward not only to great web services like the best spam\\nprotection, address books integration and the calendar if you’re on Yahoo!. Just think it’s\\nbasically like having a BlackBerry without the Exchange server. This is really going to be\\nreally great not only having a seamless experience from your PC, take into your mobile\\ninternet. Yeah, there’s some clapping out there, I can hear that.\\nLastly, we want to be able to really take what Apple is doing on the phone by reinventing\\nthe phone and reinventing the device. We want to be able to do that on the Internet and\\nwhat we’re doing is really being able to take great form factors, great user experiences and\\ngreat UI that we’re taking from not only the web but also in the back end services and\\ntranslate them into a seamless web experience. So we’re big believers in great hardware\\nand great software and we’re big believers in taking the web services and Web 2.0 model\\nand take them to the device world.\\nSo Steve, my address you have it all. Please send it to me. Thanks again.\\nSteve Jobs- Apple CEO\\nYou know, it’s been great having the two greatest companies on the Web right down the\\nblock. Google and Yahoo! And we’ve been able to work with these guys really closely, and\\nit’s been an incredible pleasure to work on this great technology and bring it to everybody\\nin iPhone. So thank you guys very much. You’ve really helped us put the Internet in your\\npocket.\\nSo, Internet communicator, an iPod and a phone. Let’s put them all together and see what\\n'\u001b[0m,\n",
              "        \u001b[33mmetadata\u001b[0m=\u001b[1m{\u001b[0m\n",
              "            \u001b[32m'source'\u001b[0m: \u001b[32m'https://singjupost.com/wp-content/uploads/2014/07/Steve-Jobs-iPhone-2007-Presentation-Full-Transcript.pdf'\u001b[0m,\n",
              "            \u001b[32m'file_path'\u001b[0m: \u001b[32m'https://singjupost.com/wp-content/uploads/2014/07/Steve-Jobs-iPhone-2007-Presentation-Full-Transcript.pdf'\u001b[0m,\n",
              "            \u001b[32m'page'\u001b[0m: \u001b[1;36m15\u001b[0m,\n",
              "            \u001b[32m'total_pages'\u001b[0m: \u001b[1;36m22\u001b[0m,\n",
              "            \u001b[32m'format'\u001b[0m: \u001b[32m'PDF 1.4'\u001b[0m,\n",
              "            \u001b[32m'title'\u001b[0m: \u001b[32m'Steve Jobs iPhone 2007 Presentation \u001b[0m\u001b[32m(\u001b[0m\u001b[32mFull Transcript\u001b[0m\u001b[32m)\u001b[0m\u001b[32m'\u001b[0m,\n",
              "            \u001b[32m'author'\u001b[0m: \u001b[32m'Married Wildebeest'\u001b[0m,\n",
              "            \u001b[32m'subject'\u001b[0m: \u001b[32m''\u001b[0m,\n",
              "            \u001b[32m'keywords'\u001b[0m: \u001b[32m''\u001b[0m,\n",
              "            \u001b[32m'creator'\u001b[0m: \u001b[32m''\u001b[0m,\n",
              "            \u001b[32m'producer'\u001b[0m: \u001b[32m'mPDF 7.0.3'\u001b[0m,\n",
              "            \u001b[32m'creationDate'\u001b[0m: \u001b[32m\"20200415062431+00'00'\"\u001b[0m,\n",
              "            \u001b[32m'modDate'\u001b[0m: \u001b[32m\"20200415062431+00'00'\"\u001b[0m,\n",
              "            \u001b[32m'trapped'\u001b[0m: \u001b[32m''\u001b[0m\n",
              "        \u001b[1m}\u001b[0m\n",
              "    \u001b[1m)\u001b[0m,\n",
              "    \u001b[1;35mDocument\u001b[0m\u001b[1m(\u001b[0m\n",
              "        \u001b[33mpage_content\u001b[0m=\u001b[32m'© 2020 The Singju Post\\nyou can do in a real-life scenario. So, let’s take a look. I want to listen to some music, so I\\nwant to go into my iPod here and let’s see, in artists, I want to listen to, oh, maybe Red Hot\\nChili Peppers, I love those guys. And so I’m listening to a song of theirs. And let’s see what\\nhappens when I get a phone call. Music fades out. Screen changes. Got a phone call coming\\nin. So I can ignore it, but I think I’m going to answer it. So I’ll answer it. Howdy. Hi Phil,\\nlisten I’m kind of busy right now. What can I do for you?\\nOh, Okay, hold on just a sec. So I push the home button on my wallpaper and I go home\\nright here, and I’m still on the call. You can see the phone thing flashing right there on the\\nlower left. And I go into photos and now I’m in photos and you can see the bar across the\\ntop, the green bar, I can just touch that to return to the call. And Phil wants a photo that he\\nwanted to use it for his screensaver, it was one of the ones that was taken in Hawaii, I think\\nit was this one. Yep, there it is.\\nSo you want me to mail this to you, Phil? So I again I just go down here and push this\\nbutton, and rather than use it as wallpaper, I’m going to e-mail it. So watch what happens\\nnow. It shrinks it a little bit, and then a compose windows will come up right behind it.\\nThere we go. And I will just tap in the to field and send this to Phil here, Phil Schiller there\\nwe go. And the e-mail is there, yep, it’s there, and I’m just going to send it. Hey, Phil, that\\nshould be on its way right now.\\nAnything else?…Let me go check it out. I think I’ve got Fandango in my bookmarks here.\\nYes, I do. Let’s go to Fandango, figure out what movies are playing. … To go back to my call\\nI just touch the top here, and I’m back at my call, and I’m just going to go ahead and end the\\ncall. What happens now? Back in my music. So, this is what it’s like when you put it all\\ntogether.\\niPhone. Today Apple is reinventing the phone.\\nNow how does this stack up. Let’s go back to these guys. Let’s take a look. Well, these are\\ntheir home screens. And again, as you recall, this is iPhone. This is what their contacts look\\nlike. This is what iPhone’s contacts look like, and again, you just pick one and you see\\neverything about that person, all the information you have. This is what mail looks like on\\nthese smartphones. Again this is what mail looks like on iPhone. You have rich, HTML, rich\\ntext e-mail. This is what calendars look like on these guys. This is what calendars look like\\non iPhone. This is what the Web looks like, and we tried to make it look as good as we could\\non these. It usually looks worse and this is what you get, and of course, this is what you get\\non iPhone, and you can zoom in and see anything you want. And this is what you get for\\nmusic players, nobody really uses them much, and this is what you get on iPhone.\\n'\u001b[0m,\n",
              "        \u001b[33mmetadata\u001b[0m=\u001b[1m{\u001b[0m\n",
              "            \u001b[32m'source'\u001b[0m: \u001b[32m'https://singjupost.com/wp-content/uploads/2014/07/Steve-Jobs-iPhone-2007-Presentation-Full-Transcript.pdf'\u001b[0m,\n",
              "            \u001b[32m'file_path'\u001b[0m: \u001b[32m'https://singjupost.com/wp-content/uploads/2014/07/Steve-Jobs-iPhone-2007-Presentation-Full-Transcript.pdf'\u001b[0m,\n",
              "            \u001b[32m'page'\u001b[0m: \u001b[1;36m16\u001b[0m,\n",
              "            \u001b[32m'total_pages'\u001b[0m: \u001b[1;36m22\u001b[0m,\n",
              "            \u001b[32m'format'\u001b[0m: \u001b[32m'PDF 1.4'\u001b[0m,\n",
              "            \u001b[32m'title'\u001b[0m: \u001b[32m'Steve Jobs iPhone 2007 Presentation \u001b[0m\u001b[32m(\u001b[0m\u001b[32mFull Transcript\u001b[0m\u001b[32m)\u001b[0m\u001b[32m'\u001b[0m,\n",
              "            \u001b[32m'author'\u001b[0m: \u001b[32m'Married Wildebeest'\u001b[0m,\n",
              "            \u001b[32m'subject'\u001b[0m: \u001b[32m''\u001b[0m,\n",
              "            \u001b[32m'keywords'\u001b[0m: \u001b[32m''\u001b[0m,\n",
              "            \u001b[32m'creator'\u001b[0m: \u001b[32m''\u001b[0m,\n",
              "            \u001b[32m'producer'\u001b[0m: \u001b[32m'mPDF 7.0.3'\u001b[0m,\n",
              "            \u001b[32m'creationDate'\u001b[0m: \u001b[32m\"20200415062431+00'00'\"\u001b[0m,\n",
              "            \u001b[32m'modDate'\u001b[0m: \u001b[32m\"20200415062431+00'00'\"\u001b[0m,\n",
              "            \u001b[32m'trapped'\u001b[0m: \u001b[32m''\u001b[0m\n",
              "        \u001b[1m}\u001b[0m\n",
              "    \u001b[1m)\u001b[0m,\n",
              "    \u001b[1;35mDocument\u001b[0m\u001b[1m(\u001b[0m\n",
              "        \u001b[33mpage_content\u001b[0m=\u001b[32m'© 2020 The Singju Post\\nSo after today, I don’t think anyone is going to look at these phones quite the same way\\nagain.\\nNow let me tell you about some accessories we’ve got for iPhone. Got some great stereo\\nheadphones we’re going to be shipping, and they’ve got a little addition to them, which is\\nthis little thing right over here. It’s a microphone and a switch, so you can talk, you have\\nthem in there, you can get a call and just talk. Beautiful reception on the microphone. And\\njust push it together to answer a call or hang up on a call. So you can be wearing them. It\\njust dangles right there and picks up your voice beautifully.\\nAnd we also have a Bluetooth accessory headset that we’re going to be shipping and there it\\nis right there. It’s incredibly small and just to let you see what it looks like, it’s got one\\nbutton on the top for answering and hanging up a phone call. You never have to turn it off or\\non. It just goes to sleep. It automatically pairs with iPhone so you don’t have to worry about\\npairing. It’s really simple. And it’s very tiny. This is what it looks like in-ear. It’s just\\nbeautiful. It’s the coolest one that we’ve ever seen. So Bluetooth headset coming as well.\\nBattery life. A lot of these smartphones have pretty low battery lives. We’ve managed to get\\nfive hours of battery, and that’s for talk time, video or browsing. Five hours of battery life,\\nand 16 hours of audio playback, so that’s dramatically better than any of these smartphones.\\nThere is a tremendous amount of high technology in iPhone. We’ve been pushing the state\\nof the art in every facet of this design. So let me just talk a little bit about it here. We’ve got\\nthe multi-touch screen. A first. Miniaturization, more than any we’ve done before. A lot of\\ncustom silicon. Tremendous power management. OSX inside a mobile device. Featherweight\\nprecision enclosures. Three advanced sensors. Desktop class applications, and of course, the\\nwidescreen video iPod. We’ve been innovating like crazy for the last few years on this, and\\nwe filed for over 200 patents for all the inventions in iPhone, and we intend to protect them.\\nSo, a lot of high technology. I think we’re advancing the state of the art in every aspect of\\nthis design. So iPhone is like having your life in your pocket. It’s the ultimate digital device.\\nSo what should we price it at? Well, what do these things normally cost? An iPod, the most\\npopular iPod, $199 for 4 gig nano. What’s a smartphone cost? Well, they say you get the\\nphone and some of the Internet with it, although that’s questionable. But they cost\\nsomewhere around $299. You can get them for $199. Palm just introduced one at $399\\nyesterday, so they generally average about $299 with a two-year contract.\\nNow, these phones sort of do music but nobody uses them for music because they’re not\\nvery good and so they end up buying an iPod to go with the phone. We know, we sell the\\n'\u001b[0m,\n",
              "        \u001b[33mmetadata\u001b[0m=\u001b[1m{\u001b[0m\n",
              "            \u001b[32m'source'\u001b[0m: \u001b[32m'https://singjupost.com/wp-content/uploads/2014/07/Steve-Jobs-iPhone-2007-Presentation-Full-Transcript.pdf'\u001b[0m,\n",
              "            \u001b[32m'file_path'\u001b[0m: \u001b[32m'https://singjupost.com/wp-content/uploads/2014/07/Steve-Jobs-iPhone-2007-Presentation-Full-Transcript.pdf'\u001b[0m,\n",
              "            \u001b[32m'page'\u001b[0m: \u001b[1;36m17\u001b[0m,\n",
              "            \u001b[32m'total_pages'\u001b[0m: \u001b[1;36m22\u001b[0m,\n",
              "            \u001b[32m'format'\u001b[0m: \u001b[32m'PDF 1.4'\u001b[0m,\n",
              "            \u001b[32m'title'\u001b[0m: \u001b[32m'Steve Jobs iPhone 2007 Presentation \u001b[0m\u001b[32m(\u001b[0m\u001b[32mFull Transcript\u001b[0m\u001b[32m)\u001b[0m\u001b[32m'\u001b[0m,\n",
              "            \u001b[32m'author'\u001b[0m: \u001b[32m'Married Wildebeest'\u001b[0m,\n",
              "            \u001b[32m'subject'\u001b[0m: \u001b[32m''\u001b[0m,\n",
              "            \u001b[32m'keywords'\u001b[0m: \u001b[32m''\u001b[0m,\n",
              "            \u001b[32m'creator'\u001b[0m: \u001b[32m''\u001b[0m,\n",
              "            \u001b[32m'producer'\u001b[0m: \u001b[32m'mPDF 7.0.3'\u001b[0m,\n",
              "            \u001b[32m'creationDate'\u001b[0m: \u001b[32m\"20200415062431+00'00'\"\u001b[0m,\n",
              "            \u001b[32m'modDate'\u001b[0m: \u001b[32m\"20200415062431+00'00'\"\u001b[0m,\n",
              "            \u001b[32m'trapped'\u001b[0m: \u001b[32m''\u001b[0m\n",
              "        \u001b[1m}\u001b[0m\n",
              "    \u001b[1m)\u001b[0m,\n",
              "    \u001b[1;35mDocument\u001b[0m\u001b[1m(\u001b[0m\n",
              "        \u001b[33mpage_content\u001b[0m=\u001b[32m'© 2020 The Singju Post\\niPod. And so people spend $499 on this combination. What should we charge for iPhone.\\nBecause iPhone has got a lot more than this stuff. It’s got video. Real video. It’s got this\\nbeautiful gorgeous wide screen. It’s got multi-touch user interface. It’s got wi-fi. It’s got a\\nreal browser. It’s got HTML e-mail. It’s got coverflow and on and on. And this stuff would\\nnormally cost hundreds of dollars.\\nSo how much more than $499 should we price iPhone? Well, we thought long and hard\\nabout it, because iPhone just does so much stuff. So much better experience on call, on\\nmanaging your contacts and visual voice mail. Random access voice mail for the first time.\\nTexting and e-mail and real browser and Google Maps. Tremendous iPod and cover flow and\\nvideo. What should we price this thing at? Well, for a 4 gigabyte model, we’re going to price\\nit at that same $499. No premium whatsoever. $499.\\nAnd we’re going to have an 8 gigabyte model for just $599. So we’re going to price it\\nstarting at $499. Now, when’s it going to be available? We’re going to be shipping these in\\nJune. We’re announcing it today because with products like this we’ve got to go ahead and\\nget FCC approval which takes a few months, and we thought it would be better if we\\nintroduced this rather than ask the FCC to introduce it for us. So here we are, and we’re\\ngoing to be shipping it in June in the U.S. We’re going to Europe hopefully by the fourth\\ncalendar quarter of this year. And in Asia in 2008.\\nSo in June, in just a few months, we’ll be shipping in the U.S. And when we do, our partner\\nis going to be Cingular. We’ve chosen Cingular. They are the best and most popular network\\nin the country. 58 million subscribers. They are number one. And they’re going to be our\\nexclusive partner in the U.S.\\nNow, it’s a unique partnership though. We’re not just going to be selling phones and\\nservices together. We’re going to be doing innovation together. We worked with Cingular on\\nvisual voice mail. Because it’s an innovation that requires both innovation on the phone and\\nin the network. You can’t do it in just one place. You have to do it in both places and\\ncollaborate. And so visual voice mail is the first fruit of this collaboration, and you will see\\nmore. And when we start shipping in June, we will be selling iPhone through our own stores,\\nand through Cingular stores. And it’s my pleasure to introduce the CEO of Cingular, Stan\\nSigman.\\nStan Sigman – CEO, Cingular\\nThank you….you know Steve and I first met about two years ago in New York City when he\\nshared with me this vision that he had for this product. And we’ve been working on it for\\n'\u001b[0m,\n",
              "        \u001b[33mmetadata\u001b[0m=\u001b[1m{\u001b[0m\n",
              "            \u001b[32m'source'\u001b[0m: \u001b[32m'https://singjupost.com/wp-content/uploads/2014/07/Steve-Jobs-iPhone-2007-Presentation-Full-Transcript.pdf'\u001b[0m,\n",
              "            \u001b[32m'file_path'\u001b[0m: \u001b[32m'https://singjupost.com/wp-content/uploads/2014/07/Steve-Jobs-iPhone-2007-Presentation-Full-Transcript.pdf'\u001b[0m,\n",
              "            \u001b[32m'page'\u001b[0m: \u001b[1;36m18\u001b[0m,\n",
              "            \u001b[32m'total_pages'\u001b[0m: \u001b[1;36m22\u001b[0m,\n",
              "            \u001b[32m'format'\u001b[0m: \u001b[32m'PDF 1.4'\u001b[0m,\n",
              "            \u001b[32m'title'\u001b[0m: \u001b[32m'Steve Jobs iPhone 2007 Presentation \u001b[0m\u001b[32m(\u001b[0m\u001b[32mFull Transcript\u001b[0m\u001b[32m)\u001b[0m\u001b[32m'\u001b[0m,\n",
              "            \u001b[32m'author'\u001b[0m: \u001b[32m'Married Wildebeest'\u001b[0m,\n",
              "            \u001b[32m'subject'\u001b[0m: \u001b[32m''\u001b[0m,\n",
              "            \u001b[32m'keywords'\u001b[0m: \u001b[32m''\u001b[0m,\n",
              "            \u001b[32m'creator'\u001b[0m: \u001b[32m''\u001b[0m,\n",
              "            \u001b[32m'producer'\u001b[0m: \u001b[32m'mPDF 7.0.3'\u001b[0m,\n",
              "            \u001b[32m'creationDate'\u001b[0m: \u001b[32m\"20200415062431+00'00'\"\u001b[0m,\n",
              "            \u001b[32m'modDate'\u001b[0m: \u001b[32m\"20200415062431+00'00'\"\u001b[0m,\n",
              "            \u001b[32m'trapped'\u001b[0m: \u001b[32m''\u001b[0m\n",
              "        \u001b[1m}\u001b[0m\n",
              "    \u001b[1m)\u001b[0m,\n",
              "    \u001b[1;35mDocument\u001b[0m\u001b[1m(\u001b[0m\n",
              "        \u001b[33mpage_content\u001b[0m=\u001b[32m'© 2020 The Singju Post\\nsome time and actually entered into a contractual agreement without us ever seeing the\\ndevice or the phone. That was because of the confidence that I have in Steve and his\\nleadership team to deliver on the vision that they had and every time I see this – its just\\nwow, it’s just wow! It’s really, really cool. You exceeded my expectations.\\nIt’s a real honor for Cingular to be partnering with Apple today and I’ve brought with me\\nanother company to celebrate in this, and it’s a pretty big company. It’s the new AT&T.\\n11 days ago, AT&T became a – I mean Cingular became a full part of the new AT&T family\\nand this new family will help fulfill the vision we have of wireline, wireless, broadband and\\nvideo coming together on one device in the ways the customers haven’t imagined.\\nToday Cingular and Apple are truly raising the bar. We’re announcing a partnership that the\\nmobile phone experience — takes in the mobile phone experience to the real new level, by\\nbringing together the best network with the best device.\\nNetworks are the foundation of what Cingular and AT&T do. Cingular offers the largest\\ndigital and voice data network in America today. The Cingular network has the fewest\\ndropped calls in this country. And AT&T is the largest provider of broadband Internet\\nservices in this community. When it comes to networks, AT&T wrote the book, their quality\\nis Legendary, put this network experience that Cingular and AT&T have and Apple products\\ntogether and what do you get – first, you get the best voice and data services with the best\\nuser experience available anywhere. Second, you get real compelling products and services.\\nFor example, is the visual voicemail that Steve mentioned which lets you look at the voice\\nmessage you want to hear and when you want to hear it.\\nAs Steve mentioned, to create Visual Voicemail it took innovation on Cingular’s part, at the\\nnetwork level and by Apple with the device, and I promise you’ll see more of that coming\\ndown the road.\\nThird, when you combine Cingular’s 2100 retail stores and number one wireless online store\\nwith Apple’s already legendary retail store and online stores, you’ve got unmatched\\ndistribution. Yes, we’re truly pleased to partner with Apple to deliver one of the most\\neagerly awaited wireless products ever – the iPhone that he showed you.\\nWith iPhone, you get a breakthrough wireless experience and we’ll be working shoulder to\\nshoulder with Steve and his team to make sure that the integration of the iPhone and our\\nnetwork is seamless. This is only the beginning. We’re just introducing a new product.\\nWe’re changing the way companies work together.\\n'\u001b[0m,\n",
              "        \u001b[33mmetadata\u001b[0m=\u001b[1m{\u001b[0m\n",
              "            \u001b[32m'source'\u001b[0m: \u001b[32m'https://singjupost.com/wp-content/uploads/2014/07/Steve-Jobs-iPhone-2007-Presentation-Full-Transcript.pdf'\u001b[0m,\n",
              "            \u001b[32m'file_path'\u001b[0m: \u001b[32m'https://singjupost.com/wp-content/uploads/2014/07/Steve-Jobs-iPhone-2007-Presentation-Full-Transcript.pdf'\u001b[0m,\n",
              "            \u001b[32m'page'\u001b[0m: \u001b[1;36m19\u001b[0m,\n",
              "            \u001b[32m'total_pages'\u001b[0m: \u001b[1;36m22\u001b[0m,\n",
              "            \u001b[32m'format'\u001b[0m: \u001b[32m'PDF 1.4'\u001b[0m,\n",
              "            \u001b[32m'title'\u001b[0m: \u001b[32m'Steve Jobs iPhone 2007 Presentation \u001b[0m\u001b[32m(\u001b[0m\u001b[32mFull Transcript\u001b[0m\u001b[32m)\u001b[0m\u001b[32m'\u001b[0m,\n",
              "            \u001b[32m'author'\u001b[0m: \u001b[32m'Married Wildebeest'\u001b[0m,\n",
              "            \u001b[32m'subject'\u001b[0m: \u001b[32m''\u001b[0m,\n",
              "            \u001b[32m'keywords'\u001b[0m: \u001b[32m''\u001b[0m,\n",
              "            \u001b[32m'creator'\u001b[0m: \u001b[32m''\u001b[0m,\n",
              "            \u001b[32m'producer'\u001b[0m: \u001b[32m'mPDF 7.0.3'\u001b[0m,\n",
              "            \u001b[32m'creationDate'\u001b[0m: \u001b[32m\"20200415062431+00'00'\"\u001b[0m,\n",
              "            \u001b[32m'modDate'\u001b[0m: \u001b[32m\"20200415062431+00'00'\"\u001b[0m,\n",
              "            \u001b[32m'trapped'\u001b[0m: \u001b[32m''\u001b[0m\n",
              "        \u001b[1m}\u001b[0m\n",
              "    \u001b[1m)\u001b[0m,\n",
              "    \u001b[1;35mDocument\u001b[0m\u001b[1m(\u001b[0m\n",
              "        \u001b[33mpage_content\u001b[0m=\u001b[32m'© 2020 The Singju Post\\nApple and Cingular have a multi-year exclusive partnership. The new iPhone is only\\navailable with Cingular wireless services. This is not an MVNO. Ours is a unique\\nrelationship that lets Apple be Apple and Cingular be Cingular. Apple has built the device,\\ncombining the best phone, iPod and mobile internet experience ever. iPhone owners will be\\nCingular and AT&T customers. Our customers will get the best network and services in the\\nbusiness.\\nPeople will benefit from the best that companies they already know and trust at what they\\nhave to offer. Apple, Cingular and AT&T have come a long ways and now we’re picking up\\nthe pace. A little over six years ago, BellSouth and AT&T came together to form Cingular. 11\\ndays, Cingular joined the new AT&T. Today Cingular and AT&T are working together to\\nprovide our customers the most innovative, enjoyable and reliable service in the industry. I\\nhope you’re as excited as we are at what we have to see and enjoy here. This is going to be a\\nterrific ride. Thank you very much, Steve and congratulations.\\nSteve Jobs- Apple CEO\\nNow as Stan said, we started working together about two years ago and we come from\\npretty different worlds, the telecommunications industry, the computer industry and of\\ncourse music with the iPod, and yet we have worked wonderfully together. And we love\\nthese guys and we think it’s — we’re going to bring some great stuff to market over the\\nyears together.\\nSo let’s take a look at this market, and how big it is. My clicker’s not working. Oh there it is.\\nSo how big is this market, well let’s take a look. Clicker is not working. They’re scrambling\\nbackstage right now.\\nYou know, when I was in high school, Steve Wozniak and I, mostly Steve, made this little\\ndevice called the TV jammer. And it was this little oscillator that put out frequencies that\\nwould screw up the TV. And Woz would have it in his pocket, and we’d go into like a dorm at\\nBerkeley where he was going to school and bunch of folks will be watching like Star Trek\\nand he’d screw up the TV, and somebody would go up to fix it, and just as they had their\\nfoot off the ground, he’d turn it back on. If they put their foot back on the ground he’d screw\\nup the TV again. And within five minutes he’d have somebody like this for the rest of the\\nStar Trek episode.\\nSo game consoles. 26 million game consoles were sold in 2006 worldwide, actually a little\\nsmaller than you’d think. It’s not such a big market. Digital cameras dwarfed it at 94 million.\\nMP3 players 135 million. And PCs, about 209. Mobile phones, just about a billion last year,\\n'\u001b[0m,\n",
              "        \u001b[33mmetadata\u001b[0m=\u001b[1m{\u001b[0m\n",
              "            \u001b[32m'source'\u001b[0m: \u001b[32m'https://singjupost.com/wp-content/uploads/2014/07/Steve-Jobs-iPhone-2007-Presentation-Full-Transcript.pdf'\u001b[0m,\n",
              "            \u001b[32m'file_path'\u001b[0m: \u001b[32m'https://singjupost.com/wp-content/uploads/2014/07/Steve-Jobs-iPhone-2007-Presentation-Full-Transcript.pdf'\u001b[0m,\n",
              "            \u001b[32m'page'\u001b[0m: \u001b[1;36m20\u001b[0m,\n",
              "            \u001b[32m'total_pages'\u001b[0m: \u001b[1;36m22\u001b[0m,\n",
              "            \u001b[32m'format'\u001b[0m: \u001b[32m'PDF 1.4'\u001b[0m,\n",
              "            \u001b[32m'title'\u001b[0m: \u001b[32m'Steve Jobs iPhone 2007 Presentation \u001b[0m\u001b[32m(\u001b[0m\u001b[32mFull Transcript\u001b[0m\u001b[32m)\u001b[0m\u001b[32m'\u001b[0m,\n",
              "            \u001b[32m'author'\u001b[0m: \u001b[32m'Married Wildebeest'\u001b[0m,\n",
              "            \u001b[32m'subject'\u001b[0m: \u001b[32m''\u001b[0m,\n",
              "            \u001b[32m'keywords'\u001b[0m: \u001b[32m''\u001b[0m,\n",
              "            \u001b[32m'creator'\u001b[0m: \u001b[32m''\u001b[0m,\n",
              "            \u001b[32m'producer'\u001b[0m: \u001b[32m'mPDF 7.0.3'\u001b[0m,\n",
              "            \u001b[32m'creationDate'\u001b[0m: \u001b[32m\"20200415062431+00'00'\"\u001b[0m,\n",
              "            \u001b[32m'modDate'\u001b[0m: \u001b[32m\"20200415062431+00'00'\"\u001b[0m,\n",
              "            \u001b[32m'trapped'\u001b[0m: \u001b[32m''\u001b[0m\n",
              "        \u001b[1m}\u001b[0m\n",
              "    \u001b[1m)\u001b[0m,\n",
              "    \u001b[1;35mDocument\u001b[0m\u001b[1m(\u001b[0m\n",
              "        \u001b[33mpage_content\u001b[0m=\u001b[32m'© 2020 The Singju Post\\nworldwide.\\nSo what does this tell you? What this tells you is, that 1 percent market share equals 10\\nmillion units. This is a giant market. One percent market share, you’re going to sell 10\\nmillion phones. And this is exactly what we’re going to try to do in 2008, our first full year in\\nthe market, is grab 1 percent market share and go from there. So we’re going to enter a\\nvery competitive market, lot of players, we think we’re going to have the best product in the\\nworld, and we’re going to go for it and see if we can get 1 percent market share, 10 million\\nunits in 2008, and go from there.\\nSo, today, we’ve added to the Mac and the iPod. We’ve added Apple TV and now iPhone.\\nAnd you know, the Mac is really the only one that you think of as a computer. Right? And so\\nwe’ve thought about this and we thought, you know, maybe our name should reflect this a\\nlittle bit more than it does.\\nSo we’re announcing today we’re dropping the computer from our name, and from this day\\nforward, we’re going to be known as Apple Inc., to reflect the product mix that we have\\ntoday.\\nI didn’t sleep a wink last night. I was so excited about today, because we’ve been so lucky at\\nApple. We’ve had some real revolutionary products. The Mac in 1984 is an experience that\\nthose of us that were there will never forget. And I don’t think the world will forget it either.\\nThe iPod in 2001 changed everything about music, and we’re going to do it again with the\\niPhone in 2007. We’re very excited about this.\\nThere’s an old Wayne Gretzky quote that I love. “I skate to where the puck is going to be,\\nnot where it has been”. And we’ve always tried to do that at Apple. Since the very very\\nbeginning. And we always will. So thank you very very much for being a part of this.\\n \\n'\u001b[0m,\n",
              "        \u001b[33mmetadata\u001b[0m=\u001b[1m{\u001b[0m\n",
              "            \u001b[32m'source'\u001b[0m: \u001b[32m'https://singjupost.com/wp-content/uploads/2014/07/Steve-Jobs-iPhone-2007-Presentation-Full-Transcript.pdf'\u001b[0m,\n",
              "            \u001b[32m'file_path'\u001b[0m: \u001b[32m'https://singjupost.com/wp-content/uploads/2014/07/Steve-Jobs-iPhone-2007-Presentation-Full-Transcript.pdf'\u001b[0m,\n",
              "            \u001b[32m'page'\u001b[0m: \u001b[1;36m21\u001b[0m,\n",
              "            \u001b[32m'total_pages'\u001b[0m: \u001b[1;36m22\u001b[0m,\n",
              "            \u001b[32m'format'\u001b[0m: \u001b[32m'PDF 1.4'\u001b[0m,\n",
              "            \u001b[32m'title'\u001b[0m: \u001b[32m'Steve Jobs iPhone 2007 Presentation \u001b[0m\u001b[32m(\u001b[0m\u001b[32mFull Transcript\u001b[0m\u001b[32m)\u001b[0m\u001b[32m'\u001b[0m,\n",
              "            \u001b[32m'author'\u001b[0m: \u001b[32m'Married Wildebeest'\u001b[0m,\n",
              "            \u001b[32m'subject'\u001b[0m: \u001b[32m''\u001b[0m,\n",
              "            \u001b[32m'keywords'\u001b[0m: \u001b[32m''\u001b[0m,\n",
              "            \u001b[32m'creator'\u001b[0m: \u001b[32m''\u001b[0m,\n",
              "            \u001b[32m'producer'\u001b[0m: \u001b[32m'mPDF 7.0.3'\u001b[0m,\n",
              "            \u001b[32m'creationDate'\u001b[0m: \u001b[32m\"20200415062431+00'00'\"\u001b[0m,\n",
              "            \u001b[32m'modDate'\u001b[0m: \u001b[32m\"20200415062431+00'00'\"\u001b[0m,\n",
              "            \u001b[32m'trapped'\u001b[0m: \u001b[32m''\u001b[0m\n",
              "        \u001b[1m}\u001b[0m\n",
              "    \u001b[1m)\u001b[0m\n",
              "\u001b[1m]\u001b[0m"
            ]
          },
          "execution_count": 24,
          "metadata": {},
          "output_type": "execute_result"
        }
      ],
      "source": [
        "docs"
      ]
    },
    {
      "cell_type": "markdown",
      "metadata": {
        "id": "uH7ZPVJLx6Cn"
      },
      "source": [
        "### Chunking Our Documents"
      ]
    },
    {
      "cell_type": "markdown",
      "metadata": {
        "id": "NsSCRQUSyBKT"
      },
      "source": [
        "Let's do the same process as we did before with our `RecursiveCharacterTextSplitter` - but this time we'll use ~200 tokens as our max chunk size!"
      ]
    },
    {
      "cell_type": "code",
      "execution_count": 25,
      "metadata": {
        "id": "SzolG1FLx2f_"
      },
      "outputs": [],
      "source": [
        "text_splitter = RecursiveCharacterTextSplitter(\n",
        "    chunk_size=200,\n",
        "    chunk_overlap=0,\n",
        "    length_function=tiktoken_len,\n",
        ")\n",
        "\n",
        "split_chunks = text_splitter.split_documents(docs)"
      ]
    },
    {
      "cell_type": "code",
      "execution_count": 26,
      "metadata": {
        "colab": {
          "base_uri": "https://localhost:8080/"
        },
        "id": "fpV4f1eXyXVJ",
        "outputId": "4da462d2-e4db-4c89-b84c-2e4f85ae1c09"
      },
      "outputs": [
        {
          "data": {
            "text/html": [
              "<pre style=\"white-space:pre;overflow-x:auto;line-height:normal;font-family:Menlo,'DejaVu Sans Mono',consolas,'Courier New',monospace\"></pre>\n"
            ],
            "text/plain": []
          },
          "metadata": {},
          "output_type": "display_data"
        },
        {
          "data": {
            "text/plain": [
              "\u001b[1;36m86\u001b[0m"
            ]
          },
          "execution_count": 26,
          "metadata": {},
          "output_type": "execute_result"
        }
      ],
      "source": [
        "len(split_chunks)"
      ]
    },
    {
      "cell_type": "markdown",
      "metadata": {
        "id": "YTJ60Ck6ybe_"
      },
      "source": [
        "Alright, now we have 516 ~200 token long documents.\n",
        "\n",
        "Let's verify the process worked as intended by checking our max document length."
      ]
    },
    {
      "cell_type": "code",
      "execution_count": 27,
      "metadata": {
        "colab": {
          "base_uri": "https://localhost:8080/"
        },
        "id": "950mB338yZR8",
        "outputId": "43302516-c252-4b3b-a723-75be9728dfbd"
      },
      "outputs": [
        {
          "name": "stdout",
          "output_type": "stream",
          "text": [
            "197\n"
          ]
        }
      ],
      "source": [
        "max_chunk_length = 0\n",
        "\n",
        "for chunk in split_chunks:\n",
        "    max_chunk_length = max(max_chunk_length, tiktoken_len(chunk.page_content))\n",
        "\n",
        "print(max_chunk_length)"
      ]
    },
    {
      "cell_type": "markdown",
      "metadata": {
        "id": "TDt3RufQy1cP"
      },
      "source": [
        "Perfect! Now we can carry on to creating and storing our embeddings."
      ]
    },
    {
      "cell_type": "markdown",
      "metadata": {
        "id": "kocCe4zLy5qT"
      },
      "source": [
        "### Embeddings and Vector Storage\n",
        "\n",
        "We'll use the `text-embedding-3-small` embedding model again - and `Qdrant` to store all our embedding vectors for easy retrieval later!"
      ]
    },
    {
      "cell_type": "code",
      "execution_count": 28,
      "metadata": {
        "id": "7M0X1eVlWPFf"
      },
      "outputs": [],
      "source": [
        "from langchain_community.vectorstores import Qdrant\n",
        "\n",
        "qdrant_vectorstore = Qdrant.from_documents(\n",
        "    split_chunks,\n",
        "    embedding_model,\n",
        "    location=\":memory:\",\n",
        "    collection_name=\"Steve Job's Speech\",\n",
        ")"
      ]
    },
    {
      "cell_type": "code",
      "execution_count": 29,
      "metadata": {},
      "outputs": [
        {
          "data": {
            "text/html": [
              "<pre style=\"white-space:pre;overflow-x:auto;line-height:normal;font-family:Menlo,'DejaVu Sans Mono',consolas,'Courier New',monospace\"></pre>\n"
            ],
            "text/plain": []
          },
          "metadata": {},
          "output_type": "display_data"
        },
        {
          "data": {
            "text/plain": [
              "\n",
              "\u001b[1m[\u001b[0m\n",
              "    \u001b[1;35mDocument\u001b[0m\u001b[1m(\u001b[0m\n",
              "        \u001b[33mpage_content\u001b[0m=\u001b[32m'what’s on any other phone. Now how do we do this? Well, we start with a strong foundation.\\niPhone runs OSX.\\nNow, why would we want to run such a sophisticated operating system on a mobile\\ndevice? Well, because it’s got everything we need. It’s got multi-tasking. It’s got the best\\nnetworking. It already knows how to power manage. We’ve been doing this on mobile\\ncomputers for years. It’s got awesome security. And the right apps. It’s got everything from\\nCocoa and the graphics and it’s got core animation built in and it’s got the audio and video\\nthat OSX is famous for. It’s got all the stuff we want. And it’s built right in to iPhone. And\\nthat has let us create desktop class applications and networking. Not the crippled stuff that\\nyou find on most phones. This is real, desktop-class applications.'\u001b[0m,\n",
              "        \u001b[33mmetadata\u001b[0m=\u001b[1m{\u001b[0m\n",
              "            \u001b[32m'source'\u001b[0m: \u001b[32m'https://singjupost.com/wp-content/uploads/2014/07/Steve-Jobs-iPhone-2007-Presentation-Full-Transcript.pdf'\u001b[0m,\n",
              "            \u001b[32m'file_path'\u001b[0m: \u001b[32m'https://singjupost.com/wp-content/uploads/2014/07/Steve-Jobs-iPhone-2007-Presentation-Full-Transcript.pdf'\u001b[0m,\n",
              "            \u001b[32m'page'\u001b[0m: \u001b[1;36m2\u001b[0m,\n",
              "            \u001b[32m'total_pages'\u001b[0m: \u001b[1;36m22\u001b[0m,\n",
              "            \u001b[32m'format'\u001b[0m: \u001b[32m'PDF 1.4'\u001b[0m,\n",
              "            \u001b[32m'title'\u001b[0m: \u001b[32m'Steve Jobs iPhone 2007 Presentation \u001b[0m\u001b[32m(\u001b[0m\u001b[32mFull Transcript\u001b[0m\u001b[32m)\u001b[0m\u001b[32m'\u001b[0m,\n",
              "            \u001b[32m'author'\u001b[0m: \u001b[32m'Married Wildebeest'\u001b[0m,\n",
              "            \u001b[32m'subject'\u001b[0m: \u001b[32m''\u001b[0m,\n",
              "            \u001b[32m'keywords'\u001b[0m: \u001b[32m''\u001b[0m,\n",
              "            \u001b[32m'creator'\u001b[0m: \u001b[32m''\u001b[0m,\n",
              "            \u001b[32m'producer'\u001b[0m: \u001b[32m'mPDF 7.0.3'\u001b[0m,\n",
              "            \u001b[32m'creationDate'\u001b[0m: \u001b[32m\"20200415062431+00'00'\"\u001b[0m,\n",
              "            \u001b[32m'modDate'\u001b[0m: \u001b[32m\"20200415062431+00'00'\"\u001b[0m,\n",
              "            \u001b[32m'trapped'\u001b[0m: \u001b[32m''\u001b[0m,\n",
              "            \u001b[32m'_id'\u001b[0m: \u001b[32m'26fe7ca350644078a1aa393be2915f57'\u001b[0m,\n",
              "            \u001b[32m'_collection_name'\u001b[0m: \u001b[32m\"Steve Job's Speech\"\u001b[0m\n",
              "        \u001b[1m}\u001b[0m\n",
              "    \u001b[1m)\u001b[0m,\n",
              "    \u001b[1;35mDocument\u001b[0m\u001b[1m(\u001b[0m\n",
              "        \u001b[33mpage_content\u001b[0m=\u001b[32m'of the art in every facet of this design. So let me just talk a little bit about it here. We’ve got\\nthe multi-touch screen. A first. Miniaturization, more than any we’ve done before. A lot of\\ncustom silicon. Tremendous power management. OSX inside a mobile device. Featherweight\\nprecision enclosures. Three advanced sensors. Desktop class applications, and of course, the\\nwidescreen video iPod. We’ve been innovating like crazy for the last few years on this, and\\nwe filed for over 200 patents for all the inventions in iPhone, and we intend to protect them.\\nSo, a lot of high technology. I think we’re advancing the state of the art in every aspect of\\nthis design. So iPhone is like having your life in your pocket. It’s the ultimate digital device.'\u001b[0m,\n",
              "        \u001b[33mmetadata\u001b[0m=\u001b[1m{\u001b[0m\n",
              "            \u001b[32m'source'\u001b[0m: \u001b[32m'https://singjupost.com/wp-content/uploads/2014/07/Steve-Jobs-iPhone-2007-Presentation-Full-Transcript.pdf'\u001b[0m,\n",
              "            \u001b[32m'file_path'\u001b[0m: \u001b[32m'https://singjupost.com/wp-content/uploads/2014/07/Steve-Jobs-iPhone-2007-Presentation-Full-Transcript.pdf'\u001b[0m,\n",
              "            \u001b[32m'page'\u001b[0m: \u001b[1;36m17\u001b[0m,\n",
              "            \u001b[32m'total_pages'\u001b[0m: \u001b[1;36m22\u001b[0m,\n",
              "            \u001b[32m'format'\u001b[0m: \u001b[32m'PDF 1.4'\u001b[0m,\n",
              "            \u001b[32m'title'\u001b[0m: \u001b[32m'Steve Jobs iPhone 2007 Presentation \u001b[0m\u001b[32m(\u001b[0m\u001b[32mFull Transcript\u001b[0m\u001b[32m)\u001b[0m\u001b[32m'\u001b[0m,\n",
              "            \u001b[32m'author'\u001b[0m: \u001b[32m'Married Wildebeest'\u001b[0m,\n",
              "            \u001b[32m'subject'\u001b[0m: \u001b[32m''\u001b[0m,\n",
              "            \u001b[32m'keywords'\u001b[0m: \u001b[32m''\u001b[0m,\n",
              "            \u001b[32m'creator'\u001b[0m: \u001b[32m''\u001b[0m,\n",
              "            \u001b[32m'producer'\u001b[0m: \u001b[32m'mPDF 7.0.3'\u001b[0m,\n",
              "            \u001b[32m'creationDate'\u001b[0m: \u001b[32m\"20200415062431+00'00'\"\u001b[0m,\n",
              "            \u001b[32m'modDate'\u001b[0m: \u001b[32m\"20200415062431+00'00'\"\u001b[0m,\n",
              "            \u001b[32m'trapped'\u001b[0m: \u001b[32m''\u001b[0m,\n",
              "            \u001b[32m'_id'\u001b[0m: \u001b[32m'85a89cab315b4f31aeddcae28bffd546'\u001b[0m,\n",
              "            \u001b[32m'_collection_name'\u001b[0m: \u001b[32m\"Steve Job's Speech\"\u001b[0m\n",
              "        \u001b[1m}\u001b[0m\n",
              "    \u001b[1m)\u001b[0m,\n",
              "    \u001b[1;35mDocument\u001b[0m\u001b[1m(\u001b[0m\n",
              "        \u001b[33mpage_content\u001b[0m=\u001b[32m'this all about? Well, we’ve got some real breakthroughs here. To start off with, we’ve got\\nrich, HTML e-mail on iPhone. The first time really rich e-mail on a mobile device. And it\\nworks with any IMAP or POP e-mail service. You got your favorite mail service, it’ll likely\\nwork with it. And it’s rich text e-mail. We wanted the best web browser in the world on our\\nphone, not a baby web browser or a WAP browser, a real Web browser, and we picked the\\nbest one in the world, Safari, and we have Safari running on iPhone. It is the first fully\\nusable HTML browser on a phone.\\nThird, we have Google Maps. Maps, satellite images, directions and traffic. This is'\u001b[0m,\n",
              "        \u001b[33mmetadata\u001b[0m=\u001b[1m{\u001b[0m\n",
              "            \u001b[32m'source'\u001b[0m: \u001b[32m'https://singjupost.com/wp-content/uploads/2014/07/Steve-Jobs-iPhone-2007-Presentation-Full-Transcript.pdf'\u001b[0m,\n",
              "            \u001b[32m'file_path'\u001b[0m: \u001b[32m'https://singjupost.com/wp-content/uploads/2014/07/Steve-Jobs-iPhone-2007-Presentation-Full-Transcript.pdf'\u001b[0m,\n",
              "            \u001b[32m'page'\u001b[0m: \u001b[1;36m9\u001b[0m,\n",
              "            \u001b[32m'total_pages'\u001b[0m: \u001b[1;36m22\u001b[0m,\n",
              "            \u001b[32m'format'\u001b[0m: \u001b[32m'PDF 1.4'\u001b[0m,\n",
              "            \u001b[32m'title'\u001b[0m: \u001b[32m'Steve Jobs iPhone 2007 Presentation \u001b[0m\u001b[32m(\u001b[0m\u001b[32mFull Transcript\u001b[0m\u001b[32m)\u001b[0m\u001b[32m'\u001b[0m,\n",
              "            \u001b[32m'author'\u001b[0m: \u001b[32m'Married Wildebeest'\u001b[0m,\n",
              "            \u001b[32m'subject'\u001b[0m: \u001b[32m''\u001b[0m,\n",
              "            \u001b[32m'keywords'\u001b[0m: \u001b[32m''\u001b[0m,\n",
              "            \u001b[32m'creator'\u001b[0m: \u001b[32m''\u001b[0m,\n",
              "            \u001b[32m'producer'\u001b[0m: \u001b[32m'mPDF 7.0.3'\u001b[0m,\n",
              "            \u001b[32m'creationDate'\u001b[0m: \u001b[32m\"20200415062431+00'00'\"\u001b[0m,\n",
              "            \u001b[32m'modDate'\u001b[0m: \u001b[32m\"20200415062431+00'00'\"\u001b[0m,\n",
              "            \u001b[32m'trapped'\u001b[0m: \u001b[32m''\u001b[0m,\n",
              "            \u001b[32m'_id'\u001b[0m: \u001b[32m'8ef2eee6cc9745aab3e9ed451ef9e5d1'\u001b[0m,\n",
              "            \u001b[32m'_collection_name'\u001b[0m: \u001b[32m\"Steve Job's Speech\"\u001b[0m\n",
              "        \u001b[1m}\u001b[0m\n",
              "    \u001b[1m)\u001b[0m,\n",
              "    \u001b[1;35mDocument\u001b[0m\u001b[1m(\u001b[0m\n",
              "        \u001b[33mpage_content\u001b[0m=\u001b[32m'you set up what you want synched to your iPhone. And it’s just like an iPod. Charge and\\nsynch. So synch with iTunes.\\nThird thing I want to talk about a little is design. We’ve designed something wonderful for\\nyour hand, just wonderful. This is what it looks like. It’s got a three-and-a-half-inch screen\\non it. It’s really big. And, it’s the highest-resolution screen we’ve ever shipped. It’s 160\\npixels per inch. Highest we’ve ever shipped. It’s gorgeous. And on the front, there’s only one\\nbutton down there. We call it the Home button. Takes you Home from wherever you are.\\nAnd that’s it.\\nLet’s take a look at the side. It’s really thin. It’s thinner than any smartphone out there, at'\u001b[0m,\n",
              "        \u001b[33mmetadata\u001b[0m=\u001b[1m{\u001b[0m\n",
              "            \u001b[32m'source'\u001b[0m: \u001b[32m'https://singjupost.com/wp-content/uploads/2014/07/Steve-Jobs-iPhone-2007-Presentation-Full-Transcript.pdf'\u001b[0m,\n",
              "            \u001b[32m'file_path'\u001b[0m: \u001b[32m'https://singjupost.com/wp-content/uploads/2014/07/Steve-Jobs-iPhone-2007-Presentation-Full-Transcript.pdf'\u001b[0m,\n",
              "            \u001b[32m'page'\u001b[0m: \u001b[1;36m3\u001b[0m,\n",
              "            \u001b[32m'total_pages'\u001b[0m: \u001b[1;36m22\u001b[0m,\n",
              "            \u001b[32m'format'\u001b[0m: \u001b[32m'PDF 1.4'\u001b[0m,\n",
              "            \u001b[32m'title'\u001b[0m: \u001b[32m'Steve Jobs iPhone 2007 Presentation \u001b[0m\u001b[32m(\u001b[0m\u001b[32mFull Transcript\u001b[0m\u001b[32m)\u001b[0m\u001b[32m'\u001b[0m,\n",
              "            \u001b[32m'author'\u001b[0m: \u001b[32m'Married Wildebeest'\u001b[0m,\n",
              "            \u001b[32m'subject'\u001b[0m: \u001b[32m''\u001b[0m,\n",
              "            \u001b[32m'keywords'\u001b[0m: \u001b[32m''\u001b[0m,\n",
              "            \u001b[32m'creator'\u001b[0m: \u001b[32m''\u001b[0m,\n",
              "            \u001b[32m'producer'\u001b[0m: \u001b[32m'mPDF 7.0.3'\u001b[0m,\n",
              "            \u001b[32m'creationDate'\u001b[0m: \u001b[32m\"20200415062431+00'00'\"\u001b[0m,\n",
              "            \u001b[32m'modDate'\u001b[0m: \u001b[32m\"20200415062431+00'00'\"\u001b[0m,\n",
              "            \u001b[32m'trapped'\u001b[0m: \u001b[32m''\u001b[0m,\n",
              "            \u001b[32m'_id'\u001b[0m: \u001b[32m'70b8aa8b11674a93b6d3e4179be33cd9'\u001b[0m,\n",
              "            \u001b[32m'_collection_name'\u001b[0m: \u001b[32m\"Steve Job's Speech\"\u001b[0m\n",
              "        \u001b[1m}\u001b[0m\n",
              "    \u001b[1m)\u001b[0m\n",
              "\u001b[1m]\u001b[0m"
            ]
          },
          "execution_count": 29,
          "metadata": {},
          "output_type": "execute_result"
        }
      ],
      "source": [
        "query = \"What are the first principles in the launch of the iPhone?\"\n",
        "qdrant_vectorstore.similarity_search(query)"
      ]
    },
    {
      "cell_type": "markdown",
      "metadata": {
        "id": "d-NDvjfzXhVp"
      },
      "source": [
        "Now let's set up our retriever, just as we saw before, but this time using LangChain's simple `as_retriever()` method!"
      ]
    },
    {
      "cell_type": "code",
      "execution_count": 30,
      "metadata": {
        "id": "Edjx19YBXavZ"
      },
      "outputs": [],
      "source": [
        "qdrant_retriever = qdrant_vectorstore.as_retriever()"
      ]
    },
    {
      "cell_type": "markdown",
      "metadata": {
        "id": "B1OM0DiYcOj-"
      },
      "source": [
        "#### Back to the Flow"
      ]
    },
    {
      "cell_type": "markdown",
      "metadata": {
        "id": "J7apXaEBzQai"
      },
      "source": [
        "We're ready to move to the next step!"
      ]
    },
    {
      "cell_type": "markdown",
      "metadata": {
        "id": "xMhcU37dzV5k"
      },
      "source": [
        "### Setting up our RAG\n",
        "\n",
        "We'll use the LCEL we touched on earlier to create a RAG chain.\n",
        "\n",
        "Let's think through each part:\n",
        "\n",
        "1. First we need to retrieve context\n",
        "2. We need to pipe that context to our model\n",
        "3. We need to parse that output\n",
        "\n",
        "Let's start by setting up our prompt again, just so it's fresh in our minds!"
      ]
    },
    {
      "cell_type": "markdown",
      "metadata": {
        "id": "oatgDa7cOXWV"
      },
      "source": [
        "#### 🏗️ Activity #2:\n",
        "\n",
        "Complete the prompt so that your RAG application answers queries based on the context provided, but *does not* answer queries if the context is unrelated to the query."
      ]
    },
    {
      "cell_type": "code",
      "execution_count": 31,
      "metadata": {
        "id": "TE5tick_YPJj"
      },
      "outputs": [],
      "source": [
        "RAG_PROMPT = \"\"\"\n",
        "CONTEXT:\n",
        "{context}\n",
        "\n",
        "QUERY:\n",
        "{question}\n",
        "\n",
        "You are a helpful assistant that provides answers with examples. Use the provided context to answer the provided user query. \n",
        "If you do not know the answer, respond with \"I don't know\", and provide an example of a question that you can answer.\n",
        "\"\"\"\n",
        "\n",
        "rag_prompt = ChatPromptTemplate.from_template(RAG_PROMPT)"
      ]
    },
    {
      "cell_type": "markdown",
      "metadata": {
        "id": "tZKadufhc2RL"
      },
      "source": [
        "#### Our RAG Chain\n",
        "\n",
        "Notice how we have a bit of a more complex chain this time - that's because we want to return our sources with the response.\n",
        "\n",
        "Let's break down the chain step-by-step:\n",
        "\n",
        "1. We invoke the chain with the `question` item. Notice how we only need to provide `question` since both the retreiver and the `\"question\"` object depend on it.\n",
        "  - We also chain our `\"question\"` into our `retriever`! This is what ultimately collects the context through Qdrant.\n",
        "2. We assign our collected context to a `RunnablePassthrough()` from the previous object. This is going to let us simply pass it through to the next step, but still allow us to run that section of the chain.\n",
        "3. We finally collect our response by chaining our prompt, which expects both a `\"question\"` and `\"context\"`, into our `llm`. We also, collect the `\"context\"` again so we can output it in the final response object.\n",
        "\n",
        "The key thing to keep in mind here is that we need to pass our context through *after* we've retrieved it - to populate the object in a way that doesn't require us to call it or try and use it for something else."
      ]
    },
    {
      "cell_type": "code",
      "execution_count": 37,
      "metadata": {
        "id": "VnGthXpzzo-R"
      },
      "outputs": [],
      "source": [
        "from operator import itemgetter\n",
        "from langchain.schema.output_parser import StrOutputParser\n",
        "from langchain.schema.runnable import RunnablePassthrough\n",
        "\n",
        "retrieval_augmented_qa_chain = (\n",
        "    # INVOKE CHAIN WITH: {\"question\" : \"<<SOME USER QUESTION>>\"}\n",
        "    # \"question\" : populated by getting the value of the \"question\" key\n",
        "    # \"context\"  : populated by getting the value of the \"question\" key and chaining it into the base_retriever\n",
        "    {\n",
        "        \"context\": itemgetter(\"question\") | qdrant_retriever,\n",
        "        \"question\": itemgetter(\"question\"),\n",
        "    }\n",
        "    # \"context\"  : is assigned to a RunnablePassthrough object (will not be called or considered in the next step)\n",
        "    #              by getting the value of the \"context\" key from the previous step\n",
        "    | RunnablePassthrough.assign(context=itemgetter(\"context\"))\n",
        "    # \"response\" : the \"context\" and \"question\" values are used to format our prompt object and then piped\n",
        "    #              into the LLM and stored in a key called \"response\"\n",
        "    # \"context\"  : populated by getting the value of the \"context\" key from the previous step\n",
        "    | {\"response\": rag_prompt | openai_chat_model, \"context\": itemgetter(\"context\")}\n",
        ")"
      ]
    },
    {
      "cell_type": "markdown",
      "metadata": {
        "id": "h0KAPrtFMtRd"
      },
      "source": [
        "Let's get a visual understanding of our chain!"
      ]
    },
    {
      "cell_type": "code",
      "execution_count": 38,
      "metadata": {
        "colab": {
          "base_uri": "https://localhost:8080/"
        },
        "id": "ceq3JfVLM74-",
        "outputId": "1cbcd0a6-1bb6-497e-dbf1-6a0eb5f66353"
      },
      "outputs": [],
      "source": [
        "!pip install -qU grandalf"
      ]
    },
    {
      "cell_type": "code",
      "execution_count": 40,
      "metadata": {
        "colab": {
          "base_uri": "https://localhost:8080/"
        },
        "id": "y8ocIXNGMsue",
        "outputId": "60622d4c-87fd-4b02-ba18-ba2e1180efe8"
      },
      "outputs": [
        {
          "data": {
            "text/html": [
              "<pre style=\"white-space:pre;overflow-x:auto;line-height:normal;font-family:Menlo,'DejaVu Sans Mono',consolas,'Courier New',monospace\">                       +---------------------------------+                         \n",
              "                       | Parallel<span style=\"font-weight: bold\">&lt;</span><span style=\"color: #ff00ff; text-decoration-color: #ff00ff; font-weight: bold\">context</span><span style=\"color: #000000; text-decoration-color: #000000\">,question&gt;Input |                         </span>\n",
              "<span style=\"color: #000000; text-decoration-color: #000000\">                       +---------------------------------+                         </span>\n",
              "<span style=\"color: #000000; text-decoration-color: #000000\">                           *****                   ****                            </span>\n",
              "<span style=\"color: #000000; text-decoration-color: #000000\">                        ***                            ****                        </span>\n",
              "<span style=\"color: #000000; text-decoration-color: #000000\">                     ***                                   ****                    </span>\n",
              "<span style=\"color: #000000; text-decoration-color: #000000\">+--------------------------------+                             **                  </span>\n",
              "<span style=\"color: #000000; text-decoration-color: #000000\">| </span><span style=\"color: #800080; text-decoration-color: #800080; font-weight: bold\">Lambda</span><span style=\"color: #000000; text-decoration-color: #000000; font-weight: bold\">(</span><span style=\"color: #800080; text-decoration-color: #800080; font-weight: bold\">itemgetter</span><span style=\"color: #000000; text-decoration-color: #000000; font-weight: bold\">(</span><span style=\"color: #008000; text-decoration-color: #008000\">'question'</span><span style=\"color: #000000; text-decoration-color: #000000; font-weight: bold\">))</span><span style=\"color: #000000; text-decoration-color: #000000\"> |                              *                  </span>\n",
              "<span style=\"color: #000000; text-decoration-color: #000000\">+--------------------------------+                              *                  </span>\n",
              "<span style=\"color: #000000; text-decoration-color: #000000\">                 *                                              *                  </span>\n",
              "<span style=\"color: #000000; text-decoration-color: #000000\">                 *                                              *                  </span>\n",
              "<span style=\"color: #000000; text-decoration-color: #000000\">                 *                                              *                  </span>\n",
              "<span style=\"color: #000000; text-decoration-color: #000000\">     +----------------------+                   +--------------------------------+ </span>\n",
              "<span style=\"color: #000000; text-decoration-color: #000000\">     | VectorStoreRetriever |                   | </span><span style=\"color: #800080; text-decoration-color: #800080; font-weight: bold\">Lambda</span><span style=\"color: #000000; text-decoration-color: #000000; font-weight: bold\">(</span><span style=\"color: #800080; text-decoration-color: #800080; font-weight: bold\">itemgetter</span><span style=\"color: #000000; text-decoration-color: #000000; font-weight: bold\">(</span><span style=\"color: #008000; text-decoration-color: #008000\">'question'</span><span style=\"color: #000000; text-decoration-color: #000000; font-weight: bold\">))</span><span style=\"color: #000000; text-decoration-color: #000000\"> | </span>\n",
              "<span style=\"color: #000000; text-decoration-color: #000000\">     +----------------------+                   +--------------------------------+ </span>\n",
              "<span style=\"color: #000000; text-decoration-color: #000000\">                           *****                   *****                           </span>\n",
              "<span style=\"color: #000000; text-decoration-color: #000000\">                                ***             ***                                </span>\n",
              "<span style=\"color: #000000; text-decoration-color: #000000\">                                   ***       ***                                   </span>\n",
              "<span style=\"color: #000000; text-decoration-color: #000000\">                       +----------------------------------+                        </span>\n",
              "<span style=\"color: #000000; text-decoration-color: #000000\">                       | Parallel&lt;context,question&gt;Output |                        </span>\n",
              "<span style=\"color: #000000; text-decoration-color: #000000\">                       +----------------------------------+                        </span>\n",
              "<span style=\"color: #000000; text-decoration-color: #000000\">                                         *                                         </span>\n",
              "<span style=\"color: #000000; text-decoration-color: #000000\">                                         *                                         </span>\n",
              "<span style=\"color: #000000; text-decoration-color: #000000\">                                         *                                         </span>\n",
              "<span style=\"color: #000000; text-decoration-color: #000000\">                            +------------------------+                             </span>\n",
              "<span style=\"color: #000000; text-decoration-color: #000000\">                            | Parallel&lt;context&gt;Input |                             </span>\n",
              "<span style=\"color: #000000; text-decoration-color: #000000\">                            +------------------------+                             </span>\n",
              "<span style=\"color: #000000; text-decoration-color: #000000\">                              ****               ****                              </span>\n",
              "<span style=\"color: #000000; text-decoration-color: #000000\">                           ***                       ***                           </span>\n",
              "<span style=\"color: #000000; text-decoration-color: #000000\">                         **                             **                         </span>\n",
              "<span style=\"color: #000000; text-decoration-color: #000000\">     +-------------------------------+              +-------------+                </span>\n",
              "<span style=\"color: #000000; text-decoration-color: #000000\">     | </span><span style=\"color: #800080; text-decoration-color: #800080; font-weight: bold\">Lambda</span><span style=\"color: #000000; text-decoration-color: #000000; font-weight: bold\">(</span><span style=\"color: #800080; text-decoration-color: #800080; font-weight: bold\">itemgetter</span><span style=\"color: #000000; text-decoration-color: #000000; font-weight: bold\">(</span><span style=\"color: #008000; text-decoration-color: #008000\">'context'</span><span style=\"color: #000000; text-decoration-color: #000000; font-weight: bold\">))</span><span style=\"color: #000000; text-decoration-color: #000000\"> |              | Passthrough |                </span>\n",
              "<span style=\"color: #000000; text-decoration-color: #000000\">     +-------------------------------+              +-------------+                </span>\n",
              "<span style=\"color: #000000; text-decoration-color: #000000\">                              ****               ****                              </span>\n",
              "<span style=\"color: #000000; text-decoration-color: #000000\">                                  ***         ***                                  </span>\n",
              "<span style=\"color: #000000; text-decoration-color: #000000\">                                     **     **                                     </span>\n",
              "<span style=\"color: #000000; text-decoration-color: #000000\">                           +-------------------------+                             </span>\n",
              "<span style=\"color: #000000; text-decoration-color: #000000\">                           | Parallel&lt;context&gt;Output |                             </span>\n",
              "<span style=\"color: #000000; text-decoration-color: #000000\">                           +-------------------------+                             </span>\n",
              "<span style=\"color: #000000; text-decoration-color: #000000\">                                         *                                         </span>\n",
              "<span style=\"color: #000000; text-decoration-color: #000000\">                                         *                                         </span>\n",
              "<span style=\"color: #000000; text-decoration-color: #000000\">                                         *                                         </span>\n",
              "<span style=\"color: #000000; text-decoration-color: #000000\">                       +---------------------------------+                         </span>\n",
              "<span style=\"color: #000000; text-decoration-color: #000000\">                       | Parallel&lt;response,context&gt;Input |                         </span>\n",
              "<span style=\"color: #000000; text-decoration-color: #000000\">                       +---------------------------------+                         </span>\n",
              "<span style=\"color: #000000; text-decoration-color: #000000\">                             ***                  ****                             </span>\n",
              "<span style=\"color: #000000; text-decoration-color: #000000\">                         ****                         ***                          </span>\n",
              "<span style=\"color: #000000; text-decoration-color: #000000\">                       **                                ****                      </span>\n",
              "<span style=\"color: #000000; text-decoration-color: #000000\">         +--------------------+                              **                    </span>\n",
              "<span style=\"color: #000000; text-decoration-color: #000000\">         | ChatPromptTemplate |                               *                    </span>\n",
              "<span style=\"color: #000000; text-decoration-color: #000000\">         +--------------------+                               *                    </span>\n",
              "<span style=\"color: #000000; text-decoration-color: #000000\">                    *                                         *                    </span>\n",
              "<span style=\"color: #000000; text-decoration-color: #000000\">                    *                                         *                    </span>\n",
              "<span style=\"color: #000000; text-decoration-color: #000000\">                    *                                         *                    </span>\n",
              "<span style=\"color: #000000; text-decoration-color: #000000\">             +------------+                  +-------------------------------+     </span>\n",
              "<span style=\"color: #000000; text-decoration-color: #000000\">             | ChatOpenAI |                  | </span><span style=\"color: #800080; text-decoration-color: #800080; font-weight: bold\">Lambda</span><span style=\"color: #000000; text-decoration-color: #000000; font-weight: bold\">(</span><span style=\"color: #800080; text-decoration-color: #800080; font-weight: bold\">itemgetter</span><span style=\"color: #000000; text-decoration-color: #000000; font-weight: bold\">(</span><span style=\"color: #008000; text-decoration-color: #008000\">'context'</span><span style=\"color: #000000; text-decoration-color: #000000; font-weight: bold\">))</span><span style=\"color: #000000; text-decoration-color: #000000\"> |     </span>\n",
              "<span style=\"color: #000000; text-decoration-color: #000000\">             +------------+**                +-------------------------------+     </span>\n",
              "<span style=\"color: #000000; text-decoration-color: #000000\">                             ***                  ***                              </span>\n",
              "<span style=\"color: #000000; text-decoration-color: #000000\">                                ****          ****                                 </span>\n",
              "<span style=\"color: #000000; text-decoration-color: #000000\">                                    **      **                                     </span>\n",
              "<span style=\"color: #000000; text-decoration-color: #000000\">                       +----------------------------------+                        </span>\n",
              "<span style=\"color: #000000; text-decoration-color: #000000\">                       | Parallel&lt;response,context</span><span style=\"font-weight: bold\">&gt;</span>Output |                        \n",
              "                       +----------------------------------+                        \n",
              "</pre>\n"
            ],
            "text/plain": [
              "                       +---------------------------------+                         \n",
              "                       | Parallel\u001b[1m<\u001b[0m\u001b[1;95mcontext\u001b[0m\u001b[39m,question>Input |                         \u001b[0m\n",
              "\u001b[39m                       +---------------------------------+                         \u001b[0m\n",
              "\u001b[39m                           *****                   ****                            \u001b[0m\n",
              "\u001b[39m                        ***                            ****                        \u001b[0m\n",
              "\u001b[39m                     ***                                   ****                    \u001b[0m\n",
              "\u001b[39m+--------------------------------+                             **                  \u001b[0m\n",
              "\u001b[39m| \u001b[0m\u001b[1;35mLambda\u001b[0m\u001b[1;39m(\u001b[0m\u001b[1;35mitemgetter\u001b[0m\u001b[1;39m(\u001b[0m\u001b[32m'question'\u001b[0m\u001b[1;39m)\u001b[0m\u001b[1;39m)\u001b[0m\u001b[39m |                              *                  \u001b[0m\n",
              "\u001b[39m+--------------------------------+                              *                  \u001b[0m\n",
              "\u001b[39m                 *                                              *                  \u001b[0m\n",
              "\u001b[39m                 *                                              *                  \u001b[0m\n",
              "\u001b[39m                 *                                              *                  \u001b[0m\n",
              "\u001b[39m     +----------------------+                   +--------------------------------+ \u001b[0m\n",
              "\u001b[39m     | VectorStoreRetriever |                   | \u001b[0m\u001b[1;35mLambda\u001b[0m\u001b[1;39m(\u001b[0m\u001b[1;35mitemgetter\u001b[0m\u001b[1;39m(\u001b[0m\u001b[32m'question'\u001b[0m\u001b[1;39m)\u001b[0m\u001b[1;39m)\u001b[0m\u001b[39m | \u001b[0m\n",
              "\u001b[39m     +----------------------+                   +--------------------------------+ \u001b[0m\n",
              "\u001b[39m                           *****                   *****                           \u001b[0m\n",
              "\u001b[39m                                ***             ***                                \u001b[0m\n",
              "\u001b[39m                                   ***       ***                                   \u001b[0m\n",
              "\u001b[39m                       +----------------------------------+                        \u001b[0m\n",
              "\u001b[39m                       | Parallel<context,question>Output |                        \u001b[0m\n",
              "\u001b[39m                       +----------------------------------+                        \u001b[0m\n",
              "\u001b[39m                                         *                                         \u001b[0m\n",
              "\u001b[39m                                         *                                         \u001b[0m\n",
              "\u001b[39m                                         *                                         \u001b[0m\n",
              "\u001b[39m                            +------------------------+                             \u001b[0m\n",
              "\u001b[39m                            | Parallel<context>Input |                             \u001b[0m\n",
              "\u001b[39m                            +------------------------+                             \u001b[0m\n",
              "\u001b[39m                              ****               ****                              \u001b[0m\n",
              "\u001b[39m                           ***                       ***                           \u001b[0m\n",
              "\u001b[39m                         **                             **                         \u001b[0m\n",
              "\u001b[39m     +-------------------------------+              +-------------+                \u001b[0m\n",
              "\u001b[39m     | \u001b[0m\u001b[1;35mLambda\u001b[0m\u001b[1;39m(\u001b[0m\u001b[1;35mitemgetter\u001b[0m\u001b[1;39m(\u001b[0m\u001b[32m'context'\u001b[0m\u001b[1;39m)\u001b[0m\u001b[1;39m)\u001b[0m\u001b[39m |              | Passthrough |                \u001b[0m\n",
              "\u001b[39m     +-------------------------------+              +-------------+                \u001b[0m\n",
              "\u001b[39m                              ****               ****                              \u001b[0m\n",
              "\u001b[39m                                  ***         ***                                  \u001b[0m\n",
              "\u001b[39m                                     **     **                                     \u001b[0m\n",
              "\u001b[39m                           +-------------------------+                             \u001b[0m\n",
              "\u001b[39m                           | Parallel<context>Output |                             \u001b[0m\n",
              "\u001b[39m                           +-------------------------+                             \u001b[0m\n",
              "\u001b[39m                                         *                                         \u001b[0m\n",
              "\u001b[39m                                         *                                         \u001b[0m\n",
              "\u001b[39m                                         *                                         \u001b[0m\n",
              "\u001b[39m                       +---------------------------------+                         \u001b[0m\n",
              "\u001b[39m                       | Parallel<response,context>Input |                         \u001b[0m\n",
              "\u001b[39m                       +---------------------------------+                         \u001b[0m\n",
              "\u001b[39m                             ***                  ****                             \u001b[0m\n",
              "\u001b[39m                         ****                         ***                          \u001b[0m\n",
              "\u001b[39m                       **                                ****                      \u001b[0m\n",
              "\u001b[39m         +--------------------+                              **                    \u001b[0m\n",
              "\u001b[39m         | ChatPromptTemplate |                               *                    \u001b[0m\n",
              "\u001b[39m         +--------------------+                               *                    \u001b[0m\n",
              "\u001b[39m                    *                                         *                    \u001b[0m\n",
              "\u001b[39m                    *                                         *                    \u001b[0m\n",
              "\u001b[39m                    *                                         *                    \u001b[0m\n",
              "\u001b[39m             +------------+                  +-------------------------------+     \u001b[0m\n",
              "\u001b[39m             | ChatOpenAI |                  | \u001b[0m\u001b[1;35mLambda\u001b[0m\u001b[1;39m(\u001b[0m\u001b[1;35mitemgetter\u001b[0m\u001b[1;39m(\u001b[0m\u001b[32m'context'\u001b[0m\u001b[1;39m)\u001b[0m\u001b[1;39m)\u001b[0m\u001b[39m |     \u001b[0m\n",
              "\u001b[39m             +------------+**                +-------------------------------+     \u001b[0m\n",
              "\u001b[39m                             ***                  ***                              \u001b[0m\n",
              "\u001b[39m                                ****          ****                                 \u001b[0m\n",
              "\u001b[39m                                    **      **                                     \u001b[0m\n",
              "\u001b[39m                       +----------------------------------+                        \u001b[0m\n",
              "\u001b[39m                       | Parallel<response,context\u001b[0m\u001b[1m>\u001b[0mOutput |                        \n",
              "                       +----------------------------------+                        \n"
            ]
          },
          "metadata": {},
          "output_type": "display_data"
        }
      ],
      "source": [
        "pprint(retrieval_augmented_qa_chain.get_graph().draw_ascii())\n"
      ]
    },
    {
      "cell_type": "markdown",
      "metadata": {
        "id": "1bQVzN_eX1M2"
      },
      "source": [
        "Let's try another visual representation:\n",
        "\n",
        "![image](https://i.imgur.com/Ad31AhL.png)"
      ]
    },
    {
      "cell_type": "markdown",
      "metadata": {
        "id": "_0C5CFRHOxtB"
      },
      "source": [
        "Let's test our chain out!"
      ]
    },
    {
      "cell_type": "code",
      "execution_count": 41,
      "metadata": {
        "id": "JSDyVefDaue4"
      },
      "outputs": [],
      "source": [
        "response = retrieval_augmented_qa_chain.invoke(\n",
        "    {\"question\": \"What is the most important thing about the iPhone?\"}\n",
        ")"
      ]
    },
    {
      "cell_type": "code",
      "execution_count": 43,
      "metadata": {
        "colab": {
          "base_uri": "https://localhost:8080/",
          "height": 70
        },
        "id": "yfEAoG3HLC3J",
        "outputId": "cd2c86ee-ca37-481b-f2d2-2fd564855cd8"
      },
      "outputs": [
        {
          "data": {
            "text/html": [
              "<pre style=\"white-space:pre;overflow-x:auto;line-height:normal;font-family:Menlo,'DejaVu Sans Mono',consolas,'Courier New',monospace\">The most important thing about the iPhone, according to the provided context, is its revolutionary design and \n",
              "functionality that integrates various advanced technologies and features. Steve Jobs highlights several key \n",
              "aspects:\n",
              "\n",
              "<span style=\"color: #008080; text-decoration-color: #008080; font-weight: bold\">1</span>. **Multi-Touch Screen**: The iPhone introduced a multi-touch screen, which was a significant innovation at the \n",
              "time.\n",
              "<span style=\"color: #008080; text-decoration-color: #008080; font-weight: bold\">2</span>. **Miniaturization and Custom Silicon**: The device incorporated advanced miniaturization and custom silicon, \n",
              "allowing for enhanced performance and efficiency.\n",
              "<span style=\"color: #008080; text-decoration-color: #008080; font-weight: bold\">3</span>. **Power Management and OSX Integration**: It runs OSX, a sophisticated operating system that provides \n",
              "multitasking, advanced networking, and excellent power management.\n",
              "<span style=\"color: #008080; text-decoration-color: #008080; font-weight: bold\">4</span>. **Featherweight Precision Enclosures and Sensors**: The iPhone features precision enclosures and advanced \n",
              "sensors.\n",
              "<span style=\"color: #008080; text-decoration-color: #008080; font-weight: bold\">5</span>. **Desktop-Class Applications**: It offers desktop-class applications and networking capabilities, which were not\n",
              "common in mobile devices at the time.\n",
              "<span style=\"color: #008080; text-decoration-color: #008080; font-weight: bold\">6</span>. **Widescreen Video iPod**: The iPhone also functions as a widescreen video iPod, allowing users to touch and \n",
              "interact with their music.\n",
              "<span style=\"color: #008080; text-decoration-color: #008080; font-weight: bold\">7</span>. **User Interface and Contact Management**: It simplifies making calls and managing contacts, syncs seamlessly \n",
              "with PCs or Macs, and has a high-resolution screen with a single Home button for ease of use.\n",
              "\n",
              "Overall, the iPhone was presented as the ultimate digital device that combines multiple functionalities into a \n",
              "single, user-friendly package.\n",
              "\n",
              "Example:\n",
              "- **Multi-Touch Screen**: <span style=\"color: #008000; text-decoration-color: #008000\">\"We’ve got the multi-touch screen. A first.\"</span>\n",
              "- **OSX Integration**: <span style=\"color: #008000; text-decoration-color: #008000\">\"It’s got everything from Cocoa and the graphics and it’s got core animation built in and </span>\n",
              "<span style=\"color: #008000; text-decoration-color: #008000\">it’s got the audio and video that OSX is famous for.\"</span>\n",
              "\n",
              "If you have any other specific questions or need further details, feel free to ask!\n",
              "</pre>\n"
            ],
            "text/plain": [
              "The most important thing about the iPhone, according to the provided context, is its revolutionary design and \n",
              "functionality that integrates various advanced technologies and features. Steve Jobs highlights several key \n",
              "aspects:\n",
              "\n",
              "\u001b[1;36m1\u001b[0m. **Multi-Touch Screen**: The iPhone introduced a multi-touch screen, which was a significant innovation at the \n",
              "time.\n",
              "\u001b[1;36m2\u001b[0m. **Miniaturization and Custom Silicon**: The device incorporated advanced miniaturization and custom silicon, \n",
              "allowing for enhanced performance and efficiency.\n",
              "\u001b[1;36m3\u001b[0m. **Power Management and OSX Integration**: It runs OSX, a sophisticated operating system that provides \n",
              "multitasking, advanced networking, and excellent power management.\n",
              "\u001b[1;36m4\u001b[0m. **Featherweight Precision Enclosures and Sensors**: The iPhone features precision enclosures and advanced \n",
              "sensors.\n",
              "\u001b[1;36m5\u001b[0m. **Desktop-Class Applications**: It offers desktop-class applications and networking capabilities, which were not\n",
              "common in mobile devices at the time.\n",
              "\u001b[1;36m6\u001b[0m. **Widescreen Video iPod**: The iPhone also functions as a widescreen video iPod, allowing users to touch and \n",
              "interact with their music.\n",
              "\u001b[1;36m7\u001b[0m. **User Interface and Contact Management**: It simplifies making calls and managing contacts, syncs seamlessly \n",
              "with PCs or Macs, and has a high-resolution screen with a single Home button for ease of use.\n",
              "\n",
              "Overall, the iPhone was presented as the ultimate digital device that combines multiple functionalities into a \n",
              "single, user-friendly package.\n",
              "\n",
              "Example:\n",
              "- **Multi-Touch Screen**: \u001b[32m\"We’ve got the multi-touch screen. A first.\"\u001b[0m\n",
              "- **OSX Integration**: \u001b[32m\"It’s got everything from Cocoa and the graphics and it’s got core animation built in and \u001b[0m\n",
              "\u001b[32mit’s got the audio and video that OSX is famous for.\"\u001b[0m\n",
              "\n",
              "If you have any other specific questions or need further details, feel free to ask!\n"
            ]
          },
          "metadata": {},
          "output_type": "display_data"
        }
      ],
      "source": [
        "pprint(response[\"response\"].content)"
      ]
    },
    {
      "cell_type": "code",
      "execution_count": 44,
      "metadata": {
        "colab": {
          "base_uri": "https://localhost:8080/"
        },
        "id": "FSZFdCM5LFoq",
        "outputId": "4121ebc7-3a23-4501-8984-5c7f7b81b7a9"
      },
      "outputs": [
        {
          "data": {
            "text/html": [
              "<pre style=\"white-space:pre;overflow-x:auto;line-height:normal;font-family:Menlo,'DejaVu Sans Mono',consolas,'Courier New',monospace\">Context:\n",
              "</pre>\n"
            ],
            "text/plain": [
              "Context:\n"
            ]
          },
          "metadata": {},
          "output_type": "display_data"
        },
        {
          "data": {
            "text/html": [
              "<pre style=\"white-space:pre;overflow-x:auto;line-height:normal;font-family:Menlo,'DejaVu Sans Mono',consolas,'Courier New',monospace\"><span style=\"color: #800080; text-decoration-color: #800080; font-weight: bold\">Document</span><span style=\"font-weight: bold\">(</span>\n",
              "    <span style=\"color: #808000; text-decoration-color: #808000\">page_content</span>=<span style=\"color: #008000; text-decoration-color: #008000\">'of the art in every facet of this design. So let me just talk a little bit about it here. We’ve </span>\n",
              "<span style=\"color: #008000; text-decoration-color: #008000\">got\\nthe multi-touch screen. A first. Miniaturization, more than any we’ve done before. A lot of\\ncustom silicon. </span>\n",
              "<span style=\"color: #008000; text-decoration-color: #008000\">Tremendous power management. OSX inside a mobile device. Featherweight\\nprecision enclosures. Three advanced </span>\n",
              "<span style=\"color: #008000; text-decoration-color: #008000\">sensors. Desktop class applications, and of course, the\\nwidescreen video iPod. We’ve been innovating like crazy </span>\n",
              "<span style=\"color: #008000; text-decoration-color: #008000\">for the last few years on this, and\\nwe filed for over 200 patents for all the inventions in iPhone, and we intend </span>\n",
              "<span style=\"color: #008000; text-decoration-color: #008000\">to protect them.\\nSo, a lot of high technology. I think we’re advancing the state of the art in every aspect </span>\n",
              "<span style=\"color: #008000; text-decoration-color: #008000\">of\\nthis design. So iPhone is like having your life in your pocket. It’s the ultimate digital device.'</span>,\n",
              "    <span style=\"color: #808000; text-decoration-color: #808000\">metadata</span>=<span style=\"font-weight: bold\">{</span>\n",
              "        <span style=\"color: #008000; text-decoration-color: #008000\">'source'</span>: \n",
              "<span style=\"color: #008000; text-decoration-color: #008000\">'https://singjupost.com/wp-content/uploads/2014/07/Steve-Jobs-iPhone-2007-Presentation-Full-Transcript.pdf'</span>,\n",
              "        <span style=\"color: #008000; text-decoration-color: #008000\">'file_path'</span>: \n",
              "<span style=\"color: #008000; text-decoration-color: #008000\">'https://singjupost.com/wp-content/uploads/2014/07/Steve-Jobs-iPhone-2007-Presentation-Full-Transcript.pdf'</span>,\n",
              "        <span style=\"color: #008000; text-decoration-color: #008000\">'page'</span>: <span style=\"color: #008080; text-decoration-color: #008080; font-weight: bold\">17</span>,\n",
              "        <span style=\"color: #008000; text-decoration-color: #008000\">'total_pages'</span>: <span style=\"color: #008080; text-decoration-color: #008080; font-weight: bold\">22</span>,\n",
              "        <span style=\"color: #008000; text-decoration-color: #008000\">'format'</span>: <span style=\"color: #008000; text-decoration-color: #008000\">'PDF 1.4'</span>,\n",
              "        <span style=\"color: #008000; text-decoration-color: #008000\">'title'</span>: <span style=\"color: #008000; text-decoration-color: #008000\">'Steve Jobs iPhone 2007 Presentation (Full Transcript)'</span>,\n",
              "        <span style=\"color: #008000; text-decoration-color: #008000\">'author'</span>: <span style=\"color: #008000; text-decoration-color: #008000\">'Married Wildebeest'</span>,\n",
              "        <span style=\"color: #008000; text-decoration-color: #008000\">'subject'</span>: <span style=\"color: #008000; text-decoration-color: #008000\">''</span>,\n",
              "        <span style=\"color: #008000; text-decoration-color: #008000\">'keywords'</span>: <span style=\"color: #008000; text-decoration-color: #008000\">''</span>,\n",
              "        <span style=\"color: #008000; text-decoration-color: #008000\">'creator'</span>: <span style=\"color: #008000; text-decoration-color: #008000\">''</span>,\n",
              "        <span style=\"color: #008000; text-decoration-color: #008000\">'producer'</span>: <span style=\"color: #008000; text-decoration-color: #008000\">'mPDF 7.0.3'</span>,\n",
              "        <span style=\"color: #008000; text-decoration-color: #008000\">'creationDate'</span>: <span style=\"color: #008000; text-decoration-color: #008000\">\"20200415062431+00'00'\"</span>,\n",
              "        <span style=\"color: #008000; text-decoration-color: #008000\">'modDate'</span>: <span style=\"color: #008000; text-decoration-color: #008000\">\"20200415062431+00'00'\"</span>,\n",
              "        <span style=\"color: #008000; text-decoration-color: #008000\">'trapped'</span>: <span style=\"color: #008000; text-decoration-color: #008000\">''</span>,\n",
              "        <span style=\"color: #008000; text-decoration-color: #008000\">'_id'</span>: <span style=\"color: #008000; text-decoration-color: #008000\">'85a89cab315b4f31aeddcae28bffd546'</span>,\n",
              "        <span style=\"color: #008000; text-decoration-color: #008000\">'_collection_name'</span>: <span style=\"color: #008000; text-decoration-color: #008000\">\"Steve Job's Speech\"</span>\n",
              "    <span style=\"font-weight: bold\">}</span>\n",
              "<span style=\"font-weight: bold\">)</span>\n",
              "</pre>\n"
            ],
            "text/plain": [
              "\u001b[1;35mDocument\u001b[0m\u001b[1m(\u001b[0m\n",
              "    \u001b[33mpage_content\u001b[0m=\u001b[32m'of the art in every facet of this design. So let me just talk a little bit about it here. We’ve \u001b[0m\n",
              "\u001b[32mgot\\nthe multi-touch screen. A first. Miniaturization, more than any we’ve done before. A lot of\\ncustom silicon. \u001b[0m\n",
              "\u001b[32mTremendous power management. OSX inside a mobile device. Featherweight\\nprecision enclosures. Three advanced \u001b[0m\n",
              "\u001b[32msensors. Desktop class applications, and of course, the\\nwidescreen video iPod. We’ve been innovating like crazy \u001b[0m\n",
              "\u001b[32mfor the last few years on this, and\\nwe filed for over 200 patents for all the inventions in iPhone, and we intend \u001b[0m\n",
              "\u001b[32mto protect them.\\nSo, a lot of high technology. I think we’re advancing the state of the art in every aspect \u001b[0m\n",
              "\u001b[32mof\\nthis design. So iPhone is like having your life in your pocket. It’s the ultimate digital device.'\u001b[0m,\n",
              "    \u001b[33mmetadata\u001b[0m=\u001b[1m{\u001b[0m\n",
              "        \u001b[32m'source'\u001b[0m: \n",
              "\u001b[32m'https://singjupost.com/wp-content/uploads/2014/07/Steve-Jobs-iPhone-2007-Presentation-Full-Transcript.pdf'\u001b[0m,\n",
              "        \u001b[32m'file_path'\u001b[0m: \n",
              "\u001b[32m'https://singjupost.com/wp-content/uploads/2014/07/Steve-Jobs-iPhone-2007-Presentation-Full-Transcript.pdf'\u001b[0m,\n",
              "        \u001b[32m'page'\u001b[0m: \u001b[1;36m17\u001b[0m,\n",
              "        \u001b[32m'total_pages'\u001b[0m: \u001b[1;36m22\u001b[0m,\n",
              "        \u001b[32m'format'\u001b[0m: \u001b[32m'PDF 1.4'\u001b[0m,\n",
              "        \u001b[32m'title'\u001b[0m: \u001b[32m'Steve Jobs iPhone 2007 Presentation \u001b[0m\u001b[32m(\u001b[0m\u001b[32mFull Transcript\u001b[0m\u001b[32m)\u001b[0m\u001b[32m'\u001b[0m,\n",
              "        \u001b[32m'author'\u001b[0m: \u001b[32m'Married Wildebeest'\u001b[0m,\n",
              "        \u001b[32m'subject'\u001b[0m: \u001b[32m''\u001b[0m,\n",
              "        \u001b[32m'keywords'\u001b[0m: \u001b[32m''\u001b[0m,\n",
              "        \u001b[32m'creator'\u001b[0m: \u001b[32m''\u001b[0m,\n",
              "        \u001b[32m'producer'\u001b[0m: \u001b[32m'mPDF 7.0.3'\u001b[0m,\n",
              "        \u001b[32m'creationDate'\u001b[0m: \u001b[32m\"20200415062431+00'00'\"\u001b[0m,\n",
              "        \u001b[32m'modDate'\u001b[0m: \u001b[32m\"20200415062431+00'00'\"\u001b[0m,\n",
              "        \u001b[32m'trapped'\u001b[0m: \u001b[32m''\u001b[0m,\n",
              "        \u001b[32m'_id'\u001b[0m: \u001b[32m'85a89cab315b4f31aeddcae28bffd546'\u001b[0m,\n",
              "        \u001b[32m'_collection_name'\u001b[0m: \u001b[32m\"Steve Job's Speech\"\u001b[0m\n",
              "    \u001b[1m}\u001b[0m\n",
              "\u001b[1m)\u001b[0m\n"
            ]
          },
          "metadata": {},
          "output_type": "display_data"
        },
        {
          "name": "stdout",
          "output_type": "stream",
          "text": [
            "----\n"
          ]
        },
        {
          "data": {
            "text/html": [
              "<pre style=\"white-space:pre;overflow-x:auto;line-height:normal;font-family:Menlo,'DejaVu Sans Mono',consolas,'Courier New',monospace\">Context:\n",
              "</pre>\n"
            ],
            "text/plain": [
              "Context:\n"
            ]
          },
          "metadata": {},
          "output_type": "display_data"
        },
        {
          "data": {
            "text/html": [
              "<pre style=\"white-space:pre;overflow-x:auto;line-height:normal;font-family:Menlo,'DejaVu Sans Mono',consolas,'Courier New',monospace\"><span style=\"color: #800080; text-decoration-color: #800080; font-weight: bold\">Document</span><span style=\"font-weight: bold\">(</span>\n",
              "    <span style=\"color: #808000; text-decoration-color: #808000\">page_content</span>=<span style=\"color: #008000; text-decoration-color: #008000\">'what’s on any other phone. Now how do we do this? Well, we start with a strong </span>\n",
              "<span style=\"color: #008000; text-decoration-color: #008000\">foundation.\\niPhone runs OSX.\\nNow, why would we want to run such a sophisticated operating system on a </span>\n",
              "<span style=\"color: #008000; text-decoration-color: #008000\">mobile\\ndevice? Well, because it’s got everything we need. It’s got multi-tasking. It’s got the best\\nnetworking. </span>\n",
              "<span style=\"color: #008000; text-decoration-color: #008000\">It already knows how to power manage. We’ve been doing this on mobile\\ncomputers for years. It’s got awesome </span>\n",
              "<span style=\"color: #008000; text-decoration-color: #008000\">security. And the right apps. It’s got everything from\\nCocoa and the graphics and it’s got core animation built in</span>\n",
              "<span style=\"color: #008000; text-decoration-color: #008000\">and it’s got the audio and video\\nthat OSX is famous for. It’s got all the stuff we want. And it’s built right in </span>\n",
              "<span style=\"color: #008000; text-decoration-color: #008000\">to iPhone. And\\nthat has let us create desktop class applications and networking. Not the crippled stuff that\\nyou </span>\n",
              "<span style=\"color: #008000; text-decoration-color: #008000\">find on most phones. This is real, desktop-class applications.'</span>,\n",
              "    <span style=\"color: #808000; text-decoration-color: #808000\">metadata</span>=<span style=\"font-weight: bold\">{</span>\n",
              "        <span style=\"color: #008000; text-decoration-color: #008000\">'source'</span>: \n",
              "<span style=\"color: #008000; text-decoration-color: #008000\">'https://singjupost.com/wp-content/uploads/2014/07/Steve-Jobs-iPhone-2007-Presentation-Full-Transcript.pdf'</span>,\n",
              "        <span style=\"color: #008000; text-decoration-color: #008000\">'file_path'</span>: \n",
              "<span style=\"color: #008000; text-decoration-color: #008000\">'https://singjupost.com/wp-content/uploads/2014/07/Steve-Jobs-iPhone-2007-Presentation-Full-Transcript.pdf'</span>,\n",
              "        <span style=\"color: #008000; text-decoration-color: #008000\">'page'</span>: <span style=\"color: #008080; text-decoration-color: #008080; font-weight: bold\">2</span>,\n",
              "        <span style=\"color: #008000; text-decoration-color: #008000\">'total_pages'</span>: <span style=\"color: #008080; text-decoration-color: #008080; font-weight: bold\">22</span>,\n",
              "        <span style=\"color: #008000; text-decoration-color: #008000\">'format'</span>: <span style=\"color: #008000; text-decoration-color: #008000\">'PDF 1.4'</span>,\n",
              "        <span style=\"color: #008000; text-decoration-color: #008000\">'title'</span>: <span style=\"color: #008000; text-decoration-color: #008000\">'Steve Jobs iPhone 2007 Presentation (Full Transcript)'</span>,\n",
              "        <span style=\"color: #008000; text-decoration-color: #008000\">'author'</span>: <span style=\"color: #008000; text-decoration-color: #008000\">'Married Wildebeest'</span>,\n",
              "        <span style=\"color: #008000; text-decoration-color: #008000\">'subject'</span>: <span style=\"color: #008000; text-decoration-color: #008000\">''</span>,\n",
              "        <span style=\"color: #008000; text-decoration-color: #008000\">'keywords'</span>: <span style=\"color: #008000; text-decoration-color: #008000\">''</span>,\n",
              "        <span style=\"color: #008000; text-decoration-color: #008000\">'creator'</span>: <span style=\"color: #008000; text-decoration-color: #008000\">''</span>,\n",
              "        <span style=\"color: #008000; text-decoration-color: #008000\">'producer'</span>: <span style=\"color: #008000; text-decoration-color: #008000\">'mPDF 7.0.3'</span>,\n",
              "        <span style=\"color: #008000; text-decoration-color: #008000\">'creationDate'</span>: <span style=\"color: #008000; text-decoration-color: #008000\">\"20200415062431+00'00'\"</span>,\n",
              "        <span style=\"color: #008000; text-decoration-color: #008000\">'modDate'</span>: <span style=\"color: #008000; text-decoration-color: #008000\">\"20200415062431+00'00'\"</span>,\n",
              "        <span style=\"color: #008000; text-decoration-color: #008000\">'trapped'</span>: <span style=\"color: #008000; text-decoration-color: #008000\">''</span>,\n",
              "        <span style=\"color: #008000; text-decoration-color: #008000\">'_id'</span>: <span style=\"color: #008000; text-decoration-color: #008000\">'26fe7ca350644078a1aa393be2915f57'</span>,\n",
              "        <span style=\"color: #008000; text-decoration-color: #008000\">'_collection_name'</span>: <span style=\"color: #008000; text-decoration-color: #008000\">\"Steve Job's Speech\"</span>\n",
              "    <span style=\"font-weight: bold\">}</span>\n",
              "<span style=\"font-weight: bold\">)</span>\n",
              "</pre>\n"
            ],
            "text/plain": [
              "\u001b[1;35mDocument\u001b[0m\u001b[1m(\u001b[0m\n",
              "    \u001b[33mpage_content\u001b[0m=\u001b[32m'what’s on any other phone. Now how do we do this? Well, we start with a strong \u001b[0m\n",
              "\u001b[32mfoundation.\\niPhone runs OSX.\\nNow, why would we want to run such a sophisticated operating system on a \u001b[0m\n",
              "\u001b[32mmobile\\ndevice? Well, because it’s got everything we need. It’s got multi-tasking. It’s got the best\\nnetworking. \u001b[0m\n",
              "\u001b[32mIt already knows how to power manage. We’ve been doing this on mobile\\ncomputers for years. It’s got awesome \u001b[0m\n",
              "\u001b[32msecurity. And the right apps. It’s got everything from\\nCocoa and the graphics and it’s got core animation built in\u001b[0m\n",
              "\u001b[32mand it’s got the audio and video\\nthat OSX is famous for. It’s got all the stuff we want. And it’s built right in \u001b[0m\n",
              "\u001b[32mto iPhone. And\\nthat has let us create desktop class applications and networking. Not the crippled stuff that\\nyou \u001b[0m\n",
              "\u001b[32mfind on most phones. This is real, desktop-class applications.'\u001b[0m,\n",
              "    \u001b[33mmetadata\u001b[0m=\u001b[1m{\u001b[0m\n",
              "        \u001b[32m'source'\u001b[0m: \n",
              "\u001b[32m'https://singjupost.com/wp-content/uploads/2014/07/Steve-Jobs-iPhone-2007-Presentation-Full-Transcript.pdf'\u001b[0m,\n",
              "        \u001b[32m'file_path'\u001b[0m: \n",
              "\u001b[32m'https://singjupost.com/wp-content/uploads/2014/07/Steve-Jobs-iPhone-2007-Presentation-Full-Transcript.pdf'\u001b[0m,\n",
              "        \u001b[32m'page'\u001b[0m: \u001b[1;36m2\u001b[0m,\n",
              "        \u001b[32m'total_pages'\u001b[0m: \u001b[1;36m22\u001b[0m,\n",
              "        \u001b[32m'format'\u001b[0m: \u001b[32m'PDF 1.4'\u001b[0m,\n",
              "        \u001b[32m'title'\u001b[0m: \u001b[32m'Steve Jobs iPhone 2007 Presentation \u001b[0m\u001b[32m(\u001b[0m\u001b[32mFull Transcript\u001b[0m\u001b[32m)\u001b[0m\u001b[32m'\u001b[0m,\n",
              "        \u001b[32m'author'\u001b[0m: \u001b[32m'Married Wildebeest'\u001b[0m,\n",
              "        \u001b[32m'subject'\u001b[0m: \u001b[32m''\u001b[0m,\n",
              "        \u001b[32m'keywords'\u001b[0m: \u001b[32m''\u001b[0m,\n",
              "        \u001b[32m'creator'\u001b[0m: \u001b[32m''\u001b[0m,\n",
              "        \u001b[32m'producer'\u001b[0m: \u001b[32m'mPDF 7.0.3'\u001b[0m,\n",
              "        \u001b[32m'creationDate'\u001b[0m: \u001b[32m\"20200415062431+00'00'\"\u001b[0m,\n",
              "        \u001b[32m'modDate'\u001b[0m: \u001b[32m\"20200415062431+00'00'\"\u001b[0m,\n",
              "        \u001b[32m'trapped'\u001b[0m: \u001b[32m''\u001b[0m,\n",
              "        \u001b[32m'_id'\u001b[0m: \u001b[32m'26fe7ca350644078a1aa393be2915f57'\u001b[0m,\n",
              "        \u001b[32m'_collection_name'\u001b[0m: \u001b[32m\"Steve Job's Speech\"\u001b[0m\n",
              "    \u001b[1m}\u001b[0m\n",
              "\u001b[1m)\u001b[0m\n"
            ]
          },
          "metadata": {},
          "output_type": "display_data"
        },
        {
          "name": "stdout",
          "output_type": "stream",
          "text": [
            "----\n"
          ]
        },
        {
          "data": {
            "text/html": [
              "<pre style=\"white-space:pre;overflow-x:auto;line-height:normal;font-family:Menlo,'DejaVu Sans Mono',consolas,'Courier New',monospace\">Context:\n",
              "</pre>\n"
            ],
            "text/plain": [
              "Context:\n"
            ]
          },
          "metadata": {},
          "output_type": "display_data"
        },
        {
          "data": {
            "text/html": [
              "<pre style=\"white-space:pre;overflow-x:auto;line-height:normal;font-family:Menlo,'DejaVu Sans Mono',consolas,'Courier New',monospace\"><span style=\"color: #800080; text-decoration-color: #800080; font-weight: bold\">Document</span><span style=\"font-weight: bold\">(</span>\n",
              "    <span style=\"color: #808000; text-decoration-color: #808000\">page_content</span>=<span style=\"color: #008000; text-decoration-color: #008000\">'you think. They told me this, they said, You had me at scrolling. So, the iPhone with the\\nmost </span>\n",
              "<span style=\"color: #008000; text-decoration-color: #008000\">amazing iPod ever. You can now touch your music. So that’s the iPod.\\nNow, let’s take a look at a revolutionary </span>\n",
              "<span style=\"color: #008000; text-decoration-color: #008000\">phone. We want to reinvent the phone. Now, what’s\\nthe killer app? The killer app is making calls! It’s amazing — </span>\n",
              "<span style=\"color: #008000; text-decoration-color: #008000\">it’s amazing how hard it is to\\nmake calls on most phones. Most people actually dial them every time. Most people </span>\n",
              "<span style=\"color: #008000; text-decoration-color: #008000\">don’t\\nhave very many numbers in their address book they use their recents as their address book.\\nRight? How many </span>\n",
              "<span style=\"color: #008000; text-decoration-color: #008000\">of you do that? I bet more than a few. So, we want to let you use contacts\\nlike never before. You can synch your </span>\n",
              "<span style=\"color: #008000; text-decoration-color: #008000\">iPhone with your PC or Mac and bring down all your\\ncontacts right into your phone. So you’ve got everybody’s </span>\n",
              "<span style=\"color: #008000; text-decoration-color: #008000\">numbers with you at all times.'</span>,\n",
              "    <span style=\"color: #808000; text-decoration-color: #808000\">metadata</span>=<span style=\"font-weight: bold\">{</span>\n",
              "        <span style=\"color: #008000; text-decoration-color: #008000\">'source'</span>: \n",
              "<span style=\"color: #008000; text-decoration-color: #008000\">'https://singjupost.com/wp-content/uploads/2014/07/Steve-Jobs-iPhone-2007-Presentation-Full-Transcript.pdf'</span>,\n",
              "        <span style=\"color: #008000; text-decoration-color: #008000\">'file_path'</span>: \n",
              "<span style=\"color: #008000; text-decoration-color: #008000\">'https://singjupost.com/wp-content/uploads/2014/07/Steve-Jobs-iPhone-2007-Presentation-Full-Transcript.pdf'</span>,\n",
              "        <span style=\"color: #008000; text-decoration-color: #008000\">'page'</span>: <span style=\"color: #008080; text-decoration-color: #008080; font-weight: bold\">6</span>,\n",
              "        <span style=\"color: #008000; text-decoration-color: #008000\">'total_pages'</span>: <span style=\"color: #008080; text-decoration-color: #008080; font-weight: bold\">22</span>,\n",
              "        <span style=\"color: #008000; text-decoration-color: #008000\">'format'</span>: <span style=\"color: #008000; text-decoration-color: #008000\">'PDF 1.4'</span>,\n",
              "        <span style=\"color: #008000; text-decoration-color: #008000\">'title'</span>: <span style=\"color: #008000; text-decoration-color: #008000\">'Steve Jobs iPhone 2007 Presentation (Full Transcript)'</span>,\n",
              "        <span style=\"color: #008000; text-decoration-color: #008000\">'author'</span>: <span style=\"color: #008000; text-decoration-color: #008000\">'Married Wildebeest'</span>,\n",
              "        <span style=\"color: #008000; text-decoration-color: #008000\">'subject'</span>: <span style=\"color: #008000; text-decoration-color: #008000\">''</span>,\n",
              "        <span style=\"color: #008000; text-decoration-color: #008000\">'keywords'</span>: <span style=\"color: #008000; text-decoration-color: #008000\">''</span>,\n",
              "        <span style=\"color: #008000; text-decoration-color: #008000\">'creator'</span>: <span style=\"color: #008000; text-decoration-color: #008000\">''</span>,\n",
              "        <span style=\"color: #008000; text-decoration-color: #008000\">'producer'</span>: <span style=\"color: #008000; text-decoration-color: #008000\">'mPDF 7.0.3'</span>,\n",
              "        <span style=\"color: #008000; text-decoration-color: #008000\">'creationDate'</span>: <span style=\"color: #008000; text-decoration-color: #008000\">\"20200415062431+00'00'\"</span>,\n",
              "        <span style=\"color: #008000; text-decoration-color: #008000\">'modDate'</span>: <span style=\"color: #008000; text-decoration-color: #008000\">\"20200415062431+00'00'\"</span>,\n",
              "        <span style=\"color: #008000; text-decoration-color: #008000\">'trapped'</span>: <span style=\"color: #008000; text-decoration-color: #008000\">''</span>,\n",
              "        <span style=\"color: #008000; text-decoration-color: #008000\">'_id'</span>: <span style=\"color: #008000; text-decoration-color: #008000\">'bd06b35450404129a1112b2663859e19'</span>,\n",
              "        <span style=\"color: #008000; text-decoration-color: #008000\">'_collection_name'</span>: <span style=\"color: #008000; text-decoration-color: #008000\">\"Steve Job's Speech\"</span>\n",
              "    <span style=\"font-weight: bold\">}</span>\n",
              "<span style=\"font-weight: bold\">)</span>\n",
              "</pre>\n"
            ],
            "text/plain": [
              "\u001b[1;35mDocument\u001b[0m\u001b[1m(\u001b[0m\n",
              "    \u001b[33mpage_content\u001b[0m=\u001b[32m'you think. They told me this, they said, You had me at scrolling. So, the iPhone with the\\nmost \u001b[0m\n",
              "\u001b[32mamazing iPod ever. You can now touch your music. So that’s the iPod.\\nNow, let’s take a look at a revolutionary \u001b[0m\n",
              "\u001b[32mphone. We want to reinvent the phone. Now, what’s\\nthe killer app? The killer app is making calls! It’s amazing — \u001b[0m\n",
              "\u001b[32mit’s amazing how hard it is to\\nmake calls on most phones. Most people actually dial them every time. Most people \u001b[0m\n",
              "\u001b[32mdon’t\\nhave very many numbers in their address book they use their recents as their address book.\\nRight? How many \u001b[0m\n",
              "\u001b[32mof you do that? I bet more than a few. So, we want to let you use contacts\\nlike never before. You can synch your \u001b[0m\n",
              "\u001b[32miPhone with your PC or Mac and bring down all your\\ncontacts right into your phone. So you’ve got everybody’s \u001b[0m\n",
              "\u001b[32mnumbers with you at all times.'\u001b[0m,\n",
              "    \u001b[33mmetadata\u001b[0m=\u001b[1m{\u001b[0m\n",
              "        \u001b[32m'source'\u001b[0m: \n",
              "\u001b[32m'https://singjupost.com/wp-content/uploads/2014/07/Steve-Jobs-iPhone-2007-Presentation-Full-Transcript.pdf'\u001b[0m,\n",
              "        \u001b[32m'file_path'\u001b[0m: \n",
              "\u001b[32m'https://singjupost.com/wp-content/uploads/2014/07/Steve-Jobs-iPhone-2007-Presentation-Full-Transcript.pdf'\u001b[0m,\n",
              "        \u001b[32m'page'\u001b[0m: \u001b[1;36m6\u001b[0m,\n",
              "        \u001b[32m'total_pages'\u001b[0m: \u001b[1;36m22\u001b[0m,\n",
              "        \u001b[32m'format'\u001b[0m: \u001b[32m'PDF 1.4'\u001b[0m,\n",
              "        \u001b[32m'title'\u001b[0m: \u001b[32m'Steve Jobs iPhone 2007 Presentation \u001b[0m\u001b[32m(\u001b[0m\u001b[32mFull Transcript\u001b[0m\u001b[32m)\u001b[0m\u001b[32m'\u001b[0m,\n",
              "        \u001b[32m'author'\u001b[0m: \u001b[32m'Married Wildebeest'\u001b[0m,\n",
              "        \u001b[32m'subject'\u001b[0m: \u001b[32m''\u001b[0m,\n",
              "        \u001b[32m'keywords'\u001b[0m: \u001b[32m''\u001b[0m,\n",
              "        \u001b[32m'creator'\u001b[0m: \u001b[32m''\u001b[0m,\n",
              "        \u001b[32m'producer'\u001b[0m: \u001b[32m'mPDF 7.0.3'\u001b[0m,\n",
              "        \u001b[32m'creationDate'\u001b[0m: \u001b[32m\"20200415062431+00'00'\"\u001b[0m,\n",
              "        \u001b[32m'modDate'\u001b[0m: \u001b[32m\"20200415062431+00'00'\"\u001b[0m,\n",
              "        \u001b[32m'trapped'\u001b[0m: \u001b[32m''\u001b[0m,\n",
              "        \u001b[32m'_id'\u001b[0m: \u001b[32m'bd06b35450404129a1112b2663859e19'\u001b[0m,\n",
              "        \u001b[32m'_collection_name'\u001b[0m: \u001b[32m\"Steve Job's Speech\"\u001b[0m\n",
              "    \u001b[1m}\u001b[0m\n",
              "\u001b[1m)\u001b[0m\n"
            ]
          },
          "metadata": {},
          "output_type": "display_data"
        },
        {
          "name": "stdout",
          "output_type": "stream",
          "text": [
            "----\n"
          ]
        },
        {
          "data": {
            "text/html": [
              "<pre style=\"white-space:pre;overflow-x:auto;line-height:normal;font-family:Menlo,'DejaVu Sans Mono',consolas,'Courier New',monospace\">Context:\n",
              "</pre>\n"
            ],
            "text/plain": [
              "Context:\n"
            ]
          },
          "metadata": {},
          "output_type": "display_data"
        },
        {
          "data": {
            "text/html": [
              "<pre style=\"white-space:pre;overflow-x:auto;line-height:normal;font-family:Menlo,'DejaVu Sans Mono',consolas,'Courier New',monospace\"><span style=\"color: #800080; text-decoration-color: #800080; font-weight: bold\">Document</span><span style=\"font-weight: bold\">(</span>\n",
              "    <span style=\"color: #808000; text-decoration-color: #808000\">page_content</span>=<span style=\"color: #008000; text-decoration-color: #008000\">'you set up what you want synched to your iPhone. And it’s just like an iPod. Charge and\\nsynch. </span>\n",
              "<span style=\"color: #008000; text-decoration-color: #008000\">So synch with iTunes.\\nThird thing I want to talk about a little is design. We’ve designed something wonderful </span>\n",
              "<span style=\"color: #008000; text-decoration-color: #008000\">for\\nyour hand, just wonderful. This is what it looks like. It’s got a three-and-a-half-inch screen\\non it. It’s </span>\n",
              "<span style=\"color: #008000; text-decoration-color: #008000\">really big. And, it’s the highest-resolution screen we’ve ever shipped. It’s 160\\npixels per inch. Highest we’ve </span>\n",
              "<span style=\"color: #008000; text-decoration-color: #008000\">ever shipped. It’s gorgeous. And on the front, there’s only one\\nbutton down there. We call it the Home button. </span>\n",
              "<span style=\"color: #008000; text-decoration-color: #008000\">Takes you Home from wherever you are.\\nAnd that’s it.\\nLet’s take a look at the side. It’s really thin. It’s </span>\n",
              "<span style=\"color: #008000; text-decoration-color: #008000\">thinner than any smartphone out there, at'</span>,\n",
              "    <span style=\"color: #808000; text-decoration-color: #808000\">metadata</span>=<span style=\"font-weight: bold\">{</span>\n",
              "        <span style=\"color: #008000; text-decoration-color: #008000\">'source'</span>: \n",
              "<span style=\"color: #008000; text-decoration-color: #008000\">'https://singjupost.com/wp-content/uploads/2014/07/Steve-Jobs-iPhone-2007-Presentation-Full-Transcript.pdf'</span>,\n",
              "        <span style=\"color: #008000; text-decoration-color: #008000\">'file_path'</span>: \n",
              "<span style=\"color: #008000; text-decoration-color: #008000\">'https://singjupost.com/wp-content/uploads/2014/07/Steve-Jobs-iPhone-2007-Presentation-Full-Transcript.pdf'</span>,\n",
              "        <span style=\"color: #008000; text-decoration-color: #008000\">'page'</span>: <span style=\"color: #008080; text-decoration-color: #008080; font-weight: bold\">3</span>,\n",
              "        <span style=\"color: #008000; text-decoration-color: #008000\">'total_pages'</span>: <span style=\"color: #008080; text-decoration-color: #008080; font-weight: bold\">22</span>,\n",
              "        <span style=\"color: #008000; text-decoration-color: #008000\">'format'</span>: <span style=\"color: #008000; text-decoration-color: #008000\">'PDF 1.4'</span>,\n",
              "        <span style=\"color: #008000; text-decoration-color: #008000\">'title'</span>: <span style=\"color: #008000; text-decoration-color: #008000\">'Steve Jobs iPhone 2007 Presentation (Full Transcript)'</span>,\n",
              "        <span style=\"color: #008000; text-decoration-color: #008000\">'author'</span>: <span style=\"color: #008000; text-decoration-color: #008000\">'Married Wildebeest'</span>,\n",
              "        <span style=\"color: #008000; text-decoration-color: #008000\">'subject'</span>: <span style=\"color: #008000; text-decoration-color: #008000\">''</span>,\n",
              "        <span style=\"color: #008000; text-decoration-color: #008000\">'keywords'</span>: <span style=\"color: #008000; text-decoration-color: #008000\">''</span>,\n",
              "        <span style=\"color: #008000; text-decoration-color: #008000\">'creator'</span>: <span style=\"color: #008000; text-decoration-color: #008000\">''</span>,\n",
              "        <span style=\"color: #008000; text-decoration-color: #008000\">'producer'</span>: <span style=\"color: #008000; text-decoration-color: #008000\">'mPDF 7.0.3'</span>,\n",
              "        <span style=\"color: #008000; text-decoration-color: #008000\">'creationDate'</span>: <span style=\"color: #008000; text-decoration-color: #008000\">\"20200415062431+00'00'\"</span>,\n",
              "        <span style=\"color: #008000; text-decoration-color: #008000\">'modDate'</span>: <span style=\"color: #008000; text-decoration-color: #008000\">\"20200415062431+00'00'\"</span>,\n",
              "        <span style=\"color: #008000; text-decoration-color: #008000\">'trapped'</span>: <span style=\"color: #008000; text-decoration-color: #008000\">''</span>,\n",
              "        <span style=\"color: #008000; text-decoration-color: #008000\">'_id'</span>: <span style=\"color: #008000; text-decoration-color: #008000\">'70b8aa8b11674a93b6d3e4179be33cd9'</span>,\n",
              "        <span style=\"color: #008000; text-decoration-color: #008000\">'_collection_name'</span>: <span style=\"color: #008000; text-decoration-color: #008000\">\"Steve Job's Speech\"</span>\n",
              "    <span style=\"font-weight: bold\">}</span>\n",
              "<span style=\"font-weight: bold\">)</span>\n",
              "</pre>\n"
            ],
            "text/plain": [
              "\u001b[1;35mDocument\u001b[0m\u001b[1m(\u001b[0m\n",
              "    \u001b[33mpage_content\u001b[0m=\u001b[32m'you set up what you want synched to your iPhone. And it’s just like an iPod. Charge and\\nsynch. \u001b[0m\n",
              "\u001b[32mSo synch with iTunes.\\nThird thing I want to talk about a little is design. We’ve designed something wonderful \u001b[0m\n",
              "\u001b[32mfor\\nyour hand, just wonderful. This is what it looks like. It’s got a three-and-a-half-inch screen\\non it. It’s \u001b[0m\n",
              "\u001b[32mreally big. And, it’s the highest-resolution screen we’ve ever shipped. It’s 160\\npixels per inch. Highest we’ve \u001b[0m\n",
              "\u001b[32mever shipped. It’s gorgeous. And on the front, there’s only one\\nbutton down there. We call it the Home button. \u001b[0m\n",
              "\u001b[32mTakes you Home from wherever you are.\\nAnd that’s it.\\nLet’s take a look at the side. It’s really thin. It’s \u001b[0m\n",
              "\u001b[32mthinner than any smartphone out there, at'\u001b[0m,\n",
              "    \u001b[33mmetadata\u001b[0m=\u001b[1m{\u001b[0m\n",
              "        \u001b[32m'source'\u001b[0m: \n",
              "\u001b[32m'https://singjupost.com/wp-content/uploads/2014/07/Steve-Jobs-iPhone-2007-Presentation-Full-Transcript.pdf'\u001b[0m,\n",
              "        \u001b[32m'file_path'\u001b[0m: \n",
              "\u001b[32m'https://singjupost.com/wp-content/uploads/2014/07/Steve-Jobs-iPhone-2007-Presentation-Full-Transcript.pdf'\u001b[0m,\n",
              "        \u001b[32m'page'\u001b[0m: \u001b[1;36m3\u001b[0m,\n",
              "        \u001b[32m'total_pages'\u001b[0m: \u001b[1;36m22\u001b[0m,\n",
              "        \u001b[32m'format'\u001b[0m: \u001b[32m'PDF 1.4'\u001b[0m,\n",
              "        \u001b[32m'title'\u001b[0m: \u001b[32m'Steve Jobs iPhone 2007 Presentation \u001b[0m\u001b[32m(\u001b[0m\u001b[32mFull Transcript\u001b[0m\u001b[32m)\u001b[0m\u001b[32m'\u001b[0m,\n",
              "        \u001b[32m'author'\u001b[0m: \u001b[32m'Married Wildebeest'\u001b[0m,\n",
              "        \u001b[32m'subject'\u001b[0m: \u001b[32m''\u001b[0m,\n",
              "        \u001b[32m'keywords'\u001b[0m: \u001b[32m''\u001b[0m,\n",
              "        \u001b[32m'creator'\u001b[0m: \u001b[32m''\u001b[0m,\n",
              "        \u001b[32m'producer'\u001b[0m: \u001b[32m'mPDF 7.0.3'\u001b[0m,\n",
              "        \u001b[32m'creationDate'\u001b[0m: \u001b[32m\"20200415062431+00'00'\"\u001b[0m,\n",
              "        \u001b[32m'modDate'\u001b[0m: \u001b[32m\"20200415062431+00'00'\"\u001b[0m,\n",
              "        \u001b[32m'trapped'\u001b[0m: \u001b[32m''\u001b[0m,\n",
              "        \u001b[32m'_id'\u001b[0m: \u001b[32m'70b8aa8b11674a93b6d3e4179be33cd9'\u001b[0m,\n",
              "        \u001b[32m'_collection_name'\u001b[0m: \u001b[32m\"Steve Job's Speech\"\u001b[0m\n",
              "    \u001b[1m}\u001b[0m\n",
              "\u001b[1m)\u001b[0m\n"
            ]
          },
          "metadata": {},
          "output_type": "display_data"
        },
        {
          "name": "stdout",
          "output_type": "stream",
          "text": [
            "----\n"
          ]
        }
      ],
      "source": [
        "for context in response[\"context\"]:\n",
        "    pprint(\"Context:\")\n",
        "    pprint(context)\n",
        "    print(\"----\")"
      ]
    },
    {
      "cell_type": "markdown",
      "metadata": {
        "id": "nagiJ6l6noPL"
      },
      "source": [
        "Let's see if it can handle a query that is totally unrelated to the source documents."
      ]
    },
    {
      "cell_type": "code",
      "execution_count": 46,
      "metadata": {
        "id": "HOd2nJKZnsty"
      },
      "outputs": [],
      "source": [
        "response = retrieval_augmented_qa_chain.invoke(\n",
        "    {\"question\": \"What is the airspeed velocity of an unladen swallow?\"}\n",
        ")"
      ]
    },
    {
      "cell_type": "code",
      "execution_count": 47,
      "metadata": {
        "colab": {
          "base_uri": "https://localhost:8080/",
          "height": 53
        },
        "id": "TmLCKNGZLTh6",
        "outputId": "a5082ad5-4fb6-4938-f9d8-8fa606622bfd"
      },
      "outputs": [
        {
          "data": {
            "text/html": [
              "<pre style=\"white-space:pre;overflow-x:auto;line-height:normal;font-family:Menlo,'DejaVu Sans Mono',consolas,'Courier New',monospace\">I don't know the airspeed velocity of an unladen swallow.\n",
              "\n",
              "However, I can provide information about the features introduced in the first iPhone presentation by Steve Jobs in \n",
              "<span style=\"color: #008080; text-decoration-color: #008080; font-weight: bold\">2007</span>. For example, I can tell you about the revolutionary visual voicemail feature or how the iPhone could run a \n",
              "full desktop-class email system on a mobile device. If you have any questions about those topics, feel free to ask!\n",
              "</pre>\n"
            ],
            "text/plain": [
              "I don't know the airspeed velocity of an unladen swallow.\n",
              "\n",
              "However, I can provide information about the features introduced in the first iPhone presentation by Steve Jobs in \n",
              "\u001b[1;36m2007\u001b[0m. For example, I can tell you about the revolutionary visual voicemail feature or how the iPhone could run a \n",
              "full desktop-class email system on a mobile device. If you have any questions about those topics, feel free to ask!\n"
            ]
          },
          "metadata": {},
          "output_type": "display_data"
        }
      ],
      "source": [
        "pprint(response[\"response\"].content)"
      ]
    },
    {
      "cell_type": "code",
      "execution_count": 64,
      "metadata": {},
      "outputs": [
        {
          "name": "stdout",
          "output_type": "stream",
          "text": [
            "The iPhone introduced several key innovations that set it apart from existing mobile devices at the time. Here are some of the major innovations highlighted in Steve Jobs' 2007 presentation:\n",
            "\n",
            "1. **Widescreen iPod with Touch Controls:**\n",
            "   - The iPhone combined the functionalities of an iPod with a touchscreen interface, allowing users to touch and interact with their music.\n",
            "\n",
            "2. **Revolutionary Mobile Phone:**\n",
            "   - The iPhone aimed to reinvent the phone with a focus on ease of use, particularly in making calls. It addressed common issues such as the difficulty of dialing numbers and managing contacts. Users could synchronize contacts from their PC or Mac, ensuring they always had access to their address book.\n",
            "\n",
            "3. **Breakthrough Internet Communications Device:**\n",
            "   - The iPhone was also positioned as an advanced internet communication device, integrating these capabilities into a single device.\n",
            "\n",
            "4. **Multi-Touch Screen:**\n",
            "   - The iPhone introduced a multi-touch screen, which was a first for mobile devices. This allowed for more intuitive and flexible interaction compared to traditional keypads and single-touch screens.\n",
            "\n",
            "5. **Miniaturization and Custom Silicon:**\n",
            "   - The design included significant advancements in miniaturization and custom silicon, contributing to the device's sleek and compact form factor.\n",
            "\n",
            "6. **Power Management:**\n",
            "   - The iPhone featured advanced power management techniques to ensure efficient battery usage.\n",
            "\n",
            "7. **OSX Inside a Mobile Device:**\n",
            "   - The iPhone ran a version of Apple's OSX, bringing desktop-class applications and performance to a mobile device.\n",
            "\n",
            "8. **Advanced Sensors:**\n",
            "   - The device included three advanced sensors, which enhanced its functionality and user experience.\n",
            "\n",
            "9. **Desktop Class Applications:**\n",
            "   - By incorporating desktop-class applications, the iPhone provided a more powerful and versatile user experience compared to other mobile phones at the time.\n",
            "\n",
            "10. **Patents and Innovations:**\n",
            "    - Apple filed for over 200 patents related to the innovations in the iPhone, underscoring the technological advancements and originality of the device.\n",
            "\n",
            "In summary, the iPhone was a combination of a widescreen iPod with touch controls, a revolutionary mobile phone, and a breakthrough internet communications device, all integrated into one device. It introduced a multi-touch screen, advanced miniaturization, power management, OSX for mobile, and desktop-class applications, setting a new standard for mobile devices.\n",
            "\n",
            "Example of another question that can be answered:\n",
            "- \"What were some of the groundbreaking products Apple introduced before the iPhone?\"\n"
          ]
        }
      ],
      "source": [
        "async for chunk in retrieval_augmented_qa_chain.astream(\n",
        "    {\"question\": \"What key innovations did the iPhone introduce?\"}\n",
        "):\n",
        "    if chunk.get(\"context\", None):\n",
        "        pass\n",
        "\n",
        "    else:\n",
        "        print(chunk[\"response\"].content, end=\"\", flush=True)\n"
      ]
    },
    {
      "cell_type": "markdown",
      "metadata": {
        "id": "EvkSiGXrPMYw"
      },
      "source": [
        "#### ❓ Question #4:\n",
        "\n",
        "What key innovations did the iPhone introduce?\n",
        "\n",
        "> HINT: Use your RAG Chain to answer this question.\n"
      ]
    },
    {
      "cell_type": "markdown",
      "metadata": {},
      "source": [
        "#### Answer #4:\n",
        "\n",
        "he iPhone introduced several key innovations that set it apart from existing mobile devices at the time. Here are some of the major innovations highlighted in Steve Jobs' 2007 presentation:\n",
        "\n",
        "1. **Widescreen iPod with Touch Controls:**\n",
        "   - The iPhone combined the functionalities of an iPod with a touchscreen interface, allowing users to touch and interact with their music.\n",
        "\n",
        "2. **Revolutionary Mobile Phone:**\n",
        "   - The iPhone aimed to reinvent the phone with a focus on ease of use, particularly in making calls. It addressed common issues such as the difficulty of dialing numbers and managing contacts. Users could synchronize contacts from their PC or Mac, ensuring they always had access to their address book.\n",
        "\n",
        "3. **Breakthrough Internet Communications Device:**\n",
        "   - The iPhone was also positioned as an advanced internet communication device, integrating these capabilities into a single device.\n",
        "\n",
        "4. **Multi-Touch Screen:**\n",
        "   - The iPhone introduced a multi-touch screen, which was a first for mobile devices. This allowed for more intuitive and flexible interaction compared to traditional keypads and single-touch screens.\n",
        "\n",
        "5. **Miniaturization and Custom Silicon:**\n",
        "   - The design included significant advancements in miniaturization and custom silicon, contributing to the device's sleek and compact form factor.\n",
        "\n",
        "6. **Power Management:**\n",
        "   - The iPhone featured advanced power management techniques to ensure efficient battery usage.\n",
        "\n",
        "...\n"
      ]
    }
  ],
  "metadata": {
    "accelerator": "GPU",
    "colab": {
      "gpuType": "T4",
      "machine_shape": "hm",
      "provenance": [],
      "toc_visible": true
    },
    "kernelspec": {
      "display_name": "Python 3",
      "name": "python3"
    },
    "language_info": {
      "codemirror_mode": {
        "name": "ipython",
        "version": 3
      },
      "file_extension": ".py",
      "mimetype": "text/x-python",
      "name": "python",
      "nbconvert_exporter": "python",
      "pygments_lexer": "ipython3",
      "version": "3.11.0"
    }
  },
  "nbformat": 4,
  "nbformat_minor": 0
}
