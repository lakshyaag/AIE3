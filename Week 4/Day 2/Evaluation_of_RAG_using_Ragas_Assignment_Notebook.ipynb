{
  "cells": [
    {
      "cell_type": "markdown",
      "metadata": {
        "id": "wa8ykQk92aLX"
      },
      "source": [
        "# Evaluation of RAG Using Ragas\n",
        "\n",
        "In the following notebook we'll explore how to evaluate RAG pipelines using a powerful open-source tool called \"Ragas\". This will give us tools to evaluate component-wise metrics, as well as end-to-end metrics about the performance of our RAG pipelines.\n",
        "\n",
        "In the following notebook we'll complete the following tasks:\n",
        "\n",
        "- 🤝 Breakout Room Part #1:\n",
        "  1. Install required libraries\n",
        "  2. Set Environment Variables\n",
        "  3. Creating a simple RAG pipeline with [LangChain v0.2.0](https://python.langchain.com/v0.2/docs/versions/v0_2/)\n",
        "  4. Synthetic Dataset Generation for Evaluation using the [Ragas](https://github.com/explodinggradients/ragas) framework.\n",
        "  \n",
        "\n",
        "- 🤝 Breakout Room Part #2:\n",
        "  1. Evaluating our pipeline with Ragas\n",
        "  3. Making Adjustments to our RAG Pipeline\n",
        "  4. Evaluating our Adjusted pipeline against our baseline\n",
        "  5. Testing OpenAI's Claim\n",
        "\n",
        "The only way to get started is to get started - so let's grab our dependencies for the day!\n",
        "\n",
        "> NOTE: Using this notebook as presented will occur a charge of ~$3USD from OpenAI usage. Most of this cost is produced by the Synthetic Data Generation step - if you want to reduce costs, please use the provided commented code to leverage `GPT-3.5-Turbo` as the `critic_llm`!"
      ]
    },
    {
      "cell_type": "markdown",
      "metadata": {
        "id": "8h4yh6f7q9uN"
      },
      "source": [
        "## Motivation\n",
        "\n",
        "A claim, made by OpenAI, is that their `text-embedding-3-small` is better (generally) than their `text-embedding-ada-002` model.\n",
        "\n",
        "Here's some passages from their [blog](https://openai.com/blog/new-embedding-models-and-api-updates) about the `text-embedding-3` release:\n",
        "\n",
        "> `text-embedding-3-small` is our new highly efficient embedding model and provides a significant upgrade over its predecessor, the `text-embedding-ada-002` model...\n",
        "\n",
        "> **Stronger performance.** Comparing `text-embedding-ada-002` to `text-embedding-3-small`, the average score on a commonly used benchmark for multi-language retrieval ([MIRACL](https://github.com/project-miracl/miracl)) has increased from 31.4% to 44.0%, while the average score on a commonly used benchmark for English tasks ([MTEB](https://github.com/embeddings-benchmark/mteb)) has increased from 61.0% to 62.3%.\n",
        "\n",
        "Well, with a library like Ragas - we can put that claim to the test!\n",
        "\n",
        "If what they claim is true - we should see an increase on related metrics by using the new embedding model!"
      ]
    },
    {
      "cell_type": "markdown",
      "metadata": {
        "id": "wAH1znJ2pIp3"
      },
      "source": [
        "# 🤝 Breakout Room Part #1"
      ]
    },
    {
      "cell_type": "markdown",
      "metadata": {
        "id": "hpkXAmMZpLhm"
      },
      "source": [
        "## Task 1: Installing Required Libraries\n",
        "\n",
        "A reminder that one of the [key features](https://blog.langchain.dev/langchain-v0-1-0/) of LangChain v0.1.0 is the compartmentalization of the various LangChain ecosystem packages!\n",
        "\n",
        "So let's begin grabbing all of our LangChain related packages!"
      ]
    },
    {
      "cell_type": "code",
      "execution_count": 1,
      "metadata": {},
      "outputs": [],
      "source": [
        "from rich import print\n",
        "%load_ext rich"
      ]
    },
    {
      "cell_type": "code",
      "execution_count": 2,
      "metadata": {
        "colab": {
          "base_uri": "https://localhost:8080/"
        },
        "id": "5BN13TZlSCv4",
        "outputId": "51d9c154-af83-42b2-ce72-9656729ecb9d"
      },
      "outputs": [],
      "source": [
        "!pip install -U -q langchain langchain-openai langchain_core langchain-community langchainhub openai"
      ]
    },
    {
      "cell_type": "markdown",
      "metadata": {
        "id": "fm7gXsD6pqG0"
      },
      "source": [
        "We'll also get the \"star of the show\" today, which is Ragas!"
      ]
    },
    {
      "cell_type": "code",
      "execution_count": 3,
      "metadata": {
        "colab": {
          "base_uri": "https://localhost:8080/"
        },
        "id": "zvAvDNWBpjQ1",
        "outputId": "20ff8c89-11db-4071-b0a0-6b9bfc0e215f"
      },
      "outputs": [],
      "source": [
        "!pip install -qU ragas"
      ]
    },
    {
      "cell_type": "markdown",
      "metadata": {
        "id": "L9q6Z9oTpw3X"
      },
      "source": [
        "We'll be leveraging [QDrant](https://qdrant.tech/) again as our LangChain `VectorStore`.\n",
        "\n",
        "We'll also install `pymupdf` and its dependencies which will allow us to load PDFs using the `PyMuPDFLoader` in the `langchain-community` package!"
      ]
    },
    {
      "cell_type": "code",
      "execution_count": 4,
      "metadata": {
        "colab": {
          "base_uri": "https://localhost:8080/"
        },
        "id": "sAJK95napn8I",
        "outputId": "58f04109-385b-44c7-d3cb-4547d8acaea1"
      },
      "outputs": [],
      "source": [
        "!pip install -qU qdrant-client pymupdf pandas"
      ]
    },
    {
      "cell_type": "markdown",
      "metadata": {
        "id": "0_C2JvG1qO3h"
      },
      "source": [
        "## Task 2: Set Environment Variables\n",
        "\n",
        "Let's set up our OpenAI API key so we can leverage their API later on."
      ]
    },
    {
      "cell_type": "code",
      "execution_count": 5,
      "metadata": {
        "colab": {
          "base_uri": "https://localhost:8080/"
        },
        "id": "8Lhqp5rUThG-",
        "outputId": "97cb739d-66b4-4476-ca04-b6257004178f"
      },
      "outputs": [
        {
          "data": {
            "text/html": [
              "<pre style=\"white-space:pre;overflow-x:auto;line-height:normal;font-family:Menlo,'DejaVu Sans Mono',consolas,'Courier New',monospace\"></pre>\n"
            ],
            "text/plain": []
          },
          "metadata": {},
          "output_type": "display_data"
        },
        {
          "data": {
            "text/plain": [
              "\u001b[3;92mTrue\u001b[0m"
            ]
          },
          "execution_count": 5,
          "metadata": {},
          "output_type": "execute_result"
        }
      ],
      "source": [
        "import os\n",
        "import openai\n",
        "\n",
        "from dotenv import load_dotenv\n",
        "\n",
        "load_dotenv()"
      ]
    },
    {
      "cell_type": "markdown",
      "metadata": {
        "id": "TFbWNvo3rZ4H"
      },
      "source": [
        "## Task 3: Creating a Simple RAG Pipeline with LangChain v0.1.0\n",
        "\n",
        "Building on what we learned last week, we'll be leveraging LangChain v0.1.0 and LCEL to build a simple RAG pipeline that we can baseline with Ragas."
      ]
    },
    {
      "cell_type": "markdown",
      "metadata": {
        "id": "DV_BOewX8CW0"
      },
      "source": [
        "## Building our RAG pipeline\n",
        "\n",
        "Let's review the basic steps of RAG again:\n",
        "\n",
        "- Create an Index\n",
        "- Use retrieval to obtain pieces of context from our Index that are similar to our query\n",
        "- Use a LLM to generate responses based on the retrieved context\n",
        "\n",
        "Let's get started by creating our index.\n",
        "\n",
        "> NOTE: We're going to start leaning on the term \"index\" to refer to our `VectorStore`, `VectorDatabase`, etc. We can think of \"index\" as the catch-all term, whereas `VectorStore` and the like relate to the specific technologies used to create, store, and interact with the index."
      ]
    },
    {
      "cell_type": "markdown",
      "metadata": {
        "id": "1VDGJdxCJEVc"
      },
      "source": [
        "### Creating an Index\n",
        "\n",
        "You'll notice that the largest changes (outside of some import changes) are that our old favourite chains are back to being bundled in an easily usable abstraction.\n",
        "\n",
        "We can still create custom chains using LCEL - but we can also be more confident that our pre-packaged chains are creating using LCEL under the hood."
      ]
    },
    {
      "cell_type": "markdown",
      "metadata": {
        "id": "RmFFThawK8lO"
      },
      "source": [
        "#### Loading Data\n",
        "\n",
        "Let's start by loading some data!\n",
        "\n",
        "> NOTE: You'll notice that we're using a document loader from the community package of LangChain. This is part of the v0.2.0 changes that make the base (`langchain-core`) package remain lightweight while still providing access to some of the more powerful community integrations."
      ]
    },
    {
      "cell_type": "code",
      "execution_count": 6,
      "metadata": {
        "id": "DTDNFXaBSO2j"
      },
      "outputs": [],
      "source": [
        "from langchain_community.document_loaders import PyMuPDFLoader\n",
        "\n",
        "loader = PyMuPDFLoader(\n",
        "    \"https://d1lamhf6l6yk6d.cloudfront.net/uploads/2021/08/The-pmarca-Blog-Archives.pdf\",\n",
        ")\n",
        "\n",
        "documents = loader.load()"
      ]
    },
    {
      "cell_type": "code",
      "execution_count": 7,
      "metadata": {
        "colab": {
          "base_uri": "https://localhost:8080/"
        },
        "id": "i3dJYlBCIX_p",
        "outputId": "1383c5b7-bb72-49ea-d323-fcd9eed48d60"
      },
      "outputs": [
        {
          "data": {
            "text/html": [
              "<pre style=\"white-space:pre;overflow-x:auto;line-height:normal;font-family:Menlo,'DejaVu Sans Mono',consolas,'Courier New',monospace\"></pre>\n"
            ],
            "text/plain": []
          },
          "metadata": {},
          "output_type": "display_data"
        },
        {
          "data": {
            "text/plain": [
              "\n",
              "\u001b[1m{\u001b[0m\n",
              "    \u001b[32m'source'\u001b[0m: \u001b[32m'https://d1lamhf6l6yk6d.cloudfront.net/uploads/2021/08/The-pmarca-Blog-Archives.pdf'\u001b[0m,\n",
              "    \u001b[32m'file_path'\u001b[0m: \u001b[32m'https://d1lamhf6l6yk6d.cloudfront.net/uploads/2021/08/The-pmarca-Blog-Archives.pdf'\u001b[0m,\n",
              "    \u001b[32m'page'\u001b[0m: \u001b[1;36m0\u001b[0m,\n",
              "    \u001b[32m'total_pages'\u001b[0m: \u001b[1;36m195\u001b[0m,\n",
              "    \u001b[32m'format'\u001b[0m: \u001b[32m'PDF 1.3'\u001b[0m,\n",
              "    \u001b[32m'title'\u001b[0m: \u001b[32m'The Pmarca Blog Archives'\u001b[0m,\n",
              "    \u001b[32m'author'\u001b[0m: \u001b[32m''\u001b[0m,\n",
              "    \u001b[32m'subject'\u001b[0m: \u001b[32m''\u001b[0m,\n",
              "    \u001b[32m'keywords'\u001b[0m: \u001b[32m''\u001b[0m,\n",
              "    \u001b[32m'creator'\u001b[0m: \u001b[32m''\u001b[0m,\n",
              "    \u001b[32m'producer'\u001b[0m: \u001b[32m'Mac OS X 10.10 Quartz PDFContext'\u001b[0m,\n",
              "    \u001b[32m'creationDate'\u001b[0m: \u001b[32m\"D:20150110020418Z00'00'\"\u001b[0m,\n",
              "    \u001b[32m'modDate'\u001b[0m: \u001b[32m\"D:20150110020418Z00'00'\"\u001b[0m,\n",
              "    \u001b[32m'trapped'\u001b[0m: \u001b[32m''\u001b[0m\n",
              "\u001b[1m}\u001b[0m"
            ]
          },
          "execution_count": 7,
          "metadata": {},
          "output_type": "execute_result"
        }
      ],
      "source": [
        "documents[0].metadata"
      ]
    },
    {
      "cell_type": "markdown",
      "metadata": {
        "id": "oQUl3sbZK4_1"
      },
      "source": [
        "#### Transforming Data\n",
        "\n",
        "Now that we've got our single document - let's split it into smaller pieces so we can more effectively leverage it with our retrieval chain!\n",
        "\n",
        "We'll start with the classic: `RecursiveCharacterTextSplitter`."
      ]
    },
    {
      "cell_type": "code",
      "execution_count": 8,
      "metadata": {
        "id": "6Nt2E1xnLNgr"
      },
      "outputs": [],
      "source": [
        "from langchain.text_splitter import RecursiveCharacterTextSplitter\n",
        "\n",
        "text_splitter = RecursiveCharacterTextSplitter(chunk_size=200, chunk_overlap=50)\n",
        "\n",
        "documents = text_splitter.split_documents(documents)"
      ]
    },
    {
      "cell_type": "markdown",
      "metadata": {
        "id": "ilzwQxhiLcVV"
      },
      "source": [
        "Let's confirm we've split our document."
      ]
    },
    {
      "cell_type": "code",
      "execution_count": 9,
      "metadata": {
        "colab": {
          "base_uri": "https://localhost:8080/"
        },
        "id": "4wRw6a4aLfWh",
        "outputId": "a707bbf6-6338-45fc-a75e-86d693dfe2c9"
      },
      "outputs": [
        {
          "data": {
            "text/html": [
              "<pre style=\"white-space:pre;overflow-x:auto;line-height:normal;font-family:Menlo,'DejaVu Sans Mono',consolas,'Courier New',monospace\"></pre>\n"
            ],
            "text/plain": []
          },
          "metadata": {},
          "output_type": "display_data"
        },
        {
          "data": {
            "text/plain": [
              "\u001b[1;36m1864\u001b[0m"
            ]
          },
          "execution_count": 9,
          "metadata": {},
          "output_type": "execute_result"
        }
      ],
      "source": [
        "len(documents)"
      ]
    },
    {
      "cell_type": "markdown",
      "metadata": {
        "id": "eZ93HkYcMJwW"
      },
      "source": [
        "#### Loading OpenAI Embeddings Model\n",
        "\n",
        "We'll need a process by which we can convert our text into vectors that allow us to compare to our query vector.\n",
        "\n",
        "Let's use OpenAI's `text-embedding-ada-002` for this task!"
      ]
    },
    {
      "cell_type": "code",
      "execution_count": 10,
      "metadata": {
        "id": "JU6CrDVZMgKe"
      },
      "outputs": [],
      "source": [
        "from langchain_openai import OpenAIEmbeddings\n",
        "\n",
        "embeddings = OpenAIEmbeddings(model=\"text-embedding-ada-002\")"
      ]
    },
    {
      "cell_type": "markdown",
      "metadata": {
        "id": "rVtZR9JPLtR4"
      },
      "source": [
        "#### Creating a QDrant VectorStore\n",
        "\n",
        "Now that we have documents - we'll need a place to store them alongside their embeddings."
      ]
    },
    {
      "cell_type": "code",
      "execution_count": 11,
      "metadata": {
        "id": "978TWiCtMA0B"
      },
      "outputs": [],
      "source": [
        "from langchain_community.vectorstores import Qdrant\n",
        "\n",
        "qdrant_vector_store = Qdrant.from_documents(\n",
        "    documents,\n",
        "    embeddings,\n",
        "    location=\":memory:\",\n",
        "    collection_name=\"PMarca Blogs\",\n",
        ")"
      ]
    },
    {
      "cell_type": "markdown",
      "metadata": {
        "id": "Vk50NmrMDlWu"
      },
      "source": [
        "#### ❓ Question #1:\n",
        "\n",
        "List out a few of the techniques that Qdrant uses that make it performant.\n",
        "\n",
        "> NOTE: Check the [documentation](https://qdrant.tech/documentation/overview/) for more information about QDrant!"
      ]
    },
    {
      "cell_type": "markdown",
      "metadata": {},
      "source": [
        "#### Answer #1:\n",
        "\n",
        "Vector databases are optimized for storing and querying these high-dimensional vectors efficiently, and they often using specialized data structures and indexing techniques such as Hierarchical Navigable Small World (HNSW) – which is used to implement Approximate Nearest Neighbors"
      ]
    },
    {
      "cell_type": "markdown",
      "metadata": {
        "id": "Z7ht6bJX9PAY"
      },
      "source": [
        "#### Creating a Retriever\n",
        "\n",
        "To complete our index, all that's left to do is expose our vectorstore as a retriever - which we can do the same way we would in previous version of LangChain!"
      ]
    },
    {
      "cell_type": "code",
      "execution_count": 12,
      "metadata": {
        "id": "xne8P5dQTUiR"
      },
      "outputs": [],
      "source": [
        "retriever = qdrant_vector_store.as_retriever()"
      ]
    },
    {
      "cell_type": "markdown",
      "metadata": {
        "id": "sO_DFBVKNvNm"
      },
      "source": [
        "#### Testing our Retriever\n",
        "\n",
        "Now that we've gone through the trouble of creating our retriever - let's see it in action!"
      ]
    },
    {
      "cell_type": "code",
      "execution_count": 13,
      "metadata": {
        "id": "I9_ONxpnN0n6"
      },
      "outputs": [],
      "source": [
        "retrieved_documents = retriever.invoke(\n",
        "    \"What is a rule of thumb for selecting an industry to invest in?\"\n",
        ")"
      ]
    },
    {
      "cell_type": "code",
      "execution_count": 14,
      "metadata": {
        "colab": {
          "base_uri": "https://localhost:8080/"
        },
        "id": "-Za12yt4OBy1",
        "outputId": "6dfa1ae5-8198-49a1-b213-96b34a1a5147"
      },
      "outputs": [
        {
          "data": {
            "text/html": [
              "<pre style=\"white-space:pre;overflow-x:auto;line-height:normal;font-family:Menlo,'DejaVu Sans Mono',consolas,'Courier New',monospace\"><span style=\"color: #800080; text-decoration-color: #800080; font-weight: bold\">Document</span><span style=\"font-weight: bold\">(</span>\n",
              "    <span style=\"color: #808000; text-decoration-color: #808000\">page_content</span>=<span style=\"color: #008000; text-decoration-color: #008000\">'the existing order — and make sure that those forces of change\\nhave a reasonable chance at </span>\n",
              "<span style=\"color: #008000; text-decoration-color: #008000\">succeeding.\\nSecond rule of thumb:\\nOnce you have picked an industry, get right to the center of it'</span>,\n",
              "    <span style=\"color: #808000; text-decoration-color: #808000\">metadata</span>=<span style=\"font-weight: bold\">{</span>\n",
              "        <span style=\"color: #008000; text-decoration-color: #008000\">'source'</span>: <span style=\"color: #008000; text-decoration-color: #008000\">'https://d1lamhf6l6yk6d.cloudfront.net/uploads/2021/08/The-pmarca-Blog-Archives.pdf'</span>,\n",
              "        <span style=\"color: #008000; text-decoration-color: #008000\">'file_path'</span>: <span style=\"color: #008000; text-decoration-color: #008000\">'https://d1lamhf6l6yk6d.cloudfront.net/uploads/2021/08/The-pmarca-Blog-Archives.pdf'</span>,\n",
              "        <span style=\"color: #008000; text-decoration-color: #008000\">'page'</span>: <span style=\"color: #008080; text-decoration-color: #008080; font-weight: bold\">125</span>,\n",
              "        <span style=\"color: #008000; text-decoration-color: #008000\">'total_pages'</span>: <span style=\"color: #008080; text-decoration-color: #008080; font-weight: bold\">195</span>,\n",
              "        <span style=\"color: #008000; text-decoration-color: #008000\">'format'</span>: <span style=\"color: #008000; text-decoration-color: #008000\">'PDF 1.3'</span>,\n",
              "        <span style=\"color: #008000; text-decoration-color: #008000\">'title'</span>: <span style=\"color: #008000; text-decoration-color: #008000\">'The Pmarca Blog Archives'</span>,\n",
              "        <span style=\"color: #008000; text-decoration-color: #008000\">'author'</span>: <span style=\"color: #008000; text-decoration-color: #008000\">''</span>,\n",
              "        <span style=\"color: #008000; text-decoration-color: #008000\">'subject'</span>: <span style=\"color: #008000; text-decoration-color: #008000\">''</span>,\n",
              "        <span style=\"color: #008000; text-decoration-color: #008000\">'keywords'</span>: <span style=\"color: #008000; text-decoration-color: #008000\">''</span>,\n",
              "        <span style=\"color: #008000; text-decoration-color: #008000\">'creator'</span>: <span style=\"color: #008000; text-decoration-color: #008000\">''</span>,\n",
              "        <span style=\"color: #008000; text-decoration-color: #008000\">'producer'</span>: <span style=\"color: #008000; text-decoration-color: #008000\">'Mac OS X 10.10 Quartz PDFContext'</span>,\n",
              "        <span style=\"color: #008000; text-decoration-color: #008000\">'creationDate'</span>: <span style=\"color: #008000; text-decoration-color: #008000\">\"D:20150110020418Z00'00'\"</span>,\n",
              "        <span style=\"color: #008000; text-decoration-color: #008000\">'modDate'</span>: <span style=\"color: #008000; text-decoration-color: #008000\">\"D:20150110020418Z00'00'\"</span>,\n",
              "        <span style=\"color: #008000; text-decoration-color: #008000\">'trapped'</span>: <span style=\"color: #008000; text-decoration-color: #008000\">''</span>,\n",
              "        <span style=\"color: #008000; text-decoration-color: #008000\">'_id'</span>: <span style=\"color: #008000; text-decoration-color: #008000\">'801db54cf35c4c049bf110712f8a7c64'</span>,\n",
              "        <span style=\"color: #008000; text-decoration-color: #008000\">'_collection_name'</span>: <span style=\"color: #008000; text-decoration-color: #008000\">'PMarca Blogs'</span>\n",
              "    <span style=\"font-weight: bold\">}</span>\n",
              "<span style=\"font-weight: bold\">)</span>\n",
              "</pre>\n"
            ],
            "text/plain": [
              "\u001b[1;35mDocument\u001b[0m\u001b[1m(\u001b[0m\n",
              "    \u001b[33mpage_content\u001b[0m=\u001b[32m'the existing order — and make sure that those forces of change\\nhave a reasonable chance at \u001b[0m\n",
              "\u001b[32msucceeding.\\nSecond rule of thumb:\\nOnce you have picked an industry, get right to the center of it'\u001b[0m,\n",
              "    \u001b[33mmetadata\u001b[0m=\u001b[1m{\u001b[0m\n",
              "        \u001b[32m'source'\u001b[0m: \u001b[32m'https://d1lamhf6l6yk6d.cloudfront.net/uploads/2021/08/The-pmarca-Blog-Archives.pdf'\u001b[0m,\n",
              "        \u001b[32m'file_path'\u001b[0m: \u001b[32m'https://d1lamhf6l6yk6d.cloudfront.net/uploads/2021/08/The-pmarca-Blog-Archives.pdf'\u001b[0m,\n",
              "        \u001b[32m'page'\u001b[0m: \u001b[1;36m125\u001b[0m,\n",
              "        \u001b[32m'total_pages'\u001b[0m: \u001b[1;36m195\u001b[0m,\n",
              "        \u001b[32m'format'\u001b[0m: \u001b[32m'PDF 1.3'\u001b[0m,\n",
              "        \u001b[32m'title'\u001b[0m: \u001b[32m'The Pmarca Blog Archives'\u001b[0m,\n",
              "        \u001b[32m'author'\u001b[0m: \u001b[32m''\u001b[0m,\n",
              "        \u001b[32m'subject'\u001b[0m: \u001b[32m''\u001b[0m,\n",
              "        \u001b[32m'keywords'\u001b[0m: \u001b[32m''\u001b[0m,\n",
              "        \u001b[32m'creator'\u001b[0m: \u001b[32m''\u001b[0m,\n",
              "        \u001b[32m'producer'\u001b[0m: \u001b[32m'Mac OS X 10.10 Quartz PDFContext'\u001b[0m,\n",
              "        \u001b[32m'creationDate'\u001b[0m: \u001b[32m\"D:20150110020418Z00'00'\"\u001b[0m,\n",
              "        \u001b[32m'modDate'\u001b[0m: \u001b[32m\"D:20150110020418Z00'00'\"\u001b[0m,\n",
              "        \u001b[32m'trapped'\u001b[0m: \u001b[32m''\u001b[0m,\n",
              "        \u001b[32m'_id'\u001b[0m: \u001b[32m'801db54cf35c4c049bf110712f8a7c64'\u001b[0m,\n",
              "        \u001b[32m'_collection_name'\u001b[0m: \u001b[32m'PMarca Blogs'\u001b[0m\n",
              "    \u001b[1m}\u001b[0m\n",
              "\u001b[1m)\u001b[0m\n"
            ]
          },
          "metadata": {},
          "output_type": "display_data"
        },
        {
          "data": {
            "text/html": [
              "<pre style=\"white-space:pre;overflow-x:auto;line-height:normal;font-family:Menlo,'DejaVu Sans Mono',consolas,'Courier New',monospace\"><span style=\"color: #800080; text-decoration-color: #800080; font-weight: bold\">Document</span><span style=\"font-weight: bold\">(</span>\n",
              "    <span style=\"color: #808000; text-decoration-color: #808000\">page_content</span>=<span style=\"color: #008000; text-decoration-color: #008000\">'Third rule:\\nIn a rapidly changing Held like technology, the best place to\\nget experience when </span>\n",
              "<span style=\"color: #008000; text-decoration-color: #008000\">you’re starting out is in younger, high-\\ngrowth companies.'</span>,\n",
              "    <span style=\"color: #808000; text-decoration-color: #808000\">metadata</span>=<span style=\"font-weight: bold\">{</span>\n",
              "        <span style=\"color: #008000; text-decoration-color: #008000\">'source'</span>: <span style=\"color: #008000; text-decoration-color: #008000\">'https://d1lamhf6l6yk6d.cloudfront.net/uploads/2021/08/The-pmarca-Blog-Archives.pdf'</span>,\n",
              "        <span style=\"color: #008000; text-decoration-color: #008000\">'file_path'</span>: <span style=\"color: #008000; text-decoration-color: #008000\">'https://d1lamhf6l6yk6d.cloudfront.net/uploads/2021/08/The-pmarca-Blog-Archives.pdf'</span>,\n",
              "        <span style=\"color: #008000; text-decoration-color: #008000\">'page'</span>: <span style=\"color: #008080; text-decoration-color: #008080; font-weight: bold\">127</span>,\n",
              "        <span style=\"color: #008000; text-decoration-color: #008000\">'total_pages'</span>: <span style=\"color: #008080; text-decoration-color: #008080; font-weight: bold\">195</span>,\n",
              "        <span style=\"color: #008000; text-decoration-color: #008000\">'format'</span>: <span style=\"color: #008000; text-decoration-color: #008000\">'PDF 1.3'</span>,\n",
              "        <span style=\"color: #008000; text-decoration-color: #008000\">'title'</span>: <span style=\"color: #008000; text-decoration-color: #008000\">'The Pmarca Blog Archives'</span>,\n",
              "        <span style=\"color: #008000; text-decoration-color: #008000\">'author'</span>: <span style=\"color: #008000; text-decoration-color: #008000\">''</span>,\n",
              "        <span style=\"color: #008000; text-decoration-color: #008000\">'subject'</span>: <span style=\"color: #008000; text-decoration-color: #008000\">''</span>,\n",
              "        <span style=\"color: #008000; text-decoration-color: #008000\">'keywords'</span>: <span style=\"color: #008000; text-decoration-color: #008000\">''</span>,\n",
              "        <span style=\"color: #008000; text-decoration-color: #008000\">'creator'</span>: <span style=\"color: #008000; text-decoration-color: #008000\">''</span>,\n",
              "        <span style=\"color: #008000; text-decoration-color: #008000\">'producer'</span>: <span style=\"color: #008000; text-decoration-color: #008000\">'Mac OS X 10.10 Quartz PDFContext'</span>,\n",
              "        <span style=\"color: #008000; text-decoration-color: #008000\">'creationDate'</span>: <span style=\"color: #008000; text-decoration-color: #008000\">\"D:20150110020418Z00'00'\"</span>,\n",
              "        <span style=\"color: #008000; text-decoration-color: #008000\">'modDate'</span>: <span style=\"color: #008000; text-decoration-color: #008000\">\"D:20150110020418Z00'00'\"</span>,\n",
              "        <span style=\"color: #008000; text-decoration-color: #008000\">'trapped'</span>: <span style=\"color: #008000; text-decoration-color: #008000\">''</span>,\n",
              "        <span style=\"color: #008000; text-decoration-color: #008000\">'_id'</span>: <span style=\"color: #008000; text-decoration-color: #008000\">'b41d51ecec8342de985f7df1bd4b2ca9'</span>,\n",
              "        <span style=\"color: #008000; text-decoration-color: #008000\">'_collection_name'</span>: <span style=\"color: #008000; text-decoration-color: #008000\">'PMarca Blogs'</span>\n",
              "    <span style=\"font-weight: bold\">}</span>\n",
              "<span style=\"font-weight: bold\">)</span>\n",
              "</pre>\n"
            ],
            "text/plain": [
              "\u001b[1;35mDocument\u001b[0m\u001b[1m(\u001b[0m\n",
              "    \u001b[33mpage_content\u001b[0m=\u001b[32m'Third rule:\\nIn a rapidly changing Held like technology, the best place to\\nget experience when \u001b[0m\n",
              "\u001b[32myou’re starting out is in younger, high-\\ngrowth companies.'\u001b[0m,\n",
              "    \u001b[33mmetadata\u001b[0m=\u001b[1m{\u001b[0m\n",
              "        \u001b[32m'source'\u001b[0m: \u001b[32m'https://d1lamhf6l6yk6d.cloudfront.net/uploads/2021/08/The-pmarca-Blog-Archives.pdf'\u001b[0m,\n",
              "        \u001b[32m'file_path'\u001b[0m: \u001b[32m'https://d1lamhf6l6yk6d.cloudfront.net/uploads/2021/08/The-pmarca-Blog-Archives.pdf'\u001b[0m,\n",
              "        \u001b[32m'page'\u001b[0m: \u001b[1;36m127\u001b[0m,\n",
              "        \u001b[32m'total_pages'\u001b[0m: \u001b[1;36m195\u001b[0m,\n",
              "        \u001b[32m'format'\u001b[0m: \u001b[32m'PDF 1.3'\u001b[0m,\n",
              "        \u001b[32m'title'\u001b[0m: \u001b[32m'The Pmarca Blog Archives'\u001b[0m,\n",
              "        \u001b[32m'author'\u001b[0m: \u001b[32m''\u001b[0m,\n",
              "        \u001b[32m'subject'\u001b[0m: \u001b[32m''\u001b[0m,\n",
              "        \u001b[32m'keywords'\u001b[0m: \u001b[32m''\u001b[0m,\n",
              "        \u001b[32m'creator'\u001b[0m: \u001b[32m''\u001b[0m,\n",
              "        \u001b[32m'producer'\u001b[0m: \u001b[32m'Mac OS X 10.10 Quartz PDFContext'\u001b[0m,\n",
              "        \u001b[32m'creationDate'\u001b[0m: \u001b[32m\"D:20150110020418Z00'00'\"\u001b[0m,\n",
              "        \u001b[32m'modDate'\u001b[0m: \u001b[32m\"D:20150110020418Z00'00'\"\u001b[0m,\n",
              "        \u001b[32m'trapped'\u001b[0m: \u001b[32m''\u001b[0m,\n",
              "        \u001b[32m'_id'\u001b[0m: \u001b[32m'b41d51ecec8342de985f7df1bd4b2ca9'\u001b[0m,\n",
              "        \u001b[32m'_collection_name'\u001b[0m: \u001b[32m'PMarca Blogs'\u001b[0m\n",
              "    \u001b[1m}\u001b[0m\n",
              "\u001b[1m)\u001b[0m\n"
            ]
          },
          "metadata": {},
          "output_type": "display_data"
        },
        {
          "data": {
            "text/html": [
              "<pre style=\"white-space:pre;overflow-x:auto;line-height:normal;font-family:Menlo,'DejaVu Sans Mono',consolas,'Courier New',monospace\"><span style=\"color: #800080; text-decoration-color: #800080; font-weight: bold\">Document</span><span style=\"font-weight: bold\">(</span>\n",
              "    <span style=\"color: #808000; text-decoration-color: #808000\">page_content</span>=<span style=\"color: #008000; text-decoration-color: #008000\">'where the great opportunities can be found.\\nApply this rule when selecting which company to go </span>\n",
              "<span style=\"color: #008000; text-decoration-color: #008000\">to. Go to\\nthe company where all the action is happening.'</span>,\n",
              "    <span style=\"color: #808000; text-decoration-color: #808000\">metadata</span>=<span style=\"font-weight: bold\">{</span>\n",
              "        <span style=\"color: #008000; text-decoration-color: #008000\">'source'</span>: <span style=\"color: #008000; text-decoration-color: #008000\">'https://d1lamhf6l6yk6d.cloudfront.net/uploads/2021/08/The-pmarca-Blog-Archives.pdf'</span>,\n",
              "        <span style=\"color: #008000; text-decoration-color: #008000\">'file_path'</span>: <span style=\"color: #008000; text-decoration-color: #008000\">'https://d1lamhf6l6yk6d.cloudfront.net/uploads/2021/08/The-pmarca-Blog-Archives.pdf'</span>,\n",
              "        <span style=\"color: #008000; text-decoration-color: #008000\">'page'</span>: <span style=\"color: #008080; text-decoration-color: #008080; font-weight: bold\">125</span>,\n",
              "        <span style=\"color: #008000; text-decoration-color: #008000\">'total_pages'</span>: <span style=\"color: #008080; text-decoration-color: #008080; font-weight: bold\">195</span>,\n",
              "        <span style=\"color: #008000; text-decoration-color: #008000\">'format'</span>: <span style=\"color: #008000; text-decoration-color: #008000\">'PDF 1.3'</span>,\n",
              "        <span style=\"color: #008000; text-decoration-color: #008000\">'title'</span>: <span style=\"color: #008000; text-decoration-color: #008000\">'The Pmarca Blog Archives'</span>,\n",
              "        <span style=\"color: #008000; text-decoration-color: #008000\">'author'</span>: <span style=\"color: #008000; text-decoration-color: #008000\">''</span>,\n",
              "        <span style=\"color: #008000; text-decoration-color: #008000\">'subject'</span>: <span style=\"color: #008000; text-decoration-color: #008000\">''</span>,\n",
              "        <span style=\"color: #008000; text-decoration-color: #008000\">'keywords'</span>: <span style=\"color: #008000; text-decoration-color: #008000\">''</span>,\n",
              "        <span style=\"color: #008000; text-decoration-color: #008000\">'creator'</span>: <span style=\"color: #008000; text-decoration-color: #008000\">''</span>,\n",
              "        <span style=\"color: #008000; text-decoration-color: #008000\">'producer'</span>: <span style=\"color: #008000; text-decoration-color: #008000\">'Mac OS X 10.10 Quartz PDFContext'</span>,\n",
              "        <span style=\"color: #008000; text-decoration-color: #008000\">'creationDate'</span>: <span style=\"color: #008000; text-decoration-color: #008000\">\"D:20150110020418Z00'00'\"</span>,\n",
              "        <span style=\"color: #008000; text-decoration-color: #008000\">'modDate'</span>: <span style=\"color: #008000; text-decoration-color: #008000\">\"D:20150110020418Z00'00'\"</span>,\n",
              "        <span style=\"color: #008000; text-decoration-color: #008000\">'trapped'</span>: <span style=\"color: #008000; text-decoration-color: #008000\">''</span>,\n",
              "        <span style=\"color: #008000; text-decoration-color: #008000\">'_id'</span>: <span style=\"color: #008000; text-decoration-color: #008000\">'af438b51e6ca48548cd09e1306f028d9'</span>,\n",
              "        <span style=\"color: #008000; text-decoration-color: #008000\">'_collection_name'</span>: <span style=\"color: #008000; text-decoration-color: #008000\">'PMarca Blogs'</span>\n",
              "    <span style=\"font-weight: bold\">}</span>\n",
              "<span style=\"font-weight: bold\">)</span>\n",
              "</pre>\n"
            ],
            "text/plain": [
              "\u001b[1;35mDocument\u001b[0m\u001b[1m(\u001b[0m\n",
              "    \u001b[33mpage_content\u001b[0m=\u001b[32m'where the great opportunities can be found.\\nApply this rule when selecting which company to go \u001b[0m\n",
              "\u001b[32mto. Go to\\nthe company where all the action is happening.'\u001b[0m,\n",
              "    \u001b[33mmetadata\u001b[0m=\u001b[1m{\u001b[0m\n",
              "        \u001b[32m'source'\u001b[0m: \u001b[32m'https://d1lamhf6l6yk6d.cloudfront.net/uploads/2021/08/The-pmarca-Blog-Archives.pdf'\u001b[0m,\n",
              "        \u001b[32m'file_path'\u001b[0m: \u001b[32m'https://d1lamhf6l6yk6d.cloudfront.net/uploads/2021/08/The-pmarca-Blog-Archives.pdf'\u001b[0m,\n",
              "        \u001b[32m'page'\u001b[0m: \u001b[1;36m125\u001b[0m,\n",
              "        \u001b[32m'total_pages'\u001b[0m: \u001b[1;36m195\u001b[0m,\n",
              "        \u001b[32m'format'\u001b[0m: \u001b[32m'PDF 1.3'\u001b[0m,\n",
              "        \u001b[32m'title'\u001b[0m: \u001b[32m'The Pmarca Blog Archives'\u001b[0m,\n",
              "        \u001b[32m'author'\u001b[0m: \u001b[32m''\u001b[0m,\n",
              "        \u001b[32m'subject'\u001b[0m: \u001b[32m''\u001b[0m,\n",
              "        \u001b[32m'keywords'\u001b[0m: \u001b[32m''\u001b[0m,\n",
              "        \u001b[32m'creator'\u001b[0m: \u001b[32m''\u001b[0m,\n",
              "        \u001b[32m'producer'\u001b[0m: \u001b[32m'Mac OS X 10.10 Quartz PDFContext'\u001b[0m,\n",
              "        \u001b[32m'creationDate'\u001b[0m: \u001b[32m\"D:20150110020418Z00'00'\"\u001b[0m,\n",
              "        \u001b[32m'modDate'\u001b[0m: \u001b[32m\"D:20150110020418Z00'00'\"\u001b[0m,\n",
              "        \u001b[32m'trapped'\u001b[0m: \u001b[32m''\u001b[0m,\n",
              "        \u001b[32m'_id'\u001b[0m: \u001b[32m'af438b51e6ca48548cd09e1306f028d9'\u001b[0m,\n",
              "        \u001b[32m'_collection_name'\u001b[0m: \u001b[32m'PMarca Blogs'\u001b[0m\n",
              "    \u001b[1m}\u001b[0m\n",
              "\u001b[1m)\u001b[0m\n"
            ]
          },
          "metadata": {},
          "output_type": "display_data"
        },
        {
          "data": {
            "text/html": [
              "<pre style=\"white-space:pre;overflow-x:auto;line-height:normal;font-family:Menlo,'DejaVu Sans Mono',consolas,'Courier New',monospace\"><span style=\"color: #800080; text-decoration-color: #800080; font-weight: bold\">Document</span><span style=\"font-weight: bold\">(</span>\n",
              "    <span style=\"color: #808000; text-decoration-color: #808000\">page_content</span>=<span style=\"color: #008000; text-decoration-color: #008000\">'growth companies.\\n(This is not necessarily true in older and more established\\nindustries, but </span>\n",
              "<span style=\"color: #008000; text-decoration-color: #008000\">those aren’t the industries we’re talking about.)'</span>,\n",
              "    <span style=\"color: #808000; text-decoration-color: #808000\">metadata</span>=<span style=\"font-weight: bold\">{</span>\n",
              "        <span style=\"color: #008000; text-decoration-color: #008000\">'source'</span>: <span style=\"color: #008000; text-decoration-color: #008000\">'https://d1lamhf6l6yk6d.cloudfront.net/uploads/2021/08/The-pmarca-Blog-Archives.pdf'</span>,\n",
              "        <span style=\"color: #008000; text-decoration-color: #008000\">'file_path'</span>: <span style=\"color: #008000; text-decoration-color: #008000\">'https://d1lamhf6l6yk6d.cloudfront.net/uploads/2021/08/The-pmarca-Blog-Archives.pdf'</span>,\n",
              "        <span style=\"color: #008000; text-decoration-color: #008000\">'page'</span>: <span style=\"color: #008080; text-decoration-color: #008080; font-weight: bold\">127</span>,\n",
              "        <span style=\"color: #008000; text-decoration-color: #008000\">'total_pages'</span>: <span style=\"color: #008080; text-decoration-color: #008080; font-weight: bold\">195</span>,\n",
              "        <span style=\"color: #008000; text-decoration-color: #008000\">'format'</span>: <span style=\"color: #008000; text-decoration-color: #008000\">'PDF 1.3'</span>,\n",
              "        <span style=\"color: #008000; text-decoration-color: #008000\">'title'</span>: <span style=\"color: #008000; text-decoration-color: #008000\">'The Pmarca Blog Archives'</span>,\n",
              "        <span style=\"color: #008000; text-decoration-color: #008000\">'author'</span>: <span style=\"color: #008000; text-decoration-color: #008000\">''</span>,\n",
              "        <span style=\"color: #008000; text-decoration-color: #008000\">'subject'</span>: <span style=\"color: #008000; text-decoration-color: #008000\">''</span>,\n",
              "        <span style=\"color: #008000; text-decoration-color: #008000\">'keywords'</span>: <span style=\"color: #008000; text-decoration-color: #008000\">''</span>,\n",
              "        <span style=\"color: #008000; text-decoration-color: #008000\">'creator'</span>: <span style=\"color: #008000; text-decoration-color: #008000\">''</span>,\n",
              "        <span style=\"color: #008000; text-decoration-color: #008000\">'producer'</span>: <span style=\"color: #008000; text-decoration-color: #008000\">'Mac OS X 10.10 Quartz PDFContext'</span>,\n",
              "        <span style=\"color: #008000; text-decoration-color: #008000\">'creationDate'</span>: <span style=\"color: #008000; text-decoration-color: #008000\">\"D:20150110020418Z00'00'\"</span>,\n",
              "        <span style=\"color: #008000; text-decoration-color: #008000\">'modDate'</span>: <span style=\"color: #008000; text-decoration-color: #008000\">\"D:20150110020418Z00'00'\"</span>,\n",
              "        <span style=\"color: #008000; text-decoration-color: #008000\">'trapped'</span>: <span style=\"color: #008000; text-decoration-color: #008000\">''</span>,\n",
              "        <span style=\"color: #008000; text-decoration-color: #008000\">'_id'</span>: <span style=\"color: #008000; text-decoration-color: #008000\">'9ba3532d4d90414098d670b20bd425c8'</span>,\n",
              "        <span style=\"color: #008000; text-decoration-color: #008000\">'_collection_name'</span>: <span style=\"color: #008000; text-decoration-color: #008000\">'PMarca Blogs'</span>\n",
              "    <span style=\"font-weight: bold\">}</span>\n",
              "<span style=\"font-weight: bold\">)</span>\n",
              "</pre>\n"
            ],
            "text/plain": [
              "\u001b[1;35mDocument\u001b[0m\u001b[1m(\u001b[0m\n",
              "    \u001b[33mpage_content\u001b[0m=\u001b[32m'growth companies.\\n\u001b[0m\u001b[32m(\u001b[0m\u001b[32mThis is not necessarily true in older and more established\\nindustries, but \u001b[0m\n",
              "\u001b[32mthose aren’t the industries we’re talking about.\u001b[0m\u001b[32m)\u001b[0m\u001b[32m'\u001b[0m,\n",
              "    \u001b[33mmetadata\u001b[0m=\u001b[1m{\u001b[0m\n",
              "        \u001b[32m'source'\u001b[0m: \u001b[32m'https://d1lamhf6l6yk6d.cloudfront.net/uploads/2021/08/The-pmarca-Blog-Archives.pdf'\u001b[0m,\n",
              "        \u001b[32m'file_path'\u001b[0m: \u001b[32m'https://d1lamhf6l6yk6d.cloudfront.net/uploads/2021/08/The-pmarca-Blog-Archives.pdf'\u001b[0m,\n",
              "        \u001b[32m'page'\u001b[0m: \u001b[1;36m127\u001b[0m,\n",
              "        \u001b[32m'total_pages'\u001b[0m: \u001b[1;36m195\u001b[0m,\n",
              "        \u001b[32m'format'\u001b[0m: \u001b[32m'PDF 1.3'\u001b[0m,\n",
              "        \u001b[32m'title'\u001b[0m: \u001b[32m'The Pmarca Blog Archives'\u001b[0m,\n",
              "        \u001b[32m'author'\u001b[0m: \u001b[32m''\u001b[0m,\n",
              "        \u001b[32m'subject'\u001b[0m: \u001b[32m''\u001b[0m,\n",
              "        \u001b[32m'keywords'\u001b[0m: \u001b[32m''\u001b[0m,\n",
              "        \u001b[32m'creator'\u001b[0m: \u001b[32m''\u001b[0m,\n",
              "        \u001b[32m'producer'\u001b[0m: \u001b[32m'Mac OS X 10.10 Quartz PDFContext'\u001b[0m,\n",
              "        \u001b[32m'creationDate'\u001b[0m: \u001b[32m\"D:20150110020418Z00'00'\"\u001b[0m,\n",
              "        \u001b[32m'modDate'\u001b[0m: \u001b[32m\"D:20150110020418Z00'00'\"\u001b[0m,\n",
              "        \u001b[32m'trapped'\u001b[0m: \u001b[32m''\u001b[0m,\n",
              "        \u001b[32m'_id'\u001b[0m: \u001b[32m'9ba3532d4d90414098d670b20bd425c8'\u001b[0m,\n",
              "        \u001b[32m'_collection_name'\u001b[0m: \u001b[32m'PMarca Blogs'\u001b[0m\n",
              "    \u001b[1m}\u001b[0m\n",
              "\u001b[1m)\u001b[0m\n"
            ]
          },
          "metadata": {},
          "output_type": "display_data"
        }
      ],
      "source": [
        "for doc in retrieved_documents:\n",
        "  print(doc)"
      ]
    },
    {
      "cell_type": "markdown",
      "metadata": {
        "id": "D8MKsT6JTgCU"
      },
      "source": [
        "### Creating a RAG Chain\n",
        "\n",
        "Now that we have the \"R\" in RAG taken care of - let's look at creating the \"AG\"!"
      ]
    },
    {
      "cell_type": "markdown",
      "metadata": {
        "id": "zs7qBLaEQEic"
      },
      "source": [
        "#### Creating a Prompt Template\n",
        "\n",
        "There are a few different ways we could create our prompt template - we could create a custom template, as seen in the code below, or we could simply pull a prompt from the prompt hub! Let's look at an example of that!"
      ]
    },
    {
      "cell_type": "code",
      "execution_count": 15,
      "metadata": {
        "id": "eRCq_OKUQbKk"
      },
      "outputs": [],
      "source": [
        "from langchain import hub\n",
        "\n",
        "retrieval_qa_prompt = hub.pull(\"langchain-ai/retrieval-qa-chat\")"
      ]
    },
    {
      "cell_type": "code",
      "execution_count": 16,
      "metadata": {
        "colab": {
          "base_uri": "https://localhost:8080/"
        },
        "id": "FziTftV5Q1H-",
        "outputId": "21189f0e-4b5d-4146-8071-eb0fff4a6f13"
      },
      "outputs": [
        {
          "data": {
            "text/html": [
              "<pre style=\"white-space:pre;overflow-x:auto;line-height:normal;font-family:Menlo,'DejaVu Sans Mono',consolas,'Courier New',monospace\">Answer any use questions based solely on the context below:\n",
              "\n",
              "<span style=\"font-weight: bold\">&lt;</span><span style=\"color: #ff00ff; text-decoration-color: #ff00ff; font-weight: bold\">context</span><span style=\"color: #000000; text-decoration-color: #000000\">&gt;</span>\n",
              "<span style=\"color: #000000; text-decoration-color: #000000; font-weight: bold\">{</span><span style=\"color: #000000; text-decoration-color: #000000\">context</span><span style=\"color: #000000; text-decoration-color: #000000; font-weight: bold\">}</span>\n",
              "<span style=\"color: #000000; text-decoration-color: #000000\">&lt;</span><span style=\"color: #800080; text-decoration-color: #800080\">/</span><span style=\"color: #ff00ff; text-decoration-color: #ff00ff\">context</span><span style=\"font-weight: bold\">&gt;</span>\n",
              "</pre>\n"
            ],
            "text/plain": [
              "Answer any use questions based solely on the context below:\n",
              "\n",
              "\u001b[1m<\u001b[0m\u001b[1;95mcontext\u001b[0m\u001b[39m>\u001b[0m\n",
              "\u001b[1;39m{\u001b[0m\u001b[39mcontext\u001b[0m\u001b[1;39m}\u001b[0m\n",
              "\u001b[39m<\u001b[0m\u001b[35m/\u001b[0m\u001b[95mcontext\u001b[0m\u001b[1m>\u001b[0m\n"
            ]
          },
          "metadata": {},
          "output_type": "display_data"
        }
      ],
      "source": [
        "print(retrieval_qa_prompt.messages[0].prompt.template)"
      ]
    },
    {
      "cell_type": "markdown",
      "metadata": {
        "id": "iyq88IPFRGoT"
      },
      "source": [
        "As you can see - the prompt template is simple (and has a small error) - so we'll create our own to be a bit more specific!"
      ]
    },
    {
      "cell_type": "code",
      "execution_count": 17,
      "metadata": {
        "id": "ijSNkTAjTsep"
      },
      "outputs": [],
      "source": [
        "from langchain.prompts import ChatPromptTemplate\n",
        "\n",
        "template = \"\"\"Answer the question based only on the following context. If you cannot answer the question with the context, please respond with 'I don't know':\n",
        "\n",
        "Context:\n",
        "{context}\n",
        "\n",
        "Question:\n",
        "{question}\n",
        "\"\"\"\n",
        "\n",
        "prompt = ChatPromptTemplate.from_template(template)"
      ]
    },
    {
      "cell_type": "markdown",
      "metadata": {
        "id": "BYHnPaXl-cvJ"
      },
      "source": [
        "#### Setting Up our Basic QA Chain\n",
        "\n",
        "Now we can instantiate our basic RAG chain!\n",
        "\n",
        "We'll use LCEL directly just to see an example of it - but you could just as easily use an abstraction here to achieve the same goal!\n",
        "\n",
        "We'll also ensure to pass-through our context - which is critical for RAGAS."
      ]
    },
    {
      "cell_type": "code",
      "execution_count": 18,
      "metadata": {
        "id": "-TsjUWjbUfbW"
      },
      "outputs": [],
      "source": [
        "from operator import itemgetter\n",
        "\n",
        "from langchain_openai import ChatOpenAI\n",
        "from langchain_core.output_parsers import StrOutputParser\n",
        "from langchain_core.runnables import RunnablePassthrough\n",
        "\n",
        "primary_qa_llm = ChatOpenAI(model_name=\"gpt-3.5-turbo\", temperature=0)\n",
        "\n",
        "retrieval_augmented_qa_chain = (\n",
        "    {\"context\": itemgetter(\"question\") | retriever, \"question\": itemgetter(\"question\")}\n",
        "    | RunnablePassthrough.assign(context=itemgetter(\"context\"))\n",
        "    | {\"response\": prompt | primary_qa_llm, \"context\": itemgetter(\"context\")}\n",
        ")"
      ]
    },
    {
      "cell_type": "markdown",
      "metadata": {
        "id": "7MgAa9JwBuJx"
      },
      "source": [
        "#### 🏗️ Activity #1:\n",
        "\n",
        "Describe the pipeline shown above in simple terms. You can include a diagram if desired.\n",
        "\n",
        "#### Answer:\n",
        "\n",
        "It takes the question, retrieves documents and marks it as context, then passes the context and question to the QA LLM to generate an answer, along with the context."
      ]
    },
    {
      "cell_type": "markdown",
      "metadata": {
        "id": "zO69de-F-oMD"
      },
      "source": [
        "Let's test it out!"
      ]
    },
    {
      "cell_type": "code",
      "execution_count": 19,
      "metadata": {
        "colab": {
          "base_uri": "https://localhost:8080/"
        },
        "id": "2FS5NxC6UyU2",
        "outputId": "db9953a2-758d-4723-cd95-e980a47715d3"
      },
      "outputs": [
        {
          "data": {
            "text/html": [
              "<pre style=\"white-space:pre;overflow-x:auto;line-height:normal;font-family:Menlo,'DejaVu Sans Mono',consolas,'Courier New',monospace\">Get right to the center of it.\n",
              "</pre>\n"
            ],
            "text/plain": [
              "Get right to the center of it.\n"
            ]
          },
          "metadata": {},
          "output_type": "display_data"
        }
      ],
      "source": [
        "question = \"What is a rule of thumb for selecting an industry to invest in?\"\n",
        "\n",
        "result = retrieval_augmented_qa_chain.invoke({\"question\": question})\n",
        "\n",
        "print(result[\"response\"].content)"
      ]
    },
    {
      "cell_type": "code",
      "execution_count": 20,
      "metadata": {
        "colab": {
          "base_uri": "https://localhost:8080/"
        },
        "id": "tIuHVGPOO9P2",
        "outputId": "24ce3524-9284-4eea-f78b-4329a615d321"
      },
      "outputs": [
        {
          "data": {
            "text/html": [
              "<pre style=\"white-space:pre;overflow-x:auto;line-height:normal;font-family:Menlo,'DejaVu Sans Mono',consolas,'Courier New',monospace\">I don't know.\n",
              "</pre>\n"
            ],
            "text/plain": [
              "I don't know.\n"
            ]
          },
          "metadata": {},
          "output_type": "display_data"
        },
        {
          "data": {
            "text/html": [
              "<pre style=\"white-space:pre;overflow-x:auto;line-height:normal;font-family:Menlo,'DejaVu Sans Mono',consolas,'Courier New',monospace\"><span style=\"font-weight: bold\">[</span>\n",
              "    <span style=\"color: #800080; text-decoration-color: #800080; font-weight: bold\">Document</span><span style=\"font-weight: bold\">(</span>\n",
              "        <span style=\"color: #808000; text-decoration-color: #808000\">page_content</span>=<span style=\"color: #008000; text-decoration-color: #008000\">'ask if you can call them again if things change.\\nTrust me — they’d much rather be saying </span>\n",
              "<span style=\"color: #008000; text-decoration-color: #008000\">“yes” than “no” —\\nthey need all the good investments they can get.\\nSecond, consider the environment.'</span>,\n",
              "        <span style=\"color: #808000; text-decoration-color: #808000\">metadata</span>=<span style=\"font-weight: bold\">{</span>\n",
              "            <span style=\"color: #008000; text-decoration-color: #008000\">'source'</span>: <span style=\"color: #008000; text-decoration-color: #008000\">'https://d1lamhf6l6yk6d.cloudfront.net/uploads/2021/08/The-pmarca-Blog-Archives.pdf'</span>,\n",
              "            <span style=\"color: #008000; text-decoration-color: #008000\">'file_path'</span>: <span style=\"color: #008000; text-decoration-color: #008000\">'https://d1lamhf6l6yk6d.cloudfront.net/uploads/2021/08/The-pmarca-Blog-Archives.pdf'</span>,\n",
              "            <span style=\"color: #008000; text-decoration-color: #008000\">'page'</span>: <span style=\"color: #008080; text-decoration-color: #008080; font-weight: bold\">15</span>,\n",
              "            <span style=\"color: #008000; text-decoration-color: #008000\">'total_pages'</span>: <span style=\"color: #008080; text-decoration-color: #008080; font-weight: bold\">195</span>,\n",
              "            <span style=\"color: #008000; text-decoration-color: #008000\">'format'</span>: <span style=\"color: #008000; text-decoration-color: #008000\">'PDF 1.3'</span>,\n",
              "            <span style=\"color: #008000; text-decoration-color: #008000\">'title'</span>: <span style=\"color: #008000; text-decoration-color: #008000\">'The Pmarca Blog Archives'</span>,\n",
              "            <span style=\"color: #008000; text-decoration-color: #008000\">'author'</span>: <span style=\"color: #008000; text-decoration-color: #008000\">''</span>,\n",
              "            <span style=\"color: #008000; text-decoration-color: #008000\">'subject'</span>: <span style=\"color: #008000; text-decoration-color: #008000\">''</span>,\n",
              "            <span style=\"color: #008000; text-decoration-color: #008000\">'keywords'</span>: <span style=\"color: #008000; text-decoration-color: #008000\">''</span>,\n",
              "            <span style=\"color: #008000; text-decoration-color: #008000\">'creator'</span>: <span style=\"color: #008000; text-decoration-color: #008000\">''</span>,\n",
              "            <span style=\"color: #008000; text-decoration-color: #008000\">'producer'</span>: <span style=\"color: #008000; text-decoration-color: #008000\">'Mac OS X 10.10 Quartz PDFContext'</span>,\n",
              "            <span style=\"color: #008000; text-decoration-color: #008000\">'creationDate'</span>: <span style=\"color: #008000; text-decoration-color: #008000\">\"D:20150110020418Z00'00'\"</span>,\n",
              "            <span style=\"color: #008000; text-decoration-color: #008000\">'modDate'</span>: <span style=\"color: #008000; text-decoration-color: #008000\">\"D:20150110020418Z00'00'\"</span>,\n",
              "            <span style=\"color: #008000; text-decoration-color: #008000\">'trapped'</span>: <span style=\"color: #008000; text-decoration-color: #008000\">''</span>,\n",
              "            <span style=\"color: #008000; text-decoration-color: #008000\">'_id'</span>: <span style=\"color: #008000; text-decoration-color: #008000\">'cded22642ff246f785059c378e949ca5'</span>,\n",
              "            <span style=\"color: #008000; text-decoration-color: #008000\">'_collection_name'</span>: <span style=\"color: #008000; text-decoration-color: #008000\">'PMarca Blogs'</span>\n",
              "        <span style=\"font-weight: bold\">}</span>\n",
              "    <span style=\"font-weight: bold\">)</span>,\n",
              "    <span style=\"color: #800080; text-decoration-color: #800080; font-weight: bold\">Document</span><span style=\"font-weight: bold\">(</span>\n",
              "        <span style=\"color: #808000; text-decoration-color: #808000\">page_content</span>=<span style=\"color: #008000; text-decoration-color: #008000\">'watching carefully — if everyone agrees right up front that\\nwhatever you are doing makes </span>\n",
              "<span style=\"color: #008000; text-decoration-color: #008000\">total sense, it probably isn’t a new\\nand radical enough idea to justify a new company.'</span>,\n",
              "        <span style=\"color: #808000; text-decoration-color: #808000\">metadata</span>=<span style=\"font-weight: bold\">{</span>\n",
              "            <span style=\"color: #008000; text-decoration-color: #008000\">'source'</span>: <span style=\"color: #008000; text-decoration-color: #008000\">'https://d1lamhf6l6yk6d.cloudfront.net/uploads/2021/08/The-pmarca-Blog-Archives.pdf'</span>,\n",
              "            <span style=\"color: #008000; text-decoration-color: #008000\">'file_path'</span>: <span style=\"color: #008000; text-decoration-color: #008000\">'https://d1lamhf6l6yk6d.cloudfront.net/uploads/2021/08/The-pmarca-Blog-Archives.pdf'</span>,\n",
              "            <span style=\"color: #008000; text-decoration-color: #008000\">'page'</span>: <span style=\"color: #008080; text-decoration-color: #008080; font-weight: bold\">152</span>,\n",
              "            <span style=\"color: #008000; text-decoration-color: #008000\">'total_pages'</span>: <span style=\"color: #008080; text-decoration-color: #008080; font-weight: bold\">195</span>,\n",
              "            <span style=\"color: #008000; text-decoration-color: #008000\">'format'</span>: <span style=\"color: #008000; text-decoration-color: #008000\">'PDF 1.3'</span>,\n",
              "            <span style=\"color: #008000; text-decoration-color: #008000\">'title'</span>: <span style=\"color: #008000; text-decoration-color: #008000\">'The Pmarca Blog Archives'</span>,\n",
              "            <span style=\"color: #008000; text-decoration-color: #008000\">'author'</span>: <span style=\"color: #008000; text-decoration-color: #008000\">''</span>,\n",
              "            <span style=\"color: #008000; text-decoration-color: #008000\">'subject'</span>: <span style=\"color: #008000; text-decoration-color: #008000\">''</span>,\n",
              "            <span style=\"color: #008000; text-decoration-color: #008000\">'keywords'</span>: <span style=\"color: #008000; text-decoration-color: #008000\">''</span>,\n",
              "            <span style=\"color: #008000; text-decoration-color: #008000\">'creator'</span>: <span style=\"color: #008000; text-decoration-color: #008000\">''</span>,\n",
              "            <span style=\"color: #008000; text-decoration-color: #008000\">'producer'</span>: <span style=\"color: #008000; text-decoration-color: #008000\">'Mac OS X 10.10 Quartz PDFContext'</span>,\n",
              "            <span style=\"color: #008000; text-decoration-color: #008000\">'creationDate'</span>: <span style=\"color: #008000; text-decoration-color: #008000\">\"D:20150110020418Z00'00'\"</span>,\n",
              "            <span style=\"color: #008000; text-decoration-color: #008000\">'modDate'</span>: <span style=\"color: #008000; text-decoration-color: #008000\">\"D:20150110020418Z00'00'\"</span>,\n",
              "            <span style=\"color: #008000; text-decoration-color: #008000\">'trapped'</span>: <span style=\"color: #008000; text-decoration-color: #008000\">''</span>,\n",
              "            <span style=\"color: #008000; text-decoration-color: #008000\">'_id'</span>: <span style=\"color: #008000; text-decoration-color: #008000\">'4882d5257fae4fb889c945f954517c67'</span>,\n",
              "            <span style=\"color: #008000; text-decoration-color: #008000\">'_collection_name'</span>: <span style=\"color: #008000; text-decoration-color: #008000\">'PMarca Blogs'</span>\n",
              "        <span style=\"font-weight: bold\">}</span>\n",
              "    <span style=\"font-weight: bold\">)</span>,\n",
              "    <span style=\"color: #800080; text-decoration-color: #800080; font-weight: bold\">Document</span><span style=\"font-weight: bold\">(</span>\n",
              "        <span style=\"color: #808000; text-decoration-color: #808000\">page_content</span>=<span style=\"color: #008000; text-decoration-color: #008000\">'Third rule:\\nIn a rapidly changing Held like technology, the best place to\\nget experience </span>\n",
              "<span style=\"color: #008000; text-decoration-color: #008000\">when you’re starting out is in younger, high-\\ngrowth companies.'</span>,\n",
              "        <span style=\"color: #808000; text-decoration-color: #808000\">metadata</span>=<span style=\"font-weight: bold\">{</span>\n",
              "            <span style=\"color: #008000; text-decoration-color: #008000\">'source'</span>: <span style=\"color: #008000; text-decoration-color: #008000\">'https://d1lamhf6l6yk6d.cloudfront.net/uploads/2021/08/The-pmarca-Blog-Archives.pdf'</span>,\n",
              "            <span style=\"color: #008000; text-decoration-color: #008000\">'file_path'</span>: <span style=\"color: #008000; text-decoration-color: #008000\">'https://d1lamhf6l6yk6d.cloudfront.net/uploads/2021/08/The-pmarca-Blog-Archives.pdf'</span>,\n",
              "            <span style=\"color: #008000; text-decoration-color: #008000\">'page'</span>: <span style=\"color: #008080; text-decoration-color: #008080; font-weight: bold\">127</span>,\n",
              "            <span style=\"color: #008000; text-decoration-color: #008000\">'total_pages'</span>: <span style=\"color: #008080; text-decoration-color: #008080; font-weight: bold\">195</span>,\n",
              "            <span style=\"color: #008000; text-decoration-color: #008000\">'format'</span>: <span style=\"color: #008000; text-decoration-color: #008000\">'PDF 1.3'</span>,\n",
              "            <span style=\"color: #008000; text-decoration-color: #008000\">'title'</span>: <span style=\"color: #008000; text-decoration-color: #008000\">'The Pmarca Blog Archives'</span>,\n",
              "            <span style=\"color: #008000; text-decoration-color: #008000\">'author'</span>: <span style=\"color: #008000; text-decoration-color: #008000\">''</span>,\n",
              "            <span style=\"color: #008000; text-decoration-color: #008000\">'subject'</span>: <span style=\"color: #008000; text-decoration-color: #008000\">''</span>,\n",
              "            <span style=\"color: #008000; text-decoration-color: #008000\">'keywords'</span>: <span style=\"color: #008000; text-decoration-color: #008000\">''</span>,\n",
              "            <span style=\"color: #008000; text-decoration-color: #008000\">'creator'</span>: <span style=\"color: #008000; text-decoration-color: #008000\">''</span>,\n",
              "            <span style=\"color: #008000; text-decoration-color: #008000\">'producer'</span>: <span style=\"color: #008000; text-decoration-color: #008000\">'Mac OS X 10.10 Quartz PDFContext'</span>,\n",
              "            <span style=\"color: #008000; text-decoration-color: #008000\">'creationDate'</span>: <span style=\"color: #008000; text-decoration-color: #008000\">\"D:20150110020418Z00'00'\"</span>,\n",
              "            <span style=\"color: #008000; text-decoration-color: #008000\">'modDate'</span>: <span style=\"color: #008000; text-decoration-color: #008000\">\"D:20150110020418Z00'00'\"</span>,\n",
              "            <span style=\"color: #008000; text-decoration-color: #008000\">'trapped'</span>: <span style=\"color: #008000; text-decoration-color: #008000\">''</span>,\n",
              "            <span style=\"color: #008000; text-decoration-color: #008000\">'_id'</span>: <span style=\"color: #008000; text-decoration-color: #008000\">'b41d51ecec8342de985f7df1bd4b2ca9'</span>,\n",
              "            <span style=\"color: #008000; text-decoration-color: #008000\">'_collection_name'</span>: <span style=\"color: #008000; text-decoration-color: #008000\">'PMarca Blogs'</span>\n",
              "        <span style=\"font-weight: bold\">}</span>\n",
              "    <span style=\"font-weight: bold\">)</span>,\n",
              "    <span style=\"color: #800080; text-decoration-color: #800080; font-weight: bold\">Document</span><span style=\"font-weight: bold\">(</span>\n",
              "        <span style=\"color: #808000; text-decoration-color: #808000\">page_content</span>=<span style=\"color: #008000; text-decoration-color: #008000\">'the existing order — and make sure that those forces of change\\nhave a reasonable chance at </span>\n",
              "<span style=\"color: #008000; text-decoration-color: #008000\">succeeding.\\nSecond rule of thumb:\\nOnce you have picked an industry, get right to the center of it'</span>,\n",
              "        <span style=\"color: #808000; text-decoration-color: #808000\">metadata</span>=<span style=\"font-weight: bold\">{</span>\n",
              "            <span style=\"color: #008000; text-decoration-color: #008000\">'source'</span>: <span style=\"color: #008000; text-decoration-color: #008000\">'https://d1lamhf6l6yk6d.cloudfront.net/uploads/2021/08/The-pmarca-Blog-Archives.pdf'</span>,\n",
              "            <span style=\"color: #008000; text-decoration-color: #008000\">'file_path'</span>: <span style=\"color: #008000; text-decoration-color: #008000\">'https://d1lamhf6l6yk6d.cloudfront.net/uploads/2021/08/The-pmarca-Blog-Archives.pdf'</span>,\n",
              "            <span style=\"color: #008000; text-decoration-color: #008000\">'page'</span>: <span style=\"color: #008080; text-decoration-color: #008080; font-weight: bold\">125</span>,\n",
              "            <span style=\"color: #008000; text-decoration-color: #008000\">'total_pages'</span>: <span style=\"color: #008080; text-decoration-color: #008080; font-weight: bold\">195</span>,\n",
              "            <span style=\"color: #008000; text-decoration-color: #008000\">'format'</span>: <span style=\"color: #008000; text-decoration-color: #008000\">'PDF 1.3'</span>,\n",
              "            <span style=\"color: #008000; text-decoration-color: #008000\">'title'</span>: <span style=\"color: #008000; text-decoration-color: #008000\">'The Pmarca Blog Archives'</span>,\n",
              "            <span style=\"color: #008000; text-decoration-color: #008000\">'author'</span>: <span style=\"color: #008000; text-decoration-color: #008000\">''</span>,\n",
              "            <span style=\"color: #008000; text-decoration-color: #008000\">'subject'</span>: <span style=\"color: #008000; text-decoration-color: #008000\">''</span>,\n",
              "            <span style=\"color: #008000; text-decoration-color: #008000\">'keywords'</span>: <span style=\"color: #008000; text-decoration-color: #008000\">''</span>,\n",
              "            <span style=\"color: #008000; text-decoration-color: #008000\">'creator'</span>: <span style=\"color: #008000; text-decoration-color: #008000\">''</span>,\n",
              "            <span style=\"color: #008000; text-decoration-color: #008000\">'producer'</span>: <span style=\"color: #008000; text-decoration-color: #008000\">'Mac OS X 10.10 Quartz PDFContext'</span>,\n",
              "            <span style=\"color: #008000; text-decoration-color: #008000\">'creationDate'</span>: <span style=\"color: #008000; text-decoration-color: #008000\">\"D:20150110020418Z00'00'\"</span>,\n",
              "            <span style=\"color: #008000; text-decoration-color: #008000\">'modDate'</span>: <span style=\"color: #008000; text-decoration-color: #008000\">\"D:20150110020418Z00'00'\"</span>,\n",
              "            <span style=\"color: #008000; text-decoration-color: #008000\">'trapped'</span>: <span style=\"color: #008000; text-decoration-color: #008000\">''</span>,\n",
              "            <span style=\"color: #008000; text-decoration-color: #008000\">'_id'</span>: <span style=\"color: #008000; text-decoration-color: #008000\">'801db54cf35c4c049bf110712f8a7c64'</span>,\n",
              "            <span style=\"color: #008000; text-decoration-color: #008000\">'_collection_name'</span>: <span style=\"color: #008000; text-decoration-color: #008000\">'PMarca Blogs'</span>\n",
              "        <span style=\"font-weight: bold\">}</span>\n",
              "    <span style=\"font-weight: bold\">)</span>\n",
              "<span style=\"font-weight: bold\">]</span>\n",
              "</pre>\n"
            ],
            "text/plain": [
              "\u001b[1m[\u001b[0m\n",
              "    \u001b[1;35mDocument\u001b[0m\u001b[1m(\u001b[0m\n",
              "        \u001b[33mpage_content\u001b[0m=\u001b[32m'ask if you can call them again if things change.\\nTrust me — they’d much rather be saying \u001b[0m\n",
              "\u001b[32m“yes” than “no” —\\nthey need all the good investments they can get.\\nSecond, consider the environment.'\u001b[0m,\n",
              "        \u001b[33mmetadata\u001b[0m=\u001b[1m{\u001b[0m\n",
              "            \u001b[32m'source'\u001b[0m: \u001b[32m'https://d1lamhf6l6yk6d.cloudfront.net/uploads/2021/08/The-pmarca-Blog-Archives.pdf'\u001b[0m,\n",
              "            \u001b[32m'file_path'\u001b[0m: \u001b[32m'https://d1lamhf6l6yk6d.cloudfront.net/uploads/2021/08/The-pmarca-Blog-Archives.pdf'\u001b[0m,\n",
              "            \u001b[32m'page'\u001b[0m: \u001b[1;36m15\u001b[0m,\n",
              "            \u001b[32m'total_pages'\u001b[0m: \u001b[1;36m195\u001b[0m,\n",
              "            \u001b[32m'format'\u001b[0m: \u001b[32m'PDF 1.3'\u001b[0m,\n",
              "            \u001b[32m'title'\u001b[0m: \u001b[32m'The Pmarca Blog Archives'\u001b[0m,\n",
              "            \u001b[32m'author'\u001b[0m: \u001b[32m''\u001b[0m,\n",
              "            \u001b[32m'subject'\u001b[0m: \u001b[32m''\u001b[0m,\n",
              "            \u001b[32m'keywords'\u001b[0m: \u001b[32m''\u001b[0m,\n",
              "            \u001b[32m'creator'\u001b[0m: \u001b[32m''\u001b[0m,\n",
              "            \u001b[32m'producer'\u001b[0m: \u001b[32m'Mac OS X 10.10 Quartz PDFContext'\u001b[0m,\n",
              "            \u001b[32m'creationDate'\u001b[0m: \u001b[32m\"D:20150110020418Z00'00'\"\u001b[0m,\n",
              "            \u001b[32m'modDate'\u001b[0m: \u001b[32m\"D:20150110020418Z00'00'\"\u001b[0m,\n",
              "            \u001b[32m'trapped'\u001b[0m: \u001b[32m''\u001b[0m,\n",
              "            \u001b[32m'_id'\u001b[0m: \u001b[32m'cded22642ff246f785059c378e949ca5'\u001b[0m,\n",
              "            \u001b[32m'_collection_name'\u001b[0m: \u001b[32m'PMarca Blogs'\u001b[0m\n",
              "        \u001b[1m}\u001b[0m\n",
              "    \u001b[1m)\u001b[0m,\n",
              "    \u001b[1;35mDocument\u001b[0m\u001b[1m(\u001b[0m\n",
              "        \u001b[33mpage_content\u001b[0m=\u001b[32m'watching carefully — if everyone agrees right up front that\\nwhatever you are doing makes \u001b[0m\n",
              "\u001b[32mtotal sense, it probably isn’t a new\\nand radical enough idea to justify a new company.'\u001b[0m,\n",
              "        \u001b[33mmetadata\u001b[0m=\u001b[1m{\u001b[0m\n",
              "            \u001b[32m'source'\u001b[0m: \u001b[32m'https://d1lamhf6l6yk6d.cloudfront.net/uploads/2021/08/The-pmarca-Blog-Archives.pdf'\u001b[0m,\n",
              "            \u001b[32m'file_path'\u001b[0m: \u001b[32m'https://d1lamhf6l6yk6d.cloudfront.net/uploads/2021/08/The-pmarca-Blog-Archives.pdf'\u001b[0m,\n",
              "            \u001b[32m'page'\u001b[0m: \u001b[1;36m152\u001b[0m,\n",
              "            \u001b[32m'total_pages'\u001b[0m: \u001b[1;36m195\u001b[0m,\n",
              "            \u001b[32m'format'\u001b[0m: \u001b[32m'PDF 1.3'\u001b[0m,\n",
              "            \u001b[32m'title'\u001b[0m: \u001b[32m'The Pmarca Blog Archives'\u001b[0m,\n",
              "            \u001b[32m'author'\u001b[0m: \u001b[32m''\u001b[0m,\n",
              "            \u001b[32m'subject'\u001b[0m: \u001b[32m''\u001b[0m,\n",
              "            \u001b[32m'keywords'\u001b[0m: \u001b[32m''\u001b[0m,\n",
              "            \u001b[32m'creator'\u001b[0m: \u001b[32m''\u001b[0m,\n",
              "            \u001b[32m'producer'\u001b[0m: \u001b[32m'Mac OS X 10.10 Quartz PDFContext'\u001b[0m,\n",
              "            \u001b[32m'creationDate'\u001b[0m: \u001b[32m\"D:20150110020418Z00'00'\"\u001b[0m,\n",
              "            \u001b[32m'modDate'\u001b[0m: \u001b[32m\"D:20150110020418Z00'00'\"\u001b[0m,\n",
              "            \u001b[32m'trapped'\u001b[0m: \u001b[32m''\u001b[0m,\n",
              "            \u001b[32m'_id'\u001b[0m: \u001b[32m'4882d5257fae4fb889c945f954517c67'\u001b[0m,\n",
              "            \u001b[32m'_collection_name'\u001b[0m: \u001b[32m'PMarca Blogs'\u001b[0m\n",
              "        \u001b[1m}\u001b[0m\n",
              "    \u001b[1m)\u001b[0m,\n",
              "    \u001b[1;35mDocument\u001b[0m\u001b[1m(\u001b[0m\n",
              "        \u001b[33mpage_content\u001b[0m=\u001b[32m'Third rule:\\nIn a rapidly changing Held like technology, the best place to\\nget experience \u001b[0m\n",
              "\u001b[32mwhen you’re starting out is in younger, high-\\ngrowth companies.'\u001b[0m,\n",
              "        \u001b[33mmetadata\u001b[0m=\u001b[1m{\u001b[0m\n",
              "            \u001b[32m'source'\u001b[0m: \u001b[32m'https://d1lamhf6l6yk6d.cloudfront.net/uploads/2021/08/The-pmarca-Blog-Archives.pdf'\u001b[0m,\n",
              "            \u001b[32m'file_path'\u001b[0m: \u001b[32m'https://d1lamhf6l6yk6d.cloudfront.net/uploads/2021/08/The-pmarca-Blog-Archives.pdf'\u001b[0m,\n",
              "            \u001b[32m'page'\u001b[0m: \u001b[1;36m127\u001b[0m,\n",
              "            \u001b[32m'total_pages'\u001b[0m: \u001b[1;36m195\u001b[0m,\n",
              "            \u001b[32m'format'\u001b[0m: \u001b[32m'PDF 1.3'\u001b[0m,\n",
              "            \u001b[32m'title'\u001b[0m: \u001b[32m'The Pmarca Blog Archives'\u001b[0m,\n",
              "            \u001b[32m'author'\u001b[0m: \u001b[32m''\u001b[0m,\n",
              "            \u001b[32m'subject'\u001b[0m: \u001b[32m''\u001b[0m,\n",
              "            \u001b[32m'keywords'\u001b[0m: \u001b[32m''\u001b[0m,\n",
              "            \u001b[32m'creator'\u001b[0m: \u001b[32m''\u001b[0m,\n",
              "            \u001b[32m'producer'\u001b[0m: \u001b[32m'Mac OS X 10.10 Quartz PDFContext'\u001b[0m,\n",
              "            \u001b[32m'creationDate'\u001b[0m: \u001b[32m\"D:20150110020418Z00'00'\"\u001b[0m,\n",
              "            \u001b[32m'modDate'\u001b[0m: \u001b[32m\"D:20150110020418Z00'00'\"\u001b[0m,\n",
              "            \u001b[32m'trapped'\u001b[0m: \u001b[32m''\u001b[0m,\n",
              "            \u001b[32m'_id'\u001b[0m: \u001b[32m'b41d51ecec8342de985f7df1bd4b2ca9'\u001b[0m,\n",
              "            \u001b[32m'_collection_name'\u001b[0m: \u001b[32m'PMarca Blogs'\u001b[0m\n",
              "        \u001b[1m}\u001b[0m\n",
              "    \u001b[1m)\u001b[0m,\n",
              "    \u001b[1;35mDocument\u001b[0m\u001b[1m(\u001b[0m\n",
              "        \u001b[33mpage_content\u001b[0m=\u001b[32m'the existing order — and make sure that those forces of change\\nhave a reasonable chance at \u001b[0m\n",
              "\u001b[32msucceeding.\\nSecond rule of thumb:\\nOnce you have picked an industry, get right to the center of it'\u001b[0m,\n",
              "        \u001b[33mmetadata\u001b[0m=\u001b[1m{\u001b[0m\n",
              "            \u001b[32m'source'\u001b[0m: \u001b[32m'https://d1lamhf6l6yk6d.cloudfront.net/uploads/2021/08/The-pmarca-Blog-Archives.pdf'\u001b[0m,\n",
              "            \u001b[32m'file_path'\u001b[0m: \u001b[32m'https://d1lamhf6l6yk6d.cloudfront.net/uploads/2021/08/The-pmarca-Blog-Archives.pdf'\u001b[0m,\n",
              "            \u001b[32m'page'\u001b[0m: \u001b[1;36m125\u001b[0m,\n",
              "            \u001b[32m'total_pages'\u001b[0m: \u001b[1;36m195\u001b[0m,\n",
              "            \u001b[32m'format'\u001b[0m: \u001b[32m'PDF 1.3'\u001b[0m,\n",
              "            \u001b[32m'title'\u001b[0m: \u001b[32m'The Pmarca Blog Archives'\u001b[0m,\n",
              "            \u001b[32m'author'\u001b[0m: \u001b[32m''\u001b[0m,\n",
              "            \u001b[32m'subject'\u001b[0m: \u001b[32m''\u001b[0m,\n",
              "            \u001b[32m'keywords'\u001b[0m: \u001b[32m''\u001b[0m,\n",
              "            \u001b[32m'creator'\u001b[0m: \u001b[32m''\u001b[0m,\n",
              "            \u001b[32m'producer'\u001b[0m: \u001b[32m'Mac OS X 10.10 Quartz PDFContext'\u001b[0m,\n",
              "            \u001b[32m'creationDate'\u001b[0m: \u001b[32m\"D:20150110020418Z00'00'\"\u001b[0m,\n",
              "            \u001b[32m'modDate'\u001b[0m: \u001b[32m\"D:20150110020418Z00'00'\"\u001b[0m,\n",
              "            \u001b[32m'trapped'\u001b[0m: \u001b[32m''\u001b[0m,\n",
              "            \u001b[32m'_id'\u001b[0m: \u001b[32m'801db54cf35c4c049bf110712f8a7c64'\u001b[0m,\n",
              "            \u001b[32m'_collection_name'\u001b[0m: \u001b[32m'PMarca Blogs'\u001b[0m\n",
              "        \u001b[1m}\u001b[0m\n",
              "    \u001b[1m)\u001b[0m\n",
              "\u001b[1m]\u001b[0m\n"
            ]
          },
          "metadata": {},
          "output_type": "display_data"
        }
      ],
      "source": [
        "question = \"What did Pink Floyd have to say about how to proceed when investing in a new industry?\"\n",
        "\n",
        "result = retrieval_augmented_qa_chain.invoke({\"question\": question})\n",
        "\n",
        "print(result[\"response\"].content)\n",
        "print(result[\"context\"])"
      ]
    },
    {
      "cell_type": "markdown",
      "metadata": {
        "id": "a-XYZueEP42k"
      },
      "source": [
        "We can already see that there are some improvements we could make here.\n",
        "\n",
        "For now, let's switch gears to RAGAS to see how we can leverage that tool to provide us insight into how our pipeline is performing!"
      ]
    },
    {
      "cell_type": "markdown",
      "metadata": {
        "id": "EOECHyzHRqDw"
      },
      "source": [
        "## Task 4: Synthetic Dataset Generation for Evaluation using Ragas\n",
        "\n",
        "Ragas is a powerful library that lets us evaluate our RAG pipeline by collecting input/output/context triplets and obtaining metrics relating to a number of different aspects of our RAG pipeline.\n",
        "\n",
        "We'll be evaluating on every core metric today, but in order to do that - we'll need to create a test set. Luckily for us, Ragas can do that directly!"
      ]
    },
    {
      "cell_type": "markdown",
      "metadata": {
        "id": "KqXQ0jweWJOu"
      },
      "source": [
        "### Synthetic Test Set Generation\n",
        "\n",
        "We can leverage Ragas' [`Synthetic Test Data generation`](https://docs.ragas.io/en/stable/concepts/testset_generation.html) functionality to generate our own synthetic QC pairs - as well as a synthetic ground truth - quite easily!"
      ]
    },
    {
      "cell_type": "code",
      "execution_count": 21,
      "metadata": {
        "id": "nVk5SlU9znXe"
      },
      "outputs": [],
      "source": [
        "loader = PyMuPDFLoader(\n",
        "    \"https://d1lamhf6l6yk6d.cloudfront.net/uploads/2021/08/The-pmarca-Blog-Archives.pdf\",\n",
        ")\n",
        "\n",
        "eval_documents = loader.load()\n",
        "\n",
        "text_splitter_eval = RecursiveCharacterTextSplitter(chunk_size=600, chunk_overlap=50)\n",
        "\n",
        "eval_documents = text_splitter_eval.split_documents(eval_documents)"
      ]
    },
    {
      "cell_type": "markdown",
      "metadata": {
        "id": "K7rOQkxhzrq3"
      },
      "source": [
        "#### ❓ Question #2:\n",
        "\n",
        "Why is it important to split our documents using different parameters when creating our synthetic data?"
      ]
    },
    {
      "cell_type": "markdown",
      "metadata": {},
      "source": [
        "#### Answer #2:\n",
        "\n",
        "It is important to split our documents using different parameters when creating our synthetic data because it allows us to test the performance of our pipeline under different conditions, similar to the train / test split in machine learning."
      ]
    },
    {
      "cell_type": "code",
      "execution_count": 22,
      "metadata": {
        "colab": {
          "base_uri": "https://localhost:8080/"
        },
        "id": "hiAPYw-hz-zo",
        "outputId": "fc8c6829-5c53-4eb1-8407-1545f5a7d023"
      },
      "outputs": [
        {
          "data": {
            "text/html": [
              "<pre style=\"white-space:pre;overflow-x:auto;line-height:normal;font-family:Menlo,'DejaVu Sans Mono',consolas,'Courier New',monospace\"></pre>\n"
            ],
            "text/plain": []
          },
          "metadata": {},
          "output_type": "display_data"
        },
        {
          "data": {
            "text/plain": [
              "\u001b[1;36m624\u001b[0m"
            ]
          },
          "execution_count": 22,
          "metadata": {},
          "output_type": "execute_result"
        }
      ],
      "source": [
        "len(eval_documents)"
      ]
    },
    {
      "cell_type": "markdown",
      "metadata": {
        "id": "HYCrVMW9Blda"
      },
      "source": [
        "\n",
        "> NOTE: 🛑 Using this notebook as presented will occur a charge of ~$3USD from OpenAI usage. Most of this cost is produced by the Synthetic Data Generation step - if you want to reduce costs, please use the provided commented code to leverage GPT-3.5-Turbo as the critic_llm. If you're attempting to create a lot of samples please be aware of cost, as well as rate limits. 🛑"
      ]
    },
    {
      "cell_type": "code",
      "execution_count": 23,
      "metadata": {
        "colab": {
          "base_uri": "https://localhost:8080/",
          "height": 1000,
          "referenced_widgets": [
            "f75fdd56268a4b83a7fb7e4a3b2cce82",
            "1fb5a4b71deb406fa2f342c88b9e4e1d",
            "37ec9b5c847749439d7c155ac3b1ec68",
            "1317f4e20e1c4574a360345b427c3e8a",
            "2aa53858803d4ad39113009d86dd67fc",
            "7e1d22c19aff4c768d643c249e425d00",
            "3a498872a68049329b4d206629b9b3bf",
            "89a7c333d0b241169dc29ed998b2c9c4",
            "88c8557741734e59a6099bb5fa260f6e",
            "92ef10fab64c4f40a93da3d31b572016",
            "3b43c3f561e34d019007ac9a0125b28d",
            "05ab48866b5d49df9567ce9cbda5ee2e",
            "49c1ef316e404052a7c8528781db3f9a",
            "2dcb3e2fdf164e35a27a79cfae65933a",
            "202f4244384a4501bfc1ffa50af96a1f",
            "d93698b0506743ff98fdb998cfb7080a",
            "19acd28bfa2e4a7a83bc42faea5de770",
            "356b929fa8dc42538767c58dcce12217",
            "60a663f8736a43bcb47ac6c5f37ec597",
            "e6edc46811064de2b74a6a477c4a44b7",
            "a10a7577a99b4683a1d59a09d88f93a1",
            "444bc7dae1aa4e098b79655428599310"
          ]
        },
        "id": "IXc6sMglSej_",
        "outputId": "1d4904f0-9674-448a-9af3-f99da62cc8f3"
      },
      "outputs": [],
      "source": [
        "from ragas.testset.generator import TestsetGenerator\n",
        "from ragas.testset.evolutions import simple, reasoning, multi_context\n",
        "from langchain_openai import ChatOpenAI, OpenAIEmbeddings\n",
        "\n",
        "generator_llm = ChatOpenAI(model=\"gpt-3.5-turbo-16k\")\n",
        "# critic_llm = ChatOpenAI(model=\"gpt-3.5-turbo\") <--- If you don't have GPT-4 access, or to reduce cost/rate limiting issues.\n",
        "critic_llm = ChatOpenAI(model=\"gpt-4o\")\n",
        "embeddings = OpenAIEmbeddings()\n",
        "\n",
        "generator = TestsetGenerator.from_langchain(generator_llm, critic_llm, embeddings)\n",
        "\n",
        "distributions = {simple: 0.5, multi_context: 0.4, reasoning: 0.1}"
      ]
    },
    {
      "cell_type": "code",
      "execution_count": 24,
      "metadata": {},
      "outputs": [
        {
          "data": {
            "application/vnd.jupyter.widget-view+json": {
              "model_id": "3adcd5dbffc64b00aa8c17587700d9f7",
              "version_major": 2,
              "version_minor": 0
            },
            "text/plain": [
              "embedding nodes:   0%|          | 0/1248 [00:00<?, ?it/s]"
            ]
          },
          "metadata": {},
          "output_type": "display_data"
        },
        {
          "name": "stderr",
          "output_type": "stream",
          "text": [
            "Filename and doc_id are the same for all nodes.\n"
          ]
        },
        {
          "data": {
            "application/vnd.jupyter.widget-view+json": {
              "model_id": "c800ece8be9b46b29b06fa89212e3138",
              "version_major": 2,
              "version_minor": 0
            },
            "text/plain": [
              "Generating:   0%|          | 0/20 [00:00<?, ?it/s]"
            ]
          },
          "metadata": {},
          "output_type": "display_data"
        },
        {
          "data": {
            "text/html": [
              "<pre style=\"white-space:pre;overflow-x:auto;line-height:normal;font-family:Menlo,'DejaVu Sans Mono',consolas,'Courier New',monospace\"></pre>\n"
            ],
            "text/plain": []
          },
          "metadata": {},
          "output_type": "display_data"
        },
        {
          "data": {
            "text/html": [
              "<div>\n",
              "<style scoped>\n",
              "    .dataframe tbody tr th:only-of-type {\n",
              "        vertical-align: middle;\n",
              "    }\n",
              "\n",
              "    .dataframe tbody tr th {\n",
              "        vertical-align: top;\n",
              "    }\n",
              "\n",
              "    .dataframe thead th {\n",
              "        text-align: right;\n",
              "    }\n",
              "</style>\n",
              "<table border=\"1\" class=\"dataframe\">\n",
              "  <thead>\n",
              "    <tr style=\"text-align: right;\">\n",
              "      <th></th>\n",
              "      <th>question</th>\n",
              "      <th>contexts</th>\n",
              "      <th>ground_truth</th>\n",
              "      <th>evolution_type</th>\n",
              "      <th>metadata</th>\n",
              "      <th>episode_done</th>\n",
              "    </tr>\n",
              "  </thead>\n",
              "  <tbody>\n",
              "    <tr>\n",
              "      <th>0</th>\n",
              "      <td>What are the criteria for evaluating candidate...</td>\n",
              "      <td>[How to hire the best people you've\\never work...</td>\n",
              "      <td>nan</td>\n",
              "      <td>simple</td>\n",
              "      <td>[{'source': 'https://d1lamhf6l6yk6d.cloudfront...</td>\n",
              "      <td>True</td>\n",
              "    </tr>\n",
              "    <tr>\n",
              "      <th>1</th>\n",
              "      <td>How does the reluctance to change early-formed...</td>\n",
              "      <td>[Five: Inconsistency-Avoidance Tendency\\n[Peop...</td>\n",
              "      <td>The reluctance to change early-formed habits c...</td>\n",
              "      <td>simple</td>\n",
              "      <td>[{'source': 'https://d1lamhf6l6yk6d.cloudfront...</td>\n",
              "      <td>True</td>\n",
              "    </tr>\n",
              "    <tr>\n",
              "      <th>2</th>\n",
              "      <td>How have modern programming technologies contr...</td>\n",
              "      <td>[late 90’s — due to commodity hardware, open s...</td>\n",
              "      <td>Modern programming technologies have contribut...</td>\n",
              "      <td>simple</td>\n",
              "      <td>[{'source': 'https://d1lamhf6l6yk6d.cloudfront...</td>\n",
              "      <td>True</td>\n",
              "    </tr>\n",
              "    <tr>\n",
              "      <th>3</th>\n",
              "      <td>What are some potential unanticipated setbacks...</td>\n",
              "      <td>[Here’s why you shouldn’t do that:\\nWhat are t...</td>\n",
              "      <td>You may have unanticipated setbacks within you...</td>\n",
              "      <td>simple</td>\n",
              "      <td>[{'source': 'https://d1lamhf6l6yk6d.cloudfront...</td>\n",
              "      <td>True</td>\n",
              "    </tr>\n",
              "    <tr>\n",
              "      <th>4</th>\n",
              "      <td>Why is geographic locality still important in ...</td>\n",
              "      <td>[is a mistake. A lot of people — those who don...</td>\n",
              "      <td>Geographic locality is still important in acce...</td>\n",
              "      <td>simple</td>\n",
              "      <td>[{'source': 'https://d1lamhf6l6yk6d.cloudfront...</td>\n",
              "      <td>True</td>\n",
              "    </tr>\n",
              "    <tr>\n",
              "      <th>5</th>\n",
              "      <td>What factors determine the peak age for creati...</td>\n",
              "      <td>[ods when productivity is highest, the peak ag...</td>\n",
              "      <td>The expected age optimum for quantity and qual...</td>\n",
              "      <td>simple</td>\n",
              "      <td>[{'source': 'https://d1lamhf6l6yk6d.cloudfront...</td>\n",
              "      <td>True</td>\n",
              "    </tr>\n",
              "    <tr>\n",
              "      <th>6</th>\n",
              "      <td>What is the negative impact of a hyper-control...</td>\n",
              "      <td>[added humor value.]\\nWhile I enjoyed Marc’s p...</td>\n",
              "      <td>The negative impact of a hyper-controlling man...</td>\n",
              "      <td>simple</td>\n",
              "      <td>[{'source': 'https://d1lamhf6l6yk6d.cloudfront...</td>\n",
              "      <td>True</td>\n",
              "    </tr>\n",
              "    <tr>\n",
              "      <th>7</th>\n",
              "      <td>How important is it for a startup to focus on ...</td>\n",
              "      <td>[developing a large market, as opposed to Xght...</td>\n",
              "      <td>Focusing on developing a large market is impor...</td>\n",
              "      <td>simple</td>\n",
              "      <td>[{'source': 'https://d1lamhf6l6yk6d.cloudfront...</td>\n",
              "      <td>True</td>\n",
              "    </tr>\n",
              "    <tr>\n",
              "      <th>8</th>\n",
              "      <td>What is the best way to develop contacts with ...</td>\n",
              "      <td>[and identifying those VCs and screening out a...</td>\n",
              "      <td>The best way to develop contacts with VCs, in ...</td>\n",
              "      <td>simple</td>\n",
              "      <td>[{'source': 'https://d1lamhf6l6yk6d.cloudfront...</td>\n",
              "      <td>True</td>\n",
              "    </tr>\n",
              "    <tr>\n",
              "      <th>9</th>\n",
              "      <td>What are the benefits of restructuring in term...</td>\n",
              "      <td>[redesign is that you want to tolerate overlap...</td>\n",
              "      <td>By reducing the size of a team, restructuring ...</td>\n",
              "      <td>simple</td>\n",
              "      <td>[{'source': 'https://d1lamhf6l6yk6d.cloudfront...</td>\n",
              "      <td>True</td>\n",
              "    </tr>\n",
              "    <tr>\n",
              "      <th>10</th>\n",
              "      <td>What options are available for someone startin...</td>\n",
              "      <td>[exposed to the best people and the best oppor...</td>\n",
              "      <td>If someone starts at a community college, they...</td>\n",
              "      <td>multi_context</td>\n",
              "      <td>[{'source': 'https://d1lamhf6l6yk6d.cloudfront...</td>\n",
              "      <td>True</td>\n",
              "    </tr>\n",
              "    <tr>\n",
              "      <th>11</th>\n",
              "      <td>What benefits does a pre-planned list of quest...</td>\n",
              "      <td>[to each interviewer ahead of time.\\nI do this...</td>\n",
              "      <td>By having a pre-planned list of questions, int...</td>\n",
              "      <td>multi_context</td>\n",
              "      <td>[{'source': 'https://d1lamhf6l6yk6d.cloudfront...</td>\n",
              "      <td>True</td>\n",
              "    </tr>\n",
              "    <tr>\n",
              "      <th>12</th>\n",
              "      <td>What factors should startups consider when det...</td>\n",
              "      <td>[developing a large market, as opposed to Xght...</td>\n",
              "      <td>Startups should consider the size of the marke...</td>\n",
              "      <td>multi_context</td>\n",
              "      <td>[{'source': 'https://d1lamhf6l6yk6d.cloudfront...</td>\n",
              "      <td>True</td>\n",
              "    </tr>\n",
              "    <tr>\n",
              "      <th>13</th>\n",
              "      <td>What are the risks of hiring an executive from...</td>\n",
              "      <td>[into cocky. If a VC’s ideal investment is a c...</td>\n",
              "      <td>Beware hiring a big company executive for a st...</td>\n",
              "      <td>multi_context</td>\n",
              "      <td>[{'source': 'https://d1lamhf6l6yk6d.cloudfront...</td>\n",
              "      <td>True</td>\n",
              "    </tr>\n",
              "    <tr>\n",
              "      <th>14</th>\n",
              "      <td>Why is offering generous compensation importan...</td>\n",
              "      <td>[situation while you are addressing the deeper...</td>\n",
              "      <td>nan</td>\n",
              "      <td>multi_context</td>\n",
              "      <td>[{'source': 'https://d1lamhf6l6yk6d.cloudfront...</td>\n",
              "      <td>True</td>\n",
              "    </tr>\n",
              "    <tr>\n",
              "      <th>15</th>\n",
              "      <td>What challenges may arise in a startup's UI de...</td>\n",
              "      <td>[structure that any established company has.\\n...</td>\n",
              "      <td>In a startup, it is easy for the code to not g...</td>\n",
              "      <td>multi_context</td>\n",
              "      <td>[{'source': 'https://d1lamhf6l6yk6d.cloudfront...</td>\n",
              "      <td>True</td>\n",
              "    </tr>\n",
              "    <tr>\n",
              "      <th>16</th>\n",
              "      <td>What is the importance of practical skills in ...</td>\n",
              "      <td>[studying whatever you love the most, whether ...</td>\n",
              "      <td>The importance of practical skills in real-lif...</td>\n",
              "      <td>multi_context</td>\n",
              "      <td>[{'source': 'https://d1lamhf6l6yk6d.cloudfront...</td>\n",
              "      <td>True</td>\n",
              "    </tr>\n",
              "    <tr>\n",
              "      <th>17</th>\n",
              "      <td>What factors should be considered when making ...</td>\n",
              "      <td>[the team, not good for the burn rate, and not...</td>\n",
              "      <td>The factors that should be considered when mak...</td>\n",
              "      <td>multi_context</td>\n",
              "      <td>[{'source': 'https://d1lamhf6l6yk6d.cloudfront...</td>\n",
              "      <td>True</td>\n",
              "    </tr>\n",
              "    <tr>\n",
              "      <th>18</th>\n",
              "      <td>Which folder is for follow-up on commitments m...</td>\n",
              "      <td>[keep three standing email folders: Pending, R...</td>\n",
              "      <td>Pending</td>\n",
              "      <td>reasoning</td>\n",
              "      <td>[{'source': 'https://d1lamhf6l6yk6d.cloudfront...</td>\n",
              "      <td>True</td>\n",
              "    </tr>\n",
              "    <tr>\n",
              "      <th>19</th>\n",
              "      <td>How does luck affect the perception of success...</td>\n",
              "      <td>[you plays a huge role in the diWerence betwee...</td>\n",
              "      <td>If luck plays a significant role in the succes...</td>\n",
              "      <td>reasoning</td>\n",
              "      <td>[{'source': 'https://d1lamhf6l6yk6d.cloudfront...</td>\n",
              "      <td>True</td>\n",
              "    </tr>\n",
              "  </tbody>\n",
              "</table>\n",
              "</div>"
            ],
            "text/plain": [
              "\n",
              "                                             question  \\\n",
              "\u001b[1;36m0\u001b[0m   What are the criteria for evaluating candidate\u001b[33m...\u001b[0m   \n",
              "\u001b[1;36m1\u001b[0m   How does the reluctance to change early-formed\u001b[33m...\u001b[0m   \n",
              "\u001b[1;36m2\u001b[0m   How have modern programming technologies contr\u001b[33m...\u001b[0m   \n",
              "\u001b[1;36m3\u001b[0m   What are some potential unanticipated setbacks\u001b[33m...\u001b[0m   \n",
              "\u001b[1;36m4\u001b[0m   Why is geographic locality still important in \u001b[33m...\u001b[0m   \n",
              "\u001b[1;36m5\u001b[0m   What factors determine the peak age for creati\u001b[33m...\u001b[0m   \n",
              "\u001b[1;36m6\u001b[0m   What is the negative impact of a hyper-control\u001b[33m...\u001b[0m   \n",
              "\u001b[1;36m7\u001b[0m   How important is it for a startup to focus on \u001b[33m...\u001b[0m   \n",
              "\u001b[1;36m8\u001b[0m   What is the best way to develop contacts with \u001b[33m...\u001b[0m   \n",
              "\u001b[1;36m9\u001b[0m   What are the benefits of restructuring in term\u001b[33m...\u001b[0m   \n",
              "\u001b[1;36m10\u001b[0m  What options are available for someone startin\u001b[33m...\u001b[0m   \n",
              "\u001b[1;36m11\u001b[0m  What benefits does a pre-planned list of quest\u001b[33m...\u001b[0m   \n",
              "\u001b[1;36m12\u001b[0m  What factors should startups consider when det\u001b[33m...\u001b[0m   \n",
              "\u001b[1;36m13\u001b[0m  What are the risks of hiring an executive from\u001b[33m...\u001b[0m   \n",
              "\u001b[1;36m14\u001b[0m  Why is offering generous compensation importan\u001b[33m...\u001b[0m   \n",
              "\u001b[1;36m15\u001b[0m  What challenges may arise in a startup's UI de\u001b[33m...\u001b[0m   \n",
              "\u001b[1;36m16\u001b[0m  What is the importance of practical skills in \u001b[33m...\u001b[0m   \n",
              "\u001b[1;36m17\u001b[0m  What factors should be considered when making \u001b[33m...\u001b[0m   \n",
              "\u001b[1;36m18\u001b[0m  Which folder is for follow-up on commitments m\u001b[33m...\u001b[0m   \n",
              "\u001b[1;36m19\u001b[0m  How does luck affect the perception of success\u001b[33m...\u001b[0m   \n",
              "\n",
              "                                             contexts  \\\n",
              "\u001b[1;36m0\u001b[0m   \u001b[1m[\u001b[0mHow to hire the best people you've\\never work\u001b[33m...\u001b[0m   \n",
              "\u001b[1;36m1\u001b[0m   \u001b[1m[\u001b[0mFive: Inconsistency-Avoidance Tendency\\n\u001b[1m[\u001b[0mPeop\u001b[33m...\u001b[0m   \n",
              "\u001b[1;36m2\u001b[0m   \u001b[1m[\u001b[0mlate \u001b[1;36m90\u001b[0m’s — due to commodity hardware, open s\u001b[33m...\u001b[0m   \n",
              "\u001b[1;36m3\u001b[0m   \u001b[1m[\u001b[0mHere’s why you shouldn’t do that:\\nWhat are t\u001b[33m...\u001b[0m   \n",
              "\u001b[1;36m4\u001b[0m   \u001b[1m[\u001b[0mis a mistake. A lot of people — those who don\u001b[33m...\u001b[0m   \n",
              "\u001b[1;36m5\u001b[0m   \u001b[1m[\u001b[0mods when productivity is highest, the peak ag\u001b[33m...\u001b[0m   \n",
              "\u001b[1;36m6\u001b[0m   \u001b[1m[\u001b[0madded humor value.\u001b[1m]\u001b[0m\\nWhile I enjoyed Marc’s p\u001b[33m...\u001b[0m   \n",
              "\u001b[1;36m7\u001b[0m   \u001b[1m[\u001b[0mdeveloping a large market, as opposed to Xght\u001b[33m...\u001b[0m   \n",
              "\u001b[1;36m8\u001b[0m   \u001b[1m[\u001b[0mand identifying those VCs and screening out a\u001b[33m...\u001b[0m   \n",
              "\u001b[1;36m9\u001b[0m   \u001b[1m[\u001b[0mredesign is that you want to tolerate overlap\u001b[33m...\u001b[0m   \n",
              "\u001b[1;36m10\u001b[0m  \u001b[1m[\u001b[0mexposed to the best people and the best oppor\u001b[33m...\u001b[0m   \n",
              "\u001b[1;36m11\u001b[0m  \u001b[1m[\u001b[0mto each interviewer ahead of time.\\nI do this\u001b[33m...\u001b[0m   \n",
              "\u001b[1;36m12\u001b[0m  \u001b[1m[\u001b[0mdeveloping a large market, as opposed to Xght\u001b[33m...\u001b[0m   \n",
              "\u001b[1;36m13\u001b[0m  \u001b[1m[\u001b[0minto cocky. If a VC’s ideal investment is a c\u001b[33m...\u001b[0m   \n",
              "\u001b[1;36m14\u001b[0m  \u001b[1m[\u001b[0msituation while you are addressing the deeper\u001b[33m...\u001b[0m   \n",
              "\u001b[1;36m15\u001b[0m  \u001b[1m[\u001b[0mstructure that any established company has.\\n\u001b[33m...\u001b[0m   \n",
              "\u001b[1;36m16\u001b[0m  \u001b[1m[\u001b[0mstudying whatever you love the most, whether \u001b[33m...\u001b[0m   \n",
              "\u001b[1;36m17\u001b[0m  \u001b[1m[\u001b[0mthe team, not good for the burn rate, and not\u001b[33m...\u001b[0m   \n",
              "\u001b[1;36m18\u001b[0m  \u001b[1m[\u001b[0mkeep three standing email folders: Pending, R\u001b[33m...\u001b[0m   \n",
              "\u001b[1;36m19\u001b[0m  \u001b[1m[\u001b[0myou plays a huge role in the diWerence betwee\u001b[33m...\u001b[0m   \n",
              "\n",
              "                                         ground_truth evolution_type  \\\n",
              "\u001b[1;36m0\u001b[0m                                                 nan         simple   \n",
              "\u001b[1;36m1\u001b[0m   The reluctance to change early-formed habits c\u001b[33m...\u001b[0m         simple   \n",
              "\u001b[1;36m2\u001b[0m   Modern programming technologies have contribut\u001b[33m...\u001b[0m         simple   \n",
              "\u001b[1;36m3\u001b[0m   You may have unanticipated setbacks within you\u001b[33m...\u001b[0m         simple   \n",
              "\u001b[1;36m4\u001b[0m   Geographic locality is still important in acce\u001b[33m...\u001b[0m         simple   \n",
              "\u001b[1;36m5\u001b[0m   The expected age optimum for quantity and qual\u001b[33m...\u001b[0m         simple   \n",
              "\u001b[1;36m6\u001b[0m   The negative impact of a hyper-controlling man\u001b[33m...\u001b[0m         simple   \n",
              "\u001b[1;36m7\u001b[0m   Focusing on developing a large market is impor\u001b[33m...\u001b[0m         simple   \n",
              "\u001b[1;36m8\u001b[0m   The best way to develop contacts with VCs, in \u001b[33m...\u001b[0m         simple   \n",
              "\u001b[1;36m9\u001b[0m   By reducing the size of a team, restructuring \u001b[33m...\u001b[0m         simple   \n",
              "\u001b[1;36m10\u001b[0m  If someone starts at a community college, they\u001b[33m...\u001b[0m  multi_context   \n",
              "\u001b[1;36m11\u001b[0m  By having a pre-planned list of questions, int\u001b[33m...\u001b[0m  multi_context   \n",
              "\u001b[1;36m12\u001b[0m  Startups should consider the size of the marke\u001b[33m...\u001b[0m  multi_context   \n",
              "\u001b[1;36m13\u001b[0m  Beware hiring a big company executive for a st\u001b[33m...\u001b[0m  multi_context   \n",
              "\u001b[1;36m14\u001b[0m                                                nan  multi_context   \n",
              "\u001b[1;36m15\u001b[0m  In a startup, it is easy for the code to not g\u001b[33m...\u001b[0m  multi_context   \n",
              "\u001b[1;36m16\u001b[0m  The importance of practical skills in real-lif\u001b[33m...\u001b[0m  multi_context   \n",
              "\u001b[1;36m17\u001b[0m  The factors that should be considered when mak\u001b[33m...\u001b[0m  multi_context   \n",
              "\u001b[1;36m18\u001b[0m                                            Pending      reasoning   \n",
              "\u001b[1;36m19\u001b[0m  If luck plays a significant role in the succes\u001b[33m...\u001b[0m      reasoning   \n",
              "\n",
              "                                             metadata  episode_done  \n",
              "\u001b[1;36m0\u001b[0m   \u001b[1m[\u001b[0m\u001b[1m{\u001b[0m\u001b[32m'source'\u001b[0m: '\u001b[4;94mhttps://d1lamhf6l6yk6d.cloudfront...\u001b[0m          \u001b[3;92mTrue\u001b[0m  \n",
              "\u001b[1;36m1\u001b[0m   \u001b[1m[\u001b[0m\u001b[1m{\u001b[0m\u001b[32m'source'\u001b[0m: '\u001b[4;94mhttps://d1lamhf6l6yk6d.cloudfront...\u001b[0m          \u001b[3;92mTrue\u001b[0m  \n",
              "\u001b[1;36m2\u001b[0m   \u001b[1m[\u001b[0m\u001b[1m{\u001b[0m\u001b[32m'source'\u001b[0m: '\u001b[4;94mhttps://d1lamhf6l6yk6d.cloudfront...\u001b[0m          \u001b[3;92mTrue\u001b[0m  \n",
              "\u001b[1;36m3\u001b[0m   \u001b[1m[\u001b[0m\u001b[1m{\u001b[0m\u001b[32m'source'\u001b[0m: '\u001b[4;94mhttps://d1lamhf6l6yk6d.cloudfront...\u001b[0m          \u001b[3;92mTrue\u001b[0m  \n",
              "\u001b[1;36m4\u001b[0m   \u001b[1m[\u001b[0m\u001b[1m{\u001b[0m\u001b[32m'source'\u001b[0m: '\u001b[4;94mhttps://d1lamhf6l6yk6d.cloudfront...\u001b[0m          \u001b[3;92mTrue\u001b[0m  \n",
              "\u001b[1;36m5\u001b[0m   \u001b[1m[\u001b[0m\u001b[1m{\u001b[0m\u001b[32m'source'\u001b[0m: '\u001b[4;94mhttps://d1lamhf6l6yk6d.cloudfront...\u001b[0m          \u001b[3;92mTrue\u001b[0m  \n",
              "\u001b[1;36m6\u001b[0m   \u001b[1m[\u001b[0m\u001b[1m{\u001b[0m\u001b[32m'source'\u001b[0m: '\u001b[4;94mhttps://d1lamhf6l6yk6d.cloudfront...\u001b[0m          \u001b[3;92mTrue\u001b[0m  \n",
              "\u001b[1;36m7\u001b[0m   \u001b[1m[\u001b[0m\u001b[1m{\u001b[0m\u001b[32m'source'\u001b[0m: '\u001b[4;94mhttps://d1lamhf6l6yk6d.cloudfront...\u001b[0m          \u001b[3;92mTrue\u001b[0m  \n",
              "\u001b[1;36m8\u001b[0m   \u001b[1m[\u001b[0m\u001b[1m{\u001b[0m\u001b[32m'source'\u001b[0m: '\u001b[4;94mhttps://d1lamhf6l6yk6d.cloudfront...\u001b[0m          \u001b[3;92mTrue\u001b[0m  \n",
              "\u001b[1;36m9\u001b[0m   \u001b[1m[\u001b[0m\u001b[1m{\u001b[0m\u001b[32m'source'\u001b[0m: '\u001b[4;94mhttps://d1lamhf6l6yk6d.cloudfront...\u001b[0m          \u001b[3;92mTrue\u001b[0m  \n",
              "\u001b[1;36m10\u001b[0m  \u001b[1m[\u001b[0m\u001b[1m{\u001b[0m\u001b[32m'source'\u001b[0m: '\u001b[4;94mhttps://d1lamhf6l6yk6d.cloudfront...\u001b[0m          \u001b[3;92mTrue\u001b[0m  \n",
              "\u001b[1;36m11\u001b[0m  \u001b[1m[\u001b[0m\u001b[1m{\u001b[0m\u001b[32m'source'\u001b[0m: '\u001b[4;94mhttps://d1lamhf6l6yk6d.cloudfront...\u001b[0m          \u001b[3;92mTrue\u001b[0m  \n",
              "\u001b[1;36m12\u001b[0m  \u001b[1m[\u001b[0m\u001b[1m{\u001b[0m\u001b[32m'source'\u001b[0m: '\u001b[4;94mhttps://d1lamhf6l6yk6d.cloudfront...\u001b[0m          \u001b[3;92mTrue\u001b[0m  \n",
              "\u001b[1;36m13\u001b[0m  \u001b[1m[\u001b[0m\u001b[1m{\u001b[0m\u001b[32m'source'\u001b[0m: '\u001b[4;94mhttps://d1lamhf6l6yk6d.cloudfront...\u001b[0m          \u001b[3;92mTrue\u001b[0m  \n",
              "\u001b[1;36m14\u001b[0m  \u001b[1m[\u001b[0m\u001b[1m{\u001b[0m\u001b[32m'source'\u001b[0m: '\u001b[4;94mhttps://d1lamhf6l6yk6d.cloudfront...\u001b[0m          \u001b[3;92mTrue\u001b[0m  \n",
              "\u001b[1;36m15\u001b[0m  \u001b[1m[\u001b[0m\u001b[1m{\u001b[0m\u001b[32m'source'\u001b[0m: '\u001b[4;94mhttps://d1lamhf6l6yk6d.cloudfront...\u001b[0m          \u001b[3;92mTrue\u001b[0m  \n",
              "\u001b[1;36m16\u001b[0m  \u001b[1m[\u001b[0m\u001b[1m{\u001b[0m\u001b[32m'source'\u001b[0m: '\u001b[4;94mhttps://d1lamhf6l6yk6d.cloudfront...\u001b[0m          \u001b[3;92mTrue\u001b[0m  \n",
              "\u001b[1;36m17\u001b[0m  \u001b[1m[\u001b[0m\u001b[1m{\u001b[0m\u001b[32m'source'\u001b[0m: '\u001b[4;94mhttps://d1lamhf6l6yk6d.cloudfront...\u001b[0m          \u001b[3;92mTrue\u001b[0m  \n",
              "\u001b[1;36m18\u001b[0m  \u001b[1m[\u001b[0m\u001b[1m{\u001b[0m\u001b[32m'source'\u001b[0m: '\u001b[4;94mhttps://d1lamhf6l6yk6d.cloudfront...\u001b[0m          \u001b[3;92mTrue\u001b[0m  \n",
              "\u001b[1;36m19\u001b[0m  \u001b[1m[\u001b[0m\u001b[1m{\u001b[0m\u001b[32m'source'\u001b[0m: '\u001b[4;94mhttps://d1lamhf6l6yk6d.cloudfront...\u001b[0m          \u001b[3;92mTrue\u001b[0m  "
            ]
          },
          "execution_count": 24,
          "metadata": {},
          "output_type": "execute_result"
        }
      ],
      "source": [
        "testset = generator.generate_with_langchain_docs(\n",
        "    eval_documents, 20, distributions, is_async=True, \n",
        ")\n",
        "testset.to_pandas()\n"
      ]
    },
    {
      "cell_type": "markdown",
      "metadata": {
        "id": "GOIGT0XLz8ze"
      },
      "source": [
        "#### ❓ Question #3:\n",
        "\n",
        "`{simple: 0.5, reasoning: 0.25, multi_context: 0.25}`\n",
        "\n",
        "What exactly does this mapping refer to?\n",
        "\n",
        "> NOTE: Check out the Ragas documentation on this generation process [here](https://docs.ragas.io/en/stable/concepts/testset_generation.html)."
      ]
    },
    {
      "cell_type": "markdown",
      "metadata": {},
      "source": [
        "#### Answer #3:\n",
        "\n",
        "This mapping refers to the distribution of the different types of questions that will be generated in the synthetic test set. "
      ]
    },
    {
      "cell_type": "markdown",
      "metadata": {
        "id": "MemL406rUzBu"
      },
      "source": [
        "Let's look at the output and see what we can learn about it!"
      ]
    },
    {
      "cell_type": "code",
      "execution_count": 25,
      "metadata": {
        "colab": {
          "base_uri": "https://localhost:8080/"
        },
        "id": "RaCDdImVU15s",
        "outputId": "31efbb94-f09d-4d50-8c6e-59202aaeb5c9"
      },
      "outputs": [
        {
          "data": {
            "text/html": [
              "<pre style=\"white-space:pre;overflow-x:auto;line-height:normal;font-family:Menlo,'DejaVu Sans Mono',consolas,'Courier New',monospace\"></pre>\n"
            ],
            "text/plain": []
          },
          "metadata": {},
          "output_type": "display_data"
        },
        {
          "data": {
            "text/plain": [
              "\n",
              "\u001b[1;35mDataRow\u001b[0m\u001b[1m(\u001b[0m\n",
              "    \u001b[33mquestion\u001b[0m=\u001b[32m'What are the criteria for evaluating candidates when hiring the best people?'\u001b[0m,\n",
              "    \u001b[33mcontexts\u001b[0m=\u001b[1m[\u001b[0m\n",
              "        \u001b[32m\"How to hire the best people you've\\never worked with\\nThere are many aspects to hiring great people, and various peo-\\nple smarter than me have written extensively on the topic.\\nSo I’m not going to try to be comprehensive.\\nBut I am going to relay some lessons learned through hard\\nexperience on how to hire the best people you’ve ever worked\\nwith — particularly for a startup.\\nI’m going to cover two key areas in this post:\\n•\\nCriteria: what to value when evaluating candidates.\\n•\\nAnd process: how to actually run the hiring process, and if\\nnecessary the aaermath of making a mistake.\\nCriteria 7rst\"\u001b[0m\n",
              "    \u001b[1m]\u001b[0m,\n",
              "    \u001b[33mground_truth\u001b[0m=\u001b[32m'nan'\u001b[0m,\n",
              "    \u001b[33mevolution_type\u001b[0m=\u001b[32m'simple'\u001b[0m,\n",
              "    \u001b[33mmetadata\u001b[0m=\u001b[1m[\u001b[0m\n",
              "        \u001b[1m{\u001b[0m\n",
              "            \u001b[32m'source'\u001b[0m: \u001b[32m'https://d1lamhf6l6yk6d.cloudfront.net/uploads/2021/08/The-pmarca-Blog-Archives.pdf'\u001b[0m,\n",
              "            \u001b[32m'file_path'\u001b[0m: \u001b[32m'https://d1lamhf6l6yk6d.cloudfront.net/uploads/2021/08/The-pmarca-Blog-Archives.pdf'\u001b[0m,\n",
              "            \u001b[32m'page'\u001b[0m: \u001b[1;36m73\u001b[0m,\n",
              "            \u001b[32m'total_pages'\u001b[0m: \u001b[1;36m195\u001b[0m,\n",
              "            \u001b[32m'format'\u001b[0m: \u001b[32m'PDF 1.3'\u001b[0m,\n",
              "            \u001b[32m'title'\u001b[0m: \u001b[32m'The Pmarca Blog Archives'\u001b[0m,\n",
              "            \u001b[32m'author'\u001b[0m: \u001b[32m''\u001b[0m,\n",
              "            \u001b[32m'subject'\u001b[0m: \u001b[32m''\u001b[0m,\n",
              "            \u001b[32m'keywords'\u001b[0m: \u001b[32m''\u001b[0m,\n",
              "            \u001b[32m'creator'\u001b[0m: \u001b[32m''\u001b[0m,\n",
              "            \u001b[32m'producer'\u001b[0m: \u001b[32m'Mac OS X 10.10 Quartz PDFContext'\u001b[0m,\n",
              "            \u001b[32m'creationDate'\u001b[0m: \u001b[32m\"D:20150110020418Z00'00'\"\u001b[0m,\n",
              "            \u001b[32m'modDate'\u001b[0m: \u001b[32m\"D:20150110020418Z00'00'\"\u001b[0m,\n",
              "            \u001b[32m'trapped'\u001b[0m: \u001b[32m''\u001b[0m\n",
              "        \u001b[1m}\u001b[0m\n",
              "    \u001b[1m]\u001b[0m\n",
              "\u001b[1m)\u001b[0m"
            ]
          },
          "execution_count": 25,
          "metadata": {},
          "output_type": "execute_result"
        }
      ],
      "source": [
        "testset.test_data[0]"
      ]
    },
    {
      "cell_type": "markdown",
      "metadata": {
        "id": "vrPsVwUAWFWB"
      },
      "source": [
        "### Generating Responses with RAG Pipeline\n",
        "\n",
        "Now that we have some QC pairs, and some ground truths, let's evaluate our RAG pipeline using Ragas.\n",
        "\n",
        "The process is, again, quite straightforward - thanks to Ragas and LangChain!\n",
        "\n",
        "Let's start by extracting our questions and ground truths from our create testset.\n",
        "\n",
        "We can start by converting our test dataset into a Pandas DataFrame."
      ]
    },
    {
      "cell_type": "code",
      "execution_count": 26,
      "metadata": {
        "id": "frvzu1YxX8kY"
      },
      "outputs": [],
      "source": [
        "test_df = testset.to_pandas()"
      ]
    },
    {
      "cell_type": "code",
      "execution_count": 27,
      "metadata": {
        "colab": {
          "base_uri": "https://localhost:8080/",
          "height": 1000
        },
        "id": "GFKMIY8IZU8m",
        "outputId": "ed137f4f-df2c-41fa-d868-802d30076ea0"
      },
      "outputs": [
        {
          "data": {
            "text/html": [
              "<pre style=\"white-space:pre;overflow-x:auto;line-height:normal;font-family:Menlo,'DejaVu Sans Mono',consolas,'Courier New',monospace\"></pre>\n"
            ],
            "text/plain": []
          },
          "metadata": {},
          "output_type": "display_data"
        },
        {
          "data": {
            "text/html": [
              "<div>\n",
              "<style scoped>\n",
              "    .dataframe tbody tr th:only-of-type {\n",
              "        vertical-align: middle;\n",
              "    }\n",
              "\n",
              "    .dataframe tbody tr th {\n",
              "        vertical-align: top;\n",
              "    }\n",
              "\n",
              "    .dataframe thead th {\n",
              "        text-align: right;\n",
              "    }\n",
              "</style>\n",
              "<table border=\"1\" class=\"dataframe\">\n",
              "  <thead>\n",
              "    <tr style=\"text-align: right;\">\n",
              "      <th></th>\n",
              "      <th>question</th>\n",
              "      <th>contexts</th>\n",
              "      <th>ground_truth</th>\n",
              "      <th>evolution_type</th>\n",
              "      <th>metadata</th>\n",
              "      <th>episode_done</th>\n",
              "    </tr>\n",
              "  </thead>\n",
              "  <tbody>\n",
              "    <tr>\n",
              "      <th>0</th>\n",
              "      <td>What are the criteria for evaluating candidate...</td>\n",
              "      <td>[How to hire the best people you've\\never work...</td>\n",
              "      <td>nan</td>\n",
              "      <td>simple</td>\n",
              "      <td>[{'source': 'https://d1lamhf6l6yk6d.cloudfront...</td>\n",
              "      <td>True</td>\n",
              "    </tr>\n",
              "    <tr>\n",
              "      <th>1</th>\n",
              "      <td>How does the reluctance to change early-formed...</td>\n",
              "      <td>[Five: Inconsistency-Avoidance Tendency\\n[Peop...</td>\n",
              "      <td>The reluctance to change early-formed habits c...</td>\n",
              "      <td>simple</td>\n",
              "      <td>[{'source': 'https://d1lamhf6l6yk6d.cloudfront...</td>\n",
              "      <td>True</td>\n",
              "    </tr>\n",
              "    <tr>\n",
              "      <th>2</th>\n",
              "      <td>How have modern programming technologies contr...</td>\n",
              "      <td>[late 90’s — due to commodity hardware, open s...</td>\n",
              "      <td>Modern programming technologies have contribut...</td>\n",
              "      <td>simple</td>\n",
              "      <td>[{'source': 'https://d1lamhf6l6yk6d.cloudfront...</td>\n",
              "      <td>True</td>\n",
              "    </tr>\n",
              "    <tr>\n",
              "      <th>3</th>\n",
              "      <td>What are some potential unanticipated setbacks...</td>\n",
              "      <td>[Here’s why you shouldn’t do that:\\nWhat are t...</td>\n",
              "      <td>You may have unanticipated setbacks within you...</td>\n",
              "      <td>simple</td>\n",
              "      <td>[{'source': 'https://d1lamhf6l6yk6d.cloudfront...</td>\n",
              "      <td>True</td>\n",
              "    </tr>\n",
              "    <tr>\n",
              "      <th>4</th>\n",
              "      <td>Why is geographic locality still important in ...</td>\n",
              "      <td>[is a mistake. A lot of people — those who don...</td>\n",
              "      <td>Geographic locality is still important in acce...</td>\n",
              "      <td>simple</td>\n",
              "      <td>[{'source': 'https://d1lamhf6l6yk6d.cloudfront...</td>\n",
              "      <td>True</td>\n",
              "    </tr>\n",
              "    <tr>\n",
              "      <th>5</th>\n",
              "      <td>What factors determine the peak age for creati...</td>\n",
              "      <td>[ods when productivity is highest, the peak ag...</td>\n",
              "      <td>The expected age optimum for quantity and qual...</td>\n",
              "      <td>simple</td>\n",
              "      <td>[{'source': 'https://d1lamhf6l6yk6d.cloudfront...</td>\n",
              "      <td>True</td>\n",
              "    </tr>\n",
              "    <tr>\n",
              "      <th>6</th>\n",
              "      <td>What is the negative impact of a hyper-control...</td>\n",
              "      <td>[added humor value.]\\nWhile I enjoyed Marc’s p...</td>\n",
              "      <td>The negative impact of a hyper-controlling man...</td>\n",
              "      <td>simple</td>\n",
              "      <td>[{'source': 'https://d1lamhf6l6yk6d.cloudfront...</td>\n",
              "      <td>True</td>\n",
              "    </tr>\n",
              "    <tr>\n",
              "      <th>7</th>\n",
              "      <td>How important is it for a startup to focus on ...</td>\n",
              "      <td>[developing a large market, as opposed to Xght...</td>\n",
              "      <td>Focusing on developing a large market is impor...</td>\n",
              "      <td>simple</td>\n",
              "      <td>[{'source': 'https://d1lamhf6l6yk6d.cloudfront...</td>\n",
              "      <td>True</td>\n",
              "    </tr>\n",
              "    <tr>\n",
              "      <th>8</th>\n",
              "      <td>What is the best way to develop contacts with ...</td>\n",
              "      <td>[and identifying those VCs and screening out a...</td>\n",
              "      <td>The best way to develop contacts with VCs, in ...</td>\n",
              "      <td>simple</td>\n",
              "      <td>[{'source': 'https://d1lamhf6l6yk6d.cloudfront...</td>\n",
              "      <td>True</td>\n",
              "    </tr>\n",
              "    <tr>\n",
              "      <th>9</th>\n",
              "      <td>What are the benefits of restructuring in term...</td>\n",
              "      <td>[redesign is that you want to tolerate overlap...</td>\n",
              "      <td>By reducing the size of a team, restructuring ...</td>\n",
              "      <td>simple</td>\n",
              "      <td>[{'source': 'https://d1lamhf6l6yk6d.cloudfront...</td>\n",
              "      <td>True</td>\n",
              "    </tr>\n",
              "    <tr>\n",
              "      <th>10</th>\n",
              "      <td>What options are available for someone startin...</td>\n",
              "      <td>[exposed to the best people and the best oppor...</td>\n",
              "      <td>If someone starts at a community college, they...</td>\n",
              "      <td>multi_context</td>\n",
              "      <td>[{'source': 'https://d1lamhf6l6yk6d.cloudfront...</td>\n",
              "      <td>True</td>\n",
              "    </tr>\n",
              "    <tr>\n",
              "      <th>11</th>\n",
              "      <td>What benefits does a pre-planned list of quest...</td>\n",
              "      <td>[to each interviewer ahead of time.\\nI do this...</td>\n",
              "      <td>By having a pre-planned list of questions, int...</td>\n",
              "      <td>multi_context</td>\n",
              "      <td>[{'source': 'https://d1lamhf6l6yk6d.cloudfront...</td>\n",
              "      <td>True</td>\n",
              "    </tr>\n",
              "    <tr>\n",
              "      <th>12</th>\n",
              "      <td>What factors should startups consider when det...</td>\n",
              "      <td>[developing a large market, as opposed to Xght...</td>\n",
              "      <td>Startups should consider the size of the marke...</td>\n",
              "      <td>multi_context</td>\n",
              "      <td>[{'source': 'https://d1lamhf6l6yk6d.cloudfront...</td>\n",
              "      <td>True</td>\n",
              "    </tr>\n",
              "    <tr>\n",
              "      <th>13</th>\n",
              "      <td>What are the risks of hiring an executive from...</td>\n",
              "      <td>[into cocky. If a VC’s ideal investment is a c...</td>\n",
              "      <td>Beware hiring a big company executive for a st...</td>\n",
              "      <td>multi_context</td>\n",
              "      <td>[{'source': 'https://d1lamhf6l6yk6d.cloudfront...</td>\n",
              "      <td>True</td>\n",
              "    </tr>\n",
              "    <tr>\n",
              "      <th>14</th>\n",
              "      <td>Why is offering generous compensation importan...</td>\n",
              "      <td>[situation while you are addressing the deeper...</td>\n",
              "      <td>nan</td>\n",
              "      <td>multi_context</td>\n",
              "      <td>[{'source': 'https://d1lamhf6l6yk6d.cloudfront...</td>\n",
              "      <td>True</td>\n",
              "    </tr>\n",
              "    <tr>\n",
              "      <th>15</th>\n",
              "      <td>What challenges may arise in a startup's UI de...</td>\n",
              "      <td>[structure that any established company has.\\n...</td>\n",
              "      <td>In a startup, it is easy for the code to not g...</td>\n",
              "      <td>multi_context</td>\n",
              "      <td>[{'source': 'https://d1lamhf6l6yk6d.cloudfront...</td>\n",
              "      <td>True</td>\n",
              "    </tr>\n",
              "    <tr>\n",
              "      <th>16</th>\n",
              "      <td>What is the importance of practical skills in ...</td>\n",
              "      <td>[studying whatever you love the most, whether ...</td>\n",
              "      <td>The importance of practical skills in real-lif...</td>\n",
              "      <td>multi_context</td>\n",
              "      <td>[{'source': 'https://d1lamhf6l6yk6d.cloudfront...</td>\n",
              "      <td>True</td>\n",
              "    </tr>\n",
              "    <tr>\n",
              "      <th>17</th>\n",
              "      <td>What factors should be considered when making ...</td>\n",
              "      <td>[the team, not good for the burn rate, and not...</td>\n",
              "      <td>The factors that should be considered when mak...</td>\n",
              "      <td>multi_context</td>\n",
              "      <td>[{'source': 'https://d1lamhf6l6yk6d.cloudfront...</td>\n",
              "      <td>True</td>\n",
              "    </tr>\n",
              "    <tr>\n",
              "      <th>18</th>\n",
              "      <td>Which folder is for follow-up on commitments m...</td>\n",
              "      <td>[keep three standing email folders: Pending, R...</td>\n",
              "      <td>Pending</td>\n",
              "      <td>reasoning</td>\n",
              "      <td>[{'source': 'https://d1lamhf6l6yk6d.cloudfront...</td>\n",
              "      <td>True</td>\n",
              "    </tr>\n",
              "    <tr>\n",
              "      <th>19</th>\n",
              "      <td>How does luck affect the perception of success...</td>\n",
              "      <td>[you plays a huge role in the diWerence betwee...</td>\n",
              "      <td>If luck plays a significant role in the succes...</td>\n",
              "      <td>reasoning</td>\n",
              "      <td>[{'source': 'https://d1lamhf6l6yk6d.cloudfront...</td>\n",
              "      <td>True</td>\n",
              "    </tr>\n",
              "  </tbody>\n",
              "</table>\n",
              "</div>"
            ],
            "text/plain": [
              "\n",
              "                                             question  \\\n",
              "\u001b[1;36m0\u001b[0m   What are the criteria for evaluating candidate\u001b[33m...\u001b[0m   \n",
              "\u001b[1;36m1\u001b[0m   How does the reluctance to change early-formed\u001b[33m...\u001b[0m   \n",
              "\u001b[1;36m2\u001b[0m   How have modern programming technologies contr\u001b[33m...\u001b[0m   \n",
              "\u001b[1;36m3\u001b[0m   What are some potential unanticipated setbacks\u001b[33m...\u001b[0m   \n",
              "\u001b[1;36m4\u001b[0m   Why is geographic locality still important in \u001b[33m...\u001b[0m   \n",
              "\u001b[1;36m5\u001b[0m   What factors determine the peak age for creati\u001b[33m...\u001b[0m   \n",
              "\u001b[1;36m6\u001b[0m   What is the negative impact of a hyper-control\u001b[33m...\u001b[0m   \n",
              "\u001b[1;36m7\u001b[0m   How important is it for a startup to focus on \u001b[33m...\u001b[0m   \n",
              "\u001b[1;36m8\u001b[0m   What is the best way to develop contacts with \u001b[33m...\u001b[0m   \n",
              "\u001b[1;36m9\u001b[0m   What are the benefits of restructuring in term\u001b[33m...\u001b[0m   \n",
              "\u001b[1;36m10\u001b[0m  What options are available for someone startin\u001b[33m...\u001b[0m   \n",
              "\u001b[1;36m11\u001b[0m  What benefits does a pre-planned list of quest\u001b[33m...\u001b[0m   \n",
              "\u001b[1;36m12\u001b[0m  What factors should startups consider when det\u001b[33m...\u001b[0m   \n",
              "\u001b[1;36m13\u001b[0m  What are the risks of hiring an executive from\u001b[33m...\u001b[0m   \n",
              "\u001b[1;36m14\u001b[0m  Why is offering generous compensation importan\u001b[33m...\u001b[0m   \n",
              "\u001b[1;36m15\u001b[0m  What challenges may arise in a startup's UI de\u001b[33m...\u001b[0m   \n",
              "\u001b[1;36m16\u001b[0m  What is the importance of practical skills in \u001b[33m...\u001b[0m   \n",
              "\u001b[1;36m17\u001b[0m  What factors should be considered when making \u001b[33m...\u001b[0m   \n",
              "\u001b[1;36m18\u001b[0m  Which folder is for follow-up on commitments m\u001b[33m...\u001b[0m   \n",
              "\u001b[1;36m19\u001b[0m  How does luck affect the perception of success\u001b[33m...\u001b[0m   \n",
              "\n",
              "                                             contexts  \\\n",
              "\u001b[1;36m0\u001b[0m   \u001b[1m[\u001b[0mHow to hire the best people you've\\never work\u001b[33m...\u001b[0m   \n",
              "\u001b[1;36m1\u001b[0m   \u001b[1m[\u001b[0mFive: Inconsistency-Avoidance Tendency\\n\u001b[1m[\u001b[0mPeop\u001b[33m...\u001b[0m   \n",
              "\u001b[1;36m2\u001b[0m   \u001b[1m[\u001b[0mlate \u001b[1;36m90\u001b[0m’s — due to commodity hardware, open s\u001b[33m...\u001b[0m   \n",
              "\u001b[1;36m3\u001b[0m   \u001b[1m[\u001b[0mHere’s why you shouldn’t do that:\\nWhat are t\u001b[33m...\u001b[0m   \n",
              "\u001b[1;36m4\u001b[0m   \u001b[1m[\u001b[0mis a mistake. A lot of people — those who don\u001b[33m...\u001b[0m   \n",
              "\u001b[1;36m5\u001b[0m   \u001b[1m[\u001b[0mods when productivity is highest, the peak ag\u001b[33m...\u001b[0m   \n",
              "\u001b[1;36m6\u001b[0m   \u001b[1m[\u001b[0madded humor value.\u001b[1m]\u001b[0m\\nWhile I enjoyed Marc’s p\u001b[33m...\u001b[0m   \n",
              "\u001b[1;36m7\u001b[0m   \u001b[1m[\u001b[0mdeveloping a large market, as opposed to Xght\u001b[33m...\u001b[0m   \n",
              "\u001b[1;36m8\u001b[0m   \u001b[1m[\u001b[0mand identifying those VCs and screening out a\u001b[33m...\u001b[0m   \n",
              "\u001b[1;36m9\u001b[0m   \u001b[1m[\u001b[0mredesign is that you want to tolerate overlap\u001b[33m...\u001b[0m   \n",
              "\u001b[1;36m10\u001b[0m  \u001b[1m[\u001b[0mexposed to the best people and the best oppor\u001b[33m...\u001b[0m   \n",
              "\u001b[1;36m11\u001b[0m  \u001b[1m[\u001b[0mto each interviewer ahead of time.\\nI do this\u001b[33m...\u001b[0m   \n",
              "\u001b[1;36m12\u001b[0m  \u001b[1m[\u001b[0mdeveloping a large market, as opposed to Xght\u001b[33m...\u001b[0m   \n",
              "\u001b[1;36m13\u001b[0m  \u001b[1m[\u001b[0minto cocky. If a VC’s ideal investment is a c\u001b[33m...\u001b[0m   \n",
              "\u001b[1;36m14\u001b[0m  \u001b[1m[\u001b[0msituation while you are addressing the deeper\u001b[33m...\u001b[0m   \n",
              "\u001b[1;36m15\u001b[0m  \u001b[1m[\u001b[0mstructure that any established company has.\\n\u001b[33m...\u001b[0m   \n",
              "\u001b[1;36m16\u001b[0m  \u001b[1m[\u001b[0mstudying whatever you love the most, whether \u001b[33m...\u001b[0m   \n",
              "\u001b[1;36m17\u001b[0m  \u001b[1m[\u001b[0mthe team, not good for the burn rate, and not\u001b[33m...\u001b[0m   \n",
              "\u001b[1;36m18\u001b[0m  \u001b[1m[\u001b[0mkeep three standing email folders: Pending, R\u001b[33m...\u001b[0m   \n",
              "\u001b[1;36m19\u001b[0m  \u001b[1m[\u001b[0myou plays a huge role in the diWerence betwee\u001b[33m...\u001b[0m   \n",
              "\n",
              "                                         ground_truth evolution_type  \\\n",
              "\u001b[1;36m0\u001b[0m                                                 nan         simple   \n",
              "\u001b[1;36m1\u001b[0m   The reluctance to change early-formed habits c\u001b[33m...\u001b[0m         simple   \n",
              "\u001b[1;36m2\u001b[0m   Modern programming technologies have contribut\u001b[33m...\u001b[0m         simple   \n",
              "\u001b[1;36m3\u001b[0m   You may have unanticipated setbacks within you\u001b[33m...\u001b[0m         simple   \n",
              "\u001b[1;36m4\u001b[0m   Geographic locality is still important in acce\u001b[33m...\u001b[0m         simple   \n",
              "\u001b[1;36m5\u001b[0m   The expected age optimum for quantity and qual\u001b[33m...\u001b[0m         simple   \n",
              "\u001b[1;36m6\u001b[0m   The negative impact of a hyper-controlling man\u001b[33m...\u001b[0m         simple   \n",
              "\u001b[1;36m7\u001b[0m   Focusing on developing a large market is impor\u001b[33m...\u001b[0m         simple   \n",
              "\u001b[1;36m8\u001b[0m   The best way to develop contacts with VCs, in \u001b[33m...\u001b[0m         simple   \n",
              "\u001b[1;36m9\u001b[0m   By reducing the size of a team, restructuring \u001b[33m...\u001b[0m         simple   \n",
              "\u001b[1;36m10\u001b[0m  If someone starts at a community college, they\u001b[33m...\u001b[0m  multi_context   \n",
              "\u001b[1;36m11\u001b[0m  By having a pre-planned list of questions, int\u001b[33m...\u001b[0m  multi_context   \n",
              "\u001b[1;36m12\u001b[0m  Startups should consider the size of the marke\u001b[33m...\u001b[0m  multi_context   \n",
              "\u001b[1;36m13\u001b[0m  Beware hiring a big company executive for a st\u001b[33m...\u001b[0m  multi_context   \n",
              "\u001b[1;36m14\u001b[0m                                                nan  multi_context   \n",
              "\u001b[1;36m15\u001b[0m  In a startup, it is easy for the code to not g\u001b[33m...\u001b[0m  multi_context   \n",
              "\u001b[1;36m16\u001b[0m  The importance of practical skills in real-lif\u001b[33m...\u001b[0m  multi_context   \n",
              "\u001b[1;36m17\u001b[0m  The factors that should be considered when mak\u001b[33m...\u001b[0m  multi_context   \n",
              "\u001b[1;36m18\u001b[0m                                            Pending      reasoning   \n",
              "\u001b[1;36m19\u001b[0m  If luck plays a significant role in the succes\u001b[33m...\u001b[0m      reasoning   \n",
              "\n",
              "                                             metadata  episode_done  \n",
              "\u001b[1;36m0\u001b[0m   \u001b[1m[\u001b[0m\u001b[1m{\u001b[0m\u001b[32m'source'\u001b[0m: '\u001b[4;94mhttps://d1lamhf6l6yk6d.cloudfront...\u001b[0m          \u001b[3;92mTrue\u001b[0m  \n",
              "\u001b[1;36m1\u001b[0m   \u001b[1m[\u001b[0m\u001b[1m{\u001b[0m\u001b[32m'source'\u001b[0m: '\u001b[4;94mhttps://d1lamhf6l6yk6d.cloudfront...\u001b[0m          \u001b[3;92mTrue\u001b[0m  \n",
              "\u001b[1;36m2\u001b[0m   \u001b[1m[\u001b[0m\u001b[1m{\u001b[0m\u001b[32m'source'\u001b[0m: '\u001b[4;94mhttps://d1lamhf6l6yk6d.cloudfront...\u001b[0m          \u001b[3;92mTrue\u001b[0m  \n",
              "\u001b[1;36m3\u001b[0m   \u001b[1m[\u001b[0m\u001b[1m{\u001b[0m\u001b[32m'source'\u001b[0m: '\u001b[4;94mhttps://d1lamhf6l6yk6d.cloudfront...\u001b[0m          \u001b[3;92mTrue\u001b[0m  \n",
              "\u001b[1;36m4\u001b[0m   \u001b[1m[\u001b[0m\u001b[1m{\u001b[0m\u001b[32m'source'\u001b[0m: '\u001b[4;94mhttps://d1lamhf6l6yk6d.cloudfront...\u001b[0m          \u001b[3;92mTrue\u001b[0m  \n",
              "\u001b[1;36m5\u001b[0m   \u001b[1m[\u001b[0m\u001b[1m{\u001b[0m\u001b[32m'source'\u001b[0m: '\u001b[4;94mhttps://d1lamhf6l6yk6d.cloudfront...\u001b[0m          \u001b[3;92mTrue\u001b[0m  \n",
              "\u001b[1;36m6\u001b[0m   \u001b[1m[\u001b[0m\u001b[1m{\u001b[0m\u001b[32m'source'\u001b[0m: '\u001b[4;94mhttps://d1lamhf6l6yk6d.cloudfront...\u001b[0m          \u001b[3;92mTrue\u001b[0m  \n",
              "\u001b[1;36m7\u001b[0m   \u001b[1m[\u001b[0m\u001b[1m{\u001b[0m\u001b[32m'source'\u001b[0m: '\u001b[4;94mhttps://d1lamhf6l6yk6d.cloudfront...\u001b[0m          \u001b[3;92mTrue\u001b[0m  \n",
              "\u001b[1;36m8\u001b[0m   \u001b[1m[\u001b[0m\u001b[1m{\u001b[0m\u001b[32m'source'\u001b[0m: '\u001b[4;94mhttps://d1lamhf6l6yk6d.cloudfront...\u001b[0m          \u001b[3;92mTrue\u001b[0m  \n",
              "\u001b[1;36m9\u001b[0m   \u001b[1m[\u001b[0m\u001b[1m{\u001b[0m\u001b[32m'source'\u001b[0m: '\u001b[4;94mhttps://d1lamhf6l6yk6d.cloudfront...\u001b[0m          \u001b[3;92mTrue\u001b[0m  \n",
              "\u001b[1;36m10\u001b[0m  \u001b[1m[\u001b[0m\u001b[1m{\u001b[0m\u001b[32m'source'\u001b[0m: '\u001b[4;94mhttps://d1lamhf6l6yk6d.cloudfront...\u001b[0m          \u001b[3;92mTrue\u001b[0m  \n",
              "\u001b[1;36m11\u001b[0m  \u001b[1m[\u001b[0m\u001b[1m{\u001b[0m\u001b[32m'source'\u001b[0m: '\u001b[4;94mhttps://d1lamhf6l6yk6d.cloudfront...\u001b[0m          \u001b[3;92mTrue\u001b[0m  \n",
              "\u001b[1;36m12\u001b[0m  \u001b[1m[\u001b[0m\u001b[1m{\u001b[0m\u001b[32m'source'\u001b[0m: '\u001b[4;94mhttps://d1lamhf6l6yk6d.cloudfront...\u001b[0m          \u001b[3;92mTrue\u001b[0m  \n",
              "\u001b[1;36m13\u001b[0m  \u001b[1m[\u001b[0m\u001b[1m{\u001b[0m\u001b[32m'source'\u001b[0m: '\u001b[4;94mhttps://d1lamhf6l6yk6d.cloudfront...\u001b[0m          \u001b[3;92mTrue\u001b[0m  \n",
              "\u001b[1;36m14\u001b[0m  \u001b[1m[\u001b[0m\u001b[1m{\u001b[0m\u001b[32m'source'\u001b[0m: '\u001b[4;94mhttps://d1lamhf6l6yk6d.cloudfront...\u001b[0m          \u001b[3;92mTrue\u001b[0m  \n",
              "\u001b[1;36m15\u001b[0m  \u001b[1m[\u001b[0m\u001b[1m{\u001b[0m\u001b[32m'source'\u001b[0m: '\u001b[4;94mhttps://d1lamhf6l6yk6d.cloudfront...\u001b[0m          \u001b[3;92mTrue\u001b[0m  \n",
              "\u001b[1;36m16\u001b[0m  \u001b[1m[\u001b[0m\u001b[1m{\u001b[0m\u001b[32m'source'\u001b[0m: '\u001b[4;94mhttps://d1lamhf6l6yk6d.cloudfront...\u001b[0m          \u001b[3;92mTrue\u001b[0m  \n",
              "\u001b[1;36m17\u001b[0m  \u001b[1m[\u001b[0m\u001b[1m{\u001b[0m\u001b[32m'source'\u001b[0m: '\u001b[4;94mhttps://d1lamhf6l6yk6d.cloudfront...\u001b[0m          \u001b[3;92mTrue\u001b[0m  \n",
              "\u001b[1;36m18\u001b[0m  \u001b[1m[\u001b[0m\u001b[1m{\u001b[0m\u001b[32m'source'\u001b[0m: '\u001b[4;94mhttps://d1lamhf6l6yk6d.cloudfront...\u001b[0m          \u001b[3;92mTrue\u001b[0m  \n",
              "\u001b[1;36m19\u001b[0m  \u001b[1m[\u001b[0m\u001b[1m{\u001b[0m\u001b[32m'source'\u001b[0m: '\u001b[4;94mhttps://d1lamhf6l6yk6d.cloudfront...\u001b[0m          \u001b[3;92mTrue\u001b[0m  "
            ]
          },
          "execution_count": 27,
          "metadata": {},
          "output_type": "execute_result"
        }
      ],
      "source": [
        "test_df"
      ]
    },
    {
      "cell_type": "code",
      "execution_count": 28,
      "metadata": {
        "id": "xAiXbVmLYSoC"
      },
      "outputs": [],
      "source": [
        "test_questions = test_df[\"question\"].values.tolist()\n",
        "test_groundtruths = test_df[\"ground_truth\"].values.tolist()"
      ]
    },
    {
      "cell_type": "markdown",
      "metadata": {
        "id": "aE5rfMLfbqKH"
      },
      "source": [
        "Now we'll generate responses using our RAG pipeline using the questions we've generated - we'll also need to collect our retrieved contexts for each question.\n",
        "\n",
        "We'll do this in a simple loop to see exactly what's happening!"
      ]
    },
    {
      "cell_type": "code",
      "execution_count": 29,
      "metadata": {
        "id": "9_AayvT1dAQN"
      },
      "outputs": [],
      "source": [
        "answers = []\n",
        "contexts = []\n",
        "\n",
        "for question in test_questions:\n",
        "    response = retrieval_augmented_qa_chain.invoke({\"question\": question})\n",
        "    answers.append(response[\"response\"].content)\n",
        "    contexts.append([context.page_content for context in response[\"context\"]])"
      ]
    },
    {
      "cell_type": "markdown",
      "metadata": {
        "id": "opHaHmYDeBfC"
      },
      "source": [
        "Now we can wrap our information in a Hugging Face dataset for use in the Ragas library."
      ]
    },
    {
      "cell_type": "code",
      "execution_count": 30,
      "metadata": {
        "id": "fY48YZITeHy-"
      },
      "outputs": [],
      "source": [
        "from datasets import Dataset\n",
        "\n",
        "response_dataset = Dataset.from_dict(\n",
        "    {\n",
        "        \"question\": test_questions,\n",
        "        \"answer\": answers,\n",
        "        \"contexts\": contexts,\n",
        "        \"ground_truth\": test_groundtruths,\n",
        "    }\n",
        ")"
      ]
    },
    {
      "cell_type": "markdown",
      "metadata": {
        "id": "mmeVvQaZeogE"
      },
      "source": [
        "Let's take a peek and see what that looks like!"
      ]
    },
    {
      "cell_type": "code",
      "execution_count": 31,
      "metadata": {
        "colab": {
          "base_uri": "https://localhost:8080/"
        },
        "id": "pOpydvc8eqNM",
        "outputId": "f924b59d-eb6b-4c1a-9d18-f545c4e2c724"
      },
      "outputs": [
        {
          "data": {
            "text/html": [
              "<pre style=\"white-space:pre;overflow-x:auto;line-height:normal;font-family:Menlo,'DejaVu Sans Mono',consolas,'Courier New',monospace\"></pre>\n"
            ],
            "text/plain": []
          },
          "metadata": {},
          "output_type": "display_data"
        },
        {
          "data": {
            "text/plain": [
              "\n",
              "\u001b[1m{\u001b[0m\n",
              "    \u001b[32m'question'\u001b[0m: \u001b[32m'What are the criteria for evaluating candidates when hiring the best people?'\u001b[0m,\n",
              "    \u001b[32m'answer'\u001b[0m: \u001b[32m'Criteria for evaluating candidates when hiring the best people include hiring for intelligence.'\u001b[0m,\n",
              "    \u001b[32m'contexts'\u001b[0m: \u001b[1m[\u001b[0m\n",
              "        \u001b[32m\"How to hire the best people you've\\never worked with\\nThere are many aspects to hiring great people, and various peo-\\nple smarter than me have written extensively on the topic.\"\u001b[0m,\n",
              "        \u001b[32m'with your team as you interview candidates for the position.\\nThis is one of the best ways for an organization to become really\\ngood at hiring: by iterating the questions, you’re reXning what'\u001b[0m,\n",
              "        \u001b[32m'for everything.\\nNotably, for the really critical open jobs, go out and recruit the\\nright person yourself, or better yet promote from within.'\u001b[0m,\n",
              "        \u001b[32m'necessary the aaermath of making a mistake.\\nCriteria 7rst\\nLots of people will tell you to hire for intelligence.\\nEspecially in this industry.'\u001b[0m\n",
              "    \u001b[1m]\u001b[0m,\n",
              "    \u001b[32m'ground_truth'\u001b[0m: \u001b[32m'nan'\u001b[0m\n",
              "\u001b[1m}\u001b[0m"
            ]
          },
          "execution_count": 31,
          "metadata": {},
          "output_type": "execute_result"
        }
      ],
      "source": [
        "response_dataset[0]"
      ]
    },
    {
      "cell_type": "markdown",
      "metadata": {
        "id": "oM4fmAnsBmL2"
      },
      "source": [
        "# 🤝 Breakout Room Part #2"
      ]
    },
    {
      "cell_type": "markdown",
      "metadata": {
        "id": "xbsFm5FievJI"
      },
      "source": [
        "## Task 1: Evaluating our Pipeline with Ragas\n",
        "\n",
        "Now that we have our response dataset - we can finally get into the \"meat\" of Ragas - evaluation!\n",
        "\n",
        "First, we'll import the desired metrics, then we can use them to evaluate our created dataset!\n",
        "\n",
        "Check out the specific metrics we'll be using in the Ragas documentation:\n",
        "\n",
        "- [Faithfulness](https://docs.ragas.io/en/stable/concepts/metrics/faithfulness.html)\n",
        "- [Answer Relevancy](https://docs.ragas.io/en/stable/concepts/metrics/answer_relevance.html)\n",
        "- [Context Precision](https://docs.ragas.io/en/stable/concepts/metrics/context_precision.html)\n",
        "- [Context Recall](https://docs.ragas.io/en/stable/concepts/metrics/context_recall.html)\n",
        "- [Answer Correctness](https://docs.ragas.io/en/stable/concepts/metrics/answer_correctness.html)\n",
        "\n",
        "See the accompanied presentation for more in-depth explanations about each of the metrics!"
      ]
    },
    {
      "cell_type": "code",
      "execution_count": 32,
      "metadata": {
        "id": "R2PXwyt8e5aW"
      },
      "outputs": [],
      "source": [
        "from ragas import evaluate\n",
        "from ragas.metrics import (\n",
        "    faithfulness,\n",
        "    answer_relevancy,\n",
        "    answer_correctness,\n",
        "    context_recall,\n",
        "    context_precision,\n",
        ")\n",
        "\n",
        "metrics = [\n",
        "    faithfulness,\n",
        "    answer_relevancy,\n",
        "    context_recall,\n",
        "    context_precision,\n",
        "    answer_correctness,\n",
        "]"
      ]
    },
    {
      "cell_type": "code",
      "execution_count": 33,
      "metadata": {},
      "outputs": [
        {
          "data": {
            "text/html": [
              "<pre style=\"white-space:pre;overflow-x:auto;line-height:normal;font-family:Menlo,'DejaVu Sans Mono',consolas,'Courier New',monospace\"></pre>\n"
            ],
            "text/plain": []
          },
          "metadata": {},
          "output_type": "display_data"
        },
        {
          "data": {
            "text/plain": [
              "\n",
              "\u001b[1;35mFaithfulness\u001b[0m\u001b[1m(\u001b[0m\n",
              "    \u001b[33mllm\u001b[0m=\u001b[3;35mNone\u001b[0m,\n",
              "    \u001b[33mname\u001b[0m=\u001b[32m'faithfulness'\u001b[0m,\n",
              "    \u001b[33mevaluation_mode\u001b[0m=\u001b[1m<\u001b[0m\u001b[1;95mEvaluationMode.qac:\u001b[0m\u001b[39m \u001b[0m\u001b[1;36m1\u001b[0m\u001b[39m>,\u001b[0m\n",
              "\u001b[39m    \u001b[0m\u001b[33mnli_statements_message\u001b[0m\u001b[39m=\u001b[0m\u001b[1;35mPrompt\u001b[0m\u001b[1;39m(\u001b[0m\n",
              "\u001b[39m        \u001b[0m\u001b[33mname\u001b[0m\u001b[39m=\u001b[0m\u001b[32m'nli_statements'\u001b[0m\u001b[39m,\u001b[0m\n",
              "\u001b[39m        \u001b[0m\u001b[33minstruction\u001b[0m\u001b[39m=\u001b[0m\u001b[32m'Your task is to judge the faithfulness of a series of statements based on a given context. For each statement you must return verdict as 1 if the statement can be directly inferred based on the context or 0 if the statement can not be directly inferred based on the context.'\u001b[0m\u001b[39m,\u001b[0m\n",
              "\u001b[39m        \u001b[0m\u001b[33moutput_format_instruction\u001b[0m\u001b[39m=\u001b[0m\u001b[32m'The output should be a well-formatted JSON instance that conforms to the JSON schema below.\\n\\nAs an example, for the schema \u001b[0m\u001b[32m{\u001b[0m\u001b[32m\"properties\": \u001b[0m\u001b[32m{\u001b[0m\u001b[32m\"foo\": \u001b[0m\u001b[32m{\u001b[0m\u001b[32m\"title\": \"Foo\", \"description\": \"a list of strings\", \"type\": \"array\", \"items\": \u001b[0m\u001b[32m{\u001b[0m\u001b[32m\"type\": \"string\"\u001b[0m\u001b[32m}\u001b[0m\u001b[32m}\u001b[0m\u001b[32m}\u001b[0m\u001b[32m, \"required\": \u001b[0m\u001b[32m[\u001b[0m\u001b[32m\"foo\"\u001b[0m\u001b[32m]\u001b[0m\u001b[32m}\u001b[0m\u001b[32m\\nthe object \u001b[0m\u001b[32m{\u001b[0m\u001b[32m\"foo\": \u001b[0m\u001b[32m[\u001b[0m\u001b[32m\"bar\", \"baz\"\u001b[0m\u001b[32m]\u001b[0m\u001b[32m}\u001b[0m\u001b[32m is a well-formatted instance of the schema. The object \u001b[0m\u001b[32m{\u001b[0m\u001b[32m\"properties\": \u001b[0m\u001b[32m{\u001b[0m\u001b[32m\"foo\": \u001b[0m\u001b[32m[\u001b[0m\u001b[32m\"bar\", \"baz\"\u001b[0m\u001b[32m]\u001b[0m\u001b[32m}\u001b[0m\u001b[32m}\u001b[0m\u001b[32m is not well-formatted.\\n\\nHere is the output JSON schema:\\n```\\n\u001b[0m\u001b[32m{\u001b[0m\u001b[32m\"type\": \"array\", \"items\": \u001b[0m\u001b[32m{\u001b[0m\u001b[32m\"$ref\": \"#/definitions/StatementFaithfulnessAnswer\"\u001b[0m\u001b[32m}\u001b[0m\u001b[32m, \"definitions\": \u001b[0m\u001b[32m{\u001b[0m\u001b[32m\"StatementFaithfulnessAnswer\": \u001b[0m\u001b[32m{\u001b[0m\u001b[32m\"title\": \"StatementFaithfulnessAnswer\", \"type\": \"object\", \"properties\": \u001b[0m\u001b[32m{\u001b[0m\u001b[32m\"statement\": \u001b[0m\u001b[32m{\u001b[0m\u001b[32m\"title\": \"Statement\", \"description\": \"the original statement, word-by-word\", \"type\": \"string\"\u001b[0m\u001b[32m}\u001b[0m\u001b[32m, \"reason\": \u001b[0m\u001b[32m{\u001b[0m\u001b[32m\"title\": \"Reason\", \"description\": \"the reason of the verdict\", \"type\": \"string\"\u001b[0m\u001b[32m}\u001b[0m\u001b[32m, \"verdict\": \u001b[0m\u001b[32m{\u001b[0m\u001b[32m\"title\": \"Verdict\", \"description\": \"the verdict\u001b[0m\u001b[32m(\u001b[0m\u001b[32m0/1\u001b[0m\u001b[32m)\u001b[0m\u001b[32m of the faithfulness.\", \"type\": \"integer\"\u001b[0m\u001b[32m}\u001b[0m\u001b[32m}\u001b[0m\u001b[32m, \"required\": \u001b[0m\u001b[32m[\u001b[0m\u001b[32m\"statement\", \"reason\", \"verdict\"\u001b[0m\u001b[32m]\u001b[0m\u001b[32m}\u001b[0m\u001b[32m}\u001b[0m\u001b[32m}\u001b[0m\u001b[32m\\n```\\n\\nDo not return any preamble or explanations, return only a pure JSON string surrounded by triple backticks \u001b[0m\u001b[32m(\u001b[0m\u001b[32m```\u001b[0m\u001b[32m)\u001b[0m\u001b[32m.'\u001b[0m\u001b[39m,\u001b[0m\n",
              "\u001b[39m        \u001b[0m\u001b[33mexamples\u001b[0m\u001b[39m=\u001b[0m\u001b[1;39m[\u001b[0m\n",
              "\u001b[39m            \u001b[0m\u001b[1;39m{\u001b[0m\n",
              "\u001b[39m                \u001b[0m\u001b[32m'context'\u001b[0m\u001b[39m: \u001b[0m\u001b[32m'John is a student at XYZ University. He is pursuing a degree in Computer Science. He is enrolled in several courses this semester, including Data Structures, Algorithms, and Database Management. John is a diligent student and spends a significant amount of time studying and completing assignments. He often stays late in the library to work on his projects.'\u001b[0m\u001b[39m,\u001b[0m\n",
              "\u001b[39m                \u001b[0m\u001b[32m'statements'\u001b[0m\u001b[39m: \u001b[0m\u001b[1;39m[\u001b[0m\n",
              "\u001b[39m                    \u001b[0m\u001b[32m'John is majoring in Biology.'\u001b[0m\u001b[39m,\u001b[0m\n",
              "\u001b[39m                    \u001b[0m\u001b[32m'John is taking a course on Artificial Intelligence.'\u001b[0m\u001b[39m,\u001b[0m\n",
              "\u001b[39m                    \u001b[0m\u001b[32m'John is a dedicated student.'\u001b[0m\u001b[39m,\u001b[0m\n",
              "\u001b[39m                    \u001b[0m\u001b[32m'John has a part-time job.'\u001b[0m\n",
              "\u001b[39m                \u001b[0m\u001b[1;39m]\u001b[0m\u001b[39m,\u001b[0m\n",
              "\u001b[39m                \u001b[0m\u001b[32m'answer'\u001b[0m\u001b[39m: \u001b[0m\u001b[1;39m[\u001b[0m\n",
              "\u001b[39m                    \u001b[0m\u001b[1;39m{\u001b[0m\n",
              "\u001b[39m                        \u001b[0m\u001b[32m'statement'\u001b[0m\u001b[39m: \u001b[0m\u001b[32m'John is majoring in Biology.'\u001b[0m\u001b[39m,\u001b[0m\n",
              "\u001b[39m                        \u001b[0m\u001b[32m'reason'\u001b[0m\u001b[39m: \u001b[0m\u001b[32m\"John's major is explicitly mentioned as Computer Science. There is no information suggesting he is majoring in Biology.\"\u001b[0m\u001b[39m,\u001b[0m\n",
              "\u001b[39m                        \u001b[0m\u001b[32m'verdict'\u001b[0m\u001b[39m: \u001b[0m\u001b[1;36m0\u001b[0m\n",
              "\u001b[39m                    \u001b[0m\u001b[1;39m}\u001b[0m\u001b[39m,\u001b[0m\n",
              "\u001b[39m                    \u001b[0m\u001b[1;39m{\u001b[0m\n",
              "\u001b[39m                        \u001b[0m\u001b[32m'statement'\u001b[0m\u001b[39m: \u001b[0m\u001b[32m'John is taking a course on Artificial Intelligence.'\u001b[0m\u001b[39m,\u001b[0m\n",
              "\u001b[39m                        \u001b[0m\u001b[32m'reason'\u001b[0m\u001b[39m: \u001b[0m\u001b[32m'The context mentions the courses John is currently enrolled in, and Artificial Intelligence is not mentioned. Therefore, it cannot be deduced that John is taking a course on AI.'\u001b[0m\u001b[39m,\u001b[0m\n",
              "\u001b[39m                        \u001b[0m\u001b[32m'verdict'\u001b[0m\u001b[39m: \u001b[0m\u001b[1;36m0\u001b[0m\n",
              "\u001b[39m                    \u001b[0m\u001b[1;39m}\u001b[0m\u001b[39m,\u001b[0m\n",
              "\u001b[39m                    \u001b[0m\u001b[1;39m{\u001b[0m\n",
              "\u001b[39m                        \u001b[0m\u001b[32m'statement'\u001b[0m\u001b[39m: \u001b[0m\u001b[32m'John is a dedicated student.'\u001b[0m\u001b[39m,\u001b[0m\n",
              "\u001b[39m                        \u001b[0m\u001b[32m'reason'\u001b[0m\u001b[39m: \u001b[0m\u001b[32m'The context states that he spends a significant amount of time studying and completing assignments. Additionally, it mentions that he often stays late in the library to work on his projects, which implies dedication.'\u001b[0m\u001b[39m,\u001b[0m\n",
              "\u001b[39m                        \u001b[0m\u001b[32m'verdict'\u001b[0m\u001b[39m: \u001b[0m\u001b[1;36m1\u001b[0m\n",
              "\u001b[39m                    \u001b[0m\u001b[1;39m}\u001b[0m\u001b[39m,\u001b[0m\n",
              "\u001b[39m                    \u001b[0m\u001b[1;39m{\u001b[0m\n",
              "\u001b[39m                        \u001b[0m\u001b[32m'statement'\u001b[0m\u001b[39m: \u001b[0m\u001b[32m'John has a part-time job.'\u001b[0m\u001b[39m,\u001b[0m\n",
              "\u001b[39m                        \u001b[0m\u001b[32m'reason'\u001b[0m\u001b[39m: \u001b[0m\u001b[32m'There is no information given in the context about John having a part-time job.'\u001b[0m\u001b[39m,\u001b[0m\n",
              "\u001b[39m                        \u001b[0m\u001b[32m'verdict'\u001b[0m\u001b[39m: \u001b[0m\u001b[1;36m0\u001b[0m\n",
              "\u001b[39m                    \u001b[0m\u001b[1;39m}\u001b[0m\n",
              "\u001b[39m                \u001b[0m\u001b[1;39m]\u001b[0m\n",
              "\u001b[39m            \u001b[0m\u001b[1;39m}\u001b[0m\u001b[39m,\u001b[0m\n",
              "\u001b[39m            \u001b[0m\u001b[1;39m{\u001b[0m\n",
              "\u001b[39m                \u001b[0m\u001b[32m'context'\u001b[0m\u001b[39m: \u001b[0m\u001b[32m'Photosynthesis is a process used by plants, algae, and certain bacteria to convert light energy into chemical energy.'\u001b[0m\u001b[39m,\u001b[0m\n",
              "\u001b[39m                \u001b[0m\u001b[32m'statements'\u001b[0m\u001b[39m: \u001b[0m\u001b[1;39m[\u001b[0m\u001b[32m'Albert Einstein was a genius.'\u001b[0m\u001b[1;39m]\u001b[0m\u001b[39m,\u001b[0m\n",
              "\u001b[39m                \u001b[0m\u001b[32m'answer'\u001b[0m\u001b[39m: \u001b[0m\u001b[1;39m[\u001b[0m\n",
              "\u001b[39m                    \u001b[0m\u001b[1;39m{\u001b[0m\n",
              "\u001b[39m                        \u001b[0m\u001b[32m'statement'\u001b[0m\u001b[39m: \u001b[0m\u001b[32m'Albert Einstein was a genius.'\u001b[0m\u001b[39m,\u001b[0m\n",
              "\u001b[39m                        \u001b[0m\u001b[32m'reason'\u001b[0m\u001b[39m: \u001b[0m\u001b[32m'The context and statement are unrelated'\u001b[0m\u001b[39m,\u001b[0m\n",
              "\u001b[39m                        \u001b[0m\u001b[32m'verdict'\u001b[0m\u001b[39m: \u001b[0m\u001b[1;36m0\u001b[0m\n",
              "\u001b[39m                    \u001b[0m\u001b[1;39m}\u001b[0m\n",
              "\u001b[39m                \u001b[0m\u001b[1;39m]\u001b[0m\n",
              "\u001b[39m            \u001b[0m\u001b[1;39m}\u001b[0m\n",
              "\u001b[39m        \u001b[0m\u001b[1;39m]\u001b[0m\u001b[39m,\u001b[0m\n",
              "\u001b[39m        \u001b[0m\u001b[33minput_keys\u001b[0m\u001b[39m=\u001b[0m\u001b[1;39m[\u001b[0m\u001b[32m'context'\u001b[0m\u001b[39m, \u001b[0m\u001b[32m'statements'\u001b[0m\u001b[1;39m]\u001b[0m\u001b[39m,\u001b[0m\n",
              "\u001b[39m        \u001b[0m\u001b[33moutput_key\u001b[0m\u001b[39m=\u001b[0m\u001b[32m'answer'\u001b[0m\u001b[39m,\u001b[0m\n",
              "\u001b[39m        \u001b[0m\u001b[33moutput_type\u001b[0m\u001b[39m=\u001b[0m\u001b[32m'json'\u001b[0m\u001b[39m,\u001b[0m\n",
              "\u001b[39m        \u001b[0m\u001b[33mlanguage\u001b[0m\u001b[39m=\u001b[0m\u001b[32m'english'\u001b[0m\n",
              "\u001b[39m    \u001b[0m\u001b[1;39m)\u001b[0m\u001b[39m,\u001b[0m\n",
              "\u001b[39m    \u001b[0m\u001b[33mstatement_prompt\u001b[0m\u001b[39m=\u001b[0m\u001b[1;35mPrompt\u001b[0m\u001b[1;39m(\u001b[0m\n",
              "\u001b[39m        \u001b[0m\u001b[33mname\u001b[0m\u001b[39m=\u001b[0m\u001b[32m'long_form_answer'\u001b[0m\u001b[39m,\u001b[0m\n",
              "\u001b[39m        \u001b[0m\u001b[33minstruction\u001b[0m\u001b[39m=\u001b[0m\u001b[32m\"Given\u001b[0m\u001b[32m a question, an answer, and sentences from the answer analyze the complexity of each sentence given under 'sentences' and break down each sentence into one or more fully understandable statements while also ensuring no pronouns are used in each statement. Format the outputs in JSON.\"\u001b[0m\u001b[39m,\u001b[0m\n",
              "\u001b[39m        \u001b[0m\u001b[33moutput_format_instruction\u001b[0m\u001b[39m=\u001b[0m\u001b[32m'The output should be a well-formatted JSON instance that conforms to the JSON schema below.\\n\\nAs an example, for the schema \u001b[0m\u001b[32m{\u001b[0m\u001b[32m\"properties\": \u001b[0m\u001b[32m{\u001b[0m\u001b[32m\"foo\": \u001b[0m\u001b[32m{\u001b[0m\u001b[32m\"title\": \"Foo\", \"description\": \"a list of strings\", \"type\": \"array\", \"items\": \u001b[0m\u001b[32m{\u001b[0m\u001b[32m\"type\": \"string\"\u001b[0m\u001b[32m}\u001b[0m\u001b[32m}\u001b[0m\u001b[32m}\u001b[0m\u001b[32m, \"required\": \u001b[0m\u001b[32m[\u001b[0m\u001b[32m\"foo\"\u001b[0m\u001b[32m]\u001b[0m\u001b[32m}\u001b[0m\u001b[32m\\nthe object \u001b[0m\u001b[32m{\u001b[0m\u001b[32m\"foo\": \u001b[0m\u001b[32m[\u001b[0m\u001b[32m\"bar\", \"baz\"\u001b[0m\u001b[32m]\u001b[0m\u001b[32m}\u001b[0m\u001b[32m is a well-formatted instance of the schema. The object \u001b[0m\u001b[32m{\u001b[0m\u001b[32m\"properties\": \u001b[0m\u001b[32m{\u001b[0m\u001b[32m\"foo\": \u001b[0m\u001b[32m[\u001b[0m\u001b[32m\"bar\", \"baz\"\u001b[0m\u001b[32m]\u001b[0m\u001b[32m}\u001b[0m\u001b[32m}\u001b[0m\u001b[32m is not well-formatted.\\n\\nHere is the output JSON schema:\\n```\\n\u001b[0m\u001b[32m{\u001b[0m\u001b[32m\"type\": \"array\", \"items\": \u001b[0m\u001b[32m{\u001b[0m\u001b[32m\"$ref\": \"#/definitions/Statements\"\u001b[0m\u001b[32m}\u001b[0m\u001b[32m, \"definitions\": \u001b[0m\u001b[32m{\u001b[0m\u001b[32m\"Statements\": \u001b[0m\u001b[32m{\u001b[0m\u001b[32m\"title\": \"Statements\", \"type\": \"object\", \"properties\": \u001b[0m\u001b[32m{\u001b[0m\u001b[32m\"sentence_index\": \u001b[0m\u001b[32m{\u001b[0m\u001b[32m\"title\": \"Sentence Index\", \"description\": \"Index of the sentence from the statement list\", \"type\": \"integer\"\u001b[0m\u001b[32m}\u001b[0m\u001b[32m, \"simpler_statements\": \u001b[0m\u001b[32m{\u001b[0m\u001b[32m\"title\": \"Simpler Statements\", \"description\": \"the simpler statements\", \"type\": \"array\", \"items\": \u001b[0m\u001b[32m{\u001b[0m\u001b[32m\"type\": \"string\"\u001b[0m\u001b[32m}\u001b[0m\u001b[32m}\u001b[0m\u001b[32m}\u001b[0m\u001b[32m, \"required\": \u001b[0m\u001b[32m[\u001b[0m\u001b[32m\"sentence_index\", \"simpler_statements\"\u001b[0m\u001b[32m]\u001b[0m\u001b[32m}\u001b[0m\u001b[32m}\u001b[0m\u001b[32m}\u001b[0m\u001b[32m\\n```\\n\\nDo not return any preamble or explanations, return only a pure JSON string surrounded by triple backticks \u001b[0m\u001b[32m(\u001b[0m\u001b[32m```\u001b[0m\u001b[32m)\u001b[0m\u001b[32m.'\u001b[0m\u001b[39m,\u001b[0m\n",
              "\u001b[39m        \u001b[0m\u001b[33mexamples\u001b[0m\u001b[39m=\u001b[0m\u001b[1;39m[\u001b[0m\n",
              "\u001b[39m            \u001b[0m\u001b[1;39m{\u001b[0m\n",
              "\u001b[39m                \u001b[0m\u001b[32m'question'\u001b[0m\u001b[39m: \u001b[0m\u001b[32m'Who was Albert Einstein and what is he best known for?'\u001b[0m\u001b[39m,\u001b[0m\n",
              "\u001b[39m                \u001b[0m\u001b[32m'answer'\u001b[0m\u001b[39m: \u001b[0m\u001b[32m'He was a German-born theoretical physicist, widely acknowledged to be one of the greatest and most influential physicists of all time. He was best known for developing the theory of relativity, he also made important contributions to the development of the theory of quantum mechanics.'\u001b[0m\u001b[39m,\u001b[0m\n",
              "\u001b[39m                \u001b[0m\u001b[32m'sentences'\u001b[0m\u001b[39m: \u001b[0m\u001b[32m'\\n        0:He was a German-born theoretical physicist, widely acknowledged to be one of the greatest and most influential physicists of all time. \\n        1:He was best known for developing the theory of relativity, he also made important contributions to the development of the theory of quantum mechanics.\\n        '\u001b[0m\u001b[39m,\u001b[0m\n",
              "\u001b[39m                \u001b[0m\u001b[32m'analysis'\u001b[0m\u001b[39m: \u001b[0m\u001b[1;39m[\u001b[0m\n",
              "\u001b[39m                    \u001b[0m\u001b[1;39m{\u001b[0m\n",
              "\u001b[39m                        \u001b[0m\u001b[32m'sentence_index'\u001b[0m\u001b[39m: \u001b[0m\u001b[1;36m0\u001b[0m\u001b[39m,\u001b[0m\n",
              "\u001b[39m                        \u001b[0m\u001b[32m'simpler_statements'\u001b[0m\u001b[39m: \u001b[0m\u001b[1;39m[\u001b[0m\n",
              "\u001b[39m                            \u001b[0m\u001b[32m'Albert Einstein was a German-born theoretical physicist.'\u001b[0m\u001b[39m,\u001b[0m\n",
              "\u001b[39m                            \u001b[0m\u001b[32m'Albert Einstein is recognized as one of the greatest and most influential physicists of all time.'\u001b[0m\n",
              "\u001b[39m                        \u001b[0m\u001b[1;39m]\u001b[0m\n",
              "\u001b[39m                    \u001b[0m\u001b[1;39m}\u001b[0m\u001b[39m,\u001b[0m\n",
              "\u001b[39m                    \u001b[0m\u001b[1;39m{\u001b[0m\n",
              "\u001b[39m                        \u001b[0m\u001b[32m'sentence_index'\u001b[0m\u001b[39m: \u001b[0m\u001b[1;36m1\u001b[0m\u001b[39m,\u001b[0m\n",
              "\u001b[39m                        \u001b[0m\u001b[32m'simpler_statements'\u001b[0m\u001b[39m: \u001b[0m\u001b[1;39m[\u001b[0m\n",
              "\u001b[39m                            \u001b[0m\u001b[32m'Albert Einstein was best known for developing the theory of relativity.'\u001b[0m\u001b[39m,\u001b[0m\n",
              "\u001b[39m                            \u001b[0m\u001b[32m'Albert Einstein also made important contributions to the development of the theory of quantum mechanics.'\u001b[0m\n",
              "\u001b[39m                        \u001b[0m\u001b[1;39m]\u001b[0m\n",
              "\u001b[39m                    \u001b[0m\u001b[1;39m}\u001b[0m\n",
              "\u001b[39m                \u001b[0m\u001b[1;39m]\u001b[0m\n",
              "\u001b[39m            \u001b[0m\u001b[1;39m}\u001b[0m\n",
              "\u001b[39m        \u001b[0m\u001b[1;39m]\u001b[0m\u001b[39m,\u001b[0m\n",
              "\u001b[39m        \u001b[0m\u001b[33minput_keys\u001b[0m\u001b[39m=\u001b[0m\u001b[1;39m[\u001b[0m\u001b[32m'question'\u001b[0m\u001b[39m, \u001b[0m\u001b[32m'answer'\u001b[0m\u001b[39m, \u001b[0m\u001b[32m'sentences'\u001b[0m\u001b[1;39m]\u001b[0m\u001b[39m,\u001b[0m\n",
              "\u001b[39m        \u001b[0m\u001b[33moutput_key\u001b[0m\u001b[39m=\u001b[0m\u001b[32m'analysis'\u001b[0m\u001b[39m,\u001b[0m\n",
              "\u001b[39m        \u001b[0m\u001b[33moutput_type\u001b[0m\u001b[39m=\u001b[0m\u001b[32m'json'\u001b[0m\u001b[39m,\u001b[0m\n",
              "\u001b[39m        \u001b[0m\u001b[33mlanguage\u001b[0m\u001b[39m=\u001b[0m\u001b[32m'english'\u001b[0m\n",
              "\u001b[39m    \u001b[0m\u001b[1;39m)\u001b[0m\u001b[39m,\u001b[0m\n",
              "\u001b[39m    \u001b[0m\u001b[33msentence_segmenter\u001b[0m\u001b[39m=<pysbd.segmenter.Segmenter object at \u001b[0m\u001b[1;36m0x0000023838E46490\u001b[0m\u001b[1m>\u001b[0m,\n",
              "    \u001b[33mmax_retries\u001b[0m=\u001b[1;36m1\u001b[0m,\n",
              "    \u001b[33m_reproducibility\u001b[0m=\u001b[1;36m1\u001b[0m\n",
              "\u001b[1m)\u001b[0m"
            ]
          },
          "execution_count": 33,
          "metadata": {},
          "output_type": "execute_result"
        }
      ],
      "source": [
        "metrics[0]"
      ]
    },
    {
      "cell_type": "markdown",
      "metadata": {
        "id": "Kx-vlsx_hrtV"
      },
      "source": [
        "All that's left to do is call \"evaluate\" and away we go!"
      ]
    },
    {
      "cell_type": "code",
      "execution_count": 34,
      "metadata": {
        "colab": {
          "base_uri": "https://localhost:8080/",
          "height": 101,
          "referenced_widgets": [
            "32514310070a426ea247c9f1bc66b630",
            "3e7520df71de40e0af5589b6aeb95171",
            "05390d20f1b445b5b02529ee7a99f6d6",
            "3380693903474d2585638f7e3458fcd6",
            "1d43002974f24e8a8b6961cddc04ce47",
            "97abe811c89c44dcacd7e39074d22546",
            "87a3d4b2ed5f4f1ca895c6a1981eb847",
            "589c2004f5504a239615dec8671785d0",
            "25d3337c457f4c748ed8bf78f5a27fe8",
            "31064d2adec14238a609d3f9791c64f3",
            "4f482b8ce7a54c1787394fb7d90391a0"
          ]
        },
        "id": "DhlcfJ4lgYVI",
        "outputId": "85fa2a99-7506-45d1-a674-ca9f55372264"
      },
      "outputs": [
        {
          "data": {
            "application/vnd.jupyter.widget-view+json": {
              "model_id": "02e8815a70e54e75a6c9cc8840146672",
              "version_major": 2,
              "version_minor": 0
            },
            "text/plain": [
              "Evaluating:   0%|          | 0/100 [00:00<?, ?it/s]"
            ]
          },
          "metadata": {},
          "output_type": "display_data"
        }
      ],
      "source": [
        "results = evaluate(response_dataset, metrics)"
      ]
    },
    {
      "cell_type": "code",
      "execution_count": 35,
      "metadata": {
        "colab": {
          "base_uri": "https://localhost:8080/"
        },
        "id": "UqPArpSrgwDD",
        "outputId": "e8f3cb2f-8a38-47a5-f54d-ec80eaca8448"
      },
      "outputs": [
        {
          "data": {
            "text/html": [
              "<pre style=\"white-space:pre;overflow-x:auto;line-height:normal;font-family:Menlo,'DejaVu Sans Mono',consolas,'Courier New',monospace\"></pre>\n"
            ],
            "text/plain": []
          },
          "metadata": {},
          "output_type": "display_data"
        },
        {
          "data": {
            "text/plain": [
              "\u001b[1m{\u001b[0m\u001b[32m'faithfulness'\u001b[0m: \u001b[1;36m0.7833\u001b[0m, \u001b[32m'answer_relevancy'\u001b[0m: \u001b[1;36m0.9510\u001b[0m, \u001b[32m'context_recall'\u001b[0m: \u001b[1;36m0.5857\u001b[0m, \u001b[32m'context_precision'\u001b[0m: \u001b[1;36m0.7667\u001b[0m, \u001b[32m'answer_correctness'\u001b[0m: \u001b[1;36m0.4815\u001b[0m\u001b[1m}\u001b[0m"
            ]
          },
          "execution_count": 35,
          "metadata": {},
          "output_type": "execute_result"
        }
      ],
      "source": [
        "results"
      ]
    },
    {
      "cell_type": "code",
      "execution_count": 36,
      "metadata": {
        "colab": {
          "base_uri": "https://localhost:8080/",
          "height": 1000
        },
        "id": "2nsGzj8DhP9E",
        "outputId": "a10d6394-0ab7-48bf-96c5-acfc5992622f"
      },
      "outputs": [
        {
          "data": {
            "text/html": [
              "<pre style=\"white-space:pre;overflow-x:auto;line-height:normal;font-family:Menlo,'DejaVu Sans Mono',consolas,'Courier New',monospace\"></pre>\n"
            ],
            "text/plain": []
          },
          "metadata": {},
          "output_type": "display_data"
        },
        {
          "data": {
            "text/html": [
              "<div>\n",
              "<style scoped>\n",
              "    .dataframe tbody tr th:only-of-type {\n",
              "        vertical-align: middle;\n",
              "    }\n",
              "\n",
              "    .dataframe tbody tr th {\n",
              "        vertical-align: top;\n",
              "    }\n",
              "\n",
              "    .dataframe thead th {\n",
              "        text-align: right;\n",
              "    }\n",
              "</style>\n",
              "<table border=\"1\" class=\"dataframe\">\n",
              "  <thead>\n",
              "    <tr style=\"text-align: right;\">\n",
              "      <th></th>\n",
              "      <th>question</th>\n",
              "      <th>answer</th>\n",
              "      <th>contexts</th>\n",
              "      <th>ground_truth</th>\n",
              "      <th>faithfulness</th>\n",
              "      <th>answer_relevancy</th>\n",
              "      <th>context_recall</th>\n",
              "      <th>context_precision</th>\n",
              "      <th>answer_correctness</th>\n",
              "    </tr>\n",
              "  </thead>\n",
              "  <tbody>\n",
              "    <tr>\n",
              "      <th>0</th>\n",
              "      <td>What are the criteria for evaluating candidate...</td>\n",
              "      <td>Criteria for evaluating candidates when hiring...</td>\n",
              "      <td>[How to hire the best people you've\\never work...</td>\n",
              "      <td>nan</td>\n",
              "      <td>1.000000</td>\n",
              "      <td>0.987486</td>\n",
              "      <td>0.000000</td>\n",
              "      <td>0.000000</td>\n",
              "      <td>0.184406</td>\n",
              "    </tr>\n",
              "    <tr>\n",
              "      <th>1</th>\n",
              "      <td>How does the reluctance to change early-formed...</td>\n",
              "      <td>The reluctance to change early-formed habits c...</td>\n",
              "      <td>[Five: Inconsistency-Avoidance Tendency\\n[Peop...</td>\n",
              "      <td>The reluctance to change early-formed habits c...</td>\n",
              "      <td>1.000000</td>\n",
              "      <td>0.890371</td>\n",
              "      <td>0.500000</td>\n",
              "      <td>0.805556</td>\n",
              "      <td>0.490907</td>\n",
              "    </tr>\n",
              "    <tr>\n",
              "      <th>2</th>\n",
              "      <td>How have modern programming technologies contr...</td>\n",
              "      <td>Modern programming technologies have contribut...</td>\n",
              "      <td>[late 90’s — due to commodity hardware, open s...</td>\n",
              "      <td>Modern programming technologies have contribut...</td>\n",
              "      <td>1.000000</td>\n",
              "      <td>0.969925</td>\n",
              "      <td>0.500000</td>\n",
              "      <td>0.833333</td>\n",
              "      <td>0.675435</td>\n",
              "    </tr>\n",
              "    <tr>\n",
              "      <th>3</th>\n",
              "      <td>What are some potential unanticipated setbacks...</td>\n",
              "      <td>Not raising enough money risks the survival of...</td>\n",
              "      <td>[Here’s why you shouldn’t do that:\\nWhat are t...</td>\n",
              "      <td>You may have unanticipated setbacks within you...</td>\n",
              "      <td>1.000000</td>\n",
              "      <td>0.942212</td>\n",
              "      <td>0.000000</td>\n",
              "      <td>1.000000</td>\n",
              "      <td>0.205057</td>\n",
              "    </tr>\n",
              "    <tr>\n",
              "      <th>4</th>\n",
              "      <td>Why is geographic locality still important in ...</td>\n",
              "      <td>Geographic locality is still important in acce...</td>\n",
              "      <td>[— don’t want to hear it. But it’s true. Geogr...</td>\n",
              "      <td>Geographic locality is still important in acce...</td>\n",
              "      <td>1.000000</td>\n",
              "      <td>1.000000</td>\n",
              "      <td>1.000000</td>\n",
              "      <td>1.000000</td>\n",
              "      <td>0.742881</td>\n",
              "    </tr>\n",
              "    <tr>\n",
              "      <th>5</th>\n",
              "      <td>What factors determine the peak age for creati...</td>\n",
              "      <td>Productivity and total lifetime output are fac...</td>\n",
              "      <td>[creator’s most distinguished work will appear...</td>\n",
              "      <td>The expected age optimum for quantity and qual...</td>\n",
              "      <td>0.500000</td>\n",
              "      <td>1.000000</td>\n",
              "      <td>0.000000</td>\n",
              "      <td>0.916667</td>\n",
              "      <td>0.224084</td>\n",
              "    </tr>\n",
              "    <tr>\n",
              "      <th>6</th>\n",
              "      <td>What is the negative impact of a hyper-control...</td>\n",
              "      <td>The negative impact of a hyper-controlling man...</td>\n",
              "      <td>[severe personality disorder who micromanages ...</td>\n",
              "      <td>The negative impact of a hyper-controlling man...</td>\n",
              "      <td>1.000000</td>\n",
              "      <td>0.992703</td>\n",
              "      <td>1.000000</td>\n",
              "      <td>0.583333</td>\n",
              "      <td>0.612689</td>\n",
              "    </tr>\n",
              "    <tr>\n",
              "      <th>7</th>\n",
              "      <td>How important is it for a startup to focus on ...</td>\n",
              "      <td>It is important for a startup to focus on deve...</td>\n",
              "      <td>[competitor, be sure to take a step back and s...</td>\n",
              "      <td>Focusing on developing a large market is impor...</td>\n",
              "      <td>0.500000</td>\n",
              "      <td>0.993499</td>\n",
              "      <td>1.000000</td>\n",
              "      <td>1.000000</td>\n",
              "      <td>0.547455</td>\n",
              "    </tr>\n",
              "    <tr>\n",
              "      <th>8</th>\n",
              "      <td>What is the best way to develop contacts with ...</td>\n",
              "      <td>The best way to develop contacts with VCs is t...</td>\n",
              "      <td>[absolutely key.\\nNow, on to developing contac...</td>\n",
              "      <td>The best way to develop contacts with VCs, in ...</td>\n",
              "      <td>1.000000</td>\n",
              "      <td>1.000000</td>\n",
              "      <td>1.000000</td>\n",
              "      <td>0.000000</td>\n",
              "      <td>0.429086</td>\n",
              "    </tr>\n",
              "    <tr>\n",
              "      <th>9</th>\n",
              "      <td>What are the benefits of restructuring in term...</td>\n",
              "      <td>The benefits of restructuring in terms of team...</td>\n",
              "      <td>[before. By reducing the size of a team, and i...</td>\n",
              "      <td>By reducing the size of a team, restructuring ...</td>\n",
              "      <td>1.000000</td>\n",
              "      <td>1.000000</td>\n",
              "      <td>1.000000</td>\n",
              "      <td>0.805556</td>\n",
              "      <td>0.664642</td>\n",
              "    </tr>\n",
              "    <tr>\n",
              "      <th>10</th>\n",
              "      <td>What options are available for someone startin...</td>\n",
              "      <td>Transferring to a top school for their field a...</td>\n",
              "      <td>[nity college, by the time you Xnish 4-6 years...</td>\n",
              "      <td>If someone starts at a community college, they...</td>\n",
              "      <td>1.000000</td>\n",
              "      <td>0.816325</td>\n",
              "      <td>0.666667</td>\n",
              "      <td>1.000000</td>\n",
              "      <td>0.598616</td>\n",
              "    </tr>\n",
              "    <tr>\n",
              "      <th>11</th>\n",
              "      <td>What benefits does a pre-planned list of quest...</td>\n",
              "      <td>A pre-planned list of questions offers intervi...</td>\n",
              "      <td>[with your team as you interview candidates fo...</td>\n",
              "      <td>By having a pre-planned list of questions, int...</td>\n",
              "      <td>1.000000</td>\n",
              "      <td>0.962103</td>\n",
              "      <td>1.000000</td>\n",
              "      <td>1.000000</td>\n",
              "      <td>0.742349</td>\n",
              "    </tr>\n",
              "    <tr>\n",
              "      <th>12</th>\n",
              "      <td>What factors should startups consider when det...</td>\n",
              "      <td>Startups should consider the market size with ...</td>\n",
              "      <td>[the most important factor in a startup’s succ...</td>\n",
              "      <td>Startups should consider the size of the marke...</td>\n",
              "      <td>1.000000</td>\n",
              "      <td>0.967738</td>\n",
              "      <td>0.333333</td>\n",
              "      <td>1.000000</td>\n",
              "      <td>0.535073</td>\n",
              "    </tr>\n",
              "    <tr>\n",
              "      <th>13</th>\n",
              "      <td>What are the risks of hiring an executive from...</td>\n",
              "      <td>The risks of hiring an executive from a big co...</td>\n",
              "      <td>[executive skill sets required for a big compa...</td>\n",
              "      <td>Beware hiring a big company executive for a st...</td>\n",
              "      <td>0.500000</td>\n",
              "      <td>0.963439</td>\n",
              "      <td>0.714286</td>\n",
              "      <td>0.805556</td>\n",
              "      <td>0.565397</td>\n",
              "    </tr>\n",
              "    <tr>\n",
              "      <th>14</th>\n",
              "      <td>Why is offering generous compensation importan...</td>\n",
              "      <td>Great people want to work at a winner, and off...</td>\n",
              "      <td>[The only way a company in that situation can ...</td>\n",
              "      <td>nan</td>\n",
              "      <td>0.333333</td>\n",
              "      <td>0.844231</td>\n",
              "      <td>0.000000</td>\n",
              "      <td>0.333333</td>\n",
              "      <td>0.180483</td>\n",
              "    </tr>\n",
              "    <tr>\n",
              "      <th>15</th>\n",
              "      <td>What challenges may arise in a startup's UI de...</td>\n",
              "      <td>The challenges that may arise in a startup's U...</td>\n",
              "      <td>[ied and determined. Sales calls get made. The...</td>\n",
              "      <td>In a startup, it is easy for the code to not g...</td>\n",
              "      <td>0.333333</td>\n",
              "      <td>0.998972</td>\n",
              "      <td>0.500000</td>\n",
              "      <td>1.000000</td>\n",
              "      <td>0.667517</td>\n",
              "    </tr>\n",
              "    <tr>\n",
              "      <th>16</th>\n",
              "      <td>What is the importance of practical skills in ...</td>\n",
              "      <td>The importance of practical skills in real-lif...</td>\n",
              "      <td>[Which undergraduate degrees are useful in\\nth...</td>\n",
              "      <td>The importance of practical skills in real-lif...</td>\n",
              "      <td>1.000000</td>\n",
              "      <td>0.888349</td>\n",
              "      <td>1.000000</td>\n",
              "      <td>1.000000</td>\n",
              "      <td>0.614250</td>\n",
              "    </tr>\n",
              "    <tr>\n",
              "      <th>17</th>\n",
              "      <td>What factors should be considered when making ...</td>\n",
              "      <td>The factors that should be considered when mak...</td>\n",
              "      <td>[order to execute its plan? E.g. a startup pla...</td>\n",
              "      <td>The factors that should be considered when mak...</td>\n",
              "      <td>1.000000</td>\n",
              "      <td>0.958568</td>\n",
              "      <td>0.000000</td>\n",
              "      <td>1.000000</td>\n",
              "      <td>0.359904</td>\n",
              "    </tr>\n",
              "    <tr>\n",
              "      <th>18</th>\n",
              "      <td>Which folder is for follow-up on commitments m...</td>\n",
              "      <td>Pending folder</td>\n",
              "      <td>[the normal course of your day.\\nFourth, aside...</td>\n",
              "      <td>Pending</td>\n",
              "      <td>0.000000</td>\n",
              "      <td>0.858847</td>\n",
              "      <td>1.000000</td>\n",
              "      <td>0.250000</td>\n",
              "      <td>0.222738</td>\n",
              "    </tr>\n",
              "    <tr>\n",
              "      <th>19</th>\n",
              "      <td>How does luck affect the perception of success...</td>\n",
              "      <td>Luck affects the perception of successful entr...</td>\n",
              "      <td>[posts about luck and the entrepreneur.\\nLuck ...</td>\n",
              "      <td>If luck plays a significant role in the succes...</td>\n",
              "      <td>0.500000</td>\n",
              "      <td>0.985077</td>\n",
              "      <td>0.500000</td>\n",
              "      <td>1.000000</td>\n",
              "      <td>0.367183</td>\n",
              "    </tr>\n",
              "  </tbody>\n",
              "</table>\n",
              "</div>"
            ],
            "text/plain": [
              "\n",
              "                                             question  \\\n",
              "\u001b[1;36m0\u001b[0m   What are the criteria for evaluating candidate\u001b[33m...\u001b[0m   \n",
              "\u001b[1;36m1\u001b[0m   How does the reluctance to change early-formed\u001b[33m...\u001b[0m   \n",
              "\u001b[1;36m2\u001b[0m   How have modern programming technologies contr\u001b[33m...\u001b[0m   \n",
              "\u001b[1;36m3\u001b[0m   What are some potential unanticipated setbacks\u001b[33m...\u001b[0m   \n",
              "\u001b[1;36m4\u001b[0m   Why is geographic locality still important in \u001b[33m...\u001b[0m   \n",
              "\u001b[1;36m5\u001b[0m   What factors determine the peak age for creati\u001b[33m...\u001b[0m   \n",
              "\u001b[1;36m6\u001b[0m   What is the negative impact of a hyper-control\u001b[33m...\u001b[0m   \n",
              "\u001b[1;36m7\u001b[0m   How important is it for a startup to focus on \u001b[33m...\u001b[0m   \n",
              "\u001b[1;36m8\u001b[0m   What is the best way to develop contacts with \u001b[33m...\u001b[0m   \n",
              "\u001b[1;36m9\u001b[0m   What are the benefits of restructuring in term\u001b[33m...\u001b[0m   \n",
              "\u001b[1;36m10\u001b[0m  What options are available for someone startin\u001b[33m...\u001b[0m   \n",
              "\u001b[1;36m11\u001b[0m  What benefits does a pre-planned list of quest\u001b[33m...\u001b[0m   \n",
              "\u001b[1;36m12\u001b[0m  What factors should startups consider when det\u001b[33m...\u001b[0m   \n",
              "\u001b[1;36m13\u001b[0m  What are the risks of hiring an executive from\u001b[33m...\u001b[0m   \n",
              "\u001b[1;36m14\u001b[0m  Why is offering generous compensation importan\u001b[33m...\u001b[0m   \n",
              "\u001b[1;36m15\u001b[0m  What challenges may arise in a startup's UI de\u001b[33m...\u001b[0m   \n",
              "\u001b[1;36m16\u001b[0m  What is the importance of practical skills in \u001b[33m...\u001b[0m   \n",
              "\u001b[1;36m17\u001b[0m  What factors should be considered when making \u001b[33m...\u001b[0m   \n",
              "\u001b[1;36m18\u001b[0m  Which folder is for follow-up on commitments m\u001b[33m...\u001b[0m   \n",
              "\u001b[1;36m19\u001b[0m  How does luck affect the perception of success\u001b[33m...\u001b[0m   \n",
              "\n",
              "                                               answer  \\\n",
              "\u001b[1;36m0\u001b[0m   Criteria for evaluating candidates when hiring\u001b[33m...\u001b[0m   \n",
              "\u001b[1;36m1\u001b[0m   The reluctance to change early-formed habits c\u001b[33m...\u001b[0m   \n",
              "\u001b[1;36m2\u001b[0m   Modern programming technologies have contribut\u001b[33m...\u001b[0m   \n",
              "\u001b[1;36m3\u001b[0m   Not raising enough money risks the survival of\u001b[33m...\u001b[0m   \n",
              "\u001b[1;36m4\u001b[0m   Geographic locality is still important in acce\u001b[33m...\u001b[0m   \n",
              "\u001b[1;36m5\u001b[0m   Productivity and total lifetime output are fac\u001b[33m...\u001b[0m   \n",
              "\u001b[1;36m6\u001b[0m   The negative impact of a hyper-controlling man\u001b[33m...\u001b[0m   \n",
              "\u001b[1;36m7\u001b[0m   It is important for a startup to focus on deve\u001b[33m...\u001b[0m   \n",
              "\u001b[1;36m8\u001b[0m   The best way to develop contacts with VCs is t\u001b[33m...\u001b[0m   \n",
              "\u001b[1;36m9\u001b[0m   The benefits of restructuring in terms of team\u001b[33m...\u001b[0m   \n",
              "\u001b[1;36m10\u001b[0m  Transferring to a top school for their field a\u001b[33m...\u001b[0m   \n",
              "\u001b[1;36m11\u001b[0m  A pre-planned list of questions offers intervi\u001b[33m...\u001b[0m   \n",
              "\u001b[1;36m12\u001b[0m  Startups should consider the market size with \u001b[33m...\u001b[0m   \n",
              "\u001b[1;36m13\u001b[0m  The risks of hiring an executive from a big co\u001b[33m...\u001b[0m   \n",
              "\u001b[1;36m14\u001b[0m  Great people want to work at a winner, and off\u001b[33m...\u001b[0m   \n",
              "\u001b[1;36m15\u001b[0m  The challenges that may arise in a startup's U\u001b[33m...\u001b[0m   \n",
              "\u001b[1;36m16\u001b[0m  The importance of practical skills in real-lif\u001b[33m...\u001b[0m   \n",
              "\u001b[1;36m17\u001b[0m  The factors that should be considered when mak\u001b[33m...\u001b[0m   \n",
              "\u001b[1;36m18\u001b[0m                                     Pending folder   \n",
              "\u001b[1;36m19\u001b[0m  Luck affects the perception of successful entr\u001b[33m...\u001b[0m   \n",
              "\n",
              "                                             contexts  \\\n",
              "\u001b[1;36m0\u001b[0m   \u001b[1m[\u001b[0mHow to hire the best people you've\\never work\u001b[33m...\u001b[0m   \n",
              "\u001b[1;36m1\u001b[0m   \u001b[1m[\u001b[0mFive: Inconsistency-Avoidance Tendency\\n\u001b[1m[\u001b[0mPeop\u001b[33m...\u001b[0m   \n",
              "\u001b[1;36m2\u001b[0m   \u001b[1m[\u001b[0mlate \u001b[1;36m90\u001b[0m’s — due to commodity hardware, open s\u001b[33m...\u001b[0m   \n",
              "\u001b[1;36m3\u001b[0m   \u001b[1m[\u001b[0mHere’s why you shouldn’t do that:\\nWhat are t\u001b[33m...\u001b[0m   \n",
              "\u001b[1;36m4\u001b[0m   \u001b[1m[\u001b[0m— don’t want to hear it. But it’s true. Geogr\u001b[33m...\u001b[0m   \n",
              "\u001b[1;36m5\u001b[0m   \u001b[1m[\u001b[0mcreator’s most distinguished work will appear\u001b[33m...\u001b[0m   \n",
              "\u001b[1;36m6\u001b[0m   \u001b[1m[\u001b[0msevere personality disorder who micromanages \u001b[33m...\u001b[0m   \n",
              "\u001b[1;36m7\u001b[0m   \u001b[1m[\u001b[0mcompetitor, be sure to take a step back and s\u001b[33m...\u001b[0m   \n",
              "\u001b[1;36m8\u001b[0m   \u001b[1m[\u001b[0mabsolutely key.\\nNow, on to developing contac\u001b[33m...\u001b[0m   \n",
              "\u001b[1;36m9\u001b[0m   \u001b[1m[\u001b[0mbefore. By reducing the size of a team, and i\u001b[33m...\u001b[0m   \n",
              "\u001b[1;36m10\u001b[0m  \u001b[1m[\u001b[0mnity college, by the time you Xnish \u001b[1;36m4\u001b[0m-\u001b[1;36m6\u001b[0m years\u001b[33m...\u001b[0m   \n",
              "\u001b[1;36m11\u001b[0m  \u001b[1m[\u001b[0mwith your team as you interview candidates fo\u001b[33m...\u001b[0m   \n",
              "\u001b[1;36m12\u001b[0m  \u001b[1m[\u001b[0mthe most important factor in a startup’s succ\u001b[33m...\u001b[0m   \n",
              "\u001b[1;36m13\u001b[0m  \u001b[1m[\u001b[0mexecutive skill sets required for a big compa\u001b[33m...\u001b[0m   \n",
              "\u001b[1;36m14\u001b[0m  \u001b[1m[\u001b[0mThe only way a company in that situation can \u001b[33m...\u001b[0m   \n",
              "\u001b[1;36m15\u001b[0m  \u001b[1m[\u001b[0mied and determined. Sales calls get made. The\u001b[33m...\u001b[0m   \n",
              "\u001b[1;36m16\u001b[0m  \u001b[1m[\u001b[0mWhich undergraduate degrees are useful in\\nth\u001b[33m...\u001b[0m   \n",
              "\u001b[1;36m17\u001b[0m  \u001b[1m[\u001b[0morder to execute its plan? E.g. a startup pla\u001b[33m...\u001b[0m   \n",
              "\u001b[1;36m18\u001b[0m  \u001b[1m[\u001b[0mthe normal course of your day.\\nFourth, aside\u001b[33m...\u001b[0m   \n",
              "\u001b[1;36m19\u001b[0m  \u001b[1m[\u001b[0mposts about luck and the entrepreneur.\\nLuck \u001b[33m...\u001b[0m   \n",
              "\n",
              "                                         ground_truth  faithfulness  \\\n",
              "\u001b[1;36m0\u001b[0m                                                 nan      \u001b[1;36m1.000000\u001b[0m   \n",
              "\u001b[1;36m1\u001b[0m   The reluctance to change early-formed habits c\u001b[33m...\u001b[0m      \u001b[1;36m1.000000\u001b[0m   \n",
              "\u001b[1;36m2\u001b[0m   Modern programming technologies have contribut\u001b[33m...\u001b[0m      \u001b[1;36m1.000000\u001b[0m   \n",
              "\u001b[1;36m3\u001b[0m   You may have unanticipated setbacks within you\u001b[33m...\u001b[0m      \u001b[1;36m1.000000\u001b[0m   \n",
              "\u001b[1;36m4\u001b[0m   Geographic locality is still important in acce\u001b[33m...\u001b[0m      \u001b[1;36m1.000000\u001b[0m   \n",
              "\u001b[1;36m5\u001b[0m   The expected age optimum for quantity and qual\u001b[33m...\u001b[0m      \u001b[1;36m0.500000\u001b[0m   \n",
              "\u001b[1;36m6\u001b[0m   The negative impact of a hyper-controlling man\u001b[33m...\u001b[0m      \u001b[1;36m1.000000\u001b[0m   \n",
              "\u001b[1;36m7\u001b[0m   Focusing on developing a large market is impor\u001b[33m...\u001b[0m      \u001b[1;36m0.500000\u001b[0m   \n",
              "\u001b[1;36m8\u001b[0m   The best way to develop contacts with VCs, in \u001b[33m...\u001b[0m      \u001b[1;36m1.000000\u001b[0m   \n",
              "\u001b[1;36m9\u001b[0m   By reducing the size of a team, restructuring \u001b[33m...\u001b[0m      \u001b[1;36m1.000000\u001b[0m   \n",
              "\u001b[1;36m10\u001b[0m  If someone starts at a community college, they\u001b[33m...\u001b[0m      \u001b[1;36m1.000000\u001b[0m   \n",
              "\u001b[1;36m11\u001b[0m  By having a pre-planned list of questions, int\u001b[33m...\u001b[0m      \u001b[1;36m1.000000\u001b[0m   \n",
              "\u001b[1;36m12\u001b[0m  Startups should consider the size of the marke\u001b[33m...\u001b[0m      \u001b[1;36m1.000000\u001b[0m   \n",
              "\u001b[1;36m13\u001b[0m  Beware hiring a big company executive for a st\u001b[33m...\u001b[0m      \u001b[1;36m0.500000\u001b[0m   \n",
              "\u001b[1;36m14\u001b[0m                                                nan      \u001b[1;36m0.333333\u001b[0m   \n",
              "\u001b[1;36m15\u001b[0m  In a startup, it is easy for the code to not g\u001b[33m...\u001b[0m      \u001b[1;36m0.333333\u001b[0m   \n",
              "\u001b[1;36m16\u001b[0m  The importance of practical skills in real-lif\u001b[33m...\u001b[0m      \u001b[1;36m1.000000\u001b[0m   \n",
              "\u001b[1;36m17\u001b[0m  The factors that should be considered when mak\u001b[33m...\u001b[0m      \u001b[1;36m1.000000\u001b[0m   \n",
              "\u001b[1;36m18\u001b[0m                                            Pending      \u001b[1;36m0.000000\u001b[0m   \n",
              "\u001b[1;36m19\u001b[0m  If luck plays a significant role in the succes\u001b[33m...\u001b[0m      \u001b[1;36m0.500000\u001b[0m   \n",
              "\n",
              "    answer_relevancy  context_recall  context_precision  answer_correctness  \n",
              "\u001b[1;36m0\u001b[0m           \u001b[1;36m0.987486\u001b[0m        \u001b[1;36m0.000000\u001b[0m           \u001b[1;36m0.000000\u001b[0m            \u001b[1;36m0.184406\u001b[0m  \n",
              "\u001b[1;36m1\u001b[0m           \u001b[1;36m0.890371\u001b[0m        \u001b[1;36m0.500000\u001b[0m           \u001b[1;36m0.805556\u001b[0m            \u001b[1;36m0.490907\u001b[0m  \n",
              "\u001b[1;36m2\u001b[0m           \u001b[1;36m0.969925\u001b[0m        \u001b[1;36m0.500000\u001b[0m           \u001b[1;36m0.833333\u001b[0m            \u001b[1;36m0.675435\u001b[0m  \n",
              "\u001b[1;36m3\u001b[0m           \u001b[1;36m0.942212\u001b[0m        \u001b[1;36m0.000000\u001b[0m           \u001b[1;36m1.000000\u001b[0m            \u001b[1;36m0.205057\u001b[0m  \n",
              "\u001b[1;36m4\u001b[0m           \u001b[1;36m1.000000\u001b[0m        \u001b[1;36m1.000000\u001b[0m           \u001b[1;36m1.000000\u001b[0m            \u001b[1;36m0.742881\u001b[0m  \n",
              "\u001b[1;36m5\u001b[0m           \u001b[1;36m1.000000\u001b[0m        \u001b[1;36m0.000000\u001b[0m           \u001b[1;36m0.916667\u001b[0m            \u001b[1;36m0.224084\u001b[0m  \n",
              "\u001b[1;36m6\u001b[0m           \u001b[1;36m0.992703\u001b[0m        \u001b[1;36m1.000000\u001b[0m           \u001b[1;36m0.583333\u001b[0m            \u001b[1;36m0.612689\u001b[0m  \n",
              "\u001b[1;36m7\u001b[0m           \u001b[1;36m0.993499\u001b[0m        \u001b[1;36m1.000000\u001b[0m           \u001b[1;36m1.000000\u001b[0m            \u001b[1;36m0.547455\u001b[0m  \n",
              "\u001b[1;36m8\u001b[0m           \u001b[1;36m1.000000\u001b[0m        \u001b[1;36m1.000000\u001b[0m           \u001b[1;36m0.000000\u001b[0m            \u001b[1;36m0.429086\u001b[0m  \n",
              "\u001b[1;36m9\u001b[0m           \u001b[1;36m1.000000\u001b[0m        \u001b[1;36m1.000000\u001b[0m           \u001b[1;36m0.805556\u001b[0m            \u001b[1;36m0.664642\u001b[0m  \n",
              "\u001b[1;36m10\u001b[0m          \u001b[1;36m0.816325\u001b[0m        \u001b[1;36m0.666667\u001b[0m           \u001b[1;36m1.000000\u001b[0m            \u001b[1;36m0.598616\u001b[0m  \n",
              "\u001b[1;36m11\u001b[0m          \u001b[1;36m0.962103\u001b[0m        \u001b[1;36m1.000000\u001b[0m           \u001b[1;36m1.000000\u001b[0m            \u001b[1;36m0.742349\u001b[0m  \n",
              "\u001b[1;36m12\u001b[0m          \u001b[1;36m0.967738\u001b[0m        \u001b[1;36m0.333333\u001b[0m           \u001b[1;36m1.000000\u001b[0m            \u001b[1;36m0.535073\u001b[0m  \n",
              "\u001b[1;36m13\u001b[0m          \u001b[1;36m0.963439\u001b[0m        \u001b[1;36m0.714286\u001b[0m           \u001b[1;36m0.805556\u001b[0m            \u001b[1;36m0.565397\u001b[0m  \n",
              "\u001b[1;36m14\u001b[0m          \u001b[1;36m0.844231\u001b[0m        \u001b[1;36m0.000000\u001b[0m           \u001b[1;36m0.333333\u001b[0m            \u001b[1;36m0.180483\u001b[0m  \n",
              "\u001b[1;36m15\u001b[0m          \u001b[1;36m0.998972\u001b[0m        \u001b[1;36m0.500000\u001b[0m           \u001b[1;36m1.000000\u001b[0m            \u001b[1;36m0.667517\u001b[0m  \n",
              "\u001b[1;36m16\u001b[0m          \u001b[1;36m0.888349\u001b[0m        \u001b[1;36m1.000000\u001b[0m           \u001b[1;36m1.000000\u001b[0m            \u001b[1;36m0.614250\u001b[0m  \n",
              "\u001b[1;36m17\u001b[0m          \u001b[1;36m0.958568\u001b[0m        \u001b[1;36m0.000000\u001b[0m           \u001b[1;36m1.000000\u001b[0m            \u001b[1;36m0.359904\u001b[0m  \n",
              "\u001b[1;36m18\u001b[0m          \u001b[1;36m0.858847\u001b[0m        \u001b[1;36m1.000000\u001b[0m           \u001b[1;36m0.250000\u001b[0m            \u001b[1;36m0.222738\u001b[0m  \n",
              "\u001b[1;36m19\u001b[0m          \u001b[1;36m0.985077\u001b[0m        \u001b[1;36m0.500000\u001b[0m           \u001b[1;36m1.000000\u001b[0m            \u001b[1;36m0.367183\u001b[0m  "
            ]
          },
          "execution_count": 36,
          "metadata": {},
          "output_type": "execute_result"
        }
      ],
      "source": [
        "results_df = results.to_pandas()\n",
        "results_df"
      ]
    },
    {
      "cell_type": "markdown",
      "metadata": {
        "id": "MWfiu_pLh3JL"
      },
      "source": [
        "## Task 2: Making Adjustments to our RAG Pipeline\n",
        "\n",
        "Now that we have established a baseline - we can see how any changes impact our pipeline's performance!\n",
        "\n",
        "Let's modify our retriever and see how that impacts our Ragas metrics!\n",
        "\n",
        "> NOTE: MultiQueryRetriever is expanded on [here](https://python.langchain.com/docs/modules/data_connection/retrievers/MultiQueryRetriever) but for now, the implementation is not important to our lesson!"
      ]
    },
    {
      "cell_type": "code",
      "execution_count": 37,
      "metadata": {
        "id": "nKIuM336isBL"
      },
      "outputs": [],
      "source": [
        "from langchain.retrievers import MultiQueryRetriever\n",
        "\n",
        "advanced_retriever = MultiQueryRetriever.from_llm(\n",
        "    retriever=retriever, llm=primary_qa_llm\n",
        ")"
      ]
    },
    {
      "cell_type": "markdown",
      "metadata": {
        "id": "82rcj3L-i_c8"
      },
      "source": [
        "We'll also re-create our RAG pipeline using the abstractions that come packaged with LangChain v0.1.0!\n",
        "\n",
        "First, let's create a chain to \"stuff\" our documents into our context!"
      ]
    },
    {
      "cell_type": "code",
      "execution_count": 38,
      "metadata": {
        "id": "EfdCgTw7jC4i"
      },
      "outputs": [],
      "source": [
        "from langchain.chains.combine_documents import create_stuff_documents_chain\n",
        "\n",
        "document_chain = create_stuff_documents_chain(primary_qa_llm, retrieval_qa_prompt)"
      ]
    },
    {
      "cell_type": "markdown",
      "metadata": {
        "id": "ozYl5WdPnvLu"
      },
      "source": [
        "Next, we'll create the retrieval chain!"
      ]
    },
    {
      "cell_type": "code",
      "execution_count": 39,
      "metadata": {
        "id": "9AK7wHVnn0U3"
      },
      "outputs": [],
      "source": [
        "from langchain.chains import create_retrieval_chain\n",
        "\n",
        "retrieval_chain = create_retrieval_chain(advanced_retriever, document_chain)"
      ]
    },
    {
      "cell_type": "code",
      "execution_count": 40,
      "metadata": {
        "id": "cmKORMfMoCjL"
      },
      "outputs": [],
      "source": [
        "response = retrieval_chain.invoke({\"input\": \"Who is Taylor Swift fueding with?\"})"
      ]
    },
    {
      "cell_type": "code",
      "execution_count": 41,
      "metadata": {
        "colab": {
          "base_uri": "https://localhost:8080/"
        },
        "id": "ICMsUWbWoOpf",
        "outputId": "1c2a8c65-0da8-44ef-d6e4-79dcca738777"
      },
      "outputs": [
        {
          "data": {
            "text/html": [
              "<pre style=\"white-space:pre;overflow-x:auto;line-height:normal;font-family:Menlo,'DejaVu Sans Mono',consolas,'Courier New',monospace\">I'm sorry, but based on the context provided, I do not have information about any feud involving Taylor Swift.\n",
              "</pre>\n"
            ],
            "text/plain": [
              "I'm sorry, but based on the context provided, I do not have information about any feud involving Taylor Swift.\n"
            ]
          },
          "metadata": {},
          "output_type": "display_data"
        }
      ],
      "source": [
        "print(response[\"answer\"])"
      ]
    },
    {
      "cell_type": "code",
      "execution_count": 42,
      "metadata": {
        "id": "5s8ZGasYoVi6"
      },
      "outputs": [],
      "source": [
        "response = retrieval_chain.invoke({\"input\": \"Why are they fueding?\"})"
      ]
    },
    {
      "cell_type": "code",
      "execution_count": 43,
      "metadata": {
        "colab": {
          "base_uri": "https://localhost:8080/"
        },
        "id": "ADNCdW4hoYT8",
        "outputId": "40860a4e-75fb-486e-b1e6-34a7eb2c5295"
      },
      "outputs": [
        {
          "data": {
            "text/html": [
              "<pre style=\"white-space:pre;overflow-x:auto;line-height:normal;font-family:Menlo,'DejaVu Sans Mono',consolas,'Courier New',monospace\">There is no information provided in the context to suggest that any individuals or groups are feuding.\n",
              "</pre>\n"
            ],
            "text/plain": [
              "There is no information provided in the context to suggest that any individuals or groups are feuding.\n"
            ]
          },
          "metadata": {},
          "output_type": "display_data"
        }
      ],
      "source": [
        "print(response[\"answer\"])"
      ]
    },
    {
      "cell_type": "markdown",
      "metadata": {
        "id": "OxkU0HdpoaiE"
      },
      "source": [
        "Well, just from those responses this chain *feels* better - but lets see how it performs on our eval!\n",
        "\n",
        "Let's do the same process we did before to collect our pipeline's contexts and answers."
      ]
    },
    {
      "cell_type": "code",
      "execution_count": 44,
      "metadata": {
        "id": "kO8cWxn2oinT"
      },
      "outputs": [],
      "source": [
        "answers = []\n",
        "contexts = []\n",
        "\n",
        "for question in test_questions:\n",
        "    response = retrieval_chain.invoke({\"input\": question})\n",
        "    answers.append(response[\"answer\"])\n",
        "    contexts.append([context.page_content for context in response[\"context\"]])"
      ]
    },
    {
      "cell_type": "markdown",
      "metadata": {
        "id": "tgagfhPUtM2j"
      },
      "source": [
        "Now we can convert this into a dataset, just like we did before."
      ]
    },
    {
      "cell_type": "code",
      "execution_count": 45,
      "metadata": {
        "id": "5FcllGeSovP8"
      },
      "outputs": [],
      "source": [
        "response_dataset_advanced_retrieval = Dataset.from_dict({\n",
        "    \"question\" : test_questions,\n",
        "    \"answer\" : answers,\n",
        "    \"contexts\" : contexts,\n",
        "    \"ground_truth\" : test_groundtruths\n",
        "})"
      ]
    },
    {
      "cell_type": "code",
      "execution_count": 46,
      "metadata": {},
      "outputs": [
        {
          "data": {
            "text/html": [
              "<pre style=\"white-space:pre;overflow-x:auto;line-height:normal;font-family:Menlo,'DejaVu Sans Mono',consolas,'Courier New',monospace\"></pre>\n"
            ],
            "text/plain": []
          },
          "metadata": {},
          "output_type": "display_data"
        },
        {
          "data": {
            "text/html": [
              "<div>\n",
              "<style scoped>\n",
              "    .dataframe tbody tr th:only-of-type {\n",
              "        vertical-align: middle;\n",
              "    }\n",
              "\n",
              "    .dataframe tbody tr th {\n",
              "        vertical-align: top;\n",
              "    }\n",
              "\n",
              "    .dataframe thead th {\n",
              "        text-align: right;\n",
              "    }\n",
              "</style>\n",
              "<table border=\"1\" class=\"dataframe\">\n",
              "  <thead>\n",
              "    <tr style=\"text-align: right;\">\n",
              "      <th></th>\n",
              "      <th>question</th>\n",
              "      <th>answer</th>\n",
              "      <th>contexts</th>\n",
              "      <th>ground_truth</th>\n",
              "    </tr>\n",
              "  </thead>\n",
              "  <tbody>\n",
              "    <tr>\n",
              "      <th>0</th>\n",
              "      <td>What are the criteria for evaluating candidate...</td>\n",
              "      <td>When hiring the best people, it is important t...</td>\n",
              "      <td>[with your team as you interview candidates fo...</td>\n",
              "      <td>nan</td>\n",
              "    </tr>\n",
              "    <tr>\n",
              "      <th>1</th>\n",
              "      <td>How does the reluctance to change early-formed...</td>\n",
              "      <td>The reluctance to change early-formed habits c...</td>\n",
              "      <td>[Five: Inconsistency-Avoidance Tendency\\n[Peop...</td>\n",
              "      <td>The reluctance to change early-formed habits c...</td>\n",
              "    </tr>\n",
              "    <tr>\n",
              "      <th>2</th>\n",
              "      <td>How have modern programming technologies contr...</td>\n",
              "      <td>Modern programming technologies have significa...</td>\n",
              "      <td>[late 90’s — due to commodity hardware, open s...</td>\n",
              "      <td>Modern programming technologies have contribut...</td>\n",
              "    </tr>\n",
              "    <tr>\n",
              "      <th>3</th>\n",
              "      <td>What are some potential unanticipated setbacks...</td>\n",
              "      <td>Some potential unanticipated setbacks that can...</td>\n",
              "      <td>[Here’s why you shouldn’t do that:\\nWhat are t...</td>\n",
              "      <td>You may have unanticipated setbacks within you...</td>\n",
              "    </tr>\n",
              "    <tr>\n",
              "      <th>4</th>\n",
              "      <td>Why is geographic locality still important in ...</td>\n",
              "      <td>Geographic locality is still important in acce...</td>\n",
              "      <td>[— don’t want to hear it. But it’s true. Geogr...</td>\n",
              "      <td>Geographic locality is still important in acce...</td>\n",
              "    </tr>\n",
              "    <tr>\n",
              "      <th>5</th>\n",
              "      <td>What factors determine the peak age for creati...</td>\n",
              "      <td>The text mentions that the peak age for creati...</td>\n",
              "      <td>[creator’s most distinguished work will appear...</td>\n",
              "      <td>The expected age optimum for quantity and qual...</td>\n",
              "    </tr>\n",
              "    <tr>\n",
              "      <th>6</th>\n",
              "      <td>What is the negative impact of a hyper-control...</td>\n",
              "      <td>The negative impact of a hyper-controlling man...</td>\n",
              "      <td>[severe personality disorder who micromanages ...</td>\n",
              "      <td>The negative impact of a hyper-controlling man...</td>\n",
              "    </tr>\n",
              "    <tr>\n",
              "      <th>7</th>\n",
              "      <td>How important is it for a startup to focus on ...</td>\n",
              "      <td>It is very important for a startup to focus on...</td>\n",
              "      <td>[answer, in part because in the beginning of a...</td>\n",
              "      <td>Focusing on developing a large market is impor...</td>\n",
              "    </tr>\n",
              "    <tr>\n",
              "      <th>8</th>\n",
              "      <td>What is the best way to develop contacts with ...</td>\n",
              "      <td>The best way to develop contacts with VCs, acc...</td>\n",
              "      <td>[If\\nyou\\nengage\\nin\\na\\nset\\nof\\nthese\\ntechn...</td>\n",
              "      <td>The best way to develop contacts with VCs, in ...</td>\n",
              "    </tr>\n",
              "    <tr>\n",
              "      <th>9</th>\n",
              "      <td>What are the benefits of restructuring in term...</td>\n",
              "      <td>Restructuring by reducing the size of a team a...</td>\n",
              "      <td>[before. By reducing the size of a team, and i...</td>\n",
              "      <td>By reducing the size of a team, restructuring ...</td>\n",
              "    </tr>\n",
              "    <tr>\n",
              "      <th>10</th>\n",
              "      <td>What options are available for someone startin...</td>\n",
              "      <td>Starting at a community college, you have the ...</td>\n",
              "      <td>[nity college, by the time you Xnish 4-6 years...</td>\n",
              "      <td>If someone starts at a community college, they...</td>\n",
              "    </tr>\n",
              "    <tr>\n",
              "      <th>11</th>\n",
              "      <td>What benefits does a pre-planned list of quest...</td>\n",
              "      <td>A pre-planned list of questions offers intervi...</td>\n",
              "      <td>[with your team as you interview candidates fo...</td>\n",
              "      <td>By having a pre-planned list of questions, int...</td>\n",
              "    </tr>\n",
              "    <tr>\n",
              "      <th>12</th>\n",
              "      <td>What factors should startups consider when det...</td>\n",
              "      <td>Startups should consider the market size and c...</td>\n",
              "      <td>[the most important factor in a startup’s succ...</td>\n",
              "      <td>Startups should consider the size of the marke...</td>\n",
              "    </tr>\n",
              "    <tr>\n",
              "      <th>13</th>\n",
              "      <td>What are the risks of hiring an executive from...</td>\n",
              "      <td>Hiring an executive from a big company for a s...</td>\n",
              "      <td>[executive skill sets required for a big compa...</td>\n",
              "      <td>Beware hiring a big company executive for a st...</td>\n",
              "    </tr>\n",
              "    <tr>\n",
              "      <th>14</th>\n",
              "      <td>Why is offering generous compensation importan...</td>\n",
              "      <td>Offering generous compensation is important fo...</td>\n",
              "      <td>[The only way a company in that situation can ...</td>\n",
              "      <td>nan</td>\n",
              "    </tr>\n",
              "    <tr>\n",
              "      <th>15</th>\n",
              "      <td>What challenges may arise in a startup's UI de...</td>\n",
              "      <td>In a startup, challenges may arise in UI desig...</td>\n",
              "      <td>[executive skill sets required for a big compa...</td>\n",
              "      <td>In a startup, it is easy for the code to not g...</td>\n",
              "    </tr>\n",
              "    <tr>\n",
              "      <th>16</th>\n",
              "      <td>What is the importance of practical skills in ...</td>\n",
              "      <td>Practical skills are crucial in real-life situ...</td>\n",
              "      <td>[liberal arts broadening your horizons.\\nWhat ...</td>\n",
              "      <td>The importance of practical skills in real-lif...</td>\n",
              "    </tr>\n",
              "    <tr>\n",
              "      <th>17</th>\n",
              "      <td>What factors should be considered when making ...</td>\n",
              "      <td>When making executive hires in startups, it is...</td>\n",
              "      <td>[order to execute its plan? E.g. a startup pla...</td>\n",
              "      <td>The factors that should be considered when mak...</td>\n",
              "    </tr>\n",
              "    <tr>\n",
              "      <th>18</th>\n",
              "      <td>Which folder is for follow-up on commitments m...</td>\n",
              "      <td>The folder for follow-up on commitments made b...</td>\n",
              "      <td>[the normal course of your day.\\nFourth, aside...</td>\n",
              "      <td>Pending</td>\n",
              "    </tr>\n",
              "    <tr>\n",
              "      <th>19</th>\n",
              "      <td>How does luck affect the perception of success...</td>\n",
              "      <td>Luck can affect the perception of successful e...</td>\n",
              "      <td>[posts about luck and the entrepreneur.\\nLuck ...</td>\n",
              "      <td>If luck plays a significant role in the succes...</td>\n",
              "    </tr>\n",
              "  </tbody>\n",
              "</table>\n",
              "</div>"
            ],
            "text/plain": [
              "\n",
              "                                             question  \\\n",
              "\u001b[1;36m0\u001b[0m   What are the criteria for evaluating candidate\u001b[33m...\u001b[0m   \n",
              "\u001b[1;36m1\u001b[0m   How does the reluctance to change early-formed\u001b[33m...\u001b[0m   \n",
              "\u001b[1;36m2\u001b[0m   How have modern programming technologies contr\u001b[33m...\u001b[0m   \n",
              "\u001b[1;36m3\u001b[0m   What are some potential unanticipated setbacks\u001b[33m...\u001b[0m   \n",
              "\u001b[1;36m4\u001b[0m   Why is geographic locality still important in \u001b[33m...\u001b[0m   \n",
              "\u001b[1;36m5\u001b[0m   What factors determine the peak age for creati\u001b[33m...\u001b[0m   \n",
              "\u001b[1;36m6\u001b[0m   What is the negative impact of a hyper-control\u001b[33m...\u001b[0m   \n",
              "\u001b[1;36m7\u001b[0m   How important is it for a startup to focus on \u001b[33m...\u001b[0m   \n",
              "\u001b[1;36m8\u001b[0m   What is the best way to develop contacts with \u001b[33m...\u001b[0m   \n",
              "\u001b[1;36m9\u001b[0m   What are the benefits of restructuring in term\u001b[33m...\u001b[0m   \n",
              "\u001b[1;36m10\u001b[0m  What options are available for someone startin\u001b[33m...\u001b[0m   \n",
              "\u001b[1;36m11\u001b[0m  What benefits does a pre-planned list of quest\u001b[33m...\u001b[0m   \n",
              "\u001b[1;36m12\u001b[0m  What factors should startups consider when det\u001b[33m...\u001b[0m   \n",
              "\u001b[1;36m13\u001b[0m  What are the risks of hiring an executive from\u001b[33m...\u001b[0m   \n",
              "\u001b[1;36m14\u001b[0m  Why is offering generous compensation importan\u001b[33m...\u001b[0m   \n",
              "\u001b[1;36m15\u001b[0m  What challenges may arise in a startup's UI de\u001b[33m...\u001b[0m   \n",
              "\u001b[1;36m16\u001b[0m  What is the importance of practical skills in \u001b[33m...\u001b[0m   \n",
              "\u001b[1;36m17\u001b[0m  What factors should be considered when making \u001b[33m...\u001b[0m   \n",
              "\u001b[1;36m18\u001b[0m  Which folder is for follow-up on commitments m\u001b[33m...\u001b[0m   \n",
              "\u001b[1;36m19\u001b[0m  How does luck affect the perception of success\u001b[33m...\u001b[0m   \n",
              "\n",
              "                                               answer  \\\n",
              "\u001b[1;36m0\u001b[0m   When hiring the best people, it is important t\u001b[33m...\u001b[0m   \n",
              "\u001b[1;36m1\u001b[0m   The reluctance to change early-formed habits c\u001b[33m...\u001b[0m   \n",
              "\u001b[1;36m2\u001b[0m   Modern programming technologies have significa\u001b[33m...\u001b[0m   \n",
              "\u001b[1;36m3\u001b[0m   Some potential unanticipated setbacks that can\u001b[33m...\u001b[0m   \n",
              "\u001b[1;36m4\u001b[0m   Geographic locality is still important in acce\u001b[33m...\u001b[0m   \n",
              "\u001b[1;36m5\u001b[0m   The text mentions that the peak age for creati\u001b[33m...\u001b[0m   \n",
              "\u001b[1;36m6\u001b[0m   The negative impact of a hyper-controlling man\u001b[33m...\u001b[0m   \n",
              "\u001b[1;36m7\u001b[0m   It is very important for a startup to focus on\u001b[33m...\u001b[0m   \n",
              "\u001b[1;36m8\u001b[0m   The best way to develop contacts with VCs, acc\u001b[33m...\u001b[0m   \n",
              "\u001b[1;36m9\u001b[0m   Restructuring by reducing the size of a team a\u001b[33m...\u001b[0m   \n",
              "\u001b[1;36m10\u001b[0m  Starting at a community college, you have the \u001b[33m...\u001b[0m   \n",
              "\u001b[1;36m11\u001b[0m  A pre-planned list of questions offers intervi\u001b[33m...\u001b[0m   \n",
              "\u001b[1;36m12\u001b[0m  Startups should consider the market size and c\u001b[33m...\u001b[0m   \n",
              "\u001b[1;36m13\u001b[0m  Hiring an executive from a big company for a s\u001b[33m...\u001b[0m   \n",
              "\u001b[1;36m14\u001b[0m  Offering generous compensation is important fo\u001b[33m...\u001b[0m   \n",
              "\u001b[1;36m15\u001b[0m  In a startup, challenges may arise in UI desig\u001b[33m...\u001b[0m   \n",
              "\u001b[1;36m16\u001b[0m  Practical skills are crucial in real-life situ\u001b[33m...\u001b[0m   \n",
              "\u001b[1;36m17\u001b[0m  When making executive hires in startups, it is\u001b[33m...\u001b[0m   \n",
              "\u001b[1;36m18\u001b[0m  The folder for follow-up on commitments made b\u001b[33m...\u001b[0m   \n",
              "\u001b[1;36m19\u001b[0m  Luck can affect the perception of successful e\u001b[33m...\u001b[0m   \n",
              "\n",
              "                                             contexts  \\\n",
              "\u001b[1;36m0\u001b[0m   \u001b[1m[\u001b[0mwith your team as you interview candidates fo\u001b[33m...\u001b[0m   \n",
              "\u001b[1;36m1\u001b[0m   \u001b[1m[\u001b[0mFive: Inconsistency-Avoidance Tendency\\n\u001b[1m[\u001b[0mPeop\u001b[33m...\u001b[0m   \n",
              "\u001b[1;36m2\u001b[0m   \u001b[1m[\u001b[0mlate \u001b[1;36m90\u001b[0m’s — due to commodity hardware, open s\u001b[33m...\u001b[0m   \n",
              "\u001b[1;36m3\u001b[0m   \u001b[1m[\u001b[0mHere’s why you shouldn’t do that:\\nWhat are t\u001b[33m...\u001b[0m   \n",
              "\u001b[1;36m4\u001b[0m   \u001b[1m[\u001b[0m— don’t want to hear it. But it’s true. Geogr\u001b[33m...\u001b[0m   \n",
              "\u001b[1;36m5\u001b[0m   \u001b[1m[\u001b[0mcreator’s most distinguished work will appear\u001b[33m...\u001b[0m   \n",
              "\u001b[1;36m6\u001b[0m   \u001b[1m[\u001b[0msevere personality disorder who micromanages \u001b[33m...\u001b[0m   \n",
              "\u001b[1;36m7\u001b[0m   \u001b[1m[\u001b[0manswer, in part because in the beginning of a\u001b[33m...\u001b[0m   \n",
              "\u001b[1;36m8\u001b[0m   \u001b[1m[\u001b[0mIf\\nyou\\nengage\\nin\\na\\nset\\nof\\nthese\\ntechn\u001b[33m...\u001b[0m   \n",
              "\u001b[1;36m9\u001b[0m   \u001b[1m[\u001b[0mbefore. By reducing the size of a team, and i\u001b[33m...\u001b[0m   \n",
              "\u001b[1;36m10\u001b[0m  \u001b[1m[\u001b[0mnity college, by the time you Xnish \u001b[1;36m4\u001b[0m-\u001b[1;36m6\u001b[0m years\u001b[33m...\u001b[0m   \n",
              "\u001b[1;36m11\u001b[0m  \u001b[1m[\u001b[0mwith your team as you interview candidates fo\u001b[33m...\u001b[0m   \n",
              "\u001b[1;36m12\u001b[0m  \u001b[1m[\u001b[0mthe most important factor in a startup’s succ\u001b[33m...\u001b[0m   \n",
              "\u001b[1;36m13\u001b[0m  \u001b[1m[\u001b[0mexecutive skill sets required for a big compa\u001b[33m...\u001b[0m   \n",
              "\u001b[1;36m14\u001b[0m  \u001b[1m[\u001b[0mThe only way a company in that situation can \u001b[33m...\u001b[0m   \n",
              "\u001b[1;36m15\u001b[0m  \u001b[1m[\u001b[0mexecutive skill sets required for a big compa\u001b[33m...\u001b[0m   \n",
              "\u001b[1;36m16\u001b[0m  \u001b[1m[\u001b[0mliberal arts broadening your horizons.\\nWhat \u001b[33m...\u001b[0m   \n",
              "\u001b[1;36m17\u001b[0m  \u001b[1m[\u001b[0morder to execute its plan? E.g. a startup pla\u001b[33m...\u001b[0m   \n",
              "\u001b[1;36m18\u001b[0m  \u001b[1m[\u001b[0mthe normal course of your day.\\nFourth, aside\u001b[33m...\u001b[0m   \n",
              "\u001b[1;36m19\u001b[0m  \u001b[1m[\u001b[0mposts about luck and the entrepreneur.\\nLuck \u001b[33m...\u001b[0m   \n",
              "\n",
              "                                         ground_truth  \n",
              "\u001b[1;36m0\u001b[0m                                                 nan  \n",
              "\u001b[1;36m1\u001b[0m   The reluctance to change early-formed habits c\u001b[33m...\u001b[0m  \n",
              "\u001b[1;36m2\u001b[0m   Modern programming technologies have contribut\u001b[33m...\u001b[0m  \n",
              "\u001b[1;36m3\u001b[0m   You may have unanticipated setbacks within you\u001b[33m...\u001b[0m  \n",
              "\u001b[1;36m4\u001b[0m   Geographic locality is still important in acce\u001b[33m...\u001b[0m  \n",
              "\u001b[1;36m5\u001b[0m   The expected age optimum for quantity and qual\u001b[33m...\u001b[0m  \n",
              "\u001b[1;36m6\u001b[0m   The negative impact of a hyper-controlling man\u001b[33m...\u001b[0m  \n",
              "\u001b[1;36m7\u001b[0m   Focusing on developing a large market is impor\u001b[33m...\u001b[0m  \n",
              "\u001b[1;36m8\u001b[0m   The best way to develop contacts with VCs, in \u001b[33m...\u001b[0m  \n",
              "\u001b[1;36m9\u001b[0m   By reducing the size of a team, restructuring \u001b[33m...\u001b[0m  \n",
              "\u001b[1;36m10\u001b[0m  If someone starts at a community college, they\u001b[33m...\u001b[0m  \n",
              "\u001b[1;36m11\u001b[0m  By having a pre-planned list of questions, int\u001b[33m...\u001b[0m  \n",
              "\u001b[1;36m12\u001b[0m  Startups should consider the size of the marke\u001b[33m...\u001b[0m  \n",
              "\u001b[1;36m13\u001b[0m  Beware hiring a big company executive for a st\u001b[33m...\u001b[0m  \n",
              "\u001b[1;36m14\u001b[0m                                                nan  \n",
              "\u001b[1;36m15\u001b[0m  In a startup, it is easy for the code to not g\u001b[33m...\u001b[0m  \n",
              "\u001b[1;36m16\u001b[0m  The importance of practical skills in real-lif\u001b[33m...\u001b[0m  \n",
              "\u001b[1;36m17\u001b[0m  The factors that should be considered when mak\u001b[33m...\u001b[0m  \n",
              "\u001b[1;36m18\u001b[0m                                            Pending  \n",
              "\u001b[1;36m19\u001b[0m  If luck plays a significant role in the succes\u001b[33m...\u001b[0m  "
            ]
          },
          "execution_count": 46,
          "metadata": {},
          "output_type": "execute_result"
        }
      ],
      "source": [
        "response_dataset_advanced_retrieval.to_pandas()"
      ]
    },
    {
      "cell_type": "markdown",
      "metadata": {
        "id": "dELYabwktR2C"
      },
      "source": [
        "Let's evaluate on the same metrics we did for the first pipeline and see how it does!"
      ]
    },
    {
      "cell_type": "code",
      "execution_count": 47,
      "metadata": {
        "colab": {
          "base_uri": "https://localhost:8080/",
          "height": 49,
          "referenced_widgets": [
            "831b4dab6ff94d239d2824d390e01308",
            "4cefefc6cf714a68924e1b8d5e59aba9",
            "fd7f5542a22d44388dda12ca19443a1f",
            "93bf9b194c04460abffa192c19bcf67b",
            "83985f58744a46cfbd001ce5957f3e4a",
            "5c2b92989d7448e9bf65306c4f2f7d93",
            "a34b3906cd514234a115c7bf6757ca9d",
            "a03fefb9fa5a40ff947dc4ccd3c80318",
            "40343486e3ea4e5fae55b5a528f139d8",
            "cee2268aa21643e6ad77117c67ec1600",
            "c79f28da88f44d69aa87905c089df333"
          ]
        },
        "id": "d7uHseWJo2TU",
        "outputId": "8facfba9-467a-4129-b381-ddbd0a952f28"
      },
      "outputs": [
        {
          "data": {
            "application/vnd.jupyter.widget-view+json": {
              "model_id": "4d4d7d775538496eb4eb0e8cd9930189",
              "version_major": 2,
              "version_minor": 0
            },
            "text/plain": [
              "Evaluating:   0%|          | 0/100 [00:00<?, ?it/s]"
            ]
          },
          "metadata": {},
          "output_type": "display_data"
        }
      ],
      "source": [
        "advanced_retrieval_results = evaluate(response_dataset_advanced_retrieval, metrics)"
      ]
    },
    {
      "cell_type": "code",
      "execution_count": 48,
      "metadata": {
        "colab": {
          "base_uri": "https://localhost:8080/",
          "height": 1000
        },
        "id": "JsFd0uDd2n5E",
        "outputId": "0922ab45-c16a-48c4-c9c2-3647ff130391"
      },
      "outputs": [
        {
          "data": {
            "text/html": [
              "<pre style=\"white-space:pre;overflow-x:auto;line-height:normal;font-family:Menlo,'DejaVu Sans Mono',consolas,'Courier New',monospace\"></pre>\n"
            ],
            "text/plain": []
          },
          "metadata": {},
          "output_type": "display_data"
        },
        {
          "data": {
            "text/html": [
              "<div>\n",
              "<style scoped>\n",
              "    .dataframe tbody tr th:only-of-type {\n",
              "        vertical-align: middle;\n",
              "    }\n",
              "\n",
              "    .dataframe tbody tr th {\n",
              "        vertical-align: top;\n",
              "    }\n",
              "\n",
              "    .dataframe thead th {\n",
              "        text-align: right;\n",
              "    }\n",
              "</style>\n",
              "<table border=\"1\" class=\"dataframe\">\n",
              "  <thead>\n",
              "    <tr style=\"text-align: right;\">\n",
              "      <th></th>\n",
              "      <th>question</th>\n",
              "      <th>answer</th>\n",
              "      <th>contexts</th>\n",
              "      <th>ground_truth</th>\n",
              "      <th>faithfulness</th>\n",
              "      <th>answer_relevancy</th>\n",
              "      <th>context_recall</th>\n",
              "      <th>context_precision</th>\n",
              "      <th>answer_correctness</th>\n",
              "    </tr>\n",
              "  </thead>\n",
              "  <tbody>\n",
              "    <tr>\n",
              "      <th>0</th>\n",
              "      <td>What are the criteria for evaluating candidate...</td>\n",
              "      <td>When hiring the best people, it is important t...</td>\n",
              "      <td>[with your team as you interview candidates fo...</td>\n",
              "      <td>nan</td>\n",
              "      <td>1.000000</td>\n",
              "      <td>0.937369</td>\n",
              "      <td>1.000000</td>\n",
              "      <td>0.000000</td>\n",
              "      <td>0.179971</td>\n",
              "    </tr>\n",
              "    <tr>\n",
              "      <th>1</th>\n",
              "      <td>How does the reluctance to change early-formed...</td>\n",
              "      <td>The reluctance to change early-formed habits c...</td>\n",
              "      <td>[Five: Inconsistency-Avoidance Tendency\\n[Peop...</td>\n",
              "      <td>The reluctance to change early-formed habits c...</td>\n",
              "      <td>1.000000</td>\n",
              "      <td>0.919766</td>\n",
              "      <td>1.000000</td>\n",
              "      <td>0.833333</td>\n",
              "      <td>0.425984</td>\n",
              "    </tr>\n",
              "    <tr>\n",
              "      <th>2</th>\n",
              "      <td>How have modern programming technologies contr...</td>\n",
              "      <td>Modern programming technologies have significa...</td>\n",
              "      <td>[late 90’s — due to commodity hardware, open s...</td>\n",
              "      <td>Modern programming technologies have contribut...</td>\n",
              "      <td>1.000000</td>\n",
              "      <td>1.000000</td>\n",
              "      <td>0.500000</td>\n",
              "      <td>0.833333</td>\n",
              "      <td>0.845747</td>\n",
              "    </tr>\n",
              "    <tr>\n",
              "      <th>3</th>\n",
              "      <td>What are some potential unanticipated setbacks...</td>\n",
              "      <td>Some potential unanticipated setbacks that can...</td>\n",
              "      <td>[Here’s why you shouldn’t do that:\\nWhat are t...</td>\n",
              "      <td>You may have unanticipated setbacks within you...</td>\n",
              "      <td>1.000000</td>\n",
              "      <td>1.000000</td>\n",
              "      <td>0.000000</td>\n",
              "      <td>1.000000</td>\n",
              "      <td>0.215343</td>\n",
              "    </tr>\n",
              "    <tr>\n",
              "      <th>4</th>\n",
              "      <td>Why is geographic locality still important in ...</td>\n",
              "      <td>Geographic locality is still important in acce...</td>\n",
              "      <td>[— don’t want to hear it. But it’s true. Geogr...</td>\n",
              "      <td>Geographic locality is still important in acce...</td>\n",
              "      <td>1.000000</td>\n",
              "      <td>1.000000</td>\n",
              "      <td>1.000000</td>\n",
              "      <td>1.000000</td>\n",
              "      <td>0.689856</td>\n",
              "    </tr>\n",
              "    <tr>\n",
              "      <th>5</th>\n",
              "      <td>What factors determine the peak age for creati...</td>\n",
              "      <td>The text mentions that the peak age for creati...</td>\n",
              "      <td>[creator’s most distinguished work will appear...</td>\n",
              "      <td>The expected age optimum for quantity and qual...</td>\n",
              "      <td>1.000000</td>\n",
              "      <td>0.924469</td>\n",
              "      <td>0.000000</td>\n",
              "      <td>0.887500</td>\n",
              "      <td>0.218227</td>\n",
              "    </tr>\n",
              "    <tr>\n",
              "      <th>6</th>\n",
              "      <td>What is the negative impact of a hyper-control...</td>\n",
              "      <td>The negative impact of a hyper-controlling man...</td>\n",
              "      <td>[severe personality disorder who micromanages ...</td>\n",
              "      <td>The negative impact of a hyper-controlling man...</td>\n",
              "      <td>1.000000</td>\n",
              "      <td>0.990508</td>\n",
              "      <td>1.000000</td>\n",
              "      <td>0.583333</td>\n",
              "      <td>0.537469</td>\n",
              "    </tr>\n",
              "    <tr>\n",
              "      <th>7</th>\n",
              "      <td>How important is it for a startup to focus on ...</td>\n",
              "      <td>It is very important for a startup to focus on...</td>\n",
              "      <td>[answer, in part because in the beginning of a...</td>\n",
              "      <td>Focusing on developing a large market is impor...</td>\n",
              "      <td>0.600000</td>\n",
              "      <td>0.979670</td>\n",
              "      <td>1.000000</td>\n",
              "      <td>1.000000</td>\n",
              "      <td>0.562863</td>\n",
              "    </tr>\n",
              "    <tr>\n",
              "      <th>8</th>\n",
              "      <td>What is the best way to develop contacts with ...</td>\n",
              "      <td>The best way to develop contacts with VCs, acc...</td>\n",
              "      <td>[If\\nyou\\nengage\\nin\\na\\nset\\nof\\nthese\\ntechn...</td>\n",
              "      <td>The best way to develop contacts with VCs, in ...</td>\n",
              "      <td>0.250000</td>\n",
              "      <td>0.976858</td>\n",
              "      <td>1.000000</td>\n",
              "      <td>0.500000</td>\n",
              "      <td>0.615210</td>\n",
              "    </tr>\n",
              "    <tr>\n",
              "      <th>9</th>\n",
              "      <td>What are the benefits of restructuring in term...</td>\n",
              "      <td>Restructuring by reducing the size of a team a...</td>\n",
              "      <td>[before. By reducing the size of a team, and i...</td>\n",
              "      <td>By reducing the size of a team, restructuring ...</td>\n",
              "      <td>1.000000</td>\n",
              "      <td>0.826892</td>\n",
              "      <td>1.000000</td>\n",
              "      <td>0.700000</td>\n",
              "      <td>0.610893</td>\n",
              "    </tr>\n",
              "    <tr>\n",
              "      <th>10</th>\n",
              "      <td>What options are available for someone startin...</td>\n",
              "      <td>Starting at a community college, you have the ...</td>\n",
              "      <td>[nity college, by the time you Xnish 4-6 years...</td>\n",
              "      <td>If someone starts at a community college, they...</td>\n",
              "      <td>0.200000</td>\n",
              "      <td>0.816325</td>\n",
              "      <td>0.333333</td>\n",
              "      <td>0.805556</td>\n",
              "      <td>0.502976</td>\n",
              "    </tr>\n",
              "    <tr>\n",
              "      <th>11</th>\n",
              "      <td>What benefits does a pre-planned list of quest...</td>\n",
              "      <td>A pre-planned list of questions offers intervi...</td>\n",
              "      <td>[with your team as you interview candidates fo...</td>\n",
              "      <td>By having a pre-planned list of questions, int...</td>\n",
              "      <td>0.666667</td>\n",
              "      <td>0.957139</td>\n",
              "      <td>1.000000</td>\n",
              "      <td>1.000000</td>\n",
              "      <td>0.540096</td>\n",
              "    </tr>\n",
              "    <tr>\n",
              "      <th>12</th>\n",
              "      <td>What factors should startups consider when det...</td>\n",
              "      <td>Startups should consider the market size and c...</td>\n",
              "      <td>[the most important factor in a startup’s succ...</td>\n",
              "      <td>Startups should consider the size of the marke...</td>\n",
              "      <td>1.000000</td>\n",
              "      <td>0.967746</td>\n",
              "      <td>0.666667</td>\n",
              "      <td>1.000000</td>\n",
              "      <td>0.691714</td>\n",
              "    </tr>\n",
              "    <tr>\n",
              "      <th>13</th>\n",
              "      <td>What are the risks of hiring an executive from...</td>\n",
              "      <td>Hiring an executive from a big company for a s...</td>\n",
              "      <td>[executive skill sets required for a big compa...</td>\n",
              "      <td>Beware hiring a big company executive for a st...</td>\n",
              "      <td>1.000000</td>\n",
              "      <td>0.959656</td>\n",
              "      <td>0.714286</td>\n",
              "      <td>0.926667</td>\n",
              "      <td>0.760583</td>\n",
              "    </tr>\n",
              "    <tr>\n",
              "      <th>14</th>\n",
              "      <td>Why is offering generous compensation importan...</td>\n",
              "      <td>Offering generous compensation is important fo...</td>\n",
              "      <td>[The only way a company in that situation can ...</td>\n",
              "      <td>nan</td>\n",
              "      <td>0.200000</td>\n",
              "      <td>0.999505</td>\n",
              "      <td>0.000000</td>\n",
              "      <td>0.166667</td>\n",
              "      <td>0.172417</td>\n",
              "    </tr>\n",
              "    <tr>\n",
              "      <th>15</th>\n",
              "      <td>What challenges may arise in a startup's UI de...</td>\n",
              "      <td>In a startup, challenges may arise in UI desig...</td>\n",
              "      <td>[executive skill sets required for a big compa...</td>\n",
              "      <td>In a startup, it is easy for the code to not g...</td>\n",
              "      <td>0.875000</td>\n",
              "      <td>0.990291</td>\n",
              "      <td>0.500000</td>\n",
              "      <td>1.000000</td>\n",
              "      <td>0.374663</td>\n",
              "    </tr>\n",
              "    <tr>\n",
              "      <th>16</th>\n",
              "      <td>What is the importance of practical skills in ...</td>\n",
              "      <td>Practical skills are crucial in real-life situ...</td>\n",
              "      <td>[liberal arts broadening your horizons.\\nWhat ...</td>\n",
              "      <td>The importance of practical skills in real-lif...</td>\n",
              "      <td>0.428571</td>\n",
              "      <td>0.905620</td>\n",
              "      <td>1.000000</td>\n",
              "      <td>0.950000</td>\n",
              "      <td>0.563310</td>\n",
              "    </tr>\n",
              "    <tr>\n",
              "      <th>17</th>\n",
              "      <td>What factors should be considered when making ...</td>\n",
              "      <td>When making executive hires in startups, it is...</td>\n",
              "      <td>[order to execute its plan? E.g. a startup pla...</td>\n",
              "      <td>The factors that should be considered when mak...</td>\n",
              "      <td>0.866667</td>\n",
              "      <td>0.955508</td>\n",
              "      <td>0.333333</td>\n",
              "      <td>1.000000</td>\n",
              "      <td>0.488843</td>\n",
              "    </tr>\n",
              "    <tr>\n",
              "      <th>18</th>\n",
              "      <td>Which folder is for follow-up on commitments m...</td>\n",
              "      <td>The folder for follow-up on commitments made b...</td>\n",
              "      <td>[the normal course of your day.\\nFourth, aside...</td>\n",
              "      <td>Pending</td>\n",
              "      <td>0.000000</td>\n",
              "      <td>0.990558</td>\n",
              "      <td>0.000000</td>\n",
              "      <td>0.700000</td>\n",
              "      <td>0.703100</td>\n",
              "    </tr>\n",
              "    <tr>\n",
              "      <th>19</th>\n",
              "      <td>How does luck affect the perception of success...</td>\n",
              "      <td>Luck can affect the perception of successful e...</td>\n",
              "      <td>[posts about luck and the entrepreneur.\\nLuck ...</td>\n",
              "      <td>If luck plays a significant role in the succes...</td>\n",
              "      <td>1.000000</td>\n",
              "      <td>0.966418</td>\n",
              "      <td>1.000000</td>\n",
              "      <td>1.000000</td>\n",
              "      <td>0.689546</td>\n",
              "    </tr>\n",
              "  </tbody>\n",
              "</table>\n",
              "</div>"
            ],
            "text/plain": [
              "\n",
              "                                             question  \\\n",
              "\u001b[1;36m0\u001b[0m   What are the criteria for evaluating candidate\u001b[33m...\u001b[0m   \n",
              "\u001b[1;36m1\u001b[0m   How does the reluctance to change early-formed\u001b[33m...\u001b[0m   \n",
              "\u001b[1;36m2\u001b[0m   How have modern programming technologies contr\u001b[33m...\u001b[0m   \n",
              "\u001b[1;36m3\u001b[0m   What are some potential unanticipated setbacks\u001b[33m...\u001b[0m   \n",
              "\u001b[1;36m4\u001b[0m   Why is geographic locality still important in \u001b[33m...\u001b[0m   \n",
              "\u001b[1;36m5\u001b[0m   What factors determine the peak age for creati\u001b[33m...\u001b[0m   \n",
              "\u001b[1;36m6\u001b[0m   What is the negative impact of a hyper-control\u001b[33m...\u001b[0m   \n",
              "\u001b[1;36m7\u001b[0m   How important is it for a startup to focus on \u001b[33m...\u001b[0m   \n",
              "\u001b[1;36m8\u001b[0m   What is the best way to develop contacts with \u001b[33m...\u001b[0m   \n",
              "\u001b[1;36m9\u001b[0m   What are the benefits of restructuring in term\u001b[33m...\u001b[0m   \n",
              "\u001b[1;36m10\u001b[0m  What options are available for someone startin\u001b[33m...\u001b[0m   \n",
              "\u001b[1;36m11\u001b[0m  What benefits does a pre-planned list of quest\u001b[33m...\u001b[0m   \n",
              "\u001b[1;36m12\u001b[0m  What factors should startups consider when det\u001b[33m...\u001b[0m   \n",
              "\u001b[1;36m13\u001b[0m  What are the risks of hiring an executive from\u001b[33m...\u001b[0m   \n",
              "\u001b[1;36m14\u001b[0m  Why is offering generous compensation importan\u001b[33m...\u001b[0m   \n",
              "\u001b[1;36m15\u001b[0m  What challenges may arise in a startup's UI de\u001b[33m...\u001b[0m   \n",
              "\u001b[1;36m16\u001b[0m  What is the importance of practical skills in \u001b[33m...\u001b[0m   \n",
              "\u001b[1;36m17\u001b[0m  What factors should be considered when making \u001b[33m...\u001b[0m   \n",
              "\u001b[1;36m18\u001b[0m  Which folder is for follow-up on commitments m\u001b[33m...\u001b[0m   \n",
              "\u001b[1;36m19\u001b[0m  How does luck affect the perception of success\u001b[33m...\u001b[0m   \n",
              "\n",
              "                                               answer  \\\n",
              "\u001b[1;36m0\u001b[0m   When hiring the best people, it is important t\u001b[33m...\u001b[0m   \n",
              "\u001b[1;36m1\u001b[0m   The reluctance to change early-formed habits c\u001b[33m...\u001b[0m   \n",
              "\u001b[1;36m2\u001b[0m   Modern programming technologies have significa\u001b[33m...\u001b[0m   \n",
              "\u001b[1;36m3\u001b[0m   Some potential unanticipated setbacks that can\u001b[33m...\u001b[0m   \n",
              "\u001b[1;36m4\u001b[0m   Geographic locality is still important in acce\u001b[33m...\u001b[0m   \n",
              "\u001b[1;36m5\u001b[0m   The text mentions that the peak age for creati\u001b[33m...\u001b[0m   \n",
              "\u001b[1;36m6\u001b[0m   The negative impact of a hyper-controlling man\u001b[33m...\u001b[0m   \n",
              "\u001b[1;36m7\u001b[0m   It is very important for a startup to focus on\u001b[33m...\u001b[0m   \n",
              "\u001b[1;36m8\u001b[0m   The best way to develop contacts with VCs, acc\u001b[33m...\u001b[0m   \n",
              "\u001b[1;36m9\u001b[0m   Restructuring by reducing the size of a team a\u001b[33m...\u001b[0m   \n",
              "\u001b[1;36m10\u001b[0m  Starting at a community college, you have the \u001b[33m...\u001b[0m   \n",
              "\u001b[1;36m11\u001b[0m  A pre-planned list of questions offers intervi\u001b[33m...\u001b[0m   \n",
              "\u001b[1;36m12\u001b[0m  Startups should consider the market size and c\u001b[33m...\u001b[0m   \n",
              "\u001b[1;36m13\u001b[0m  Hiring an executive from a big company for a s\u001b[33m...\u001b[0m   \n",
              "\u001b[1;36m14\u001b[0m  Offering generous compensation is important fo\u001b[33m...\u001b[0m   \n",
              "\u001b[1;36m15\u001b[0m  In a startup, challenges may arise in UI desig\u001b[33m...\u001b[0m   \n",
              "\u001b[1;36m16\u001b[0m  Practical skills are crucial in real-life situ\u001b[33m...\u001b[0m   \n",
              "\u001b[1;36m17\u001b[0m  When making executive hires in startups, it is\u001b[33m...\u001b[0m   \n",
              "\u001b[1;36m18\u001b[0m  The folder for follow-up on commitments made b\u001b[33m...\u001b[0m   \n",
              "\u001b[1;36m19\u001b[0m  Luck can affect the perception of successful e\u001b[33m...\u001b[0m   \n",
              "\n",
              "                                             contexts  \\\n",
              "\u001b[1;36m0\u001b[0m   \u001b[1m[\u001b[0mwith your team as you interview candidates fo\u001b[33m...\u001b[0m   \n",
              "\u001b[1;36m1\u001b[0m   \u001b[1m[\u001b[0mFive: Inconsistency-Avoidance Tendency\\n\u001b[1m[\u001b[0mPeop\u001b[33m...\u001b[0m   \n",
              "\u001b[1;36m2\u001b[0m   \u001b[1m[\u001b[0mlate \u001b[1;36m90\u001b[0m’s — due to commodity hardware, open s\u001b[33m...\u001b[0m   \n",
              "\u001b[1;36m3\u001b[0m   \u001b[1m[\u001b[0mHere’s why you shouldn’t do that:\\nWhat are t\u001b[33m...\u001b[0m   \n",
              "\u001b[1;36m4\u001b[0m   \u001b[1m[\u001b[0m— don’t want to hear it. But it’s true. Geogr\u001b[33m...\u001b[0m   \n",
              "\u001b[1;36m5\u001b[0m   \u001b[1m[\u001b[0mcreator’s most distinguished work will appear\u001b[33m...\u001b[0m   \n",
              "\u001b[1;36m6\u001b[0m   \u001b[1m[\u001b[0msevere personality disorder who micromanages \u001b[33m...\u001b[0m   \n",
              "\u001b[1;36m7\u001b[0m   \u001b[1m[\u001b[0manswer, in part because in the beginning of a\u001b[33m...\u001b[0m   \n",
              "\u001b[1;36m8\u001b[0m   \u001b[1m[\u001b[0mIf\\nyou\\nengage\\nin\\na\\nset\\nof\\nthese\\ntechn\u001b[33m...\u001b[0m   \n",
              "\u001b[1;36m9\u001b[0m   \u001b[1m[\u001b[0mbefore. By reducing the size of a team, and i\u001b[33m...\u001b[0m   \n",
              "\u001b[1;36m10\u001b[0m  \u001b[1m[\u001b[0mnity college, by the time you Xnish \u001b[1;36m4\u001b[0m-\u001b[1;36m6\u001b[0m years\u001b[33m...\u001b[0m   \n",
              "\u001b[1;36m11\u001b[0m  \u001b[1m[\u001b[0mwith your team as you interview candidates fo\u001b[33m...\u001b[0m   \n",
              "\u001b[1;36m12\u001b[0m  \u001b[1m[\u001b[0mthe most important factor in a startup’s succ\u001b[33m...\u001b[0m   \n",
              "\u001b[1;36m13\u001b[0m  \u001b[1m[\u001b[0mexecutive skill sets required for a big compa\u001b[33m...\u001b[0m   \n",
              "\u001b[1;36m14\u001b[0m  \u001b[1m[\u001b[0mThe only way a company in that situation can \u001b[33m...\u001b[0m   \n",
              "\u001b[1;36m15\u001b[0m  \u001b[1m[\u001b[0mexecutive skill sets required for a big compa\u001b[33m...\u001b[0m   \n",
              "\u001b[1;36m16\u001b[0m  \u001b[1m[\u001b[0mliberal arts broadening your horizons.\\nWhat \u001b[33m...\u001b[0m   \n",
              "\u001b[1;36m17\u001b[0m  \u001b[1m[\u001b[0morder to execute its plan? E.g. a startup pla\u001b[33m...\u001b[0m   \n",
              "\u001b[1;36m18\u001b[0m  \u001b[1m[\u001b[0mthe normal course of your day.\\nFourth, aside\u001b[33m...\u001b[0m   \n",
              "\u001b[1;36m19\u001b[0m  \u001b[1m[\u001b[0mposts about luck and the entrepreneur.\\nLuck \u001b[33m...\u001b[0m   \n",
              "\n",
              "                                         ground_truth  faithfulness  \\\n",
              "\u001b[1;36m0\u001b[0m                                                 nan      \u001b[1;36m1.000000\u001b[0m   \n",
              "\u001b[1;36m1\u001b[0m   The reluctance to change early-formed habits c\u001b[33m...\u001b[0m      \u001b[1;36m1.000000\u001b[0m   \n",
              "\u001b[1;36m2\u001b[0m   Modern programming technologies have contribut\u001b[33m...\u001b[0m      \u001b[1;36m1.000000\u001b[0m   \n",
              "\u001b[1;36m3\u001b[0m   You may have unanticipated setbacks within you\u001b[33m...\u001b[0m      \u001b[1;36m1.000000\u001b[0m   \n",
              "\u001b[1;36m4\u001b[0m   Geographic locality is still important in acce\u001b[33m...\u001b[0m      \u001b[1;36m1.000000\u001b[0m   \n",
              "\u001b[1;36m5\u001b[0m   The expected age optimum for quantity and qual\u001b[33m...\u001b[0m      \u001b[1;36m1.000000\u001b[0m   \n",
              "\u001b[1;36m6\u001b[0m   The negative impact of a hyper-controlling man\u001b[33m...\u001b[0m      \u001b[1;36m1.000000\u001b[0m   \n",
              "\u001b[1;36m7\u001b[0m   Focusing on developing a large market is impor\u001b[33m...\u001b[0m      \u001b[1;36m0.600000\u001b[0m   \n",
              "\u001b[1;36m8\u001b[0m   The best way to develop contacts with VCs, in \u001b[33m...\u001b[0m      \u001b[1;36m0.250000\u001b[0m   \n",
              "\u001b[1;36m9\u001b[0m   By reducing the size of a team, restructuring \u001b[33m...\u001b[0m      \u001b[1;36m1.000000\u001b[0m   \n",
              "\u001b[1;36m10\u001b[0m  If someone starts at a community college, they\u001b[33m...\u001b[0m      \u001b[1;36m0.200000\u001b[0m   \n",
              "\u001b[1;36m11\u001b[0m  By having a pre-planned list of questions, int\u001b[33m...\u001b[0m      \u001b[1;36m0.666667\u001b[0m   \n",
              "\u001b[1;36m12\u001b[0m  Startups should consider the size of the marke\u001b[33m...\u001b[0m      \u001b[1;36m1.000000\u001b[0m   \n",
              "\u001b[1;36m13\u001b[0m  Beware hiring a big company executive for a st\u001b[33m...\u001b[0m      \u001b[1;36m1.000000\u001b[0m   \n",
              "\u001b[1;36m14\u001b[0m                                                nan      \u001b[1;36m0.200000\u001b[0m   \n",
              "\u001b[1;36m15\u001b[0m  In a startup, it is easy for the code to not g\u001b[33m...\u001b[0m      \u001b[1;36m0.875000\u001b[0m   \n",
              "\u001b[1;36m16\u001b[0m  The importance of practical skills in real-lif\u001b[33m...\u001b[0m      \u001b[1;36m0.428571\u001b[0m   \n",
              "\u001b[1;36m17\u001b[0m  The factors that should be considered when mak\u001b[33m...\u001b[0m      \u001b[1;36m0.866667\u001b[0m   \n",
              "\u001b[1;36m18\u001b[0m                                            Pending      \u001b[1;36m0.000000\u001b[0m   \n",
              "\u001b[1;36m19\u001b[0m  If luck plays a significant role in the succes\u001b[33m...\u001b[0m      \u001b[1;36m1.000000\u001b[0m   \n",
              "\n",
              "    answer_relevancy  context_recall  context_precision  answer_correctness  \n",
              "\u001b[1;36m0\u001b[0m           \u001b[1;36m0.937369\u001b[0m        \u001b[1;36m1.000000\u001b[0m           \u001b[1;36m0.000000\u001b[0m            \u001b[1;36m0.179971\u001b[0m  \n",
              "\u001b[1;36m1\u001b[0m           \u001b[1;36m0.919766\u001b[0m        \u001b[1;36m1.000000\u001b[0m           \u001b[1;36m0.833333\u001b[0m            \u001b[1;36m0.425984\u001b[0m  \n",
              "\u001b[1;36m2\u001b[0m           \u001b[1;36m1.000000\u001b[0m        \u001b[1;36m0.500000\u001b[0m           \u001b[1;36m0.833333\u001b[0m            \u001b[1;36m0.845747\u001b[0m  \n",
              "\u001b[1;36m3\u001b[0m           \u001b[1;36m1.000000\u001b[0m        \u001b[1;36m0.000000\u001b[0m           \u001b[1;36m1.000000\u001b[0m            \u001b[1;36m0.215343\u001b[0m  \n",
              "\u001b[1;36m4\u001b[0m           \u001b[1;36m1.000000\u001b[0m        \u001b[1;36m1.000000\u001b[0m           \u001b[1;36m1.000000\u001b[0m            \u001b[1;36m0.689856\u001b[0m  \n",
              "\u001b[1;36m5\u001b[0m           \u001b[1;36m0.924469\u001b[0m        \u001b[1;36m0.000000\u001b[0m           \u001b[1;36m0.887500\u001b[0m            \u001b[1;36m0.218227\u001b[0m  \n",
              "\u001b[1;36m6\u001b[0m           \u001b[1;36m0.990508\u001b[0m        \u001b[1;36m1.000000\u001b[0m           \u001b[1;36m0.583333\u001b[0m            \u001b[1;36m0.537469\u001b[0m  \n",
              "\u001b[1;36m7\u001b[0m           \u001b[1;36m0.979670\u001b[0m        \u001b[1;36m1.000000\u001b[0m           \u001b[1;36m1.000000\u001b[0m            \u001b[1;36m0.562863\u001b[0m  \n",
              "\u001b[1;36m8\u001b[0m           \u001b[1;36m0.976858\u001b[0m        \u001b[1;36m1.000000\u001b[0m           \u001b[1;36m0.500000\u001b[0m            \u001b[1;36m0.615210\u001b[0m  \n",
              "\u001b[1;36m9\u001b[0m           \u001b[1;36m0.826892\u001b[0m        \u001b[1;36m1.000000\u001b[0m           \u001b[1;36m0.700000\u001b[0m            \u001b[1;36m0.610893\u001b[0m  \n",
              "\u001b[1;36m10\u001b[0m          \u001b[1;36m0.816325\u001b[0m        \u001b[1;36m0.333333\u001b[0m           \u001b[1;36m0.805556\u001b[0m            \u001b[1;36m0.502976\u001b[0m  \n",
              "\u001b[1;36m11\u001b[0m          \u001b[1;36m0.957139\u001b[0m        \u001b[1;36m1.000000\u001b[0m           \u001b[1;36m1.000000\u001b[0m            \u001b[1;36m0.540096\u001b[0m  \n",
              "\u001b[1;36m12\u001b[0m          \u001b[1;36m0.967746\u001b[0m        \u001b[1;36m0.666667\u001b[0m           \u001b[1;36m1.000000\u001b[0m            \u001b[1;36m0.691714\u001b[0m  \n",
              "\u001b[1;36m13\u001b[0m          \u001b[1;36m0.959656\u001b[0m        \u001b[1;36m0.714286\u001b[0m           \u001b[1;36m0.926667\u001b[0m            \u001b[1;36m0.760583\u001b[0m  \n",
              "\u001b[1;36m14\u001b[0m          \u001b[1;36m0.999505\u001b[0m        \u001b[1;36m0.000000\u001b[0m           \u001b[1;36m0.166667\u001b[0m            \u001b[1;36m0.172417\u001b[0m  \n",
              "\u001b[1;36m15\u001b[0m          \u001b[1;36m0.990291\u001b[0m        \u001b[1;36m0.500000\u001b[0m           \u001b[1;36m1.000000\u001b[0m            \u001b[1;36m0.374663\u001b[0m  \n",
              "\u001b[1;36m16\u001b[0m          \u001b[1;36m0.905620\u001b[0m        \u001b[1;36m1.000000\u001b[0m           \u001b[1;36m0.950000\u001b[0m            \u001b[1;36m0.563310\u001b[0m  \n",
              "\u001b[1;36m17\u001b[0m          \u001b[1;36m0.955508\u001b[0m        \u001b[1;36m0.333333\u001b[0m           \u001b[1;36m1.000000\u001b[0m            \u001b[1;36m0.488843\u001b[0m  \n",
              "\u001b[1;36m18\u001b[0m          \u001b[1;36m0.990558\u001b[0m        \u001b[1;36m0.000000\u001b[0m           \u001b[1;36m0.700000\u001b[0m            \u001b[1;36m0.703100\u001b[0m  \n",
              "\u001b[1;36m19\u001b[0m          \u001b[1;36m0.966418\u001b[0m        \u001b[1;36m1.000000\u001b[0m           \u001b[1;36m1.000000\u001b[0m            \u001b[1;36m0.689546\u001b[0m  "
            ]
          },
          "execution_count": 48,
          "metadata": {},
          "output_type": "execute_result"
        }
      ],
      "source": [
        "advanced_retrieval_results_df = advanced_retrieval_results.to_pandas()\n",
        "advanced_retrieval_results_df"
      ]
    },
    {
      "cell_type": "markdown",
      "metadata": {
        "id": "J0hzqq5VtZ2a"
      },
      "source": [
        "## Task 3: Evaluating our Adjusted Pipeline Against Our Baseline\n",
        "\n",
        "Now we can compare our results and see what directional changes occured!\n",
        "\n",
        "Let's refresh with our initial metrics."
      ]
    },
    {
      "cell_type": "code",
      "execution_count": 49,
      "metadata": {
        "colab": {
          "base_uri": "https://localhost:8080/"
        },
        "id": "_WWGRaF5qx3V",
        "outputId": "7924b9a5-1bfc-4d26-f1f7-75e10fb64857"
      },
      "outputs": [
        {
          "data": {
            "text/html": [
              "<pre style=\"white-space:pre;overflow-x:auto;line-height:normal;font-family:Menlo,'DejaVu Sans Mono',consolas,'Courier New',monospace\"></pre>\n"
            ],
            "text/plain": []
          },
          "metadata": {},
          "output_type": "display_data"
        },
        {
          "data": {
            "text/plain": [
              "\u001b[1m{\u001b[0m\u001b[32m'faithfulness'\u001b[0m: \u001b[1;36m0.7833\u001b[0m, \u001b[32m'answer_relevancy'\u001b[0m: \u001b[1;36m0.9510\u001b[0m, \u001b[32m'context_recall'\u001b[0m: \u001b[1;36m0.5857\u001b[0m, \u001b[32m'context_precision'\u001b[0m: \u001b[1;36m0.7667\u001b[0m, \u001b[32m'answer_correctness'\u001b[0m: \u001b[1;36m0.4815\u001b[0m\u001b[1m}\u001b[0m"
            ]
          },
          "execution_count": 49,
          "metadata": {},
          "output_type": "execute_result"
        }
      ],
      "source": [
        "results"
      ]
    },
    {
      "cell_type": "markdown",
      "metadata": {
        "id": "oFv_yAeotmFs"
      },
      "source": [
        "And see how our advanced retrieval modified our chain!"
      ]
    },
    {
      "cell_type": "code",
      "execution_count": 50,
      "metadata": {
        "colab": {
          "base_uri": "https://localhost:8080/"
        },
        "id": "rpV11dxJo7xa",
        "outputId": "2ce6e4b7-f037-4fd4-ca0c-1d47ff5dc522"
      },
      "outputs": [
        {
          "data": {
            "text/html": [
              "<pre style=\"white-space:pre;overflow-x:auto;line-height:normal;font-family:Menlo,'DejaVu Sans Mono',consolas,'Courier New',monospace\"></pre>\n"
            ],
            "text/plain": []
          },
          "metadata": {},
          "output_type": "display_data"
        },
        {
          "data": {
            "text/plain": [
              "\u001b[1m{\u001b[0m\u001b[32m'faithfulness'\u001b[0m: \u001b[1;36m0.7543\u001b[0m, \u001b[32m'answer_relevancy'\u001b[0m: \u001b[1;36m0.9532\u001b[0m, \u001b[32m'context_recall'\u001b[0m: \u001b[1;36m0.6524\u001b[0m, \u001b[32m'context_precision'\u001b[0m: \u001b[1;36m0.7943\u001b[0m, \u001b[32m'answer_correctness'\u001b[0m: \u001b[1;36m0.5194\u001b[0m\u001b[1m}\u001b[0m"
            ]
          },
          "execution_count": 50,
          "metadata": {},
          "output_type": "execute_result"
        }
      ],
      "source": [
        "advanced_retrieval_results"
      ]
    },
    {
      "cell_type": "code",
      "execution_count": 51,
      "metadata": {
        "colab": {
          "base_uri": "https://localhost:8080/",
          "height": 206
        },
        "id": "62NYn3iAvTjM",
        "outputId": "732eec56-d4ef-4403-cc90-62d0c81c37cf"
      },
      "outputs": [
        {
          "data": {
            "text/html": [
              "<pre style=\"white-space:pre;overflow-x:auto;line-height:normal;font-family:Menlo,'DejaVu Sans Mono',consolas,'Courier New',monospace\"></pre>\n"
            ],
            "text/plain": []
          },
          "metadata": {},
          "output_type": "display_data"
        },
        {
          "data": {
            "text/html": [
              "<div>\n",
              "<style scoped>\n",
              "    .dataframe tbody tr th:only-of-type {\n",
              "        vertical-align: middle;\n",
              "    }\n",
              "\n",
              "    .dataframe tbody tr th {\n",
              "        vertical-align: top;\n",
              "    }\n",
              "\n",
              "    .dataframe thead th {\n",
              "        text-align: right;\n",
              "    }\n",
              "</style>\n",
              "<table border=\"1\" class=\"dataframe\">\n",
              "  <thead>\n",
              "    <tr style=\"text-align: right;\">\n",
              "      <th></th>\n",
              "      <th>Metric</th>\n",
              "      <th>Baseline</th>\n",
              "      <th>MultiQueryRetriever with Document Stuffing</th>\n",
              "      <th>Delta</th>\n",
              "    </tr>\n",
              "  </thead>\n",
              "  <tbody>\n",
              "    <tr>\n",
              "      <th>0</th>\n",
              "      <td>faithfulness</td>\n",
              "      <td>0.783333</td>\n",
              "      <td>0.754345</td>\n",
              "      <td>-0.028988</td>\n",
              "    </tr>\n",
              "    <tr>\n",
              "      <th>1</th>\n",
              "      <td>answer_relevancy</td>\n",
              "      <td>0.950992</td>\n",
              "      <td>0.953215</td>\n",
              "      <td>0.002223</td>\n",
              "    </tr>\n",
              "    <tr>\n",
              "      <th>2</th>\n",
              "      <td>context_recall</td>\n",
              "      <td>0.585714</td>\n",
              "      <td>0.652381</td>\n",
              "      <td>0.066667</td>\n",
              "    </tr>\n",
              "    <tr>\n",
              "      <th>3</th>\n",
              "      <td>context_precision</td>\n",
              "      <td>0.766667</td>\n",
              "      <td>0.794319</td>\n",
              "      <td>0.027653</td>\n",
              "    </tr>\n",
              "    <tr>\n",
              "      <th>4</th>\n",
              "      <td>answer_correctness</td>\n",
              "      <td>0.481508</td>\n",
              "      <td>0.519440</td>\n",
              "      <td>0.037933</td>\n",
              "    </tr>\n",
              "  </tbody>\n",
              "</table>\n",
              "</div>"
            ],
            "text/plain": [
              "\n",
              "               Metric  Baseline  MultiQueryRetriever with Document Stuffing  \\\n",
              "\u001b[1;36m0\u001b[0m        faithfulness  \u001b[1;36m0.783333\u001b[0m                                    \u001b[1;36m0.754345\u001b[0m   \n",
              "\u001b[1;36m1\u001b[0m    answer_relevancy  \u001b[1;36m0.950992\u001b[0m                                    \u001b[1;36m0.953215\u001b[0m   \n",
              "\u001b[1;36m2\u001b[0m      context_recall  \u001b[1;36m0.585714\u001b[0m                                    \u001b[1;36m0.652381\u001b[0m   \n",
              "\u001b[1;36m3\u001b[0m   context_precision  \u001b[1;36m0.766667\u001b[0m                                    \u001b[1;36m0.794319\u001b[0m   \n",
              "\u001b[1;36m4\u001b[0m  answer_correctness  \u001b[1;36m0.481508\u001b[0m                                    \u001b[1;36m0.519440\u001b[0m   \n",
              "\n",
              "      Delta  \n",
              "\u001b[1;36m0\u001b[0m \u001b[1;36m-0.028988\u001b[0m  \n",
              "\u001b[1;36m1\u001b[0m  \u001b[1;36m0.002223\u001b[0m  \n",
              "\u001b[1;36m2\u001b[0m  \u001b[1;36m0.066667\u001b[0m  \n",
              "\u001b[1;36m3\u001b[0m  \u001b[1;36m0.027653\u001b[0m  \n",
              "\u001b[1;36m4\u001b[0m  \u001b[1;36m0.037933\u001b[0m  "
            ]
          },
          "execution_count": 51,
          "metadata": {},
          "output_type": "execute_result"
        }
      ],
      "source": [
        "import pandas as pd\n",
        "\n",
        "df_original = pd.DataFrame(list(results.items()), columns=['Metric', 'Baseline'])\n",
        "df_comparison = pd.DataFrame(list(advanced_retrieval_results.items()), columns=['Metric', 'MultiQueryRetriever with Document Stuffing'])\n",
        "\n",
        "df_merged = pd.merge(df_original, df_comparison, on='Metric')\n",
        "\n",
        "df_merged['Delta'] = df_merged['MultiQueryRetriever with Document Stuffing'] - df_merged['Baseline']\n",
        "\n",
        "df_merged"
      ]
    },
    {
      "cell_type": "markdown",
      "metadata": {
        "id": "GJKEOLNs5v0R"
      },
      "source": [
        "## Task 4: Testing OpenAI's Claim\n",
        "\n",
        "Now that we've seen how our retriever can impact the performance of our RAG pipeline - let's see how changing our embedding model impacts performance."
      ]
    },
    {
      "cell_type": "markdown",
      "metadata": {
        "id": "MM4KRhJYEL-h"
      },
      "source": [
        "#### 🏗️ Activity #2:\n",
        "\n",
        "Please provide markdown, or code comments, to explain which each of the following steps are doing!\n",
        "\n",
        "##### Answer\n",
        "\n",
        "1. Create a new embedding model using TE3\n",
        "2. Create a new vector store in memory\n",
        "3. Build the retriever using MQR, and the generator using GPT-3.5-Turbo\n",
        "4. Generate the responses using the pipeline for all test questions\n",
        "5. Convert the responses into a dataset for Ragas\n",
        "6. Evaluate the pipeline using Ragas\n",
        "7. Print the results and compare them to the baseline"
      ]
    },
    {
      "cell_type": "code",
      "execution_count": 52,
      "metadata": {
        "id": "Gv_tv4w86bPb"
      },
      "outputs": [],
      "source": [
        "new_embeddings = OpenAIEmbeddings(model=\"text-embedding-3-small\")"
      ]
    },
    {
      "cell_type": "code",
      "execution_count": 53,
      "metadata": {
        "id": "-JPe1_Jx6Rnw"
      },
      "outputs": [],
      "source": [
        "vector_store = Qdrant.from_documents(\n",
        "    documents,\n",
        "    new_embeddings,\n",
        "    location=\":memory:\",\n",
        "    collection_name=\"PMarca Blogs - TE3 - MQR\",\n",
        ")"
      ]
    },
    {
      "cell_type": "code",
      "execution_count": 54,
      "metadata": {
        "id": "H-HuozNf6muZ"
      },
      "outputs": [],
      "source": [
        "new_retriever = vector_store.as_retriever()"
      ]
    },
    {
      "cell_type": "code",
      "execution_count": 55,
      "metadata": {
        "id": "M6Tyc3ZY7Km2"
      },
      "outputs": [],
      "source": [
        "new_advanced_retriever = MultiQueryRetriever.from_llm(retriever=new_retriever, llm=primary_qa_llm)"
      ]
    },
    {
      "cell_type": "code",
      "execution_count": 56,
      "metadata": {
        "id": "s5QSJIhm7SKr"
      },
      "outputs": [],
      "source": [
        "new_retrieval_chain = create_retrieval_chain(new_advanced_retriever, document_chain)"
      ]
    },
    {
      "cell_type": "code",
      "execution_count": 57,
      "metadata": {
        "id": "MBVjl1UK7fd7"
      },
      "outputs": [],
      "source": [
        "answers = []\n",
        "contexts = []\n",
        "\n",
        "for question in test_questions:\n",
        "  response = new_retrieval_chain.invoke({\"input\" : question})\n",
        "  answers.append(response[\"answer\"])\n",
        "  contexts.append([context.page_content for context in response[\"context\"]])"
      ]
    },
    {
      "cell_type": "code",
      "execution_count": 58,
      "metadata": {
        "id": "lTBrs0zr7iyG"
      },
      "outputs": [],
      "source": [
        "new_response_dataset_advanced_retrieval = Dataset.from_dict({\n",
        "    \"question\" : test_questions,\n",
        "    \"answer\" : answers,\n",
        "    \"contexts\" : contexts,\n",
        "    \"ground_truth\" : test_groundtruths\n",
        "})"
      ]
    },
    {
      "cell_type": "code",
      "execution_count": 59,
      "metadata": {
        "colab": {
          "base_uri": "https://localhost:8080/",
          "height": 49,
          "referenced_widgets": [
            "399f6ec046c34c26818a07c5efc6845a",
            "7f82e0a3c3684460b8dda773d283b535",
            "cfa01f60b62f4a88806d85cee5ac0fa6",
            "38988d3f6f5f4de3b3d4be7fec89c3c7",
            "87bd0ad74d4345dea4b409d64524f6e7",
            "8cb506949697432db061878397d196f1",
            "e7831a581d024e3ebb4026a89ceef127",
            "18701fc64eb44d26b8aa1ae0af64d09f",
            "a6581091161c489d877c2cfec432f6ae",
            "42dcc945d1624f69b63bed2fa52cc4fa",
            "5524289f1e594a5eac60ee29d9f4249c"
          ]
        },
        "id": "hG5h-D8n7sZp",
        "outputId": "6760b49b-4576-4bee-e61a-293df24e2bc3"
      },
      "outputs": [
        {
          "data": {
            "application/vnd.jupyter.widget-view+json": {
              "model_id": "b14bb1575ad044cf9227c2ec9daea6c2",
              "version_major": 2,
              "version_minor": 0
            },
            "text/plain": [
              "Evaluating:   0%|          | 0/100 [00:00<?, ?it/s]"
            ]
          },
          "metadata": {},
          "output_type": "display_data"
        }
      ],
      "source": [
        "new_advanced_retrieval_results = evaluate(new_response_dataset_advanced_retrieval, metrics)"
      ]
    },
    {
      "cell_type": "code",
      "execution_count": 60,
      "metadata": {
        "colab": {
          "base_uri": "https://localhost:8080/"
        },
        "id": "1uHdcpsZ76kj",
        "outputId": "53a4f4ef-13ce-4a89-a06e-6c255ed3c025"
      },
      "outputs": [
        {
          "data": {
            "text/html": [
              "<pre style=\"white-space:pre;overflow-x:auto;line-height:normal;font-family:Menlo,'DejaVu Sans Mono',consolas,'Courier New',monospace\"></pre>\n"
            ],
            "text/plain": []
          },
          "metadata": {},
          "output_type": "display_data"
        },
        {
          "data": {
            "text/plain": [
              "\u001b[1m{\u001b[0m\u001b[32m'faithfulness'\u001b[0m: \u001b[1;36m0.8754\u001b[0m, \u001b[32m'answer_relevancy'\u001b[0m: \u001b[1;36m0.9540\u001b[0m, \u001b[32m'context_recall'\u001b[0m: \u001b[1;36m0.5613\u001b[0m, \u001b[32m'context_precision'\u001b[0m: \u001b[1;36m0.7241\u001b[0m, \u001b[32m'answer_correctness'\u001b[0m: \u001b[1;36m0.5118\u001b[0m\u001b[1m}\u001b[0m"
            ]
          },
          "execution_count": 60,
          "metadata": {},
          "output_type": "execute_result"
        }
      ],
      "source": [
        "new_advanced_retrieval_results"
      ]
    },
    {
      "cell_type": "code",
      "execution_count": 61,
      "metadata": {
        "colab": {
          "base_uri": "https://localhost:8080/",
          "height": 206
        },
        "id": "s4TyaCUQ79Ke",
        "outputId": "c496266c-bf4a-4a3a-cd27-1d8abbf5bdb3"
      },
      "outputs": [
        {
          "data": {
            "text/html": [
              "<pre style=\"white-space:pre;overflow-x:auto;line-height:normal;font-family:Menlo,'DejaVu Sans Mono',consolas,'Courier New',monospace\"></pre>\n"
            ],
            "text/plain": []
          },
          "metadata": {},
          "output_type": "display_data"
        },
        {
          "data": {
            "text/html": [
              "<div>\n",
              "<style scoped>\n",
              "    .dataframe tbody tr th:only-of-type {\n",
              "        vertical-align: middle;\n",
              "    }\n",
              "\n",
              "    .dataframe tbody tr th {\n",
              "        vertical-align: top;\n",
              "    }\n",
              "\n",
              "    .dataframe thead th {\n",
              "        text-align: right;\n",
              "    }\n",
              "</style>\n",
              "<table border=\"1\" class=\"dataframe\">\n",
              "  <thead>\n",
              "    <tr style=\"text-align: right;\">\n",
              "      <th></th>\n",
              "      <th>Metric</th>\n",
              "      <th>ADA + Baseline</th>\n",
              "      <th>ADA + MQR</th>\n",
              "      <th>TE3 + MQR</th>\n",
              "      <th>ADA + MQR -&gt; TE3 + MQR</th>\n",
              "      <th>Baseline -&gt; TE3 + MQR</th>\n",
              "    </tr>\n",
              "  </thead>\n",
              "  <tbody>\n",
              "    <tr>\n",
              "      <th>0</th>\n",
              "      <td>faithfulness</td>\n",
              "      <td>0.783333</td>\n",
              "      <td>0.754345</td>\n",
              "      <td>0.875366</td>\n",
              "      <td>0.121021</td>\n",
              "      <td>0.092033</td>\n",
              "    </tr>\n",
              "    <tr>\n",
              "      <th>1</th>\n",
              "      <td>answer_relevancy</td>\n",
              "      <td>0.950992</td>\n",
              "      <td>0.953215</td>\n",
              "      <td>0.953960</td>\n",
              "      <td>0.000745</td>\n",
              "      <td>0.002968</td>\n",
              "    </tr>\n",
              "    <tr>\n",
              "      <th>2</th>\n",
              "      <td>context_recall</td>\n",
              "      <td>0.585714</td>\n",
              "      <td>0.652381</td>\n",
              "      <td>0.561310</td>\n",
              "      <td>-0.091071</td>\n",
              "      <td>-0.024405</td>\n",
              "    </tr>\n",
              "    <tr>\n",
              "      <th>3</th>\n",
              "      <td>context_precision</td>\n",
              "      <td>0.766667</td>\n",
              "      <td>0.794319</td>\n",
              "      <td>0.724075</td>\n",
              "      <td>-0.070244</td>\n",
              "      <td>-0.042591</td>\n",
              "    </tr>\n",
              "    <tr>\n",
              "      <th>4</th>\n",
              "      <td>answer_correctness</td>\n",
              "      <td>0.481508</td>\n",
              "      <td>0.519440</td>\n",
              "      <td>0.511753</td>\n",
              "      <td>-0.007687</td>\n",
              "      <td>0.030246</td>\n",
              "    </tr>\n",
              "  </tbody>\n",
              "</table>\n",
              "</div>"
            ],
            "text/plain": [
              "\n",
              "               Metric  ADA + Baseline  ADA + MQR  TE3 + MQR  \\\n",
              "\u001b[1;36m0\u001b[0m        faithfulness        \u001b[1;36m0.783333\u001b[0m   \u001b[1;36m0.754345\u001b[0m   \u001b[1;36m0.875366\u001b[0m   \n",
              "\u001b[1;36m1\u001b[0m    answer_relevancy        \u001b[1;36m0.950992\u001b[0m   \u001b[1;36m0.953215\u001b[0m   \u001b[1;36m0.953960\u001b[0m   \n",
              "\u001b[1;36m2\u001b[0m      context_recall        \u001b[1;36m0.585714\u001b[0m   \u001b[1;36m0.652381\u001b[0m   \u001b[1;36m0.561310\u001b[0m   \n",
              "\u001b[1;36m3\u001b[0m   context_precision        \u001b[1;36m0.766667\u001b[0m   \u001b[1;36m0.794319\u001b[0m   \u001b[1;36m0.724075\u001b[0m   \n",
              "\u001b[1;36m4\u001b[0m  answer_correctness        \u001b[1;36m0.481508\u001b[0m   \u001b[1;36m0.519440\u001b[0m   \u001b[1;36m0.511753\u001b[0m   \n",
              "\n",
              "   ADA + MQR -> TE3 + MQR  Baseline -> TE3 + MQR  \n",
              "\u001b[1;36m0\u001b[0m                \u001b[1;36m0.121021\u001b[0m               \u001b[1;36m0.092033\u001b[0m  \n",
              "\u001b[1;36m1\u001b[0m                \u001b[1;36m0.000745\u001b[0m               \u001b[1;36m0.002968\u001b[0m  \n",
              "\u001b[1;36m2\u001b[0m               \u001b[1;36m-0.091071\u001b[0m              \u001b[1;36m-0.024405\u001b[0m  \n",
              "\u001b[1;36m3\u001b[0m               \u001b[1;36m-0.070244\u001b[0m              \u001b[1;36m-0.042591\u001b[0m  \n",
              "\u001b[1;36m4\u001b[0m               \u001b[1;36m-0.007687\u001b[0m               \u001b[1;36m0.030246\u001b[0m  "
            ]
          },
          "execution_count": 61,
          "metadata": {},
          "output_type": "execute_result"
        }
      ],
      "source": [
        "df_baseline = pd.DataFrame(list(results.items()), columns=['Metric', 'ADA + Baseline'])\n",
        "df_original = pd.DataFrame(list(advanced_retrieval_results.items()), columns=['Metric', 'ADA + MQR'])\n",
        "df_comparison = pd.DataFrame(list(new_advanced_retrieval_results.items()), columns=['Metric', 'TE3 + MQR'])\n",
        "\n",
        "df_merged = pd.merge(df_original, df_comparison, on='Metric')\n",
        "df_merged = pd.merge(df_baseline, df_merged, on=\"Metric\")\n",
        "\n",
        "df_merged['ADA + MQR -> TE3 + MQR'] = df_merged['TE3 + MQR'] - df_merged['ADA + MQR']\n",
        "df_merged['Baseline -> TE3 + MQR'] = df_merged['TE3 + MQR'] - df_merged['ADA + Baseline']\n",
        "\n",
        "df_merged"
      ]
    },
    {
      "cell_type": "markdown",
      "metadata": {
        "id": "rRmkcMrxC4Me"
      },
      "source": [
        "#### ❓ Question #4:\n",
        "\n",
        "Do you think, in your opinion, `text-embedding-3-small` is significantly better than `ada`?"
      ]
    },
    {
      "cell_type": "markdown",
      "metadata": {},
      "source": [
        "#### Answer #4:\n",
        "\n",
        "Moving to TE3 increases the faithfulness of the pipeline, but sacrifices on recall and precision. It's a trade-off that may be worth it depending on the use case."
      ]
    },
    {
      "cell_type": "markdown",
      "metadata": {
        "id": "iOciJLABDBnA"
      },
      "source": [
        "## BONUS ACTIVITY: Using a Better Generator\n",
        "\n",
        "Now that we've seen how much more effective a better Retrieval pipeline is, let's look at what impact a better(?) Generator is!\n",
        "\n",
        "Adapt the above `TE3 + MQR` pipeline to use `GPT-4o` and compare the results below!"
      ]
    },
    {
      "cell_type": "code",
      "execution_count": 62,
      "metadata": {
        "id": "MY8l2EksDH43"
      },
      "outputs": [],
      "source": [
        "### YOUR CODE HERE\n",
        "\n",
        "advanced_qa_llm = ChatOpenAI(model_name=\"gpt-4o\", temperature=0)\n",
        "new_advanced_retriever = MultiQueryRetriever.from_llm(retriever=new_retriever, llm=primary_qa_llm)\n",
        "new_retrieval_chain = create_retrieval_chain(new_advanced_retriever, document_chain)\n",
        "\n",
        "answers = []\n",
        "contexts = []\n",
        "\n",
        "for question in test_questions:\n",
        "  response = new_retrieval_chain.invoke({\"input\" : question})\n",
        "  answers.append(response[\"answer\"])\n",
        "  contexts.append([context.page_content for context in response[\"context\"]])"
      ]
    },
    {
      "cell_type": "code",
      "execution_count": 63,
      "metadata": {},
      "outputs": [
        {
          "data": {
            "application/vnd.jupyter.widget-view+json": {
              "model_id": "de3195e335694591b1b14f905423ee48",
              "version_major": 2,
              "version_minor": 0
            },
            "text/plain": [
              "Evaluating:   0%|          | 0/100 [00:00<?, ?it/s]"
            ]
          },
          "metadata": {},
          "output_type": "display_data"
        },
        {
          "name": "stderr",
          "output_type": "stream",
          "text": [
            "Failed to parse output. Returning None.\n"
          ]
        }
      ],
      "source": [
        "new_response_dataset_advanced_retrieval_gpt4o = Dataset.from_dict({\n",
        "    \"question\" : test_questions,\n",
        "    \"answer\" : answers,\n",
        "    \"contexts\" : contexts,\n",
        "    \"ground_truth\" : test_groundtruths\n",
        "})\n",
        "\n",
        "new_advanced_retrieval_results_gpt4o = evaluate(new_response_dataset_advanced_retrieval, metrics)"
      ]
    },
    {
      "cell_type": "code",
      "execution_count": 64,
      "metadata": {},
      "outputs": [
        {
          "data": {
            "text/html": [
              "<pre style=\"white-space:pre;overflow-x:auto;line-height:normal;font-family:Menlo,'DejaVu Sans Mono',consolas,'Courier New',monospace\"></pre>\n"
            ],
            "text/plain": []
          },
          "metadata": {},
          "output_type": "display_data"
        },
        {
          "data": {
            "text/plain": [
              "\u001b[1m{\u001b[0m\u001b[32m'faithfulness'\u001b[0m: \u001b[1;36m0.8394\u001b[0m, \u001b[32m'answer_relevancy'\u001b[0m: \u001b[1;36m0.9530\u001b[0m, \u001b[32m'context_recall'\u001b[0m: \u001b[1;36m0.6104\u001b[0m, \u001b[32m'context_precision'\u001b[0m: \u001b[1;36m0.7092\u001b[0m, \u001b[32m'answer_correctness'\u001b[0m: \u001b[1;36m0.5331\u001b[0m\u001b[1m}\u001b[0m"
            ]
          },
          "execution_count": 64,
          "metadata": {},
          "output_type": "execute_result"
        }
      ],
      "source": [
        "new_advanced_retrieval_results_gpt4o"
      ]
    },
    {
      "cell_type": "code",
      "execution_count": 65,
      "metadata": {},
      "outputs": [
        {
          "data": {
            "text/html": [
              "<pre style=\"white-space:pre;overflow-x:auto;line-height:normal;font-family:Menlo,'DejaVu Sans Mono',consolas,'Courier New',monospace\"></pre>\n"
            ],
            "text/plain": []
          },
          "metadata": {},
          "output_type": "display_data"
        },
        {
          "data": {
            "text/html": [
              "<div>\n",
              "<style scoped>\n",
              "    .dataframe tbody tr th:only-of-type {\n",
              "        vertical-align: middle;\n",
              "    }\n",
              "\n",
              "    .dataframe tbody tr th {\n",
              "        vertical-align: top;\n",
              "    }\n",
              "\n",
              "    .dataframe thead th {\n",
              "        text-align: right;\n",
              "    }\n",
              "</style>\n",
              "<table border=\"1\" class=\"dataframe\">\n",
              "  <thead>\n",
              "    <tr style=\"text-align: right;\">\n",
              "      <th></th>\n",
              "      <th>Metric</th>\n",
              "      <th>TE3 + MQR + GPT-4o</th>\n",
              "      <th>ADA + Baseline</th>\n",
              "      <th>ADA + MQR</th>\n",
              "      <th>TE3 + MQR</th>\n",
              "      <th>ADA + MQR -&gt; TE3 + MQR</th>\n",
              "      <th>Baseline -&gt; TE3 + MQR</th>\n",
              "      <th>TE3 + MQR -&gt; TE3 + MQR + GPT-4o</th>\n",
              "      <th>Baseline -&gt; TE3 + MQR + GPT-4o</th>\n",
              "    </tr>\n",
              "  </thead>\n",
              "  <tbody>\n",
              "    <tr>\n",
              "      <th>0</th>\n",
              "      <td>faithfulness</td>\n",
              "      <td>0.839377</td>\n",
              "      <td>0.783333</td>\n",
              "      <td>0.754345</td>\n",
              "      <td>0.875366</td>\n",
              "      <td>0.121021</td>\n",
              "      <td>0.092033</td>\n",
              "      <td>-0.035989</td>\n",
              "      <td>0.056044</td>\n",
              "    </tr>\n",
              "    <tr>\n",
              "      <th>1</th>\n",
              "      <td>answer_relevancy</td>\n",
              "      <td>0.952959</td>\n",
              "      <td>0.950992</td>\n",
              "      <td>0.953215</td>\n",
              "      <td>0.953960</td>\n",
              "      <td>0.000745</td>\n",
              "      <td>0.002968</td>\n",
              "      <td>-0.001001</td>\n",
              "      <td>0.001966</td>\n",
              "    </tr>\n",
              "    <tr>\n",
              "      <th>2</th>\n",
              "      <td>context_recall</td>\n",
              "      <td>0.610417</td>\n",
              "      <td>0.585714</td>\n",
              "      <td>0.652381</td>\n",
              "      <td>0.561310</td>\n",
              "      <td>-0.091071</td>\n",
              "      <td>-0.024405</td>\n",
              "      <td>0.049107</td>\n",
              "      <td>0.024702</td>\n",
              "    </tr>\n",
              "    <tr>\n",
              "      <th>3</th>\n",
              "      <td>context_precision</td>\n",
              "      <td>0.709214</td>\n",
              "      <td>0.766667</td>\n",
              "      <td>0.794319</td>\n",
              "      <td>0.724075</td>\n",
              "      <td>-0.070244</td>\n",
              "      <td>-0.042591</td>\n",
              "      <td>-0.014861</td>\n",
              "      <td>-0.057452</td>\n",
              "    </tr>\n",
              "    <tr>\n",
              "      <th>4</th>\n",
              "      <td>answer_correctness</td>\n",
              "      <td>0.533075</td>\n",
              "      <td>0.481508</td>\n",
              "      <td>0.519440</td>\n",
              "      <td>0.511753</td>\n",
              "      <td>-0.007687</td>\n",
              "      <td>0.030246</td>\n",
              "      <td>0.021322</td>\n",
              "      <td>0.051568</td>\n",
              "    </tr>\n",
              "  </tbody>\n",
              "</table>\n",
              "</div>"
            ],
            "text/plain": [
              "\n",
              "               Metric  TE3 + MQR + GPT-4o  ADA + Baseline  ADA + MQR  \\\n",
              "\u001b[1;36m0\u001b[0m        faithfulness            \u001b[1;36m0.839377\u001b[0m        \u001b[1;36m0.783333\u001b[0m   \u001b[1;36m0.754345\u001b[0m   \n",
              "\u001b[1;36m1\u001b[0m    answer_relevancy            \u001b[1;36m0.952959\u001b[0m        \u001b[1;36m0.950992\u001b[0m   \u001b[1;36m0.953215\u001b[0m   \n",
              "\u001b[1;36m2\u001b[0m      context_recall            \u001b[1;36m0.610417\u001b[0m        \u001b[1;36m0.585714\u001b[0m   \u001b[1;36m0.652381\u001b[0m   \n",
              "\u001b[1;36m3\u001b[0m   context_precision            \u001b[1;36m0.709214\u001b[0m        \u001b[1;36m0.766667\u001b[0m   \u001b[1;36m0.794319\u001b[0m   \n",
              "\u001b[1;36m4\u001b[0m  answer_correctness            \u001b[1;36m0.533075\u001b[0m        \u001b[1;36m0.481508\u001b[0m   \u001b[1;36m0.519440\u001b[0m   \n",
              "\n",
              "   TE3 + MQR  ADA + MQR -> TE3 + MQR  Baseline -> TE3 + MQR  \\\n",
              "\u001b[1;36m0\u001b[0m   \u001b[1;36m0.875366\u001b[0m                \u001b[1;36m0.121021\u001b[0m               \u001b[1;36m0.092033\u001b[0m   \n",
              "\u001b[1;36m1\u001b[0m   \u001b[1;36m0.953960\u001b[0m                \u001b[1;36m0.000745\u001b[0m               \u001b[1;36m0.002968\u001b[0m   \n",
              "\u001b[1;36m2\u001b[0m   \u001b[1;36m0.561310\u001b[0m               \u001b[1;36m-0.091071\u001b[0m              \u001b[1;36m-0.024405\u001b[0m   \n",
              "\u001b[1;36m3\u001b[0m   \u001b[1;36m0.724075\u001b[0m               \u001b[1;36m-0.070244\u001b[0m              \u001b[1;36m-0.042591\u001b[0m   \n",
              "\u001b[1;36m4\u001b[0m   \u001b[1;36m0.511753\u001b[0m               \u001b[1;36m-0.007687\u001b[0m               \u001b[1;36m0.030246\u001b[0m   \n",
              "\n",
              "   TE3 + MQR -> TE3 + MQR + GPT-4o  Baseline -> TE3 + MQR + GPT-4o  \n",
              "\u001b[1;36m0\u001b[0m                        \u001b[1;36m-0.035989\u001b[0m                        \u001b[1;36m0.056044\u001b[0m  \n",
              "\u001b[1;36m1\u001b[0m                        \u001b[1;36m-0.001001\u001b[0m                        \u001b[1;36m0.001966\u001b[0m  \n",
              "\u001b[1;36m2\u001b[0m                         \u001b[1;36m0.049107\u001b[0m                        \u001b[1;36m0.024702\u001b[0m  \n",
              "\u001b[1;36m3\u001b[0m                        \u001b[1;36m-0.014861\u001b[0m                       \u001b[1;36m-0.057452\u001b[0m  \n",
              "\u001b[1;36m4\u001b[0m                         \u001b[1;36m0.021322\u001b[0m                        \u001b[1;36m0.051568\u001b[0m  "
            ]
          },
          "execution_count": 65,
          "metadata": {},
          "output_type": "execute_result"
        }
      ],
      "source": [
        "df_baseline = pd.DataFrame(list(results.items()), columns=['Metric', 'ADA + Baseline'])\n",
        "df_original = pd.DataFrame(list(advanced_retrieval_results.items()), columns=['Metric', 'ADA + MQR'])\n",
        "df_comparison = pd.DataFrame(list(new_advanced_retrieval_results.items()), columns=['Metric', 'TE3 + MQR'])\n",
        "df_gpt4o = pd.DataFrame(list(new_advanced_retrieval_results_gpt4o.items()), columns=['Metric', 'TE3 + MQR + GPT-4o'])\n",
        "\n",
        "df_merged = pd.merge(df_original, df_comparison, on='Metric')\n",
        "df_merged = pd.merge(df_baseline, df_merged, on=\"Metric\")\n",
        "df_merged = pd.merge(df_gpt4o, df_merged, on=\"Metric\")\n",
        "\n",
        "df_merged['ADA + MQR -> TE3 + MQR'] = df_merged['TE3 + MQR'] - df_merged['ADA + MQR']\n",
        "df_merged['Baseline -> TE3 + MQR'] = df_merged['TE3 + MQR'] - df_merged['ADA + Baseline']\n",
        "df_merged['TE3 + MQR -> TE3 + MQR + GPT-4o'] = df_merged['TE3 + MQR + GPT-4o'] - df_merged['TE3 + MQR']\n",
        "df_merged['Baseline -> TE3 + MQR + GPT-4o'] = df_merged['TE3 + MQR + GPT-4o'] - df_merged['ADA + Baseline']\n",
        "\n",
        "df_merged"
      ]
    },
    {
      "cell_type": "code",
      "execution_count": null,
      "metadata": {},
      "outputs": [],
      "source": []
    }
  ],
  "metadata": {
    "colab": {
      "provenance": [],
      "toc_visible": true
    },
    "kernelspec": {
      "display_name": "Python 3",
      "name": "python3"
    },
    "language_info": {
      "codemirror_mode": {
        "name": "ipython",
        "version": 3
      },
      "file_extension": ".py",
      "mimetype": "text/x-python",
      "name": "python",
      "nbconvert_exporter": "python",
      "pygments_lexer": "ipython3",
      "version": "3.11.0"
    },
    "widgets": {
      "application/vnd.jupyter.widget-state+json": {
        "05390d20f1b445b5b02529ee7a99f6d6": {
          "model_module": "@jupyter-widgets/controls",
          "model_module_version": "1.5.0",
          "model_name": "FloatProgressModel",
          "state": {
            "_dom_classes": [],
            "_model_module": "@jupyter-widgets/controls",
            "_model_module_version": "1.5.0",
            "_model_name": "FloatProgressModel",
            "_view_count": null,
            "_view_module": "@jupyter-widgets/controls",
            "_view_module_version": "1.5.0",
            "_view_name": "ProgressView",
            "bar_style": "success",
            "description": "",
            "description_tooltip": null,
            "layout": "IPY_MODEL_589c2004f5504a239615dec8671785d0",
            "max": 100,
            "min": 0,
            "orientation": "horizontal",
            "style": "IPY_MODEL_25d3337c457f4c748ed8bf78f5a27fe8",
            "value": 100
          }
        },
        "05ab48866b5d49df9567ce9cbda5ee2e": {
          "model_module": "@jupyter-widgets/controls",
          "model_module_version": "1.5.0",
          "model_name": "HBoxModel",
          "state": {
            "_dom_classes": [],
            "_model_module": "@jupyter-widgets/controls",
            "_model_module_version": "1.5.0",
            "_model_name": "HBoxModel",
            "_view_count": null,
            "_view_module": "@jupyter-widgets/controls",
            "_view_module_version": "1.5.0",
            "_view_name": "HBoxView",
            "box_style": "",
            "children": [
              "IPY_MODEL_49c1ef316e404052a7c8528781db3f9a",
              "IPY_MODEL_2dcb3e2fdf164e35a27a79cfae65933a",
              "IPY_MODEL_202f4244384a4501bfc1ffa50af96a1f"
            ],
            "layout": "IPY_MODEL_d93698b0506743ff98fdb998cfb7080a"
          }
        },
        "1317f4e20e1c4574a360345b427c3e8a": {
          "model_module": "@jupyter-widgets/controls",
          "model_module_version": "1.5.0",
          "model_name": "HTMLModel",
          "state": {
            "_dom_classes": [],
            "_model_module": "@jupyter-widgets/controls",
            "_model_module_version": "1.5.0",
            "_model_name": "HTMLModel",
            "_view_count": null,
            "_view_module": "@jupyter-widgets/controls",
            "_view_module_version": "1.5.0",
            "_view_name": "HTMLView",
            "description": "",
            "description_tooltip": null,
            "layout": "IPY_MODEL_92ef10fab64c4f40a93da3d31b572016",
            "placeholder": "​",
            "style": "IPY_MODEL_3b43c3f561e34d019007ac9a0125b28d",
            "value": " 1248/1248 [00:46&lt;00:00, 13.97it/s]"
          }
        },
        "18701fc64eb44d26b8aa1ae0af64d09f": {
          "model_module": "@jupyter-widgets/base",
          "model_module_version": "1.2.0",
          "model_name": "LayoutModel",
          "state": {
            "_model_module": "@jupyter-widgets/base",
            "_model_module_version": "1.2.0",
            "_model_name": "LayoutModel",
            "_view_count": null,
            "_view_module": "@jupyter-widgets/base",
            "_view_module_version": "1.2.0",
            "_view_name": "LayoutView",
            "align_content": null,
            "align_items": null,
            "align_self": null,
            "border": null,
            "bottom": null,
            "display": null,
            "flex": null,
            "flex_flow": null,
            "grid_area": null,
            "grid_auto_columns": null,
            "grid_auto_flow": null,
            "grid_auto_rows": null,
            "grid_column": null,
            "grid_gap": null,
            "grid_row": null,
            "grid_template_areas": null,
            "grid_template_columns": null,
            "grid_template_rows": null,
            "height": null,
            "justify_content": null,
            "justify_items": null,
            "left": null,
            "margin": null,
            "max_height": null,
            "max_width": null,
            "min_height": null,
            "min_width": null,
            "object_fit": null,
            "object_position": null,
            "order": null,
            "overflow": null,
            "overflow_x": null,
            "overflow_y": null,
            "padding": null,
            "right": null,
            "top": null,
            "visibility": null,
            "width": null
          }
        },
        "19acd28bfa2e4a7a83bc42faea5de770": {
          "model_module": "@jupyter-widgets/base",
          "model_module_version": "1.2.0",
          "model_name": "LayoutModel",
          "state": {
            "_model_module": "@jupyter-widgets/base",
            "_model_module_version": "1.2.0",
            "_model_name": "LayoutModel",
            "_view_count": null,
            "_view_module": "@jupyter-widgets/base",
            "_view_module_version": "1.2.0",
            "_view_name": "LayoutView",
            "align_content": null,
            "align_items": null,
            "align_self": null,
            "border": null,
            "bottom": null,
            "display": null,
            "flex": null,
            "flex_flow": null,
            "grid_area": null,
            "grid_auto_columns": null,
            "grid_auto_flow": null,
            "grid_auto_rows": null,
            "grid_column": null,
            "grid_gap": null,
            "grid_row": null,
            "grid_template_areas": null,
            "grid_template_columns": null,
            "grid_template_rows": null,
            "height": null,
            "justify_content": null,
            "justify_items": null,
            "left": null,
            "margin": null,
            "max_height": null,
            "max_width": null,
            "min_height": null,
            "min_width": null,
            "object_fit": null,
            "object_position": null,
            "order": null,
            "overflow": null,
            "overflow_x": null,
            "overflow_y": null,
            "padding": null,
            "right": null,
            "top": null,
            "visibility": null,
            "width": null
          }
        },
        "1d43002974f24e8a8b6961cddc04ce47": {
          "model_module": "@jupyter-widgets/base",
          "model_module_version": "1.2.0",
          "model_name": "LayoutModel",
          "state": {
            "_model_module": "@jupyter-widgets/base",
            "_model_module_version": "1.2.0",
            "_model_name": "LayoutModel",
            "_view_count": null,
            "_view_module": "@jupyter-widgets/base",
            "_view_module_version": "1.2.0",
            "_view_name": "LayoutView",
            "align_content": null,
            "align_items": null,
            "align_self": null,
            "border": null,
            "bottom": null,
            "display": null,
            "flex": null,
            "flex_flow": null,
            "grid_area": null,
            "grid_auto_columns": null,
            "grid_auto_flow": null,
            "grid_auto_rows": null,
            "grid_column": null,
            "grid_gap": null,
            "grid_row": null,
            "grid_template_areas": null,
            "grid_template_columns": null,
            "grid_template_rows": null,
            "height": null,
            "justify_content": null,
            "justify_items": null,
            "left": null,
            "margin": null,
            "max_height": null,
            "max_width": null,
            "min_height": null,
            "min_width": null,
            "object_fit": null,
            "object_position": null,
            "order": null,
            "overflow": null,
            "overflow_x": null,
            "overflow_y": null,
            "padding": null,
            "right": null,
            "top": null,
            "visibility": null,
            "width": null
          }
        },
        "1fb5a4b71deb406fa2f342c88b9e4e1d": {
          "model_module": "@jupyter-widgets/controls",
          "model_module_version": "1.5.0",
          "model_name": "HTMLModel",
          "state": {
            "_dom_classes": [],
            "_model_module": "@jupyter-widgets/controls",
            "_model_module_version": "1.5.0",
            "_model_name": "HTMLModel",
            "_view_count": null,
            "_view_module": "@jupyter-widgets/controls",
            "_view_module_version": "1.5.0",
            "_view_name": "HTMLView",
            "description": "",
            "description_tooltip": null,
            "layout": "IPY_MODEL_7e1d22c19aff4c768d643c249e425d00",
            "placeholder": "​",
            "style": "IPY_MODEL_3a498872a68049329b4d206629b9b3bf",
            "value": "embedding nodes: 100%"
          }
        },
        "202f4244384a4501bfc1ffa50af96a1f": {
          "model_module": "@jupyter-widgets/controls",
          "model_module_version": "1.5.0",
          "model_name": "HTMLModel",
          "state": {
            "_dom_classes": [],
            "_model_module": "@jupyter-widgets/controls",
            "_model_module_version": "1.5.0",
            "_model_name": "HTMLModel",
            "_view_count": null,
            "_view_module": "@jupyter-widgets/controls",
            "_view_module_version": "1.5.0",
            "_view_name": "HTMLView",
            "description": "",
            "description_tooltip": null,
            "layout": "IPY_MODEL_a10a7577a99b4683a1d59a09d88f93a1",
            "placeholder": "​",
            "style": "IPY_MODEL_444bc7dae1aa4e098b79655428599310",
            "value": " 20/20 [01:04&lt;00:00, 10.00s/it]"
          }
        },
        "25d3337c457f4c748ed8bf78f5a27fe8": {
          "model_module": "@jupyter-widgets/controls",
          "model_module_version": "1.5.0",
          "model_name": "ProgressStyleModel",
          "state": {
            "_model_module": "@jupyter-widgets/controls",
            "_model_module_version": "1.5.0",
            "_model_name": "ProgressStyleModel",
            "_view_count": null,
            "_view_module": "@jupyter-widgets/base",
            "_view_module_version": "1.2.0",
            "_view_name": "StyleView",
            "bar_color": null,
            "description_width": ""
          }
        },
        "2aa53858803d4ad39113009d86dd67fc": {
          "model_module": "@jupyter-widgets/base",
          "model_module_version": "1.2.0",
          "model_name": "LayoutModel",
          "state": {
            "_model_module": "@jupyter-widgets/base",
            "_model_module_version": "1.2.0",
            "_model_name": "LayoutModel",
            "_view_count": null,
            "_view_module": "@jupyter-widgets/base",
            "_view_module_version": "1.2.0",
            "_view_name": "LayoutView",
            "align_content": null,
            "align_items": null,
            "align_self": null,
            "border": null,
            "bottom": null,
            "display": null,
            "flex": null,
            "flex_flow": null,
            "grid_area": null,
            "grid_auto_columns": null,
            "grid_auto_flow": null,
            "grid_auto_rows": null,
            "grid_column": null,
            "grid_gap": null,
            "grid_row": null,
            "grid_template_areas": null,
            "grid_template_columns": null,
            "grid_template_rows": null,
            "height": null,
            "justify_content": null,
            "justify_items": null,
            "left": null,
            "margin": null,
            "max_height": null,
            "max_width": null,
            "min_height": null,
            "min_width": null,
            "object_fit": null,
            "object_position": null,
            "order": null,
            "overflow": null,
            "overflow_x": null,
            "overflow_y": null,
            "padding": null,
            "right": null,
            "top": null,
            "visibility": "hidden",
            "width": null
          }
        },
        "2dcb3e2fdf164e35a27a79cfae65933a": {
          "model_module": "@jupyter-widgets/controls",
          "model_module_version": "1.5.0",
          "model_name": "FloatProgressModel",
          "state": {
            "_dom_classes": [],
            "_model_module": "@jupyter-widgets/controls",
            "_model_module_version": "1.5.0",
            "_model_name": "FloatProgressModel",
            "_view_count": null,
            "_view_module": "@jupyter-widgets/controls",
            "_view_module_version": "1.5.0",
            "_view_name": "ProgressView",
            "bar_style": "success",
            "description": "",
            "description_tooltip": null,
            "layout": "IPY_MODEL_60a663f8736a43bcb47ac6c5f37ec597",
            "max": 20,
            "min": 0,
            "orientation": "horizontal",
            "style": "IPY_MODEL_e6edc46811064de2b74a6a477c4a44b7",
            "value": 20
          }
        },
        "31064d2adec14238a609d3f9791c64f3": {
          "model_module": "@jupyter-widgets/base",
          "model_module_version": "1.2.0",
          "model_name": "LayoutModel",
          "state": {
            "_model_module": "@jupyter-widgets/base",
            "_model_module_version": "1.2.0",
            "_model_name": "LayoutModel",
            "_view_count": null,
            "_view_module": "@jupyter-widgets/base",
            "_view_module_version": "1.2.0",
            "_view_name": "LayoutView",
            "align_content": null,
            "align_items": null,
            "align_self": null,
            "border": null,
            "bottom": null,
            "display": null,
            "flex": null,
            "flex_flow": null,
            "grid_area": null,
            "grid_auto_columns": null,
            "grid_auto_flow": null,
            "grid_auto_rows": null,
            "grid_column": null,
            "grid_gap": null,
            "grid_row": null,
            "grid_template_areas": null,
            "grid_template_columns": null,
            "grid_template_rows": null,
            "height": null,
            "justify_content": null,
            "justify_items": null,
            "left": null,
            "margin": null,
            "max_height": null,
            "max_width": null,
            "min_height": null,
            "min_width": null,
            "object_fit": null,
            "object_position": null,
            "order": null,
            "overflow": null,
            "overflow_x": null,
            "overflow_y": null,
            "padding": null,
            "right": null,
            "top": null,
            "visibility": null,
            "width": null
          }
        },
        "32514310070a426ea247c9f1bc66b630": {
          "model_module": "@jupyter-widgets/controls",
          "model_module_version": "1.5.0",
          "model_name": "HBoxModel",
          "state": {
            "_dom_classes": [],
            "_model_module": "@jupyter-widgets/controls",
            "_model_module_version": "1.5.0",
            "_model_name": "HBoxModel",
            "_view_count": null,
            "_view_module": "@jupyter-widgets/controls",
            "_view_module_version": "1.5.0",
            "_view_name": "HBoxView",
            "box_style": "",
            "children": [
              "IPY_MODEL_3e7520df71de40e0af5589b6aeb95171",
              "IPY_MODEL_05390d20f1b445b5b02529ee7a99f6d6",
              "IPY_MODEL_3380693903474d2585638f7e3458fcd6"
            ],
            "layout": "IPY_MODEL_1d43002974f24e8a8b6961cddc04ce47"
          }
        },
        "3380693903474d2585638f7e3458fcd6": {
          "model_module": "@jupyter-widgets/controls",
          "model_module_version": "1.5.0",
          "model_name": "HTMLModel",
          "state": {
            "_dom_classes": [],
            "_model_module": "@jupyter-widgets/controls",
            "_model_module_version": "1.5.0",
            "_model_name": "HTMLModel",
            "_view_count": null,
            "_view_module": "@jupyter-widgets/controls",
            "_view_module_version": "1.5.0",
            "_view_name": "HTMLView",
            "description": "",
            "description_tooltip": null,
            "layout": "IPY_MODEL_31064d2adec14238a609d3f9791c64f3",
            "placeholder": "​",
            "style": "IPY_MODEL_4f482b8ce7a54c1787394fb7d90391a0",
            "value": " 100/100 [00:33&lt;00:00,  1.55s/it]"
          }
        },
        "356b929fa8dc42538767c58dcce12217": {
          "model_module": "@jupyter-widgets/controls",
          "model_module_version": "1.5.0",
          "model_name": "DescriptionStyleModel",
          "state": {
            "_model_module": "@jupyter-widgets/controls",
            "_model_module_version": "1.5.0",
            "_model_name": "DescriptionStyleModel",
            "_view_count": null,
            "_view_module": "@jupyter-widgets/base",
            "_view_module_version": "1.2.0",
            "_view_name": "StyleView",
            "description_width": ""
          }
        },
        "37ec9b5c847749439d7c155ac3b1ec68": {
          "model_module": "@jupyter-widgets/controls",
          "model_module_version": "1.5.0",
          "model_name": "FloatProgressModel",
          "state": {
            "_dom_classes": [],
            "_model_module": "@jupyter-widgets/controls",
            "_model_module_version": "1.5.0",
            "_model_name": "FloatProgressModel",
            "_view_count": null,
            "_view_module": "@jupyter-widgets/controls",
            "_view_module_version": "1.5.0",
            "_view_name": "ProgressView",
            "bar_style": "",
            "description": "",
            "description_tooltip": null,
            "layout": "IPY_MODEL_89a7c333d0b241169dc29ed998b2c9c4",
            "max": 1248,
            "min": 0,
            "orientation": "horizontal",
            "style": "IPY_MODEL_88c8557741734e59a6099bb5fa260f6e",
            "value": 1248
          }
        },
        "38988d3f6f5f4de3b3d4be7fec89c3c7": {
          "model_module": "@jupyter-widgets/controls",
          "model_module_version": "1.5.0",
          "model_name": "HTMLModel",
          "state": {
            "_dom_classes": [],
            "_model_module": "@jupyter-widgets/controls",
            "_model_module_version": "1.5.0",
            "_model_name": "HTMLModel",
            "_view_count": null,
            "_view_module": "@jupyter-widgets/controls",
            "_view_module_version": "1.5.0",
            "_view_name": "HTMLView",
            "description": "",
            "description_tooltip": null,
            "layout": "IPY_MODEL_42dcc945d1624f69b63bed2fa52cc4fa",
            "placeholder": "​",
            "style": "IPY_MODEL_5524289f1e594a5eac60ee29d9f4249c",
            "value": " 100/100 [00:45&lt;00:00,  1.68s/it]"
          }
        },
        "399f6ec046c34c26818a07c5efc6845a": {
          "model_module": "@jupyter-widgets/controls",
          "model_module_version": "1.5.0",
          "model_name": "HBoxModel",
          "state": {
            "_dom_classes": [],
            "_model_module": "@jupyter-widgets/controls",
            "_model_module_version": "1.5.0",
            "_model_name": "HBoxModel",
            "_view_count": null,
            "_view_module": "@jupyter-widgets/controls",
            "_view_module_version": "1.5.0",
            "_view_name": "HBoxView",
            "box_style": "",
            "children": [
              "IPY_MODEL_7f82e0a3c3684460b8dda773d283b535",
              "IPY_MODEL_cfa01f60b62f4a88806d85cee5ac0fa6",
              "IPY_MODEL_38988d3f6f5f4de3b3d4be7fec89c3c7"
            ],
            "layout": "IPY_MODEL_87bd0ad74d4345dea4b409d64524f6e7"
          }
        },
        "3a498872a68049329b4d206629b9b3bf": {
          "model_module": "@jupyter-widgets/controls",
          "model_module_version": "1.5.0",
          "model_name": "DescriptionStyleModel",
          "state": {
            "_model_module": "@jupyter-widgets/controls",
            "_model_module_version": "1.5.0",
            "_model_name": "DescriptionStyleModel",
            "_view_count": null,
            "_view_module": "@jupyter-widgets/base",
            "_view_module_version": "1.2.0",
            "_view_name": "StyleView",
            "description_width": ""
          }
        },
        "3b43c3f561e34d019007ac9a0125b28d": {
          "model_module": "@jupyter-widgets/controls",
          "model_module_version": "1.5.0",
          "model_name": "DescriptionStyleModel",
          "state": {
            "_model_module": "@jupyter-widgets/controls",
            "_model_module_version": "1.5.0",
            "_model_name": "DescriptionStyleModel",
            "_view_count": null,
            "_view_module": "@jupyter-widgets/base",
            "_view_module_version": "1.2.0",
            "_view_name": "StyleView",
            "description_width": ""
          }
        },
        "3e7520df71de40e0af5589b6aeb95171": {
          "model_module": "@jupyter-widgets/controls",
          "model_module_version": "1.5.0",
          "model_name": "HTMLModel",
          "state": {
            "_dom_classes": [],
            "_model_module": "@jupyter-widgets/controls",
            "_model_module_version": "1.5.0",
            "_model_name": "HTMLModel",
            "_view_count": null,
            "_view_module": "@jupyter-widgets/controls",
            "_view_module_version": "1.5.0",
            "_view_name": "HTMLView",
            "description": "",
            "description_tooltip": null,
            "layout": "IPY_MODEL_97abe811c89c44dcacd7e39074d22546",
            "placeholder": "​",
            "style": "IPY_MODEL_87a3d4b2ed5f4f1ca895c6a1981eb847",
            "value": "Evaluating: 100%"
          }
        },
        "40343486e3ea4e5fae55b5a528f139d8": {
          "model_module": "@jupyter-widgets/controls",
          "model_module_version": "1.5.0",
          "model_name": "ProgressStyleModel",
          "state": {
            "_model_module": "@jupyter-widgets/controls",
            "_model_module_version": "1.5.0",
            "_model_name": "ProgressStyleModel",
            "_view_count": null,
            "_view_module": "@jupyter-widgets/base",
            "_view_module_version": "1.2.0",
            "_view_name": "StyleView",
            "bar_color": null,
            "description_width": ""
          }
        },
        "42dcc945d1624f69b63bed2fa52cc4fa": {
          "model_module": "@jupyter-widgets/base",
          "model_module_version": "1.2.0",
          "model_name": "LayoutModel",
          "state": {
            "_model_module": "@jupyter-widgets/base",
            "_model_module_version": "1.2.0",
            "_model_name": "LayoutModel",
            "_view_count": null,
            "_view_module": "@jupyter-widgets/base",
            "_view_module_version": "1.2.0",
            "_view_name": "LayoutView",
            "align_content": null,
            "align_items": null,
            "align_self": null,
            "border": null,
            "bottom": null,
            "display": null,
            "flex": null,
            "flex_flow": null,
            "grid_area": null,
            "grid_auto_columns": null,
            "grid_auto_flow": null,
            "grid_auto_rows": null,
            "grid_column": null,
            "grid_gap": null,
            "grid_row": null,
            "grid_template_areas": null,
            "grid_template_columns": null,
            "grid_template_rows": null,
            "height": null,
            "justify_content": null,
            "justify_items": null,
            "left": null,
            "margin": null,
            "max_height": null,
            "max_width": null,
            "min_height": null,
            "min_width": null,
            "object_fit": null,
            "object_position": null,
            "order": null,
            "overflow": null,
            "overflow_x": null,
            "overflow_y": null,
            "padding": null,
            "right": null,
            "top": null,
            "visibility": null,
            "width": null
          }
        },
        "444bc7dae1aa4e098b79655428599310": {
          "model_module": "@jupyter-widgets/controls",
          "model_module_version": "1.5.0",
          "model_name": "DescriptionStyleModel",
          "state": {
            "_model_module": "@jupyter-widgets/controls",
            "_model_module_version": "1.5.0",
            "_model_name": "DescriptionStyleModel",
            "_view_count": null,
            "_view_module": "@jupyter-widgets/base",
            "_view_module_version": "1.2.0",
            "_view_name": "StyleView",
            "description_width": ""
          }
        },
        "49c1ef316e404052a7c8528781db3f9a": {
          "model_module": "@jupyter-widgets/controls",
          "model_module_version": "1.5.0",
          "model_name": "HTMLModel",
          "state": {
            "_dom_classes": [],
            "_model_module": "@jupyter-widgets/controls",
            "_model_module_version": "1.5.0",
            "_model_name": "HTMLModel",
            "_view_count": null,
            "_view_module": "@jupyter-widgets/controls",
            "_view_module_version": "1.5.0",
            "_view_name": "HTMLView",
            "description": "",
            "description_tooltip": null,
            "layout": "IPY_MODEL_19acd28bfa2e4a7a83bc42faea5de770",
            "placeholder": "​",
            "style": "IPY_MODEL_356b929fa8dc42538767c58dcce12217",
            "value": "Generating: 100%"
          }
        },
        "4cefefc6cf714a68924e1b8d5e59aba9": {
          "model_module": "@jupyter-widgets/controls",
          "model_module_version": "1.5.0",
          "model_name": "HTMLModel",
          "state": {
            "_dom_classes": [],
            "_model_module": "@jupyter-widgets/controls",
            "_model_module_version": "1.5.0",
            "_model_name": "HTMLModel",
            "_view_count": null,
            "_view_module": "@jupyter-widgets/controls",
            "_view_module_version": "1.5.0",
            "_view_name": "HTMLView",
            "description": "",
            "description_tooltip": null,
            "layout": "IPY_MODEL_5c2b92989d7448e9bf65306c4f2f7d93",
            "placeholder": "​",
            "style": "IPY_MODEL_a34b3906cd514234a115c7bf6757ca9d",
            "value": "Evaluating: 100%"
          }
        },
        "4f482b8ce7a54c1787394fb7d90391a0": {
          "model_module": "@jupyter-widgets/controls",
          "model_module_version": "1.5.0",
          "model_name": "DescriptionStyleModel",
          "state": {
            "_model_module": "@jupyter-widgets/controls",
            "_model_module_version": "1.5.0",
            "_model_name": "DescriptionStyleModel",
            "_view_count": null,
            "_view_module": "@jupyter-widgets/base",
            "_view_module_version": "1.2.0",
            "_view_name": "StyleView",
            "description_width": ""
          }
        },
        "5524289f1e594a5eac60ee29d9f4249c": {
          "model_module": "@jupyter-widgets/controls",
          "model_module_version": "1.5.0",
          "model_name": "DescriptionStyleModel",
          "state": {
            "_model_module": "@jupyter-widgets/controls",
            "_model_module_version": "1.5.0",
            "_model_name": "DescriptionStyleModel",
            "_view_count": null,
            "_view_module": "@jupyter-widgets/base",
            "_view_module_version": "1.2.0",
            "_view_name": "StyleView",
            "description_width": ""
          }
        },
        "589c2004f5504a239615dec8671785d0": {
          "model_module": "@jupyter-widgets/base",
          "model_module_version": "1.2.0",
          "model_name": "LayoutModel",
          "state": {
            "_model_module": "@jupyter-widgets/base",
            "_model_module_version": "1.2.0",
            "_model_name": "LayoutModel",
            "_view_count": null,
            "_view_module": "@jupyter-widgets/base",
            "_view_module_version": "1.2.0",
            "_view_name": "LayoutView",
            "align_content": null,
            "align_items": null,
            "align_self": null,
            "border": null,
            "bottom": null,
            "display": null,
            "flex": null,
            "flex_flow": null,
            "grid_area": null,
            "grid_auto_columns": null,
            "grid_auto_flow": null,
            "grid_auto_rows": null,
            "grid_column": null,
            "grid_gap": null,
            "grid_row": null,
            "grid_template_areas": null,
            "grid_template_columns": null,
            "grid_template_rows": null,
            "height": null,
            "justify_content": null,
            "justify_items": null,
            "left": null,
            "margin": null,
            "max_height": null,
            "max_width": null,
            "min_height": null,
            "min_width": null,
            "object_fit": null,
            "object_position": null,
            "order": null,
            "overflow": null,
            "overflow_x": null,
            "overflow_y": null,
            "padding": null,
            "right": null,
            "top": null,
            "visibility": null,
            "width": null
          }
        },
        "5c2b92989d7448e9bf65306c4f2f7d93": {
          "model_module": "@jupyter-widgets/base",
          "model_module_version": "1.2.0",
          "model_name": "LayoutModel",
          "state": {
            "_model_module": "@jupyter-widgets/base",
            "_model_module_version": "1.2.0",
            "_model_name": "LayoutModel",
            "_view_count": null,
            "_view_module": "@jupyter-widgets/base",
            "_view_module_version": "1.2.0",
            "_view_name": "LayoutView",
            "align_content": null,
            "align_items": null,
            "align_self": null,
            "border": null,
            "bottom": null,
            "display": null,
            "flex": null,
            "flex_flow": null,
            "grid_area": null,
            "grid_auto_columns": null,
            "grid_auto_flow": null,
            "grid_auto_rows": null,
            "grid_column": null,
            "grid_gap": null,
            "grid_row": null,
            "grid_template_areas": null,
            "grid_template_columns": null,
            "grid_template_rows": null,
            "height": null,
            "justify_content": null,
            "justify_items": null,
            "left": null,
            "margin": null,
            "max_height": null,
            "max_width": null,
            "min_height": null,
            "min_width": null,
            "object_fit": null,
            "object_position": null,
            "order": null,
            "overflow": null,
            "overflow_x": null,
            "overflow_y": null,
            "padding": null,
            "right": null,
            "top": null,
            "visibility": null,
            "width": null
          }
        },
        "60a663f8736a43bcb47ac6c5f37ec597": {
          "model_module": "@jupyter-widgets/base",
          "model_module_version": "1.2.0",
          "model_name": "LayoutModel",
          "state": {
            "_model_module": "@jupyter-widgets/base",
            "_model_module_version": "1.2.0",
            "_model_name": "LayoutModel",
            "_view_count": null,
            "_view_module": "@jupyter-widgets/base",
            "_view_module_version": "1.2.0",
            "_view_name": "LayoutView",
            "align_content": null,
            "align_items": null,
            "align_self": null,
            "border": null,
            "bottom": null,
            "display": null,
            "flex": null,
            "flex_flow": null,
            "grid_area": null,
            "grid_auto_columns": null,
            "grid_auto_flow": null,
            "grid_auto_rows": null,
            "grid_column": null,
            "grid_gap": null,
            "grid_row": null,
            "grid_template_areas": null,
            "grid_template_columns": null,
            "grid_template_rows": null,
            "height": null,
            "justify_content": null,
            "justify_items": null,
            "left": null,
            "margin": null,
            "max_height": null,
            "max_width": null,
            "min_height": null,
            "min_width": null,
            "object_fit": null,
            "object_position": null,
            "order": null,
            "overflow": null,
            "overflow_x": null,
            "overflow_y": null,
            "padding": null,
            "right": null,
            "top": null,
            "visibility": null,
            "width": null
          }
        },
        "7e1d22c19aff4c768d643c249e425d00": {
          "model_module": "@jupyter-widgets/base",
          "model_module_version": "1.2.0",
          "model_name": "LayoutModel",
          "state": {
            "_model_module": "@jupyter-widgets/base",
            "_model_module_version": "1.2.0",
            "_model_name": "LayoutModel",
            "_view_count": null,
            "_view_module": "@jupyter-widgets/base",
            "_view_module_version": "1.2.0",
            "_view_name": "LayoutView",
            "align_content": null,
            "align_items": null,
            "align_self": null,
            "border": null,
            "bottom": null,
            "display": null,
            "flex": null,
            "flex_flow": null,
            "grid_area": null,
            "grid_auto_columns": null,
            "grid_auto_flow": null,
            "grid_auto_rows": null,
            "grid_column": null,
            "grid_gap": null,
            "grid_row": null,
            "grid_template_areas": null,
            "grid_template_columns": null,
            "grid_template_rows": null,
            "height": null,
            "justify_content": null,
            "justify_items": null,
            "left": null,
            "margin": null,
            "max_height": null,
            "max_width": null,
            "min_height": null,
            "min_width": null,
            "object_fit": null,
            "object_position": null,
            "order": null,
            "overflow": null,
            "overflow_x": null,
            "overflow_y": null,
            "padding": null,
            "right": null,
            "top": null,
            "visibility": null,
            "width": null
          }
        },
        "7f82e0a3c3684460b8dda773d283b535": {
          "model_module": "@jupyter-widgets/controls",
          "model_module_version": "1.5.0",
          "model_name": "HTMLModel",
          "state": {
            "_dom_classes": [],
            "_model_module": "@jupyter-widgets/controls",
            "_model_module_version": "1.5.0",
            "_model_name": "HTMLModel",
            "_view_count": null,
            "_view_module": "@jupyter-widgets/controls",
            "_view_module_version": "1.5.0",
            "_view_name": "HTMLView",
            "description": "",
            "description_tooltip": null,
            "layout": "IPY_MODEL_8cb506949697432db061878397d196f1",
            "placeholder": "​",
            "style": "IPY_MODEL_e7831a581d024e3ebb4026a89ceef127",
            "value": "Evaluating: 100%"
          }
        },
        "831b4dab6ff94d239d2824d390e01308": {
          "model_module": "@jupyter-widgets/controls",
          "model_module_version": "1.5.0",
          "model_name": "HBoxModel",
          "state": {
            "_dom_classes": [],
            "_model_module": "@jupyter-widgets/controls",
            "_model_module_version": "1.5.0",
            "_model_name": "HBoxModel",
            "_view_count": null,
            "_view_module": "@jupyter-widgets/controls",
            "_view_module_version": "1.5.0",
            "_view_name": "HBoxView",
            "box_style": "",
            "children": [
              "IPY_MODEL_4cefefc6cf714a68924e1b8d5e59aba9",
              "IPY_MODEL_fd7f5542a22d44388dda12ca19443a1f",
              "IPY_MODEL_93bf9b194c04460abffa192c19bcf67b"
            ],
            "layout": "IPY_MODEL_83985f58744a46cfbd001ce5957f3e4a"
          }
        },
        "83985f58744a46cfbd001ce5957f3e4a": {
          "model_module": "@jupyter-widgets/base",
          "model_module_version": "1.2.0",
          "model_name": "LayoutModel",
          "state": {
            "_model_module": "@jupyter-widgets/base",
            "_model_module_version": "1.2.0",
            "_model_name": "LayoutModel",
            "_view_count": null,
            "_view_module": "@jupyter-widgets/base",
            "_view_module_version": "1.2.0",
            "_view_name": "LayoutView",
            "align_content": null,
            "align_items": null,
            "align_self": null,
            "border": null,
            "bottom": null,
            "display": null,
            "flex": null,
            "flex_flow": null,
            "grid_area": null,
            "grid_auto_columns": null,
            "grid_auto_flow": null,
            "grid_auto_rows": null,
            "grid_column": null,
            "grid_gap": null,
            "grid_row": null,
            "grid_template_areas": null,
            "grid_template_columns": null,
            "grid_template_rows": null,
            "height": null,
            "justify_content": null,
            "justify_items": null,
            "left": null,
            "margin": null,
            "max_height": null,
            "max_width": null,
            "min_height": null,
            "min_width": null,
            "object_fit": null,
            "object_position": null,
            "order": null,
            "overflow": null,
            "overflow_x": null,
            "overflow_y": null,
            "padding": null,
            "right": null,
            "top": null,
            "visibility": null,
            "width": null
          }
        },
        "87a3d4b2ed5f4f1ca895c6a1981eb847": {
          "model_module": "@jupyter-widgets/controls",
          "model_module_version": "1.5.0",
          "model_name": "DescriptionStyleModel",
          "state": {
            "_model_module": "@jupyter-widgets/controls",
            "_model_module_version": "1.5.0",
            "_model_name": "DescriptionStyleModel",
            "_view_count": null,
            "_view_module": "@jupyter-widgets/base",
            "_view_module_version": "1.2.0",
            "_view_name": "StyleView",
            "description_width": ""
          }
        },
        "87bd0ad74d4345dea4b409d64524f6e7": {
          "model_module": "@jupyter-widgets/base",
          "model_module_version": "1.2.0",
          "model_name": "LayoutModel",
          "state": {
            "_model_module": "@jupyter-widgets/base",
            "_model_module_version": "1.2.0",
            "_model_name": "LayoutModel",
            "_view_count": null,
            "_view_module": "@jupyter-widgets/base",
            "_view_module_version": "1.2.0",
            "_view_name": "LayoutView",
            "align_content": null,
            "align_items": null,
            "align_self": null,
            "border": null,
            "bottom": null,
            "display": null,
            "flex": null,
            "flex_flow": null,
            "grid_area": null,
            "grid_auto_columns": null,
            "grid_auto_flow": null,
            "grid_auto_rows": null,
            "grid_column": null,
            "grid_gap": null,
            "grid_row": null,
            "grid_template_areas": null,
            "grid_template_columns": null,
            "grid_template_rows": null,
            "height": null,
            "justify_content": null,
            "justify_items": null,
            "left": null,
            "margin": null,
            "max_height": null,
            "max_width": null,
            "min_height": null,
            "min_width": null,
            "object_fit": null,
            "object_position": null,
            "order": null,
            "overflow": null,
            "overflow_x": null,
            "overflow_y": null,
            "padding": null,
            "right": null,
            "top": null,
            "visibility": null,
            "width": null
          }
        },
        "88c8557741734e59a6099bb5fa260f6e": {
          "model_module": "@jupyter-widgets/controls",
          "model_module_version": "1.5.0",
          "model_name": "ProgressStyleModel",
          "state": {
            "_model_module": "@jupyter-widgets/controls",
            "_model_module_version": "1.5.0",
            "_model_name": "ProgressStyleModel",
            "_view_count": null,
            "_view_module": "@jupyter-widgets/base",
            "_view_module_version": "1.2.0",
            "_view_name": "StyleView",
            "bar_color": null,
            "description_width": ""
          }
        },
        "89a7c333d0b241169dc29ed998b2c9c4": {
          "model_module": "@jupyter-widgets/base",
          "model_module_version": "1.2.0",
          "model_name": "LayoutModel",
          "state": {
            "_model_module": "@jupyter-widgets/base",
            "_model_module_version": "1.2.0",
            "_model_name": "LayoutModel",
            "_view_count": null,
            "_view_module": "@jupyter-widgets/base",
            "_view_module_version": "1.2.0",
            "_view_name": "LayoutView",
            "align_content": null,
            "align_items": null,
            "align_self": null,
            "border": null,
            "bottom": null,
            "display": null,
            "flex": null,
            "flex_flow": null,
            "grid_area": null,
            "grid_auto_columns": null,
            "grid_auto_flow": null,
            "grid_auto_rows": null,
            "grid_column": null,
            "grid_gap": null,
            "grid_row": null,
            "grid_template_areas": null,
            "grid_template_columns": null,
            "grid_template_rows": null,
            "height": null,
            "justify_content": null,
            "justify_items": null,
            "left": null,
            "margin": null,
            "max_height": null,
            "max_width": null,
            "min_height": null,
            "min_width": null,
            "object_fit": null,
            "object_position": null,
            "order": null,
            "overflow": null,
            "overflow_x": null,
            "overflow_y": null,
            "padding": null,
            "right": null,
            "top": null,
            "visibility": null,
            "width": null
          }
        },
        "8cb506949697432db061878397d196f1": {
          "model_module": "@jupyter-widgets/base",
          "model_module_version": "1.2.0",
          "model_name": "LayoutModel",
          "state": {
            "_model_module": "@jupyter-widgets/base",
            "_model_module_version": "1.2.0",
            "_model_name": "LayoutModel",
            "_view_count": null,
            "_view_module": "@jupyter-widgets/base",
            "_view_module_version": "1.2.0",
            "_view_name": "LayoutView",
            "align_content": null,
            "align_items": null,
            "align_self": null,
            "border": null,
            "bottom": null,
            "display": null,
            "flex": null,
            "flex_flow": null,
            "grid_area": null,
            "grid_auto_columns": null,
            "grid_auto_flow": null,
            "grid_auto_rows": null,
            "grid_column": null,
            "grid_gap": null,
            "grid_row": null,
            "grid_template_areas": null,
            "grid_template_columns": null,
            "grid_template_rows": null,
            "height": null,
            "justify_content": null,
            "justify_items": null,
            "left": null,
            "margin": null,
            "max_height": null,
            "max_width": null,
            "min_height": null,
            "min_width": null,
            "object_fit": null,
            "object_position": null,
            "order": null,
            "overflow": null,
            "overflow_x": null,
            "overflow_y": null,
            "padding": null,
            "right": null,
            "top": null,
            "visibility": null,
            "width": null
          }
        },
        "92ef10fab64c4f40a93da3d31b572016": {
          "model_module": "@jupyter-widgets/base",
          "model_module_version": "1.2.0",
          "model_name": "LayoutModel",
          "state": {
            "_model_module": "@jupyter-widgets/base",
            "_model_module_version": "1.2.0",
            "_model_name": "LayoutModel",
            "_view_count": null,
            "_view_module": "@jupyter-widgets/base",
            "_view_module_version": "1.2.0",
            "_view_name": "LayoutView",
            "align_content": null,
            "align_items": null,
            "align_self": null,
            "border": null,
            "bottom": null,
            "display": null,
            "flex": null,
            "flex_flow": null,
            "grid_area": null,
            "grid_auto_columns": null,
            "grid_auto_flow": null,
            "grid_auto_rows": null,
            "grid_column": null,
            "grid_gap": null,
            "grid_row": null,
            "grid_template_areas": null,
            "grid_template_columns": null,
            "grid_template_rows": null,
            "height": null,
            "justify_content": null,
            "justify_items": null,
            "left": null,
            "margin": null,
            "max_height": null,
            "max_width": null,
            "min_height": null,
            "min_width": null,
            "object_fit": null,
            "object_position": null,
            "order": null,
            "overflow": null,
            "overflow_x": null,
            "overflow_y": null,
            "padding": null,
            "right": null,
            "top": null,
            "visibility": null,
            "width": null
          }
        },
        "93bf9b194c04460abffa192c19bcf67b": {
          "model_module": "@jupyter-widgets/controls",
          "model_module_version": "1.5.0",
          "model_name": "HTMLModel",
          "state": {
            "_dom_classes": [],
            "_model_module": "@jupyter-widgets/controls",
            "_model_module_version": "1.5.0",
            "_model_name": "HTMLModel",
            "_view_count": null,
            "_view_module": "@jupyter-widgets/controls",
            "_view_module_version": "1.5.0",
            "_view_name": "HTMLView",
            "description": "",
            "description_tooltip": null,
            "layout": "IPY_MODEL_cee2268aa21643e6ad77117c67ec1600",
            "placeholder": "​",
            "style": "IPY_MODEL_c79f28da88f44d69aa87905c089df333",
            "value": " 100/100 [00:44&lt;00:00,  1.69s/it]"
          }
        },
        "97abe811c89c44dcacd7e39074d22546": {
          "model_module": "@jupyter-widgets/base",
          "model_module_version": "1.2.0",
          "model_name": "LayoutModel",
          "state": {
            "_model_module": "@jupyter-widgets/base",
            "_model_module_version": "1.2.0",
            "_model_name": "LayoutModel",
            "_view_count": null,
            "_view_module": "@jupyter-widgets/base",
            "_view_module_version": "1.2.0",
            "_view_name": "LayoutView",
            "align_content": null,
            "align_items": null,
            "align_self": null,
            "border": null,
            "bottom": null,
            "display": null,
            "flex": null,
            "flex_flow": null,
            "grid_area": null,
            "grid_auto_columns": null,
            "grid_auto_flow": null,
            "grid_auto_rows": null,
            "grid_column": null,
            "grid_gap": null,
            "grid_row": null,
            "grid_template_areas": null,
            "grid_template_columns": null,
            "grid_template_rows": null,
            "height": null,
            "justify_content": null,
            "justify_items": null,
            "left": null,
            "margin": null,
            "max_height": null,
            "max_width": null,
            "min_height": null,
            "min_width": null,
            "object_fit": null,
            "object_position": null,
            "order": null,
            "overflow": null,
            "overflow_x": null,
            "overflow_y": null,
            "padding": null,
            "right": null,
            "top": null,
            "visibility": null,
            "width": null
          }
        },
        "a03fefb9fa5a40ff947dc4ccd3c80318": {
          "model_module": "@jupyter-widgets/base",
          "model_module_version": "1.2.0",
          "model_name": "LayoutModel",
          "state": {
            "_model_module": "@jupyter-widgets/base",
            "_model_module_version": "1.2.0",
            "_model_name": "LayoutModel",
            "_view_count": null,
            "_view_module": "@jupyter-widgets/base",
            "_view_module_version": "1.2.0",
            "_view_name": "LayoutView",
            "align_content": null,
            "align_items": null,
            "align_self": null,
            "border": null,
            "bottom": null,
            "display": null,
            "flex": null,
            "flex_flow": null,
            "grid_area": null,
            "grid_auto_columns": null,
            "grid_auto_flow": null,
            "grid_auto_rows": null,
            "grid_column": null,
            "grid_gap": null,
            "grid_row": null,
            "grid_template_areas": null,
            "grid_template_columns": null,
            "grid_template_rows": null,
            "height": null,
            "justify_content": null,
            "justify_items": null,
            "left": null,
            "margin": null,
            "max_height": null,
            "max_width": null,
            "min_height": null,
            "min_width": null,
            "object_fit": null,
            "object_position": null,
            "order": null,
            "overflow": null,
            "overflow_x": null,
            "overflow_y": null,
            "padding": null,
            "right": null,
            "top": null,
            "visibility": null,
            "width": null
          }
        },
        "a10a7577a99b4683a1d59a09d88f93a1": {
          "model_module": "@jupyter-widgets/base",
          "model_module_version": "1.2.0",
          "model_name": "LayoutModel",
          "state": {
            "_model_module": "@jupyter-widgets/base",
            "_model_module_version": "1.2.0",
            "_model_name": "LayoutModel",
            "_view_count": null,
            "_view_module": "@jupyter-widgets/base",
            "_view_module_version": "1.2.0",
            "_view_name": "LayoutView",
            "align_content": null,
            "align_items": null,
            "align_self": null,
            "border": null,
            "bottom": null,
            "display": null,
            "flex": null,
            "flex_flow": null,
            "grid_area": null,
            "grid_auto_columns": null,
            "grid_auto_flow": null,
            "grid_auto_rows": null,
            "grid_column": null,
            "grid_gap": null,
            "grid_row": null,
            "grid_template_areas": null,
            "grid_template_columns": null,
            "grid_template_rows": null,
            "height": null,
            "justify_content": null,
            "justify_items": null,
            "left": null,
            "margin": null,
            "max_height": null,
            "max_width": null,
            "min_height": null,
            "min_width": null,
            "object_fit": null,
            "object_position": null,
            "order": null,
            "overflow": null,
            "overflow_x": null,
            "overflow_y": null,
            "padding": null,
            "right": null,
            "top": null,
            "visibility": null,
            "width": null
          }
        },
        "a34b3906cd514234a115c7bf6757ca9d": {
          "model_module": "@jupyter-widgets/controls",
          "model_module_version": "1.5.0",
          "model_name": "DescriptionStyleModel",
          "state": {
            "_model_module": "@jupyter-widgets/controls",
            "_model_module_version": "1.5.0",
            "_model_name": "DescriptionStyleModel",
            "_view_count": null,
            "_view_module": "@jupyter-widgets/base",
            "_view_module_version": "1.2.0",
            "_view_name": "StyleView",
            "description_width": ""
          }
        },
        "a6581091161c489d877c2cfec432f6ae": {
          "model_module": "@jupyter-widgets/controls",
          "model_module_version": "1.5.0",
          "model_name": "ProgressStyleModel",
          "state": {
            "_model_module": "@jupyter-widgets/controls",
            "_model_module_version": "1.5.0",
            "_model_name": "ProgressStyleModel",
            "_view_count": null,
            "_view_module": "@jupyter-widgets/base",
            "_view_module_version": "1.2.0",
            "_view_name": "StyleView",
            "bar_color": null,
            "description_width": ""
          }
        },
        "c79f28da88f44d69aa87905c089df333": {
          "model_module": "@jupyter-widgets/controls",
          "model_module_version": "1.5.0",
          "model_name": "DescriptionStyleModel",
          "state": {
            "_model_module": "@jupyter-widgets/controls",
            "_model_module_version": "1.5.0",
            "_model_name": "DescriptionStyleModel",
            "_view_count": null,
            "_view_module": "@jupyter-widgets/base",
            "_view_module_version": "1.2.0",
            "_view_name": "StyleView",
            "description_width": ""
          }
        },
        "cee2268aa21643e6ad77117c67ec1600": {
          "model_module": "@jupyter-widgets/base",
          "model_module_version": "1.2.0",
          "model_name": "LayoutModel",
          "state": {
            "_model_module": "@jupyter-widgets/base",
            "_model_module_version": "1.2.0",
            "_model_name": "LayoutModel",
            "_view_count": null,
            "_view_module": "@jupyter-widgets/base",
            "_view_module_version": "1.2.0",
            "_view_name": "LayoutView",
            "align_content": null,
            "align_items": null,
            "align_self": null,
            "border": null,
            "bottom": null,
            "display": null,
            "flex": null,
            "flex_flow": null,
            "grid_area": null,
            "grid_auto_columns": null,
            "grid_auto_flow": null,
            "grid_auto_rows": null,
            "grid_column": null,
            "grid_gap": null,
            "grid_row": null,
            "grid_template_areas": null,
            "grid_template_columns": null,
            "grid_template_rows": null,
            "height": null,
            "justify_content": null,
            "justify_items": null,
            "left": null,
            "margin": null,
            "max_height": null,
            "max_width": null,
            "min_height": null,
            "min_width": null,
            "object_fit": null,
            "object_position": null,
            "order": null,
            "overflow": null,
            "overflow_x": null,
            "overflow_y": null,
            "padding": null,
            "right": null,
            "top": null,
            "visibility": null,
            "width": null
          }
        },
        "cfa01f60b62f4a88806d85cee5ac0fa6": {
          "model_module": "@jupyter-widgets/controls",
          "model_module_version": "1.5.0",
          "model_name": "FloatProgressModel",
          "state": {
            "_dom_classes": [],
            "_model_module": "@jupyter-widgets/controls",
            "_model_module_version": "1.5.0",
            "_model_name": "FloatProgressModel",
            "_view_count": null,
            "_view_module": "@jupyter-widgets/controls",
            "_view_module_version": "1.5.0",
            "_view_name": "ProgressView",
            "bar_style": "success",
            "description": "",
            "description_tooltip": null,
            "layout": "IPY_MODEL_18701fc64eb44d26b8aa1ae0af64d09f",
            "max": 100,
            "min": 0,
            "orientation": "horizontal",
            "style": "IPY_MODEL_a6581091161c489d877c2cfec432f6ae",
            "value": 100
          }
        },
        "d93698b0506743ff98fdb998cfb7080a": {
          "model_module": "@jupyter-widgets/base",
          "model_module_version": "1.2.0",
          "model_name": "LayoutModel",
          "state": {
            "_model_module": "@jupyter-widgets/base",
            "_model_module_version": "1.2.0",
            "_model_name": "LayoutModel",
            "_view_count": null,
            "_view_module": "@jupyter-widgets/base",
            "_view_module_version": "1.2.0",
            "_view_name": "LayoutView",
            "align_content": null,
            "align_items": null,
            "align_self": null,
            "border": null,
            "bottom": null,
            "display": null,
            "flex": null,
            "flex_flow": null,
            "grid_area": null,
            "grid_auto_columns": null,
            "grid_auto_flow": null,
            "grid_auto_rows": null,
            "grid_column": null,
            "grid_gap": null,
            "grid_row": null,
            "grid_template_areas": null,
            "grid_template_columns": null,
            "grid_template_rows": null,
            "height": null,
            "justify_content": null,
            "justify_items": null,
            "left": null,
            "margin": null,
            "max_height": null,
            "max_width": null,
            "min_height": null,
            "min_width": null,
            "object_fit": null,
            "object_position": null,
            "order": null,
            "overflow": null,
            "overflow_x": null,
            "overflow_y": null,
            "padding": null,
            "right": null,
            "top": null,
            "visibility": null,
            "width": null
          }
        },
        "e6edc46811064de2b74a6a477c4a44b7": {
          "model_module": "@jupyter-widgets/controls",
          "model_module_version": "1.5.0",
          "model_name": "ProgressStyleModel",
          "state": {
            "_model_module": "@jupyter-widgets/controls",
            "_model_module_version": "1.5.0",
            "_model_name": "ProgressStyleModel",
            "_view_count": null,
            "_view_module": "@jupyter-widgets/base",
            "_view_module_version": "1.2.0",
            "_view_name": "StyleView",
            "bar_color": null,
            "description_width": ""
          }
        },
        "e7831a581d024e3ebb4026a89ceef127": {
          "model_module": "@jupyter-widgets/controls",
          "model_module_version": "1.5.0",
          "model_name": "DescriptionStyleModel",
          "state": {
            "_model_module": "@jupyter-widgets/controls",
            "_model_module_version": "1.5.0",
            "_model_name": "DescriptionStyleModel",
            "_view_count": null,
            "_view_module": "@jupyter-widgets/base",
            "_view_module_version": "1.2.0",
            "_view_name": "StyleView",
            "description_width": ""
          }
        },
        "f75fdd56268a4b83a7fb7e4a3b2cce82": {
          "model_module": "@jupyter-widgets/controls",
          "model_module_version": "1.5.0",
          "model_name": "HBoxModel",
          "state": {
            "_dom_classes": [],
            "_model_module": "@jupyter-widgets/controls",
            "_model_module_version": "1.5.0",
            "_model_name": "HBoxModel",
            "_view_count": null,
            "_view_module": "@jupyter-widgets/controls",
            "_view_module_version": "1.5.0",
            "_view_name": "HBoxView",
            "box_style": "",
            "children": [
              "IPY_MODEL_1fb5a4b71deb406fa2f342c88b9e4e1d",
              "IPY_MODEL_37ec9b5c847749439d7c155ac3b1ec68",
              "IPY_MODEL_1317f4e20e1c4574a360345b427c3e8a"
            ],
            "layout": "IPY_MODEL_2aa53858803d4ad39113009d86dd67fc"
          }
        },
        "fd7f5542a22d44388dda12ca19443a1f": {
          "model_module": "@jupyter-widgets/controls",
          "model_module_version": "1.5.0",
          "model_name": "FloatProgressModel",
          "state": {
            "_dom_classes": [],
            "_model_module": "@jupyter-widgets/controls",
            "_model_module_version": "1.5.0",
            "_model_name": "FloatProgressModel",
            "_view_count": null,
            "_view_module": "@jupyter-widgets/controls",
            "_view_module_version": "1.5.0",
            "_view_name": "ProgressView",
            "bar_style": "success",
            "description": "",
            "description_tooltip": null,
            "layout": "IPY_MODEL_a03fefb9fa5a40ff947dc4ccd3c80318",
            "max": 100,
            "min": 0,
            "orientation": "horizontal",
            "style": "IPY_MODEL_40343486e3ea4e5fae55b5a528f139d8",
            "value": 100
          }
        }
      }
    }
  },
  "nbformat": 4,
  "nbformat_minor": 0
}
