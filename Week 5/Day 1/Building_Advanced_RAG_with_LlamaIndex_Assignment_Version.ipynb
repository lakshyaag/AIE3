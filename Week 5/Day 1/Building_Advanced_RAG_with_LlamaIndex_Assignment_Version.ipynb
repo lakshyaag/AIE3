{
 "cells": [
  {
   "cell_type": "markdown",
   "metadata": {
    "id": "x5TTdyIoo3i7"
   },
   "source": [
    "# Creating a LlamaIndex RAG Pipeline with NL2SQL and Metadata Filtering!\n",
    "\n",
    "We'll be putting together a system for querying both qualitative and quantitative data using LlamaIndex.\n",
    "\n",
    "The acitvities will be broken down as follows:\n",
    "\n",
    "- 🤝 Breakout Room #1\n",
    "  - Task 1: Load Dependencies\n",
    "  - Task 2: Set Env Variables and Set Up WandB Callback\n",
    "  - Task 3: Initialize Settings\n",
    "  - Task 4: Index Creation\n",
    "  - Task 5: Simple RAG - `QueryEngine`\n",
    "  - Task 6: Auto Rertriever Functional Tool\n",
    "- 🤝 Breakout Room #2\n",
    "  - Task 1: Quantitative RAG Pipeline with NL2SQL Tooling\n",
    "  - Task 2: Combined RAG Pipeline\n",
    "\n",
    "Before we get started, however, a quick note on terminology."
   ]
  },
  {
   "cell_type": "markdown",
   "metadata": {
    "id": "re0q6syjUVt0"
   },
   "source": [
    "# 🤝 Breakout Room #1"
   ]
  },
  {
   "cell_type": "markdown",
   "metadata": {
    "id": "Msvju70DSV_8"
   },
   "source": [
    "## BOILERPLATE\n",
    "\n",
    "This is only relevant when running the code in a Jupyter Notebook."
   ]
  },
  {
   "cell_type": "code",
   "execution_count": 1,
   "metadata": {
    "id": "7VF57GcmSV_9"
   },
   "outputs": [],
   "source": [
    "import nest_asyncio\n",
    "\n",
    "nest_asyncio.apply()\n",
    "\n",
    "import logging\n",
    "import sys\n",
    "\n",
    "logging.basicConfig(stream=sys.stdout, level=logging.INFO)\n",
    "logging.getLogger().addHandler(logging.StreamHandler(stream=sys.stdout))"
   ]
  },
  {
   "cell_type": "markdown",
   "metadata": {
    "id": "6zQBPs6zSV_9"
   },
   "source": [
    "## Load Dependencies"
   ]
  },
  {
   "cell_type": "markdown",
   "metadata": {
    "id": "WhEbxl3nSV_9"
   },
   "source": [
    "Let's grab our core `llama-index` library, as well as OpenAI's Python SDK.\n",
    "\n",
    "We'll be leveraging OpenAI's suite of APIs to power our RAG pipelines today.\n",
    "\n",
    "> NOTE: You can safely ignore any pip errors that occur during the running of these cells."
   ]
  },
  {
   "cell_type": "code",
   "execution_count": 2,
   "metadata": {
    "colab": {
     "base_uri": "https://localhost:8080/"
    },
    "id": "b3oyvtl2SV_9",
    "outputId": "16ac5d58-2a4c-46ba-bf5b-c1354eed65fe"
   },
   "outputs": [
    {
     "name": "stderr",
     "output_type": "stream",
     "text": [
      "\n",
      "[notice] A new release of pip is available: 24.0 -> 24.1\n",
      "[notice] To update, run: python.exe -m pip install --upgrade pip\n"
     ]
    }
   ],
   "source": [
    "!pip install -qU llama-index openai anthropic"
   ]
  },
  {
   "cell_type": "markdown",
   "metadata": {
    "id": "uqTXRTrLPatl"
   },
   "source": [
    "We'll be collecting our semantic data from Wikipedia - and so will need the [Wikipedia Reader](https://github.com/run-llama/llama_index/tree/main/llama-index-integrations/readers/llama-index-readers-wikipedia)!"
   ]
  },
  {
   "cell_type": "code",
   "execution_count": 3,
   "metadata": {
    "colab": {
     "base_uri": "https://localhost:8080/"
    },
    "id": "f9kXf7pPSV_-",
    "outputId": "82458114-8712-480a-d8c6-8bf7897a2814"
   },
   "outputs": [
    {
     "name": "stderr",
     "output_type": "stream",
     "text": [
      "\n",
      "[notice] A new release of pip is available: 24.0 -> 24.1\n",
      "[notice] To update, run: python.exe -m pip install --upgrade pip\n"
     ]
    }
   ],
   "source": [
    "!pip install -qU wikipedia llama-index-readers-wikipedia"
   ]
  },
  {
   "cell_type": "markdown",
   "metadata": {
    "id": "Qq_rWHZEPrCO"
   },
   "source": [
    "Our vector database today will be powered by [QDrant](https://qdrant.tech/) and so we'll need that package as well!"
   ]
  },
  {
   "cell_type": "code",
   "execution_count": 4,
   "metadata": {
    "colab": {
     "base_uri": "https://localhost:8080/"
    },
    "id": "iMCA8HFGEPF_",
    "outputId": "48b81d6f-854b-4151-9c5b-b45bfbd04ea7"
   },
   "outputs": [
    {
     "name": "stderr",
     "output_type": "stream",
     "text": [
      "\n",
      "[notice] A new release of pip is available: 24.0 -> 24.1\n",
      "[notice] To update, run: python.exe -m pip install --upgrade pip\n"
     ]
    }
   ],
   "source": [
    "!pip install -qU llama-index-vector-stores-qdrant qdrant-client"
   ]
  },
  {
   "cell_type": "markdown",
   "metadata": {
    "id": "wNHDqna1P1NQ"
   },
   "source": [
    "Finally, we'll need to grab a few dependencies related to our quantitative data!"
   ]
  },
  {
   "cell_type": "code",
   "execution_count": 5,
   "metadata": {
    "colab": {
     "base_uri": "https://localhost:8080/"
    },
    "id": "BrT8a3c0SV__",
    "outputId": "e2d2756c-ac09-46ff-f9ea-35812f290c1b"
   },
   "outputs": [
    {
     "name": "stderr",
     "output_type": "stream",
     "text": [
      "\n",
      "[notice] A new release of pip is available: 24.0 -> 24.1\n",
      "[notice] To update, run: python.exe -m pip install --upgrade pip\n"
     ]
    }
   ],
   "source": [
    "!pip install -q -U sqlalchemy pandas"
   ]
  },
  {
   "cell_type": "markdown",
   "metadata": {
    "id": "SS3I4FUabE-g"
   },
   "source": [
    "We'll can use [Weights and Biases](https://docs.wandb.ai/guides/prompts) (WandB) as a visibility platform, as well as storing our index!"
   ]
  },
  {
   "cell_type": "code",
   "execution_count": 6,
   "metadata": {
    "colab": {
     "base_uri": "https://localhost:8080/"
    },
    "id": "9UcQpjG9Ovlk",
    "outputId": "627914fd-6f08-4d85-8bfb-7a8d4cae950a"
   },
   "outputs": [
    {
     "name": "stderr",
     "output_type": "stream",
     "text": [
      "ERROR: pip's dependency resolver does not currently take into account all the packages that are installed. This behaviour is the source of the following dependency conflicts.\n",
      "grpcio-tools 1.64.1 requires protobuf<6.0dev,>=5.26.1, but you have protobuf 4.25.3 which is incompatible.\n",
      "\n",
      "[notice] A new release of pip is available: 24.0 -> 24.1\n",
      "[notice] To update, run: python.exe -m pip install --upgrade pip\n"
     ]
    }
   ],
   "source": [
    "!pip install -qU wandb llama-index-callbacks-wandb"
   ]
  },
  {
   "cell_type": "code",
   "execution_count": 2,
   "metadata": {
    "colab": {
     "base_uri": "https://localhost:8080/"
    },
    "id": "4OHSwkDySV_-",
    "outputId": "f7f84329-d284-464d-94ed-7a5e1942bc39"
   },
   "outputs": [
    {
     "data": {
      "text/plain": [
       "True"
      ]
     },
     "execution_count": 2,
     "metadata": {},
     "output_type": "execute_result"
    }
   ],
   "source": [
    "import os\n",
    "from dotenv import load_dotenv\n",
    "\n",
    "load_dotenv()"
   ]
  },
  {
   "cell_type": "markdown",
   "metadata": {
    "id": "Ut8E447rQBjY"
   },
   "source": [
    "We'll also need to set a callback handler for WandB to ensure smooth operation of our traces!"
   ]
  },
  {
   "cell_type": "code",
   "execution_count": 3,
   "metadata": {
    "colab": {
     "base_uri": "https://localhost:8080/",
     "height": 69
    },
    "id": "MoV2JINuSV_-",
    "outputId": "22e4dabd-6274-4180-dbe3-37c2b8b0212e"
   },
   "outputs": [
    {
     "name": "stdout",
     "output_type": "stream",
     "text": [
      "ERROR:wandb.jupyter:Failed to detect the name of this notebook, you can set it manually with the WANDB_NOTEBOOK_NAME environment variable to enable code saving.\n",
      "Failed to detect the name of this notebook, you can set it manually with the WANDB_NOTEBOOK_NAME environment variable to enable code saving.\n"
     ]
    },
    {
     "name": "stderr",
     "output_type": "stream",
     "text": [
      "wandb: Streaming LlamaIndex events to W&B at https://wandb.ai/lakshyaag/llama-index-rag-v1/runs/esuuk7ge\n",
      "wandb: `WandbCallbackHandler` is currently in beta.\n",
      "wandb: Please report any issues to https://github.com/wandb/wandb/issues with the tag `llamaindex`.\n"
     ]
    }
   ],
   "source": [
    "import llama_index\n",
    "from llama_index.core import set_global_handler\n",
    "\n",
    "set_global_handler(\"wandb\", run_args={\"project\": \"llama-index-rag-v1\"})\n",
    "wandb_callback = llama_index.core.global_handler"
   ]
  },
  {
   "cell_type": "markdown",
   "metadata": {
    "id": "ibtguieHP6n1"
   },
   "source": [
    "## Task 2: Set Env Variables and Set Up WandB Callback\n",
    "\n",
    "Let's set our API keys for both OpenAI and WandB!"
   ]
  },
  {
   "cell_type": "code",
   "execution_count": null,
   "metadata": {
    "colab": {
     "base_uri": "https://localhost:8080/"
    },
    "id": "7IBgMTPTSV_9",
    "outputId": "5a4f09d7-997a-4b65-b0fb-bb05b5d09327"
   },
   "outputs": [],
   "source": [
    "import os\n",
    "import getpass\n",
    "\n",
    "# os.environ[\"OPENAI_API_KEY\"] = getpass.getpass(\"OpenAI API Key: \")"
   ]
  },
  {
   "cell_type": "markdown",
   "metadata": {
    "id": "aTKRJ9FaA1U1"
   },
   "source": [
    "### OPTIONAL ADVANCED PATH:\n",
    "\n",
    "Instead of OpenAI - you could use Anthropic's new Claude model `Sonnet 3.5`!\n",
    "\n",
    "Let's see how the flow might be different if you wanted to use the latest and greatest from Anthropic!\n",
    "\n",
    "> NOTE: You will need an [API Key](https://www.anthropic.com/news/claude-3-5-sonnet) for `Sonnet 3.5` for the following cells to work!"
   ]
  },
  {
   "cell_type": "code",
   "execution_count": 9,
   "metadata": {
    "colab": {
     "base_uri": "https://localhost:8080/"
    },
    "id": "tIC5feHeCN53",
    "outputId": "7064c967-c4cc-4d92-a463-3794cefd3879"
   },
   "outputs": [
    {
     "name": "stdout",
     "output_type": "stream",
     "text": [
      "\u001b[2K     \u001b[90m━━━━━━━━━━━━━━━━━━━━━━━━━━━━━━━━━━━━━━━━\u001b[0m \u001b[32m862.7/862.7 kB\u001b[0m \u001b[31m6.9 MB/s\u001b[0m eta \u001b[36m0:00:00\u001b[0m\n",
      "\u001b[?25h"
     ]
    }
   ],
   "source": [
    "# OPTIONAL ADVANCED PATH\n",
    "!pip install -qU llama-index-llms-anthropic"
   ]
  },
  {
   "cell_type": "code",
   "execution_count": 17,
   "metadata": {
    "colab": {
     "base_uri": "https://localhost:8080/"
    },
    "id": "QEQ6oIOeCWJ4",
    "outputId": "377e77a2-2f27-4c04-819d-0e101961a606"
   },
   "outputs": [
    {
     "name": "stdout",
     "output_type": "stream",
     "text": [
      "Anthropic API Key: ··········\n"
     ]
    }
   ],
   "source": [
    "# OPTIONAL ADVANCED PATH\n",
    "os.environ[\"ANTHROPIC_API_KEY\"] = getpass.getpass(\"Anthropic API Key: \")"
   ]
  },
  {
   "cell_type": "code",
   "execution_count": 18,
   "metadata": {
    "id": "yZC0Jav4CDDl"
   },
   "outputs": [],
   "source": [
    "# OPTIONAL ADVANCED PATH\n",
    "from llama_index.llms.anthropic import Anthropic\n",
    "from llama_index.core import Settings\n",
    "\n",
    "Settings.llm = Anthropic(model=\"claude-3-5-sonnet-20240620\")"
   ]
  },
  {
   "cell_type": "markdown",
   "metadata": {
    "id": "UQwigweOSV_-"
   },
   "source": [
    "## Task 3: Settings\n",
    "\n",
    "LlamaIndex lets us set global settings which we can use to influence the default behaviour of our components.\n",
    "\n",
    "Let's set our LLM and our Embedding Model!"
   ]
  },
  {
   "cell_type": "code",
   "execution_count": null,
   "metadata": {
    "id": "6KOy21KPSV_-"
   },
   "outputs": [],
   "source": [
    "from llama_index.llms.openai import OpenAI\n",
    "from llama_index.core import Settings\n",
    "\n",
    "Settings.llm = OpenAI(model=\"gpt-4o\")"
   ]
  },
  {
   "cell_type": "code",
   "execution_count": null,
   "metadata": {
    "id": "dHWYyjG7C2OA"
   },
   "outputs": [],
   "source": [
    "from llama_index.embeddings.openai import OpenAIEmbedding\n",
    "Settings.embedding = OpenAIEmbedding(model=\"text-embedding-3-small\")"
   ]
  },
  {
   "cell_type": "markdown",
   "metadata": {
    "id": "eiOdw7EQSV_-"
   },
   "source": [
    "## Task 4: `Index` Creation\n",
    "\n",
    "In order for us to perform RAG in the traditional sense - we need an `Index`.\n",
    "\n",
    "So what is an `Index`? Well - let's see how LlamaIndex defines it:\n",
    "\n",
    "> In LlamaIndex terms, an `Index` is a data structure composed of Document objects, designed to enable querying by an LLM. Your Index is designed to be complementary to your querying strategy.\n",
    "\n",
    "Okay, so we know that we have a boatload of Wikipedia content - and we know that we want to be able to query the `Index` and receive documents that are related to our query - so let's use an `Index` built on the idea of embedding-vectors.\n",
    "\n",
    "Introducing: `VectorStoreIndex`!\n",
    "\n",
    "Again, let's see how LlamaIndex defines this:\n",
    "\n",
    "> A `VectorStoreIndex` is by far the most frequent type of `Index` you'll encounter. The Vector Store Index takes your Documents and splits them up into Nodes. It then creates `vector` embeddings of the text of every node, ready to be queried by an LLM.\n",
    "\n",
    "Alright, that sounds awesome - let's make one!"
   ]
  },
  {
   "cell_type": "markdown",
   "metadata": {
    "id": "iDEtQQWnSV_-"
   },
   "source": [
    "### Data Collection\n",
    "\n",
    "We're just going to be pulling information straight from Wikipedia using the built in `WikipediaReader`.\n",
    "\n",
    "> NOTE: Setting `auto_suggest=False` ensures we run into fewer auto-correct based errors."
   ]
  },
  {
   "cell_type": "markdown",
   "metadata": {
    "id": "vcvGuykZSV_8"
   },
   "source": [
    "### A note on terminology:\n",
    "\n",
    "You'll notice that there are quite a few similarities between LangChain and LlamaIndex. LlamaIndex can largely be thought of as an extension to LangChain, in some ways - but they moved some of the language around. Let's spend a few moments disambiguating the language.\n",
    "\n",
    "- `QueryEngine` -> `LCEL Chain`:\n",
    "  -  `QueryEngine` is just LlamaIndex's way of indicating something is an LLM \"chain\" on top of a retrieval system\n",
    "- `OpenAIAgent` vs. `Agent`:\n",
    "  - The two agents have the same fundamental pattern: Decide which of a list of tools to use to answer a user's query.\n",
    "  - `OpenAIAgent` (LlamaIndex's primary agent) does not need to rely on an agent excecutor due to the fact that it is leveraging OpenAI's [functional api](https://openai.com/blog/function-calling-and-other-api-updates) which allows the agent to interface \"directly\" with the tools instead of operating through an intermediary application process.\n",
    "\n",
    "There is, however, a much large terminological difference when it comes to discussing data.\n",
    "\n",
    "##### Nodes vs. Documents\n",
    "\n",
    "As you're aware of from the previous weeks assignments, there's an idea of `documents` in NLP which refers to text objects that exist within a corpus of documents.\n",
    "\n",
    "LlamaIndex takes this a step further and reclassifies `documents` as `nodes`. Confusingly, it refers to the `Source Document` as simply `Documents`.\n",
    "\n",
    "The `Document` -> `node` structure is, almost exactly, equivalent to the `Source Document` -> `Document` structure found in LangChain - but the new terminology comes with some clarity about different structure-indices.\n",
    "\n",
    "We won't be leveraging those structured indicies today, but we will be leveraging a \"benefit\" of the `node` structure that exists as a default in LlamaIndex, which is the ability to quickly filter nodes based on their metadata.\n",
    "\n",
    "![image](https://i.imgur.com/B1QDjs5.png)"
   ]
  },
  {
   "cell_type": "code",
   "execution_count": 28,
   "metadata": {
    "id": "OrzzrnYMSV_-"
   },
   "outputs": [],
   "source": [
    "import httpx\n",
    "from llama_index.readers.wikipedia import WikipediaReader\n",
    "\n",
    "wiki_reader = WikipediaReader()\n",
    "\n",
    "movie_list = [\n",
    "    \"Dune (2021 film)\",\n",
    "    \"Dune: Part Two\",\n",
    "    \"The Lord of the Rings: The Fellowship of the Ring\",\n",
    "]"
   ]
  },
  {
   "cell_type": "code",
   "execution_count": 29,
   "metadata": {},
   "outputs": [
    {
     "ename": "ConnectTimeout",
     "evalue": "HTTPSConnectionPool(host='en.wikipedia.org', port=443): Max retries exceeded with url: /w/api.php?prop=info%7Cpageprops&inprop=url&ppprop=disambiguation&redirects=&titles=Dune%3A+Part+Two&format=json&action=query (Caused by ConnectTimeoutError(<urllib3.connection.HTTPSConnection object at 0x000001714D7B4A10>, 'Connection to en.wikipedia.org timed out. (connect timeout=None)'))",
     "output_type": "error",
     "traceback": [
      "\u001b[1;31m---------------------------------------------------------------------------\u001b[0m",
      "\u001b[1;31mTimeoutError\u001b[0m                              Traceback (most recent call last)",
      "File \u001b[1;32me:\\Projects\\AI-Maven\\AIE3\\.venv\\Lib\\site-packages\\urllib3\\connection.py:174\u001b[0m, in \u001b[0;36mHTTPConnection._new_conn\u001b[1;34m(self)\u001b[0m\n\u001b[0;32m    173\u001b[0m \u001b[38;5;28;01mtry\u001b[39;00m:\n\u001b[1;32m--> 174\u001b[0m     conn \u001b[38;5;241m=\u001b[39m \u001b[43mconnection\u001b[49m\u001b[38;5;241;43m.\u001b[39;49m\u001b[43mcreate_connection\u001b[49m\u001b[43m(\u001b[49m\n\u001b[0;32m    175\u001b[0m \u001b[43m        \u001b[49m\u001b[43m(\u001b[49m\u001b[38;5;28;43mself\u001b[39;49m\u001b[38;5;241;43m.\u001b[39;49m\u001b[43m_dns_host\u001b[49m\u001b[43m,\u001b[49m\u001b[43m \u001b[49m\u001b[38;5;28;43mself\u001b[39;49m\u001b[38;5;241;43m.\u001b[39;49m\u001b[43mport\u001b[49m\u001b[43m)\u001b[49m\u001b[43m,\u001b[49m\u001b[43m \u001b[49m\u001b[38;5;28;43mself\u001b[39;49m\u001b[38;5;241;43m.\u001b[39;49m\u001b[43mtimeout\u001b[49m\u001b[43m,\u001b[49m\u001b[43m \u001b[49m\u001b[38;5;241;43m*\u001b[39;49m\u001b[38;5;241;43m*\u001b[39;49m\u001b[43mextra_kw\u001b[49m\n\u001b[0;32m    176\u001b[0m \u001b[43m    \u001b[49m\u001b[43m)\u001b[49m\n\u001b[0;32m    178\u001b[0m \u001b[38;5;28;01mexcept\u001b[39;00m SocketTimeout:\n",
      "File \u001b[1;32me:\\Projects\\AI-Maven\\AIE3\\.venv\\Lib\\site-packages\\urllib3\\util\\connection.py:95\u001b[0m, in \u001b[0;36mcreate_connection\u001b[1;34m(address, timeout, source_address, socket_options)\u001b[0m\n\u001b[0;32m     94\u001b[0m \u001b[38;5;28;01mif\u001b[39;00m err \u001b[38;5;129;01mis\u001b[39;00m \u001b[38;5;129;01mnot\u001b[39;00m \u001b[38;5;28;01mNone\u001b[39;00m:\n\u001b[1;32m---> 95\u001b[0m     \u001b[38;5;28;01mraise\u001b[39;00m err\n\u001b[0;32m     97\u001b[0m \u001b[38;5;28;01mraise\u001b[39;00m socket\u001b[38;5;241m.\u001b[39merror(\u001b[38;5;124m\"\u001b[39m\u001b[38;5;124mgetaddrinfo returns an empty list\u001b[39m\u001b[38;5;124m\"\u001b[39m)\n",
      "File \u001b[1;32me:\\Projects\\AI-Maven\\AIE3\\.venv\\Lib\\site-packages\\urllib3\\util\\connection.py:85\u001b[0m, in \u001b[0;36mcreate_connection\u001b[1;34m(address, timeout, source_address, socket_options)\u001b[0m\n\u001b[0;32m     84\u001b[0m     sock\u001b[38;5;241m.\u001b[39mbind(source_address)\n\u001b[1;32m---> 85\u001b[0m sock\u001b[38;5;241m.\u001b[39mconnect(sa)\n\u001b[0;32m     86\u001b[0m \u001b[38;5;28;01mreturn\u001b[39;00m sock\n",
      "\u001b[1;31mTimeoutError\u001b[0m: [WinError 10060] A connection attempt failed because the connected party did not properly respond after a period of time, or established connection failed because connected host has failed to respond",
      "\nDuring handling of the above exception, another exception occurred:\n",
      "\u001b[1;31mConnectTimeoutError\u001b[0m                       Traceback (most recent call last)",
      "File \u001b[1;32me:\\Projects\\AI-Maven\\AIE3\\.venv\\Lib\\site-packages\\urllib3\\connectionpool.py:715\u001b[0m, in \u001b[0;36mHTTPConnectionPool.urlopen\u001b[1;34m(self, method, url, body, headers, retries, redirect, assert_same_host, timeout, pool_timeout, release_conn, chunked, body_pos, **response_kw)\u001b[0m\n\u001b[0;32m    714\u001b[0m \u001b[38;5;66;03m# Make the request on the httplib connection object.\u001b[39;00m\n\u001b[1;32m--> 715\u001b[0m httplib_response \u001b[38;5;241m=\u001b[39m \u001b[38;5;28;43mself\u001b[39;49m\u001b[38;5;241;43m.\u001b[39;49m\u001b[43m_make_request\u001b[49m\u001b[43m(\u001b[49m\n\u001b[0;32m    716\u001b[0m \u001b[43m    \u001b[49m\u001b[43mconn\u001b[49m\u001b[43m,\u001b[49m\n\u001b[0;32m    717\u001b[0m \u001b[43m    \u001b[49m\u001b[43mmethod\u001b[49m\u001b[43m,\u001b[49m\n\u001b[0;32m    718\u001b[0m \u001b[43m    \u001b[49m\u001b[43murl\u001b[49m\u001b[43m,\u001b[49m\n\u001b[0;32m    719\u001b[0m \u001b[43m    \u001b[49m\u001b[43mtimeout\u001b[49m\u001b[38;5;241;43m=\u001b[39;49m\u001b[43mtimeout_obj\u001b[49m\u001b[43m,\u001b[49m\n\u001b[0;32m    720\u001b[0m \u001b[43m    \u001b[49m\u001b[43mbody\u001b[49m\u001b[38;5;241;43m=\u001b[39;49m\u001b[43mbody\u001b[49m\u001b[43m,\u001b[49m\n\u001b[0;32m    721\u001b[0m \u001b[43m    \u001b[49m\u001b[43mheaders\u001b[49m\u001b[38;5;241;43m=\u001b[39;49m\u001b[43mheaders\u001b[49m\u001b[43m,\u001b[49m\n\u001b[0;32m    722\u001b[0m \u001b[43m    \u001b[49m\u001b[43mchunked\u001b[49m\u001b[38;5;241;43m=\u001b[39;49m\u001b[43mchunked\u001b[49m\u001b[43m,\u001b[49m\n\u001b[0;32m    723\u001b[0m \u001b[43m\u001b[49m\u001b[43m)\u001b[49m\n\u001b[0;32m    725\u001b[0m \u001b[38;5;66;03m# If we're going to release the connection in ``finally:``, then\u001b[39;00m\n\u001b[0;32m    726\u001b[0m \u001b[38;5;66;03m# the response doesn't need to know about the connection. Otherwise\u001b[39;00m\n\u001b[0;32m    727\u001b[0m \u001b[38;5;66;03m# it will also try to release it and we'll have a double-release\u001b[39;00m\n\u001b[0;32m    728\u001b[0m \u001b[38;5;66;03m# mess.\u001b[39;00m\n",
      "File \u001b[1;32me:\\Projects\\AI-Maven\\AIE3\\.venv\\Lib\\site-packages\\urllib3\\connectionpool.py:404\u001b[0m, in \u001b[0;36mHTTPConnectionPool._make_request\u001b[1;34m(self, conn, method, url, timeout, chunked, **httplib_request_kw)\u001b[0m\n\u001b[0;32m    403\u001b[0m \u001b[38;5;28;01mtry\u001b[39;00m:\n\u001b[1;32m--> 404\u001b[0m     \u001b[38;5;28;43mself\u001b[39;49m\u001b[38;5;241;43m.\u001b[39;49m\u001b[43m_validate_conn\u001b[49m\u001b[43m(\u001b[49m\u001b[43mconn\u001b[49m\u001b[43m)\u001b[49m\n\u001b[0;32m    405\u001b[0m \u001b[38;5;28;01mexcept\u001b[39;00m (SocketTimeout, BaseSSLError) \u001b[38;5;28;01mas\u001b[39;00m e:\n\u001b[0;32m    406\u001b[0m     \u001b[38;5;66;03m# Py2 raises this as a BaseSSLError, Py3 raises it as socket timeout.\u001b[39;00m\n",
      "File \u001b[1;32me:\\Projects\\AI-Maven\\AIE3\\.venv\\Lib\\site-packages\\urllib3\\connectionpool.py:1060\u001b[0m, in \u001b[0;36mHTTPSConnectionPool._validate_conn\u001b[1;34m(self, conn)\u001b[0m\n\u001b[0;32m   1059\u001b[0m \u001b[38;5;28;01mif\u001b[39;00m \u001b[38;5;129;01mnot\u001b[39;00m \u001b[38;5;28mgetattr\u001b[39m(conn, \u001b[38;5;124m\"\u001b[39m\u001b[38;5;124msock\u001b[39m\u001b[38;5;124m\"\u001b[39m, \u001b[38;5;28;01mNone\u001b[39;00m):  \u001b[38;5;66;03m# AppEngine might not have  `.sock`\u001b[39;00m\n\u001b[1;32m-> 1060\u001b[0m     \u001b[43mconn\u001b[49m\u001b[38;5;241;43m.\u001b[39;49m\u001b[43mconnect\u001b[49m\u001b[43m(\u001b[49m\u001b[43m)\u001b[49m\n\u001b[0;32m   1062\u001b[0m \u001b[38;5;28;01mif\u001b[39;00m \u001b[38;5;129;01mnot\u001b[39;00m conn\u001b[38;5;241m.\u001b[39mis_verified:\n",
      "File \u001b[1;32me:\\Projects\\AI-Maven\\AIE3\\.venv\\Lib\\site-packages\\urllib3\\connection.py:363\u001b[0m, in \u001b[0;36mHTTPSConnection.connect\u001b[1;34m(self)\u001b[0m\n\u001b[0;32m    361\u001b[0m \u001b[38;5;28;01mdef\u001b[39;00m \u001b[38;5;21mconnect\u001b[39m(\u001b[38;5;28mself\u001b[39m):\n\u001b[0;32m    362\u001b[0m     \u001b[38;5;66;03m# Add certificate verification\u001b[39;00m\n\u001b[1;32m--> 363\u001b[0m     \u001b[38;5;28mself\u001b[39m\u001b[38;5;241m.\u001b[39msock \u001b[38;5;241m=\u001b[39m conn \u001b[38;5;241m=\u001b[39m \u001b[38;5;28;43mself\u001b[39;49m\u001b[38;5;241;43m.\u001b[39;49m\u001b[43m_new_conn\u001b[49m\u001b[43m(\u001b[49m\u001b[43m)\u001b[49m\n\u001b[0;32m    364\u001b[0m     hostname \u001b[38;5;241m=\u001b[39m \u001b[38;5;28mself\u001b[39m\u001b[38;5;241m.\u001b[39mhost\n",
      "File \u001b[1;32me:\\Projects\\AI-Maven\\AIE3\\.venv\\Lib\\site-packages\\urllib3\\connection.py:179\u001b[0m, in \u001b[0;36mHTTPConnection._new_conn\u001b[1;34m(self)\u001b[0m\n\u001b[0;32m    178\u001b[0m \u001b[38;5;28;01mexcept\u001b[39;00m SocketTimeout:\n\u001b[1;32m--> 179\u001b[0m     \u001b[38;5;28;01mraise\u001b[39;00m ConnectTimeoutError(\n\u001b[0;32m    180\u001b[0m         \u001b[38;5;28mself\u001b[39m,\n\u001b[0;32m    181\u001b[0m         \u001b[38;5;124m\"\u001b[39m\u001b[38;5;124mConnection to \u001b[39m\u001b[38;5;132;01m%s\u001b[39;00m\u001b[38;5;124m timed out. (connect timeout=\u001b[39m\u001b[38;5;132;01m%s\u001b[39;00m\u001b[38;5;124m)\u001b[39m\u001b[38;5;124m\"\u001b[39m\n\u001b[0;32m    182\u001b[0m         \u001b[38;5;241m%\u001b[39m (\u001b[38;5;28mself\u001b[39m\u001b[38;5;241m.\u001b[39mhost, \u001b[38;5;28mself\u001b[39m\u001b[38;5;241m.\u001b[39mtimeout),\n\u001b[0;32m    183\u001b[0m     )\n\u001b[0;32m    185\u001b[0m \u001b[38;5;28;01mexcept\u001b[39;00m SocketError \u001b[38;5;28;01mas\u001b[39;00m e:\n",
      "\u001b[1;31mConnectTimeoutError\u001b[0m: (<urllib3.connection.HTTPSConnection object at 0x000001714D7B4A10>, 'Connection to en.wikipedia.org timed out. (connect timeout=None)')",
      "\nDuring handling of the above exception, another exception occurred:\n",
      "\u001b[1;31mMaxRetryError\u001b[0m                             Traceback (most recent call last)",
      "File \u001b[1;32me:\\Projects\\AI-Maven\\AIE3\\.venv\\Lib\\site-packages\\requests\\adapters.py:667\u001b[0m, in \u001b[0;36mHTTPAdapter.send\u001b[1;34m(self, request, stream, timeout, verify, cert, proxies)\u001b[0m\n\u001b[0;32m    666\u001b[0m \u001b[38;5;28;01mtry\u001b[39;00m:\n\u001b[1;32m--> 667\u001b[0m     resp \u001b[38;5;241m=\u001b[39m \u001b[43mconn\u001b[49m\u001b[38;5;241;43m.\u001b[39;49m\u001b[43murlopen\u001b[49m\u001b[43m(\u001b[49m\n\u001b[0;32m    668\u001b[0m \u001b[43m        \u001b[49m\u001b[43mmethod\u001b[49m\u001b[38;5;241;43m=\u001b[39;49m\u001b[43mrequest\u001b[49m\u001b[38;5;241;43m.\u001b[39;49m\u001b[43mmethod\u001b[49m\u001b[43m,\u001b[49m\n\u001b[0;32m    669\u001b[0m \u001b[43m        \u001b[49m\u001b[43murl\u001b[49m\u001b[38;5;241;43m=\u001b[39;49m\u001b[43murl\u001b[49m\u001b[43m,\u001b[49m\n\u001b[0;32m    670\u001b[0m \u001b[43m        \u001b[49m\u001b[43mbody\u001b[49m\u001b[38;5;241;43m=\u001b[39;49m\u001b[43mrequest\u001b[49m\u001b[38;5;241;43m.\u001b[39;49m\u001b[43mbody\u001b[49m\u001b[43m,\u001b[49m\n\u001b[0;32m    671\u001b[0m \u001b[43m        \u001b[49m\u001b[43mheaders\u001b[49m\u001b[38;5;241;43m=\u001b[39;49m\u001b[43mrequest\u001b[49m\u001b[38;5;241;43m.\u001b[39;49m\u001b[43mheaders\u001b[49m\u001b[43m,\u001b[49m\n\u001b[0;32m    672\u001b[0m \u001b[43m        \u001b[49m\u001b[43mredirect\u001b[49m\u001b[38;5;241;43m=\u001b[39;49m\u001b[38;5;28;43;01mFalse\u001b[39;49;00m\u001b[43m,\u001b[49m\n\u001b[0;32m    673\u001b[0m \u001b[43m        \u001b[49m\u001b[43massert_same_host\u001b[49m\u001b[38;5;241;43m=\u001b[39;49m\u001b[38;5;28;43;01mFalse\u001b[39;49;00m\u001b[43m,\u001b[49m\n\u001b[0;32m    674\u001b[0m \u001b[43m        \u001b[49m\u001b[43mpreload_content\u001b[49m\u001b[38;5;241;43m=\u001b[39;49m\u001b[38;5;28;43;01mFalse\u001b[39;49;00m\u001b[43m,\u001b[49m\n\u001b[0;32m    675\u001b[0m \u001b[43m        \u001b[49m\u001b[43mdecode_content\u001b[49m\u001b[38;5;241;43m=\u001b[39;49m\u001b[38;5;28;43;01mFalse\u001b[39;49;00m\u001b[43m,\u001b[49m\n\u001b[0;32m    676\u001b[0m \u001b[43m        \u001b[49m\u001b[43mretries\u001b[49m\u001b[38;5;241;43m=\u001b[39;49m\u001b[38;5;28;43mself\u001b[39;49m\u001b[38;5;241;43m.\u001b[39;49m\u001b[43mmax_retries\u001b[49m\u001b[43m,\u001b[49m\n\u001b[0;32m    677\u001b[0m \u001b[43m        \u001b[49m\u001b[43mtimeout\u001b[49m\u001b[38;5;241;43m=\u001b[39;49m\u001b[43mtimeout\u001b[49m\u001b[43m,\u001b[49m\n\u001b[0;32m    678\u001b[0m \u001b[43m        \u001b[49m\u001b[43mchunked\u001b[49m\u001b[38;5;241;43m=\u001b[39;49m\u001b[43mchunked\u001b[49m\u001b[43m,\u001b[49m\n\u001b[0;32m    679\u001b[0m \u001b[43m    \u001b[49m\u001b[43m)\u001b[49m\n\u001b[0;32m    681\u001b[0m \u001b[38;5;28;01mexcept\u001b[39;00m (ProtocolError, \u001b[38;5;167;01mOSError\u001b[39;00m) \u001b[38;5;28;01mas\u001b[39;00m err:\n",
      "File \u001b[1;32me:\\Projects\\AI-Maven\\AIE3\\.venv\\Lib\\site-packages\\urllib3\\connectionpool.py:801\u001b[0m, in \u001b[0;36mHTTPConnectionPool.urlopen\u001b[1;34m(self, method, url, body, headers, retries, redirect, assert_same_host, timeout, pool_timeout, release_conn, chunked, body_pos, **response_kw)\u001b[0m\n\u001b[0;32m    799\u001b[0m     e \u001b[38;5;241m=\u001b[39m ProtocolError(\u001b[38;5;124m\"\u001b[39m\u001b[38;5;124mConnection aborted.\u001b[39m\u001b[38;5;124m\"\u001b[39m, e)\n\u001b[1;32m--> 801\u001b[0m retries \u001b[38;5;241m=\u001b[39m \u001b[43mretries\u001b[49m\u001b[38;5;241;43m.\u001b[39;49m\u001b[43mincrement\u001b[49m\u001b[43m(\u001b[49m\n\u001b[0;32m    802\u001b[0m \u001b[43m    \u001b[49m\u001b[43mmethod\u001b[49m\u001b[43m,\u001b[49m\u001b[43m \u001b[49m\u001b[43murl\u001b[49m\u001b[43m,\u001b[49m\u001b[43m \u001b[49m\u001b[43merror\u001b[49m\u001b[38;5;241;43m=\u001b[39;49m\u001b[43me\u001b[49m\u001b[43m,\u001b[49m\u001b[43m \u001b[49m\u001b[43m_pool\u001b[49m\u001b[38;5;241;43m=\u001b[39;49m\u001b[38;5;28;43mself\u001b[39;49m\u001b[43m,\u001b[49m\u001b[43m \u001b[49m\u001b[43m_stacktrace\u001b[49m\u001b[38;5;241;43m=\u001b[39;49m\u001b[43msys\u001b[49m\u001b[38;5;241;43m.\u001b[39;49m\u001b[43mexc_info\u001b[49m\u001b[43m(\u001b[49m\u001b[43m)\u001b[49m\u001b[43m[\u001b[49m\u001b[38;5;241;43m2\u001b[39;49m\u001b[43m]\u001b[49m\n\u001b[0;32m    803\u001b[0m \u001b[43m\u001b[49m\u001b[43m)\u001b[49m\n\u001b[0;32m    804\u001b[0m retries\u001b[38;5;241m.\u001b[39msleep()\n",
      "File \u001b[1;32me:\\Projects\\AI-Maven\\AIE3\\.venv\\Lib\\site-packages\\urllib3\\util\\retry.py:594\u001b[0m, in \u001b[0;36mRetry.increment\u001b[1;34m(self, method, url, response, error, _pool, _stacktrace)\u001b[0m\n\u001b[0;32m    593\u001b[0m \u001b[38;5;28;01mif\u001b[39;00m new_retry\u001b[38;5;241m.\u001b[39mis_exhausted():\n\u001b[1;32m--> 594\u001b[0m     \u001b[38;5;28;01mraise\u001b[39;00m MaxRetryError(_pool, url, error \u001b[38;5;129;01mor\u001b[39;00m ResponseError(cause))\n\u001b[0;32m    596\u001b[0m log\u001b[38;5;241m.\u001b[39mdebug(\u001b[38;5;124m\"\u001b[39m\u001b[38;5;124mIncremented Retry for (url=\u001b[39m\u001b[38;5;124m'\u001b[39m\u001b[38;5;132;01m%s\u001b[39;00m\u001b[38;5;124m'\u001b[39m\u001b[38;5;124m): \u001b[39m\u001b[38;5;132;01m%r\u001b[39;00m\u001b[38;5;124m\"\u001b[39m, url, new_retry)\n",
      "\u001b[1;31mMaxRetryError\u001b[0m: HTTPSConnectionPool(host='en.wikipedia.org', port=443): Max retries exceeded with url: /w/api.php?prop=info%7Cpageprops&inprop=url&ppprop=disambiguation&redirects=&titles=Dune%3A+Part+Two&format=json&action=query (Caused by ConnectTimeoutError(<urllib3.connection.HTTPSConnection object at 0x000001714D7B4A10>, 'Connection to en.wikipedia.org timed out. (connect timeout=None)'))",
      "\nDuring handling of the above exception, another exception occurred:\n",
      "\u001b[1;31mConnectTimeout\u001b[0m                            Traceback (most recent call last)",
      "Cell \u001b[1;32mIn[29], line 1\u001b[0m\n\u001b[1;32m----> 1\u001b[0m wiki_docs \u001b[38;5;241m=\u001b[39m \u001b[43mwiki_reader\u001b[49m\u001b[38;5;241;43m.\u001b[39;49m\u001b[43mload_data\u001b[49m\u001b[43m(\u001b[49m\n\u001b[0;32m      2\u001b[0m \u001b[43m    \u001b[49m\u001b[43mpages\u001b[49m\u001b[38;5;241;43m=\u001b[39;49m\u001b[43mmovie_list\u001b[49m\u001b[43m,\u001b[49m\u001b[43m \u001b[49m\u001b[43mauto_suggest\u001b[49m\u001b[38;5;241;43m=\u001b[39;49m\u001b[38;5;28;43;01mFalse\u001b[39;49;00m\u001b[43m,\u001b[49m\u001b[43m \u001b[49m\u001b[43mlang_prefix\u001b[49m\u001b[38;5;241;43m=\u001b[39;49m\u001b[38;5;124;43m\"\u001b[39;49m\u001b[38;5;124;43men\u001b[39;49m\u001b[38;5;124;43m\"\u001b[39;49m\n\u001b[0;32m      3\u001b[0m \u001b[43m)\u001b[49m\n",
      "File \u001b[1;32me:\\Projects\\AI-Maven\\AIE3\\.venv\\Lib\\site-packages\\llama_index\\readers\\wikipedia\\base.py:53\u001b[0m, in \u001b[0;36mWikipediaReader.load_data\u001b[1;34m(self, pages, lang_prefix, **load_kwargs)\u001b[0m\n\u001b[0;32m     51\u001b[0m results \u001b[38;5;241m=\u001b[39m []\n\u001b[0;32m     52\u001b[0m \u001b[38;5;28;01mfor\u001b[39;00m page \u001b[38;5;129;01min\u001b[39;00m pages:\n\u001b[1;32m---> 53\u001b[0m     wiki_page \u001b[38;5;241m=\u001b[39m \u001b[43mwikipedia\u001b[49m\u001b[38;5;241;43m.\u001b[39;49m\u001b[43mpage\u001b[49m\u001b[43m(\u001b[49m\u001b[43mpage\u001b[49m\u001b[43m,\u001b[49m\u001b[43m \u001b[49m\u001b[38;5;241;43m*\u001b[39;49m\u001b[38;5;241;43m*\u001b[39;49m\u001b[43mload_kwargs\u001b[49m\u001b[43m)\u001b[49m\n\u001b[0;32m     54\u001b[0m     page_content \u001b[38;5;241m=\u001b[39m wiki_page\u001b[38;5;241m.\u001b[39mcontent\n\u001b[0;32m     55\u001b[0m     page_id \u001b[38;5;241m=\u001b[39m wiki_page\u001b[38;5;241m.\u001b[39mpageid\n",
      "File \u001b[1;32me:\\Projects\\AI-Maven\\AIE3\\.venv\\Lib\\site-packages\\wikipedia\\wikipedia.py:276\u001b[0m, in \u001b[0;36mpage\u001b[1;34m(title, pageid, auto_suggest, redirect, preload)\u001b[0m\n\u001b[0;32m    273\u001b[0m     \u001b[38;5;28;01mexcept\u001b[39;00m \u001b[38;5;167;01mIndexError\u001b[39;00m:\n\u001b[0;32m    274\u001b[0m       \u001b[38;5;66;03m# if there is no suggestion or search results, the page doesn't exist\u001b[39;00m\n\u001b[0;32m    275\u001b[0m       \u001b[38;5;28;01mraise\u001b[39;00m PageError(title)\n\u001b[1;32m--> 276\u001b[0m   \u001b[38;5;28;01mreturn\u001b[39;00m \u001b[43mWikipediaPage\u001b[49m\u001b[43m(\u001b[49m\u001b[43mtitle\u001b[49m\u001b[43m,\u001b[49m\u001b[43m \u001b[49m\u001b[43mredirect\u001b[49m\u001b[38;5;241;43m=\u001b[39;49m\u001b[43mredirect\u001b[49m\u001b[43m,\u001b[49m\u001b[43m \u001b[49m\u001b[43mpreload\u001b[49m\u001b[38;5;241;43m=\u001b[39;49m\u001b[43mpreload\u001b[49m\u001b[43m)\u001b[49m\n\u001b[0;32m    277\u001b[0m \u001b[38;5;28;01melif\u001b[39;00m pageid \u001b[38;5;129;01mis\u001b[39;00m \u001b[38;5;129;01mnot\u001b[39;00m \u001b[38;5;28;01mNone\u001b[39;00m:\n\u001b[0;32m    278\u001b[0m   \u001b[38;5;28;01mreturn\u001b[39;00m WikipediaPage(pageid\u001b[38;5;241m=\u001b[39mpageid, preload\u001b[38;5;241m=\u001b[39mpreload)\n",
      "File \u001b[1;32me:\\Projects\\AI-Maven\\AIE3\\.venv\\Lib\\site-packages\\wikipedia\\wikipedia.py:299\u001b[0m, in \u001b[0;36mWikipediaPage.__init__\u001b[1;34m(self, title, pageid, redirect, preload, original_title)\u001b[0m\n\u001b[0;32m    296\u001b[0m \u001b[38;5;28;01melse\u001b[39;00m:\n\u001b[0;32m    297\u001b[0m   \u001b[38;5;28;01mraise\u001b[39;00m \u001b[38;5;167;01mValueError\u001b[39;00m(\u001b[38;5;124m\"\u001b[39m\u001b[38;5;124mEither a title or a pageid must be specified\u001b[39m\u001b[38;5;124m\"\u001b[39m)\n\u001b[1;32m--> 299\u001b[0m \u001b[38;5;28;43mself\u001b[39;49m\u001b[38;5;241;43m.\u001b[39;49m\u001b[43m__load\u001b[49m\u001b[43m(\u001b[49m\u001b[43mredirect\u001b[49m\u001b[38;5;241;43m=\u001b[39;49m\u001b[43mredirect\u001b[49m\u001b[43m,\u001b[49m\u001b[43m \u001b[49m\u001b[43mpreload\u001b[49m\u001b[38;5;241;43m=\u001b[39;49m\u001b[43mpreload\u001b[49m\u001b[43m)\u001b[49m\n\u001b[0;32m    301\u001b[0m \u001b[38;5;28;01mif\u001b[39;00m preload:\n\u001b[0;32m    302\u001b[0m   \u001b[38;5;28;01mfor\u001b[39;00m prop \u001b[38;5;129;01min\u001b[39;00m (\u001b[38;5;124m'\u001b[39m\u001b[38;5;124mcontent\u001b[39m\u001b[38;5;124m'\u001b[39m, \u001b[38;5;124m'\u001b[39m\u001b[38;5;124msummary\u001b[39m\u001b[38;5;124m'\u001b[39m, \u001b[38;5;124m'\u001b[39m\u001b[38;5;124mimages\u001b[39m\u001b[38;5;124m'\u001b[39m, \u001b[38;5;124m'\u001b[39m\u001b[38;5;124mreferences\u001b[39m\u001b[38;5;124m'\u001b[39m, \u001b[38;5;124m'\u001b[39m\u001b[38;5;124mlinks\u001b[39m\u001b[38;5;124m'\u001b[39m, \u001b[38;5;124m'\u001b[39m\u001b[38;5;124msections\u001b[39m\u001b[38;5;124m'\u001b[39m):\n",
      "File \u001b[1;32me:\\Projects\\AI-Maven\\AIE3\\.venv\\Lib\\site-packages\\wikipedia\\wikipedia.py:336\u001b[0m, in \u001b[0;36mWikipediaPage.__load\u001b[1;34m(self, redirect, preload)\u001b[0m\n\u001b[0;32m    333\u001b[0m \u001b[38;5;28;01melse\u001b[39;00m:\n\u001b[0;32m    334\u001b[0m   query_params[\u001b[38;5;124m'\u001b[39m\u001b[38;5;124mpageids\u001b[39m\u001b[38;5;124m'\u001b[39m] \u001b[38;5;241m=\u001b[39m \u001b[38;5;28mself\u001b[39m\u001b[38;5;241m.\u001b[39mpageid\n\u001b[1;32m--> 336\u001b[0m request \u001b[38;5;241m=\u001b[39m \u001b[43m_wiki_request\u001b[49m\u001b[43m(\u001b[49m\u001b[43mquery_params\u001b[49m\u001b[43m)\u001b[49m\n\u001b[0;32m    338\u001b[0m query \u001b[38;5;241m=\u001b[39m request[\u001b[38;5;124m'\u001b[39m\u001b[38;5;124mquery\u001b[39m\u001b[38;5;124m'\u001b[39m]\n\u001b[0;32m    339\u001b[0m pageid \u001b[38;5;241m=\u001b[39m \u001b[38;5;28mlist\u001b[39m(query[\u001b[38;5;124m'\u001b[39m\u001b[38;5;124mpages\u001b[39m\u001b[38;5;124m'\u001b[39m]\u001b[38;5;241m.\u001b[39mkeys())[\u001b[38;5;241m0\u001b[39m]\n",
      "File \u001b[1;32me:\\Projects\\AI-Maven\\AIE3\\.venv\\Lib\\site-packages\\wikipedia\\wikipedia.py:737\u001b[0m, in \u001b[0;36m_wiki_request\u001b[1;34m(params)\u001b[0m\n\u001b[0;32m    734\u001b[0m   wait_time \u001b[38;5;241m=\u001b[39m (RATE_LIMIT_LAST_CALL \u001b[38;5;241m+\u001b[39m RATE_LIMIT_MIN_WAIT) \u001b[38;5;241m-\u001b[39m datetime\u001b[38;5;241m.\u001b[39mnow()\n\u001b[0;32m    735\u001b[0m   time\u001b[38;5;241m.\u001b[39msleep(\u001b[38;5;28mint\u001b[39m(wait_time\u001b[38;5;241m.\u001b[39mtotal_seconds()))\n\u001b[1;32m--> 737\u001b[0m r \u001b[38;5;241m=\u001b[39m \u001b[43mrequests\u001b[49m\u001b[38;5;241;43m.\u001b[39;49m\u001b[43mget\u001b[49m\u001b[43m(\u001b[49m\u001b[43mAPI_URL\u001b[49m\u001b[43m,\u001b[49m\u001b[43m \u001b[49m\u001b[43mparams\u001b[49m\u001b[38;5;241;43m=\u001b[39;49m\u001b[43mparams\u001b[49m\u001b[43m,\u001b[49m\u001b[43m \u001b[49m\u001b[43mheaders\u001b[49m\u001b[38;5;241;43m=\u001b[39;49m\u001b[43mheaders\u001b[49m\u001b[43m)\u001b[49m\n\u001b[0;32m    739\u001b[0m \u001b[38;5;28;01mif\u001b[39;00m RATE_LIMIT:\n\u001b[0;32m    740\u001b[0m   RATE_LIMIT_LAST_CALL \u001b[38;5;241m=\u001b[39m datetime\u001b[38;5;241m.\u001b[39mnow()\n",
      "File \u001b[1;32me:\\Projects\\AI-Maven\\AIE3\\.venv\\Lib\\site-packages\\requests\\api.py:73\u001b[0m, in \u001b[0;36mget\u001b[1;34m(url, params, **kwargs)\u001b[0m\n\u001b[0;32m     62\u001b[0m \u001b[38;5;28;01mdef\u001b[39;00m \u001b[38;5;21mget\u001b[39m(url, params\u001b[38;5;241m=\u001b[39m\u001b[38;5;28;01mNone\u001b[39;00m, \u001b[38;5;241m*\u001b[39m\u001b[38;5;241m*\u001b[39mkwargs):\n\u001b[0;32m     63\u001b[0m \u001b[38;5;250m    \u001b[39m\u001b[38;5;124mr\u001b[39m\u001b[38;5;124;03m\"\"\"Sends a GET request.\u001b[39;00m\n\u001b[0;32m     64\u001b[0m \n\u001b[0;32m     65\u001b[0m \u001b[38;5;124;03m    :param url: URL for the new :class:`Request` object.\u001b[39;00m\n\u001b[1;32m   (...)\u001b[0m\n\u001b[0;32m     70\u001b[0m \u001b[38;5;124;03m    :rtype: requests.Response\u001b[39;00m\n\u001b[0;32m     71\u001b[0m \u001b[38;5;124;03m    \"\"\"\u001b[39;00m\n\u001b[1;32m---> 73\u001b[0m     \u001b[38;5;28;01mreturn\u001b[39;00m \u001b[43mrequest\u001b[49m\u001b[43m(\u001b[49m\u001b[38;5;124;43m\"\u001b[39;49m\u001b[38;5;124;43mget\u001b[39;49m\u001b[38;5;124;43m\"\u001b[39;49m\u001b[43m,\u001b[49m\u001b[43m \u001b[49m\u001b[43murl\u001b[49m\u001b[43m,\u001b[49m\u001b[43m \u001b[49m\u001b[43mparams\u001b[49m\u001b[38;5;241;43m=\u001b[39;49m\u001b[43mparams\u001b[49m\u001b[43m,\u001b[49m\u001b[43m \u001b[49m\u001b[38;5;241;43m*\u001b[39;49m\u001b[38;5;241;43m*\u001b[39;49m\u001b[43mkwargs\u001b[49m\u001b[43m)\u001b[49m\n",
      "File \u001b[1;32me:\\Projects\\AI-Maven\\AIE3\\.venv\\Lib\\site-packages\\requests\\api.py:59\u001b[0m, in \u001b[0;36mrequest\u001b[1;34m(method, url, **kwargs)\u001b[0m\n\u001b[0;32m     55\u001b[0m \u001b[38;5;66;03m# By using the 'with' statement we are sure the session is closed, thus we\u001b[39;00m\n\u001b[0;32m     56\u001b[0m \u001b[38;5;66;03m# avoid leaving sockets open which can trigger a ResourceWarning in some\u001b[39;00m\n\u001b[0;32m     57\u001b[0m \u001b[38;5;66;03m# cases, and look like a memory leak in others.\u001b[39;00m\n\u001b[0;32m     58\u001b[0m \u001b[38;5;28;01mwith\u001b[39;00m sessions\u001b[38;5;241m.\u001b[39mSession() \u001b[38;5;28;01mas\u001b[39;00m session:\n\u001b[1;32m---> 59\u001b[0m     \u001b[38;5;28;01mreturn\u001b[39;00m \u001b[43msession\u001b[49m\u001b[38;5;241;43m.\u001b[39;49m\u001b[43mrequest\u001b[49m\u001b[43m(\u001b[49m\u001b[43mmethod\u001b[49m\u001b[38;5;241;43m=\u001b[39;49m\u001b[43mmethod\u001b[49m\u001b[43m,\u001b[49m\u001b[43m \u001b[49m\u001b[43murl\u001b[49m\u001b[38;5;241;43m=\u001b[39;49m\u001b[43murl\u001b[49m\u001b[43m,\u001b[49m\u001b[43m \u001b[49m\u001b[38;5;241;43m*\u001b[39;49m\u001b[38;5;241;43m*\u001b[39;49m\u001b[43mkwargs\u001b[49m\u001b[43m)\u001b[49m\n",
      "File \u001b[1;32me:\\Projects\\AI-Maven\\AIE3\\.venv\\Lib\\site-packages\\requests\\sessions.py:589\u001b[0m, in \u001b[0;36mSession.request\u001b[1;34m(self, method, url, params, data, headers, cookies, files, auth, timeout, allow_redirects, proxies, hooks, stream, verify, cert, json)\u001b[0m\n\u001b[0;32m    584\u001b[0m send_kwargs \u001b[38;5;241m=\u001b[39m {\n\u001b[0;32m    585\u001b[0m     \u001b[38;5;124m\"\u001b[39m\u001b[38;5;124mtimeout\u001b[39m\u001b[38;5;124m\"\u001b[39m: timeout,\n\u001b[0;32m    586\u001b[0m     \u001b[38;5;124m\"\u001b[39m\u001b[38;5;124mallow_redirects\u001b[39m\u001b[38;5;124m\"\u001b[39m: allow_redirects,\n\u001b[0;32m    587\u001b[0m }\n\u001b[0;32m    588\u001b[0m send_kwargs\u001b[38;5;241m.\u001b[39mupdate(settings)\n\u001b[1;32m--> 589\u001b[0m resp \u001b[38;5;241m=\u001b[39m \u001b[38;5;28;43mself\u001b[39;49m\u001b[38;5;241;43m.\u001b[39;49m\u001b[43msend\u001b[49m\u001b[43m(\u001b[49m\u001b[43mprep\u001b[49m\u001b[43m,\u001b[49m\u001b[43m \u001b[49m\u001b[38;5;241;43m*\u001b[39;49m\u001b[38;5;241;43m*\u001b[39;49m\u001b[43msend_kwargs\u001b[49m\u001b[43m)\u001b[49m\n\u001b[0;32m    591\u001b[0m \u001b[38;5;28;01mreturn\u001b[39;00m resp\n",
      "File \u001b[1;32me:\\Projects\\AI-Maven\\AIE3\\.venv\\Lib\\site-packages\\requests\\sessions.py:724\u001b[0m, in \u001b[0;36mSession.send\u001b[1;34m(self, request, **kwargs)\u001b[0m\n\u001b[0;32m    721\u001b[0m \u001b[38;5;28;01mif\u001b[39;00m allow_redirects:\n\u001b[0;32m    722\u001b[0m     \u001b[38;5;66;03m# Redirect resolving generator.\u001b[39;00m\n\u001b[0;32m    723\u001b[0m     gen \u001b[38;5;241m=\u001b[39m \u001b[38;5;28mself\u001b[39m\u001b[38;5;241m.\u001b[39mresolve_redirects(r, request, \u001b[38;5;241m*\u001b[39m\u001b[38;5;241m*\u001b[39mkwargs)\n\u001b[1;32m--> 724\u001b[0m     history \u001b[38;5;241m=\u001b[39m \u001b[43m[\u001b[49m\u001b[43mresp\u001b[49m\u001b[43m \u001b[49m\u001b[38;5;28;43;01mfor\u001b[39;49;00m\u001b[43m \u001b[49m\u001b[43mresp\u001b[49m\u001b[43m \u001b[49m\u001b[38;5;129;43;01min\u001b[39;49;00m\u001b[43m \u001b[49m\u001b[43mgen\u001b[49m\u001b[43m]\u001b[49m\n\u001b[0;32m    725\u001b[0m \u001b[38;5;28;01melse\u001b[39;00m:\n\u001b[0;32m    726\u001b[0m     history \u001b[38;5;241m=\u001b[39m []\n",
      "File \u001b[1;32me:\\Projects\\AI-Maven\\AIE3\\.venv\\Lib\\site-packages\\requests\\sessions.py:724\u001b[0m, in \u001b[0;36m<listcomp>\u001b[1;34m(.0)\u001b[0m\n\u001b[0;32m    721\u001b[0m \u001b[38;5;28;01mif\u001b[39;00m allow_redirects:\n\u001b[0;32m    722\u001b[0m     \u001b[38;5;66;03m# Redirect resolving generator.\u001b[39;00m\n\u001b[0;32m    723\u001b[0m     gen \u001b[38;5;241m=\u001b[39m \u001b[38;5;28mself\u001b[39m\u001b[38;5;241m.\u001b[39mresolve_redirects(r, request, \u001b[38;5;241m*\u001b[39m\u001b[38;5;241m*\u001b[39mkwargs)\n\u001b[1;32m--> 724\u001b[0m     history \u001b[38;5;241m=\u001b[39m \u001b[43m[\u001b[49m\u001b[43mresp\u001b[49m\u001b[43m \u001b[49m\u001b[38;5;28;43;01mfor\u001b[39;49;00m\u001b[43m \u001b[49m\u001b[43mresp\u001b[49m\u001b[43m \u001b[49m\u001b[38;5;129;43;01min\u001b[39;49;00m\u001b[43m \u001b[49m\u001b[43mgen\u001b[49m\u001b[43m]\u001b[49m\n\u001b[0;32m    725\u001b[0m \u001b[38;5;28;01melse\u001b[39;00m:\n\u001b[0;32m    726\u001b[0m     history \u001b[38;5;241m=\u001b[39m []\n",
      "File \u001b[1;32me:\\Projects\\AI-Maven\\AIE3\\.venv\\Lib\\site-packages\\requests\\sessions.py:265\u001b[0m, in \u001b[0;36mSessionRedirectMixin.resolve_redirects\u001b[1;34m(self, resp, req, stream, timeout, verify, cert, proxies, yield_requests, **adapter_kwargs)\u001b[0m\n\u001b[0;32m    263\u001b[0m     \u001b[38;5;28;01myield\u001b[39;00m req\n\u001b[0;32m    264\u001b[0m \u001b[38;5;28;01melse\u001b[39;00m:\n\u001b[1;32m--> 265\u001b[0m     resp \u001b[38;5;241m=\u001b[39m \u001b[38;5;28;43mself\u001b[39;49m\u001b[38;5;241;43m.\u001b[39;49m\u001b[43msend\u001b[49m\u001b[43m(\u001b[49m\n\u001b[0;32m    266\u001b[0m \u001b[43m        \u001b[49m\u001b[43mreq\u001b[49m\u001b[43m,\u001b[49m\n\u001b[0;32m    267\u001b[0m \u001b[43m        \u001b[49m\u001b[43mstream\u001b[49m\u001b[38;5;241;43m=\u001b[39;49m\u001b[43mstream\u001b[49m\u001b[43m,\u001b[49m\n\u001b[0;32m    268\u001b[0m \u001b[43m        \u001b[49m\u001b[43mtimeout\u001b[49m\u001b[38;5;241;43m=\u001b[39;49m\u001b[43mtimeout\u001b[49m\u001b[43m,\u001b[49m\n\u001b[0;32m    269\u001b[0m \u001b[43m        \u001b[49m\u001b[43mverify\u001b[49m\u001b[38;5;241;43m=\u001b[39;49m\u001b[43mverify\u001b[49m\u001b[43m,\u001b[49m\n\u001b[0;32m    270\u001b[0m \u001b[43m        \u001b[49m\u001b[43mcert\u001b[49m\u001b[38;5;241;43m=\u001b[39;49m\u001b[43mcert\u001b[49m\u001b[43m,\u001b[49m\n\u001b[0;32m    271\u001b[0m \u001b[43m        \u001b[49m\u001b[43mproxies\u001b[49m\u001b[38;5;241;43m=\u001b[39;49m\u001b[43mproxies\u001b[49m\u001b[43m,\u001b[49m\n\u001b[0;32m    272\u001b[0m \u001b[43m        \u001b[49m\u001b[43mallow_redirects\u001b[49m\u001b[38;5;241;43m=\u001b[39;49m\u001b[38;5;28;43;01mFalse\u001b[39;49;00m\u001b[43m,\u001b[49m\n\u001b[0;32m    273\u001b[0m \u001b[43m        \u001b[49m\u001b[38;5;241;43m*\u001b[39;49m\u001b[38;5;241;43m*\u001b[39;49m\u001b[43madapter_kwargs\u001b[49m\u001b[43m,\u001b[49m\n\u001b[0;32m    274\u001b[0m \u001b[43m    \u001b[49m\u001b[43m)\u001b[49m\n\u001b[0;32m    276\u001b[0m     extract_cookies_to_jar(\u001b[38;5;28mself\u001b[39m\u001b[38;5;241m.\u001b[39mcookies, prepared_request, resp\u001b[38;5;241m.\u001b[39mraw)\n\u001b[0;32m    278\u001b[0m     \u001b[38;5;66;03m# extract redirect url, if any, for the next loop\u001b[39;00m\n",
      "File \u001b[1;32me:\\Projects\\AI-Maven\\AIE3\\.venv\\Lib\\site-packages\\requests\\sessions.py:703\u001b[0m, in \u001b[0;36mSession.send\u001b[1;34m(self, request, **kwargs)\u001b[0m\n\u001b[0;32m    700\u001b[0m start \u001b[38;5;241m=\u001b[39m preferred_clock()\n\u001b[0;32m    702\u001b[0m \u001b[38;5;66;03m# Send the request\u001b[39;00m\n\u001b[1;32m--> 703\u001b[0m r \u001b[38;5;241m=\u001b[39m \u001b[43madapter\u001b[49m\u001b[38;5;241;43m.\u001b[39;49m\u001b[43msend\u001b[49m\u001b[43m(\u001b[49m\u001b[43mrequest\u001b[49m\u001b[43m,\u001b[49m\u001b[43m \u001b[49m\u001b[38;5;241;43m*\u001b[39;49m\u001b[38;5;241;43m*\u001b[39;49m\u001b[43mkwargs\u001b[49m\u001b[43m)\u001b[49m\n\u001b[0;32m    705\u001b[0m \u001b[38;5;66;03m# Total elapsed time of the request (approximately)\u001b[39;00m\n\u001b[0;32m    706\u001b[0m elapsed \u001b[38;5;241m=\u001b[39m preferred_clock() \u001b[38;5;241m-\u001b[39m start\n",
      "File \u001b[1;32me:\\Projects\\AI-Maven\\AIE3\\.venv\\Lib\\site-packages\\requests\\adapters.py:688\u001b[0m, in \u001b[0;36mHTTPAdapter.send\u001b[1;34m(self, request, stream, timeout, verify, cert, proxies)\u001b[0m\n\u001b[0;32m    685\u001b[0m \u001b[38;5;28;01mif\u001b[39;00m \u001b[38;5;28misinstance\u001b[39m(e\u001b[38;5;241m.\u001b[39mreason, ConnectTimeoutError):\n\u001b[0;32m    686\u001b[0m     \u001b[38;5;66;03m# TODO: Remove this in 3.0.0: see #2811\u001b[39;00m\n\u001b[0;32m    687\u001b[0m     \u001b[38;5;28;01mif\u001b[39;00m \u001b[38;5;129;01mnot\u001b[39;00m \u001b[38;5;28misinstance\u001b[39m(e\u001b[38;5;241m.\u001b[39mreason, NewConnectionError):\n\u001b[1;32m--> 688\u001b[0m         \u001b[38;5;28;01mraise\u001b[39;00m ConnectTimeout(e, request\u001b[38;5;241m=\u001b[39mrequest)\n\u001b[0;32m    690\u001b[0m \u001b[38;5;28;01mif\u001b[39;00m \u001b[38;5;28misinstance\u001b[39m(e\u001b[38;5;241m.\u001b[39mreason, ResponseError):\n\u001b[0;32m    691\u001b[0m     \u001b[38;5;28;01mraise\u001b[39;00m RetryError(e, request\u001b[38;5;241m=\u001b[39mrequest)\n",
      "\u001b[1;31mConnectTimeout\u001b[0m: HTTPSConnectionPool(host='en.wikipedia.org', port=443): Max retries exceeded with url: /w/api.php?prop=info%7Cpageprops&inprop=url&ppprop=disambiguation&redirects=&titles=Dune%3A+Part+Two&format=json&action=query (Caused by ConnectTimeoutError(<urllib3.connection.HTTPSConnection object at 0x000001714D7B4A10>, 'Connection to en.wikipedia.org timed out. (connect timeout=None)'))"
     ]
    }
   ],
   "source": [
    "wiki_docs = wiki_reader.load_data(\n",
    "    pages=movie_list, auto_suggest=False, lang_prefix=\"en\"\n",
    ")"
   ]
  },
  {
   "cell_type": "code",
   "execution_count": 16,
   "metadata": {},
   "outputs": [
    {
     "ename": "ConnectTimeout",
     "evalue": "HTTPConnectionPool(host='en.wikipedia.org', port=80): Max retries exceeded with url: /w/api.php?prop=extracts%7Crevisions&explaintext=&rvprop=ids&titles=The+Lord+of+the+Rings%3A+The+Two+Towers&format=json&action=query (Caused by ConnectTimeoutError(<urllib3.connection.HTTPConnection object at 0x000001714AFA3A90>, 'Connection to en.wikipedia.org timed out. (connect timeout=None)'))",
     "output_type": "error",
     "traceback": [
      "\u001b[1;31m---------------------------------------------------------------------------\u001b[0m",
      "\u001b[1;31mTimeoutError\u001b[0m                              Traceback (most recent call last)",
      "File \u001b[1;32me:\\Projects\\AI-Maven\\AIE3\\.venv\\Lib\\site-packages\\urllib3\\connection.py:174\u001b[0m, in \u001b[0;36mHTTPConnection._new_conn\u001b[1;34m(self)\u001b[0m\n\u001b[0;32m    173\u001b[0m \u001b[38;5;28;01mtry\u001b[39;00m:\n\u001b[1;32m--> 174\u001b[0m     conn \u001b[38;5;241m=\u001b[39m \u001b[43mconnection\u001b[49m\u001b[38;5;241;43m.\u001b[39;49m\u001b[43mcreate_connection\u001b[49m\u001b[43m(\u001b[49m\n\u001b[0;32m    175\u001b[0m \u001b[43m        \u001b[49m\u001b[43m(\u001b[49m\u001b[38;5;28;43mself\u001b[39;49m\u001b[38;5;241;43m.\u001b[39;49m\u001b[43m_dns_host\u001b[49m\u001b[43m,\u001b[49m\u001b[43m \u001b[49m\u001b[38;5;28;43mself\u001b[39;49m\u001b[38;5;241;43m.\u001b[39;49m\u001b[43mport\u001b[49m\u001b[43m)\u001b[49m\u001b[43m,\u001b[49m\u001b[43m \u001b[49m\u001b[38;5;28;43mself\u001b[39;49m\u001b[38;5;241;43m.\u001b[39;49m\u001b[43mtimeout\u001b[49m\u001b[43m,\u001b[49m\u001b[43m \u001b[49m\u001b[38;5;241;43m*\u001b[39;49m\u001b[38;5;241;43m*\u001b[39;49m\u001b[43mextra_kw\u001b[49m\n\u001b[0;32m    176\u001b[0m \u001b[43m    \u001b[49m\u001b[43m)\u001b[49m\n\u001b[0;32m    178\u001b[0m \u001b[38;5;28;01mexcept\u001b[39;00m SocketTimeout:\n",
      "File \u001b[1;32me:\\Projects\\AI-Maven\\AIE3\\.venv\\Lib\\site-packages\\urllib3\\util\\connection.py:95\u001b[0m, in \u001b[0;36mcreate_connection\u001b[1;34m(address, timeout, source_address, socket_options)\u001b[0m\n\u001b[0;32m     94\u001b[0m \u001b[38;5;28;01mif\u001b[39;00m err \u001b[38;5;129;01mis\u001b[39;00m \u001b[38;5;129;01mnot\u001b[39;00m \u001b[38;5;28;01mNone\u001b[39;00m:\n\u001b[1;32m---> 95\u001b[0m     \u001b[38;5;28;01mraise\u001b[39;00m err\n\u001b[0;32m     97\u001b[0m \u001b[38;5;28;01mraise\u001b[39;00m socket\u001b[38;5;241m.\u001b[39merror(\u001b[38;5;124m\"\u001b[39m\u001b[38;5;124mgetaddrinfo returns an empty list\u001b[39m\u001b[38;5;124m\"\u001b[39m)\n",
      "File \u001b[1;32me:\\Projects\\AI-Maven\\AIE3\\.venv\\Lib\\site-packages\\urllib3\\util\\connection.py:85\u001b[0m, in \u001b[0;36mcreate_connection\u001b[1;34m(address, timeout, source_address, socket_options)\u001b[0m\n\u001b[0;32m     84\u001b[0m     sock\u001b[38;5;241m.\u001b[39mbind(source_address)\n\u001b[1;32m---> 85\u001b[0m sock\u001b[38;5;241m.\u001b[39mconnect(sa)\n\u001b[0;32m     86\u001b[0m \u001b[38;5;28;01mreturn\u001b[39;00m sock\n",
      "\u001b[1;31mTimeoutError\u001b[0m: [WinError 10060] A connection attempt failed because the connected party did not properly respond after a period of time, or established connection failed because connected host has failed to respond",
      "\nDuring handling of the above exception, another exception occurred:\n",
      "\u001b[1;31mConnectTimeoutError\u001b[0m                       Traceback (most recent call last)",
      "File \u001b[1;32me:\\Projects\\AI-Maven\\AIE3\\.venv\\Lib\\site-packages\\urllib3\\connectionpool.py:715\u001b[0m, in \u001b[0;36mHTTPConnectionPool.urlopen\u001b[1;34m(self, method, url, body, headers, retries, redirect, assert_same_host, timeout, pool_timeout, release_conn, chunked, body_pos, **response_kw)\u001b[0m\n\u001b[0;32m    714\u001b[0m \u001b[38;5;66;03m# Make the request on the httplib connection object.\u001b[39;00m\n\u001b[1;32m--> 715\u001b[0m httplib_response \u001b[38;5;241m=\u001b[39m \u001b[38;5;28;43mself\u001b[39;49m\u001b[38;5;241;43m.\u001b[39;49m\u001b[43m_make_request\u001b[49m\u001b[43m(\u001b[49m\n\u001b[0;32m    716\u001b[0m \u001b[43m    \u001b[49m\u001b[43mconn\u001b[49m\u001b[43m,\u001b[49m\n\u001b[0;32m    717\u001b[0m \u001b[43m    \u001b[49m\u001b[43mmethod\u001b[49m\u001b[43m,\u001b[49m\n\u001b[0;32m    718\u001b[0m \u001b[43m    \u001b[49m\u001b[43murl\u001b[49m\u001b[43m,\u001b[49m\n\u001b[0;32m    719\u001b[0m \u001b[43m    \u001b[49m\u001b[43mtimeout\u001b[49m\u001b[38;5;241;43m=\u001b[39;49m\u001b[43mtimeout_obj\u001b[49m\u001b[43m,\u001b[49m\n\u001b[0;32m    720\u001b[0m \u001b[43m    \u001b[49m\u001b[43mbody\u001b[49m\u001b[38;5;241;43m=\u001b[39;49m\u001b[43mbody\u001b[49m\u001b[43m,\u001b[49m\n\u001b[0;32m    721\u001b[0m \u001b[43m    \u001b[49m\u001b[43mheaders\u001b[49m\u001b[38;5;241;43m=\u001b[39;49m\u001b[43mheaders\u001b[49m\u001b[43m,\u001b[49m\n\u001b[0;32m    722\u001b[0m \u001b[43m    \u001b[49m\u001b[43mchunked\u001b[49m\u001b[38;5;241;43m=\u001b[39;49m\u001b[43mchunked\u001b[49m\u001b[43m,\u001b[49m\n\u001b[0;32m    723\u001b[0m \u001b[43m\u001b[49m\u001b[43m)\u001b[49m\n\u001b[0;32m    725\u001b[0m \u001b[38;5;66;03m# If we're going to release the connection in ``finally:``, then\u001b[39;00m\n\u001b[0;32m    726\u001b[0m \u001b[38;5;66;03m# the response doesn't need to know about the connection. Otherwise\u001b[39;00m\n\u001b[0;32m    727\u001b[0m \u001b[38;5;66;03m# it will also try to release it and we'll have a double-release\u001b[39;00m\n\u001b[0;32m    728\u001b[0m \u001b[38;5;66;03m# mess.\u001b[39;00m\n",
      "File \u001b[1;32me:\\Projects\\AI-Maven\\AIE3\\.venv\\Lib\\site-packages\\urllib3\\connectionpool.py:416\u001b[0m, in \u001b[0;36mHTTPConnectionPool._make_request\u001b[1;34m(self, conn, method, url, timeout, chunked, **httplib_request_kw)\u001b[0m\n\u001b[0;32m    415\u001b[0m     \u001b[38;5;28;01melse\u001b[39;00m:\n\u001b[1;32m--> 416\u001b[0m         \u001b[43mconn\u001b[49m\u001b[38;5;241;43m.\u001b[39;49m\u001b[43mrequest\u001b[49m\u001b[43m(\u001b[49m\u001b[43mmethod\u001b[49m\u001b[43m,\u001b[49m\u001b[43m \u001b[49m\u001b[43murl\u001b[49m\u001b[43m,\u001b[49m\u001b[43m \u001b[49m\u001b[38;5;241;43m*\u001b[39;49m\u001b[38;5;241;43m*\u001b[39;49m\u001b[43mhttplib_request_kw\u001b[49m\u001b[43m)\u001b[49m\n\u001b[0;32m    418\u001b[0m \u001b[38;5;66;03m# We are swallowing BrokenPipeError (errno.EPIPE) since the server is\u001b[39;00m\n\u001b[0;32m    419\u001b[0m \u001b[38;5;66;03m# legitimately able to close the connection after sending a valid response.\u001b[39;00m\n\u001b[0;32m    420\u001b[0m \u001b[38;5;66;03m# With this behaviour, the received response is still readable.\u001b[39;00m\n",
      "File \u001b[1;32me:\\Projects\\AI-Maven\\AIE3\\.venv\\Lib\\site-packages\\urllib3\\connection.py:244\u001b[0m, in \u001b[0;36mHTTPConnection.request\u001b[1;34m(self, method, url, body, headers)\u001b[0m\n\u001b[0;32m    243\u001b[0m     headers[\u001b[38;5;124m\"\u001b[39m\u001b[38;5;124mUser-Agent\u001b[39m\u001b[38;5;124m\"\u001b[39m] \u001b[38;5;241m=\u001b[39m _get_default_user_agent()\n\u001b[1;32m--> 244\u001b[0m \u001b[38;5;28;43msuper\u001b[39;49m\u001b[43m(\u001b[49m\u001b[43mHTTPConnection\u001b[49m\u001b[43m,\u001b[49m\u001b[43m \u001b[49m\u001b[38;5;28;43mself\u001b[39;49m\u001b[43m)\u001b[49m\u001b[38;5;241;43m.\u001b[39;49m\u001b[43mrequest\u001b[49m\u001b[43m(\u001b[49m\u001b[43mmethod\u001b[49m\u001b[43m,\u001b[49m\u001b[43m \u001b[49m\u001b[43murl\u001b[49m\u001b[43m,\u001b[49m\u001b[43m \u001b[49m\u001b[43mbody\u001b[49m\u001b[38;5;241;43m=\u001b[39;49m\u001b[43mbody\u001b[49m\u001b[43m,\u001b[49m\u001b[43m \u001b[49m\u001b[43mheaders\u001b[49m\u001b[38;5;241;43m=\u001b[39;49m\u001b[43mheaders\u001b[49m\u001b[43m)\u001b[49m\n",
      "File \u001b[1;32m~\\.pyenv\\pyenv-win\\versions\\3.11.0\\Lib\\http\\client.py:1282\u001b[0m, in \u001b[0;36mHTTPConnection.request\u001b[1;34m(self, method, url, body, headers, encode_chunked)\u001b[0m\n\u001b[0;32m   1281\u001b[0m \u001b[38;5;250m\u001b[39m\u001b[38;5;124;03m\"\"\"Send a complete request to the server.\"\"\"\u001b[39;00m\n\u001b[1;32m-> 1282\u001b[0m \u001b[38;5;28;43mself\u001b[39;49m\u001b[38;5;241;43m.\u001b[39;49m\u001b[43m_send_request\u001b[49m\u001b[43m(\u001b[49m\u001b[43mmethod\u001b[49m\u001b[43m,\u001b[49m\u001b[43m \u001b[49m\u001b[43murl\u001b[49m\u001b[43m,\u001b[49m\u001b[43m \u001b[49m\u001b[43mbody\u001b[49m\u001b[43m,\u001b[49m\u001b[43m \u001b[49m\u001b[43mheaders\u001b[49m\u001b[43m,\u001b[49m\u001b[43m \u001b[49m\u001b[43mencode_chunked\u001b[49m\u001b[43m)\u001b[49m\n",
      "File \u001b[1;32m~\\.pyenv\\pyenv-win\\versions\\3.11.0\\Lib\\http\\client.py:1328\u001b[0m, in \u001b[0;36mHTTPConnection._send_request\u001b[1;34m(self, method, url, body, headers, encode_chunked)\u001b[0m\n\u001b[0;32m   1327\u001b[0m     body \u001b[38;5;241m=\u001b[39m _encode(body, \u001b[38;5;124m'\u001b[39m\u001b[38;5;124mbody\u001b[39m\u001b[38;5;124m'\u001b[39m)\n\u001b[1;32m-> 1328\u001b[0m \u001b[38;5;28;43mself\u001b[39;49m\u001b[38;5;241;43m.\u001b[39;49m\u001b[43mendheaders\u001b[49m\u001b[43m(\u001b[49m\u001b[43mbody\u001b[49m\u001b[43m,\u001b[49m\u001b[43m \u001b[49m\u001b[43mencode_chunked\u001b[49m\u001b[38;5;241;43m=\u001b[39;49m\u001b[43mencode_chunked\u001b[49m\u001b[43m)\u001b[49m\n",
      "File \u001b[1;32m~\\.pyenv\\pyenv-win\\versions\\3.11.0\\Lib\\http\\client.py:1277\u001b[0m, in \u001b[0;36mHTTPConnection.endheaders\u001b[1;34m(self, message_body, encode_chunked)\u001b[0m\n\u001b[0;32m   1276\u001b[0m     \u001b[38;5;28;01mraise\u001b[39;00m CannotSendHeader()\n\u001b[1;32m-> 1277\u001b[0m \u001b[38;5;28;43mself\u001b[39;49m\u001b[38;5;241;43m.\u001b[39;49m\u001b[43m_send_output\u001b[49m\u001b[43m(\u001b[49m\u001b[43mmessage_body\u001b[49m\u001b[43m,\u001b[49m\u001b[43m \u001b[49m\u001b[43mencode_chunked\u001b[49m\u001b[38;5;241;43m=\u001b[39;49m\u001b[43mencode_chunked\u001b[49m\u001b[43m)\u001b[49m\n",
      "File \u001b[1;32m~\\.pyenv\\pyenv-win\\versions\\3.11.0\\Lib\\http\\client.py:1037\u001b[0m, in \u001b[0;36mHTTPConnection._send_output\u001b[1;34m(self, message_body, encode_chunked)\u001b[0m\n\u001b[0;32m   1036\u001b[0m \u001b[38;5;28;01mdel\u001b[39;00m \u001b[38;5;28mself\u001b[39m\u001b[38;5;241m.\u001b[39m_buffer[:]\n\u001b[1;32m-> 1037\u001b[0m \u001b[38;5;28;43mself\u001b[39;49m\u001b[38;5;241;43m.\u001b[39;49m\u001b[43msend\u001b[49m\u001b[43m(\u001b[49m\u001b[43mmsg\u001b[49m\u001b[43m)\u001b[49m\n\u001b[0;32m   1039\u001b[0m \u001b[38;5;28;01mif\u001b[39;00m message_body \u001b[38;5;129;01mis\u001b[39;00m \u001b[38;5;129;01mnot\u001b[39;00m \u001b[38;5;28;01mNone\u001b[39;00m:\n\u001b[0;32m   1040\u001b[0m \n\u001b[0;32m   1041\u001b[0m     \u001b[38;5;66;03m# create a consistent interface to message_body\u001b[39;00m\n",
      "File \u001b[1;32m~\\.pyenv\\pyenv-win\\versions\\3.11.0\\Lib\\http\\client.py:975\u001b[0m, in \u001b[0;36mHTTPConnection.send\u001b[1;34m(self, data)\u001b[0m\n\u001b[0;32m    974\u001b[0m \u001b[38;5;28;01mif\u001b[39;00m \u001b[38;5;28mself\u001b[39m\u001b[38;5;241m.\u001b[39mauto_open:\n\u001b[1;32m--> 975\u001b[0m     \u001b[38;5;28;43mself\u001b[39;49m\u001b[38;5;241;43m.\u001b[39;49m\u001b[43mconnect\u001b[49m\u001b[43m(\u001b[49m\u001b[43m)\u001b[49m\n\u001b[0;32m    976\u001b[0m \u001b[38;5;28;01melse\u001b[39;00m:\n",
      "File \u001b[1;32me:\\Projects\\AI-Maven\\AIE3\\.venv\\Lib\\site-packages\\urllib3\\connection.py:205\u001b[0m, in \u001b[0;36mHTTPConnection.connect\u001b[1;34m(self)\u001b[0m\n\u001b[0;32m    204\u001b[0m \u001b[38;5;28;01mdef\u001b[39;00m \u001b[38;5;21mconnect\u001b[39m(\u001b[38;5;28mself\u001b[39m):\n\u001b[1;32m--> 205\u001b[0m     conn \u001b[38;5;241m=\u001b[39m \u001b[38;5;28;43mself\u001b[39;49m\u001b[38;5;241;43m.\u001b[39;49m\u001b[43m_new_conn\u001b[49m\u001b[43m(\u001b[49m\u001b[43m)\u001b[49m\n\u001b[0;32m    206\u001b[0m     \u001b[38;5;28mself\u001b[39m\u001b[38;5;241m.\u001b[39m_prepare_conn(conn)\n",
      "File \u001b[1;32me:\\Projects\\AI-Maven\\AIE3\\.venv\\Lib\\site-packages\\urllib3\\connection.py:179\u001b[0m, in \u001b[0;36mHTTPConnection._new_conn\u001b[1;34m(self)\u001b[0m\n\u001b[0;32m    178\u001b[0m \u001b[38;5;28;01mexcept\u001b[39;00m SocketTimeout:\n\u001b[1;32m--> 179\u001b[0m     \u001b[38;5;28;01mraise\u001b[39;00m ConnectTimeoutError(\n\u001b[0;32m    180\u001b[0m         \u001b[38;5;28mself\u001b[39m,\n\u001b[0;32m    181\u001b[0m         \u001b[38;5;124m\"\u001b[39m\u001b[38;5;124mConnection to \u001b[39m\u001b[38;5;132;01m%s\u001b[39;00m\u001b[38;5;124m timed out. (connect timeout=\u001b[39m\u001b[38;5;132;01m%s\u001b[39;00m\u001b[38;5;124m)\u001b[39m\u001b[38;5;124m\"\u001b[39m\n\u001b[0;32m    182\u001b[0m         \u001b[38;5;241m%\u001b[39m (\u001b[38;5;28mself\u001b[39m\u001b[38;5;241m.\u001b[39mhost, \u001b[38;5;28mself\u001b[39m\u001b[38;5;241m.\u001b[39mtimeout),\n\u001b[0;32m    183\u001b[0m     )\n\u001b[0;32m    185\u001b[0m \u001b[38;5;28;01mexcept\u001b[39;00m SocketError \u001b[38;5;28;01mas\u001b[39;00m e:\n",
      "\u001b[1;31mConnectTimeoutError\u001b[0m: (<urllib3.connection.HTTPConnection object at 0x000001714AFA3A90>, 'Connection to en.wikipedia.org timed out. (connect timeout=None)')",
      "\nDuring handling of the above exception, another exception occurred:\n",
      "\u001b[1;31mMaxRetryError\u001b[0m                             Traceback (most recent call last)",
      "File \u001b[1;32me:\\Projects\\AI-Maven\\AIE3\\.venv\\Lib\\site-packages\\requests\\adapters.py:667\u001b[0m, in \u001b[0;36mHTTPAdapter.send\u001b[1;34m(self, request, stream, timeout, verify, cert, proxies)\u001b[0m\n\u001b[0;32m    666\u001b[0m \u001b[38;5;28;01mtry\u001b[39;00m:\n\u001b[1;32m--> 667\u001b[0m     resp \u001b[38;5;241m=\u001b[39m \u001b[43mconn\u001b[49m\u001b[38;5;241;43m.\u001b[39;49m\u001b[43murlopen\u001b[49m\u001b[43m(\u001b[49m\n\u001b[0;32m    668\u001b[0m \u001b[43m        \u001b[49m\u001b[43mmethod\u001b[49m\u001b[38;5;241;43m=\u001b[39;49m\u001b[43mrequest\u001b[49m\u001b[38;5;241;43m.\u001b[39;49m\u001b[43mmethod\u001b[49m\u001b[43m,\u001b[49m\n\u001b[0;32m    669\u001b[0m \u001b[43m        \u001b[49m\u001b[43murl\u001b[49m\u001b[38;5;241;43m=\u001b[39;49m\u001b[43murl\u001b[49m\u001b[43m,\u001b[49m\n\u001b[0;32m    670\u001b[0m \u001b[43m        \u001b[49m\u001b[43mbody\u001b[49m\u001b[38;5;241;43m=\u001b[39;49m\u001b[43mrequest\u001b[49m\u001b[38;5;241;43m.\u001b[39;49m\u001b[43mbody\u001b[49m\u001b[43m,\u001b[49m\n\u001b[0;32m    671\u001b[0m \u001b[43m        \u001b[49m\u001b[43mheaders\u001b[49m\u001b[38;5;241;43m=\u001b[39;49m\u001b[43mrequest\u001b[49m\u001b[38;5;241;43m.\u001b[39;49m\u001b[43mheaders\u001b[49m\u001b[43m,\u001b[49m\n\u001b[0;32m    672\u001b[0m \u001b[43m        \u001b[49m\u001b[43mredirect\u001b[49m\u001b[38;5;241;43m=\u001b[39;49m\u001b[38;5;28;43;01mFalse\u001b[39;49;00m\u001b[43m,\u001b[49m\n\u001b[0;32m    673\u001b[0m \u001b[43m        \u001b[49m\u001b[43massert_same_host\u001b[49m\u001b[38;5;241;43m=\u001b[39;49m\u001b[38;5;28;43;01mFalse\u001b[39;49;00m\u001b[43m,\u001b[49m\n\u001b[0;32m    674\u001b[0m \u001b[43m        \u001b[49m\u001b[43mpreload_content\u001b[49m\u001b[38;5;241;43m=\u001b[39;49m\u001b[38;5;28;43;01mFalse\u001b[39;49;00m\u001b[43m,\u001b[49m\n\u001b[0;32m    675\u001b[0m \u001b[43m        \u001b[49m\u001b[43mdecode_content\u001b[49m\u001b[38;5;241;43m=\u001b[39;49m\u001b[38;5;28;43;01mFalse\u001b[39;49;00m\u001b[43m,\u001b[49m\n\u001b[0;32m    676\u001b[0m \u001b[43m        \u001b[49m\u001b[43mretries\u001b[49m\u001b[38;5;241;43m=\u001b[39;49m\u001b[38;5;28;43mself\u001b[39;49m\u001b[38;5;241;43m.\u001b[39;49m\u001b[43mmax_retries\u001b[49m\u001b[43m,\u001b[49m\n\u001b[0;32m    677\u001b[0m \u001b[43m        \u001b[49m\u001b[43mtimeout\u001b[49m\u001b[38;5;241;43m=\u001b[39;49m\u001b[43mtimeout\u001b[49m\u001b[43m,\u001b[49m\n\u001b[0;32m    678\u001b[0m \u001b[43m        \u001b[49m\u001b[43mchunked\u001b[49m\u001b[38;5;241;43m=\u001b[39;49m\u001b[43mchunked\u001b[49m\u001b[43m,\u001b[49m\n\u001b[0;32m    679\u001b[0m \u001b[43m    \u001b[49m\u001b[43m)\u001b[49m\n\u001b[0;32m    681\u001b[0m \u001b[38;5;28;01mexcept\u001b[39;00m (ProtocolError, \u001b[38;5;167;01mOSError\u001b[39;00m) \u001b[38;5;28;01mas\u001b[39;00m err:\n",
      "File \u001b[1;32me:\\Projects\\AI-Maven\\AIE3\\.venv\\Lib\\site-packages\\urllib3\\connectionpool.py:801\u001b[0m, in \u001b[0;36mHTTPConnectionPool.urlopen\u001b[1;34m(self, method, url, body, headers, retries, redirect, assert_same_host, timeout, pool_timeout, release_conn, chunked, body_pos, **response_kw)\u001b[0m\n\u001b[0;32m    799\u001b[0m     e \u001b[38;5;241m=\u001b[39m ProtocolError(\u001b[38;5;124m\"\u001b[39m\u001b[38;5;124mConnection aborted.\u001b[39m\u001b[38;5;124m\"\u001b[39m, e)\n\u001b[1;32m--> 801\u001b[0m retries \u001b[38;5;241m=\u001b[39m \u001b[43mretries\u001b[49m\u001b[38;5;241;43m.\u001b[39;49m\u001b[43mincrement\u001b[49m\u001b[43m(\u001b[49m\n\u001b[0;32m    802\u001b[0m \u001b[43m    \u001b[49m\u001b[43mmethod\u001b[49m\u001b[43m,\u001b[49m\u001b[43m \u001b[49m\u001b[43murl\u001b[49m\u001b[43m,\u001b[49m\u001b[43m \u001b[49m\u001b[43merror\u001b[49m\u001b[38;5;241;43m=\u001b[39;49m\u001b[43me\u001b[49m\u001b[43m,\u001b[49m\u001b[43m \u001b[49m\u001b[43m_pool\u001b[49m\u001b[38;5;241;43m=\u001b[39;49m\u001b[38;5;28;43mself\u001b[39;49m\u001b[43m,\u001b[49m\u001b[43m \u001b[49m\u001b[43m_stacktrace\u001b[49m\u001b[38;5;241;43m=\u001b[39;49m\u001b[43msys\u001b[49m\u001b[38;5;241;43m.\u001b[39;49m\u001b[43mexc_info\u001b[49m\u001b[43m(\u001b[49m\u001b[43m)\u001b[49m\u001b[43m[\u001b[49m\u001b[38;5;241;43m2\u001b[39;49m\u001b[43m]\u001b[49m\n\u001b[0;32m    803\u001b[0m \u001b[43m\u001b[49m\u001b[43m)\u001b[49m\n\u001b[0;32m    804\u001b[0m retries\u001b[38;5;241m.\u001b[39msleep()\n",
      "File \u001b[1;32me:\\Projects\\AI-Maven\\AIE3\\.venv\\Lib\\site-packages\\urllib3\\util\\retry.py:594\u001b[0m, in \u001b[0;36mRetry.increment\u001b[1;34m(self, method, url, response, error, _pool, _stacktrace)\u001b[0m\n\u001b[0;32m    593\u001b[0m \u001b[38;5;28;01mif\u001b[39;00m new_retry\u001b[38;5;241m.\u001b[39mis_exhausted():\n\u001b[1;32m--> 594\u001b[0m     \u001b[38;5;28;01mraise\u001b[39;00m MaxRetryError(_pool, url, error \u001b[38;5;129;01mor\u001b[39;00m ResponseError(cause))\n\u001b[0;32m    596\u001b[0m log\u001b[38;5;241m.\u001b[39mdebug(\u001b[38;5;124m\"\u001b[39m\u001b[38;5;124mIncremented Retry for (url=\u001b[39m\u001b[38;5;124m'\u001b[39m\u001b[38;5;132;01m%s\u001b[39;00m\u001b[38;5;124m'\u001b[39m\u001b[38;5;124m): \u001b[39m\u001b[38;5;132;01m%r\u001b[39;00m\u001b[38;5;124m\"\u001b[39m, url, new_retry)\n",
      "\u001b[1;31mMaxRetryError\u001b[0m: HTTPConnectionPool(host='en.wikipedia.org', port=80): Max retries exceeded with url: /w/api.php?prop=extracts%7Crevisions&explaintext=&rvprop=ids&titles=The+Lord+of+the+Rings%3A+The+Two+Towers&format=json&action=query (Caused by ConnectTimeoutError(<urllib3.connection.HTTPConnection object at 0x000001714AFA3A90>, 'Connection to en.wikipedia.org timed out. (connect timeout=None)'))",
      "\nDuring handling of the above exception, another exception occurred:\n",
      "\u001b[1;31mConnectTimeout\u001b[0m                            Traceback (most recent call last)",
      "Cell \u001b[1;32mIn[16], line 5\u001b[0m\n\u001b[0;32m      1\u001b[0m movie_list \u001b[38;5;241m=\u001b[39m [\n\u001b[0;32m      2\u001b[0m     \u001b[38;5;124m\"\u001b[39m\u001b[38;5;124mThe Lord of the Rings: The Two Towers\u001b[39m\u001b[38;5;124m\"\u001b[39m,\n\u001b[0;32m      3\u001b[0m ]\n\u001b[1;32m----> 5\u001b[0m wiki_docs\u001b[38;5;241m.\u001b[39mextend(\u001b[43mwiki_reader\u001b[49m\u001b[38;5;241;43m.\u001b[39;49m\u001b[43mload_data\u001b[49m\u001b[43m(\u001b[49m\u001b[43mpages\u001b[49m\u001b[38;5;241;43m=\u001b[39;49m\u001b[43mmovie_list\u001b[49m\u001b[43m,\u001b[49m\u001b[43m \u001b[49m\u001b[43mauto_suggest\u001b[49m\u001b[38;5;241;43m=\u001b[39;49m\u001b[38;5;28;43;01mFalse\u001b[39;49;00m\u001b[43m)\u001b[49m)\n",
      "File \u001b[1;32me:\\Projects\\AI-Maven\\AIE3\\.venv\\Lib\\site-packages\\llama_index\\readers\\wikipedia\\base.py:54\u001b[0m, in \u001b[0;36mWikipediaReader.load_data\u001b[1;34m(self, pages, lang_prefix, **load_kwargs)\u001b[0m\n\u001b[0;32m     52\u001b[0m \u001b[38;5;28;01mfor\u001b[39;00m page \u001b[38;5;129;01min\u001b[39;00m pages:\n\u001b[0;32m     53\u001b[0m     wiki_page \u001b[38;5;241m=\u001b[39m wikipedia\u001b[38;5;241m.\u001b[39mpage(page, \u001b[38;5;241m*\u001b[39m\u001b[38;5;241m*\u001b[39mload_kwargs)\n\u001b[1;32m---> 54\u001b[0m     page_content \u001b[38;5;241m=\u001b[39m \u001b[43mwiki_page\u001b[49m\u001b[38;5;241;43m.\u001b[39;49m\u001b[43mcontent\u001b[49m\n\u001b[0;32m     55\u001b[0m     page_id \u001b[38;5;241m=\u001b[39m wiki_page\u001b[38;5;241m.\u001b[39mpageid\n\u001b[0;32m     56\u001b[0m     results\u001b[38;5;241m.\u001b[39mappend(Document(id_\u001b[38;5;241m=\u001b[39mpage_id, text\u001b[38;5;241m=\u001b[39mpage_content))\n",
      "File \u001b[1;32me:\\Projects\\AI-Maven\\AIE3\\.venv\\Lib\\site-packages\\wikipedia\\wikipedia.py:475\u001b[0m, in \u001b[0;36mWikipediaPage.content\u001b[1;34m(self)\u001b[0m\n\u001b[0;32m    473\u001b[0m \u001b[38;5;28;01melse\u001b[39;00m:\n\u001b[0;32m    474\u001b[0m    query_params[\u001b[38;5;124m'\u001b[39m\u001b[38;5;124mpageids\u001b[39m\u001b[38;5;124m'\u001b[39m] \u001b[38;5;241m=\u001b[39m \u001b[38;5;28mself\u001b[39m\u001b[38;5;241m.\u001b[39mpageid\n\u001b[1;32m--> 475\u001b[0m request \u001b[38;5;241m=\u001b[39m \u001b[43m_wiki_request\u001b[49m\u001b[43m(\u001b[49m\u001b[43mquery_params\u001b[49m\u001b[43m)\u001b[49m\n\u001b[0;32m    476\u001b[0m \u001b[38;5;28mself\u001b[39m\u001b[38;5;241m.\u001b[39m_content     \u001b[38;5;241m=\u001b[39m request[\u001b[38;5;124m'\u001b[39m\u001b[38;5;124mquery\u001b[39m\u001b[38;5;124m'\u001b[39m][\u001b[38;5;124m'\u001b[39m\u001b[38;5;124mpages\u001b[39m\u001b[38;5;124m'\u001b[39m][\u001b[38;5;28mself\u001b[39m\u001b[38;5;241m.\u001b[39mpageid][\u001b[38;5;124m'\u001b[39m\u001b[38;5;124mextract\u001b[39m\u001b[38;5;124m'\u001b[39m]\n\u001b[0;32m    477\u001b[0m \u001b[38;5;28mself\u001b[39m\u001b[38;5;241m.\u001b[39m_revision_id \u001b[38;5;241m=\u001b[39m request[\u001b[38;5;124m'\u001b[39m\u001b[38;5;124mquery\u001b[39m\u001b[38;5;124m'\u001b[39m][\u001b[38;5;124m'\u001b[39m\u001b[38;5;124mpages\u001b[39m\u001b[38;5;124m'\u001b[39m][\u001b[38;5;28mself\u001b[39m\u001b[38;5;241m.\u001b[39mpageid][\u001b[38;5;124m'\u001b[39m\u001b[38;5;124mrevisions\u001b[39m\u001b[38;5;124m'\u001b[39m][\u001b[38;5;241m0\u001b[39m][\u001b[38;5;124m'\u001b[39m\u001b[38;5;124mrevid\u001b[39m\u001b[38;5;124m'\u001b[39m]\n",
      "File \u001b[1;32me:\\Projects\\AI-Maven\\AIE3\\.venv\\Lib\\site-packages\\wikipedia\\wikipedia.py:737\u001b[0m, in \u001b[0;36m_wiki_request\u001b[1;34m(params)\u001b[0m\n\u001b[0;32m    734\u001b[0m   wait_time \u001b[38;5;241m=\u001b[39m (RATE_LIMIT_LAST_CALL \u001b[38;5;241m+\u001b[39m RATE_LIMIT_MIN_WAIT) \u001b[38;5;241m-\u001b[39m datetime\u001b[38;5;241m.\u001b[39mnow()\n\u001b[0;32m    735\u001b[0m   time\u001b[38;5;241m.\u001b[39msleep(\u001b[38;5;28mint\u001b[39m(wait_time\u001b[38;5;241m.\u001b[39mtotal_seconds()))\n\u001b[1;32m--> 737\u001b[0m r \u001b[38;5;241m=\u001b[39m \u001b[43mrequests\u001b[49m\u001b[38;5;241;43m.\u001b[39;49m\u001b[43mget\u001b[49m\u001b[43m(\u001b[49m\u001b[43mAPI_URL\u001b[49m\u001b[43m,\u001b[49m\u001b[43m \u001b[49m\u001b[43mparams\u001b[49m\u001b[38;5;241;43m=\u001b[39;49m\u001b[43mparams\u001b[49m\u001b[43m,\u001b[49m\u001b[43m \u001b[49m\u001b[43mheaders\u001b[49m\u001b[38;5;241;43m=\u001b[39;49m\u001b[43mheaders\u001b[49m\u001b[43m)\u001b[49m\n\u001b[0;32m    739\u001b[0m \u001b[38;5;28;01mif\u001b[39;00m RATE_LIMIT:\n\u001b[0;32m    740\u001b[0m   RATE_LIMIT_LAST_CALL \u001b[38;5;241m=\u001b[39m datetime\u001b[38;5;241m.\u001b[39mnow()\n",
      "File \u001b[1;32me:\\Projects\\AI-Maven\\AIE3\\.venv\\Lib\\site-packages\\requests\\api.py:73\u001b[0m, in \u001b[0;36mget\u001b[1;34m(url, params, **kwargs)\u001b[0m\n\u001b[0;32m     62\u001b[0m \u001b[38;5;28;01mdef\u001b[39;00m \u001b[38;5;21mget\u001b[39m(url, params\u001b[38;5;241m=\u001b[39m\u001b[38;5;28;01mNone\u001b[39;00m, \u001b[38;5;241m*\u001b[39m\u001b[38;5;241m*\u001b[39mkwargs):\n\u001b[0;32m     63\u001b[0m \u001b[38;5;250m    \u001b[39m\u001b[38;5;124mr\u001b[39m\u001b[38;5;124;03m\"\"\"Sends a GET request.\u001b[39;00m\n\u001b[0;32m     64\u001b[0m \n\u001b[0;32m     65\u001b[0m \u001b[38;5;124;03m    :param url: URL for the new :class:`Request` object.\u001b[39;00m\n\u001b[1;32m   (...)\u001b[0m\n\u001b[0;32m     70\u001b[0m \u001b[38;5;124;03m    :rtype: requests.Response\u001b[39;00m\n\u001b[0;32m     71\u001b[0m \u001b[38;5;124;03m    \"\"\"\u001b[39;00m\n\u001b[1;32m---> 73\u001b[0m     \u001b[38;5;28;01mreturn\u001b[39;00m \u001b[43mrequest\u001b[49m\u001b[43m(\u001b[49m\u001b[38;5;124;43m\"\u001b[39;49m\u001b[38;5;124;43mget\u001b[39;49m\u001b[38;5;124;43m\"\u001b[39;49m\u001b[43m,\u001b[49m\u001b[43m \u001b[49m\u001b[43murl\u001b[49m\u001b[43m,\u001b[49m\u001b[43m \u001b[49m\u001b[43mparams\u001b[49m\u001b[38;5;241;43m=\u001b[39;49m\u001b[43mparams\u001b[49m\u001b[43m,\u001b[49m\u001b[43m \u001b[49m\u001b[38;5;241;43m*\u001b[39;49m\u001b[38;5;241;43m*\u001b[39;49m\u001b[43mkwargs\u001b[49m\u001b[43m)\u001b[49m\n",
      "File \u001b[1;32me:\\Projects\\AI-Maven\\AIE3\\.venv\\Lib\\site-packages\\requests\\api.py:59\u001b[0m, in \u001b[0;36mrequest\u001b[1;34m(method, url, **kwargs)\u001b[0m\n\u001b[0;32m     55\u001b[0m \u001b[38;5;66;03m# By using the 'with' statement we are sure the session is closed, thus we\u001b[39;00m\n\u001b[0;32m     56\u001b[0m \u001b[38;5;66;03m# avoid leaving sockets open which can trigger a ResourceWarning in some\u001b[39;00m\n\u001b[0;32m     57\u001b[0m \u001b[38;5;66;03m# cases, and look like a memory leak in others.\u001b[39;00m\n\u001b[0;32m     58\u001b[0m \u001b[38;5;28;01mwith\u001b[39;00m sessions\u001b[38;5;241m.\u001b[39mSession() \u001b[38;5;28;01mas\u001b[39;00m session:\n\u001b[1;32m---> 59\u001b[0m     \u001b[38;5;28;01mreturn\u001b[39;00m \u001b[43msession\u001b[49m\u001b[38;5;241;43m.\u001b[39;49m\u001b[43mrequest\u001b[49m\u001b[43m(\u001b[49m\u001b[43mmethod\u001b[49m\u001b[38;5;241;43m=\u001b[39;49m\u001b[43mmethod\u001b[49m\u001b[43m,\u001b[49m\u001b[43m \u001b[49m\u001b[43murl\u001b[49m\u001b[38;5;241;43m=\u001b[39;49m\u001b[43murl\u001b[49m\u001b[43m,\u001b[49m\u001b[43m \u001b[49m\u001b[38;5;241;43m*\u001b[39;49m\u001b[38;5;241;43m*\u001b[39;49m\u001b[43mkwargs\u001b[49m\u001b[43m)\u001b[49m\n",
      "File \u001b[1;32me:\\Projects\\AI-Maven\\AIE3\\.venv\\Lib\\site-packages\\requests\\sessions.py:589\u001b[0m, in \u001b[0;36mSession.request\u001b[1;34m(self, method, url, params, data, headers, cookies, files, auth, timeout, allow_redirects, proxies, hooks, stream, verify, cert, json)\u001b[0m\n\u001b[0;32m    584\u001b[0m send_kwargs \u001b[38;5;241m=\u001b[39m {\n\u001b[0;32m    585\u001b[0m     \u001b[38;5;124m\"\u001b[39m\u001b[38;5;124mtimeout\u001b[39m\u001b[38;5;124m\"\u001b[39m: timeout,\n\u001b[0;32m    586\u001b[0m     \u001b[38;5;124m\"\u001b[39m\u001b[38;5;124mallow_redirects\u001b[39m\u001b[38;5;124m\"\u001b[39m: allow_redirects,\n\u001b[0;32m    587\u001b[0m }\n\u001b[0;32m    588\u001b[0m send_kwargs\u001b[38;5;241m.\u001b[39mupdate(settings)\n\u001b[1;32m--> 589\u001b[0m resp \u001b[38;5;241m=\u001b[39m \u001b[38;5;28;43mself\u001b[39;49m\u001b[38;5;241;43m.\u001b[39;49m\u001b[43msend\u001b[49m\u001b[43m(\u001b[49m\u001b[43mprep\u001b[49m\u001b[43m,\u001b[49m\u001b[43m \u001b[49m\u001b[38;5;241;43m*\u001b[39;49m\u001b[38;5;241;43m*\u001b[39;49m\u001b[43msend_kwargs\u001b[49m\u001b[43m)\u001b[49m\n\u001b[0;32m    591\u001b[0m \u001b[38;5;28;01mreturn\u001b[39;00m resp\n",
      "File \u001b[1;32me:\\Projects\\AI-Maven\\AIE3\\.venv\\Lib\\site-packages\\requests\\sessions.py:703\u001b[0m, in \u001b[0;36mSession.send\u001b[1;34m(self, request, **kwargs)\u001b[0m\n\u001b[0;32m    700\u001b[0m start \u001b[38;5;241m=\u001b[39m preferred_clock()\n\u001b[0;32m    702\u001b[0m \u001b[38;5;66;03m# Send the request\u001b[39;00m\n\u001b[1;32m--> 703\u001b[0m r \u001b[38;5;241m=\u001b[39m \u001b[43madapter\u001b[49m\u001b[38;5;241;43m.\u001b[39;49m\u001b[43msend\u001b[49m\u001b[43m(\u001b[49m\u001b[43mrequest\u001b[49m\u001b[43m,\u001b[49m\u001b[43m \u001b[49m\u001b[38;5;241;43m*\u001b[39;49m\u001b[38;5;241;43m*\u001b[39;49m\u001b[43mkwargs\u001b[49m\u001b[43m)\u001b[49m\n\u001b[0;32m    705\u001b[0m \u001b[38;5;66;03m# Total elapsed time of the request (approximately)\u001b[39;00m\n\u001b[0;32m    706\u001b[0m elapsed \u001b[38;5;241m=\u001b[39m preferred_clock() \u001b[38;5;241m-\u001b[39m start\n",
      "File \u001b[1;32me:\\Projects\\AI-Maven\\AIE3\\.venv\\Lib\\site-packages\\requests\\adapters.py:688\u001b[0m, in \u001b[0;36mHTTPAdapter.send\u001b[1;34m(self, request, stream, timeout, verify, cert, proxies)\u001b[0m\n\u001b[0;32m    685\u001b[0m \u001b[38;5;28;01mif\u001b[39;00m \u001b[38;5;28misinstance\u001b[39m(e\u001b[38;5;241m.\u001b[39mreason, ConnectTimeoutError):\n\u001b[0;32m    686\u001b[0m     \u001b[38;5;66;03m# TODO: Remove this in 3.0.0: see #2811\u001b[39;00m\n\u001b[0;32m    687\u001b[0m     \u001b[38;5;28;01mif\u001b[39;00m \u001b[38;5;129;01mnot\u001b[39;00m \u001b[38;5;28misinstance\u001b[39m(e\u001b[38;5;241m.\u001b[39mreason, NewConnectionError):\n\u001b[1;32m--> 688\u001b[0m         \u001b[38;5;28;01mraise\u001b[39;00m ConnectTimeout(e, request\u001b[38;5;241m=\u001b[39mrequest)\n\u001b[0;32m    690\u001b[0m \u001b[38;5;28;01mif\u001b[39;00m \u001b[38;5;28misinstance\u001b[39m(e\u001b[38;5;241m.\u001b[39mreason, ResponseError):\n\u001b[0;32m    691\u001b[0m     \u001b[38;5;28;01mraise\u001b[39;00m RetryError(e, request\u001b[38;5;241m=\u001b[39mrequest)\n",
      "\u001b[1;31mConnectTimeout\u001b[0m: HTTPConnectionPool(host='en.wikipedia.org', port=80): Max retries exceeded with url: /w/api.php?prop=extracts%7Crevisions&explaintext=&rvprop=ids&titles=The+Lord+of+the+Rings%3A+The+Two+Towers&format=json&action=query (Caused by ConnectTimeoutError(<urllib3.connection.HTTPConnection object at 0x000001714AFA3A90>, 'Connection to en.wikipedia.org timed out. (connect timeout=None)'))"
     ]
    }
   ],
   "source": [
    "movie_list = [\n",
    "    \"The Lord of the Rings: The Two Towers\",\n",
    "]\n",
    "\n",
    "wiki_docs.extend(wiki_reader.load_data(pages=movie_list, auto_suggest=False))\n"
   ]
  },
  {
   "cell_type": "code",
   "execution_count": 30,
   "metadata": {},
   "outputs": [
    {
     "data": {
      "text/plain": [
       "[Document(id_='52659577', embedding=None, metadata={}, excluded_embed_metadata_keys=[], excluded_llm_metadata_keys=[], relationships={}, text='Dune (titled onscreen as Dune: Part One) is a 2021 American epic science fiction film directed and co-produced by Denis Villeneuve, who co-wrote the screenplay with Jon Spaihts, and Eric Roth. It is the first of a two-part adaptation of the 1965 novel of the same name by Frank Herbert. Set in the distant future, the film follows Paul Atreides as his family, the noble House Atreides, is thrust into a war for the deadly and inhospitable desert planet Arrakis. The ensemble cast includes Timothée Chalamet, Rebecca Ferguson, Oscar Isaac, Josh Brolin, Stellan Skarsgård, Dave Bautista, Stephen McKinley Henderson, Zendaya, Chang Chen, Sharon Duncan-Brewster, Charlotte Rampling, Jason Momoa, and Javier Bardem.\\nThe film is the third adaptation of Dune, following David Lynch\\'s 1984 film and John Harrison\\'s 2000 television miniseries. After an unsuccessful attempt by Paramount Pictures to produce a new adaptation, Legendary Pictures acquired the Dune film and television rights in 2016, with Villeneuve signing on as director in February 2017. Production contracts were secured only for the first film, relying on its success before a sequel would be produced. Principal photography took place from March to July 2019 at locations including Budapest, Jordan, Norway, and Abu Dhabi.\\nDune was scheduled for a late 2020 release but was delayed due to the COVID-19 pandemic. The film premiered at the 78th Venice International Film Festival on September 3, 2021, before its international release on September 15, 2021; it was then released in United States theaters and streaming on HBO Max on October 22, 2021. Dune was a box office success, grossing over $407 million on a $165 million budget. It was well received by critics and audiences with praise for Villeneuve\\'s direction, screenplay, production values, Hans Zimmer\\'s musical score, cinematography, and retaining core elements from the source material. The film won six awards at the 94th Academy Awards and was nominated in four other categories; it received numerous other accolades. A sequel, Dune: Part Two, was released on March 1, 2024.\\n\\n\\n== Plot ==\\nIn the distant future, Duke Leto Atreides, ruler of the planet Caladan, is assigned by the Padishah Emperor Shaddam IV to replace Baron Vladimir Harkonnen as the fiefholder of Arrakis, a harsh desert planet and the sole source of \"spice\", a valuable psychotropic substance that imparts heightened vitality and awareness. Spice is also key to interstellar travel, giving Spacing Guild Navigators the ability to guide starships to traverse space instantaneously and safely. Emperor Shaddam, fearful of Leto\\'s rising power, plots for House Harkonnen to retake Arrakis, secretly aided by his Sardaukar troops, and destroy House Atreides. Leto is suspicious of the Emperor but weighs the risks against the power of controlling Arrakis and making an alliance with its mysterious natives, the Fremen.\\nLeto\\'s concubine, Lady Jessica, is an acolyte of the Bene Gesserit—an exclusive sisterhood whose members possess advanced physical and mental abilities. As part of a centuries-long breeding program, they instructed her to bear a daughter whose son would become the Kwisatz Haderach—a Bene Gesserit and messianic superbeing with the clairvoyance necessary to guide humanity to a better future. Jessica disobeyed and bore a son, Paul, who is trained by Leto\\'s aides, Duncan Idaho, Gurney Halleck, the Suk doctor Wellington Yueh, and the Mentat Thufir Hawat; she teaches him Bene Gesserit disciplines. Paul confides in Jessica and Duncan about troubling visions of the future. The Reverend Mother and Imperial Truthsayer Gaius Helen Mohiam visits Caladan and subjects him to a deadly Gom Jabbar test to assess his humanity and impulse control, which he passes. \\nHouse Atreides arrives at Arrakeen, the principal stronghold on Arrakis. Duncan\\'s advance party has made contact with the Fremen. The natives revere Paul and Jessica, which she explains is due to the Bene Gesserit sowing beliefs on Arrakis centuries earlier. An attempt to assassinate Paul with a hunter-seeker fails. At a secret meeting on Giedi Prime, Mohiam insists Baron Harkonnen spare Paul and Jessica in his coup, to which he duplicitously agrees. \\nLeto meets and negotiates with Fremen chieftain Stilgar and meets the Imperial Judge of the Change, Dr. Kynes, a planetologist who lives among the Fremen. Kynes briefs them on the dangers of spice harvesting, and the giant sandworms that travel under the desert and render unwise the use of protective shields. During a flight, they rescue a stranded spice-harvesting crew from a sandworm, and Paul\\'s exposure to the spice triggers intense premonitions.\\nYueh betrays the Atreides and disables Arrakeen\\'s shields, allowing the Harkonnens and Sardaukar to invade. He incapacitates Leto, planning to exchange him for his wife, who is the Baron\\'s prisoner. Yueh replaces one of Leto\\'s teeth with a poison gas capsule with which the Duke can assassinate the Baron. After the Baron double-crosses and murders Yueh, Leto releases the gas, killing himself and the Baron\\'s Mentat, Piter De Vries, but the Baron survives. Though the Baron has arranged to have Paul and Jessica dropped deep in the desert to die, a compassionate Yueh has left them with a fremkit with survival supplies. Jessica uses a Bene Gesserit technique called \"the Voice\" to overpower and kill their captors. Overnighting in the desert, Paul—surrounded by spice—has visions of a bloody holy war fought across the universe in his name.\\nAfter conquering Arrakis, Baron Harkonnen appoints his nephew Rabban to oversee the planet and orders him to restart spice production to recoup the invasion\\'s cost. Meanwhile, Duncan and Kynes find Jessica and Paul, who disclose his plan to marry one of Emperor Shaddam\\'s daughters to avert a potential civil war arising from the Emperor\\'s betrayal. However, they are discovered by Sardaukar soldiers armed with a lasgun. Duncan sacrifices himself, enabling Paul and Jessica\\'s escape. Kynes also tries to escape but is caught and mortally wounded, and lures a sandworm to her location to devour herself and the Sardaukar. Deep in the desert, Paul and Jessica encounter Stilgar\\'s Fremen tribe, including Chani, the young woman from Paul\\'s visions. Despite Stilgar\\'s lenience towards them, Fremen warrior Jamis challenges Paul to a ritual duel to the death, which Paul wins. Contrary to Jessica\\'s wishes, Paul joins the Fremen, determined to fulfill his father\\'s goal of allying with them against the Harkonnen to bring Arrakis peace.\\n\\n\\n== Cast ==\\nTimothée Chalamet as Paul Atreides, ducal heir of House Atreides\\nRebecca Ferguson as Lady Jessica, Paul\\'s Bene Gesserit mother and consort to Leto\\nOscar Isaac as Duke Leto Atreides, Paul\\'s father and the leader of House Atreides\\nJosh Brolin as Gurney Halleck, weapons master of House Atreides and one of Paul\\'s mentors\\nStellan Skarsgård as Baron Vladimir Harkonnen, leader of House Harkonnen, enemy to House Atreides, and former steward of Arrakis\\nDave Bautista as Glossu Rabban, nephew of Baron Harkonnen\\nSharon Duncan-Brewster as Dr. Liet Kynes, Imperial ecologist and Judge of the Change on Arrakis\\nStephen McKinley Henderson as Thufir Hawat, the Mentat of House Atreides\\nZendaya as Chani, a mysterious young Fremen woman who appears in Paul\\'s visions\\nChang Chen as Dr. Wellington Yueh, a Suk doctor in the employ of House Atreides\\nCharlotte Rampling as Reverend Mother Mohiam, the Emperor\\'s Bene Gesserit Truthsayer\\nJason Momoa as Duncan Idaho, the swordmaster of House Atreides and one of Paul\\'s mentors\\nJavier Bardem as Stilgar, the leader of the Fremen tribe at Sietch Tabr\\nDavid Dastmalchian as Piter De Vries, the Mentat of House Harkonnen\\nBabs Olusanmokun as Jamis, a Fremen from Sietch Tabr\\nGolda Rosheuvel as Shadout Mapes, a Fremen working as a housekeeper for House Atreides\\nRoger Yuan as Lieutenant Lanville, Gurney Halleck\\'s second-in-command\\nAdditionally, Benjamin Clementine portrays the Herald of the Change, the head of an Imperial delegation to Caladan. Marianne Faithfull, Jean Gilpin, and Ellen Dubin voice the ancestral Bene Gesserit whose voices are heard by Paul in his visions. Joe Walker, the film\\'s editor, provides the narration for Paul\\'s filmbook guides for Arrakis.\\n\\n\\n== Production ==\\n\\n\\n=== Background ===\\n\\nFollowing the publication of Frank Herbert\\'s novel Dune in 1965, it was considered as having potential for a possible film adaptation. Since 1971, various producers have held film adaptation rights for the novel. Attempts to make an adaptation based on the book were considered to be \"unfilmable\" due to its breadth of content. The book\\'s status among fans meant that deviations without strong justification could potentially harm the film\\'s reputation.\\nAlejandro Jodorowsky acquired the rights in the 1970s to make a fourteen-hour adaptation of the book, but the project ultimately failed to secure sufficient funds. This development effort became the subject of the documentary film Jodorowsky\\'s Dune (2013). David Lynch\\'s Dune, produced by Raffaella De Laurentiis in 1984, was intended as a three-hour film but was cut to 137 minutes; it was poorly received and Lynch himself ended up disowning it. In 1996, producer Richard P. Rubinstein acquired the rights to the novel. Frank Herbert\\'s Dune, a live-action miniseries produced by Rubinstein and directed by John Harrison, aired on the Sci Fi Channel in 2000; it was a ratings hit and was generally better received than Lynch\\'s film. Some reviewers criticized the miniseries for lacking the spectacle afforded to a feature film production, as well as for staying too faithful to the book and being bogged down by exposition. Prospects to make a successful adaptation of Dune improved after the critical and commercial success of the film series adaptations of The Lord of the Rings and Harry Potter, both of which maintained most of the works\\' key characters and plots while managing the limited running time. In 2008, Paramount Pictures hired Peter Berg to direct an adaptation. Berg left the project in October 2009, with director Pierre Morel being hired in January 2010. Paramount later cancelled the project in March 2011, as they could not come to key agreements, with their rights reverting to Rubinstein.\\n\\n\\n=== Development ===\\n\\nIn 2011, Mary Parent, vice chair of worldwide production for Legendary Pictures, and her producer partner Cale Boyter, acquired adaptation rights for Dune. Legendary obtained film and TV rights for Dune in November 2016. Canadian filmmaker Denis Villeneuve expressed interest in the project in September 2016, saying that \"a longstanding dream of mine is to adapt Dune, but it\\'s a long process to get the rights, and I don\\'t think I will succeed\". By December, Villeneuve was in talks with the studio to direct the film. His enthusiasm to direct a Dune film earned Parent\\'s respect, with Parent hiring Villeneuve after hearing him describe his vision for the film. He chose to complete Arrival (2016) and Blade Runner 2049 (2017) first, as he wanted to spend more time to develop Dune and co-write it himself, employing his past experience directing science fiction films during development. Villeneuve signed on to direct the film by January 2017, approximately one week after earning a nomination Academy Award for Best Director for Arrival. By that February, Villeneuve was officially confirmed as the director.\\nSome of Villeneuve\\'s previous collaborators on Arrival and Blade Runner 2049 returned for Dune, including film editor Joe Walker, production designer Patrice Vermette, visual effects supervisor Paul Lambert, sound designer and editor Theo Green, sound editor Mark Mangini, and special effects supervisor Gerd Nefzer. Other previous collaborators were slated to work on Dune but dropped out before production began, including visual effects supervisor John Nelson and cinematographer Roger Deakins, who was replaced in December 2018 with Greig Fraser. Dune was produced by Villeneuve, Parent, and Cale Boyter, with Tanya Lapointe, Brian Herbert, Byron Merritt, Kim Herbert, Thomas Tull, Jon Spaihts, Richard P. Rubinstein, John Harrison, and Herbert W. Gain serving as executive producers and Kevin J. Anderson as creative consultant. Game of Thrones language creator David J. Peterson was confirmed as a constructed language developer for the film in April 2019.\\n\\n\\n=== Writing ===\\nIn March 2018, Villeneuve stated that his goal was to adapt the novel into a two-part film series. He secured a two-movie deal with Warner Bros. Pictures, in the same style as the two-part adaptation of Stephen King\\'s It in 2017 and in 2019. He chose to make two films as he felt that the novel was too large and complex for one. Subsequent dealings secured the production of the first film and new production deals were made to start production for the second. Eric Roth was hired to co-write the screenplay in April,  with Legendary CEO Joshua Grode affirming that the studio planned on making a sequel. Roth, who had read the book as a child, had a neutral opinion of it, which allowed him to have an \"objective view of it\". He wrote a 50-page treatment for the film and focused on appealing to groups of people who enjoyed the book, did not remember nor care for the book, and those who were not familiar with it at all. Villeneuve completed a first draft of the script by May 2018, Producer Brian Herbert stated that the fourth draft of the screenplay, submitted in July, would cover the first half of the events from the novel, while Jon Spaihts was later hired as co-writer alongside Roth and Villeneuve in September. Though the book features many elements inspired from Arab and Islamic culture, Spaihts stated the team minimized incorporating them as he felt Arab culture became integrated into the world, resulting in the need to \"invent more and borrow less\" due to potentially overemphasizing them. Eventually, Roth worked on the film again after completing his work on Killers of the Flower Moon (2023), providing feedback after a screening of the film and aiding in rewrites prior to reshoots.\\nWhen writing his script, Villeneuve chose not to take inspiration from Lynch\\'s Dune, wanting instead to directly refer to the book despite affirming his respect for Lynch and the film. He described his reaction to the film as being \"half-satisfied\", and felt he would make the film with a \"different sensibility\". Similarly, he chose not to incorporate concepts Jodorowsky envisioned for his Dune film, as he felt it would be \"very presumptuous and arrogant\". He was not intimidated by previous film adaptations as he felt his love for Dune allowed him to focus on his own vision. He compared his experience of making the film to archaeology, describing the process as \"going back in time and finding those images mixed with emotions, and bringing them back to life\".\\nIn adapting the book for a contemporary audience, Villeneuve considered his screenplay \"a coming-of-age story, but also a call for action for the youth\" and noted the book\\'s social commentary regarding capitalism and the exploitation of natural resources such as oil. In doing so, Villeneuve wanted to recreate the experience he had felt when he initially read the book as a teen. He adjusted and modified many parts of the novel for the film, and wanted to keep \"the atmosphere and poetry ... intact\". This included eliminating internal monologues and epigraphs used in the book and simplifying the \"pseudo-antiquated\" dialogue. Instead, he emphasized Paul and Jessica\\'s relationship as the main focus of the story, and gave them a secret hand gesture language they could use to communicate silently to each other. The film also minimizes the political aspects of the Dune world in order to retain the book\\'s scale and exploration of power dynamics while also focus on Paul\\'s growth. The inclusion of the informative holographic filmbook videos for Paul was adapted from the book, with Villeneuve wanting it to convey Paul\\'s \"appetite for learning\" and his desire to learn about the Arrakis and Fremen culture.\\nSome characters were given less prominence, such as Baron Harkonnen, members of his court, and the Mentats Thufir Hawat and Piter De Vries, but established enough so that they can be used in the future. Villeneuve sought to depict the Baron as a complex antagonist rather than as a caricature, feeling the novel presented him as being the latter, and took inspiration from Colonel Kurtz. Another major change was altering some of the arcs of the female characters in the book to give them more respect and prominence, as Villeneuve felt femininity was a crucial theme in the book. Ferguson stated that while Villeneuve respected Herbert\\'s characterization in the book, Villeneuve\\'s modifications had helped improve the quality of female characters by expanding the role of Lady Jessica as a soldier and member of the Bene Gesserit. As such, the studio labeled this role a \"warrior priestess\", in contrast to the joking label of \"space nun\" that Villeneuve felt was implied by the book. \\n\\n\\n=== Casting ===\\n\\nVilleneuve began the casting process by first determining who would portray Paul Atreides. He approached actors on an individual basis and felt the final cast was close to his \"dream list\". For Paul, Villeneuve desired an actor who had \"an old soul in the body of a teenager\".  He identified Timothée Chalamet as the ideal choice for the role, later admitting that he had no alternate choices in mind. Chalamet, who previously auditioned for a role in Villeneuve\\'s Prisoners (2013), also desired to collaborate with Villeneuve and appear in Dune. He travelled to the Cannes Film Festival to discuss the role with Villeneuve. Chalamet entered final negotiations to play the role of Paul in July 2018. Rebecca Ferguson entered negotiations that September to play the role of Paul\\'s mother, Lady Jessica, with Chalamet already confirmed for the role of Paul. Ferguson was initially dismissive of the role, as she felt it was too similar to her Mission: Impossible role as Ilsa Faust. Ferguson did not want to be typecast as a \"strong female character\". However, she was convinced after hearing Villeneuve\\'s ideas and reading the book, saying she enjoyed the \"simplicity of wanting to save something you have created and all of these shades\". She had been cast by January 2019.\\nCasting director Francine Maisler had compiled over 30–50 audition tapes from actors for Villeneuve to decide from when casting secondary roles. Dave Bautista was offered the role of Glossu Rabban following a phone call from Villeneuve. He was an avid fan of Villeneuve and wanted to contact him, but was surprised when Villeneuve contacted him first and says he is proud of being offered the role. Villeneuve wanted Stellan Skarsgård to portray Baron Vladimir Harkonnen as he had found Skarsgård intimidating, and personally contacted Charlotte Rampling in order to portray Gaius Helen Mohiam, who accepted as she enjoyed Villeneuve\\'s work. Oscar Isaac contacted Villeneuve about starring in the film once he heard it was in development. Villeneuve cast him as Duke Leto, with Isaac commenting the role suited him physically. Zendaya auditioned for the role of Chani alongside five other actresses. She was chosen as she was considered to have the best performance with Chalamet. Bautista, Skarsgård, Rampling, Isaac, and Zendaya all joined the cast in January 2019.\\nIn the next month, Javier Bardem, Josh Brolin, Jason Momoa, and David Dastmalchian were cast as Stilgar, Gurney Halleck, Duncan Idaho, and Piter de Vries, respectively. Villeneuve directly called Bardem and offered him the role, who was shocked as he wanted to portray Stilgar, comparing it to his personal love for Aragorn in The Lord of the Rings. Meanwhile, Brolin amusingly commented that he pretended to read the script prior to accepting the role, while Momoa received his casting call when he was snowboarding down a mountain. He later contacted Villeneuve on a Skype call to confirm his involvement. Dastmalchian\\'s casting was similar to Brolin and Momoa\\'s, as he received a call while he was in his Los Angeles home, and accepted the role without reading the script due to his confidence in Villeneuve. Stephen McKinley Henderson joined in March, with Chang Chen entering negotiations. Maisler chose Henderson after admiring his work in New York theaters, and curated a list of the \"most talented\" Chinese actors for the role of Dr. Yueh. Despite initial difficulties contacting Chen, they eventually contacted his manager in China. Afterwards, Chen accepted his role as Dr. Yueh. The decision to cast Benjamin Clementine as the Herald of the Change occurred after Maisler enjoyed his performance in the Tiny Desk Concerts.\\nDuncan-Brewster auditioned for the role in London through Jina Jay, a casting director working with Maisler at the time, saying that she \"exudes an intelligence and a power and an inner strength\". When Maisler presented a shortlist for potential cast members, Villeneuve selected Duncan-Brewster. Her casting was confirmed in April 2020. The idea to change Kynes\\' gender was suggested by Jon Spaihts, which Villeneuve promptly accepted. According to Duncan-Brewster, Villeneuve opted for the change as he felt it was not necessary to adhere to all of the elements in the book in order to remain faithful to the character\\'s nature.\\n\\n\\n=== Design ===\\n\\n\\n==== Set and props ====\\nThe set design was done by production designer Patrice Vermette. Vermette based the set design for Dune by the need \"to ground the story into realistic settings to help the audience believe in the extraordinary elements\". He sought to make the sets as realistic and immersive as possible, using minimal set extensions and no greenscreens. Prior to the creation of any sets or visual effects, Villeneuve and a group of specific people, worked together to define the visual language for the film.\\nVermette created a \"visual bible\" to guide the development of set design and keep it consistent with the film\\'s visual effects design, intending to help \"extrapolate the world\". He also re-read the novel, as he felt that \"the book gives a lot of clues or cues that will help you navigate it to design things, but it\\'s quite nonspecific\", adding that he wanted to support Villeneuve\\'s original vision of the novel when he read it as a young teenager, and base the design around Herbert\\'s original novel. The team\\'s early mood boards for the visual language of the film consisted of Mesopotamian ziggurat architecture, Egyptian references, World War II bunkers, Brazilian and Soviet brutalist architecture, minimalist megastructures and dams designed by Superstudio, and imagery of glaciers taking over mountains.\\nThe design for the ornithopters was conceived by Villeneuve and storyboard artist Sam Hudecki. Villeneuve wanted the ornithopter be \"muscular\"; he wanted it to resemble a dragonfly and helicopter, but also appear realistic and adhere to basic laws of science. This fit in with his overall perception of the Dune world being retro-futuristic and analog. He also wanted the cockpits to be designed so that the actors could see the landscape. Two functional ornithopter models, 48- and 75-feet long, were created for filming by London propmakers, with operable doors and interior cockpit areas. They weighed over 11 tons and required an Antonov cargo plane to transport them to filming locations in Hungary and Jordan. One ornithopter used in filming had customizable pieces allowing for more space. Cranes were used to make the models fly.\\nMany practical sets were created on the soundstages and backlots of the Origo Film Studios in Budapest, Hungary, serving as interiors for the three planets. When designing Caladan, Vermette sought to give the planet \"a feeling of melancholia\". He wanted Caladan to resemble autumn in Canada, his home country, as he thought that it represented \"the end of a cycle... or the beginning of a new one\". He identified \"dramatic coastal mountain ranges\" and forests containing Norwegian pines as defining features of the planet. Meanwhile, the interior sets of Caladan were inspired by medieval Japanese aesthetics, particularly that of Paul\\'s training room, containing intricate screens and diffused lighting. Props were created by set decorator Richard Roberts, including custom-made furniture, lighting, textiles produced in Denmark, and other items designed to look antique.\\nThe original design for the sandworm was deemed \"prehistoric\", inspired by whales with baleen in their mouths. The sandworm\\'s skin texture was based on tree bark and mud flats. Vermette spoke of the challenges involved in creating the set designs used for the sandworms, stating \"It was a creature that commanded respect, and it\\'s almost seen as a deity in the world of the Fremen. So that\\'s why the first time you see the depiction of the sand worm on the mural, it\\'s presented with sun coming out of its mouth\".\\nThe design for Arrakeen was influenced by the book\\'s description of Arrakis\\'s climate, with Vermette calling it \"the biggest residency ever built by humankind\" and \"a response as a colonial entity that took over the planet for the exploitation of ... spice\". He designed the city in a \"rock bowl\" shape to protect its infrastructure from sandworms, and built buildings at an angle to protect them from high wind speeds. The walls were thickened to make the interiors cooler. The team was inspired by WWII bunkers, bunkers, Mayan temples, and Brazilian modernism. The history and culture of the Fremen was depicted in various murals throughout the residence, with Vermette comparing it to that of a church after envisioning Fremen artists doing so in order to depict the colonization of Arrakis. One practical set was the environmental lab in which Sardaukar soldiers descend from the air. The circular dome was 20 feet high, with the spokes being created by a special kind of cloth fabric, giving the illusion of shadows and providing proper lighting for the act. Agriculturally controlled sand was placed on the ground as filming took place during Budapest\\'s raining season.\\n\\n\\n==== Costumes ====\\nOver 1000 looks for Arrakis, Caladan, and Giedi Prime were designed by the team for the film. The costume design was done by Jacqueline West and Bob Morgan. Villeneuve wanted the costumes to be \"grounded\" in history while avoiding conventional futuristic views in science fiction films. West performed \"psychological studies\" of characters and historical research to associate their houses with historical \"symbolic analogs\", facilitating her costume design process. She took primary inspiration from the Middle Ages, particularly envisioning what it would look like in the future. She associated the Fremen with the French Resistance and the Sardaukar with the Nazis when designing the costumes. Additionally, she took inspiration from Giotto, Francisco Goya, Caravaggio, and British art historian John Berger, while emulating styles from the fashion of Balenciaga, the Bedouin, and Tuareg people.\\nWest associated the Spacing Guild with the Avignon Papacy, connected their persecution of the Templars to that of House Atreides; she noted that the Emperor and his allies betrayed House Atreides. Reference pictures consisted of medieval popes and modernized it when designing their costumes. The Bene Gesserit sorceresses\\' costumes were based on tarot cards and chess pieces, while the Harkonnen armor was designed to resemble a bug\\'s shell, using medieval drawings of \"insects, spiders, ants, praying mantises and lizards\" as reference. Meanwhile, the Atreides\\' costumes were based on the Romanovs, describing their costumes as having a \"simplicity ... that was regal\". Lady Jessica\\'s dresses in the first half of the film were inspired by the works of Cristóbal Balenciaga, while the turmeric-toned gown she wears while landing on Arrakis was influenced by Middle Eastern clothing and paintings of women in North Africa.\\nWest cited the films Lawrence of Arabia (1962), Doctor Zhivago (1965), and Fahrenheit 451 (1966) as further inspirations for costume diversity. She also researched Roman and Greek mythology, feeling that the Atreides-Harkonnen feud was similar to a \"real Greek and Roman tragedy\". She dyed the gauze for Fremen cloth in desert colors, inspired by the sand and rocks in Jordanian filming locations. A prototype for the stillsuit was designed by West and Jose Fernandez at Ironhead Studios in Los Angeles. The prototype was then taken to Origo Studios, where a factory was set up to design additional suits within two weeks. He hired European artisans to create concept designs and over 150 individual pieces for the suits. Over 250 stillsuits were used when filming in Jordan. The suits were designed to be flexible and comfortably fit the actor\\'s body, while also remaining accurate to the book. They created \"micro-sandwiches\" of acrylic fibers and porous cottons, which absorbed the moisture and allowed the actors to remain cool inside the suits. Tubing also ran through the micro-sandwiches for increased flexibility. Zippers and buttons were not used as they were deemed \"archaic\".\\n\\n\\n=== Filming ===\\nPrincipal photography began on March 18, 2019, at Origo Film Studios in Budapest, Hungary, with Greig Fraser serving as cinematographer. The film was shot for the IMAX format with an IMAX-certified Arri Alexa LF camera and an IMAX-certified Alexa Mini LF prototype, equipped with Panavision\\'s large-format lenses in the Ultra Vista and H-series lineup. Select scenes had aspect ratios opened up to 1.90:1 on all IMAX screens, and to 1.43:1 on select IMAX screens outfitted with IMAX\\'s dual-laser projection system. The finished footage was transferred to 35mm film stock, then scanned back to 4K, in order to achieve a more film-like look. Filming occurred in Wadi Rum, Jordan, which doubled for Arrakis. The Liwa Oasis in the United Arab Emirates also served as a key backdrop for Arrakis, with filming there occurring across 11 days. Local businesses, freelancers from Twofour54, and crews consisting of over 100 people offered assistance during the shoot. Scenes featuring the rock formations functioning as the Fremens\\' heat shelters were filmed at the Rub\\' al Khali desert. Stadlandet, Norway doubled for the planet Caladan. Filming wrapped on July 26, 2019. Additional filming took place in Budapest by August 2020, which did not alter the film\\'s then-December 2020 release date.\\nParts of the Arrakeen invasion, such as shots of Gurney, extras, and practical explosions up to approximately five kilometers high, were filmed on backlots in Budapest. Duke Leto\\'s death scene was the final scene filmed by Isaac, in which he decided to film it nude as he felt it was similar to Christ\\'s crucifixion. He also came up with the idea of including the bull\\'s head, identifying it as an \"omen\". Ornithopter interiors were filmed on hilltops outside Budapest, with a 25-foot high and 360° sand-colored ramp circling a large gimbal, allowing Fraser to film with natural sunlight. Supervising stunt coordinator and second unit director Tom Struthers developed unique combat styles for major factions. When working on the action sequence between Idaho and the Sardaukars, he based Idaho\\'s combat style from Greek and Roman warfare techniques, and the Sardaukar\\'s from Russian soldiers in WWII wanting to \"mow down the enemy\".  Chalamet learned the sandwalking technique, designed by choreographer Benjamin Millepied, prior to filming Arrakis scenes in order to convey Paul\\'s natural adeptness at it and \"responsibility to show Jessica in that moment\". Footage of helicopters flying over the UAE were filmed with six high-resolution cameras, being utilized as reference footage for ornithopters.\\n\\n\\n=== Post-production ===\\n\\nDNEG contributed to over 28 scenes in the film, creating 1,200 VFX shots out of the 1,700 total, with vendors including Wylie Co. and Rodeo FX. Many shots used various chroma key processes. Visual effects supervisor Paul Lambert used \"sandscreens\" for filming scenes in Arrakis and Arrakeen; instead of using green-based backgrounds, the visual effects team used sand-colored ones that matched the establishing desert shots intended for backgrounds. The sandscreens were used in capturing scenes of the ornithopter, with the VFX team using the helicopter footage and replacing them with the ornithopter models, facilitating capture of sand displacement. This was also filmed by encapsulating ornithopter models in black boxes with fans blowing dust. The wings were inserted using computer-generated imagery (CGI). Similar processes were used to film scenes in other settings, as it facilitated compositing the foreground and background imagery: Caladan scenes used \"grayscreens\" and those with a \"slight blue tint\" for interior and exterior scenes, respectively, Salusa Secundus scenes used bluescreens. Approximately 18 tons of sand and dust were used on set, with the effect of blowing sand being created by using a V8 engine with a fan on the back of a tractor.\\nThe sandworms were created through CGI. The VFX team found a lot of difficulty in deciding how the sandworm would move. The team spent over a year in figuring out the movements of the sandworm, and researched the body movements of various animals, such as worms and snakes. The sand ripples created by the worms were inspired by implicit visual cues of the shark from Jaws (1975). The special-effects supervisor Gerd Nefzer designed a vibrating 8x8 foot steel plate and placed it under the sand. This resulted in the formation of various patterns, used to signify an approaching sandworm. The vibrating areas were also later enhanced to cover a larger area. The team initially considered using rigged explosives to capture the motion of the sandworms breaking the surface in the desert, but rejected the idea as this was impractical to perform in the Middle East. Instead, they used the Houdini software to have sand emulate the motion of water. Villeneuve did not want the associated sound design to appear as a studio production. Sound designers Mark Mangini and Theo Green used a \"fake documentary realism\" approach to capture natural sounds and manipulate them for use in the film, such as recording the sounds of shifting sands in Death Valley using hydrophones.\\nThe Montreal and Vancouver facilities of DNEG were used for the Arrakeen invasion sequence. It involved combining practical and digital effects. The Montreal VFX supervisor Brian Connor created a digital Arrakeen space port, while the Vancouver team simulated explosions. Practical explosions filmed in Budapest backlots were later enhanced by the VFX team: the special effects team had rigs of practical light shining through the fog from explosions, allowing them to blend practical and digital shots easier. Lambert created the Holtzman shields\\' visual effects by combining past and future frames after experimenting with various visual filters on an action sequence from Seven Samurai (1954), resulting in a \"shimmering\" look Villeneuve approved. They also added colors; they used blue for bouncing objects and red for penetrations. The scene of Paul\\'s future vision was filmed using motion-capture (mo-cap), and the team replicated mo-cap to add many fighters. Animation supervisor Robyn Luckham helped with the scene as the team did not know much about mo-cap. They also added explosions in the foreground, sandworms in the background, sand displacement throughout, and used more simulations to render the scene in real-time. \\nThe team created a detailed practical stuffy model for the desert mouse, Muad\\'Dib, and filmed it in Jordan for appropriate desert lighting. The animation team used footage of idling animals as reference, and animated the mouse so it \"expends effort when absolutely necessary\". The creosote bush hologram was created by projecting different \"slices\" of light on Chalamet\\'s face during plate photography based on his filming location using a projector. Wylie then completed the scene by adding the hologram around him. For the hunter-seeker, a stick on set was used as reference, being later replaced with proper models via CGI. Practical rigs were attached to Skarsgård\\'s body to create the effect of the Baron\\'s levitation. The levitation was occasionally done practically with a seesaw rig. However, the suspensor device attached to his back was inserted using CGI.\\n\\n\\n== Music ==\\n\\nHans Zimmer affirmed he would be scoring Dune near the start of the film\\'s production in March 2019. Zimmer previously worked with Villeneuve on Blade Runner 2049 (2017). At the time, Zimmer rejected director Christopher Nolan\\'s request to compose the score for his then-upcoming film Tenet (2020), citing his personal love for the book. Zimmer did not want the soundtrack to sound like his previous works and used instruments atypical of a Western orchestra. He avoided watching Lynch\\'s Dune so as not to be influenced by Toto\\'s music, instead spending a week in a Utah desert to incorporate its sounds into the score. The music was performed using an eclectic set of instruments, including some created specifically for the soundtrack. Performers for the score include guitarist Guthrie Govan and vocalist Loire Cotler. Additional music was composed by Steve Mazzaro and David Fleming, both of whom worked in collaboration with Zimmer to keep his pieces on theme. The soundtrack pieces include bagpipes for the House Atreides theme, which was suggested as Villeneuve\\'s idea of something \"ancient and organic\". Zimmer found 30 bagpipe players around Edinburgh during the COVID-19 pandemic and recorded them playing in a church.\\nFor the first Dune trailer, Zimmer supervised a 32-person choir via FaceTime (necessitated by pandemic restrictions) for the recording of a cover of Pink Floyd\\'s song \"Eclipse\". Choir members gathered in groups of four over eight separate sessions in Santa Monica at Zimmer\\'s Remote Control studio while Zimmer conducted from home.\\nThree soundtrack albums were released for the film by WaterTower Music, including The Dune Sketchbook (Music from the Soundtrack), Dune (Original Motion Picture Soundtrack), and The Art and Soul of Dune on September 3, September 17, and October 22, 2021, respectively. Villeneuve said Zimmer spent \"months and months creating new instruments, defining, creating, and seeking new sounds, pushing the envelope\" and praised his work on the film. Two singles were released on July 22, titled \"Paul\\'s Dream\" and \"Ripples in the Sand\". The film\\'s score was nominated for the Best Score Soundtrack for Visual Media at the 2022 Grammy Awards.\\n\\n\\n== Marketing ==\\nIn April 2020, Vanity Fair published a two-part extensive first-look report on Dune. Empire provided additional first looks in October ahead of the film\\'s trailer release. A teaser trailer was released on September 9 featuring a remix of the Pink Floyd song \"Eclipse\" (1973) combined with Zimmer\\'s score. Zack Sharf of IndieWire gave the trailer a positive review, and wrote \"It\\'s full of eye-popping set design\", in addition to stating, \"The two [Denis Villeneuve and Greig Fraser] have brought a tangibility to Frank Herbert\\'s world that should make Dune a visceral experience for moviegoers.\" Miles Surrey from The Ringer also gave the trailer a positive review, and felt the trailer \"undoubtedly looks promising,\" and noted that, though the source material has been \"notoriously unadaptable,\" he felt \"the curse could be broken,\" due to the cast and Villeneuve\\'s direction. Similarly, Deadline Hollywood\\'s Dino-Ray Ramos also praised the trailer for its scale, writing that it contained \"sci-fi prestige and the epic scale that includes mind-boggling action, elegant cinematography and fantastical nuances that still leave room for grounded and very human storytelling\".\\nThe first ten minutes of the film were screened in select IMAX theaters worldwide on July 21 and 22, 2021, in an event that also included a behind-the-scenes look at the film and the debut of the film\\'s theatrical trailer, on July 22. Angela Wattercutter of Wired stated that the trailer \"is begging you to see it in theaters\". Jennifer Yuma from Variety praised the cast and visuals, and praised its scope, calling the trailer \"epic\". Similarly, Aaron Couch from The Hollywood Reporter also praised the cast and thought the film was an \"ambitious sci-fi adaptation\". Anthony Breznican from Vanity Fair also gave the trailer a positive review and stated, \"It will seem more mysterious to those unfamiliar with the story, but like Chani does herself in those dream missives to Paul, it hints at big, impressive things to come\". Vulture\\'s Zoe Haylock was also impressed by the trailer, and advocated watching the film in theaters, praising the visuals as \"transcendental natural settings\". Writing for Entertainment Weekly, Christian Holub felt the trailer \"sets the stage cleanly\".\\nOn February 26, 2019, Funcom entered into an exclusive partnership with Legendary Entertainment to develop games related to the upcoming Dune films. \\nAn artbook, The Art and Soul of Dune, was released alongside the film on October 22, 2021. The book was written by the executive producer Tanya Lapointe, and it included a soundtrack album of the same name composed by Zimmer. The book was available in both a standard and deluxe edition. In September 2020, McFarlane Toys started a line of 7-inch figures modeled after characters from the film. A 12-inch figure of Baron Harkonnen was introduced at the same time. The action figures were released in December 2020.Legendary Comics announced Dune: The Official Movie Graphic Novel via Kickstarter and published the comic in December 2022 by writer Lilah Sturges and art by Drew Johnson.\\n\\n\\n== Release ==\\n\\n\\n=== Theatrical and streaming ===\\nDune was originally scheduled to be released on November 20, 2020, but was pushed back to December 18, 2020. The film was then delayed by the COVID-19 pandemic, this time to October 1, 2021, taking over the release date slot of The Batman, where it was theatrically released in 3D. In late June 2021, Warner Bros. delayed the film\\'s American release date again by three weeks to October 22, 2021, to avoid competition with No Time to Die. Over a month prior to its North American release, the film began its theatrical roll-out in most international markets, beginning on September 15 with France, Germany, Russia, Switzerland, Sweden, Norway, Spain and Belgium.  A week ahead of the United States release, Warner Bros. announced that the film\\'s availability on HBO Max would start on the evening of October 21, 2021, correlating with typical early Thursday theatrical showings for films released on Fridays (although the studio had not been doing early Thursday previews for most of the rest of their hybrid theatrical/HBO Max releases. The other exception being The Suicide Squad, which had the same strategy for its early Thursday previews/HBO Max release).\\nLike all 2021 Warner Bros. films, Dune was streamed simultaneously on HBO Max for a period of one month. The film was then removed from the service and followed the normal home media release schedule, similar to the process Warner Bros. used for Wonder Woman 1984 (2020). Many production companies and directors expressed dissatisfaction with the decision, including Villeneuve and Legendary Pictures. In a column published in Variety, Villeneuve expressed concerns about the film\\'s financial success and piracy.\\nDune had its world premiere at the 78th Venice International Film Festival on September 3, 2021. It also screened at the Toronto International Film Festival with an IMAX premiere screening at the Ontario Place Cinesphere on September 11, 2021. Jason Momoa tested positive for COVID-19 after attending the film\\'s London premiere on October 15, 2021. On October 17, the film was leaked online ahead of its planned US and HBO Max release. The film returned for a theatrical run at IMAX theaters from December 3, 2021. From January 24, 2024, screenings included an exclusive preview of Dune: Part Two ahead of its March 2024 release.\\n\\n\\n=== Home media ===\\nThe film was released digitally on December 3, 2021, while Blu-ray, DVD and Ultra HD Blu-ray versions of the film were released on January 11, 2022, by Warner Bros. Home Entertainment. After its release on home media, Dune ranked first on the \"NPD VideoScan First Alert\" chart for combined Blu-ray and DVD sales as well as the dedicated Blu-ray sales chart. According to The Numbers, it sold a combined 215,375 Blu-ray and DVD units in the first week for $3.6 million. It retained the top position on both the charts of the NPD Group for the following two weeks before being displaced by Ghostbusters: Afterlife. In addition, it was the most rented title from Redbox kiosks for three weeks as well. It was the highest-selling movie for the month of January according to the \"NPD VideoScan First Alert\" chart.\\n\\n\\n== Reception ==\\n\\n\\n=== Box office ===\\nDune grossed $108.9 million in the United States and Canada, and $297.1 million in other countries, for a worldwide total of $406 million during its initial release. Deadline Hollywood reported that a total box office gross of $300 million, the combined cost of production and marketing, \"will make many happy from an image-standpoint, even if breakeven is far north of that\".\\nIn the US and Canada, the film made $41 million in its opening weekend from 4,125 theaters, surpassing its projected opening weekend estimates of $30–35 million and besting the debut of Godzilla vs. Kong ($31.6 million) for the highest opening weekend for Warner Bros. during the pandemic era. Of that opening weekend take, $17.5 million came from its first day ticket sales, including $5.1 million from Thursday night previews. Dune also had the best opening of Villeneuve\\'s career. The film fell 62% in its second weekend to $15.5 million, though it remained atop the domestic box office. In its third weekend it dropped by 51% to earn $7.6 million, and was displaced by Eternals from the top rank. On November 25, 2021, Dune became the second Warner Bros. film of the pandemic era to cross $100 million in the US and Canada, following Godzilla vs. Kong.\\nThe film was released in 14 markets outside the US and Canada on September 15, 2021. It grossed $37.9 million, with the largest markets being Russia and CIS ($8.9 million), France ($7.2 million), Germany ($4.4 million), Taiwan ($3.4 million), Italy ($2.5 million) and Spain ($2.4 million). After adding an additional $26.3 million from 32 countries in its second weekend, the film had a 10-day running total of $76.5 million.\\nIn China, Dune opened to a $21.6 million weekend according to estimates by Warner Brothers, ranking second on the country\\'s box office behind The Battle at Lake Changjin. In its fourth week of release outside the US and Canada, the film made $21.4 million in 75 countries, a drop of 54% from the previous weekend. It also fell by 78% to about $5 million in China, dropping to the third rank. The film crossed the $300 million global mark on November 2. During the fifth weekend it earned $11.1 million, a drop of 52%. This included $2.1 million in China where it dropped to the fifth rank.\\nAfter its return to IMAX for a week on December 2, the film earned an estimated $1.8 million during the weekend, a drop of 13% from the previous weekend, primarily due to earning around $1 million from IMAX. In Australia it debuted atop the box office chart, earning $3.4 million in the opening weekend. The $400 million global mark was crossed on February 14, 2022, with the largest running-total countries outside the US and Canada being China ($39.5 million), France ($32.6 million), the UK ($30 million), Germany ($22.5 million) and Russia ($21.3 million).\\n\\n\\n=== Streaming viewership ===\\nAccording to Samba TV, the film was watched in over 1.9 million US households during its first three days of release, which grew to 2.3 million within its first week of release. 3.9 million US households watched the film within its first 30 days of release. According to TV Time, it was the most-watched film overall in the United States from the first to the third week of its release consecutively, before dropping to the sixth rank in its fourth week. The film rose to the third rank on TV Time\\'s chart in the final week of its availability. It was the ninth-most-streamed-film of 2021 according to the service. By March 20, the film was streamed in 5.3 million households in the US, including 996,000 since the Oscar nomination announcements on February 8.\\nAfter its release on PVOD services, Dune debuted at the second position on iTunes and Vudu charts and was ranked seventh on Google Play. The following week it fell to the seventh position on iTunes and the third position on Vudu, while maintaining its ranking on Google Play. After falling out of the charts for two weeks, it found renewed interest as it rose to the tenth position on iTunes, seventh position on Google Play, and the fifth position on Vudu. In the following week, it fell out of the iTunes and Google Play charts again, while dropping to the tenth position on the Vudu chart.\\nThe film was the highest-selling title on Redbox\\'s digital service for the week of January 24–30, 2022. It was also the top-ranked film on iTunes during the same week. Following the Academy Awards nominations, it reentered the top 10 charts for iTunes, Google Play and Vudu.\\n\\n\\n=== Critical response ===\\nOn the review aggregator website Rotten Tomatoes, 83% of 514 critics\\' reviews are positive, with an average rating of 7.6/10. The website\\'s consensus reads: \"Dune occasionally struggles with its unwieldy source material, but those issues are largely overshadowed by the scope and ambition of this visually thrilling adaptation.\" Metacritic gave the film a weighted average score of 74 out of 100, based on 68 critics, indicating \"generally favorable reviews\". Audiences polled by CinemaScore gave the film an average grade of \"A−\" on an A+ to F scale, while those at PostTrak gave it an 84% positive score (with an average rating of 4.5 out of 5 stars) and 66% saying they would definitely recommend it. Following its premiere at the Venice Film Festival in September 2021, early reception was generally positive, receiving praise for its ambition, story, scope, worldbuilding, performances (particularly those of Chalamet and Ferguson) and production values, although some critics considered the story to be incomplete and dull. Its writing and scope continued to be praised following its release, while others criticized the runtime, pacing, and adaptation of the source material.\\nBen Travis of Empire, Robbie Collin from The Daily Telegraph, and Xan Brooks at The Guardian rated the film five out of five stars. Travis praised the writing and direction, feeling it helped properly establish elements of worldbuilding. He also lauded Fraser\\'s cinematography and Zimmer\\'s score, calling the film \"blockbuster filmmaking in the Christopher Nolan mould\", and praising Chalamet and Ferguson\\'s performances. However, he felt that the \"emotional strings\" did not work as well. Brooks agreed with the sentiment that it was a high-quality blockbuster film and found it \"the missing link bridging the multiplex and the arthouse\", citing the worldbuilding, ensemble cast, and set pieces as positive elements. Collins also praised the writing and Chalamet and Ferguson\\'s performances, feeling the exposition was written well. However, he highlighted the production design and the sandworms, calling the latter \"threateningly alien, but also enticing, even addictive\" and commenting \"the sets ring with the desolate grandeur of ancient ruins\".\\nIn a positive yet more critical review, Justin Chang of the Los Angeles Times felt the film used thematic elements from the novel well, and also lauded the production values albeit labelling the visual aesthetic as monochromatic. Chang further went on to praise the plot for increasing the role of women in the story and tension regarding anticipation of action sequences, which he thought were directed well. However, he disliked the \"abrupt, unsatisfying\" ending and wanted Villeneuve\\'s style to align with David Lynch\\'s style, which he considered to contain \"feverish, pustular imagery\".  Leah Greenblatt of Entertainment Weekly, who graded the film a B, wrote that Dune had little exposition and also appreciated the worldbuilding and visual aesthetic. However, she did not appreciate the jokes and felt the script gradually adjusted \"and soon settles into a kind of grim grandeur\", highlighting Chalamet and Isaac\\'s performances. The New York Times\\'s Manohla Dargis also admired the production values and worldbuilding, adding the exposition and pacing was appropriate to establish the latter. However, while she felt Villeneuve had attempted to be faithful to the source material, she also opined that Villeneuve was trying to satisfy the demands of the contemporary film industry. Her major issues were also with the ending and what she deemed to be a \"white man leading a fateful charge\", though she refrained from labelling it a white savior narrative.\\nCritic Owen Gleiberman\\'s review in Variety was more negative: he appreciated the film\\'s extensive focus on worldbuilding, but felt it had also undermined the storytelling. He found the title of \"Dune Part I [sic]\" to be \"presumptuous\", regarding it to be analogous to how other film franchises advertise future installments. Gleiberman felt the film\\'s spectacles, including the sandworm and ornithopter sequences, disengage him from the story, saying \"as the movie begins to run out of tricks, it turns woozy and amorphous\". Reviewing the film for TheWrap, Steve Pond noted the film\\'s darker tone had remained consistent, and cited the production design and scope as positive elements. Pond enjoyed the action sequences on Arrakis and appreciated that Villeneuve \"finds some dark poetry in the way he plays up the story\\'s mystical elements\". However, he was mixed on the film\\'s dark tone, regarding it as a tonal deviation from his previous films but also allowing it to be \"giant mood piece that can be exhilarating in its dark beauty\". Roxana Hadadi\\'s review in Vulture critiqued the way the film flattened the cultural and religious complexities of the book and opted for a more generic portrayal of people of color without specific representation from Middle Eastern or North African (MENA) actors.\\nOther commentators and academics also perceived the film to have neglected and appropriated Arabian and Islamic elements which influenced Dune, and to have excluded MENA actors. Serena Rasoul, founder of Muslim Casting, wanted more MENA representation and labelled the lack of MENA actors an \"erasure\". However, she also acknowledged the cast\\'s overall diversity and did not call the film Orientalist. On the other hand, Ph.D. student in History at Princeton University Haris Durrari deemed it to be Orientalist as he opined it reduced Arab influences to \"exotic aesthetics\" and \"broad abstractions\". Meanwhile, Ali Karjoo-Ravary, an Assistant Professor of Islamic Studies at Bucknell University, felt that the casting of African actors excluded MENA actors, and that characters portrayed by African people felt \"ultimately empty\" as they had died or were not as developed as Paul and Lady Jessica.\\n\\n\\n=== Accolades ===\\n\\nDune was nominated for ten Academy Awards (winning six), three Golden Globe Awards (winning one), eleven British Academy Film Awards (winning five), ten Critics\\' Choice Movie Awards (winning three), two AACTA International Awards (winning one), ten Satellite Awards (winning five), one Grammy Award, one Hollywood Music in Media Awards (won), four People\\'s Choice Awards, one Screen Actors Guild Awards, three Dorian Awards (winning one), and one Nickelodeon Kids\\' Choice Award (won), among others. It was also ranked as one of the top ten films of 2021 by the American Film Institute.\\n\\n\\n== Analysis ==\\nKara Kennedy concluded that some parts are very faithful to the source material while others are heavily adjusted, such as the opening of the story and the portrayal of the Harkonnen. Frank Jacob found that the film has a stronger Orientalization of the Fremen than Lynch\\'s film adaptation, shown through elements such as Chani appearing like the Afghan Girl on the cover of National Geographic in 1985. Edwardo Pérez explored the depiction of the Fremen, masculinity and femininity, and issues of cultural appropriation in the film. He perceived Paul\\'s \"feminine\" Bene Gesserit skills and \"masculine\" military training as contributing to his initial \"androgynous\" and timid nature, later becoming masculine after killing Jamis. According to him, this alongside Duke Leto\\'s sympathy during Paul\\'s concerns about being leader showed that one must acknowledge their masculine and feminine nature for success by pursuing leadership passively.\\nYosr Dridi found screenplay changes made to adjust the source material for a \"culturally-aware and race-conscious 21st century audience\" as eliminating the Arab and Oriental elements for the story, and focusing more on Fremen culture and society rather than the elements of geopolitical worldbuilding from the book, noting how Princess Irulan\\'s original historical epigraphs in the book being replaced with Chani\\'s narration. However, Dridi stated that the film framed Fremen society through Paul\\'s perspective, which constrained the Oriental in \"dominating frameworks\" and disliking the usage of few Arabic words from the Fremen lexicon in the film. Misha Grifka Wander has shown how the film downplays ecology and elements from MENA cultures in favor of the chosen one storytelling trope. Doru Pop discussed the controversies and changes made in the adaptation of Dune to film and Isaac Asimov\\'s Foundation to a television series, particularly the gender and racial changes to key characters. Ion Indolean looked at how Villeneuve cinematographically expresses the story of Paul using elements of the space opera genre and follows in the steps of director Ridley Scott in Blade Runner (1982) and Alien (1979).\\n\\n\\n== Sequels and spin-offs ==\\nVilleneuve intended to make a two-part adaptation of the novel, and by November 2019, Jon Spaihts left his position as showrunner on Dune: Prophecy to focus on writing the sequel film. Villeneuve felt that Warner Bros.\\' decision in December 2020 to simultaneously release their 2021 films through HBO Max alongside a theatrical release due to the impact of the COVID-19 pandemic on cinema could compromise the film\\'s financial performance, resulting in the cancellation of the sequel, though Warner Bros. assured him a sequel would be greenlit as long as the film performed well on HBO Max.\\nFollowing the film\\'s success, Warner Bros. and Legendary Pictures officially greenlit Dune: Part Two in October 2021. Villeneuve\\'s main concern was to finish the production, which would benefit from all the work on the first part. Main characters reprise their role from the first film, with additional casting lasting from March to July 2022, and concluding by January 2023. Preliminary filming began in Italy by early July 2022, and concluded that December. The film was released on March 1, 2024. Dune: Part Two\\'s world premiere took place at Odeon Luxe Leicester Square in London on February 15.\\nVilleneuve expressed interest in making a third film based on Dune Messiah, the second novel in the series, adding that the possibility for the film depended on the success of Dune: Part Two. Spaihts also reiterated in March 2022 that Villeneuve had plans for a third film as well as the television spin-off series Dune: Prophecy. In August 2023, Villeneuve declared his intentions for the film to serve as the conclusion of his Dune trilogy. Villeneuve began developing a script by 2023. In February 2024, Villeneuve said the script was \"almost finished\" but also wanted to take time to ensure his satisfaction, citing Hollywood\\'s tendency of focusing on release dates over quality. Ahead of Dune: Part Two\\'s release, Hans Zimmer revealed he was already writing music for a third film.\\nIn June 2019, Legendary Television announced it is producing a spin-off series, Dune: The Sisterhood, for WarnerMedia\\'s streaming service, HBO Max. The series serves as a prequel to the film and centers on the Bene Gesserit. Initially, Villeneuve was going to direct the series\\' pilot, with Spaihts writing the screenplay and Dana Calvo as showrunner for the series. In November 2019, Spaihts left the series as writer to focus on the sequel film. Spaihts and Villeneuve remain as executive producers along with Brian Herbert, Byron Merritt, and Kim Herbert. In July 2021, Diane Ademu-John took over as showrunner. Spaihts and Villeneuve confirmed in March 2022 that the show is still in development. In April 2022, it was announced that Johan Renck will direct the first two episodes. Travis Fimmel joined the cast in November 2022. In February 2023, it was announced that production was put on hiatus as Renck exited the project. The series was retitled Dune: Prophecy in November 2023.\\n\\n\\n== See also ==\\nList of films split into multiple parts\\n\\n\\n== References ==\\n\\n\\n== Further reading ==\\nBritt, Ryan. (2023). The Spice Must Flow: The Story of Dune, from Cult Novels to Visionary Sci-Fi Movies. Penguin Random House LLC. ISBN 978-0593472996.\\nKennedy, Kara (2024), Adaptations of Dune: Frank Herbert\\'s Story on Screen. Blue Key. ISBN 978-1-953609-99-1.\\nJacob, Frank. (2022). The Orientalist Semiotics of Dune: Religious and Historical References within Frank Herbert\\'s Universe. Büchner. ISBN 978-3-96317-302-8.\\n\\n\\n== External links ==\\n\\nOfficial website\\nDune at IMDb \\nOfficial screenplay', mimetype='text/plain', start_char_idx=None, end_char_idx=None, text_template='{metadata_str}\\n\\n{content}', metadata_template='{key}: {value}', metadata_seperator='\\n'),\n",
       " Document(id_='63790171', embedding=None, metadata={}, excluded_embed_metadata_keys=[], excluded_llm_metadata_keys=[], relationships={}, text='Dune: Part Two is a 2024 American epic science fiction film directed and produced by Denis Villeneuve, who co-wrote the screenplay with Jon Spaihts. The sequel to Dune (2021), it is the second of a two-part adaptation of the 1965 novel Dune by Frank Herbert. It follows Paul Atreides as he unites with the Fremen people of the desert planet Arrakis to wage war against House Harkonnen. Timothée Chalamet, Rebecca Ferguson, Josh Brolin, Stellan Skarsgård, Dave Bautista, Zendaya, Charlotte Rampling, and Javier Bardem reprise their roles from the first film, with Austin Butler, Florence Pugh, Christopher Walken and Léa Seydoux joining the ensemble cast.\\nDevelopment began after Legendary Entertainment acquired film and television rights for the Dune franchise in 2016. Villeneuve signed on as director in 2017, intending to make a two-part adaptation of the novel due to its complexity. Production contracts were only secured for the first film, with the second film having to be greenlit based on the first\\'s success. After the critical and commercial success of the first film, Legendary green-lit Dune: Part Two in October 2021. Principal photography took place in Budapest, Italy, Jordan, and Abu Dhabi between July and December 2022.\\nAfter being delayed from an original November 2023 release date due to the 2023 Hollywood labor disputes, the film premiered at the Odeon Luxe Leicester Square, London, on February 15, 2024, and was released in the United States on March 1, to positive reviews. It set several box office records and has grossed over $712 million worldwide, surpassing its predecessor and making it the second-highest-grossing film of 2024. A sequel based on Herbert\\'s 1969 novel Dune Messiah is in development.\\n\\n\\n== Plot ==\\nFollowing the destruction of House Atreides by House Harkonnen, Princess Irulan, the daughter of Padishah Emperor Shaddam IV, journals about her father\\'s betrayal of the Atreides. On Arrakis, Stilgar\\'s Fremen troops, including Paul Atreides and his pregnant Bene Gesserit mother, Lady Jessica, overcome a Harkonnen patrol. When Jessica and Paul reach Sietch Tabr, some Fremen suspect they are spies, while Stilgar and others see signs of the prophecy that a mother and son from the \"Outer World\" will bring prosperity to Arrakis.\\nStilgar tells Jessica that she must succeed Sietch Tabr\\'s dying Reverend Mother by drinking the Water of Life—a poison fatal for males and untrained women. Her Bene Gesserit training allows Jessica to transmute and survive the poison, inheriting the memories of all the past Reverend Mothers, but the liquid also prematurely awakens the mind of her unborn daughter, Alia, allowing Jessica to communicate with her. They agree to focus on convincing the more skeptical northern Fremen of the prophecy. Chani and her friend, Shishakli, correctly believe the prophecy was fabricated to manipulate the Fremen, but Chani begins to respect Paul after he declares that he only intends to fight alongside the Fremen, not to rule them.\\nPaul and Chani fall in love as Paul immerses himself in Fremen culture: learning their language, becoming a Fedaykin fighter, riding a sandworm, and raiding Harkonnen spice operations. Paul adopts the Fremen names \"Usul\" and \"Muad\\'Dib\". Due to the continuing spice raids, Baron Vladimir Harkonnen replaces his nephew, Rabban, as Arrakis\\'s ruler with his more cunning and psychopathic younger nephew, Feyd-Rautha. Lady Margot Fenring, a Bene Gesserit, is sent to evaluate Feyd-Rautha as a prospective Kwisatz Haderach and secure his genetic lineage.\\nJessica travels south to unite with Fremen fundamentalists who believe most strongly in the prophecy. Paul remains in the north, fearful that his visions of an apocalyptic holy war will come to pass if he goes south as a messiah. During a raid on a smuggler spice harvester, Paul reunites with Gurney Halleck, who leads Paul to the hidden atomic warhead stockpile of House Atreides. Feyd-Rautha unleashes a devastating attack on the northern Fremen, destroying Sietch Tabr, killing Shishakli, and forcing Paul and the survivors to journey south. Upon arrival, Paul drinks the Water of Life and falls into a coma. This angers Chani, but Jessica compels her to mix her tears with the liquid, which awakens Paul. Now possessing clairvoyance across space and time, Paul sees an adult Alia on water-filled Arrakis. He also sees a singular path to victory among all possible futures, and that Jessica is Baron Harkonnen\\'s daughter.\\nPaul meets with the southern Fremen war council, galvanizing the crowd by demonstrating his ability to discern their deepest thoughts. He declares himself the Lisan al Gaib and sends a challenge to Shaddam, who arrives on Arrakis with Irulan and the Sardaukar. As Shaddam chastises the Harkonnens for their failures, the Fremen launch an offensive, using atomics and sandworms to overpower the Sardaukar. Paul executes the Baron and captures Shaddam and his entourage. Meanwhile, Gurney leads an assault on Arrakeen, intercepting and killing Rabban.\\nPaul challenges Shaddam for the throne and, to Chani\\'s dismay, demands to marry Irulan. Previously summoned by the Baron, the Great Houses arrive in orbit, ready to invade the planet, but Paul threatens to destroy the spice fields with atomic weapons if they intervene. Feyd-Rautha volunteers to be Shaddam\\'s champion, and Paul kills him in a duel. Irulan agrees to Paul\\'s request for marriage on the condition that her father lives. Shaddam surrenders, but the Great Houses reject Paul\\'s ascendancy, so he orders the Fremen to attack the orbiting fleet. As Stilgar leads the Fremen onto the captured Sardaukar ships, Jessica and Alia reflect on the beginning of Paul\\'s holy war. Chani insolently refuses to bow to Paul and departs alone on a sandworm.\\n\\n\\n== Cast ==\\n\\nAnya Taylor-Joy makes an uncredited cameo appearance as Alia Atreides, Paul\\'s unborn sister who appears in his visions as well as communicating to Jessica while in her womb. Babs Olusanmokun and Roger Yuan reprise their roles from the first film as Jamis and Lieutenant Lanville, respectively. Stephen McKinley Henderson filmed scenes reprising his role as Thufir Hawat, while Tim Blake Nelson filmed scenes as an undisclosed character, but their scenes were not included in the final cut. Both were given a \"Special Thanks\" credit by Villeneuve.\\n\\n\\n== Production ==\\n\\n\\n=== Development ===\\n\\nIn November 2016, Legendary Pictures obtained the film and TV rights for the Dune franchise, based on the eponymous 1965 novel by Frank Herbert. Vice chair of worldwide production for Legendary Mary Parent began discussing with Denis Villeneuve about directing a film adaptation, quickly hiring him after realizing his passion for Dune. In February 2018, Villeneuve was confirmed to be hired as director, and intended to adapt the novel as a two-part film series. Villeneuve ultimately secured a two-film deal with Warner Bros. Pictures, in the same style as the two-part adaption of Stephen King\\'s It in 2017 and 2019. In January 2019, Joe Walker was confirmed as the film\\'s editor. Other crew included Brad Riker as supervising art director, Patrice Vermette as production designer, Paul Lambert as visual effects supervisor, Gerd Nefzer as special effects supervisor, and Thomas Struthers as stunt coordinator.\\nDune: Part Two was produced by Villeneuve, Mary Parent, and Cale Boyter, with Tanya Lapointe, Brian Herbert, Byron Merritt, Kim Herbert, Thomas Tull, Jon Spaihts, Richard P. Rubinstein, John Harrison, and Herbert W. Gain serving as executive producers and Kevin J. Anderson as creative consultant. Legendary CEO Joshua Grode confirmed in April 2019 that they plan to make a sequel, adding that \"there\\'s a logical place to stop the [first] movie before the book is over\".\\nIn December 2020, Villeneuve stated that due to Warner Bros.\\' plan to release the film in theaters and on HBO Max simultaneously, the first film could underperform financially, resulting in cancellation of the planned sequel. In an IMAX screening of the first film\\'s first ten minutes, the title logo read Dune: Part One, lending credence to plans for the sequel. In August 2021, Villeneuve spoke more confidently about the chances of a sequel film, iterating his excitement to work with Timothée Chalamet and Zendaya again, while stating Chani would have a bigger role in the sequel. Warner Bros. assured Villeneuve a sequel would be greenlit as long as the film performed well on HBO Max. Just days prior to the first film\\'s release, Warner Bros. CEO Ann Sarnoff stated, \"Will we have a sequel to Dune? If you watch the movie you see how it ends. I think you pretty much know the answer to that.\"\\nOn October 26, 2021, Legendary officially greenlit Dune: Part Two, with a spokesperson for the company stating, \"We would not have gotten to this point without the extraordinary vision of Denis and the amazing work of his talented crew, the writers, our stellar cast, our partners at Warner Bros., and of course the fans! Here\\'s to more Dune.\" Production work had occurred back-to-back with the first film, as Villeneuve and his wife Lapointe immediately took a flight to Budapest in order to begin pre-production work. A key point of negotiation prior to greenlighting the sequel was assuring that the sequel would have an exclusive window where it would only be shown theatrically, with Legendary and Warner Bros. agreeing to give Dune: Part Two a 45-day window before it would be available through other channels. Villeneuve said this theatrical exclusivity was a \"non-negotiable condition\", and that \"the theatrical experience is at the very heart of the cinematic language for me\". With Dune: Part Two being greenlit, Villeneuve said that his primary concern was to complete the filming as soon as possible, with the earliest he expected to start in the last quarter of 2022. He noted that production would be expedited by the work already done for the first film.\\n\\n\\n=== Writing ===\\n\\nEric Roth was hired to co-write the screenplay in April 2017 for the Dune films, and Jon Spaihts was later confirmed to be co-writing the script alongside Roth and Villeneuve. Game of Thrones language creator David Peterson was confirmed to be developing languages for the film in April 2019. Villeneuve and Peterson had created the Chakobsa language, which was used by actors on set. In November 2019, Spaihts stepped down as show-runner for Dune: Prophecy to focus on Dune: Part Two. In June 2020, Greig Fraser said, \"It\\'s a fully formed story in itself with places to go. It\\'s a fully standalone epic film that people will get a lot out of when they see it\".\\nBetween the release of Dune and the confirmation of Dune: Part Two, Villeneuve started working the script in a way that production could begin immediately once the film was greenlit. By February 2021, Roth created a full treatment for the sequel, with writing beginning that August. He confirmed that Feyd-Rautha would appear in the film, and stated he will be a \"very important character\". In March 2022, Villeneuve had mostly finished writing the screenplay. Craig Mazin and Roth wrote additional literary material for the film.\\nVilleneuve stated that the film would continue directly from the first, and specifically described it as being the \"second part\". He described the film as being an \"epic war movie\", adding that while the first film was more \"contemplative\", the second would feature more action. Villeneuve sought to anchor the movie to the characters, primarily Paul and Chani. With the two featured in an \"epic love story\" between them, Villeneuve described them as the \"epicenter of the story\". Zendaya initially found difficulty in creating dialogue, commenting that \"It was funny trying to figure out in this futuristic space talk, like, how do they flirt?\" Chalamet also added that Paul would be heavily influenced by Chani, serving as his \"moral compass\". Paul becomes deeply embedded in Fremen culture, developing a closer bond with Stilgar, who becomes his surrogate father figure and mentor, while tensions emerge between Chani and Lady Jessica, as Chani is aware that Jessica\\'s schemes negatively impact the Fremen.\\nThe script ultimately conveys Chani as a nonbeliever of the prophecy and intended for its structure to first convey their romantic relationship from Paul\\'s perspective, and eventually pivot to Chani\\'s perspective as the audience realizes Paul\\'s desire for power and insidious nature. He focused on Herbert\\'s original intention to depict Paul as an antihero in Dune, on his way to becoming a villain, and wrote the script with that in mind while also considering his future plans regarding Dune Messiah, particularly by modifying Chani\\'s characterization as he felt that she eventually \"disappeared in Paul\\'s shadows\" in the book. Feeling he had the \"benefit of time\" in doing so, Villeneuve decided to use all the elements of Paul\\'s character arc and \"play them a bit differently\" in order to establish his eventual transformation into a villainous figure and becoming \"what he was trying to fight against\". He expanded the role of Chani and Lady Jessica from the novel, and interpreted Chani as being a critique of power.\\nWhen envisioning the sandworm sequence, Villeneuve primarily relied upon his own drawings and storyboards, as he felt the book did not contain adequate descriptions. He later cited it as being one of his favorite scenes in the film. When writing Paul\\'s character arc, he considered Paul as transforming from a \"humble\" figure to a \"dark messianic figure\", and took inspiration from Katsuhiro Otomo\\'s Akira (1988) when designing the storyboards. Villeneuve felt the film\\'s ending was more \"tragic\" than that of the book, feeling that it adequately resolved Paul\\'s storyline across the Dune films while setting up his character arc for a potential third film based on Dune Messiah (1969).\\nFollowing the first film, Baron Vladimir Harkonnen is described as being heavily debilitated and reliant upon being submerged in fluids, while focusing on choosing an heir: Glossu \"Beast\" Rabban or Feyd-Rautha, both his nephews. Rabban was regarded as being a bad strategist, while Feyd-Rautha is shown to be clever, cunning, and charismatic. Actor Austin Butler felt Feyd-Rautha\\'s character served as \"flip sides of the same coin\" to Paul, as both had been involved in the Bene Gesserit\\'s genetic breeding program. Butler opined that Feyd-Rautha\\'s upbringing on Giedi Prime and self-care for his body explained his arrogance. Meanwhile, Villeneuve noted his psychopathic personality and brutality similar to that of an animal, contrasted with his \"code of honors\" and reverence for fighters.\\nLady Jessica is heavily traumatized by the death of Duke Leto, being compared to Paul as a \"survivor\" and strategizing to realize the ambitions of the Bene Gesserit, who aim to fulfill their prophecy to maximize human potential, disregarding morality and ethics. There is additional focus on the political aspect, with Princess Irulan fearing that her father, Emperor Shaddam IV, will lose his throne due to his loss of influence over warring factions. During the sequence of Paul\\'s consumption of the Water of Life, Villeneuve deliberately altered the timeframe to depict an adult Alia for a dramatic effect, and to highlight Alia\\'s unique birth. He and Spaihts decided to \"compress\" the time for both the sequence and Lady Jessica\\'s pregnancy in order to establish more narrative tension. He added that Lady Jessica\\'s conversations with an embryonic Alia was unique, as he felt it was \"fresh and original to have a character who is powerful and still a pregnant woman\" while also conveying how others perceive Alia as an \"abomination\". Like Chani and Lady Jessica, Villeneuve further developed Princess Irulan\\'s character and motivations from the novel, with actress Florence Pugh noting her reserved nature and intelligence.\\n\\n\\n=== Casting ===\\n\\nIn March 2022, Pugh and Butler were reported to be in talks to star in the film as Princess Irulan and Harkonnen heir Feyd-Rautha, respectively. Butler was offered the role while having coffee with Villeneuve, without needing to audition. He trained for four months in Budapest, using a fitness regimen made by an ex-Navy SEALs member. Villeneuve described his performance as being a \"cross between a psychopath killer, an Olympic sword master, a snake, and Mick Jagger\" while Butler researched past cultures he felt \"bred brutality\" and took inspiration from various animals including sharks and snakes.\\nButler said that he drew inspiration from Gary Oldman and Heath Ledger for his performance. He imitated Skarsgård\\'s voice as the Baron, as he felt that Feyd would be influenced by the Baron due to growing up with him. In May, Christopher Walken joined the cast as Shaddam IV. In June, Léa Seydoux entered negotiations to join the cast as Lady Margot Fenring. In July, Souheila Yacoub joined the cast as Shishakli.\\nIn January 2023, Tim Blake Nelson was added to the cast in an undisclosed role. Attending the film\\'s London premiere in February 2024, Anya Taylor-Joy confirmed that she had been cast in the film. Villeneuve was surprised that her role had been kept a secret for that long, noting it required \"so much work to keep that secret\". Her role had been revealed in a casting credit list for the film on Letterboxd.\\n\\n\\n=== Filming ===\\nPre-shooting began on July 4, 2022, at the Brion tomb in Altivole, Italy for two days. Principal photography was set to begin on July 21 in Budapest, Hungary, but began earlier on July 18. The film was entirely shot using Arri Alexa LF digital cameras, with new filming locations and sets being used \"to avoid repetition\". In October 2022, Chalamet took a break from filming in order to attend the premiere of Bones and All (2022). The production team managed to shoot during the partial solar eclipse of October 25, and used the footage for the opening fight scene between Harkonnen and Fremen soldiers.\\nIn November, production moved to Abu Dhabi, with Pugh finishing her scenes in November. Certain scenes set at dawn had to be filmed across three days to take advantage of the golden hour. A special unit of production filmed scenes with Taylor-Joy in Namibia, the driest country in sub-Saharan Africa. Filming wrapped on December 12, 2022. Due to the delays, Villeneuve was able to make a film transfer for projection using the IMAX 70 mm and conventional 70 mm film formats.\\nPugh delivered Princess Irulan\\'s opening narration during her first day of filming and for overall production. Villeneuve and cinematographer Greig Fraser filmed Feyd-Rautha\\'s gladiator sequence with specially designed black-and-white infrared cameras. They wanted the Harkonnens to cheer and stomp rather than applaud, and designed over 30 sections for spectators in the arena. Butler spent his first week on set filming the scene, while the set had very high temperatures that caused some people to faint. He also improvised his kiss scene with the Baron.\\nFor romantic scenes between Paul and Chani, the scenes were primarily filmed in remote locations in Jordan during the golden hour. The scenes were often filmed as quickly as possible, with only a one-hour window being available. The scene of Paul\\'s sandworm ride was filmed practically on a production unit, separate from the main one, led by producer Tanya Lapointe and a special team. Chalamet filmed his scenes on a platform meant to imitate a portion of the sandworm, with gripping devices serving as the reference for the Fremen hooks. An industrial fan blew sand on set to emulate the desert climate. Chalamet estimated the scene took over three months to film, with individual shoots occurring over a span of 20–30 minutes. As the actual sandworm was not built and there were no reference shots, the production team designed a small portion of the worm on set and the actors had to physically visualize and imitate riding the sandworm.\\nButler and Chalamet separately trained with a Kali instructor in Los Angeles for the climactic battle between Paul and Feyd-Rautha. They were excited to do the scene, and immediately began practicing once they later met in Budapest. They performed the scene by themselves, including for wide camera shots. Chalamet delivers the monologue entirely in Chakobsa. Ferguson cited Lady Jessica undergoing the Reverend Mother process as her favorite scene, working with contortionists for the scene and comparing it to an Exorcist film.\\n\\n\\n== Music ==\\n\\nHans Zimmer returned to compose the film\\'s score after doing so for the previous film. Zimmer had composed over 90 minutes of music prior to the announcement of the film to help give Villeneuve inspiration when writing. Two singles were released on February 15, 2024, by WaterTower Music, titled \"A Time of Quiet Between the Storms\" and \"Harvester Attack\". The full soundtrack album was released on February 23.\\n\\n\\n== Marketing ==\\nA teaser trailer for Dune: Part Two was presented during the Warner Bros. panel at CinemaCon on April 27, 2023. First-look footage of the cast in-character were released online, alongside a teaser poster, on May 2, 2023. The trailer was released to the public the following day. Variety called it \"breathtaking\"; GQ hailed the shots of Paul riding a sandworm as \"the standout sequence\"; and Fangoria remarked \"If you\\'re not excited for this one, we dunno what to tell you\". Chalamet and Zendaya later discussed and promoted the film at a Warner Bros. presentation at CineEurope on June 21.\\nA second trailer was released on June 29, 2023. Chris Evangelista of Film was excited about the appearance of Christopher Walken as Emperor Shaddam IV. Ben Travis of Empire praised the \"seismic\" and \"astounding, none-more-eye-boggling\" imagery, feeling the scope to be \"particularly expansive\" and noted the monochromatic footage depicting Austin Butler\\'s Feyd-Rautha while calling the footage of Christopher Walken\\'s appearance \"impactful\". Joshua Rivera of Polygon opined \"The trailer, simply put, rocks\" and enjoyed the footage present.\\nThe film was promoted during the December 2023 CCXP with Chalamet, Zendaya, Pugh, Butler, and Villeneuve, where over 10 minutes of footage was released. Additional footage from Dune: Part Two was shown during a limited IMAX theatrical re-release of Christopher Nolan\\'s Tenet (2020), as part of Warner Bros.\\' celebration for the former film\\'s release.\\nWarner Bros. and Legendary Pictures partnered with Xbox to provide an immersive content suite related to the film, and visual designs inspired by the film being featured on a floating controller, Xbox Series X, and a console holder. Microsoft Flight Simulator also included an expansion pack allowing players to explore Arrakis and pilot the Royal Atreides Ornithopter. In November 2023, the Sardaukar were added to Call of Duty: Modern Warfare II (2022) in a collaboration pack. A month later, Paul and Feyd-Rautha were added as playable operators to its sequel, Call of Duty: Modern Warfare III (2023), with an additional Harkonnen soldier skin being announced in March 2024. In September 2023, McFarlane Toys announced a new line of 7-inch figures modeled after characters from the sequel film. Legendary Comics will release Dune: Part Two – The Official Movie Graphic Novel with the help of Kickstarter in the same way the previous adaptation was published.\\nResearch conducted by Nikolaj Mathies, CEO of Vievo Media, said the promotional campaign for the film on TikTok included 117 posts over a year leading up to its release, an increase from the first film\\'s 108. Messages directly from the cast comprised 24% of the content, with videos featuring Zendaya and Chalamet generating significantly higher viewership. Red carpet content was prioritized to appeal to female audiences, a tactic that contributed to an estimated $2 million increase in the opening box office. According to the marketing research company FanBox, 57% of TikTok users are female and hashtags such as #zendaya have garnered billions of views, leading the core audience for Dune to grow significantly, with a 67.5% increase overall from 2.6 million to 8 million and an 84% increase among \"superfans\".\\nPromotion in Japan also included a collaboration with Mobile Suit Gundam SEED – specifically, their Freedom film. The collaboration featured an alternate version of Dune: Part Two\\'s movie poster featuring Lacus Clyne (voiced by Rie Tanaka in the original and Stephanie Sheh in the English dubbed version) and Kira Yamato (Sōichirō Hoshi/Max Mittelman) in place of Chani and Paul respectively.\\n\\n\\n=== Popcorn bucket meme ===\\n\\nIn January 2024, images of a forthcoming Dune-themed popcorn bucket from AMC Theatres went viral and became an Internet meme after its sandworm-inspired design was compared to an artificial vagina.\\nReactions to the bucket received millions of views on the social network TikTok, and jokes about it were featured on US late night television, including a musical sketch on Saturday Night Live with cast members Marcello Hernandez, Ayo Edebiri, Devon Walker, and Bowen Yang. The extensive online attention paid to the bucket led the media to ask much of Dune: Part Two\\'s main cast for their reactions. Denis Villeneuve said that the bucket was an \"insane marketing idea\" that \"brought a lot of laughter and joy\".\\nGriffin Newman in The New York Times chalked up the bucket\\'s appeal to the \"magic alchemy\" that results from an object that so many people become \"perversely fascinated\" by. The product was one of several popcorn buckets AMC had designed and released alongside recent films, including character heads for Spider-Man: Across the Spider-Verse and \"burn books\" for Mean Girls.\\nOver a month after Dune: Part Two\\'s release, AMC\\'s chief content officer stated that \"we would have never created [the bucket] knowing it would be celebrated or mocked\", but added that they would continue to create collectible popcorn buckets for other films. At that time, the Dune popcorn buckets were being resold for as high as $175. In the wake of its viral popularity from that period, Marvel Studios would later announce a bucket of their own for Deadpool & Wolverine (2024) in a similar fashion as producer Kevin Feige described it as \"intentionally crude and lewd\". The bucket was fully revealed at the end of May 2024 by the film\\'s star, Ryan Reynolds on his YouTube channel.\\n\\n\\n== Release ==\\n\\n\\n=== Theatrical ===\\nDune: Part Two was originally scheduled to be released on October 20, 2023, but was delayed to November 17, 2023, before moving forward two weeks to November 3, 2023, to adjust to changes in release schedules from other studios. It was later postponed by over four months to March 15, 2024, due to the 2023 Hollywood labor disputes. After the strikes were resolved, the film moved once more up two weeks to March 1, 2024.\\nFollowing the success of Oppenheimer (2023) in the format, Dune: Part Two was released in the IMAX 15-perforation 70 mm format to twelve venues worldwide, and in standard 5-perforation 70 mm format to 38 venues worldwide.\\nA red carpet event was hosted in the Auditorio Nacional in Mexico City on February 6, 2024. Dune: Part Two\\'s world premiere was held at Odeon Luxe Leicester Square in London on February 15.\\nOn January 16, 2024, the film was shown to a dying man in a palliative care home in the Canadian city of Saguenay, in Denis Villeneuve\\'s native province of Quebec. The man had expressed a wish to see Dune: Part Two before his death. Josée Gagnon, the cofounder of a company aiming to accompany people at the end of life, relayed his wish to Villeneuve and Tanya Lapointe, his partner and one of the film\\'s producers, through a viral call-out on Facebook. According to Gagnon, Villeneuve and Lapointe \"were very touched\". The pair initially offered to invite the man to see Dune: Part Two in Los Angeles or Montreal, but since he was too weak to travel, Villeneuve eventually decided to send one of his assistants directly to Saguenay with his private laptop. The film was screened in a room of the care facility, where everyone was required to hand in their cellphones and sign waivers. The man was in too much pain to watch the entire film and stopped halfway through. He eventually died on January 25. This act, which the Canadian Broadcasting Corporation referred to as the actual \"world premiere\" of the film, was publicly disclosed after its theatrical release.\\n\\n\\n=== Home media ===\\nThe film was released digitally on April 16, 2024, and Blu-ray, DVD and Ultra HD Blu-ray on May 14, 2024, by Warner Bros. Home Entertainment. Dune: Part Two became available to stream on Max on May 21, 2024.\\n\\n\\n== Reception ==\\n\\n\\n=== Box office ===\\nAs of May 20, 2024, Dune: Part Two has grossed $282.1 million in the United States and Canada and $429.7 million in other territories, for a worldwide total of $712 million. The Hollywood Reporter had estimated that the film would break-even after grossing around $500 million. The film made over $145 million in IMAX alone globally.\\n\\n\\n==== Domestic ====\\nIn the United States and Canada, the film\\'s advanced ticket sales surpassed those of Oppenheimer (2023), and it was projected to gross $65–80 million from 4,050 theaters in its opening weekend. The film made $32.2 million on its first day, including $12 million from previews on February 25 and 29; IMAX screenings made up $4.5 million (38%) of the early totals. It went on to debut to $82.5 million, doubling the first film\\'s $41 million opening weekend; IMAX screenings made up $18.5 million (23%) of the total, a record for a March release. According to Jeff Goldstein, president of domestic distribution at Warner Bros., it was \"much higher than any of us could predict\", especially for \"a genre that is a hard nut to crack\". In its second weekend the film made $46 million (a 44% drop), finishing second behind newcomer Kung Fu Panda 4. It also surpassed the entire domestic gross of the first film ($108 million) in just seven days. The film made $28.5 million in its third weekend and $17.6 million in its fourth, remaining in second both times. It also became Timothée Chalamet\\'s highest-grossing film of all time, surpassing Wonka.\\n\\n\\n==== Other territories ====\\nOutside the US and Canada, the film was expected to gross $85–90 million from 71 markets in its opening weekend. It grossed $100.02 million in the first three days. In its second weekend, the sci-fi epic added $81 million from 72 international markets, including a $20 million opening in China. Dune: Part Two continued to hold well, grossing $51.2 million and $30.7 million in its third and fourth weekends respectively. As of April 14, 2024, the highest grossing markets were the United Kingdom ($48.1 million), China ($48.1 million),  France ($41.8 million), Germany ($38.7 million),  and Australia ($22 million).\\n\\n\\n=== Critical response ===\\nThe film \"largely received rave reviews from critics\", and was praised for its visual effects and cast performances. Some reviews considered it one of the greatest science fiction films ever made. On the review aggregator website Rotten Tomatoes, 92% of 434 critics\\' reviews are positive, with an average rating of 8.3/10. The website\\'s consensus reads: \"Visually thrilling and narratively epic, Dune: Part Two continues Denis Villeneuve\\'s adaptation of the beloved sci-fi series in spectacular form.\" Metacritic, which uses a weighted average, assigned the film a score of 79 out of 100, based on 62 critics, indicating \"generally favorable\" reviews. Audiences polled by CinemaScore gave the film an average grade of \"A\" on an A+ to F scale, up from the first film\\'s \"A-,\" while those polled by PostTrak gave it a 94% overall positive score, with 80% saying they would definitely recommend it.\\nRichard Roeper, writing for the Chicago Sun-Times, gave the film three stars out of four, praising the technical and narrative aspects, saying, \"Even as we marvel at the stunning and immersive and Oscar-level cinematography, editing, score, visual effects, production design and sound in Denis Villeneuve\\'s Dune: Part Two, we\\'re reminded at every turn that this is an absolutely bat-bleep [sic] crazy story.\"\\nFilmmaker Steven Spielberg praised the film, calling it \"one of the most brilliant science fiction films I have ever seen,\" while further noting that \"it\\'s also filled with deeply, deeply drawn characters ... Yet the dialogue is very sparse when you look at it proportionately to the running time of the film. It\\'s such cinema. The shots are so painterly, yet there\\'s not an angle or single setup that\\'s pretentious.\" Fellow filmmaker James Cameron also praised the movie, calling it \"pure cinema\" and stating that it\\'s an improvement over the 1984 adaptation.\\nOther reviews were more mixed in their judgement. In The Hollywood Reporter, Lovia Gyarkye praised the film\\'s technical aspects and performances, but found it failed to fully adapt the book\\'s nuance on themes such as imperialism. Nicholas Barber wrote for the BBC that the film is \"one of the most jaw-droppingly weird pieces of art-house psychedelia ever to come from a major studio\", finding the film\\'s grand scale made up for its issues. At the more negative end, Noah Berlatsky writing for CNN judged that the film had failed to \"present an effective anti-colonial vision\" by still being centred around Paul\\'s destiny despite an increased voice of opposition from Chani.\\nSome commentators have criticized the film for failing to adequately deal with the original book\\'s Middle East and North Africa (MENA) influences or otherwise incorporate enough representation from the region. Furvah Shah, writing for the UK edition of Cosmopolitan, said she \"felt frustrated as a Muslim viewer\", criticizing the film for a lack of MENA casting amongst the leads despite the use of the region\\'s culture and superficial use of Islam. The New Arab\\'s Hannah Flint also criticized the use of Arab and Islamic cultural items and lack of MENA casting, though did praise that of Swiss-Tunisian actress Souheila Yacoub as a \"win for Arab representation\". Steven D. Greydanus, in U.S. Catholic, gives a contrasting view of the film\\'s religious inspirations, noting that the film draws from a number of Abrahamic religions for the purpose of critiquing faith itself, while also noting the \"spiritualization of ecological concerns\" through the Fremen.\\n\\n\\n=== Accolades ===\\nThe trailer for Dune: Part Two received nominations for Best Fantasy Adventure and the Don LaFontaine Award for Best Voice Over at the 2023 Golden Trailer Awards. The film was nominated for Most Anticipated Film at the 6th Hollywood Critics Association Midseason Film Awards. Zendaya is nominated for Favorite Movie Actress and Austin Butler is nominated for Favorite Villain at the 2024 Kids\\' Choice Awards.\\n\\n\\n== Future ==\\nVilleneuve has repeatedly expressed interest in making a third film based on Dune Messiah, the second novel in the series, adding that the possibility for the film depended on the success of Dune: Part Two. Spaihts also reiterated in March 2022 that Villeneuve had plans for a third film as well as the television spin-off series Dune: Prophecy. In August 2023, Villeneuve said the third film would serve as the conclusion of a trilogy. Villeneuve began developing a script for the third film in 2023. In February 2024, Villeneuve said the script was \"almost finished\" but also said he \"[does not] want to rush it\", citing Hollywood\\'s tendency of focusing on release dates over a film\\'s overall quality, and adding, \"I want to make sure that if we go back there a third time I want it to be good and I want it to be even better than Part Two\". Villeneuve also considered waiting a few years for Chalamet to grow older, given that Dune Messiah is set 12 years after the events of the original book.\\nAhead of Dune: Part Two\\'s release, Zimmer revealed he was already writing music for a third film after Villeneuve came in and \"wordlessly\" put a copy of Dune Messiah on his desk. In April 2024, it was reported that Villeneuve and Legendary had officially begun development on the third film. Villeneuve has said that Messiah would be his final Dune film.\\n\\n\\n== See also ==\\nList of films featuring eclipses\\nList of films split into multiple parts\\n\\n\\n== Notes ==\\n\\n\\n== References ==\\n\\n\\n== Further reading ==\\n\\n\\n== External links ==\\nOfficial website \\nDune: Part Two at IMDb', mimetype='text/plain', start_char_idx=None, end_char_idx=None, text_template='{metadata_str}\\n\\n{content}', metadata_template='{key}: {value}', metadata_seperator='\\n'),\n",
       " Document(id_='173941', embedding=None, metadata={}, excluded_embed_metadata_keys=[], excluded_llm_metadata_keys=[], relationships={}, text='The Lord of the Rings: The Fellowship of the Ring is a 2001 epic fantasy adventure film directed by Peter Jackson from a screenplay by Fran Walsh, Philippa Boyens, and Jackson, based on 1954\\'s The Fellowship of the Ring, the first volume of the novel The Lord of the Rings by J. R. R. Tolkien. The film is the first installment in The Lord of the Rings trilogy. It features an ensemble cast including Elijah Wood, Ian McKellen, Liv Tyler, Viggo Mortensen, Sean Astin, Cate Blanchett, John Rhys-Davies, Billy Boyd, Dominic Monaghan, Orlando Bloom, Christopher Lee, Hugo Weaving, Sean Bean, Ian Holm, and Andy Serkis.\\nSet in Middle-earth, the story tells of the Dark Lord Sauron, who seeks the One Ring, which contains part of his might, to return to power. The Ring has found its way to the young hobbit Frodo Baggins. The fate of Middle-earth hangs in the balance as Frodo and eight companions (who form the Fellowship of the Ring) begin their perilous journey to Mount Doom in the land of Mordor, the only place where the Ring can be destroyed. The Fellowship of the Ring was financed and distributed by American studio New Line Cinema, but filmed and edited entirely in Jackson\\'s native New Zealand, concurrently with the other two parts of the trilogy.\\nIt premiered on 10 December 2001 at the Odeon Leicester Square in London, and was then released on 19 December in the United States and on 20 December in New Zealand. The film was acclaimed by critics and fans alike, who considered it to be a landmark in filmmaking and an achievement in the fantasy film genre. It received praise for its visual effects, performances, Jackson\\'s direction, screenplay, musical score, and faithfulness to the source material. It grossed over $868 million worldwide during its original theatrical run, making it the second highest-grossing film of 2001 and the fifth highest-grossing film of all time at the time of its release. Following subsequent reissues, it has grossed over $887 million. Like its successors, The Fellowship of the Ring is widely recognised as one of the greatest and most influential films ever made. The film received numerous accolades; at the 74th Academy Awards, it was nominated for thirteen awards, including Best Picture, winning for Best Cinematography, Best Makeup, Best Original Score, and Best Visual Effects.\\nIn 2007, the American Film Institute named it one of the 100 greatest American films in history, being both the most recent film and the only film released in the 21st century to make it to the list. In 2021, the film was selected for preservation in the United States National Film Registry by the Library of Congress for being \"culturally, historically, or aesthetically significant\". Two sequels, The Two Towers and The Return of the King, followed in 2002 and 2003, respectively.\\n\\n\\n== Plot ==\\nIn the Second Age of Middle-earth, the lords of Elves, Dwarves, and Men are given Rings of Power. Unbeknownst to them, the Dark Lord Sauron forges the One Ring in Mount Doom, instilling into it a great part of his power, to dominate the other Rings and conquer Middle-earth. A final alliance of Men and Elves battles Sauron\\'s forces in Mordor. Isildur of Gondor severs Sauron\\'s finger and the Ring with it, thereby vanquishing Sauron and returning him to spirit form. With Sauron\\'s first defeat, the Third Age of Middle-earth begins. The Ring\\'s influence corrupts Isildur, who takes it for himself and is later killed by Orcs. The Ring is lost in a river for 2,500 years until it is found by Gollum, who owns it for over four and a half centuries. The Ring abandons Gollum and it is subsequently found by a hobbit named Bilbo Baggins, who is unaware of its history.\\nSixty years later, Bilbo celebrates his 111th birthday in the Shire, reuniting with his old friend, the wizard Gandalf the Grey. Bilbo departs the Shire for one last adventure, and he leaves his inheritance, including the Ring, to his nephew Frodo. Gandalf investigates the Ring, discovers its true nature, and learns that Gollum was captured and tortured by Sauron\\'s Orcs, revealing two words during his interrogation: \"Shire\" and \"Baggins.\" Gandalf returns and warns Frodo to leave the Shire. As Frodo departs with his friend, gardener Samwise Gamgee, Gandalf rides to Isengard to meet with the wizard Saruman, but discovers his betrayal and alliance with Sauron, who has dispatched his nine undead Nazgûl servants to find Frodo.\\nFrodo and Sam are joined by fellow hobbits Merry and Pippin, and they evade the Nazgûl before arriving in Bree, where they are meant to meet Gandalf at the Inn of The Prancing Pony. However, Gandalf never arrives, having been taken prisoner by Saruman. The hobbits are then aided by a Ranger named Strider, who promises to escort them to Rivendell; however, they are ambushed by the Nazgûl on Weathertop, and their leader, the Witch-King, stabs Frodo with a Morgul blade. Arwen, an Elf and Strider\\'s beloved, locates Strider and rescues Frodo, summoning flood-waters that sweep the Nazgûl away. She takes him to Rivendell, where he is healed by the Elves. Frodo meets with Gandalf, who escaped Isengard on a Great Eagle. That night, Strider reunites with Arwen, and they affirm their love for each other.\\nLearning of Saruman\\'s betrayal from Gandalf and now realizing that they are facing threats from both Sauron and Saruman, Arwen\\'s father, Lord Elrond, decides against keeping the Ring in Rivendell. He holds a council of Elves, Men, and Dwarves, also attended by Frodo and Gandalf, that decides the Ring must be destroyed in the fires of Mount Doom. Frodo volunteers to take the Ring, accompanied by Gandalf, Sam, Merry, Pippin, Elf Legolas, Dwarf Gimli, Boromir of Gondor, and Strider—who is actually Aragorn, Isildur\\'s heir and the rightful King of Gondor. Bilbo, now living in Rivendell, gives Frodo his sword Sting, and a chainmail shirt made of mithril.\\nThe Fellowship of the Ring makes for the Gap of Rohan, but discover it is being watched by Saruman\\'s spies. They instead set off over the mountain pass of Caradhras, but Saruman summons a storm that forces them to travel through the Mines of Moria, where a tentacled water beast blocks off the entrance with the Fellowship inside, giving them no choice but to journey to the exit on the other end. After finding the Dwarves of Moria dead, the Fellowship is attacked by Orcs and a cave troll. They hold them off but are confronted by Durin\\'s Bane: a Balrog residing within the mines. While the others escape, Gandalf fends off the Balrog and casts it into a vast chasm, but the Balrog drags Gandalf down into the darkness with him. The devastated Fellowship reaches Lothlórien, ruled by the Elf-queen Galadriel, who privately informs Frodo that only he can complete the quest and that one of the Fellowship will try to take the Ring. She also shows him a vision of the future in which Sauron succeeds in enslaving Middle-earth, including the Shire. Meanwhile, Saruman creates an army of Uruk-hai in Isengard to find and kill the Fellowship.\\nThe Fellowship travels by river to Parth Galen. Frodo wanders off and is confronted by Boromir, who, as Lady Galadriel had warned, tries to take the Ring. Uruk-hai scouts then ambush the Fellowship, attempting to abduct the Hobbits. Boromir breaks free of the Ring\\'s magic and protects Merry and Pippin, but the Uruk-Hai leader, Lurtz, mortally wounds Boromir as they abduct the Hobbits. Aragorn arrives and kills Lurtz before comforting Boromir as he dies, promising to help the people of Gondor in the coming conflict. Fearing the Ring will corrupt his friends, Frodo decides to travel to Mordor alone, but allows Sam to come along, recalling his promise to Gandalf to look after him. As Aragorn, Legolas, and Gimli set out to rescue Merry and Pippin, Frodo and Sam make their way down the  pass of Emyn Muil, journeying on to Mordor. \\n\\n\\n== Cast ==\\n\\nBefore filming began on 11 October 1999, the principal actors trained for six weeks in sword fighting (with Bob Anderson), riding and boating. Jackson hoped such activities would allow the cast to bond so chemistry would be evident on screen as well as getting them used to life in Wellington. They were also trained to pronounce Tolkien\\'s verses properly. After the shoot, the nine cast members playing the Fellowship got a tattoo, the Elvish symbol for the number nine, with the exception of John Rhys-Davies, whose stunt double got the tattoo instead. The film is noted for having an ensemble cast, and some of the cast and their respective characters include:\\n\\nElijah Wood as Frodo Baggins: A young hobbit who inherits the One Ring from his uncle Bilbo. Wood was the first actor to be cast on 7 July 1999. Wood was a fan of the book, and he sent in an audition dressed as Frodo, reading lines from the novel. Wood was selected from 150 actors who auditioned. Jake Gyllenhaal unsuccessfully auditioned for the role after his agency miscommunicated his direction to an American accent.\\nIan McKellen as Gandalf the Grey: An Istari wizard and mentor to Frodo. Sean Connery was approached for the role, but did not understand the plot, while Patrick Stewart turned it down as he disliked the script. Patrick McGoohan was also offered the role, but turned it down due to health issues. Anthony Hopkins and Christopher Plummer also turned down the role. Richard Harris expressed interest in the part. John Astin auditioned for Gandalf. Sam Neill was also offered the role but declined due to his scheduling conflict with Jurassic Park III. Before being cast, McKellen had to sort his schedule with 20th Century Fox as there was a two-month overlap with X-Men. He enjoyed playing Gandalf the Grey more than his transformed state in the next two films, and based his accent on Tolkien. Unlike his on-screen character, McKellen did not spend much time with the actors playing the Hobbits; instead he worked with their scale doubles.\\nViggo Mortensen as Aragorn: A Dúnedain ranger and heir to Gondor\\'s throne. Daniel Day-Lewis was offered the part at the beginning of pre-production, but turned it down. Nicolas Cage also received an offer but declined because of family obligations. Stuart Townsend was cast in the role, before being replaced during filming when Jackson realised he was too young. Russell Crowe was considered as a replacement, but he turned it down because he does not want to be typecast and believed it to be a similar role in Gladiator. Day-Lewis was offered the role for a second time, but declined again. Executive producer Mark Ordesky saw Mortensen in a play. Mortensen\\'s son, a fan of the book, convinced him to take the role. Mortensen read the book on the plane, received a crash course lesson in fencing from Bob Anderson and began filming the scenes on Weathertop. Mortensen became a hit with the crew by patching up his costume and carrying his \"hero\" sword around with him off-camera.\\nSean Astin as Samwise Gamgee: Better known as Sam, a hobbit gardener and Frodo\\'s best friend. Astin, who had recently become a father, bonded with the 18-year-old Wood in a protective manner, which mirrored Sam\\'s relationship with Frodo. Before Astin was cast, James Corden read for the part.\\nSean Bean as Boromir: A son of the Stewards of Gondor who journeys with the Fellowship towards Mordor. Bruce Willis, a fan of the book, expressed interest in the role, while Liam Neeson was sent the script, but passed.\\nBilly Boyd as Peregrin Took: Better known as Pippin, an extremely foolish hobbit who is a distant cousin of Frodo and travels with the Fellowship on their journey to Mordor.\\nDominic Monaghan as Meriadoc Brandybuck: Better known as Merry, a distant cousin of Frodo. Monaghan was cast as Merry after auditioning for Frodo.\\nJohn Rhys-Davies as Gimli: A dwarf warrior who accompanies the Fellowship to Mordor after they set out from Rivendell. Billy Connolly, who was considered for the part of Gimli, would later portray Dáin II Ironfoot in Peter Jackson\\'s The Hobbit film trilogy. Rhys-Davies wore heavy prosthetics to play Gimli, which limited his vision, and eventually he developed eczema around his eyes. Rhys-Davies also played Gimli\\'s father Glóin during the scene where the fellowship is forged.\\nOrlando Bloom as Legolas: A prince of the elves\\' Woodland Realm and a skilled archer. Bloom initially auditioned for Faramir, who appears in the second film, a role which went to David Wenham.\\nLiv Tyler as Arwen: An elf of Rivendell and Aragorn\\'s lover. The filmmakers approached Tyler after seeing her performance in Plunkett & Macleane, and New Line Cinema leaped at the opportunity of having one Hollywood star in the film. Actress Helena Bonham Carter had expressed interest in the role. Tyler came to shoot on short occasions, unlike the rest of the actors. She was one of the last actors to be cast, on 25 August 1999.\\nCate Blanchett as Galadriel: The elven co-ruler of Lothlórien alongside her husband Celeborn. Lucy Lawless was considered for the role.\\nChristopher Lee as Saruman the White: The fallen head of the Istari Order who succumbs to Sauron\\'s will through his use of the palantír. Lee was a major fan of the book, and read it once a year. He had also met J. R. R. Tolkien. He originally auditioned for Gandalf, but was judged too old.\\nHugo Weaving as Elrond: The Elven-Lord of Rivendell who leads the Council of Elrond, which ultimately decides to destroy the Ring. David Bowie expressed interest in the role, but Jackson stated, \"To have a famous, beloved character and a famous star colliding is slightly uncomfortable.\"\\nIan Holm as Bilbo Baggins: Frodo\\'s uncle who gives him the Ring after he decides to retire to Rivendell. Holm previously played Frodo in a 1981 radio adaption of The Lord of the Rings, and was cast as Bilbo after Jackson remembered his performance. Sylvester McCoy, who would later play Radagast the Brown in The Hobbit, was contacted about playing the role, and was kept in place as a potential Bilbo for six months before Jackson went with Holm.\\nAndy Serkis as Gollum (voice/motion-capture): A wretched hobbit-like creature whose mind was poisoned by the Ring after bearing it for 500 years. This character appears briefly in the prologue. In Mordor, one can only hear his voice shouting and in Moria, only his eyes and his nose appear. Serkis was working on the 1999 six-episode Oliver Twist miniseries when his agent told him that Jackson wanted to approach him to play Gollum. Despite ultimately accepting the role, Serkis was initially doubtful about taking the part as one of his Oliver Twist fellow actors opined that it wasn\\'t a good idea if his face wasn\\'t going to appear onscreen, aside that Jackson was unsure if Gollum could be portrayed with motion-capture performance as they wished.\\nThe cast also includes:\\n\\nSala Baker as Sauron: The Dark Lord of Mordor and the Ring\\'s true master, who manifests as an Eye after the destruction of his physical form.  Alan Howard provides Sauron’s voice.\\nMarton Csokas as Celeborn the Wise: The Elven-Lord of Lothlórien and Galadriel\\'s husband.\\nLawrence Makoare as Lurtz: The commander of Saruman\\'s Uruk-Hai forces.\\nCraig Parker as Haldir: The leader of the Galadhrim warriors guarding the border of Lothlórien.\\nMark Ferguson as Ereinion Gil-galad: The last Elven-King of the Noldor.\\nPeter McKenzie as Elendil the Tall: The last High King of Arnor and Gondor.\\nHarry Sinclair as Isildur: Elendil\\'s son and Aragorn\\'s ancestor who originally defeated Sauron.\\nDirector Peter Jackson has a small cameo as a man with a carrot in Bree.\\n\\n\\n== Comparison to the source material ==\\n\\nJackson, Walsh and Boyens made numerous changes to the story, for purposes of pacing and character development. Jackson said his main desire was to make a film focused primarily on Frodo and the Ring, the \"backbone\" of the story. The prologue condenses Tolkien\\'s backstory, in which The Last Alliance\\'s seven-year siege of Barad-dûr is a single battle, where Sauron is shown to explode, though Tolkien only said his spirit flees.\\nSome events and characters from the book are condensed or omitted (such is the case of Tom Bombadil) at the beginning of the film. The time between Gandalf leaving the Ring to Frodo and returning to reveal its inscription, which is 17 years in the book, is compressed for timing reasons. The filmmakers also decided to move the opening scenes of The Two Towers, the Uruk-hai ambush and Boromir\\'s death, to the film\\'s linear climax.\\nThe tone of the Moria sequence was altered. In the book, following the defeat on the Caradhras road, Gandalf advocates the Moria road against the resistance of the rest of the Fellowship (save Gimli), suggesting \"there is a hope that Moria is still free...there is even a chance that Dwarves are there,\" though no one seems to think this likely. Frodo proposes they take a company vote, but the discovery of Wargs on their trail forces them to accept Gandalf\\'s proposal. They only realise the Dwarves are all dead once they reach Balin\\'s tomb. The filmmakers chose instead for Gandalf to resist the Moria plan as a foreshadowing device. Gandalf says to Gimli he would prefer not to enter Moria, and Saruman is shown to be aware of Gandalf\\'s hesitance, revealing an illustration of the Balrog in one of his books. The corpses of the dwarves are instantly shown as the Fellowship enter Moria. One detail that many critics commented upon is that, in the novel, Pippin tosses a mere pebble into the well in Moria (\"They then hear what sounds like a hammer tapping in the distance\"), whereas in the film, he knocks an entire skeleton in (\"Next, the skeleton ... falls down the well, also dragging down a chain and bucket. The noise is incredible.\").\\n\\n\\n== Production ==\\n\\n\\n=== Development ===\\nDirector Peter Jackson began working with Christian Rivers to storyboard the series in August 1997, as well as getting Richard Taylor and Weta Workshop to begin creating his interpretation of Middle-earth. Jackson told them to make Middle-earth as plausible and believable as possible, and to think of it in a historical manner.\\nIn November, Alan Lee and John Howe became the film trilogy\\'s primary conceptual designers, having had previous experience as illustrators for the book and various other tie-ins. Lee worked for the Art Department creating places such as Rivendell, Isengard, Moria, and Lothlórien, giving Art Nouveau and geometry influences to the Elves and Dwarves respectively. Though Howe contributed with Bag End and the Argonath, he focused on the design of the characters\\' armour, having studied it his entire life. Weta and the Art Department continued to design, with Grant Major turning the Art Department\\'s designs into architecture, and Dan Hennah scouting locations. On 1 April 1999, Ngila Dickson joined the crew as costume designer. She and 40 seamstresses would create 19,000 costumes, 40 per version for the actor and their doubles, wearing them out for an impression of age.\\n\\n\\n=== Filming locations ===\\n\\nFilming took place in various locations across New Zealand. Below is a list of filming locations, sorted by appearance order in the film:\\n\\n\\n=== Special effects ===\\n\\nThe Fellowship of the Ring makes extensive use of digital, practical and make-up special effects. One notable illusion used in almost every scene involved setting a proper scale so that the characters all appear to be the correct height. For example, Elijah Wood is 5 feet 6 inches (1.68 m) tall in real life, but his character, Frodo Baggins, is barely four feet in height. Various techniques were used to depict the hobbits and Gimli the Dwarf as being of diminutive stature. Fortunately, John-Rhys Davies – who played Gimli – happens to be the correct height in proportion to the hobbit actors, so did not need to be filmed separately as a third height variation. Large- and small-scale doubles were used in certain scenes, while entire duplicates of certain sets (including Bag End in Hobbiton) were built at two different scales, so that the characters would appear to be the appropriate size. At one point in the film, Frodo runs along a corridor in Bag End, followed by Gandalf. Elijah Wood and Ian McKellen were filmed in separate versions of the same corridor, built at two different scales, and a fast camera pan conceals the edit between the two. Forced perspective was also employed, so that it would look as though the short hobbits were interacting with taller Men and Elves. Even the simple use of kneeling down, to the filmmakers\\' surprise, turned out to be an effective method in creating the illusion.\\nFor the battle between the Last Alliance and Sauron\\'s forces that begins the film, an elaborate CGI animation system, called MASSIVE, was developed by Stephen Regelous; it allowed thousands of individual animated characters, or \"agents\" in the program, to act independently. This lent the illusion of realism to the battle sequences. The \"Making of\" Lord of the Rings DVD reports some interesting initial problems: for instance, in the first execution of a battle between groups of characters, the wrong groups attacked each other. In another early demo, some of the warriors at the edge of the field could be seen running away. They were initially moving in the wrong direction, and had been programmed to keep running until they encountered an enemy.\\nThe digital creatures were important due to Jackson\\'s requirement of biological plausibility. Their surface texture was scanned from large maquettes before numerous digital details of their skeletons and muscles were added. In the case of the Balrog, Gray Horsfield created a system that copied recorded imagery of fire.\\n\\n\\n=== Score ===\\n\\nJames Horner turned down the offer to compose the score. The musical score for The Lord of the Rings films was composed by Howard Shore. It was performed by the New Zealand Symphony Orchestra, the London Philharmonic Orchestra, the London Voices, The London Oratory School Schola, and the Maori Samoan Choir, and featured several vocal soloists. Shore wrote almost four hours of finalized music for the film (of which just over three hours are used as underscore), featuring a number of non-orchestral instruments, and a large number (49–62) of leitmotives.\\nTwo original songs, \"Aníron\" and the end title theme \"May It Be\", were composed and sung by Enya, who allowed her label, Reprise Records, to release the soundtrack to The Fellowship of the Ring and its two sequels. In addition to these, Shore composed \"In Dreams\", which was sung by Edward Ross of the London Oratory School Schola.\\n\\n\\n== Release ==\\n\\n\\n=== Theatrical ===\\nThe world premiere of The Fellowship of the Ring was held at the Odeon Leicester Square in London on 10 December 2001. It was released on Wednesday, 19 December 2001 internationally in most major territories on 10,000 screens. It opened in New Zealand on 20 December.\\n\\n\\n=== Marketing ===\\nA special featurette trailer was released in 2000. The trilogy sizzle reel was shown before Thirteen Days and the teaser trailer before Pearl Harbor. The theatrical trailer was attached with the television premiere of Angel and before Harry Potter and the Philosopher\\'s Stone. Both trailers appeared as Easter eggs on the Rush Hour 2 and Little Nicky home video releases.\\n\\n\\n=== Home media ===\\n\\n\\n==== Theatrical version ====\\nThe theatrical version of The Fellowship of the Ring was released on VHS and DVD on 6 August 2002. It was the best-selling DVD release at the time with 14.5 million copies being sold. This record was dethroned by Finding Nemo the following year.\\nThe Blu-ray edition of the theatrical The Lord of the Rings trilogy was released in the United States on 6 April 2010. There were two separate sets: one with digital copies and one without. The individual Blu-ray disc of The Fellowship of the Ring was released on 14 September 2010 with the same special features as the complete trilogy release, except there was no digital copy.\\n\\n\\n==== Extended version ====\\nOn 12 November 2002, an extended edition was released on VHS and DVD, with 30 minutes of new material, added special effects and music, plus 19 minutes of fan-club credits, totalling 228 minutes. The DVD set included four commentaries and over three hours of supplementary material.\\nOn 29 August 2006, a limited edition of The Fellowship of the Ring was released on DVD. The set included both the film\\'s theatrical and extended editions on a double-sided disc along with all-new bonus material.\\nThe extended Blu-ray editions were released in the US on 28 June 2011. This version has a runtime of 238 minutes, with the Blu-ray\\'s additional 10 minutes resulting from lengthier rolls of the fan club members updated at the time of the release, not any additional story material.\\nThe Fellowship of the Ring was released in Ultra HD Blu-ray on 30 November 2020 in the United Kingdom and on 1 December 2020 in the United States, along with the other films of the trilogy, including both the theatrical and the extended editions of the films.\\n\\n\\n== Reception ==\\n\\n\\n=== Box office ===\\nOn its opening day, The Fellowship of the Ring grossed $18.2 million in the United States and Canada from 3,359 cinemas and $11.5 million in 13 countries, including $3 million from 466 screens in the United Kingdom. It grossed $75.1 million in its first five days in the United States and Canada, including $47.2 million on its opening weekend, placing it at number one at the US box office, setting a December opening record, beating Ocean\\'s Eleven.\\nThe film also opened at number one in 29 international markets and remained there for a second week in all but the Netherlands. It set a record opening day gross in Australia with $2.09 million from 405 screens, beating the record $1.3 million set by Star Wars: Episode I – The Phantom Menace. It had a record opening weekend in Germany with 1.5 million admissions and in Spain with a gross of $5.3 million from 395 screens. It also grossed a record $2.5 million in 15 days in New Zealand. This record would last for less than a decade before being surpassed by Avatar. In its first 15 days, it had grossed $183.5 million internationally and $178.7 million in the United States and Canada for a worldwide total of $362.2 million.\\nIn its initial release, it went on to gross $319.2 million in the United States and Canada and $567.3 million in the rest of the world for a worldwide total of $887.2 million. Box Office Mojo estimates that the film sold over 54 million tickets in the US and Canada in its initial theatrical run. Following subsequent reissues, the film has grossed $319.2 million in the United States and Canada and $567.4 million in the rest of the world for a worldwide total of $887.3 million.\\n\\n\\n=== Critical response ===\\n\\nOn review aggregator Rotten Tomatoes, the film holds an approval rating of 91% based on 235 reviews, with an average rating of 8.20/10. The website\\'s critics consensus reads, \"Full of eye-popping special effects, and featuring a pitch-perfect cast, The Lord of the Rings: The Fellowship of the Ring brings J.R.R. Tolkien\\'s classic to vivid life.\" Metacritic, which uses a weighted average, assigned the film a score of 92 out of 100 based on 34 critics, indicating \"universal acclaim\". Audiences polled by CinemaScore gave the film an average grade of \"A−\" on an A+ to F scale.\\nColin Kennedy for Empire gave the film five stars out of five, writing \"Brooking no argument, history should quickly regard Peter Jackson\\'s The Fellowship of the Ring as the first instalment of the best fantasy epic in motion picture history... Putting formula blockbusters to shame, Fellowship is impeccably cast and constructed with both care and passion: this is a labour of love that never feels laboured. Emotional range and character depth ultimately take us beyond genre limitations...\" Roger Ebert of the Chicago Sun-Times gave the film three out of four stars and stating that while it is not \"a true visualization of Tolkien\\'s Middle-earth\", it is \"a work for, and of, our times. It will be embraced, I suspect, by many Tolkien fans and will take on aspects of a cult. It is a candidate for many Oscars. It is an awesome production in its daring and breadth, and there are small touches that are just right\". USA Today also gave the film three out of four stars and wrote, \"this movie version of a beloved book should please devotees as well as the uninitiated\". In his review for The New York Times, Elvis Mitchell wrote, \"The playful spookiness of Mr. Jackson\\'s direction provides a lively, light touch, a gesture that doesn\\'t normally come to mind when Tolkien\\'s name is mentioned\". Lisa Schwarzbaum for Entertainment Weekly gave the film an A grade and wrote \"The cast take to their roles with becoming modesty, certainly, but Jackson also makes it easy for them: His Fellowship flows, never lingering for the sake of admiring its own beauty ... Every detail of which engrossed me. I may have never turned a page of Tolkien, but I know enchantment when I see it\". In his review for the BBC, Nev Pierce gave the film four stars out of five, describing it as \"Funny, scary, and totally involving\", and wrote that Jackson turned \"the book\\'s least screen-worthy volume into a gripping and powerful adventure movie\". In his review for The Guardian, Xan Brooks wrote \"Rather than a stand-alone holiday blockbuster, The Fellowship of the Ring offers an epic act one\", and commented that the ending was \"closer in spirit to an art-house film than a popcorn holiday romp\".\\nIn her review for The Washington Post, Rita Kempley gave the film five stars out of five, and praised the cast, in particular, \"Mortensen, as Strider, is a revelation, not to mention downright gorgeous. And McKellen, carrying the burden of thousands of years\\' worth of the fight against evil, is positively Merlinesque\". Time magazine\\'s Richard Corliss praised Jackson\\'s work: \"His movie achieves what the best fairy tales do: the creation of an alternate world, plausible and persuasive, where the young — and not only the young — can lose themselves. And perhaps, in identifying with the little Hobbit that could, find their better selves\". In his review for The Village Voice, J. Hoberman wrote, \"Peter Jackson\\'s adaptation is certainly successful on its own terms\". Rolling Stone magazine\\'s Peter Travers wrote, \"It\\'s emotion that makes Fellowship stick hard in the memory... Jackson deserves to revel in his success. He\\'s made a three-hour film that leaves you wanting more\". A mixed review was written by Peter Bradshaw. Writing for The Guardian, he lauded the art direction and the visual look of the film, but he also commented \"there is a strange paucity of plot complication, an absence of anything unfolding, all the more disconcerting because of the clotted and indigestible mythic back story that we have to wade through before anything happens at all\". Overall, Bradshaw found the tone of the film too serious and self-important, and wrote \"signing up to the movie\\'s whole hobbity-elvish universe requires a leap of faith... It\\'s a leap I didn\\'t feel much like making – and, with two more movie episodes like this on the way, the credibility gap looks wider than ever.\" Jonathan Rosenbaum was also less positive about The Fellowship of the Ring: in his review for the Chicago Reader, he granted that the film was \"full of scenic splendors with a fine sense of scale\", but he commented that its narrative thrust seemed \"relatively pro forma\", and that he found the battle scenes boring.\\n\\n\\n=== Accolades ===\\n\\nIn 2002, the film won four Academy Awards from thirteen nominations. The winning categories were for Best Cinematography, Best Visual Effects, Best Makeup, and Best Original Score. It was also nominated for Best Actor in a Supporting Role (Ian McKellen), Best Art Direction, Best Director, Best Film Editing, Best Original Song (Enya, Nicky Ryan and Roma Ryan for \"May It Be\"), Best Picture, Best Sound (Christopher Boyes, Michael Semanick, Gethin Creagh and Hammond Peek), Best Costume Design and Best Adapted Screenplay.\\nThe film won the 2002 Hugo Award for Best Dramatic Presentation. It also won Empire readers\\' Best Film award, as well as five BAFTAs, including Best Film, the David Lean Award for Best Direction, the Audience Award (voted for by the public), Best Special Effects, and Best Make-up. The film was nominated for an MTV Movie Award for Best Fight between Gandalf and Saruman.\\nIn June 2008, AFI revealed its \"10 Top 10\"—the ten best films in ten \"classic\" American film genres—after polling over 1,500 people from the creative community. The Fellowship of the Ring was acknowledged as the second best film in the fantasy genre. The film was also listed as the 50th best film in the 2007 list AFI\\'s 100 Years...100 Movies (10th Anniversary Edition).\\n\\n\\n== References ==\\n\\n\\n== External links ==\\n\\nOfficial website \\nThe Lord of the Rings: The Fellowship of the Ring at IMDb \\nThe Lord of the Rings: The Fellowship of the Ring at AllMovie \\nThe Lord of the Rings: The Fellowship of the Ring at Box Office Mojo \\nThe Lord of the Rings: The Fellowship of the Ring at Metacritic \\nThe Lord of the Rings: The Fellowship of the Ring at Rotten Tomatoes', mimetype='text/plain', start_char_idx=None, end_char_idx=None, text_template='{metadata_str}\\n\\n{content}', metadata_template='{key}: {value}', metadata_seperator='\\n')]"
      ]
     },
     "execution_count": 30,
     "metadata": {},
     "output_type": "execute_result"
    }
   ],
   "source": [
    "wiki_docs"
   ]
  },
  {
   "cell_type": "markdown",
   "metadata": {
    "id": "-6FRQ4hfSV_-"
   },
   "source": [
    "### Initializing our `VectorStoreIndex` with QDrant\n",
    "\n",
    "QDrant is a locally hostable and open-source vector database solution.\n",
    "\n",
    "It offers powerful features like metadata filtering out of the box, and will suit our needs well today!\n",
    "\n",
    "We'll start by creating our local `:memory:` client (in-memory and not meant for production use-cases) and our collection."
   ]
  },
  {
   "cell_type": "code",
   "execution_count": null,
   "metadata": {
    "colab": {
     "base_uri": "https://localhost:8080/"
    },
    "id": "b1ut96aSEVwY",
    "outputId": "0e3850e1-c208-44a8-caa9-84735c3a9d04"
   },
   "outputs": [
    {
     "data": {
      "text/plain": [
       "True"
      ]
     },
     "execution_count": null,
     "metadata": {},
     "output_type": "execute_result"
    }
   ],
   "source": [
    "from llama_index.vector_stores.qdrant import QdrantVectorStore\n",
    "from qdrant_client import QdrantClient, models\n",
    "\n",
    "client = QdrantClient(location=\":memory:\")\n",
    "\n",
    "client.create_collection(\n",
    "    collection_name=\"movie_wikis\",\n",
    "    vectors_config=models.VectorParams(size=1536, distance=models.Distance.COSINE)\n",
    ")"
   ]
  },
  {
   "cell_type": "markdown",
   "metadata": {
    "id": "Fa3mbrfGnkCk"
   },
   "source": [
    "Then we'll create our `VectorStore` and `StorageContext` which will allow us to create an empty `VectorStoreIndex` which we will be able to add nodes to later!"
   ]
  },
  {
   "cell_type": "code",
   "execution_count": null,
   "metadata": {
    "colab": {
     "base_uri": "https://localhost:8080/"
    },
    "id": "lZ5xilm1SV_-",
    "outputId": "10fe2ebc-3022-4742-92f7-b5eb7d281bcc"
   },
   "outputs": [
    {
     "name": "stderr",
     "output_type": "stream",
     "text": [
      "<<<<<<< local\n"
     ]
    },
    {
     "name": "stderr",
     "output_type": "stream",
     "text": [
      "wandb: Logged trace tree to W&B.\n"
     ]
    },
    {
     "name": "stderr",
     "output_type": "stream",
     "text": [
      "=======\n"
     ]
    },
    {
     "name": "stderr",
     "output_type": "stream",
     "text": [
      "\u001b[34m\u001b[1mwandb\u001b[0m: Logged trace tree to W&B.\n"
     ]
    },
    {
     "name": "stderr",
     "output_type": "stream",
     "text": [
      ">>>>>>> remote\n"
     ]
    }
   ],
   "source": [
    "from llama_index.core import VectorStoreIndex\n",
    "from llama_index.core import StorageContext\n",
    "\n",
    "vector_store = QdrantVectorStore(client=client, collection_name=\"movie_wikis\")\n",
    "\n",
    "storage_context = StorageContext.from_defaults(vector_store=vector_store)\n",
    "\n",
    "index = VectorStoreIndex.from_documents(\n",
    "    [],\n",
    "    storage_context=storage_context,\n",
    ")"
   ]
  },
  {
   "cell_type": "markdown",
   "metadata": {
    "id": "6qtzVDelSV_-"
   },
   "source": [
    "### Node Construction\n",
    "\n",
    "Now we will loop through our documents and metadata and construct nodes.\n",
    "\n",
    "We'll make sure to explicitly associate our nodes with their respective movie so we can filter by the movie title in the upcoming cells.\n",
    "\n",
    "You might be thinking to yourself - wait, we never indicated which embedding model this should use - but remember"
   ]
  },
  {
   "cell_type": "code",
   "execution_count": null,
   "metadata": {
    "colab": {
     "base_uri": "https://localhost:8080/"
    },
    "id": "LP4INgSGSV_-",
    "outputId": "63922a24-1c10-47cc-9b1d-f0982066f8fd"
   },
   "outputs": [
    {
     "name": "stderr",
     "output_type": "stream",
     "text": [
      "<<<<<<< local\n"
     ]
    },
    {
     "name": "stdout",
     "output_type": "stream",
     "text": [
      "INFO:httpx:HTTP Request: POST https://api.openai.com/v1/embeddings \"HTTP/1.1 200 OK\"\n",
      "HTTP Request: POST https://api.openai.com/v1/embeddings \"HTTP/1.1 200 OK\"\n"
     ]
    },
    {
     "name": "stderr",
     "output_type": "stream",
     "text": [
      "wandb: Logged trace tree to W&B.\n"
     ]
    },
    {
     "name": "stdout",
     "output_type": "stream",
     "text": [
      "INFO:httpx:HTTP Request: POST https://api.openai.com/v1/embeddings \"HTTP/1.1 200 OK\"\n",
      "HTTP Request: POST https://api.openai.com/v1/embeddings \"HTTP/1.1 200 OK\"\n"
     ]
    },
    {
     "name": "stderr",
     "output_type": "stream",
     "text": [
      "wandb: Logged trace tree to W&B.\n"
     ]
    },
    {
     "name": "stdout",
     "output_type": "stream",
     "text": [
      "INFO:httpx:HTTP Request: POST https://api.openai.com/v1/embeddings \"HTTP/1.1 200 OK\"\n",
      "HTTP Request: POST https://api.openai.com/v1/embeddings \"HTTP/1.1 200 OK\"\n"
     ]
    },
    {
     "name": "stderr",
     "output_type": "stream",
     "text": [
      "wandb: Logged trace tree to W&B.\n"
     ]
    },
    {
     "name": "stderr",
     "output_type": "stream",
     "text": [
      "=======\n"
     ]
    },
    {
     "name": "stderr",
     "output_type": "stream",
     "text": [
      "\u001b[34m\u001b[1mwandb\u001b[0m: Logged trace tree to W&B.\n",
      "\u001b[34m\u001b[1mwandb\u001b[0m: Logged trace tree to W&B.\n",
      "\u001b[34m\u001b[1mwandb\u001b[0m: Logged trace tree to W&B.\n",
      "\u001b[34m\u001b[1mwandb\u001b[0m: Logged trace tree to W&B.\n"
     ]
    },
    {
     "name": "stderr",
     "output_type": "stream",
     "text": [
      ">>>>>>> remote\n"
     ]
    }
   ],
   "source": [
    "from llama_index.core import SimpleDirectoryReader\n",
    "from llama_index.core.ingestion import IngestionPipeline\n",
    "from llama_index.core.node_parser import TokenTextSplitter\n",
    "from llama_index.core.extractors import TitleExtractor\n",
    "\n",
    "pipeline = IngestionPipeline(transformations=[TokenTextSplitter()])\n",
    "\n",
    "for movie, wiki_doc in zip(movie_list, wiki_docs):\n",
    "  nodes = pipeline.run(documents=[wiki_doc])\n",
    "  for node in nodes:\n",
    "      node.metadata = {\"title\" : movie}\n",
    "  index.insert_nodes(nodes)"
   ]
  },
  {
   "cell_type": "markdown",
   "metadata": {
    "id": "biVzC-I4UAmB"
   },
   "source": [
    "#### ❓ Question #1:\n",
    "\n",
    "What `metadata` fields will the nodes in our index have?\n",
    "\n",
    "> You will need to write code to find this information"
   ]
  },
  {
   "cell_type": "markdown",
   "metadata": {},
   "source": [
    "#### Answer #1:\n",
    "\n",
    "The nodes in the index have metadata with:\n",
    "- `title`: The title of the Wikipedia page"
   ]
  },
  {
   "cell_type": "code",
   "execution_count": 34,
   "metadata": {
    "id": "mt1lhxEnUKxO"
   },
   "outputs": [
    {
     "data": {
      "text/plain": [
       "[TextNode(id_='017530d6-c511-40f4-bcbf-955572f094a8', embedding=None, metadata={'title': 'Dune (2021 film)'}, excluded_embed_metadata_keys=[], excluded_llm_metadata_keys=[], relationships={<NodeRelationship.SOURCE: '1'>: RelatedNodeInfo(node_id='52659577', node_type=<ObjectType.DOCUMENT: '4'>, metadata={}, hash='30576c4b0d2c665aacf99fca36da60c7a55b87e5abd30680640ce53ab573cb2e'), <NodeRelationship.PREVIOUS: '2'>: RelatedNodeInfo(node_id='3e3cbc7b-1918-4833-8cac-669e31cd1ce9', node_type=<ObjectType.TEXT: '1'>, metadata={}, hash='de0120a18a0b5f62d7096302fb0345f5b275c61deb082e7f6d66bd249ce3ea49'), <NodeRelationship.NEXT: '3'>: RelatedNodeInfo(node_id='916b53a3-18e7-49a8-a106-db9c866f6152', node_type=<ObjectType.TEXT: '1'>, metadata={}, hash='0da21008b2fa8077a2f3a38931473bdb8145963d3afcdd3dd95eff2105007bbe')}, text='it. Following its premiere at the Venice Film Festival in September 2021, early reception was generally positive, receiving praise for its ambition, story, scope, worldbuilding, performances (particularly those of Chalamet and Ferguson) and production values, although some critics considered the story to be incomplete and dull. Its writing and scope continued to be praised following its release, while others criticized the runtime, pacing, and adaptation of the source material.\\nBen Travis of Empire, Robbie Collin from The Daily Telegraph, and Xan Brooks at The Guardian rated the film five out of five stars. Travis praised the writing and direction, feeling it helped properly establish elements of worldbuilding. He also lauded Fraser\\'s cinematography and Zimmer\\'s score, calling the film \"blockbuster filmmaking in the Christopher Nolan mould\", and praising Chalamet and Ferguson\\'s performances. However, he felt that the \"emotional strings\" did not work as well. Brooks agreed with the sentiment that it was a high-quality blockbuster film and found it \"the missing link bridging the multiplex and the arthouse\", citing the worldbuilding, ensemble cast, and set pieces as positive elements. Collins also praised the writing and Chalamet and Ferguson\\'s performances, feeling the exposition was written well. However, he highlighted the production design and the sandworms, calling the latter \"threateningly alien, but also enticing, even addictive\" and commenting \"the sets ring with the desolate grandeur of ancient ruins\".\\nIn a positive yet more critical review, Justin Chang of the Los Angeles Times felt the film used thematic elements from the novel well, and also lauded the production values albeit labelling the visual aesthetic as monochromatic. Chang further went on to praise the plot for increasing the role of women in the story and tension regarding anticipation of action sequences, which he thought were directed well. However, he disliked the \"abrupt, unsatisfying\" ending and wanted Villeneuve\\'s style to align with David Lynch\\'s style, which he considered to contain \"feverish, pustular imagery\".  Leah Greenblatt of Entertainment Weekly, who graded the film a B, wrote that Dune had little exposition and also appreciated the worldbuilding and visual aesthetic. However, she did not appreciate the jokes and felt the script gradually adjusted \"and soon settles into a kind of grim grandeur\", highlighting Chalamet and Isaac\\'s performances. The New York Times\\'s Manohla Dargis also admired the production values and worldbuilding, adding the exposition and pacing was appropriate to establish the latter. However, while she felt Villeneuve had attempted to be faithful to the source material, she also opined that Villeneuve was trying to satisfy the demands of the contemporary film industry. Her major issues were also with the ending and what she deemed to be a \"white man leading a fateful charge\", though she refrained from labelling it a white savior narrative.\\nCritic Owen Gleiberman\\'s review in Variety was more negative: he appreciated the film\\'s extensive focus on worldbuilding, but felt it had also undermined the storytelling. He found the title of \"Dune Part I [sic]\" to be \"presumptuous\", regarding it to be analogous to how other film franchises advertise future installments. Gleiberman felt the film\\'s spectacles, including the sandworm and ornithopter sequences, disengage him from the story, saying \"as the movie begins to run out of tricks, it turns woozy and amorphous\". Reviewing the film for TheWrap, Steve Pond noted the film\\'s darker tone had remained consistent, and cited the production design and scope as positive elements. Pond enjoyed the action sequences on Arrakis and appreciated that Villeneuve \"finds some dark poetry in the way he plays up the story\\'s mystical elements\". However, he was mixed on the film\\'s dark tone, regarding it as a tonal deviation from his previous films but also allowing it to be \"giant mood piece that can be exhilarating in its dark beauty\". Roxana Hadadi\\'s review in Vulture critiqued the way the film flattened the cultural and religious complexities of the book and opted for a more generic portrayal of people of color without specific representation from Middle Eastern or North African (MENA) actors.\\nOther commentators and academics also perceived the film to have neglected and appropriated Arabian and Islamic elements which influenced Dune, and to have excluded MENA actors. Serena Rasoul, founder of Muslim Casting, wanted more MENA representation and labelled the lack of MENA actors an \"erasure\". However, she also acknowledged the cast\\'s overall diversity and did not call the film Orientalist. On the other hand, Ph.D. student in History at Princeton University Haris Durrari deemed it to be Orientalist as he opined it reduced Arab influences to \"exotic aesthetics\" and \"broad abstractions\". Meanwhile, Ali Karjoo-Ravary, an Assistant Professor of Islamic Studies at Bucknell University, felt that the casting of African actors', mimetype='text/plain', start_char_idx=50183, end_char_idx=55218, text_template='{metadata_str}\\n\\n{content}', metadata_template='{key}: {value}', metadata_seperator='\\n'),\n",
       " TextNode(id_='0385ae51-817f-4ab8-baf9-6911403529c6', embedding=None, metadata={'title': 'The Lord of the Rings: The Fellowship of the Ring'}, excluded_embed_metadata_keys=[], excluded_llm_metadata_keys=[], relationships={<NodeRelationship.SOURCE: '1'>: RelatedNodeInfo(node_id='173941', node_type=<ObjectType.DOCUMENT: '4'>, metadata={}, hash='b9fc61721f6f9f8b6a26a43172b1c6279a43e000097b6c6ec5072cf0f9230d69'), <NodeRelationship.NEXT: '3'>: RelatedNodeInfo(node_id='69f01ec9-f762-456f-8a02-14c34ea74aee', node_type=<ObjectType.TEXT: '1'>, metadata={}, hash='22dff060572e53484f43f612f2d883373122d9abc89f2a54d23b0be82318fd60')}, text='The Lord of the Rings: The Fellowship of the Ring is a 2001 epic fantasy adventure film directed by Peter Jackson from a screenplay by Fran Walsh, Philippa Boyens, and Jackson, based on 1954\\'s The Fellowship of the Ring, the first volume of the novel The Lord of the Rings by J. R. R. Tolkien. The film is the first installment in The Lord of the Rings trilogy. It features an ensemble cast including Elijah Wood, Ian McKellen, Liv Tyler, Viggo Mortensen, Sean Astin, Cate Blanchett, John Rhys-Davies, Billy Boyd, Dominic Monaghan, Orlando Bloom, Christopher Lee, Hugo Weaving, Sean Bean, Ian Holm, and Andy Serkis.\\nSet in Middle-earth, the story tells of the Dark Lord Sauron, who seeks the One Ring, which contains part of his might, to return to power. The Ring has found its way to the young hobbit Frodo Baggins. The fate of Middle-earth hangs in the balance as Frodo and eight companions (who form the Fellowship of the Ring) begin their perilous journey to Mount Doom in the land of Mordor, the only place where the Ring can be destroyed. The Fellowship of the Ring was financed and distributed by American studio New Line Cinema, but filmed and edited entirely in Jackson\\'s native New Zealand, concurrently with the other two parts of the trilogy.\\nIt premiered on 10 December 2001 at the Odeon Leicester Square in London, and was then released on 19 December in the United States and on 20 December in New Zealand. The film was acclaimed by critics and fans alike, who considered it to be a landmark in filmmaking and an achievement in the fantasy film genre. It received praise for its visual effects, performances, Jackson\\'s direction, screenplay, musical score, and faithfulness to the source material. It grossed over $868 million worldwide during its original theatrical run, making it the second highest-grossing film of 2001 and the fifth highest-grossing film of all time at the time of its release. Following subsequent reissues, it has grossed over $887 million. Like its successors, The Fellowship of the Ring is widely recognised as one of the greatest and most influential films ever made. The film received numerous accolades; at the 74th Academy Awards, it was nominated for thirteen awards, including Best Picture, winning for Best Cinematography, Best Makeup, Best Original Score, and Best Visual Effects.\\nIn 2007, the American Film Institute named it one of the 100 greatest American films in history, being both the most recent film and the only film released in the 21st century to make it to the list. In 2021, the film was selected for preservation in the United States National Film Registry by the Library of Congress for being \"culturally, historically, or aesthetically significant\". Two sequels, The Two Towers and The Return of the King, followed in 2002 and 2003, respectively.\\n\\n\\n== Plot ==\\nIn the Second Age of Middle-earth, the lords of Elves, Dwarves, and Men are given Rings of Power. Unbeknownst to them, the Dark Lord Sauron forges the One Ring in Mount Doom, instilling into it a great part of his power, to dominate the other Rings and conquer Middle-earth. A final alliance of Men and Elves battles Sauron\\'s forces in Mordor. Isildur of Gondor severs Sauron\\'s finger and the Ring with it, thereby vanquishing Sauron and returning him to spirit form. With Sauron\\'s first defeat, the Third Age of Middle-earth begins. The Ring\\'s influence corrupts Isildur, who takes it for himself and is later killed by Orcs. The Ring is lost in a river for 2,500 years until it is found by Gollum, who owns it for over four and a half centuries. The Ring abandons Gollum and it is subsequently found by a hobbit named Bilbo Baggins, who is unaware of its history.\\nSixty years later, Bilbo celebrates his 111th birthday in the Shire, reuniting with his old friend, the wizard Gandalf the Grey. Bilbo departs the Shire for one last adventure, and he leaves his inheritance, including the Ring, to his nephew Frodo. Gandalf investigates the Ring, discovers its true nature, and learns that Gollum was captured and tortured by Sauron\\'s Orcs, revealing two words during his interrogation: \"Shire\" and \"Baggins.\" Gandalf returns and warns Frodo to leave the Shire. As Frodo departs with his friend, gardener Samwise Gamgee, Gandalf rides to Isengard to meet with the wizard Saruman, but discovers his betrayal and alliance with Sauron, who has dispatched his nine undead Nazgûl', mimetype='text/plain', start_char_idx=0, end_char_idx=4401, text_template='{metadata_str}\\n\\n{content}', metadata_template='{key}: {value}', metadata_seperator='\\n'),\n",
       " TextNode(id_='100a3fd0-8e42-4a50-a578-6af16206ac3f', embedding=None, metadata={'title': 'The Lord of the Rings: The Fellowship of the Ring'}, excluded_embed_metadata_keys=[], excluded_llm_metadata_keys=[], relationships={<NodeRelationship.SOURCE: '1'>: RelatedNodeInfo(node_id='173941', node_type=<ObjectType.DOCUMENT: '4'>, metadata={}, hash='b9fc61721f6f9f8b6a26a43172b1c6279a43e000097b6c6ec5072cf0f9230d69'), <NodeRelationship.PREVIOUS: '2'>: RelatedNodeInfo(node_id='7d876e48-72c0-411f-a535-b585ad8c2482', node_type=<ObjectType.TEXT: '1'>, metadata={}, hash='65827d5d1ec5a58c5eb54334d8a508164a9f44dd6c630bbe35cb4cd445ef45af'), <NodeRelationship.NEXT: '3'>: RelatedNodeInfo(node_id='f9b64fdb-9af5-4ad5-8308-331e2ce5760f', node_type=<ObjectType.TEXT: '1'>, metadata={}, hash='14a4cb71b88abc56c4f88887c12be0b66519b612115fa5129b31a776a0138471')}, text='Zealand Symphony Orchestra, the London Philharmonic Orchestra, the London Voices, The London Oratory School Schola, and the Maori Samoan Choir, and featured several vocal soloists. Shore wrote almost four hours of finalized music for the film (of which just over three hours are used as underscore), featuring a number of non-orchestral instruments, and a large number (49–62) of leitmotives.\\nTwo original songs, \"Aníron\" and the end title theme \"May It Be\", were composed and sung by Enya, who allowed her label, Reprise Records, to release the soundtrack to The Fellowship of the Ring and its two sequels. In addition to these, Shore composed \"In Dreams\", which was sung by Edward Ross of the London Oratory School Schola.\\n\\n\\n== Release ==\\n\\n\\n=== Theatrical ===\\nThe world premiere of The Fellowship of the Ring was held at the Odeon Leicester Square in London on 10 December 2001. It was released on Wednesday, 19 December 2001 internationally in most major territories on 10,000 screens. It opened in New Zealand on 20 December.\\n\\n\\n=== Marketing ===\\nA special featurette trailer was released in 2000. The trilogy sizzle reel was shown before Thirteen Days and the teaser trailer before Pearl Harbor. The theatrical trailer was attached with the television premiere of Angel and before Harry Potter and the Philosopher\\'s Stone. Both trailers appeared as Easter eggs on the Rush Hour 2 and Little Nicky home video releases.\\n\\n\\n=== Home media ===\\n\\n\\n==== Theatrical version ====\\nThe theatrical version of The Fellowship of the Ring was released on VHS and DVD on 6 August 2002. It was the best-selling DVD release at the time with 14.5 million copies being sold. This record was dethroned by Finding Nemo the following year.\\nThe Blu-ray edition of the theatrical The Lord of the Rings trilogy was released in the United States on 6 April 2010. There were two separate sets: one with digital copies and one without. The individual Blu-ray disc of The Fellowship of the Ring was released on 14 September 2010 with the same special features as the complete trilogy release, except there was no digital copy.\\n\\n\\n==== Extended version ====\\nOn 12 November 2002, an extended edition was released on VHS and DVD, with 30 minutes of new material, added special effects and music, plus 19 minutes of fan-club credits, totalling 228 minutes. The DVD set included four commentaries and over three hours of supplementary material.\\nOn 29 August 2006, a limited edition of The Fellowship of the Ring was released on DVD. The set included both the film\\'s theatrical and extended editions on a double-sided disc along with all-new bonus material.\\nThe extended Blu-ray editions were released in the US on 28 June 2011. This version has a runtime of 238 minutes, with the Blu-ray\\'s additional 10 minutes resulting from lengthier rolls of the fan club members updated at the time of the release, not any additional story material.\\nThe Fellowship of the Ring was released in Ultra HD Blu-ray on 30 November 2020 in the United Kingdom and on 1 December 2020 in the United States, along with the other films of the trilogy, including both the theatrical and the extended editions of the films.\\n\\n\\n== Reception ==\\n\\n\\n=== Box office ===\\nOn its opening day, The Fellowship of the Ring grossed $18.2 million in the United States and Canada from 3,359 cinemas and $11.5 million in 13 countries, including $3 million from 466 screens in the United Kingdom. It grossed $75.1 million in its first five days in the United States and Canada, including $47.2 million on its opening weekend, placing it at number one at the US box office, setting a December opening record, beating Ocean\\'s Eleven.\\nThe film also opened at number one in 29 international markets and remained there for a second week in all but the Netherlands. It set a record opening day gross in Australia with $2.09 million from 405 screens, beating the record $1.3 million set by Star Wars: Episode I – The Phantom Menace. It had a record opening weekend in Germany with 1.5 million admissions and in Spain with a gross of $5.3 million from 395 screens. It also grossed a record $2.5 million in 15 days in New Zealand. This record would last for less than a decade before being surpassed by Avatar. In its first 15 days, it had grossed $183.5 million internationally and $178.7 million in the United States and Canada for a worldwide total of $362.2 million.\\nIn its initial release, it went on to gross $319.2 million in the United States and Canada and $567.3 million in the rest of the world for a worldwide total of', mimetype='text/plain', start_char_idx=21787, end_char_idx=26331, text_template='{metadata_str}\\n\\n{content}', metadata_template='{key}: {value}', metadata_seperator='\\n'),\n",
       " TextNode(id_='149633d0-34bf-4b44-bbcb-b18a9ea1446e', embedding=None, metadata={'title': 'Dune (2021 film)'}, excluded_embed_metadata_keys=[], excluded_llm_metadata_keys=[], relationships={<NodeRelationship.SOURCE: '1'>: RelatedNodeInfo(node_id='52659577', node_type=<ObjectType.DOCUMENT: '4'>, metadata={}, hash='30576c4b0d2c665aacf99fca36da60c7a55b87e5abd30680640ce53ab573cb2e'), <NodeRelationship.NEXT: '3'>: RelatedNodeInfo(node_id='3dac1cf0-e5d9-45b6-8c84-8ff7c4231462', node_type=<ObjectType.TEXT: '1'>, metadata={}, hash='9a8708909ad6d6377a18c5d829f8663ee0c5559554c10af1c3bfdc75f2c884b8')}, text='Dune (titled onscreen as Dune: Part One) is a 2021 American epic science fiction film directed and co-produced by Denis Villeneuve, who co-wrote the screenplay with Jon Spaihts, and Eric Roth. It is the first of a two-part adaptation of the 1965 novel of the same name by Frank Herbert. Set in the distant future, the film follows Paul Atreides as his family, the noble House Atreides, is thrust into a war for the deadly and inhospitable desert planet Arrakis. The ensemble cast includes Timothée Chalamet, Rebecca Ferguson, Oscar Isaac, Josh Brolin, Stellan Skarsgård, Dave Bautista, Stephen McKinley Henderson, Zendaya, Chang Chen, Sharon Duncan-Brewster, Charlotte Rampling, Jason Momoa, and Javier Bardem.\\nThe film is the third adaptation of Dune, following David Lynch\\'s 1984 film and John Harrison\\'s 2000 television miniseries. After an unsuccessful attempt by Paramount Pictures to produce a new adaptation, Legendary Pictures acquired the Dune film and television rights in 2016, with Villeneuve signing on as director in February 2017. Production contracts were secured only for the first film, relying on its success before a sequel would be produced. Principal photography took place from March to July 2019 at locations including Budapest, Jordan, Norway, and Abu Dhabi.\\nDune was scheduled for a late 2020 release but was delayed due to the COVID-19 pandemic. The film premiered at the 78th Venice International Film Festival on September 3, 2021, before its international release on September 15, 2021; it was then released in United States theaters and streaming on HBO Max on October 22, 2021. Dune was a box office success, grossing over $407 million on a $165 million budget. It was well received by critics and audiences with praise for Villeneuve\\'s direction, screenplay, production values, Hans Zimmer\\'s musical score, cinematography, and retaining core elements from the source material. The film won six awards at the 94th Academy Awards and was nominated in four other categories; it received numerous other accolades. A sequel, Dune: Part Two, was released on March 1, 2024.\\n\\n\\n== Plot ==\\nIn the distant future, Duke Leto Atreides, ruler of the planet Caladan, is assigned by the Padishah Emperor Shaddam IV to replace Baron Vladimir Harkonnen as the fiefholder of Arrakis, a harsh desert planet and the sole source of \"spice\", a valuable psychotropic substance that imparts heightened vitality and awareness. Spice is also key to interstellar travel, giving Spacing Guild Navigators the ability to guide starships to traverse space instantaneously and safely. Emperor Shaddam, fearful of Leto\\'s rising power, plots for House Harkonnen to retake Arrakis, secretly aided by his Sardaukar troops, and destroy House Atreides. Leto is suspicious of the Emperor but weighs the risks against the power of controlling Arrakis and making an alliance with its mysterious natives, the Fremen.\\nLeto\\'s concubine, Lady Jessica, is an acolyte of the Bene Gesserit—an exclusive sisterhood whose members possess advanced physical and mental abilities. As part of a centuries-long breeding program, they instructed her to bear a daughter whose son would become the Kwisatz Haderach—a Bene Gesserit and messianic superbeing with the clairvoyance necessary to guide humanity to a better future. Jessica disobeyed and bore a son, Paul, who is trained by Leto\\'s aides, Duncan Idaho, Gurney Halleck, the Suk doctor Wellington Yueh, and the Mentat Thufir Hawat; she teaches him Bene Gesserit disciplines. Paul confides in Jessica and Duncan about troubling visions of the future. The Reverend Mother and Imperial Truthsayer Gaius Helen Mohiam visits Caladan and subjects him to a deadly Gom Jabbar test to assess his humanity and impulse control, which he passes. \\nHouse Atreides arrives at Arrakeen, the principal stronghold on Arrakis. Duncan\\'s advance party has made contact with the Fremen. The natives revere Paul and Jessica, which she explains is due to the Bene Gesserit sowing beliefs on Arrakis centuries earlier. An attempt to assassinate Paul with a hunter-seeker fails. At a secret meeting on Giedi Prime, Mohiam insists Baron Harkonnen spare Paul and Jessica in his coup, to which he duplicitously agrees. \\nLeto meets and negotiates with Fremen chieftain Stilgar and meets the Imperial Judge of the Change, Dr. Kynes, a planetologist who lives among the Fremen. Kynes briefs them on the dangers of spice harvesting, and the giant', mimetype='text/plain', start_char_idx=0, end_char_idx=4444, text_template='{metadata_str}\\n\\n{content}', metadata_template='{key}: {value}', metadata_seperator='\\n'),\n",
       " TextNode(id_='2646d216-577e-4d88-b70c-036e38ff5485', embedding=None, metadata={'title': 'Dune: Part Two'}, excluded_embed_metadata_keys=[], excluded_llm_metadata_keys=[], relationships={<NodeRelationship.SOURCE: '1'>: RelatedNodeInfo(node_id='63790171', node_type=<ObjectType.DOCUMENT: '4'>, metadata={}, hash='34723c64e6eadc20fcd8756e30d24cd5226467ce3542787af64c46906ce73cb6'), <NodeRelationship.PREVIOUS: '2'>: RelatedNodeInfo(node_id='d2bbcba0-b481-4d16-a7ea-4b37f899dddb', node_type=<ObjectType.TEXT: '1'>, metadata={}, hash='6bd59636716e9e26857692fbf7a863b64217bdb8cdc5620a8549ddc4119d4442'), <NodeRelationship.NEXT: '3'>: RelatedNodeInfo(node_id='2be783bc-f990-49b7-8233-faeef91b3819', node_type=<ObjectType.TEXT: '1'>, metadata={}, hash='24ae65ee73e1889c087a1993ef39bb344e6399690e5f09ffa0d3159f6656627f')}, text='for the company stating, \"We would not have gotten to this point without the extraordinary vision of Denis and the amazing work of his talented crew, the writers, our stellar cast, our partners at Warner Bros., and of course the fans! Here\\'s to more Dune.\" Production work had occurred back-to-back with the first film, as Villeneuve and his wife Lapointe immediately took a flight to Budapest in order to begin pre-production work. A key point of negotiation prior to greenlighting the sequel was assuring that the sequel would have an exclusive window where it would only be shown theatrically, with Legendary and Warner Bros. agreeing to give Dune: Part Two a 45-day window before it would be available through other channels. Villeneuve said this theatrical exclusivity was a \"non-negotiable condition\", and that \"the theatrical experience is at the very heart of the cinematic language for me\". With Dune: Part Two being greenlit, Villeneuve said that his primary concern was to complete the filming as soon as possible, with the earliest he expected to start in the last quarter of 2022. He noted that production would be expedited by the work already done for the first film.\\n\\n\\n=== Writing ===\\n\\nEric Roth was hired to co-write the screenplay in April 2017 for the Dune films, and Jon Spaihts was later confirmed to be co-writing the script alongside Roth and Villeneuve. Game of Thrones language creator David Peterson was confirmed to be developing languages for the film in April 2019. Villeneuve and Peterson had created the Chakobsa language, which was used by actors on set. In November 2019, Spaihts stepped down as show-runner for Dune: Prophecy to focus on Dune: Part Two. In June 2020, Greig Fraser said, \"It\\'s a fully formed story in itself with places to go. It\\'s a fully standalone epic film that people will get a lot out of when they see it\".\\nBetween the release of Dune and the confirmation of Dune: Part Two, Villeneuve started working the script in a way that production could begin immediately once the film was greenlit. By February 2021, Roth created a full treatment for the sequel, with writing beginning that August. He confirmed that Feyd-Rautha would appear in the film, and stated he will be a \"very important character\". In March 2022, Villeneuve had mostly finished writing the screenplay. Craig Mazin and Roth wrote additional literary material for the film.\\nVilleneuve stated that the film would continue directly from the first, and specifically described it as being the \"second part\". He described the film as being an \"epic war movie\", adding that while the first film was more \"contemplative\", the second would feature more action. Villeneuve sought to anchor the movie to the characters, primarily Paul and Chani. With the two featured in an \"epic love story\" between them, Villeneuve described them as the \"epicenter of the story\". Zendaya initially found difficulty in creating dialogue, commenting that \"It was funny trying to figure out in this futuristic space talk, like, how do they flirt?\" Chalamet also added that Paul would be heavily influenced by Chani, serving as his \"moral compass\". Paul becomes deeply embedded in Fremen culture, developing a closer bond with Stilgar, who becomes his surrogate father figure and mentor, while tensions emerge between Chani and Lady Jessica, as Chani is aware that Jessica\\'s schemes negatively impact the Fremen.\\nThe script ultimately conveys Chani as a nonbeliever of the prophecy and intended for its structure to first convey their romantic relationship from Paul\\'s perspective, and eventually pivot to Chani\\'s perspective as the audience realizes Paul\\'s desire for power and insidious nature. He focused on Herbert\\'s original intention to depict Paul as an antihero in Dune, on his way to becoming a villain, and wrote the script with that in mind while also considering his future plans regarding Dune Messiah, particularly by modifying Chani\\'s characterization as he felt that she eventually \"disappeared in Paul\\'s shadows\" in the book. Feeling he had the \"benefit of time\" in doing so, Villeneuve decided to use all the elements of Paul\\'s character arc and \"play them a bit differently\" in order to establish his eventual transformation into a villainous figure and becoming \"what he was trying to fight against\". He expanded the role of Chani and Lady Jessica from the novel, and interpreted Chani as being a critique of power.\\nWhen envisioning the sandworm sequence, Villeneuve primarily relied upon his own drawings and storyboards, as he felt the book did not contain adequate descriptions. He later cited it as being one of his favorite scenes in the film. When writing Paul\\'s character arc, he considered Paul as transforming from a \"humble\" figure to a \"dark messianic', mimetype='text/plain', start_char_idx=8757, end_char_idx=13531, text_template='{metadata_str}\\n\\n{content}', metadata_template='{key}: {value}', metadata_seperator='\\n'),\n",
       " TextNode(id_='29efdcdd-2fe8-4117-a202-0a44a1461d66', embedding=None, metadata={'title': 'Dune (2021 film)'}, excluded_embed_metadata_keys=[], excluded_llm_metadata_keys=[], relationships={<NodeRelationship.SOURCE: '1'>: RelatedNodeInfo(node_id='52659577', node_type=<ObjectType.DOCUMENT: '4'>, metadata={}, hash='30576c4b0d2c665aacf99fca36da60c7a55b87e5abd30680640ce53ab573cb2e'), <NodeRelationship.PREVIOUS: '2'>: RelatedNodeInfo(node_id='3dac1cf0-e5d9-45b6-8c84-8ff7c4231462', node_type=<ObjectType.TEXT: '1'>, metadata={}, hash='9a8708909ad6d6377a18c5d829f8663ee0c5559554c10af1c3bfdc75f2c884b8'), <NodeRelationship.NEXT: '3'>: RelatedNodeInfo(node_id='5a06944b-73ba-4055-9765-8e142d013bb2', node_type=<ObjectType.TEXT: '1'>, metadata={}, hash='be8ddf269928bf631d439c1bfbad4627c94b62d2cd26730dd0d5d6437625c6f4')}, text='novel. Attempts to make an adaptation based on the book were considered to be \"unfilmable\" due to its breadth of content. The book\\'s status among fans meant that deviations without strong justification could potentially harm the film\\'s reputation.\\nAlejandro Jodorowsky acquired the rights in the 1970s to make a fourteen-hour adaptation of the book, but the project ultimately failed to secure sufficient funds. This development effort became the subject of the documentary film Jodorowsky\\'s Dune (2013). David Lynch\\'s Dune, produced by Raffaella De Laurentiis in 1984, was intended as a three-hour film but was cut to 137 minutes; it was poorly received and Lynch himself ended up disowning it. In 1996, producer Richard P. Rubinstein acquired the rights to the novel. Frank Herbert\\'s Dune, a live-action miniseries produced by Rubinstein and directed by John Harrison, aired on the Sci Fi Channel in 2000; it was a ratings hit and was generally better received than Lynch\\'s film. Some reviewers criticized the miniseries for lacking the spectacle afforded to a feature film production, as well as for staying too faithful to the book and being bogged down by exposition. Prospects to make a successful adaptation of Dune improved after the critical and commercial success of the film series adaptations of The Lord of the Rings and Harry Potter, both of which maintained most of the works\\' key characters and plots while managing the limited running time. In 2008, Paramount Pictures hired Peter Berg to direct an adaptation. Berg left the project in October 2009, with director Pierre Morel being hired in January 2010. Paramount later cancelled the project in March 2011, as they could not come to key agreements, with their rights reverting to Rubinstein.\\n\\n\\n=== Development ===\\n\\nIn 2011, Mary Parent, vice chair of worldwide production for Legendary Pictures, and her producer partner Cale Boyter, acquired adaptation rights for Dune. Legendary obtained film and TV rights for Dune in November 2016. Canadian filmmaker Denis Villeneuve expressed interest in the project in September 2016, saying that \"a longstanding dream of mine is to adapt Dune, but it\\'s a long process to get the rights, and I don\\'t think I will succeed\". By December, Villeneuve was in talks with the studio to direct the film. His enthusiasm to direct a Dune film earned Parent\\'s respect, with Parent hiring Villeneuve after hearing him describe his vision for the film. He chose to complete Arrival (2016) and Blade Runner 2049 (2017) first, as he wanted to spend more time to develop Dune and co-write it himself, employing his past experience directing science fiction films during development. Villeneuve signed on to direct the film by January 2017, approximately one week after earning a nomination Academy Award for Best Director for Arrival. By that February, Villeneuve was officially confirmed as the director.\\nSome of Villeneuve\\'s previous collaborators on Arrival and Blade Runner 2049 returned for Dune, including film editor Joe Walker, production designer Patrice Vermette, visual effects supervisor Paul Lambert, sound designer and editor Theo Green, sound editor Mark Mangini, and special effects supervisor Gerd Nefzer. Other previous collaborators were slated to work on Dune but dropped out before production began, including visual effects supervisor John Nelson and cinematographer Roger Deakins, who was replaced in December 2018 with Greig Fraser. Dune was produced by Villeneuve, Parent, and Cale Boyter, with Tanya Lapointe, Brian Herbert, Byron Merritt, Kim Herbert, Thomas Tull, Jon Spaihts, Richard P. Rubinstein, John Harrison, and Herbert W. Gain serving as executive producers and Kevin J. Anderson as creative consultant. Game of Thrones language creator David J. Peterson was confirmed as a constructed language developer for the film in April 2019.\\n\\n\\n=== Writing ===\\nIn March 2018, Villeneuve stated that his goal was to adapt the novel into a two-part film series. He secured a two-movie deal with Warner Bros. Pictures, in the same style as the two-part adaptation of Stephen King\\'s It in 2017 and in 2019. He chose to make two films as he felt that the novel was too large and complex for one. Subsequent dealings secured the production of the first film and new production deals were made to start production for the second. Eric Roth was hired to co-write the screenplay in April,  with Legendary CEO Joshua Grode affirming that the studio planned on making a sequel. Roth, who had read the book as a child, had a neutral opinion of it, which allowed him to have an \"objective view of it\". He wrote a 50-page treatment for the film and focused on appealing to groups of people who enjoyed the book, did not remember nor care for the book, and', mimetype='text/plain', start_char_idx=8511, end_char_idx=13271, text_template='{metadata_str}\\n\\n{content}', metadata_template='{key}: {value}', metadata_seperator='\\n'),\n",
       " TextNode(id_='2be783bc-f990-49b7-8233-faeef91b3819', embedding=None, metadata={'title': 'Dune: Part Two'}, excluded_embed_metadata_keys=[], excluded_llm_metadata_keys=[], relationships={<NodeRelationship.SOURCE: '1'>: RelatedNodeInfo(node_id='63790171', node_type=<ObjectType.DOCUMENT: '4'>, metadata={}, hash='34723c64e6eadc20fcd8756e30d24cd5226467ce3542787af64c46906ce73cb6'), <NodeRelationship.PREVIOUS: '2'>: RelatedNodeInfo(node_id='2646d216-577e-4d88-b70c-036e38ff5485', node_type=<ObjectType.TEXT: '1'>, metadata={}, hash='078b0961ffe922edfbc4bfbdd0dbd8f595a142fd2b10c11dbb7863dec7be2dc6'), <NodeRelationship.NEXT: '3'>: RelatedNodeInfo(node_id='b4697bf6-0c6f-4b65-935c-8cc36b5ad079', node_type=<ObjectType.TEXT: '1'>, metadata={}, hash='373699e16c1ac70d671857e41a864d47ad9619aa3fd02b2e471124ed25f4f8d2')}, text='he considered Paul as transforming from a \"humble\" figure to a \"dark messianic figure\", and took inspiration from Katsuhiro Otomo\\'s Akira (1988) when designing the storyboards. Villeneuve felt the film\\'s ending was more \"tragic\" than that of the book, feeling that it adequately resolved Paul\\'s storyline across the Dune films while setting up his character arc for a potential third film based on Dune Messiah (1969).\\nFollowing the first film, Baron Vladimir Harkonnen is described as being heavily debilitated and reliant upon being submerged in fluids, while focusing on choosing an heir: Glossu \"Beast\" Rabban or Feyd-Rautha, both his nephews. Rabban was regarded as being a bad strategist, while Feyd-Rautha is shown to be clever, cunning, and charismatic. Actor Austin Butler felt Feyd-Rautha\\'s character served as \"flip sides of the same coin\" to Paul, as both had been involved in the Bene Gesserit\\'s genetic breeding program. Butler opined that Feyd-Rautha\\'s upbringing on Giedi Prime and self-care for his body explained his arrogance. Meanwhile, Villeneuve noted his psychopathic personality and brutality similar to that of an animal, contrasted with his \"code of honors\" and reverence for fighters.\\nLady Jessica is heavily traumatized by the death of Duke Leto, being compared to Paul as a \"survivor\" and strategizing to realize the ambitions of the Bene Gesserit, who aim to fulfill their prophecy to maximize human potential, disregarding morality and ethics. There is additional focus on the political aspect, with Princess Irulan fearing that her father, Emperor Shaddam IV, will lose his throne due to his loss of influence over warring factions. During the sequence of Paul\\'s consumption of the Water of Life, Villeneuve deliberately altered the timeframe to depict an adult Alia for a dramatic effect, and to highlight Alia\\'s unique birth. He and Spaihts decided to \"compress\" the time for both the sequence and Lady Jessica\\'s pregnancy in order to establish more narrative tension. He added that Lady Jessica\\'s conversations with an embryonic Alia was unique, as he felt it was \"fresh and original to have a character who is powerful and still a pregnant woman\" while also conveying how others perceive Alia as an \"abomination\". Like Chani and Lady Jessica, Villeneuve further developed Princess Irulan\\'s character and motivations from the novel, with actress Florence Pugh noting her reserved nature and intelligence.\\n\\n\\n=== Casting ===\\n\\nIn March 2022, Pugh and Butler were reported to be in talks to star in the film as Princess Irulan and Harkonnen heir Feyd-Rautha, respectively. Butler was offered the role while having coffee with Villeneuve, without needing to audition. He trained for four months in Budapest, using a fitness regimen made by an ex-Navy SEALs member. Villeneuve described his performance as being a \"cross between a psychopath killer, an Olympic sword master, a snake, and Mick Jagger\" while Butler researched past cultures he felt \"bred brutality\" and took inspiration from various animals including sharks and snakes.\\nButler said that he drew inspiration from Gary Oldman and Heath Ledger for his performance. He imitated Skarsgård\\'s voice as the Baron, as he felt that Feyd would be influenced by the Baron due to growing up with him. In May, Christopher Walken joined the cast as Shaddam IV. In June, Léa Seydoux entered negotiations to join the cast as Lady Margot Fenring. In July, Souheila Yacoub joined the cast as Shishakli.\\nIn January 2023, Tim Blake Nelson was added to the cast in an undisclosed role. Attending the film\\'s London premiere in February 2024, Anya Taylor-Joy confirmed that she had been cast in the film. Villeneuve was surprised that her role had been kept a secret for that long, noting it required \"so much work to keep that secret\". Her role had been revealed in a casting credit list for the film on Letterboxd.\\n\\n\\n=== Filming ===\\nPre-shooting began on July 4, 2022, at the Brion tomb in Altivole, Italy for two days. Principal photography was set to begin on July 21 in Budapest, Hungary, but began earlier on July 18. The film was entirely shot using Arri Alexa LF digital cameras, with new filming locations and sets being used \"to avoid repetition\". In October 2022, Chalamet took a break from filming in order to attend the premiere of Bones and All (2022). The production team managed to shoot during the partial solar eclipse of October 25, and used the footage for the opening fight scene between Harkonnen and Fremen soldiers.\\nIn November, production moved to Abu Dhabi, with Pugh finishing her scenes in', mimetype='text/plain', start_char_idx=13453, end_char_idx=18040, text_template='{metadata_str}\\n\\n{content}', metadata_template='{key}: {value}', metadata_seperator='\\n'),\n",
       " TextNode(id_='2bf9f823-440c-427b-b8ce-edb142b403fe', embedding=None, metadata={'title': 'Dune (2021 film)'}, excluded_embed_metadata_keys=[], excluded_llm_metadata_keys=[], relationships={<NodeRelationship.SOURCE: '1'>: RelatedNodeInfo(node_id='52659577', node_type=<ObjectType.DOCUMENT: '4'>, metadata={}, hash='30576c4b0d2c665aacf99fca36da60c7a55b87e5abd30680640ce53ab573cb2e'), <NodeRelationship.PREVIOUS: '2'>: RelatedNodeInfo(node_id='ac023e08-3c1e-4b19-9682-8d083d3441d8', node_type=<ObjectType.TEXT: '1'>, metadata={}, hash='4b8c97529f06c3b7ea0a7654fd13582b3588babbbeb327d36b16e3b75f0862c2'), <NodeRelationship.NEXT: '3'>: RelatedNodeInfo(node_id='3e3cbc7b-1918-4833-8cac-669e31cd1ce9', node_type=<ObjectType.TEXT: '1'>, metadata={}, hash='de0120a18a0b5f62d7096302fb0345f5b275c61deb082e7f6d66bd249ce3ea49')}, text='figure of Baron Harkonnen was introduced at the same time. The action figures were released in December 2020.Legendary Comics announced Dune: The Official Movie Graphic Novel via Kickstarter and published the comic in December 2022 by writer Lilah Sturges and art by Drew Johnson.\\n\\n\\n== Release ==\\n\\n\\n=== Theatrical and streaming ===\\nDune was originally scheduled to be released on November 20, 2020, but was pushed back to December 18, 2020. The film was then delayed by the COVID-19 pandemic, this time to October 1, 2021, taking over the release date slot of The Batman, where it was theatrically released in 3D. In late June 2021, Warner Bros. delayed the film\\'s American release date again by three weeks to October 22, 2021, to avoid competition with No Time to Die. Over a month prior to its North American release, the film began its theatrical roll-out in most international markets, beginning on September 15 with France, Germany, Russia, Switzerland, Sweden, Norway, Spain and Belgium.  A week ahead of the United States release, Warner Bros. announced that the film\\'s availability on HBO Max would start on the evening of October 21, 2021, correlating with typical early Thursday theatrical showings for films released on Fridays (although the studio had not been doing early Thursday previews for most of the rest of their hybrid theatrical/HBO Max releases. The other exception being The Suicide Squad, which had the same strategy for its early Thursday previews/HBO Max release).\\nLike all 2021 Warner Bros. films, Dune was streamed simultaneously on HBO Max for a period of one month. The film was then removed from the service and followed the normal home media release schedule, similar to the process Warner Bros. used for Wonder Woman 1984 (2020). Many production companies and directors expressed dissatisfaction with the decision, including Villeneuve and Legendary Pictures. In a column published in Variety, Villeneuve expressed concerns about the film\\'s financial success and piracy.\\nDune had its world premiere at the 78th Venice International Film Festival on September 3, 2021. It also screened at the Toronto International Film Festival with an IMAX premiere screening at the Ontario Place Cinesphere on September 11, 2021. Jason Momoa tested positive for COVID-19 after attending the film\\'s London premiere on October 15, 2021. On October 17, the film was leaked online ahead of its planned US and HBO Max release. The film returned for a theatrical run at IMAX theaters from December 3, 2021. From January 24, 2024, screenings included an exclusive preview of Dune: Part Two ahead of its March 2024 release.\\n\\n\\n=== Home media ===\\nThe film was released digitally on December 3, 2021, while Blu-ray, DVD and Ultra HD Blu-ray versions of the film were released on January 11, 2022, by Warner Bros. Home Entertainment. After its release on home media, Dune ranked first on the \"NPD VideoScan First Alert\" chart for combined Blu-ray and DVD sales as well as the dedicated Blu-ray sales chart. According to The Numbers, it sold a combined 215,375 Blu-ray and DVD units in the first week for $3.6 million. It retained the top position on both the charts of the NPD Group for the following two weeks before being displaced by Ghostbusters: Afterlife. In addition, it was the most rented title from Redbox kiosks for three weeks as well. It was the highest-selling movie for the month of January according to the \"NPD VideoScan First Alert\" chart.\\n\\n\\n== Reception ==\\n\\n\\n=== Box office ===\\nDune grossed $108.9 million in the United States and Canada, and $297.1 million in other countries, for a worldwide total of $406 million during its initial release. Deadline Hollywood reported that a total box office gross of $300 million, the combined cost of production and marketing, \"will make many happy from an image-standpoint, even if breakeven is far north of that\".\\nIn the US and Canada, the film made $41 million in its opening weekend from 4,125 theaters, surpassing its projected opening weekend estimates of $30–35 million and besting the debut of Godzilla vs. Kong ($31.6 million) for the highest opening weekend for Warner Bros. during the pandemic era. Of that opening weekend take, $17.5 million came from its first day ticket sales, including $5.1 million from Thursday night previews. Dune also had the best opening of Villeneuve\\'s career. The film fell 62% in its second weekend to $15.5 million, though it remained atop the domestic box office. In its third weekend it dropped by 51% to earn $7.6 million, and was displaced by', mimetype='text/plain', start_char_idx=41479, end_char_idx=46033, text_template='{metadata_str}\\n\\n{content}', metadata_template='{key}: {value}', metadata_seperator='\\n'),\n",
       " TextNode(id_='3dac1cf0-e5d9-45b6-8c84-8ff7c4231462', embedding=None, metadata={'title': 'Dune (2021 film)'}, excluded_embed_metadata_keys=[], excluded_llm_metadata_keys=[], relationships={<NodeRelationship.SOURCE: '1'>: RelatedNodeInfo(node_id='52659577', node_type=<ObjectType.DOCUMENT: '4'>, metadata={}, hash='30576c4b0d2c665aacf99fca36da60c7a55b87e5abd30680640ce53ab573cb2e'), <NodeRelationship.PREVIOUS: '2'>: RelatedNodeInfo(node_id='149633d0-34bf-4b44-bbcb-b18a9ea1446e', node_type=<ObjectType.TEXT: '1'>, metadata={}, hash='2884de93776604b69bb8e524b9d5c3ba630b196706266f213e6f1e6c3a65eaf7'), <NodeRelationship.NEXT: '3'>: RelatedNodeInfo(node_id='29efdcdd-2fe8-4117-a202-0a44a1461d66', node_type=<ObjectType.TEXT: '1'>, metadata={}, hash='50b5782e6c24993dd522f42bcbd115bd3b7ef85a55b8e0bf9f0a0f99f5cd535b')}, text='among the Fremen. Kynes briefs them on the dangers of spice harvesting, and the giant sandworms that travel under the desert and render unwise the use of protective shields. During a flight, they rescue a stranded spice-harvesting crew from a sandworm, and Paul\\'s exposure to the spice triggers intense premonitions.\\nYueh betrays the Atreides and disables Arrakeen\\'s shields, allowing the Harkonnens and Sardaukar to invade. He incapacitates Leto, planning to exchange him for his wife, who is the Baron\\'s prisoner. Yueh replaces one of Leto\\'s teeth with a poison gas capsule with which the Duke can assassinate the Baron. After the Baron double-crosses and murders Yueh, Leto releases the gas, killing himself and the Baron\\'s Mentat, Piter De Vries, but the Baron survives. Though the Baron has arranged to have Paul and Jessica dropped deep in the desert to die, a compassionate Yueh has left them with a fremkit with survival supplies. Jessica uses a Bene Gesserit technique called \"the Voice\" to overpower and kill their captors. Overnighting in the desert, Paul—surrounded by spice—has visions of a bloody holy war fought across the universe in his name.\\nAfter conquering Arrakis, Baron Harkonnen appoints his nephew Rabban to oversee the planet and orders him to restart spice production to recoup the invasion\\'s cost. Meanwhile, Duncan and Kynes find Jessica and Paul, who disclose his plan to marry one of Emperor Shaddam\\'s daughters to avert a potential civil war arising from the Emperor\\'s betrayal. However, they are discovered by Sardaukar soldiers armed with a lasgun. Duncan sacrifices himself, enabling Paul and Jessica\\'s escape. Kynes also tries to escape but is caught and mortally wounded, and lures a sandworm to her location to devour herself and the Sardaukar. Deep in the desert, Paul and Jessica encounter Stilgar\\'s Fremen tribe, including Chani, the young woman from Paul\\'s visions. Despite Stilgar\\'s lenience towards them, Fremen warrior Jamis challenges Paul to a ritual duel to the death, which Paul wins. Contrary to Jessica\\'s wishes, Paul joins the Fremen, determined to fulfill his father\\'s goal of allying with them against the Harkonnen to bring Arrakis peace.\\n\\n\\n== Cast ==\\nTimothée Chalamet as Paul Atreides, ducal heir of House Atreides\\nRebecca Ferguson as Lady Jessica, Paul\\'s Bene Gesserit mother and consort to Leto\\nOscar Isaac as Duke Leto Atreides, Paul\\'s father and the leader of House Atreides\\nJosh Brolin as Gurney Halleck, weapons master of House Atreides and one of Paul\\'s mentors\\nStellan Skarsgård as Baron Vladimir Harkonnen, leader of House Harkonnen, enemy to House Atreides, and former steward of Arrakis\\nDave Bautista as Glossu Rabban, nephew of Baron Harkonnen\\nSharon Duncan-Brewster as Dr. Liet Kynes, Imperial ecologist and Judge of the Change on Arrakis\\nStephen McKinley Henderson as Thufir Hawat, the Mentat of House Atreides\\nZendaya as Chani, a mysterious young Fremen woman who appears in Paul\\'s visions\\nChang Chen as Dr. Wellington Yueh, a Suk doctor in the employ of House Atreides\\nCharlotte Rampling as Reverend Mother Mohiam, the Emperor\\'s Bene Gesserit Truthsayer\\nJason Momoa as Duncan Idaho, the swordmaster of House Atreides and one of Paul\\'s mentors\\nJavier Bardem as Stilgar, the leader of the Fremen tribe at Sietch Tabr\\nDavid Dastmalchian as Piter De Vries, the Mentat of House Harkonnen\\nBabs Olusanmokun as Jamis, a Fremen from Sietch Tabr\\nGolda Rosheuvel as Shadout Mapes, a Fremen working as a housekeeper for House Atreides\\nRoger Yuan as Lieutenant Lanville, Gurney Halleck\\'s second-in-command\\nAdditionally, Benjamin Clementine portrays the Herald of the Change, the head of an Imperial delegation to Caladan. Marianne Faithfull, Jean Gilpin, and Ellen Dubin voice the ancestral Bene Gesserit whose voices are heard by Paul in his visions. Joe Walker, the film\\'s editor, provides the narration for Paul\\'s filmbook guides for Arrakis.\\n\\n\\n== Production ==\\n\\n\\n=== Background ===\\n\\nFollowing the publication of Frank Herbert\\'s novel Dune in 1965, it was considered as having potential for a possible film adaptation. Since 1971, various producers have held film adaptation rights for the novel. Attempts to make an adaptation based on the book were considered to be \"unfilmable\"', mimetype='text/plain', start_char_idx=4359, end_char_idx=8601, text_template='{metadata_str}\\n\\n{content}', metadata_template='{key}: {value}', metadata_seperator='\\n'),\n",
       " TextNode(id_='3e3cbc7b-1918-4833-8cac-669e31cd1ce9', embedding=None, metadata={'title': 'Dune (2021 film)'}, excluded_embed_metadata_keys=[], excluded_llm_metadata_keys=[], relationships={<NodeRelationship.SOURCE: '1'>: RelatedNodeInfo(node_id='52659577', node_type=<ObjectType.DOCUMENT: '4'>, metadata={}, hash='30576c4b0d2c665aacf99fca36da60c7a55b87e5abd30680640ce53ab573cb2e'), <NodeRelationship.PREVIOUS: '2'>: RelatedNodeInfo(node_id='2bf9f823-440c-427b-b8ce-edb142b403fe', node_type=<ObjectType.TEXT: '1'>, metadata={}, hash='689082d3fc4a40c3580cba1239369878224bb55018152a80e354631667798418'), <NodeRelationship.NEXT: '3'>: RelatedNodeInfo(node_id='017530d6-c511-40f4-bcbf-955572f094a8', node_type=<ObjectType.TEXT: '1'>, metadata={}, hash='08b95d4b0e5bc716b3526c3fa69829ff5c82ba24cf7b1830a3f18dc7c29ae9a6')}, text='third weekend it dropped by 51% to earn $7.6 million, and was displaced by Eternals from the top rank. On November 25, 2021, Dune became the second Warner Bros. film of the pandemic era to cross $100 million in the US and Canada, following Godzilla vs. Kong.\\nThe film was released in 14 markets outside the US and Canada on September 15, 2021. It grossed $37.9 million, with the largest markets being Russia and CIS ($8.9 million), France ($7.2 million), Germany ($4.4 million), Taiwan ($3.4 million), Italy ($2.5 million) and Spain ($2.4 million). After adding an additional $26.3 million from 32 countries in its second weekend, the film had a 10-day running total of $76.5 million.\\nIn China, Dune opened to a $21.6 million weekend according to estimates by Warner Brothers, ranking second on the country\\'s box office behind The Battle at Lake Changjin. In its fourth week of release outside the US and Canada, the film made $21.4 million in 75 countries, a drop of 54% from the previous weekend. It also fell by 78% to about $5 million in China, dropping to the third rank. The film crossed the $300 million global mark on November 2. During the fifth weekend it earned $11.1 million, a drop of 52%. This included $2.1 million in China where it dropped to the fifth rank.\\nAfter its return to IMAX for a week on December 2, the film earned an estimated $1.8 million during the weekend, a drop of 13% from the previous weekend, primarily due to earning around $1 million from IMAX. In Australia it debuted atop the box office chart, earning $3.4 million in the opening weekend. The $400 million global mark was crossed on February 14, 2022, with the largest running-total countries outside the US and Canada being China ($39.5 million), France ($32.6 million), the UK ($30 million), Germany ($22.5 million) and Russia ($21.3 million).\\n\\n\\n=== Streaming viewership ===\\nAccording to Samba TV, the film was watched in over 1.9 million US households during its first three days of release, which grew to 2.3 million within its first week of release. 3.9 million US households watched the film within its first 30 days of release. According to TV Time, it was the most-watched film overall in the United States from the first to the third week of its release consecutively, before dropping to the sixth rank in its fourth week. The film rose to the third rank on TV Time\\'s chart in the final week of its availability. It was the ninth-most-streamed-film of 2021 according to the service. By March 20, the film was streamed in 5.3 million households in the US, including 996,000 since the Oscar nomination announcements on February 8.\\nAfter its release on PVOD services, Dune debuted at the second position on iTunes and Vudu charts and was ranked seventh on Google Play. The following week it fell to the seventh position on iTunes and the third position on Vudu, while maintaining its ranking on Google Play. After falling out of the charts for two weeks, it found renewed interest as it rose to the tenth position on iTunes, seventh position on Google Play, and the fifth position on Vudu. In the following week, it fell out of the iTunes and Google Play charts again, while dropping to the tenth position on the Vudu chart.\\nThe film was the highest-selling title on Redbox\\'s digital service for the week of January 24–30, 2022. It was also the top-ranked film on iTunes during the same week. Following the Academy Awards nominations, it reentered the top 10 charts for iTunes, Google Play and Vudu.\\n\\n\\n=== Critical response ===\\nOn the review aggregator website Rotten Tomatoes, 83% of 514 critics\\' reviews are positive, with an average rating of 7.6/10. The website\\'s consensus reads: \"Dune occasionally struggles with its unwieldy source material, but those issues are largely overshadowed by the scope and ambition of this visually thrilling adaptation.\" Metacritic gave the film a weighted average score of 74 out of 100, based on 68 critics, indicating \"generally favorable reviews\". Audiences polled by CinemaScore gave the film an average grade of \"A−\" on an A+ to F scale, while those at PostTrak gave it an 84% positive score (with an average rating of 4.5 out of 5 stars) and 66% saying they would definitely recommend it. Following its premiere at the Venice Film Festival in September 2021, early reception was generally', mimetype='text/plain', start_char_idx=45959, end_char_idx=50286, text_template='{metadata_str}\\n\\n{content}', metadata_template='{key}: {value}', metadata_seperator='\\n'),\n",
       " TextNode(id_='4390d4b5-f0d4-4325-8990-7045d7994fb0', embedding=None, metadata={'title': 'Dune: Part Two'}, excluded_embed_metadata_keys=[], excluded_llm_metadata_keys=[], relationships={<NodeRelationship.SOURCE: '1'>: RelatedNodeInfo(node_id='63790171', node_type=<ObjectType.DOCUMENT: '4'>, metadata={}, hash='34723c64e6eadc20fcd8756e30d24cd5226467ce3542787af64c46906ce73cb6'), <NodeRelationship.PREVIOUS: '2'>: RelatedNodeInfo(node_id='d43be95f-3022-4948-933f-b39c3f22d6c6', node_type=<ObjectType.TEXT: '1'>, metadata={}, hash='549965088ae9737d792360d9063f45a0e03f1558cc055691735499d91254fe27'), <NodeRelationship.NEXT: '3'>: RelatedNodeInfo(node_id='5c5c01a0-0459-4160-a516-682ba302a1cf', node_type=<ObjectType.TEXT: '1'>, metadata={}, hash='81f44e8aa0ba2d8ff3e0decb7ade78da0c3062f557267345d89426c493d74cbf')}, text='Metacritic, which uses a weighted average, assigned the film a score of 79 out of 100, based on 62 critics, indicating \"generally favorable\" reviews. Audiences polled by CinemaScore gave the film an average grade of \"A\" on an A+ to F scale, up from the first film\\'s \"A-,\" while those polled by PostTrak gave it a 94% overall positive score, with 80% saying they would definitely recommend it.\\nRichard Roeper, writing for the Chicago Sun-Times, gave the film three stars out of four, praising the technical and narrative aspects, saying, \"Even as we marvel at the stunning and immersive and Oscar-level cinematography, editing, score, visual effects, production design and sound in Denis Villeneuve\\'s Dune: Part Two, we\\'re reminded at every turn that this is an absolutely bat-bleep [sic] crazy story.\"\\nFilmmaker Steven Spielberg praised the film, calling it \"one of the most brilliant science fiction films I have ever seen,\" while further noting that \"it\\'s also filled with deeply, deeply drawn characters ... Yet the dialogue is very sparse when you look at it proportionately to the running time of the film. It\\'s such cinema. The shots are so painterly, yet there\\'s not an angle or single setup that\\'s pretentious.\" Fellow filmmaker James Cameron also praised the movie, calling it \"pure cinema\" and stating that it\\'s an improvement over the 1984 adaptation.\\nOther reviews were more mixed in their judgement. In The Hollywood Reporter, Lovia Gyarkye praised the film\\'s technical aspects and performances, but found it failed to fully adapt the book\\'s nuance on themes such as imperialism. Nicholas Barber wrote for the BBC that the film is \"one of the most jaw-droppingly weird pieces of art-house psychedelia ever to come from a major studio\", finding the film\\'s grand scale made up for its issues. At the more negative end, Noah Berlatsky writing for CNN judged that the film had failed to \"present an effective anti-colonial vision\" by still being centred around Paul\\'s destiny despite an increased voice of opposition from Chani.\\nSome commentators have criticized the film for failing to adequately deal with the original book\\'s Middle East and North Africa (MENA) influences or otherwise incorporate enough representation from the region. Furvah Shah, writing for the UK edition of Cosmopolitan, said she \"felt frustrated as a Muslim viewer\", criticizing the film for a lack of MENA casting amongst the leads despite the use of the region\\'s culture and superficial use of Islam. The New Arab\\'s Hannah Flint also criticized the use of Arab and Islamic cultural items and lack of MENA casting, though did praise that of Swiss-Tunisian actress Souheila Yacoub as a \"win for Arab representation\". Steven D. Greydanus, in U.S. Catholic, gives a contrasting view of the film\\'s religious inspirations, noting that the film draws from a number of Abrahamic religions for the purpose of critiquing faith itself, while also noting the \"spiritualization of ecological concerns\" through the Fremen.\\n\\n\\n=== Accolades ===\\nThe trailer for Dune: Part Two received nominations for Best Fantasy Adventure and the Don LaFontaine Award for Best Voice Over at the 2023 Golden Trailer Awards. The film was nominated for Most Anticipated Film at the 6th Hollywood Critics Association Midseason Film Awards. Zendaya is nominated for Favorite Movie Actress and Austin Butler is nominated for Favorite Villain at the 2024 Kids\\' Choice Awards.\\n\\n\\n== Future ==\\nVilleneuve has repeatedly expressed interest in making a third film based on Dune Messiah, the second novel in the series, adding that the possibility for the film depended on the success of Dune: Part Two. Spaihts also reiterated in March 2022 that Villeneuve had plans for a third film as well as the television spin-off series Dune: Prophecy. In August 2023, Villeneuve said the third film would serve as the conclusion of a trilogy. Villeneuve began developing a script for the third film in 2023. In February 2024, Villeneuve said the script was \"almost finished\" but also said he \"[does not] want to rush it\", citing Hollywood\\'s tendency of focusing on release dates over a film\\'s overall quality, and adding, \"I want to make sure that if we go back there a third time I want it to be good and I want it to be even better than Part Two\". Villeneuve also considered waiting a few years for Chalamet to grow older, given that Dune Messiah is set 12 years after the events of the original book.\\nAhead of Dune: Part Two\\'s release, Zimmer revealed he was already writing music for a third film after Villeneuve came in and \"wordlessly\" put a copy of Dune Messiah on his desk. In April', mimetype='text/plain', start_char_idx=31346, end_char_idx=35971, text_template='{metadata_str}\\n\\n{content}', metadata_template='{key}: {value}', metadata_seperator='\\n'),\n",
       " TextNode(id_='4d9f9dd8-36ff-4253-9263-c59e24236ecf', embedding=None, metadata={'title': 'Dune (2021 film)'}, excluded_embed_metadata_keys=[], excluded_llm_metadata_keys=[], relationships={<NodeRelationship.SOURCE: '1'>: RelatedNodeInfo(node_id='52659577', node_type=<ObjectType.DOCUMENT: '4'>, metadata={}, hash='30576c4b0d2c665aacf99fca36da60c7a55b87e5abd30680640ce53ab573cb2e'), <NodeRelationship.PREVIOUS: '2'>: RelatedNodeInfo(node_id='58617aa1-80ea-476b-83b2-23c205463ca8', node_type=<ObjectType.TEXT: '1'>, metadata={}, hash='6848ab604f93b48e7ab3827b25ab219a2493c5f68ae6de28a4eef1acf1a0d4d9'), <NodeRelationship.NEXT: '3'>: RelatedNodeInfo(node_id='e75a2399-37ff-4e8c-b3e9-6bbea0e8f8f1', node_type=<ObjectType.TEXT: '1'>, metadata={}, hash='f3cf663a6d6bf2e71ff04c60745136dcacbdce6e2994620adaa74d4be2301b3b')}, text='the visual language of the film consisted of Mesopotamian ziggurat architecture, Egyptian references, World War II bunkers, Brazilian and Soviet brutalist architecture, minimalist megastructures and dams designed by Superstudio, and imagery of glaciers taking over mountains.\\nThe design for the ornithopters was conceived by Villeneuve and storyboard artist Sam Hudecki. Villeneuve wanted the ornithopter be \"muscular\"; he wanted it to resemble a dragonfly and helicopter, but also appear realistic and adhere to basic laws of science. This fit in with his overall perception of the Dune world being retro-futuristic and analog. He also wanted the cockpits to be designed so that the actors could see the landscape. Two functional ornithopter models, 48- and 75-feet long, were created for filming by London propmakers, with operable doors and interior cockpit areas. They weighed over 11 tons and required an Antonov cargo plane to transport them to filming locations in Hungary and Jordan. One ornithopter used in filming had customizable pieces allowing for more space. Cranes were used to make the models fly.\\nMany practical sets were created on the soundstages and backlots of the Origo Film Studios in Budapest, Hungary, serving as interiors for the three planets. When designing Caladan, Vermette sought to give the planet \"a feeling of melancholia\". He wanted Caladan to resemble autumn in Canada, his home country, as he thought that it represented \"the end of a cycle... or the beginning of a new one\". He identified \"dramatic coastal mountain ranges\" and forests containing Norwegian pines as defining features of the planet. Meanwhile, the interior sets of Caladan were inspired by medieval Japanese aesthetics, particularly that of Paul\\'s training room, containing intricate screens and diffused lighting. Props were created by set decorator Richard Roberts, including custom-made furniture, lighting, textiles produced in Denmark, and other items designed to look antique.\\nThe original design for the sandworm was deemed \"prehistoric\", inspired by whales with baleen in their mouths. The sandworm\\'s skin texture was based on tree bark and mud flats. Vermette spoke of the challenges involved in creating the set designs used for the sandworms, stating \"It was a creature that commanded respect, and it\\'s almost seen as a deity in the world of the Fremen. So that\\'s why the first time you see the depiction of the sand worm on the mural, it\\'s presented with sun coming out of its mouth\".\\nThe design for Arrakeen was influenced by the book\\'s description of Arrakis\\'s climate, with Vermette calling it \"the biggest residency ever built by humankind\" and \"a response as a colonial entity that took over the planet for the exploitation of ... spice\". He designed the city in a \"rock bowl\" shape to protect its infrastructure from sandworms, and built buildings at an angle to protect them from high wind speeds. The walls were thickened to make the interiors cooler. The team was inspired by WWII bunkers, bunkers, Mayan temples, and Brazilian modernism. The history and culture of the Fremen was depicted in various murals throughout the residence, with Vermette comparing it to that of a church after envisioning Fremen artists doing so in order to depict the colonization of Arrakis. One practical set was the environmental lab in which Sardaukar soldiers descend from the air. The circular dome was 20 feet high, with the spokes being created by a special kind of cloth fabric, giving the illusion of shadows and providing proper lighting for the act. Agriculturally controlled sand was placed on the ground as filming took place during Budapest\\'s raining season.\\n\\n\\n==== Costumes ====\\nOver 1000 looks for Arrakis, Caladan, and Giedi Prime were designed by the team for the film. The costume design was done by Jacqueline West and Bob Morgan. Villeneuve wanted the costumes to be \"grounded\" in history while avoiding conventional futuristic views in science fiction films. West performed \"psychological studies\" of characters and historical research to associate their houses with historical \"symbolic analogs\", facilitating her costume design process. She took primary inspiration from the Middle Ages, particularly envisioning what it would look like in the future. She associated the Fremen with the French Resistance and the Sardaukar with the Nazis when designing the costumes. Additionally, she took inspiration from Giotto, Francisco Goya, Caravaggio, and British art historian John Berger, while emulating styles from the fashion of Balenciaga, the Bedouin, and Tuareg people.\\nWest associated the Spacing Guild with the Avignon Papacy, connected their persecution of the Templars to that of House Atreides; she noted that the Emperor and his allies betrayed House Atreides. Reference pictures consisted of medieval popes and modernized it when designing their costumes. The Bene Gesserit sorceresses\\' costumes were based on', mimetype='text/plain', start_char_idx=22465, end_char_idx=27408, text_template='{metadata_str}\\n\\n{content}', metadata_template='{key}: {value}', metadata_seperator='\\n'),\n",
       " TextNode(id_='5234a1a5-f4e9-4a9a-af32-08cfbd0c929e', embedding=None, metadata={'title': 'The Lord of the Rings: The Fellowship of the Ring'}, excluded_embed_metadata_keys=[], excluded_llm_metadata_keys=[], relationships={<NodeRelationship.SOURCE: '1'>: RelatedNodeInfo(node_id='173941', node_type=<ObjectType.DOCUMENT: '4'>, metadata={}, hash='b9fc61721f6f9f8b6a26a43172b1c6279a43e000097b6c6ec5072cf0f9230d69'), <NodeRelationship.PREVIOUS: '2'>: RelatedNodeInfo(node_id='69f01ec9-f762-456f-8a02-14c34ea74aee', node_type=<ObjectType.TEXT: '1'>, metadata={}, hash='22dff060572e53484f43f612f2d883373122d9abc89f2a54d23b0be82318fd60'), <NodeRelationship.NEXT: '3'>: RelatedNodeInfo(node_id='721b24f0-ac96-4931-8912-08ef75e8f399', node_type=<ObjectType.TEXT: '1'>, metadata={}, hash='481cbfe357b1bfb7a3fb40384849ee83ace6ec06607e5445257f63598be9e45c')}, text='whose stunt double got the tattoo instead. The film is noted for having an ensemble cast, and some of the cast and their respective characters include:\\n\\nElijah Wood as Frodo Baggins: A young hobbit who inherits the One Ring from his uncle Bilbo. Wood was the first actor to be cast on 7 July 1999. Wood was a fan of the book, and he sent in an audition dressed as Frodo, reading lines from the novel. Wood was selected from 150 actors who auditioned. Jake Gyllenhaal unsuccessfully auditioned for the role after his agency miscommunicated his direction to an American accent.\\nIan McKellen as Gandalf the Grey: An Istari wizard and mentor to Frodo. Sean Connery was approached for the role, but did not understand the plot, while Patrick Stewart turned it down as he disliked the script. Patrick McGoohan was also offered the role, but turned it down due to health issues. Anthony Hopkins and Christopher Plummer also turned down the role. Richard Harris expressed interest in the part. John Astin auditioned for Gandalf. Sam Neill was also offered the role but declined due to his scheduling conflict with Jurassic Park III. Before being cast, McKellen had to sort his schedule with 20th Century Fox as there was a two-month overlap with X-Men. He enjoyed playing Gandalf the Grey more than his transformed state in the next two films, and based his accent on Tolkien. Unlike his on-screen character, McKellen did not spend much time with the actors playing the Hobbits; instead he worked with their scale doubles.\\nViggo Mortensen as Aragorn: A Dúnedain ranger and heir to Gondor\\'s throne. Daniel Day-Lewis was offered the part at the beginning of pre-production, but turned it down. Nicolas Cage also received an offer but declined because of family obligations. Stuart Townsend was cast in the role, before being replaced during filming when Jackson realised he was too young. Russell Crowe was considered as a replacement, but he turned it down because he does not want to be typecast and believed it to be a similar role in Gladiator. Day-Lewis was offered the role for a second time, but declined again. Executive producer Mark Ordesky saw Mortensen in a play. Mortensen\\'s son, a fan of the book, convinced him to take the role. Mortensen read the book on the plane, received a crash course lesson in fencing from Bob Anderson and began filming the scenes on Weathertop. Mortensen became a hit with the crew by patching up his costume and carrying his \"hero\" sword around with him off-camera.\\nSean Astin as Samwise Gamgee: Better known as Sam, a hobbit gardener and Frodo\\'s best friend. Astin, who had recently become a father, bonded with the 18-year-old Wood in a protective manner, which mirrored Sam\\'s relationship with Frodo. Before Astin was cast, James Corden read for the part.\\nSean Bean as Boromir: A son of the Stewards of Gondor who journeys with the Fellowship towards Mordor. Bruce Willis, a fan of the book, expressed interest in the role, while Liam Neeson was sent the script, but passed.\\nBilly Boyd as Peregrin Took: Better known as Pippin, an extremely foolish hobbit who is a distant cousin of Frodo and travels with the Fellowship on their journey to Mordor.\\nDominic Monaghan as Meriadoc Brandybuck: Better known as Merry, a distant cousin of Frodo. Monaghan was cast as Merry after auditioning for Frodo.\\nJohn Rhys-Davies as Gimli: A dwarf warrior who accompanies the Fellowship to Mordor after they set out from Rivendell. Billy Connolly, who was considered for the part of Gimli, would later portray Dáin II Ironfoot in Peter Jackson\\'s The Hobbit film trilogy. Rhys-Davies wore heavy prosthetics to play Gimli, which limited his vision, and eventually he developed eczema around his eyes. Rhys-Davies also played Gimli\\'s father Glóin during the scene where the fellowship is forged.\\nOrlando Bloom as Legolas: A prince of the elves\\' Woodland Realm and a skilled archer. Bloom initially auditioned for Faramir, who appears in the second film, a role which went to David Wenham.\\nLiv Tyler as Arwen: An elf of Rivendell and Aragorn\\'s lover. The filmmakers approached Tyler after seeing her performance in Plunkett & Macleane, and New Line Cinema leaped at the opportunity of having one Hollywood star in the film. Actress Helena Bonham Carter had expressed interest in the role. Tyler came to shoot on short occasions, unlike the rest of the actors. She was one of the last actors to be cast, on 25 August 1999.\\nCate Blanchett as Galadriel:', mimetype='text/plain', start_char_idx=8392, end_char_idx=12856, text_template='{metadata_str}\\n\\n{content}', metadata_template='{key}: {value}', metadata_seperator='\\n'),\n",
       " TextNode(id_='56a54cac-cd5a-49dd-a770-7948e2c6c571', embedding=None, metadata={'title': 'Dune (2021 film)'}, excluded_embed_metadata_keys=[], excluded_llm_metadata_keys=[], relationships={<NodeRelationship.SOURCE: '1'>: RelatedNodeInfo(node_id='52659577', node_type=<ObjectType.DOCUMENT: '4'>, metadata={}, hash='30576c4b0d2c665aacf99fca36da60c7a55b87e5abd30680640ce53ab573cb2e'), <NodeRelationship.PREVIOUS: '2'>: RelatedNodeInfo(node_id='e75a2399-37ff-4e8c-b3e9-6bbea0e8f8f1', node_type=<ObjectType.TEXT: '1'>, metadata={}, hash='f3cf663a6d6bf2e71ff04c60745136dcacbdce6e2994620adaa74d4be2301b3b'), <NodeRelationship.NEXT: '3'>: RelatedNodeInfo(node_id='ac023e08-3c1e-4b19-9682-8d083d3441d8', node_type=<ObjectType.TEXT: '1'>, metadata={}, hash='4b8c97529f06c3b7ea0a7654fd13582b3588babbbeb327d36b16e3b75f0862c2')}, text='creating 1,200 VFX shots out of the 1,700 total, with vendors including Wylie Co. and Rodeo FX. Many shots used various chroma key processes. Visual effects supervisor Paul Lambert used \"sandscreens\" for filming scenes in Arrakis and Arrakeen; instead of using green-based backgrounds, the visual effects team used sand-colored ones that matched the establishing desert shots intended for backgrounds. The sandscreens were used in capturing scenes of the ornithopter, with the VFX team using the helicopter footage and replacing them with the ornithopter models, facilitating capture of sand displacement. This was also filmed by encapsulating ornithopter models in black boxes with fans blowing dust. The wings were inserted using computer-generated imagery (CGI). Similar processes were used to film scenes in other settings, as it facilitated compositing the foreground and background imagery: Caladan scenes used \"grayscreens\" and those with a \"slight blue tint\" for interior and exterior scenes, respectively, Salusa Secundus scenes used bluescreens. Approximately 18 tons of sand and dust were used on set, with the effect of blowing sand being created by using a V8 engine with a fan on the back of a tractor.\\nThe sandworms were created through CGI. The VFX team found a lot of difficulty in deciding how the sandworm would move. The team spent over a year in figuring out the movements of the sandworm, and researched the body movements of various animals, such as worms and snakes. The sand ripples created by the worms were inspired by implicit visual cues of the shark from Jaws (1975). The special-effects supervisor Gerd Nefzer designed a vibrating 8x8 foot steel plate and placed it under the sand. This resulted in the formation of various patterns, used to signify an approaching sandworm. The vibrating areas were also later enhanced to cover a larger area. The team initially considered using rigged explosives to capture the motion of the sandworms breaking the surface in the desert, but rejected the idea as this was impractical to perform in the Middle East. Instead, they used the Houdini software to have sand emulate the motion of water. Villeneuve did not want the associated sound design to appear as a studio production. Sound designers Mark Mangini and Theo Green used a \"fake documentary realism\" approach to capture natural sounds and manipulate them for use in the film, such as recording the sounds of shifting sands in Death Valley using hydrophones.\\nThe Montreal and Vancouver facilities of DNEG were used for the Arrakeen invasion sequence. It involved combining practical and digital effects. The Montreal VFX supervisor Brian Connor created a digital Arrakeen space port, while the Vancouver team simulated explosions. Practical explosions filmed in Budapest backlots were later enhanced by the VFX team: the special effects team had rigs of practical light shining through the fog from explosions, allowing them to blend practical and digital shots easier. Lambert created the Holtzman shields\\' visual effects by combining past and future frames after experimenting with various visual filters on an action sequence from Seven Samurai (1954), resulting in a \"shimmering\" look Villeneuve approved. They also added colors; they used blue for bouncing objects and red for penetrations. The scene of Paul\\'s future vision was filmed using motion-capture (mo-cap), and the team replicated mo-cap to add many fighters. Animation supervisor Robyn Luckham helped with the scene as the team did not know much about mo-cap. They also added explosions in the foreground, sandworms in the background, sand displacement throughout, and used more simulations to render the scene in real-time. \\nThe team created a detailed practical stuffy model for the desert mouse, Muad\\'Dib, and filmed it in Jordan for appropriate desert lighting. The animation team used footage of idling animals as reference, and animated the mouse so it \"expends effort when absolutely necessary\". The creosote bush hologram was created by projecting different \"slices\" of light on Chalamet\\'s face during plate photography based on his filming location using a projector. Wylie then completed the scene by adding the hologram around him. For the hunter-seeker, a stick on set was used as reference, being later replaced with proper models via CGI. Practical rigs were attached to Skarsgård\\'s body to create the effect of the Baron\\'s levitation. The levitation was occasionally done practically with a seesaw rig. However, the suspensor device attached to his back was inserted using CGI.\\n\\n\\n== Music ==\\n\\nHans Zimmer affirmed he would be scoring Dune near the start of the film\\'s production in March 2019. Zimmer previously worked with Villeneuve on Blade Runner 2049 (2017). At the time, Zimmer rejected director Christopher Nolan\\'s request to compose the score for his then-upcoming film Tenet (2020), citing his personal love for the book. Zimmer did not want the soundtrack to sound like his previous works and used instruments', mimetype='text/plain', start_char_idx=31854, end_char_idx=36880, text_template='{metadata_str}\\n\\n{content}', metadata_template='{key}: {value}', metadata_seperator='\\n'),\n",
       " TextNode(id_='58617aa1-80ea-476b-83b2-23c205463ca8', embedding=None, metadata={'title': 'Dune (2021 film)'}, excluded_embed_metadata_keys=[], excluded_llm_metadata_keys=[], relationships={<NodeRelationship.SOURCE: '1'>: RelatedNodeInfo(node_id='52659577', node_type=<ObjectType.DOCUMENT: '4'>, metadata={}, hash='30576c4b0d2c665aacf99fca36da60c7a55b87e5abd30680640ce53ab573cb2e'), <NodeRelationship.PREVIOUS: '2'>: RelatedNodeInfo(node_id='5a06944b-73ba-4055-9765-8e142d013bb2', node_type=<ObjectType.TEXT: '1'>, metadata={}, hash='be8ddf269928bf631d439c1bfbad4627c94b62d2cd26730dd0d5d6437625c6f4'), <NodeRelationship.NEXT: '3'>: RelatedNodeInfo(node_id='4d9f9dd8-36ff-4253-9263-c59e24236ecf', node_type=<ObjectType.TEXT: '1'>, metadata={}, hash='c1e6ca6e1870adb85f4e49474ee7e1c7fec6576ea3651f4f5789e6ea2d190e51')}, text='Paul. Ferguson was initially dismissive of the role, as she felt it was too similar to her Mission: Impossible role as Ilsa Faust. Ferguson did not want to be typecast as a \"strong female character\". However, she was convinced after hearing Villeneuve\\'s ideas and reading the book, saying she enjoyed the \"simplicity of wanting to save something you have created and all of these shades\". She had been cast by January 2019.\\nCasting director Francine Maisler had compiled over 30–50 audition tapes from actors for Villeneuve to decide from when casting secondary roles. Dave Bautista was offered the role of Glossu Rabban following a phone call from Villeneuve. He was an avid fan of Villeneuve and wanted to contact him, but was surprised when Villeneuve contacted him first and says he is proud of being offered the role. Villeneuve wanted Stellan Skarsgård to portray Baron Vladimir Harkonnen as he had found Skarsgård intimidating, and personally contacted Charlotte Rampling in order to portray Gaius Helen Mohiam, who accepted as she enjoyed Villeneuve\\'s work. Oscar Isaac contacted Villeneuve about starring in the film once he heard it was in development. Villeneuve cast him as Duke Leto, with Isaac commenting the role suited him physically. Zendaya auditioned for the role of Chani alongside five other actresses. She was chosen as she was considered to have the best performance with Chalamet. Bautista, Skarsgård, Rampling, Isaac, and Zendaya all joined the cast in January 2019.\\nIn the next month, Javier Bardem, Josh Brolin, Jason Momoa, and David Dastmalchian were cast as Stilgar, Gurney Halleck, Duncan Idaho, and Piter de Vries, respectively. Villeneuve directly called Bardem and offered him the role, who was shocked as he wanted to portray Stilgar, comparing it to his personal love for Aragorn in The Lord of the Rings. Meanwhile, Brolin amusingly commented that he pretended to read the script prior to accepting the role, while Momoa received his casting call when he was snowboarding down a mountain. He later contacted Villeneuve on a Skype call to confirm his involvement. Dastmalchian\\'s casting was similar to Brolin and Momoa\\'s, as he received a call while he was in his Los Angeles home, and accepted the role without reading the script due to his confidence in Villeneuve. Stephen McKinley Henderson joined in March, with Chang Chen entering negotiations. Maisler chose Henderson after admiring his work in New York theaters, and curated a list of the \"most talented\" Chinese actors for the role of Dr. Yueh. Despite initial difficulties contacting Chen, they eventually contacted his manager in China. Afterwards, Chen accepted his role as Dr. Yueh. The decision to cast Benjamin Clementine as the Herald of the Change occurred after Maisler enjoyed his performance in the Tiny Desk Concerts.\\nDuncan-Brewster auditioned for the role in London through Jina Jay, a casting director working with Maisler at the time, saying that she \"exudes an intelligence and a power and an inner strength\". When Maisler presented a shortlist for potential cast members, Villeneuve selected Duncan-Brewster. Her casting was confirmed in April 2020. The idea to change Kynes\\' gender was suggested by Jon Spaihts, which Villeneuve promptly accepted. According to Duncan-Brewster, Villeneuve opted for the change as he felt it was not necessary to adhere to all of the elements in the book in order to remain faithful to the character\\'s nature.\\n\\n\\n=== Design ===\\n\\n\\n==== Set and props ====\\nThe set design was done by production designer Patrice Vermette. Vermette based the set design for Dune by the need \"to ground the story into realistic settings to help the audience believe in the extraordinary elements\". He sought to make the sets as realistic and immersive as possible, using minimal set extensions and no greenscreens. Prior to the creation of any sets or visual effects, Villeneuve and a group of specific people, worked together to define the visual language for the film.\\nVermette created a \"visual bible\" to guide the development of set design and keep it consistent with the film\\'s visual effects design, intending to help \"extrapolate the world\". He also re-read the novel, as he felt that \"the book gives a lot of clues or cues that will help you navigate it to design things, but it\\'s quite nonspecific\", adding that he wanted to support Villeneuve\\'s original vision of the novel when he read it as a young teenager, and base the design around Herbert\\'s original novel. The team\\'s early mood boards for the visual language of the film consisted of Mesopotamian ziggurat architecture, Egyptian references,', mimetype='text/plain', start_char_idx=17935, end_char_idx=22566, text_template='{metadata_str}\\n\\n{content}', metadata_template='{key}: {value}', metadata_seperator='\\n'),\n",
       " TextNode(id_='5a06944b-73ba-4055-9765-8e142d013bb2', embedding=None, metadata={'title': 'Dune (2021 film)'}, excluded_embed_metadata_keys=[], excluded_llm_metadata_keys=[], relationships={<NodeRelationship.SOURCE: '1'>: RelatedNodeInfo(node_id='52659577', node_type=<ObjectType.DOCUMENT: '4'>, metadata={}, hash='30576c4b0d2c665aacf99fca36da60c7a55b87e5abd30680640ce53ab573cb2e'), <NodeRelationship.PREVIOUS: '2'>: RelatedNodeInfo(node_id='29efdcdd-2fe8-4117-a202-0a44a1461d66', node_type=<ObjectType.TEXT: '1'>, metadata={}, hash='50b5782e6c24993dd522f42bcbd115bd3b7ef85a55b8e0bf9f0a0f99f5cd535b'), <NodeRelationship.NEXT: '3'>: RelatedNodeInfo(node_id='58617aa1-80ea-476b-83b2-23c205463ca8', node_type=<ObjectType.TEXT: '1'>, metadata={}, hash='6848ab604f93b48e7ab3827b25ab219a2493c5f68ae6de28a4eef1acf1a0d4d9')}, text='appealing to groups of people who enjoyed the book, did not remember nor care for the book, and those who were not familiar with it at all. Villeneuve completed a first draft of the script by May 2018, Producer Brian Herbert stated that the fourth draft of the screenplay, submitted in July, would cover the first half of the events from the novel, while Jon Spaihts was later hired as co-writer alongside Roth and Villeneuve in September. Though the book features many elements inspired from Arab and Islamic culture, Spaihts stated the team minimized incorporating them as he felt Arab culture became integrated into the world, resulting in the need to \"invent more and borrow less\" due to potentially overemphasizing them. Eventually, Roth worked on the film again after completing his work on Killers of the Flower Moon (2023), providing feedback after a screening of the film and aiding in rewrites prior to reshoots.\\nWhen writing his script, Villeneuve chose not to take inspiration from Lynch\\'s Dune, wanting instead to directly refer to the book despite affirming his respect for Lynch and the film. He described his reaction to the film as being \"half-satisfied\", and felt he would make the film with a \"different sensibility\". Similarly, he chose not to incorporate concepts Jodorowsky envisioned for his Dune film, as he felt it would be \"very presumptuous and arrogant\". He was not intimidated by previous film adaptations as he felt his love for Dune allowed him to focus on his own vision. He compared his experience of making the film to archaeology, describing the process as \"going back in time and finding those images mixed with emotions, and bringing them back to life\".\\nIn adapting the book for a contemporary audience, Villeneuve considered his screenplay \"a coming-of-age story, but also a call for action for the youth\" and noted the book\\'s social commentary regarding capitalism and the exploitation of natural resources such as oil. In doing so, Villeneuve wanted to recreate the experience he had felt when he initially read the book as a teen. He adjusted and modified many parts of the novel for the film, and wanted to keep \"the atmosphere and poetry ... intact\". This included eliminating internal monologues and epigraphs used in the book and simplifying the \"pseudo-antiquated\" dialogue. Instead, he emphasized Paul and Jessica\\'s relationship as the main focus of the story, and gave them a secret hand gesture language they could use to communicate silently to each other. The film also minimizes the political aspects of the Dune world in order to retain the book\\'s scale and exploration of power dynamics while also focus on Paul\\'s growth. The inclusion of the informative holographic filmbook videos for Paul was adapted from the book, with Villeneuve wanting it to convey Paul\\'s \"appetite for learning\" and his desire to learn about the Arrakis and Fremen culture.\\nSome characters were given less prominence, such as Baron Harkonnen, members of his court, and the Mentats Thufir Hawat and Piter De Vries, but established enough so that they can be used in the future. Villeneuve sought to depict the Baron as a complex antagonist rather than as a caricature, feeling the novel presented him as being the latter, and took inspiration from Colonel Kurtz. Another major change was altering some of the arcs of the female characters in the book to give them more respect and prominence, as Villeneuve felt femininity was a crucial theme in the book. Ferguson stated that while Villeneuve respected Herbert\\'s characterization in the book, Villeneuve\\'s modifications had helped improve the quality of female characters by expanding the role of Lady Jessica as a soldier and member of the Bene Gesserit. As such, the studio labeled this role a \"warrior priestess\", in contrast to the joking label of \"space nun\" that Villeneuve felt was implied by the book. \\n\\n\\n=== Casting ===\\n\\nVilleneuve began the casting process by first determining who would portray Paul Atreides. He approached actors on an individual basis and felt the final cast was close to his \"dream list\". For Paul, Villeneuve desired an actor who had \"an old soul in the body of a teenager\".  He identified Timothée Chalamet as the ideal choice for the role, later admitting that he had no alternate choices in mind. Chalamet, who previously auditioned for a role in Villeneuve\\'s Prisoners (2013), also desired to collaborate with Villeneuve and appear in Dune. He travelled to the Cannes Film Festival to discuss the role with Villeneuve. Chalamet entered final negotiations to play the role of Paul in July 2018. Rebecca Ferguson entered negotiations that September to play the role of Paul\\'s mother, Lady Jessica, with Chalamet already confirmed for the role of Paul. Ferguson was initially dismissive of the role, as she felt it was too similar to her', mimetype='text/plain', start_char_idx=13176, end_char_idx=18025, text_template='{metadata_str}\\n\\n{content}', metadata_template='{key}: {value}', metadata_seperator='\\n'),\n",
       " TextNode(id_='5c5c01a0-0459-4160-a516-682ba302a1cf', embedding=None, metadata={'title': 'Dune: Part Two'}, excluded_embed_metadata_keys=[], excluded_llm_metadata_keys=[], relationships={<NodeRelationship.SOURCE: '1'>: RelatedNodeInfo(node_id='63790171', node_type=<ObjectType.DOCUMENT: '4'>, metadata={}, hash='34723c64e6eadc20fcd8756e30d24cd5226467ce3542787af64c46906ce73cb6'), <NodeRelationship.PREVIOUS: '2'>: RelatedNodeInfo(node_id='4390d4b5-f0d4-4325-8990-7045d7994fb0', node_type=<ObjectType.TEXT: '1'>, metadata={}, hash='d4635767f66b0291df8f8c6fc2fc5be67eb140d203092d847aa8d0ddce4352df')}, text='came in and \"wordlessly\" put a copy of Dune Messiah on his desk. In April 2024, it was reported that Villeneuve and Legendary had officially begun development on the third film. Villeneuve has said that Messiah would be his final Dune film.\\n\\n\\n== See also ==\\nList of films featuring eclipses\\nList of films split into multiple parts\\n\\n\\n== Notes ==\\n\\n\\n== References ==\\n\\n\\n== Further reading ==\\n\\n\\n== External links ==\\nOfficial website \\nDune: Part Two at IMDb', mimetype='text/plain', start_char_idx=35898, end_char_idx=36349, text_template='{metadata_str}\\n\\n{content}', metadata_template='{key}: {value}', metadata_seperator='\\n'),\n",
       " TextNode(id_='69f01ec9-f762-456f-8a02-14c34ea74aee', embedding=None, metadata={'title': 'The Lord of the Rings: The Fellowship of the Ring'}, excluded_embed_metadata_keys=[], excluded_llm_metadata_keys=[], relationships={<NodeRelationship.SOURCE: '1'>: RelatedNodeInfo(node_id='173941', node_type=<ObjectType.DOCUMENT: '4'>, metadata={}, hash='b9fc61721f6f9f8b6a26a43172b1c6279a43e000097b6c6ec5072cf0f9230d69'), <NodeRelationship.PREVIOUS: '2'>: RelatedNodeInfo(node_id='0385ae51-817f-4ab8-baf9-6911403529c6', node_type=<ObjectType.TEXT: '1'>, metadata={}, hash='81911c6f68041f1e0343250162dbe2d685ed63d2900d8f95cdeef97c47aced2f'), <NodeRelationship.NEXT: '3'>: RelatedNodeInfo(node_id='5234a1a5-f4e9-4a9a-af32-08cfbd0c929e', node_type=<ObjectType.TEXT: '1'>, metadata={}, hash='7fda0a28a9c639d41521f795b492a9684764c109d3a7dc9a724e8e9d611a5538')}, text=\"discovers his betrayal and alliance with Sauron, who has dispatched his nine undead Nazgûl servants to find Frodo.\\nFrodo and Sam are joined by fellow hobbits Merry and Pippin, and they evade the Nazgûl before arriving in Bree, where they are meant to meet Gandalf at the Inn of The Prancing Pony. However, Gandalf never arrives, having been taken prisoner by Saruman. The hobbits are then aided by a Ranger named Strider, who promises to escort them to Rivendell; however, they are ambushed by the Nazgûl on Weathertop, and their leader, the Witch-King, stabs Frodo with a Morgul blade. Arwen, an Elf and Strider's beloved, locates Strider and rescues Frodo, summoning flood-waters that sweep the Nazgûl away. She takes him to Rivendell, where he is healed by the Elves. Frodo meets with Gandalf, who escaped Isengard on a Great Eagle. That night, Strider reunites with Arwen, and they affirm their love for each other.\\nLearning of Saruman's betrayal from Gandalf and now realizing that they are facing threats from both Sauron and Saruman, Arwen's father, Lord Elrond, decides against keeping the Ring in Rivendell. He holds a council of Elves, Men, and Dwarves, also attended by Frodo and Gandalf, that decides the Ring must be destroyed in the fires of Mount Doom. Frodo volunteers to take the Ring, accompanied by Gandalf, Sam, Merry, Pippin, Elf Legolas, Dwarf Gimli, Boromir of Gondor, and Strider—who is actually Aragorn, Isildur's heir and the rightful King of Gondor. Bilbo, now living in Rivendell, gives Frodo his sword Sting, and a chainmail shirt made of mithril.\\nThe Fellowship of the Ring makes for the Gap of Rohan, but discover it is being watched by Saruman's spies. They instead set off over the mountain pass of Caradhras, but Saruman summons a storm that forces them to travel through the Mines of Moria, where a tentacled water beast blocks off the entrance with the Fellowship inside, giving them no choice but to journey to the exit on the other end. After finding the Dwarves of Moria dead, the Fellowship is attacked by Orcs and a cave troll. They hold them off but are confronted by Durin's Bane: a Balrog residing within the mines. While the others escape, Gandalf fends off the Balrog and casts it into a vast chasm, but the Balrog drags Gandalf down into the darkness with him. The devastated Fellowship reaches Lothlórien, ruled by the Elf-queen Galadriel, who privately informs Frodo that only he can complete the quest and that one of the Fellowship will try to take the Ring. She also shows him a vision of the future in which Sauron succeeds in enslaving Middle-earth, including the Shire. Meanwhile, Saruman creates an army of Uruk-hai in Isengard to find and kill the Fellowship.\\nThe Fellowship travels by river to Parth Galen. Frodo wanders off and is confronted by Boromir, who, as Lady Galadriel had warned, tries to take the Ring. Uruk-hai scouts then ambush the Fellowship, attempting to abduct the Hobbits. Boromir breaks free of the Ring's magic and protects Merry and Pippin, but the Uruk-Hai leader, Lurtz, mortally wounds Boromir as they abduct the Hobbits. Aragorn arrives and kills Lurtz before comforting Boromir as he dies, promising to help the people of Gondor in the coming conflict. Fearing the Ring will corrupt his friends, Frodo decides to travel to Mordor alone, but allows Sam to come along, recalling his promise to Gandalf to look after him. As Aragorn, Legolas, and Gimli set out to rescue Merry and Pippin, Frodo and Sam make their way down the  pass of Emyn Muil, journeying on to Mordor. \\n\\n\\n== Cast ==\\n\\nBefore filming began on 11 October 1999, the principal actors trained for six weeks in sword fighting (with Bob Anderson), riding and boating. Jackson hoped such activities would allow the cast to bond so chemistry would be evident on screen as well as getting them used to life in Wellington. They were also trained to pronounce Tolkien's verses properly. After the shoot, the nine cast members playing the Fellowship got a tattoo, the Elvish symbol for the number nine, with the exception of John Rhys-Davies, whose stunt double got the tattoo instead. The film is noted for having an ensemble cast, and some\", mimetype='text/plain', start_char_idx=4311, end_char_idx=8490, text_template='{metadata_str}\\n\\n{content}', metadata_template='{key}: {value}', metadata_seperator='\\n'),\n",
       " TextNode(id_='721b24f0-ac96-4931-8912-08ef75e8f399', embedding=None, metadata={'title': 'The Lord of the Rings: The Fellowship of the Ring'}, excluded_embed_metadata_keys=[], excluded_llm_metadata_keys=[], relationships={<NodeRelationship.SOURCE: '1'>: RelatedNodeInfo(node_id='173941', node_type=<ObjectType.DOCUMENT: '4'>, metadata={}, hash='b9fc61721f6f9f8b6a26a43172b1c6279a43e000097b6c6ec5072cf0f9230d69'), <NodeRelationship.PREVIOUS: '2'>: RelatedNodeInfo(node_id='5234a1a5-f4e9-4a9a-af32-08cfbd0c929e', node_type=<ObjectType.TEXT: '1'>, metadata={}, hash='7fda0a28a9c639d41521f795b492a9684764c109d3a7dc9a724e8e9d611a5538'), <NodeRelationship.NEXT: '3'>: RelatedNodeInfo(node_id='7d876e48-72c0-411f-a535-b585ad8c2482', node_type=<ObjectType.TEXT: '1'>, metadata={}, hash='65827d5d1ec5a58c5eb54334d8a508164a9f44dd6c630bbe35cb4cd445ef45af')}, text='be cast, on 25 August 1999.\\nCate Blanchett as Galadriel: The elven co-ruler of Lothlórien alongside her husband Celeborn. Lucy Lawless was considered for the role.\\nChristopher Lee as Saruman the White: The fallen head of the Istari Order who succumbs to Sauron\\'s will through his use of the palantír. Lee was a major fan of the book, and read it once a year. He had also met J. R. R. Tolkien. He originally auditioned for Gandalf, but was judged too old.\\nHugo Weaving as Elrond: The Elven-Lord of Rivendell who leads the Council of Elrond, which ultimately decides to destroy the Ring. David Bowie expressed interest in the role, but Jackson stated, \"To have a famous, beloved character and a famous star colliding is slightly uncomfortable.\"\\nIan Holm as Bilbo Baggins: Frodo\\'s uncle who gives him the Ring after he decides to retire to Rivendell. Holm previously played Frodo in a 1981 radio adaption of The Lord of the Rings, and was cast as Bilbo after Jackson remembered his performance. Sylvester McCoy, who would later play Radagast the Brown in The Hobbit, was contacted about playing the role, and was kept in place as a potential Bilbo for six months before Jackson went with Holm.\\nAndy Serkis as Gollum (voice/motion-capture): A wretched hobbit-like creature whose mind was poisoned by the Ring after bearing it for 500 years. This character appears briefly in the prologue. In Mordor, one can only hear his voice shouting and in Moria, only his eyes and his nose appear. Serkis was working on the 1999 six-episode Oliver Twist miniseries when his agent told him that Jackson wanted to approach him to play Gollum. Despite ultimately accepting the role, Serkis was initially doubtful about taking the part as one of his Oliver Twist fellow actors opined that it wasn\\'t a good idea if his face wasn\\'t going to appear onscreen, aside that Jackson was unsure if Gollum could be portrayed with motion-capture performance as they wished.\\nThe cast also includes:\\n\\nSala Baker as Sauron: The Dark Lord of Mordor and the Ring\\'s true master, who manifests as an Eye after the destruction of his physical form.  Alan Howard provides Sauron’s voice.\\nMarton Csokas as Celeborn the Wise: The Elven-Lord of Lothlórien and Galadriel\\'s husband.\\nLawrence Makoare as Lurtz: The commander of Saruman\\'s Uruk-Hai forces.\\nCraig Parker as Haldir: The leader of the Galadhrim warriors guarding the border of Lothlórien.\\nMark Ferguson as Ereinion Gil-galad: The last Elven-King of the Noldor.\\nPeter McKenzie as Elendil the Tall: The last High King of Arnor and Gondor.\\nHarry Sinclair as Isildur: Elendil\\'s son and Aragorn\\'s ancestor who originally defeated Sauron.\\nDirector Peter Jackson has a small cameo as a man with a carrot in Bree.\\n\\n\\n== Comparison to the source material ==\\n\\nJackson, Walsh and Boyens made numerous changes to the story, for purposes of pacing and character development. Jackson said his main desire was to make a film focused primarily on Frodo and the Ring, the \"backbone\" of the story. The prologue condenses Tolkien\\'s backstory, in which The Last Alliance\\'s seven-year siege of Barad-dûr is a single battle, where Sauron is shown to explode, though Tolkien only said his spirit flees.\\nSome events and characters from the book are condensed or omitted (such is the case of Tom Bombadil) at the beginning of the film. The time between Gandalf leaving the Ring to Frodo and returning to reveal its inscription, which is 17 years in the book, is compressed for timing reasons. The filmmakers also decided to move the opening scenes of The Two Towers, the Uruk-hai ambush and Boromir\\'s death, to the film\\'s linear climax.\\nThe tone of the Moria sequence was altered. In the book, following the defeat on the Caradhras road, Gandalf advocates the Moria road against the resistance of the rest of the Fellowship (save Gimli), suggesting \"there is a hope that Moria is still free...there is even a chance that Dwarves are there,\" though no one seems to think this likely. Frodo proposes they take a company vote, but the discovery of Wargs on their trail forces them to accept Gandalf\\'s proposal. They only realise the Dwarves are all dead once they reach Balin\\'s tomb. The filmmakers chose instead for Gandalf to resist the Moria plan as a foreshadowing', mimetype='text/plain', start_char_idx=12800, end_char_idx=17055, text_template='{metadata_str}\\n\\n{content}', metadata_template='{key}: {value}', metadata_seperator='\\n'),\n",
       " TextNode(id_='7d876e48-72c0-411f-a535-b585ad8c2482', embedding=None, metadata={'title': 'The Lord of the Rings: The Fellowship of the Ring'}, excluded_embed_metadata_keys=[], excluded_llm_metadata_keys=[], relationships={<NodeRelationship.SOURCE: '1'>: RelatedNodeInfo(node_id='173941', node_type=<ObjectType.DOCUMENT: '4'>, metadata={}, hash='b9fc61721f6f9f8b6a26a43172b1c6279a43e000097b6c6ec5072cf0f9230d69'), <NodeRelationship.PREVIOUS: '2'>: RelatedNodeInfo(node_id='721b24f0-ac96-4931-8912-08ef75e8f399', node_type=<ObjectType.TEXT: '1'>, metadata={}, hash='481cbfe357b1bfb7a3fb40384849ee83ace6ec06607e5445257f63598be9e45c'), <NodeRelationship.NEXT: '3'>: RelatedNodeInfo(node_id='100a3fd0-8e42-4a50-a578-6af16206ac3f', node_type=<ObjectType.TEXT: '1'>, metadata={}, hash='141eab89f6a3b6a1eed5d9331b632e9e90567300ee08db11ac1fc34e9cacb2db')}, text='The filmmakers chose instead for Gandalf to resist the Moria plan as a foreshadowing device. Gandalf says to Gimli he would prefer not to enter Moria, and Saruman is shown to be aware of Gandalf\\'s hesitance, revealing an illustration of the Balrog in one of his books. The corpses of the dwarves are instantly shown as the Fellowship enter Moria. One detail that many critics commented upon is that, in the novel, Pippin tosses a mere pebble into the well in Moria (\"They then hear what sounds like a hammer tapping in the distance\"), whereas in the film, he knocks an entire skeleton in (\"Next, the skeleton ... falls down the well, also dragging down a chain and bucket. The noise is incredible.\").\\n\\n\\n== Production ==\\n\\n\\n=== Development ===\\nDirector Peter Jackson began working with Christian Rivers to storyboard the series in August 1997, as well as getting Richard Taylor and Weta Workshop to begin creating his interpretation of Middle-earth. Jackson told them to make Middle-earth as plausible and believable as possible, and to think of it in a historical manner.\\nIn November, Alan Lee and John Howe became the film trilogy\\'s primary conceptual designers, having had previous experience as illustrators for the book and various other tie-ins. Lee worked for the Art Department creating places such as Rivendell, Isengard, Moria, and Lothlórien, giving Art Nouveau and geometry influences to the Elves and Dwarves respectively. Though Howe contributed with Bag End and the Argonath, he focused on the design of the characters\\' armour, having studied it his entire life. Weta and the Art Department continued to design, with Grant Major turning the Art Department\\'s designs into architecture, and Dan Hennah scouting locations. On 1 April 1999, Ngila Dickson joined the crew as costume designer. She and 40 seamstresses would create 19,000 costumes, 40 per version for the actor and their doubles, wearing them out for an impression of age.\\n\\n\\n=== Filming locations ===\\n\\nFilming took place in various locations across New Zealand. Below is a list of filming locations, sorted by appearance order in the film:\\n\\n\\n=== Special effects ===\\n\\nThe Fellowship of the Ring makes extensive use of digital, practical and make-up special effects. One notable illusion used in almost every scene involved setting a proper scale so that the characters all appear to be the correct height. For example, Elijah Wood is 5 feet 6 inches (1.68 m) tall in real life, but his character, Frodo Baggins, is barely four feet in height. Various techniques were used to depict the hobbits and Gimli the Dwarf as being of diminutive stature. Fortunately, John-Rhys Davies – who played Gimli – happens to be the correct height in proportion to the hobbit actors, so did not need to be filmed separately as a third height variation. Large- and small-scale doubles were used in certain scenes, while entire duplicates of certain sets (including Bag End in Hobbiton) were built at two different scales, so that the characters would appear to be the appropriate size. At one point in the film, Frodo runs along a corridor in Bag End, followed by Gandalf. Elijah Wood and Ian McKellen were filmed in separate versions of the same corridor, built at two different scales, and a fast camera pan conceals the edit between the two. Forced perspective was also employed, so that it would look as though the short hobbits were interacting with taller Men and Elves. Even the simple use of kneeling down, to the filmmakers\\' surprise, turned out to be an effective method in creating the illusion.\\nFor the battle between the Last Alliance and Sauron\\'s forces that begins the film, an elaborate CGI animation system, called MASSIVE, was developed by Stephen Regelous; it allowed thousands of individual animated characters, or \"agents\" in the program, to act independently. This lent the illusion of realism to the battle sequences. The \"Making of\" Lord of the Rings DVD reports some interesting initial problems: for instance, in the first execution of a battle between groups of characters, the wrong groups attacked each other. In another early demo, some of the warriors at the edge of the field could be seen running away. They were initially moving in the wrong direction, and had been programmed to keep running until they encountered an enemy.\\nThe digital creatures were important due to Jackson\\'s requirement of biological plausibility. Their surface texture was scanned from large maquettes before numerous digital details of their skeletons and muscles were added. In the case of the Balrog, Gray Horsfield created a system that copied recorded imagery of fire.\\n\\n\\n=== Score ===\\n\\nJames Horner turned down the offer to compose the score. The musical score for The Lord of the Rings films was composed by Howard Shore. It was performed by the New Zealand Symphony Orchestra, the London Philharmonic Orchestra, the London Voices, The London Oratory School', mimetype='text/plain', start_char_idx=16971, end_char_idx=21894, text_template='{metadata_str}\\n\\n{content}', metadata_template='{key}: {value}', metadata_seperator='\\n'),\n",
       " TextNode(id_='916b53a3-18e7-49a8-a106-db9c866f6152', embedding=None, metadata={'title': 'Dune (2021 film)'}, excluded_embed_metadata_keys=[], excluded_llm_metadata_keys=[], relationships={<NodeRelationship.SOURCE: '1'>: RelatedNodeInfo(node_id='52659577', node_type=<ObjectType.DOCUMENT: '4'>, metadata={}, hash='30576c4b0d2c665aacf99fca36da60c7a55b87e5abd30680640ce53ab573cb2e'), <NodeRelationship.PREVIOUS: '2'>: RelatedNodeInfo(node_id='017530d6-c511-40f4-bcbf-955572f094a8', node_type=<ObjectType.TEXT: '1'>, metadata={}, hash='08b95d4b0e5bc716b3526c3fa69829ff5c82ba24cf7b1830a3f18dc7c29ae9a6'), <NodeRelationship.NEXT: '3'>: RelatedNodeInfo(node_id='b9444371-9be4-48ca-888c-b9793313d70b', node_type=<ObjectType.TEXT: '1'>, metadata={}, hash='e21c01b9d6aa9600c41190f59210c15e84dfc7f8484be43317a7dadf7cc45282')}, text='an Assistant Professor of Islamic Studies at Bucknell University, felt that the casting of African actors excluded MENA actors, and that characters portrayed by African people felt \"ultimately empty\" as they had died or were not as developed as Paul and Lady Jessica.\\n\\n\\n=== Accolades ===\\n\\nDune was nominated for ten Academy Awards (winning six), three Golden Globe Awards (winning one), eleven British Academy Film Awards (winning five), ten Critics\\' Choice Movie Awards (winning three), two AACTA International Awards (winning one), ten Satellite Awards (winning five), one Grammy Award, one Hollywood Music in Media Awards (won), four People\\'s Choice Awards, one Screen Actors Guild Awards, three Dorian Awards (winning one), and one Nickelodeon Kids\\' Choice Award (won), among others. It was also ranked as one of the top ten films of 2021 by the American Film Institute.\\n\\n\\n== Analysis ==\\nKara Kennedy concluded that some parts are very faithful to the source material while others are heavily adjusted, such as the opening of the story and the portrayal of the Harkonnen. Frank Jacob found that the film has a stronger Orientalization of the Fremen than Lynch\\'s film adaptation, shown through elements such as Chani appearing like the Afghan Girl on the cover of National Geographic in 1985. Edwardo Pérez explored the depiction of the Fremen, masculinity and femininity, and issues of cultural appropriation in the film. He perceived Paul\\'s \"feminine\" Bene Gesserit skills and \"masculine\" military training as contributing to his initial \"androgynous\" and timid nature, later becoming masculine after killing Jamis. According to him, this alongside Duke Leto\\'s sympathy during Paul\\'s concerns about being leader showed that one must acknowledge their masculine and feminine nature for success by pursuing leadership passively.\\nYosr Dridi found screenplay changes made to adjust the source material for a \"culturally-aware and race-conscious 21st century audience\" as eliminating the Arab and Oriental elements for the story, and focusing more on Fremen culture and society rather than the elements of geopolitical worldbuilding from the book, noting how Princess Irulan\\'s original historical epigraphs in the book being replaced with Chani\\'s narration. However, Dridi stated that the film framed Fremen society through Paul\\'s perspective, which constrained the Oriental in \"dominating frameworks\" and disliking the usage of few Arabic words from the Fremen lexicon in the film. Misha Grifka Wander has shown how the film downplays ecology and elements from MENA cultures in favor of the chosen one storytelling trope. Doru Pop discussed the controversies and changes made in the adaptation of Dune to film and Isaac Asimov\\'s Foundation to a television series, particularly the gender and racial changes to key characters. Ion Indolean looked at how Villeneuve cinematographically expresses the story of Paul using elements of the space opera genre and follows in the steps of director Ridley Scott in Blade Runner (1982) and Alien (1979).\\n\\n\\n== Sequels and spin-offs ==\\nVilleneuve intended to make a two-part adaptation of the novel, and by November 2019, Jon Spaihts left his position as showrunner on Dune: Prophecy to focus on writing the sequel film. Villeneuve felt that Warner Bros.\\' decision in December 2020 to simultaneously release their 2021 films through HBO Max alongside a theatrical release due to the impact of the COVID-19 pandemic on cinema could compromise the film\\'s financial performance, resulting in the cancellation of the sequel, though Warner Bros. assured him a sequel would be greenlit as long as the film performed well on HBO Max.\\nFollowing the film\\'s success, Warner Bros. and Legendary Pictures officially greenlit Dune: Part Two in October 2021. Villeneuve\\'s main concern was to finish the production, which would benefit from all the work on the first part. Main characters reprise their role from the first film, with additional casting lasting from March to July 2022, and concluding by January 2023. Preliminary filming began in Italy by early July 2022, and concluded that December. The film was released on March 1, 2024. Dune: Part Two\\'s world premiere took place at Odeon Luxe Leicester Square in London on February 15.\\nVilleneuve expressed interest in making a third film based on Dune Messiah, the second novel in the series, adding that the possibility for the film depended on the success of Dune: Part Two. Spaihts also reiterated in March 2022 that Villeneuve had plans for a third film as well as the television spin-off series Dune: Prophecy. In August 2023, Villeneuve declared his intentions for the film to serve as the conclusion of his Dune trilogy. Villeneuve began developing a script by 2023. In February 2024, Villeneuve said the script', mimetype='text/plain', start_char_idx=55113, end_char_idx=59911, text_template='{metadata_str}\\n\\n{content}', metadata_template='{key}: {value}', metadata_seperator='\\n'),\n",
       " TextNode(id_='ac023e08-3c1e-4b19-9682-8d083d3441d8', embedding=None, metadata={'title': 'Dune (2021 film)'}, excluded_embed_metadata_keys=[], excluded_llm_metadata_keys=[], relationships={<NodeRelationship.SOURCE: '1'>: RelatedNodeInfo(node_id='52659577', node_type=<ObjectType.DOCUMENT: '4'>, metadata={}, hash='30576c4b0d2c665aacf99fca36da60c7a55b87e5abd30680640ce53ab573cb2e'), <NodeRelationship.PREVIOUS: '2'>: RelatedNodeInfo(node_id='56a54cac-cd5a-49dd-a770-7948e2c6c571', node_type=<ObjectType.TEXT: '1'>, metadata={}, hash='f098bcd77b84ec5e66eb8d24e046e36ef31cec70f92c4b3dc853989b050215a4'), <NodeRelationship.NEXT: '3'>: RelatedNodeInfo(node_id='2bf9f823-440c-427b-b8ce-edb142b403fe', node_type=<ObjectType.TEXT: '1'>, metadata={}, hash='689082d3fc4a40c3580cba1239369878224bb55018152a80e354631667798418')}, text='love for the book. Zimmer did not want the soundtrack to sound like his previous works and used instruments atypical of a Western orchestra. He avoided watching Lynch\\'s Dune so as not to be influenced by Toto\\'s music, instead spending a week in a Utah desert to incorporate its sounds into the score. The music was performed using an eclectic set of instruments, including some created specifically for the soundtrack. Performers for the score include guitarist Guthrie Govan and vocalist Loire Cotler. Additional music was composed by Steve Mazzaro and David Fleming, both of whom worked in collaboration with Zimmer to keep his pieces on theme. The soundtrack pieces include bagpipes for the House Atreides theme, which was suggested as Villeneuve\\'s idea of something \"ancient and organic\". Zimmer found 30 bagpipe players around Edinburgh during the COVID-19 pandemic and recorded them playing in a church.\\nFor the first Dune trailer, Zimmer supervised a 32-person choir via FaceTime (necessitated by pandemic restrictions) for the recording of a cover of Pink Floyd\\'s song \"Eclipse\". Choir members gathered in groups of four over eight separate sessions in Santa Monica at Zimmer\\'s Remote Control studio while Zimmer conducted from home.\\nThree soundtrack albums were released for the film by WaterTower Music, including The Dune Sketchbook (Music from the Soundtrack), Dune (Original Motion Picture Soundtrack), and The Art and Soul of Dune on September 3, September 17, and October 22, 2021, respectively. Villeneuve said Zimmer spent \"months and months creating new instruments, defining, creating, and seeking new sounds, pushing the envelope\" and praised his work on the film. Two singles were released on July 22, titled \"Paul\\'s Dream\" and \"Ripples in the Sand\". The film\\'s score was nominated for the Best Score Soundtrack for Visual Media at the 2022 Grammy Awards.\\n\\n\\n== Marketing ==\\nIn April 2020, Vanity Fair published a two-part extensive first-look report on Dune. Empire provided additional first looks in October ahead of the film\\'s trailer release. A teaser trailer was released on September 9 featuring a remix of the Pink Floyd song \"Eclipse\" (1973) combined with Zimmer\\'s score. Zack Sharf of IndieWire gave the trailer a positive review, and wrote \"It\\'s full of eye-popping set design\", in addition to stating, \"The two [Denis Villeneuve and Greig Fraser] have brought a tangibility to Frank Herbert\\'s world that should make Dune a visceral experience for moviegoers.\" Miles Surrey from The Ringer also gave the trailer a positive review, and felt the trailer \"undoubtedly looks promising,\" and noted that, though the source material has been \"notoriously unadaptable,\" he felt \"the curse could be broken,\" due to the cast and Villeneuve\\'s direction. Similarly, Deadline Hollywood\\'s Dino-Ray Ramos also praised the trailer for its scale, writing that it contained \"sci-fi prestige and the epic scale that includes mind-boggling action, elegant cinematography and fantastical nuances that still leave room for grounded and very human storytelling\".\\nThe first ten minutes of the film were screened in select IMAX theaters worldwide on July 21 and 22, 2021, in an event that also included a behind-the-scenes look at the film and the debut of the film\\'s theatrical trailer, on July 22. Angela Wattercutter of Wired stated that the trailer \"is begging you to see it in theaters\". Jennifer Yuma from Variety praised the cast and visuals, and praised its scope, calling the trailer \"epic\". Similarly, Aaron Couch from The Hollywood Reporter also praised the cast and thought the film was an \"ambitious sci-fi adaptation\". Anthony Breznican from Vanity Fair also gave the trailer a positive review and stated, \"It will seem more mysterious to those unfamiliar with the story, but like Chani does herself in those dream missives to Paul, it hints at big, impressive things to come\". Vulture\\'s Zoe Haylock was also impressed by the trailer, and advocated watching the film in theaters, praising the visuals as \"transcendental natural settings\". Writing for Entertainment Weekly, Christian Holub felt the trailer \"sets the stage cleanly\".\\nOn February 26, 2019, Funcom entered into an exclusive partnership with Legendary Entertainment to develop games related to the upcoming Dune films. \\nAn artbook, The Art and Soul of Dune, was released alongside the film on October 22, 2021. The book was written by the executive producer Tanya Lapointe, and it included a soundtrack album of the same name composed by Zimmer. The book was available in both a standard and deluxe edition. In September 2020, McFarlane Toys started a line of 7-inch figures modeled after characters from the film. A 12-inch figure of Baron Harkonnen was introduced at the same time. The action figures were released in December', mimetype='text/plain', start_char_idx=36773, end_char_idx=41582, text_template='{metadata_str}\\n\\n{content}', metadata_template='{key}: {value}', metadata_seperator='\\n'),\n",
       " TextNode(id_='b4697bf6-0c6f-4b65-935c-8cc36b5ad079', embedding=None, metadata={'title': 'Dune: Part Two'}, excluded_embed_metadata_keys=[], excluded_llm_metadata_keys=[], relationships={<NodeRelationship.SOURCE: '1'>: RelatedNodeInfo(node_id='63790171', node_type=<ObjectType.DOCUMENT: '4'>, metadata={}, hash='34723c64e6eadc20fcd8756e30d24cd5226467ce3542787af64c46906ce73cb6'), <NodeRelationship.PREVIOUS: '2'>: RelatedNodeInfo(node_id='2be783bc-f990-49b7-8233-faeef91b3819', node_type=<ObjectType.TEXT: '1'>, metadata={}, hash='24ae65ee73e1889c087a1993ef39bb344e6399690e5f09ffa0d3159f6656627f'), <NodeRelationship.NEXT: '3'>: RelatedNodeInfo(node_id='e8aeb2c9-70fd-4897-8c0a-d364751b6bb7', node_type=<ObjectType.TEXT: '1'>, metadata={}, hash='a1d1bff41b15f28c51404f1e5f2498d9b67d3484f08d641e9f9f19c10c13e09c')}, text='Fremen soldiers.\\nIn November, production moved to Abu Dhabi, with Pugh finishing her scenes in November. Certain scenes set at dawn had to be filmed across three days to take advantage of the golden hour. A special unit of production filmed scenes with Taylor-Joy in Namibia, the driest country in sub-Saharan Africa. Filming wrapped on December 12, 2022. Due to the delays, Villeneuve was able to make a film transfer for projection using the IMAX 70 mm and conventional 70 mm film formats.\\nPugh delivered Princess Irulan\\'s opening narration during her first day of filming and for overall production. Villeneuve and cinematographer Greig Fraser filmed Feyd-Rautha\\'s gladiator sequence with specially designed black-and-white infrared cameras. They wanted the Harkonnens to cheer and stomp rather than applaud, and designed over 30 sections for spectators in the arena. Butler spent his first week on set filming the scene, while the set had very high temperatures that caused some people to faint. He also improvised his kiss scene with the Baron.\\nFor romantic scenes between Paul and Chani, the scenes were primarily filmed in remote locations in Jordan during the golden hour. The scenes were often filmed as quickly as possible, with only a one-hour window being available. The scene of Paul\\'s sandworm ride was filmed practically on a production unit, separate from the main one, led by producer Tanya Lapointe and a special team. Chalamet filmed his scenes on a platform meant to imitate a portion of the sandworm, with gripping devices serving as the reference for the Fremen hooks. An industrial fan blew sand on set to emulate the desert climate. Chalamet estimated the scene took over three months to film, with individual shoots occurring over a span of 20–30 minutes. As the actual sandworm was not built and there were no reference shots, the production team designed a small portion of the worm on set and the actors had to physically visualize and imitate riding the sandworm.\\nButler and Chalamet separately trained with a Kali instructor in Los Angeles for the climactic battle between Paul and Feyd-Rautha. They were excited to do the scene, and immediately began practicing once they later met in Budapest. They performed the scene by themselves, including for wide camera shots. Chalamet delivers the monologue entirely in Chakobsa. Ferguson cited Lady Jessica undergoing the Reverend Mother process as her favorite scene, working with contortionists for the scene and comparing it to an Exorcist film.\\n\\n\\n== Music ==\\n\\nHans Zimmer returned to compose the film\\'s score after doing so for the previous film. Zimmer had composed over 90 minutes of music prior to the announcement of the film to help give Villeneuve inspiration when writing. Two singles were released on February 15, 2024, by WaterTower Music, titled \"A Time of Quiet Between the Storms\" and \"Harvester Attack\". The full soundtrack album was released on February 23.\\n\\n\\n== Marketing ==\\nA teaser trailer for Dune: Part Two was presented during the Warner Bros. panel at CinemaCon on April 27, 2023. First-look footage of the cast in-character were released online, alongside a teaser poster, on May 2, 2023. The trailer was released to the public the following day. Variety called it \"breathtaking\"; GQ hailed the shots of Paul riding a sandworm as \"the standout sequence\"; and Fangoria remarked \"If you\\'re not excited for this one, we dunno what to tell you\". Chalamet and Zendaya later discussed and promoted the film at a Warner Bros. presentation at CineEurope on June 21.\\nA second trailer was released on June 29, 2023. Chris Evangelista of Film was excited about the appearance of Christopher Walken as Emperor Shaddam IV. Ben Travis of Empire praised the \"seismic\" and \"astounding, none-more-eye-boggling\" imagery, feeling the scope to be \"particularly expansive\" and noted the monochromatic footage depicting Austin Butler\\'s Feyd-Rautha while calling the footage of Christopher Walken\\'s appearance \"impactful\". Joshua Rivera of Polygon opined \"The trailer, simply put, rocks\" and enjoyed the footage present.\\nThe film was promoted during the December 2023 CCXP with Chalamet, Zendaya, Pugh, Butler, and Villeneuve, where over 10 minutes of footage was released. Additional footage from Dune: Part Two was shown during a limited IMAX theatrical re-release of Christopher Nolan\\'s Tenet (2020), as part of Warner Bros.\\' celebration for the former film\\'s release.\\nWarner Bros. and Legendary Pictures partnered with Xbox to provide an immersive content suite related to the film, and visual designs inspired by the film being featured on a floating controller, Xbox Series X, and a console holder. Microsoft Flight Simulator also included an expansion pack allowing players to explore Arrakis and pilot', mimetype='text/plain', start_char_idx=17946, end_char_idx=22732, text_template='{metadata_str}\\n\\n{content}', metadata_template='{key}: {value}', metadata_seperator='\\n'),\n",
       " TextNode(id_='b9444371-9be4-48ca-888c-b9793313d70b', embedding=None, metadata={'title': 'Dune (2021 film)'}, excluded_embed_metadata_keys=[], excluded_llm_metadata_keys=[], relationships={<NodeRelationship.SOURCE: '1'>: RelatedNodeInfo(node_id='52659577', node_type=<ObjectType.DOCUMENT: '4'>, metadata={}, hash='30576c4b0d2c665aacf99fca36da60c7a55b87e5abd30680640ce53ab573cb2e'), <NodeRelationship.PREVIOUS: '2'>: RelatedNodeInfo(node_id='916b53a3-18e7-49a8-a106-db9c866f6152', node_type=<ObjectType.TEXT: '1'>, metadata={}, hash='0da21008b2fa8077a2f3a38931473bdb8145963d3afcdd3dd95eff2105007bbe')}, text='developing a script by 2023. In February 2024, Villeneuve said the script was \"almost finished\" but also wanted to take time to ensure his satisfaction, citing Hollywood\\'s tendency of focusing on release dates over quality. Ahead of Dune: Part Two\\'s release, Hans Zimmer revealed he was already writing music for a third film.\\nIn June 2019, Legendary Television announced it is producing a spin-off series, Dune: The Sisterhood, for WarnerMedia\\'s streaming service, HBO Max. The series serves as a prequel to the film and centers on the Bene Gesserit. Initially, Villeneuve was going to direct the series\\' pilot, with Spaihts writing the screenplay and Dana Calvo as showrunner for the series. In November 2019, Spaihts left the series as writer to focus on the sequel film. Spaihts and Villeneuve remain as executive producers along with Brian Herbert, Byron Merritt, and Kim Herbert. In July 2021, Diane Ademu-John took over as showrunner. Spaihts and Villeneuve confirmed in March 2022 that the show is still in development. In April 2022, it was announced that Johan Renck will direct the first two episodes. Travis Fimmel joined the cast in November 2022. In February 2023, it was announced that production was put on hiatus as Renck exited the project. The series was retitled Dune: Prophecy in November 2023.\\n\\n\\n== See also ==\\nList of films split into multiple parts\\n\\n\\n== References ==\\n\\n\\n== Further reading ==\\nBritt, Ryan. (2023). The Spice Must Flow: The Story of Dune, from Cult Novels to Visionary Sci-Fi Movies. Penguin Random House LLC. ISBN 978-0593472996.\\nKennedy, Kara (2024), Adaptations of Dune: Frank Herbert\\'s Story on Screen. Blue Key. ISBN 978-1-953609-99-1.\\nJacob, Frank. (2022). The Orientalist Semiotics of Dune: Religious and Historical References within Frank Herbert\\'s Universe. Büchner. ISBN 978-3-96317-302-8.\\n\\n\\n== External links ==\\n\\nOfficial website\\nDune at IMDb \\nOfficial screenplay', mimetype='text/plain', start_char_idx=59838, end_char_idx=61750, text_template='{metadata_str}\\n\\n{content}', metadata_template='{key}: {value}', metadata_seperator='\\n'),\n",
       " TextNode(id_='bd9c5aff-c584-4e17-971c-9f070c9d3238', embedding=None, metadata={'title': 'Dune: Part Two'}, excluded_embed_metadata_keys=[], excluded_llm_metadata_keys=[], relationships={<NodeRelationship.SOURCE: '1'>: RelatedNodeInfo(node_id='63790171', node_type=<ObjectType.DOCUMENT: '4'>, metadata={}, hash='34723c64e6eadc20fcd8756e30d24cd5226467ce3542787af64c46906ce73cb6'), <NodeRelationship.NEXT: '3'>: RelatedNodeInfo(node_id='d2bbcba0-b481-4d16-a7ea-4b37f899dddb', node_type=<ObjectType.TEXT: '1'>, metadata={}, hash='6bd59636716e9e26857692fbf7a863b64217bdb8cdc5620a8549ddc4119d4442')}, text='Dune: Part Two is a 2024 American epic science fiction film directed and produced by Denis Villeneuve, who co-wrote the screenplay with Jon Spaihts. The sequel to Dune (2021), it is the second of a two-part adaptation of the 1965 novel Dune by Frank Herbert. It follows Paul Atreides as he unites with the Fremen people of the desert planet Arrakis to wage war against House Harkonnen. Timothée Chalamet, Rebecca Ferguson, Josh Brolin, Stellan Skarsgård, Dave Bautista, Zendaya, Charlotte Rampling, and Javier Bardem reprise their roles from the first film, with Austin Butler, Florence Pugh, Christopher Walken and Léa Seydoux joining the ensemble cast.\\nDevelopment began after Legendary Entertainment acquired film and television rights for the Dune franchise in 2016. Villeneuve signed on as director in 2017, intending to make a two-part adaptation of the novel due to its complexity. Production contracts were only secured for the first film, with the second film having to be greenlit based on the first\\'s success. After the critical and commercial success of the first film, Legendary green-lit Dune: Part Two in October 2021. Principal photography took place in Budapest, Italy, Jordan, and Abu Dhabi between July and December 2022.\\nAfter being delayed from an original November 2023 release date due to the 2023 Hollywood labor disputes, the film premiered at the Odeon Luxe Leicester Square, London, on February 15, 2024, and was released in the United States on March 1, to positive reviews. It set several box office records and has grossed over $712 million worldwide, surpassing its predecessor and making it the second-highest-grossing film of 2024. A sequel based on Herbert\\'s 1969 novel Dune Messiah is in development.\\n\\n\\n== Plot ==\\nFollowing the destruction of House Atreides by House Harkonnen, Princess Irulan, the daughter of Padishah Emperor Shaddam IV, journals about her father\\'s betrayal of the Atreides. On Arrakis, Stilgar\\'s Fremen troops, including Paul Atreides and his pregnant Bene Gesserit mother, Lady Jessica, overcome a Harkonnen patrol. When Jessica and Paul reach Sietch Tabr, some Fremen suspect they are spies, while Stilgar and others see signs of the prophecy that a mother and son from the \"Outer World\" will bring prosperity to Arrakis.\\nStilgar tells Jessica that she must succeed Sietch Tabr\\'s dying Reverend Mother by drinking the Water of Life—a poison fatal for males and untrained women. Her Bene Gesserit training allows Jessica to transmute and survive the poison, inheriting the memories of all the past Reverend Mothers, but the liquid also prematurely awakens the mind of her unborn daughter, Alia, allowing Jessica to communicate with her. They agree to focus on convincing the more skeptical northern Fremen of the prophecy. Chani and her friend, Shishakli, correctly believe the prophecy was fabricated to manipulate the Fremen, but Chani begins to respect Paul after he declares that he only intends to fight alongside the Fremen, not to rule them.\\nPaul and Chani fall in love as Paul immerses himself in Fremen culture: learning their language, becoming a Fedaykin fighter, riding a sandworm, and raiding Harkonnen spice operations. Paul adopts the Fremen names \"Usul\" and \"Muad\\'Dib\". Due to the continuing spice raids, Baron Vladimir Harkonnen replaces his nephew, Rabban, as Arrakis\\'s ruler with his more cunning and psychopathic younger nephew, Feyd-Rautha. Lady Margot Fenring, a Bene Gesserit, is sent to evaluate Feyd-Rautha as a prospective Kwisatz Haderach and secure his genetic lineage.\\nJessica travels south to unite with Fremen fundamentalists who believe most strongly in the prophecy. Paul remains in the north, fearful that his visions of an apocalyptic holy war will come to pass if he goes south as a messiah. During a raid on a smuggler spice harvester, Paul reunites with Gurney Halleck, who leads Paul to the hidden atomic warhead stockpile of House Atreides. Feyd-Rautha unleashes a devastating attack on the northern Fremen, destroying Sietch Tabr, killing Shishakli, and forcing Paul and the survivors to journey south. Upon arrival, Paul drinks the Water of Life and falls into a coma. This angers Chani, but Jessica compels her to mix her tears with the liquid, which awakens Paul. Now possessing clairvoyance across space and time, Paul sees an adult Alia on water-filled Arrakis. He also sees a singular path to victory among all possible futures, and that Jessica is', mimetype='text/plain', start_char_idx=0, end_char_idx=4451, text_template='{metadata_str}\\n\\n{content}', metadata_template='{key}: {value}', metadata_seperator='\\n'),\n",
       " TextNode(id_='d2bbcba0-b481-4d16-a7ea-4b37f899dddb', embedding=None, metadata={'title': 'Dune: Part Two'}, excluded_embed_metadata_keys=[], excluded_llm_metadata_keys=[], relationships={<NodeRelationship.SOURCE: '1'>: RelatedNodeInfo(node_id='63790171', node_type=<ObjectType.DOCUMENT: '4'>, metadata={}, hash='34723c64e6eadc20fcd8756e30d24cd5226467ce3542787af64c46906ce73cb6'), <NodeRelationship.PREVIOUS: '2'>: RelatedNodeInfo(node_id='bd9c5aff-c584-4e17-971c-9f070c9d3238', node_type=<ObjectType.TEXT: '1'>, metadata={}, hash='2f9ce7a21af63433f306f105641fc3af59bdb4e50242394d06f44e1efb181c8c'), <NodeRelationship.NEXT: '3'>: RelatedNodeInfo(node_id='2646d216-577e-4d88-b70c-036e38ff5485', node_type=<ObjectType.TEXT: '1'>, metadata={}, hash='078b0961ffe922edfbc4bfbdd0dbd8f595a142fd2b10c11dbb7863dec7be2dc6')}, text='Arrakis. He also sees a singular path to victory among all possible futures, and that Jessica is Baron Harkonnen\\'s daughter.\\nPaul meets with the southern Fremen war council, galvanizing the crowd by demonstrating his ability to discern their deepest thoughts. He declares himself the Lisan al Gaib and sends a challenge to Shaddam, who arrives on Arrakis with Irulan and the Sardaukar. As Shaddam chastises the Harkonnens for their failures, the Fremen launch an offensive, using atomics and sandworms to overpower the Sardaukar. Paul executes the Baron and captures Shaddam and his entourage. Meanwhile, Gurney leads an assault on Arrakeen, intercepting and killing Rabban.\\nPaul challenges Shaddam for the throne and, to Chani\\'s dismay, demands to marry Irulan. Previously summoned by the Baron, the Great Houses arrive in orbit, ready to invade the planet, but Paul threatens to destroy the spice fields with atomic weapons if they intervene. Feyd-Rautha volunteers to be Shaddam\\'s champion, and Paul kills him in a duel. Irulan agrees to Paul\\'s request for marriage on the condition that her father lives. Shaddam surrenders, but the Great Houses reject Paul\\'s ascendancy, so he orders the Fremen to attack the orbiting fleet. As Stilgar leads the Fremen onto the captured Sardaukar ships, Jessica and Alia reflect on the beginning of Paul\\'s holy war. Chani insolently refuses to bow to Paul and departs alone on a sandworm.\\n\\n\\n== Cast ==\\n\\nAnya Taylor-Joy makes an uncredited cameo appearance as Alia Atreides, Paul\\'s unborn sister who appears in his visions as well as communicating to Jessica while in her womb. Babs Olusanmokun and Roger Yuan reprise their roles from the first film as Jamis and Lieutenant Lanville, respectively. Stephen McKinley Henderson filmed scenes reprising his role as Thufir Hawat, while Tim Blake Nelson filmed scenes as an undisclosed character, but their scenes were not included in the final cut. Both were given a \"Special Thanks\" credit by Villeneuve.\\n\\n\\n== Production ==\\n\\n\\n=== Development ===\\n\\nIn November 2016, Legendary Pictures obtained the film and TV rights for the Dune franchise, based on the eponymous 1965 novel by Frank Herbert. Vice chair of worldwide production for Legendary Mary Parent began discussing with Denis Villeneuve about directing a film adaptation, quickly hiring him after realizing his passion for Dune. In February 2018, Villeneuve was confirmed to be hired as director, and intended to adapt the novel as a two-part film series. Villeneuve ultimately secured a two-film deal with Warner Bros. Pictures, in the same style as the two-part adaption of Stephen King\\'s It in 2017 and 2019. In January 2019, Joe Walker was confirmed as the film\\'s editor. Other crew included Brad Riker as supervising art director, Patrice Vermette as production designer, Paul Lambert as visual effects supervisor, Gerd Nefzer as special effects supervisor, and Thomas Struthers as stunt coordinator.\\nDune: Part Two was produced by Villeneuve, Mary Parent, and Cale Boyter, with Tanya Lapointe, Brian Herbert, Byron Merritt, Kim Herbert, Thomas Tull, Jon Spaihts, Richard P. Rubinstein, John Harrison, and Herbert W. Gain serving as executive producers and Kevin J. Anderson as creative consultant. Legendary CEO Joshua Grode confirmed in April 2019 that they plan to make a sequel, adding that \"there\\'s a logical place to stop the [first] movie before the book is over\".\\nIn December 2020, Villeneuve stated that due to Warner Bros.\\' plan to release the film in theaters and on HBO Max simultaneously, the first film could underperform financially, resulting in cancellation of the planned sequel. In an IMAX screening of the first film\\'s first ten minutes, the title logo read Dune: Part One, lending credence to plans for the sequel. In August 2021, Villeneuve spoke more confidently about the chances of a sequel film, iterating his excitement to work with Timothée Chalamet and Zendaya again, while stating Chani would have a bigger role in the sequel. Warner Bros. assured Villeneuve a sequel would be greenlit as long as the film performed well on HBO Max. Just days prior to the first film\\'s release, Warner Bros. CEO Ann Sarnoff stated, \"Will we have a sequel to Dune? If you watch the movie you see how it ends. I think you pretty much know the answer to that.\"\\nOn October 26, 2021, Legendary officially greenlit Dune: Part Two, with a spokesperson for the company stating, \"We would not have gotten to this point without the extraordinary vision of Denis', mimetype='text/plain', start_char_idx=4355, end_char_idx=8863, text_template='{metadata_str}\\n\\n{content}', metadata_template='{key}: {value}', metadata_seperator='\\n'),\n",
       " TextNode(id_='d43be95f-3022-4948-933f-b39c3f22d6c6', embedding=None, metadata={'title': 'Dune: Part Two'}, excluded_embed_metadata_keys=[], excluded_llm_metadata_keys=[], relationships={<NodeRelationship.SOURCE: '1'>: RelatedNodeInfo(node_id='63790171', node_type=<ObjectType.DOCUMENT: '4'>, metadata={}, hash='34723c64e6eadc20fcd8756e30d24cd5226467ce3542787af64c46906ce73cb6'), <NodeRelationship.PREVIOUS: '2'>: RelatedNodeInfo(node_id='e8aeb2c9-70fd-4897-8c0a-d364751b6bb7', node_type=<ObjectType.TEXT: '1'>, metadata={}, hash='a1d1bff41b15f28c51404f1e5f2498d9b67d3484f08d641e9f9f19c10c13e09c'), <NodeRelationship.NEXT: '3'>: RelatedNodeInfo(node_id='4390d4b5-f0d4-4325-8990-7045d7994fb0', node_type=<ObjectType.TEXT: '1'>, metadata={}, hash='d4635767f66b0291df8f8c6fc2fc5be67eb140d203092d847aa8d0ddce4352df')}, text='on February 6, 2024. Dune: Part Two\\'s world premiere was held at Odeon Luxe Leicester Square in London on February 15.\\nOn January 16, 2024, the film was shown to a dying man in a palliative care home in the Canadian city of Saguenay, in Denis Villeneuve\\'s native province of Quebec. The man had expressed a wish to see Dune: Part Two before his death. Josée Gagnon, the cofounder of a company aiming to accompany people at the end of life, relayed his wish to Villeneuve and Tanya Lapointe, his partner and one of the film\\'s producers, through a viral call-out on Facebook. According to Gagnon, Villeneuve and Lapointe \"were very touched\". The pair initially offered to invite the man to see Dune: Part Two in Los Angeles or Montreal, but since he was too weak to travel, Villeneuve eventually decided to send one of his assistants directly to Saguenay with his private laptop. The film was screened in a room of the care facility, where everyone was required to hand in their cellphones and sign waivers. The man was in too much pain to watch the entire film and stopped halfway through. He eventually died on January 25. This act, which the Canadian Broadcasting Corporation referred to as the actual \"world premiere\" of the film, was publicly disclosed after its theatrical release.\\n\\n\\n=== Home media ===\\nThe film was released digitally on April 16, 2024, and Blu-ray, DVD and Ultra HD Blu-ray on May 14, 2024, by Warner Bros. Home Entertainment. Dune: Part Two became available to stream on Max on May 21, 2024.\\n\\n\\n== Reception ==\\n\\n\\n=== Box office ===\\nAs of May 20, 2024, Dune: Part Two has grossed $282.1 million in the United States and Canada and $429.7 million in other territories, for a worldwide total of $712 million. The Hollywood Reporter had estimated that the film would break-even after grossing around $500 million. The film made over $145 million in IMAX alone globally.\\n\\n\\n==== Domestic ====\\nIn the United States and Canada, the film\\'s advanced ticket sales surpassed those of Oppenheimer (2023), and it was projected to gross $65–80 million from 4,050 theaters in its opening weekend. The film made $32.2 million on its first day, including $12 million from previews on February 25 and 29; IMAX screenings made up $4.5 million (38%) of the early totals. It went on to debut to $82.5 million, doubling the first film\\'s $41 million opening weekend; IMAX screenings made up $18.5 million (23%) of the total, a record for a March release. According to Jeff Goldstein, president of domestic distribution at Warner Bros., it was \"much higher than any of us could predict\", especially for \"a genre that is a hard nut to crack\". In its second weekend the film made $46 million (a 44% drop), finishing second behind newcomer Kung Fu Panda 4. It also surpassed the entire domestic gross of the first film ($108 million) in just seven days. The film made $28.5 million in its third weekend and $17.6 million in its fourth, remaining in second both times. It also became Timothée Chalamet\\'s highest-grossing film of all time, surpassing Wonka.\\n\\n\\n==== Other territories ====\\nOutside the US and Canada, the film was expected to gross $85–90 million from 71 markets in its opening weekend. It grossed $100.02 million in the first three days. In its second weekend, the sci-fi epic added $81 million from 72 international markets, including a $20 million opening in China. Dune: Part Two continued to hold well, grossing $51.2 million and $30.7 million in its third and fourth weekends respectively. As of April 14, 2024, the highest grossing markets were the United Kingdom ($48.1 million), China ($48.1 million),  France ($41.8 million), Germany ($38.7 million),  and Australia ($22 million).\\n\\n\\n=== Critical response ===\\nThe film \"largely received rave reviews from critics\", and was praised for its visual effects and cast performances. Some reviews considered it one of the greatest science fiction films ever made. On the review aggregator website Rotten Tomatoes, 92% of 434 critics\\' reviews are positive, with an average rating of 8.3/10. The website\\'s consensus reads: \"Visually thrilling and narratively epic, Dune: Part Two continues Denis Villeneuve\\'s adaptation of the beloved sci-fi series in spectacular form.\" Metacritic, which uses a weighted average, assigned the film a score of 79 out of', mimetype='text/plain', start_char_idx=27119, end_char_idx=31427, text_template='{metadata_str}\\n\\n{content}', metadata_template='{key}: {value}', metadata_seperator='\\n'),\n",
       " TextNode(id_='e0941cf4-4461-49ce-b81b-98930a8fc60c', embedding=None, metadata={'title': 'The Lord of the Rings: The Fellowship of the Ring'}, excluded_embed_metadata_keys=[], excluded_llm_metadata_keys=[], relationships={<NodeRelationship.SOURCE: '1'>: RelatedNodeInfo(node_id='173941', node_type=<ObjectType.DOCUMENT: '4'>, metadata={}, hash='b9fc61721f6f9f8b6a26a43172b1c6279a43e000097b6c6ec5072cf0f9230d69'), <NodeRelationship.PREVIOUS: '2'>: RelatedNodeInfo(node_id='f9b64fdb-9af5-4ad5-8308-331e2ce5760f', node_type=<ObjectType.TEXT: '1'>, metadata={}, hash='14a4cb71b88abc56c4f88887c12be0b66519b612115fa5129b31a776a0138471')}, text='of the film too serious and self-important, and wrote \"signing up to the movie\\'s whole hobbity-elvish universe requires a leap of faith... It\\'s a leap I didn\\'t feel much like making – and, with two more movie episodes like this on the way, the credibility gap looks wider than ever.\" Jonathan Rosenbaum was also less positive about The Fellowship of the Ring: in his review for the Chicago Reader, he granted that the film was \"full of scenic splendors with a fine sense of scale\", but he commented that its narrative thrust seemed \"relatively pro forma\", and that he found the battle scenes boring.\\n\\n\\n=== Accolades ===\\n\\nIn 2002, the film won four Academy Awards from thirteen nominations. The winning categories were for Best Cinematography, Best Visual Effects, Best Makeup, and Best Original Score. It was also nominated for Best Actor in a Supporting Role (Ian McKellen), Best Art Direction, Best Director, Best Film Editing, Best Original Song (Enya, Nicky Ryan and Roma Ryan for \"May It Be\"), Best Picture, Best Sound (Christopher Boyes, Michael Semanick, Gethin Creagh and Hammond Peek), Best Costume Design and Best Adapted Screenplay.\\nThe film won the 2002 Hugo Award for Best Dramatic Presentation. It also won Empire readers\\' Best Film award, as well as five BAFTAs, including Best Film, the David Lean Award for Best Direction, the Audience Award (voted for by the public), Best Special Effects, and Best Make-up. The film was nominated for an MTV Movie Award for Best Fight between Gandalf and Saruman.\\nIn June 2008, AFI revealed its \"10 Top 10\"—the ten best films in ten \"classic\" American film genres—after polling over 1,500 people from the creative community. The Fellowship of the Ring was acknowledged as the second best film in the fantasy genre. The film was also listed as the 50th best film in the 2007 list AFI\\'s 100 Years...100 Movies (10th Anniversary Edition).\\n\\n\\n== References ==\\n\\n\\n== External links ==\\n\\nOfficial website \\nThe Lord of the Rings: The Fellowship of the Ring at IMDb \\nThe Lord of the Rings: The Fellowship of the Ring at AllMovie \\nThe Lord of the Rings: The Fellowship of the Ring at Box Office Mojo \\nThe Lord of the Rings: The Fellowship of the Ring at Metacritic \\nThe Lord of the Rings: The Fellowship of the Ring at Rotten Tomatoes', mimetype='text/plain', start_char_idx=30838, end_char_idx=33112, text_template='{metadata_str}\\n\\n{content}', metadata_template='{key}: {value}', metadata_seperator='\\n'),\n",
       " TextNode(id_='e75a2399-37ff-4e8c-b3e9-6bbea0e8f8f1', embedding=None, metadata={'title': 'Dune (2021 film)'}, excluded_embed_metadata_keys=[], excluded_llm_metadata_keys=[], relationships={<NodeRelationship.SOURCE: '1'>: RelatedNodeInfo(node_id='52659577', node_type=<ObjectType.DOCUMENT: '4'>, metadata={}, hash='30576c4b0d2c665aacf99fca36da60c7a55b87e5abd30680640ce53ab573cb2e'), <NodeRelationship.PREVIOUS: '2'>: RelatedNodeInfo(node_id='4d9f9dd8-36ff-4253-9263-c59e24236ecf', node_type=<ObjectType.TEXT: '1'>, metadata={}, hash='c1e6ca6e1870adb85f4e49474ee7e1c7fec6576ea3651f4f5789e6ea2d190e51'), <NodeRelationship.NEXT: '3'>: RelatedNodeInfo(node_id='56a54cac-cd5a-49dd-a770-7948e2c6c571', node_type=<ObjectType.TEXT: '1'>, metadata={}, hash='f098bcd77b84ec5e66eb8d24e046e36ef31cec70f92c4b3dc853989b050215a4')}, text='it when designing their costumes. The Bene Gesserit sorceresses\\' costumes were based on tarot cards and chess pieces, while the Harkonnen armor was designed to resemble a bug\\'s shell, using medieval drawings of \"insects, spiders, ants, praying mantises and lizards\" as reference. Meanwhile, the Atreides\\' costumes were based on the Romanovs, describing their costumes as having a \"simplicity ... that was regal\". Lady Jessica\\'s dresses in the first half of the film were inspired by the works of Cristóbal Balenciaga, while the turmeric-toned gown she wears while landing on Arrakis was influenced by Middle Eastern clothing and paintings of women in North Africa.\\nWest cited the films Lawrence of Arabia (1962), Doctor Zhivago (1965), and Fahrenheit 451 (1966) as further inspirations for costume diversity. She also researched Roman and Greek mythology, feeling that the Atreides-Harkonnen feud was similar to a \"real Greek and Roman tragedy\". She dyed the gauze for Fremen cloth in desert colors, inspired by the sand and rocks in Jordanian filming locations. A prototype for the stillsuit was designed by West and Jose Fernandez at Ironhead Studios in Los Angeles. The prototype was then taken to Origo Studios, where a factory was set up to design additional suits within two weeks. He hired European artisans to create concept designs and over 150 individual pieces for the suits. Over 250 stillsuits were used when filming in Jordan. The suits were designed to be flexible and comfortably fit the actor\\'s body, while also remaining accurate to the book. They created \"micro-sandwiches\" of acrylic fibers and porous cottons, which absorbed the moisture and allowed the actors to remain cool inside the suits. Tubing also ran through the micro-sandwiches for increased flexibility. Zippers and buttons were not used as they were deemed \"archaic\".\\n\\n\\n=== Filming ===\\nPrincipal photography began on March 18, 2019, at Origo Film Studios in Budapest, Hungary, with Greig Fraser serving as cinematographer. The film was shot for the IMAX format with an IMAX-certified Arri Alexa LF camera and an IMAX-certified Alexa Mini LF prototype, equipped with Panavision\\'s large-format lenses in the Ultra Vista and H-series lineup. Select scenes had aspect ratios opened up to 1.90:1 on all IMAX screens, and to 1.43:1 on select IMAX screens outfitted with IMAX\\'s dual-laser projection system. The finished footage was transferred to 35mm film stock, then scanned back to 4K, in order to achieve a more film-like look. Filming occurred in Wadi Rum, Jordan, which doubled for Arrakis. The Liwa Oasis in the United Arab Emirates also served as a key backdrop for Arrakis, with filming there occurring across 11 days. Local businesses, freelancers from Twofour54, and crews consisting of over 100 people offered assistance during the shoot. Scenes featuring the rock formations functioning as the Fremens\\' heat shelters were filmed at the Rub\\' al Khali desert. Stadlandet, Norway doubled for the planet Caladan. Filming wrapped on July 26, 2019. Additional filming took place in Budapest by August 2020, which did not alter the film\\'s then-December 2020 release date.\\nParts of the Arrakeen invasion, such as shots of Gurney, extras, and practical explosions up to approximately five kilometers high, were filmed on backlots in Budapest. Duke Leto\\'s death scene was the final scene filmed by Isaac, in which he decided to film it nude as he felt it was similar to Christ\\'s crucifixion. He also came up with the idea of including the bull\\'s head, identifying it as an \"omen\". Ornithopter interiors were filmed on hilltops outside Budapest, with a 25-foot high and 360° sand-colored ramp circling a large gimbal, allowing Fraser to film with natural sunlight. Supervising stunt coordinator and second unit director Tom Struthers developed unique combat styles for major factions. When working on the action sequence between Idaho and the Sardaukars, he based Idaho\\'s combat style from Greek and Roman warfare techniques, and the Sardaukar\\'s from Russian soldiers in WWII wanting to \"mow down the enemy\".  Chalamet learned the sandwalking technique, designed by choreographer Benjamin Millepied, prior to filming Arrakis scenes in order to convey Paul\\'s natural adeptness at it and \"responsibility to show Jessica in that moment\". Footage of helicopters flying over the UAE were filmed with six high-resolution cameras, being utilized as reference footage for ornithopters.\\n\\n\\n=== Post-production ===\\n\\nDNEG contributed to over 28 scenes in the film, creating 1,200 VFX shots out of the 1,700 total, with vendors including', mimetype='text/plain', start_char_idx=27321, end_char_idx=31925, text_template='{metadata_str}\\n\\n{content}', metadata_template='{key}: {value}', metadata_seperator='\\n'),\n",
       " TextNode(id_='e8aeb2c9-70fd-4897-8c0a-d364751b6bb7', embedding=None, metadata={'title': 'Dune: Part Two'}, excluded_embed_metadata_keys=[], excluded_llm_metadata_keys=[], relationships={<NodeRelationship.SOURCE: '1'>: RelatedNodeInfo(node_id='63790171', node_type=<ObjectType.DOCUMENT: '4'>, metadata={}, hash='34723c64e6eadc20fcd8756e30d24cd5226467ce3542787af64c46906ce73cb6'), <NodeRelationship.PREVIOUS: '2'>: RelatedNodeInfo(node_id='b4697bf6-0c6f-4b65-935c-8cc36b5ad079', node_type=<ObjectType.TEXT: '1'>, metadata={}, hash='373699e16c1ac70d671857e41a864d47ad9619aa3fd02b2e471124ed25f4f8d2'), <NodeRelationship.NEXT: '3'>: RelatedNodeInfo(node_id='d43be95f-3022-4948-933f-b39c3f22d6c6', node_type=<ObjectType.TEXT: '1'>, metadata={}, hash='549965088ae9737d792360d9063f45a0e03f1558cc055691735499d91254fe27')}, text='a console holder. Microsoft Flight Simulator also included an expansion pack allowing players to explore Arrakis and pilot the Royal Atreides Ornithopter. In November 2023, the Sardaukar were added to Call of Duty: Modern Warfare II (2022) in a collaboration pack. A month later, Paul and Feyd-Rautha were added as playable operators to its sequel, Call of Duty: Modern Warfare III (2023), with an additional Harkonnen soldier skin being announced in March 2024. In September 2023, McFarlane Toys announced a new line of 7-inch figures modeled after characters from the sequel film. Legendary Comics will release Dune: Part Two – The Official Movie Graphic Novel with the help of Kickstarter in the same way the previous adaptation was published.\\nResearch conducted by Nikolaj Mathies, CEO of Vievo Media, said the promotional campaign for the film on TikTok included 117 posts over a year leading up to its release, an increase from the first film\\'s 108. Messages directly from the cast comprised 24% of the content, with videos featuring Zendaya and Chalamet generating significantly higher viewership. Red carpet content was prioritized to appeal to female audiences, a tactic that contributed to an estimated $2 million increase in the opening box office. According to the marketing research company FanBox, 57% of TikTok users are female and hashtags such as #zendaya have garnered billions of views, leading the core audience for Dune to grow significantly, with a 67.5% increase overall from 2.6 million to 8 million and an 84% increase among \"superfans\".\\nPromotion in Japan also included a collaboration with Mobile Suit Gundam SEED – specifically, their Freedom film. The collaboration featured an alternate version of Dune: Part Two\\'s movie poster featuring Lacus Clyne (voiced by Rie Tanaka in the original and Stephanie Sheh in the English dubbed version) and Kira Yamato (Sōichirō Hoshi/Max Mittelman) in place of Chani and Paul respectively.\\n\\n\\n=== Popcorn bucket meme ===\\n\\nIn January 2024, images of a forthcoming Dune-themed popcorn bucket from AMC Theatres went viral and became an Internet meme after its sandworm-inspired design was compared to an artificial vagina.\\nReactions to the bucket received millions of views on the social network TikTok, and jokes about it were featured on US late night television, including a musical sketch on Saturday Night Live with cast members Marcello Hernandez, Ayo Edebiri, Devon Walker, and Bowen Yang. The extensive online attention paid to the bucket led the media to ask much of Dune: Part Two\\'s main cast for their reactions. Denis Villeneuve said that the bucket was an \"insane marketing idea\" that \"brought a lot of laughter and joy\".\\nGriffin Newman in The New York Times chalked up the bucket\\'s appeal to the \"magic alchemy\" that results from an object that so many people become \"perversely fascinated\" by. The product was one of several popcorn buckets AMC had designed and released alongside recent films, including character heads for Spider-Man: Across the Spider-Verse and \"burn books\" for Mean Girls.\\nOver a month after Dune: Part Two\\'s release, AMC\\'s chief content officer stated that \"we would have never created [the bucket] knowing it would be celebrated or mocked\", but added that they would continue to create collectible popcorn buckets for other films. At that time, the Dune popcorn buckets were being resold for as high as $175. In the wake of its viral popularity from that period, Marvel Studios would later announce a bucket of their own for Deadpool & Wolverine (2024) in a similar fashion as producer Kevin Feige described it as \"intentionally crude and lewd\". The bucket was fully revealed at the end of May 2024 by the film\\'s star, Ryan Reynolds on his YouTube channel.\\n\\n\\n== Release ==\\n\\n\\n=== Theatrical ===\\nDune: Part Two was originally scheduled to be released on October 20, 2023, but was delayed to November 17, 2023, before moving forward two weeks to November 3, 2023, to adjust to changes in release schedules from other studios. It was later postponed by over four months to March 15, 2024, due to the 2023 Hollywood labor disputes. After the strikes were resolved, the film moved once more up two weeks to March 1, 2024.\\nFollowing the success of Oppenheimer (2023) in the format, Dune: Part Two was released in the IMAX 15-perforation 70 mm format to twelve venues worldwide, and in standard 5-perforation 70 mm format to 38 venues worldwide.\\nA red carpet event was hosted in the Auditorio Nacional in Mexico City on February 6, 2024. Dune: Part Two\\'s world premiere was held at', mimetype='text/plain', start_char_idx=22610, end_char_idx=27183, text_template='{metadata_str}\\n\\n{content}', metadata_template='{key}: {value}', metadata_seperator='\\n'),\n",
       " TextNode(id_='f9b64fdb-9af5-4ad5-8308-331e2ce5760f', embedding=None, metadata={'title': 'The Lord of the Rings: The Fellowship of the Ring'}, excluded_embed_metadata_keys=[], excluded_llm_metadata_keys=[], relationships={<NodeRelationship.SOURCE: '1'>: RelatedNodeInfo(node_id='173941', node_type=<ObjectType.DOCUMENT: '4'>, metadata={}, hash='b9fc61721f6f9f8b6a26a43172b1c6279a43e000097b6c6ec5072cf0f9230d69'), <NodeRelationship.PREVIOUS: '2'>: RelatedNodeInfo(node_id='100a3fd0-8e42-4a50-a578-6af16206ac3f', node_type=<ObjectType.TEXT: '1'>, metadata={}, hash='141eab89f6a3b6a1eed5d9331b632e9e90567300ee08db11ac1fc34e9cacb2db'), <NodeRelationship.NEXT: '3'>: RelatedNodeInfo(node_id='e0941cf4-4461-49ce-b81b-98930a8fc60c', node_type=<ObjectType.TEXT: '1'>, metadata={}, hash='f945542f15ed07c5a16e6dec017a40ed81451065d1a7d1750e314984701ae662')}, text='States and Canada and $567.3 million in the rest of the world for a worldwide total of $887.2 million. Box Office Mojo estimates that the film sold over 54 million tickets in the US and Canada in its initial theatrical run. Following subsequent reissues, the film has grossed $319.2 million in the United States and Canada and $567.4 million in the rest of the world for a worldwide total of $887.3 million.\\n\\n\\n=== Critical response ===\\n\\nOn review aggregator Rotten Tomatoes, the film holds an approval rating of 91% based on 235 reviews, with an average rating of 8.20/10. The website\\'s critics consensus reads, \"Full of eye-popping special effects, and featuring a pitch-perfect cast, The Lord of the Rings: The Fellowship of the Ring brings J.R.R. Tolkien\\'s classic to vivid life.\" Metacritic, which uses a weighted average, assigned the film a score of 92 out of 100 based on 34 critics, indicating \"universal acclaim\". Audiences polled by CinemaScore gave the film an average grade of \"A−\" on an A+ to F scale.\\nColin Kennedy for Empire gave the film five stars out of five, writing \"Brooking no argument, history should quickly regard Peter Jackson\\'s The Fellowship of the Ring as the first instalment of the best fantasy epic in motion picture history... Putting formula blockbusters to shame, Fellowship is impeccably cast and constructed with both care and passion: this is a labour of love that never feels laboured. Emotional range and character depth ultimately take us beyond genre limitations...\" Roger Ebert of the Chicago Sun-Times gave the film three out of four stars and stating that while it is not \"a true visualization of Tolkien\\'s Middle-earth\", it is \"a work for, and of, our times. It will be embraced, I suspect, by many Tolkien fans and will take on aspects of a cult. It is a candidate for many Oscars. It is an awesome production in its daring and breadth, and there are small touches that are just right\". USA Today also gave the film three out of four stars and wrote, \"this movie version of a beloved book should please devotees as well as the uninitiated\". In his review for The New York Times, Elvis Mitchell wrote, \"The playful spookiness of Mr. Jackson\\'s direction provides a lively, light touch, a gesture that doesn\\'t normally come to mind when Tolkien\\'s name is mentioned\". Lisa Schwarzbaum for Entertainment Weekly gave the film an A grade and wrote \"The cast take to their roles with becoming modesty, certainly, but Jackson also makes it easy for them: His Fellowship flows, never lingering for the sake of admiring its own beauty ... Every detail of which engrossed me. I may have never turned a page of Tolkien, but I know enchantment when I see it\". In his review for the BBC, Nev Pierce gave the film four stars out of five, describing it as \"Funny, scary, and totally involving\", and wrote that Jackson turned \"the book\\'s least screen-worthy volume into a gripping and powerful adventure movie\". In his review for The Guardian, Xan Brooks wrote \"Rather than a stand-alone holiday blockbuster, The Fellowship of the Ring offers an epic act one\", and commented that the ending was \"closer in spirit to an art-house film than a popcorn holiday romp\".\\nIn her review for The Washington Post, Rita Kempley gave the film five stars out of five, and praised the cast, in particular, \"Mortensen, as Strider, is a revelation, not to mention downright gorgeous. And McKellen, carrying the burden of thousands of years\\' worth of the fight against evil, is positively Merlinesque\". Time magazine\\'s Richard Corliss praised Jackson\\'s work: \"His movie achieves what the best fairy tales do: the creation of an alternate world, plausible and persuasive, where the young — and not only the young — can lose themselves. And perhaps, in identifying with the little Hobbit that could, find their better selves\". In his review for The Village Voice, J. Hoberman wrote, \"Peter Jackson\\'s adaptation is certainly successful on its own terms\". Rolling Stone magazine\\'s Peter Travers wrote, \"It\\'s emotion that makes Fellowship stick hard in the memory... Jackson deserves to revel in his success. He\\'s made a three-hour film that leaves you wanting more\". A mixed review was written by Peter Bradshaw. Writing for The Guardian, he lauded the art direction and the visual look of the film, but he also commented \"there is a strange paucity of plot complication, an absence of anything unfolding, all the more disconcerting because of the clotted and indigestible mythic back story that we have to wade through before anything happens at all\". Overall, Bradshaw found the tone of the film too serious and self-important, and wrote \"signing up to the movie\\'s whole', mimetype='text/plain', start_char_idx=26245, end_char_idx=30924, text_template='{metadata_str}\\n\\n{content}', metadata_template='{key}: {value}', metadata_seperator='\\n')]"
      ]
     },
     "execution_count": 34,
     "metadata": {},
     "output_type": "execute_result"
    }
   ],
   "source": [
    "### YOUR CODE HERE\n",
    "index._vector_store.get_nodes()"
   ]
  },
  {
   "cell_type": "markdown",
   "metadata": {
    "id": "Sfbon1BwSLFS"
   },
   "source": [
    "### Persisting and Loading Stored Index with Weights and Biases\n",
    "\n",
    "Now we can utilize a powerful feature of Weights and Biases - index and artifact versioning!\n",
    "\n",
    "We can persist our index to WandB to be used and loaded later!"
   ]
  },
  {
   "cell_type": "code",
   "execution_count": null,
   "metadata": {
    "colab": {
     "base_uri": "https://localhost:8080/"
    },
    "id": "PHJd00J3G48_",
    "outputId": "c1bdd410-4613-4c20-faf3-8bba42a60eac"
   },
   "outputs": [
    {
     "name": "stderr",
     "output_type": "stream",
     "text": [
      "<<<<<<< local\n"
     ]
    },
    {
     "name": "stderr",
     "output_type": "stream",
     "text": [
      "wandb: Adding directory to artifact (e:\\Projects\\AI-Maven\\AIE3\\Week 5\\Day 1\\wandb\\run-20240625_195142-esuuk7ge\\files\\storage)... Done. 0.0s\n"
     ]
    },
    {
     "name": "stderr",
     "output_type": "stream",
     "text": [
      "=======\n"
     ]
    },
    {
     "name": "stderr",
     "output_type": "stream",
     "text": [
      ">>>>>>> remote\n"
     ]
    },
    {
     "name": "stderr",
     "output_type": "stream",
     "text": [
      "<<<<<<< local <removed>\n"
     ]
    },
    {
     "name": "stderr",
     "output_type": "stream",
     "text": [
      "=======\n"
     ]
    },
    {
     "name": "stderr",
     "output_type": "stream",
     "text": [
      "\u001b[34m\u001b[1mwandb\u001b[0m: Adding directory to artifact (/content/wandb/run-20240625_205442-48js8m4z/files/storage)... Done. 0.0s\n"
     ]
    },
    {
     "name": "stderr",
     "output_type": "stream",
     "text": [
      ">>>>>>> remote <modified: >\n"
     ]
    }
   ],
   "source": [
    "wandb_callback.persist_index(index, index_name=\"movie-index-qdrant\")"
   ]
  },
  {
   "cell_type": "markdown",
   "metadata": {
    "id": "jvpHLt8UShKa"
   },
   "source": [
    "Now we can load our index from WandB, which is a truly powerful tool!"
   ]
  },
  {
   "cell_type": "code",
   "execution_count": null,
   "metadata": {
    "colab": {
     "base_uri": "https://localhost:8080/"
    },
    "id": "FDZLmqTDHDrZ",
    "outputId": "1cd15fda-8020-4887-8e82-02e8e99b95d8"
   },
   "outputs": [
    {
     "name": "stderr",
     "output_type": "stream",
     "text": [
      "wandb:   4 of 4 files downloaded.  \n"
     ]
    }
   ],
   "source": [
    "from llama_index.core import load_index_from_storage\n",
    "\n",
    "storage_context = wandb_callback.load_storage_context(\n",
    "<<<<<<< local\n",
    "    artifact_url=\"lakshyaag/llama-index-rag-v1/movie-index-qdrant:v0\"\n",
    "=======\n",
    "    artifact_url=\"<<YOUR USERNAME HERE>>\"\n",
    ">>>>>>> remote\n",
    ")"
   ]
  },
  {
   "cell_type": "markdown",
   "metadata": {
    "id": "kVVW70zyapx1"
   },
   "source": [
    "#### ❓ Question #2:\n",
    "\n",
    "Provide a screenshot of your index version history as shown in WandB.\n",
    "\n",
    "You can find your screenshot by doing the following:\n",
    "\n",
    "![image](https://i.imgur.com/Y0AHkQI.png)"
   ]
  },
  {
   "cell_type": "markdown",
   "metadata": {},
   "source": [
    "#### ❓ Question #2:\n",
    "\n",
    "Provide a screenshot of your index version history as shown in WandB.\n",
    "\n",
    "You can find your screenshot by doing the following:\n",
    "\n",
    "![image](https://i.imgur.com/Y0AHkQI.png)"
   ]
  },
  {
   "cell_type": "markdown",
   "metadata": {},
   "source": [
    "#### Answer #2:\n",
    "\n",
    "![Screenshot of W&B](./w&b_ss.png)"
   ]
  },
  {
   "cell_type": "markdown",
   "metadata": {
    "id": "kCSHKnb0mIte"
   },
   "source": [
    "## Task 5: Simple RAG - QueryEngine\n",
    "\n",
    "Now that we're created our `VectorStoreIndex`, powered by a QDrant VectorStore, we can wrap it in a simple `QueryEngine` using the `as_query_engine()` method - which will connect a few things together for us:"
   ]
  },
  {
   "cell_type": "code",
   "execution_count": null,
   "metadata": {
    "id": "3ipb8j6dfLcO"
   },
   "outputs": [],
   "source": [
    "simple_rag = index.as_query_engine()"
   ]
  },
  {
   "cell_type": "markdown",
   "metadata": {
    "id": "zgJZGr5FqAME"
   },
   "source": [
    "Before we test this out - let's see what information we can find out about from our new `QueryEngine`!"
   ]
  },
  {
   "cell_type": "code",
   "execution_count": null,
   "metadata": {
    "colab": {
     "base_uri": "https://localhost:8080/"
    },
    "id": "L-3v4ntaqFmd",
    "outputId": "fd22ec0d-ad8c-4fe5-8585-b14e67bbe40d"
   },
   "outputs": [
    {
     "name": "stdout",
     "output_type": "stream",
     "text": [
      "Context information is below.\n",
      "---------------------\n",
      "{context_str}\n",
      "---------------------\n",
      "Given the context information and not prior knowledge, answer the query.\n",
      "Query: {query_str}\n",
      "Answer: \n",
      "\n",
      "~~~~~~~~~~~~~~~~~~\n",
      "\n",
      "The original query is as follows: {query_str}\n",
      "We have provided an existing answer: {existing_answer}\n",
      "We have the opportunity to refine the existing answer (only if needed) with some more context below.\n",
      "------------\n",
      "{context_msg}\n",
      "------------\n",
      "Given the new context, refine the original answer to better answer the query. If the context isn't useful, return the original answer.\n",
      "Refined Answer: \n",
      "\n",
      "~~~~~~~~~~~~~~~~~~\n",
      "\n"
     ]
    }
   ],
   "source": [
    "for k, v in simple_rag.get_prompts().items():\n",
    "    print(v.get_template())\n",
    "    print(\"\\n~~~~~~~~~~~~~~~~~~\\n\")"
   ]
  },
  {
   "cell_type": "markdown",
   "metadata": {
    "id": "N1YoR45tnv8h"
   },
   "source": [
    "Let's see how it does!"
   ]
  },
  {
   "cell_type": "code",
   "execution_count": null,
   "metadata": {
    "colab": {
     "base_uri": "https://localhost:8080/"
    },
    "id": "FgpQhKobfQ7y",
    "outputId": "99e37a51-5ddb-452b-89ec-cb927165ebc5"
   },
   "outputs": [
    {
     "name": "stderr",
     "output_type": "stream",
     "text": [
      "<<<<<<< local\n"
     ]
    },
    {
     "name": "stdout",
     "output_type": "stream",
     "text": [
      "INFO:httpx:HTTP Request: POST https://api.openai.com/v1/embeddings \"HTTP/1.1 200 OK\"\n",
      "HTTP Request: POST https://api.openai.com/v1/embeddings \"HTTP/1.1 200 OK\"\n",
      "INFO:httpx:HTTP Request: POST https://api.openai.com/v1/chat/completions \"HTTP/1.1 200 OK\"\n",
      "HTTP Request: POST https://api.openai.com/v1/chat/completions \"HTTP/1.1 200 OK\"\n"
     ]
    },
    {
     "name": "stderr",
     "output_type": "stream",
     "text": [
      "wandb: Logged trace tree to W&B.\n"
     ]
    },
    {
     "name": "stderr",
     "output_type": "stream",
     "text": [
      "=======\n"
     ]
    },
    {
     "name": "stderr",
     "output_type": "stream",
     "text": [
      "\u001b[34m\u001b[1mwandb\u001b[0m: Logged trace tree to W&B.\n"
     ]
    },
    {
     "name": "stderr",
     "output_type": "stream",
     "text": [
      ">>>>>>> remote\n"
     ]
    }
   ],
   "source": [
    "response = simple_rag.query(\"Who is the evil Wizard in the story?\")"
   ]
  },
  {
   "cell_type": "code",
   "execution_count": null,
   "metadata": {
    "colab": {
     "base_uri": "https://localhost:8080/",
     "height": 87
    },
    "id": "654d4vdfhnVq",
    "outputId": "5e9c8a8b-e3e5-453f-9459-c0626c7d954c"
   },
   "outputs": [
    {
     "name": "stderr",
     "output_type": "stream",
     "text": [
      "<<<<<<< local\n"
     ]
    },
    {
     "data": {
      "text/plain": [
       "'The evil Wizard in the story is Saruman.'"
      ]
     },
     "execution_count": 41,
     "metadata": {},
     "output_type": "execute_result"
    },
    {
     "name": "stderr",
     "output_type": "stream",
     "text": [
      "=======\n"
     ]
    },
    {
     "data": {
      "application/vnd.google.colaboratory.intrinsic+json": {
       "type": "string"
      },
      "text/plain": [
       "\"Saruman the White is the evil wizard in the story. He is described as waging war upon Rohan and devastating Fangorn Forest, having allied himself with Sauron. Saruman has decimated a large part of Fangorn Forest and is portrayed as openly presenting himself as Sauron's servant. He also placed a spell on Théoden, the King of Rohan, until Gandalf healed him.\""
      ]
     },
     "execution_count": 31,
     "metadata": {},
     "output_type": "execute_result"
    },
    {
     "name": "stderr",
     "output_type": "stream",
     "text": [
      ">>>>>>> remote\n"
     ]
    }
   ],
   "source": [
    "response.response"
   ]
  },
  {
   "cell_type": "markdown",
   "metadata": {
    "id": "D8rRiijvpVoQ"
   },
   "source": [
    "That makes sense!\n",
    "\n",
    "Let's ask a question that's slightly more...ambiguous."
   ]
  },
  {
   "cell_type": "code",
   "execution_count": null,
   "metadata": {
    "colab": {
     "base_uri": "https://localhost:8080/"
    },
    "id": "_m0H1tbLiqME",
    "outputId": "f3a672cf-1d9f-4776-ed6b-47c5a8a1424c"
   },
   "outputs": [
    {
     "name": "stderr",
     "output_type": "stream",
     "text": [
      "<<<<<<< local\n"
     ]
    },
    {
     "name": "stdout",
     "output_type": "stream",
     "text": [
      "INFO:httpx:HTTP Request: POST https://api.openai.com/v1/embeddings \"HTTP/1.1 200 OK\"\n",
      "HTTP Request: POST https://api.openai.com/v1/embeddings \"HTTP/1.1 200 OK\"\n",
      "INFO:httpx:HTTP Request: POST https://api.openai.com/v1/chat/completions \"HTTP/1.1 200 OK\"\n",
      "HTTP Request: POST https://api.openai.com/v1/chat/completions \"HTTP/1.1 200 OK\"\n"
     ]
    },
    {
     "name": "stderr",
     "output_type": "stream",
     "text": [
      "wandb: Logged trace tree to W&B.\n"
     ]
    },
    {
     "name": "stderr",
     "output_type": "stream",
     "text": [
      "=======\n"
     ]
    },
    {
     "name": "stderr",
     "output_type": "stream",
     "text": [
      "\u001b[34m\u001b[1mwandb\u001b[0m: Logged trace tree to W&B.\n"
     ]
    },
    {
     "name": "stderr",
     "output_type": "stream",
     "text": [
      ">>>>>>> remote\n"
     ]
    }
   ],
   "source": [
    "response = simple_rag.query(\"Who are the giant beings that roam across the world?\")"
   ]
  },
  {
   "cell_type": "code",
   "execution_count": null,
   "metadata": {
    "colab": {
     "base_uri": "https://localhost:8080/",
     "height": 105
    },
    "id": "TEh4yjQzizeV",
    "outputId": "ed4a0336-d639-4857-d4b3-048f83588093"
   },
   "outputs": [
    {
     "name": "stderr",
     "output_type": "stream",
     "text": [
      "<<<<<<< local\n"
     ]
    },
    {
     "data": {
      "text/plain": [
       "'The giant beings that roam across the world are the sandworms.'"
      ]
     },
     "execution_count": 44,
     "metadata": {},
     "output_type": "execute_result"
    },
    {
     "name": "stderr",
     "output_type": "stream",
     "text": [
      "=======\n"
     ]
    },
    {
     "data": {
      "application/vnd.google.colaboratory.intrinsic+json": {
       "type": "string"
      },
      "text/plain": [
       "'I apologize, but I don\\'t have any information about giant beings roaming across the world based on the context provided. The given text primarily discusses details about the production of two films - \"Dune\" (2021) and \"The Lord of the Rings: The Fellowship of the Ring\". It doesn\\'t mention any giant beings roaming the world. If you have a different question about these films or their production, I\\'d be happy to try to answer based on the information available.'"
      ]
     },
     "execution_count": 33,
     "metadata": {},
     "output_type": "execute_result"
    },
    {
     "name": "stderr",
     "output_type": "stream",
     "text": [
      ">>>>>>> remote\n"
     ]
    }
   ],
   "source": [
    "response.response"
   ]
  },
  {
   "cell_type": "markdown",
   "metadata": {
    "id": "xOb6eh8_pnaX"
   },
   "source": [
    "We can check the source nodes to see which movies we retrieved."
   ]
  },
  {
   "cell_type": "code",
   "execution_count": null,
   "metadata": {
    "colab": {
     "base_uri": "https://localhost:8080/"
    },
    "id": "y_qyApFDpPny",
    "outputId": "9c540eda-c5d6-4301-db75-f5e47b189629"
   },
   "outputs": [
    {
     "name": "stdout",
     "output_type": "stream",
     "text": [
      "['Dune (2021 film)', 'The Lord of the Rings: The Fellowship of the Ring']\n"
     ]
    }
   ],
   "source": [
    "print([x.metadata[\"title\"] for x in response.source_nodes])"
   ]
  },
  {
   "cell_type": "markdown",
   "metadata": {
    "id": "xBEXFmPapZpg"
   },
   "source": [
    "Okay, so in this case - we've gone with \"Sandworms \" from Dune.\n",
    "\n",
    "But there's also the Ents from Lord of the Rings, and it looks like we got documents from Lord of the Rings as well.\n",
    "\n",
    "Let's see if there's a way we can use the title metadata we added to filter the results we get!"
   ]
  },
  {
   "cell_type": "markdown",
   "metadata": {
    "id": "YUa5sHMsSV__"
   },
   "source": [
    "## Task 6: Auto Retriever Functional Tool\n",
    "\n",
    "This tool will leverage OpenAI's functional endpoint to select the correct metadata filter and query the filtered index - only looking at nodes with the desired metadata.\n",
    "\n",
    "A simplified diagram: ![image](https://i.imgur.com/AICDPav.png)"
   ]
  },
  {
   "cell_type": "markdown",
   "metadata": {
    "id": "Z2HQHY3pSV__"
   },
   "source": [
    "First, we need to create our `VectoreStoreInfo` object which will hold all the relevant metadata we need for each component (in this case title metadata).\n",
    "\n",
    "Notice that you need to include it in a text list."
   ]
  },
  {
   "cell_type": "code",
   "execution_count": null,
   "metadata": {
    "id": "KoAYxbdsSV__"
   },
   "outputs": [],
   "source": [
    "from llama_index.core.tools import FunctionTool\n",
    "from llama_index.core.vector_stores.types import (\n",
    "    VectorStoreInfo,\n",
    "    MetadataInfo,\n",
    "    ExactMatchFilter,\n",
    "    MetadataFilters,\n",
    ")\n",
    "from llama_index.core.retrievers import VectorIndexRetriever\n",
    "from llama_index.core.query_engine import RetrieverQueryEngine\n",
    "\n",
    "from typing import List, Tuple, Any\n",
    "from pydantic import BaseModel, Field\n",
    "\n",
    "top_k = 3\n",
    "\n",
    "vector_store_info = VectorStoreInfo(\n",
    "    content_info=\"semantic information about movies\",\n",
    "    metadata_info=[\n",
    "        MetadataInfo(\n",
    "            name=\"title\",\n",
    "            type=\"str\",\n",
    "            description='title of the movie, one of [\"Dune (2021 film)\", \"Dune: Part Two\", \"The Lord of the Rings: The Fellowship of the Ring\", \"The Lord of the Rings: The Two Towers\"]',\n",
    "        )\n",
    "    ],\n",
    ")"
   ]
  },
  {
   "cell_type": "markdown",
   "metadata": {
    "id": "NEjK7jcsSV__"
   },
   "source": [
    "Now we'll create our base PyDantic object that we can use to ensure compatability with our application layer. This verifies that the response from the OpenAI endpoint conforms to this schema."
   ]
  },
  {
   "cell_type": "code",
   "execution_count": null,
   "metadata": {
    "id": "yixkwF8zSV__"
   },
   "outputs": [],
   "source": [
    "class AutoRetrieveModel(BaseModel):\n",
    "    query: str = Field(..., description=\"natural language query string\")\n",
    "    filter_key_list: List[str] = Field(\n",
    "        ..., description=\"List of metadata filter field names\"\n",
    "    )\n",
    "    filter_value_list: List[str] = Field(\n",
    "        ...,\n",
    "        description=(\n",
    "            \"List of metadata filter field values (corresponding to names specified in filter_key_list)\"\n",
    "        ),\n",
    "    )"
   ]
  },
  {
   "cell_type": "markdown",
   "metadata": {
    "id": "Ep6ORS3FSV__"
   },
   "source": [
    "Now we can build our function that we will use to query the functional endpoint."
   ]
  },
  {
   "cell_type": "code",
   "execution_count": null,
   "metadata": {
    "id": "y8sPThxlSV__"
   },
   "outputs": [],
   "source": [
    "def auto_retrieve_fn(\n",
    "    query: str, filter_key_list: List[str], filter_value_list: List[str]\n",
    "):\n",
    "    \"\"\"Auto retrieval function.\n",
    "\n",
    "    Performs auto-retrieval from a vector database, and then applies a set of filters.\n",
    "\n",
    "    \"\"\"\n",
    "    query = query or \"Query\"\n",
    "\n",
    "    exact_match_filters = [\n",
    "        ExactMatchFilter(key=k, value=v)\n",
    "        for k, v in zip(filter_key_list, filter_value_list)\n",
    "    ]\n",
    "    retriever = VectorIndexRetriever(\n",
    "        index, filters=MetadataFilters(filters=exact_match_filters), top_k=top_k\n",
    "    )\n",
    "    query_engine = RetrieverQueryEngine.from_args(retriever)\n",
    "\n",
    "    response = query_engine.query(query)\n",
    "    return str(response)"
   ]
  },
  {
   "cell_type": "markdown",
   "metadata": {
    "id": "Yt4BV6oISV__"
   },
   "source": [
    "Now we need to wrap our system in a tool in order to integrate it into the larger application.\n",
    "\n",
    "Source Code Here:\n",
    "- [`FunctionTool`](https://github.com/jerryjliu/llama_index/blob/d24767b0812ac56104497d8f59095eccbe9f2b08/llama_index/tools/function_tool.py#L21)"
   ]
  },
  {
   "cell_type": "code",
   "execution_count": null,
   "metadata": {
    "id": "U4lS1NqeSV__"
   },
   "outputs": [],
   "source": [
    "description = f\"\"\"\\\n",
    "Use this tool to look up non-review based information about films.\n",
    "The vector database schema is given below:\n",
    "{vector_store_info.json()}\n",
    "\"\"\"\n",
    "\n",
    "auto_retrieve_tool = FunctionTool.from_defaults(\n",
    "    fn=auto_retrieve_fn,\n",
    "    name=\"semantic-film-info\",\n",
    "    description=description,\n",
    "    fn_schema=AutoRetrieveModel,\n",
    ")"
   ]
  },
  {
   "cell_type": "markdown",
   "metadata": {
    "id": "Ka_CDeOHbF-J"
   },
   "source": [
    "#### ❓ Question #3:\n",
    "\n",
    "Is the text in the description of our `FunctionTool` important or not? Please explain your answer."
   ]
  },
  {
   "cell_type": "markdown",
   "metadata": {},
   "source": [
    "#### Answer #3:\n",
    "\n",
    "Yes, the text in the description is important as it gets sent to the LLM when information about the tool and its parameters are sent. Essentially, it helps the LLM understand what the tool does and its purpose, to better inform the LLM's decision-making process."
   ]
  },
  {
   "cell_type": "markdown",
   "metadata": {
    "id": "ZblimmXVSV__"
   },
   "source": [
    "All that's left to do is attach the tool to an OpenAIAgent and let it rip!\n",
    "\n",
    "Source Code Here:\n",
    "- [`OpenAIAgent`](https://github.com/jerryjliu/llama_index/blob/d24767b0812ac56104497d8f59095eccbe9f2b08/llama_index/agent/openai_agent.py#L361)"
   ]
  },
  {
   "cell_type": "code",
   "execution_count": null,
   "metadata": {
    "id": "W2hafCTxSV__"
   },
   "outputs": [],
   "source": [
    "from llama_index.core.agent import FunctionCallingAgentWorker\n",
    "\n",
    "agent_worker = FunctionCallingAgentWorker.from_tools(\n",
    "    tools=[auto_retrieve_tool],\n",
    "    verbose=True,\n",
    ")\n",
    "\n",
    "agent = agent_worker.as_agent()"
   ]
  },
  {
   "cell_type": "code",
   "execution_count": null,
   "metadata": {
    "colab": {
     "base_uri": "https://localhost:8080/"
    },
    "id": "DBJWDBK5SV__",
    "outputId": "3269853a-6f1d-4a39-e318-0bdfda15fe12"
   },
   "outputs": [
    {
     "name": "stderr",
     "output_type": "stream",
     "text": [
      "<<<<<<< local\n"
     ]
    },
    {
     "name": "stdout",
     "output_type": "stream",
     "text": [
      "Added user message to memory: Who starred in the 2021 film?\n",
      "INFO:httpx:HTTP Request: POST https://api.openai.com/v1/chat/completions \"HTTP/1.1 200 OK\"\n",
      "HTTP Request: POST https://api.openai.com/v1/chat/completions \"HTTP/1.1 200 OK\"\n",
      "=== Calling Function ===\n",
      "Calling function: semantic-film-info with args: {\"query\": \"Who starred in the 2021 film?\", \"filter_key_list\": [\"title\"], \"filter_value_list\": [\"Dune (2021 film)\"]}\n",
      "INFO:httpx:HTTP Request: POST https://api.openai.com/v1/embeddings \"HTTP/1.1 200 OK\"\n",
      "HTTP Request: POST https://api.openai.com/v1/embeddings \"HTTP/1.1 200 OK\"\n",
      "INFO:httpx:HTTP Request: POST https://api.openai.com/v1/chat/completions \"HTTP/1.1 200 OK\"\n",
      "HTTP Request: POST https://api.openai.com/v1/chat/completions \"HTTP/1.1 200 OK\"\n",
      "=== Function Output ===\n",
      "The 2021 film \"Dune\" starred Timothée Chalamet, Rebecca Ferguson, Dave Bautista, Stellan Skarsgård, Charlotte Rampling, Oscar Isaac, Zendaya, Javier Bardem, Josh Brolin, Jason Momoa, David Dastmalchian, Stephen McKinley Henderson, Chang Chen, and Sharon Duncan-Brewster.\n",
      "INFO:httpx:HTTP Request: POST https://api.openai.com/v1/chat/completions \"HTTP/1.1 200 OK\"\n",
      "HTTP Request: POST https://api.openai.com/v1/chat/completions \"HTTP/1.1 200 OK\"\n",
      "=== LLM Response ===\n",
      "The 2021 film \"Dune\" featured the following cast:\n",
      "\n",
      "- Timothée Chalamet\n",
      "- Rebecca Ferguson\n",
      "- Dave Bautista\n",
      "- Stellan Skarsgård\n",
      "- Charlotte Rampling\n",
      "- Oscar Isaac\n",
      "- Zendaya\n",
      "- Javier Bardem\n",
      "- Josh Brolin\n",
      "- Jason Momoa\n",
      "- David Dastmalchian\n",
      "- Stephen McKinley Henderson\n",
      "- Chang Chen\n",
      "- Sharon Duncan-Brewster\n"
     ]
    },
    {
     "name": "stderr",
     "output_type": "stream",
     "text": [
      "wandb: Logged trace tree to W&B.\n"
     ]
    },
    {
     "name": "stderr",
     "output_type": "stream",
     "text": [
      "=======\n"
     ]
    },
    {
     "name": "stdout",
     "output_type": "stream",
     "text": [
      "Added user message to memory: Who starred in the 2021 film?\n",
      "=== LLM Response ===\n",
      "To answer your question about who starred in the 2021 film, I'll need to use the semantic-film-info tool to look up information about the movie. Based on the available films in the database, I assume you're referring to \"Dune (2021 film)\". Let me query the database for this information.\n",
      "=== Calling Function ===\n",
      "Calling function: semantic-film-info with args: {\"query\": \"Who starred in Dune (2021 film)?\", \"filter_key_list\": [\"title\"], \"filter_value_list\": [\"Dune (2021 film)\"]}\n",
      "=== Function Output ===\n",
      "The 2021 film adaptation of Dune features an ensemble cast including Timothée Chalamet, Rebecca Ferguson, Oscar Isaac, Josh Brolin, Stellan Skarsgård, Dave Bautista, Stephen McKinley Henderson, Zendaya, Chang Chen, Sharon Duncan-Brewster, Charlotte Rampling, Jason Momoa, and Javier Bardem.\n",
      "\n",
      "Some notable casting details include:\n",
      "\n",
      "- Timothée Chalamet as Paul Atreides\n",
      "- Rebecca Ferguson as Lady Jessica\n",
      "- Oscar Isaac as Duke Leto Atreides\n",
      "- Josh Brolin as Gurney Halleck\n",
      "- Jason Momoa as Duncan Idaho\n",
      "- Zendaya as Chani\n",
      "- Javier Bardem as Stilgar\n",
      "- Stellan Skarsgård as Baron Vladimir Harkonnen\n",
      "- Dave Bautista as Glossu Rabban\n",
      "- Charlotte Rampling as Gaius Helen Mohiam\n",
      "- Sharon Duncan-Brewster as Dr. Liet Kynes\n",
      "\n",
      "The film was directed by Denis Villeneuve and features a star-studded lineup of actors in various key roles from Frank Herbert's novel.\n"
     ]
    },
    {
     "name": "stderr",
     "output_type": "stream",
     "text": [
      "\u001b[34m\u001b[1mwandb\u001b[0m: Logged trace tree to W&B.\n"
     ]
    },
    {
     "name": "stdout",
     "output_type": "stream",
     "text": [
      "=== LLM Response ===\n",
      "Based on the information from the semantic-film-info tool, I can provide you with details about who starred in the 2021 film \"Dune\":\n",
      "\n",
      "The movie features an impressive ensemble cast, including:\n",
      "\n",
      "1. Timothée Chalamet as Paul Atreides (the main protagonist)\n",
      "2. Rebecca Ferguson as Lady Jessica (Paul's mother)\n",
      "3. Oscar Isaac as Duke Leto Atreides (Paul's father)\n",
      "4. Josh Brolin as Gurney Halleck\n",
      "5. Stellan Skarsgård as Baron Vladimir Harkonnen (the main antagonist)\n",
      "6. Dave Bautista as Glossu Rabban\n",
      "7. Zendaya as Chani\n",
      "8. Jason Momoa as Duncan Idaho\n",
      "9. Javier Bardem as Stilgar\n",
      "10. Charlotte Rampling as Gaius Helen Mohiam\n",
      "11. Sharon Duncan-Brewster as Dr. Liet Kynes\n",
      "\n",
      "Additionally, the cast includes Stephen McKinley Henderson and Chang Chen in supporting roles.\n",
      "\n",
      "This star-studded lineup brings to life the characters from Frank Herbert's classic science fiction novel under the direction of Denis Villeneuve. Each actor portrays a key character in the complex world of Dune, contributing to the epic scale of the film.\n"
     ]
    },
    {
     "name": "stderr",
     "output_type": "stream",
     "text": [
      ">>>>>>> remote\n"
     ]
    }
   ],
   "source": [
    "response = agent.chat(\"Who starred in the 2021 film?\")"
   ]
  },
  {
   "cell_type": "code",
   "execution_count": null,
   "metadata": {
    "colab": {
     "base_uri": "https://localhost:8080/"
    },
    "id": "UZzs2PyDuJGX",
    "outputId": "2ab91ee7-bfc8-45d4-da76-838eba5ed54e"
   },
   "outputs": [
    {
     "name": "stderr",
     "output_type": "stream",
     "text": [
      "<<<<<<< local\n"
     ]
    },
    {
     "name": "stdout",
     "output_type": "stream",
     "text": [
      "Added user message to memory: Who are the giant beings that roam across the world in the movies?\n"
     ]
    },
    {
     "name": "stdout",
     "output_type": "stream",
     "text": [
      "INFO:httpx:HTTP Request: POST https://api.openai.com/v1/chat/completions \"HTTP/1.1 200 OK\"\n",
      "HTTP Request: POST https://api.openai.com/v1/chat/completions \"HTTP/1.1 200 OK\"\n",
      "=== Calling Function ===\n",
      "Calling function: semantic-film-info with args: {\"query\": \"giant beings that roam across the world\", \"filter_key_list\": [\"title\"], \"filter_value_list\": [\"Dune (2021 film)\"]}\n",
      "INFO:httpx:HTTP Request: POST https://api.openai.com/v1/embeddings \"HTTP/1.1 200 OK\"\n",
      "HTTP Request: POST https://api.openai.com/v1/embeddings \"HTTP/1.1 200 OK\"\n",
      "INFO:httpx:HTTP Request: POST https://api.openai.com/v1/chat/completions \"HTTP/1.1 200 OK\"\n",
      "HTTP Request: POST https://api.openai.com/v1/chat/completions \"HTTP/1.1 200 OK\"\n",
      "=== Function Output ===\n",
      "The giant beings that roam across the world are the sandworms.\n",
      "=== Calling Function ===\n",
      "Calling function: semantic-film-info with args: {\"query\": \"giant beings that roam across the world\", \"filter_key_list\": [\"title\"], \"filter_value_list\": [\"The Lord of the Rings: The Fellowship of the Ring\"]}\n",
      "INFO:httpx:HTTP Request: POST https://api.openai.com/v1/embeddings \"HTTP/1.1 200 OK\"\n",
      "HTTP Request: POST https://api.openai.com/v1/embeddings \"HTTP/1.1 200 OK\"\n",
      "INFO:httpx:HTTP Request: POST https://api.openai.com/v1/chat/completions \"HTTP/1.1 200 OK\"\n",
      "HTTP Request: POST https://api.openai.com/v1/chat/completions \"HTTP/1.1 200 OK\"\n",
      "=== Function Output ===\n",
      "The context does not provide information about giant beings that roam across the world.\n",
      "=== Calling Function ===\n",
      "Calling function: semantic-film-info with args: {\"query\": \"giant beings that roam across the world\", \"filter_key_list\": [\"title\"], \"filter_value_list\": [\"The Lord of the Rings: The Two Towers\"]}\n",
      "INFO:httpx:HTTP Request: POST https://api.openai.com/v1/embeddings \"HTTP/1.1 200 OK\"\n",
      "HTTP Request: POST https://api.openai.com/v1/embeddings \"HTTP/1.1 200 OK\"\n",
      "=== Function Output ===\n",
      "Empty Response\n",
      "INFO:httpx:HTTP Request: POST https://api.openai.com/v1/chat/completions \"HTTP/1.1 200 OK\"\n",
      "HTTP Request: POST https://api.openai.com/v1/chat/completions \"HTTP/1.1 200 OK\"\n",
      "=== LLM Response ===\n",
      "In the 2021 film \"Dune,\" the giant beings that roam across the world are the sandworms.\n",
      "\n",
      "For \"The Lord of the Rings: The Fellowship of the Ring\" and \"The Lord of the Rings: The Two Towers,\" there is no specific information provided about giant beings that roam across the world. However, in the context of \"The Lord of the Rings\" series, the closest entities to giant beings would be the Ents, who are ancient tree-like creatures that play a significant role in \"The Two Towers.\"\n"
     ]
    },
    {
     "name": "stderr",
     "output_type": "stream",
     "text": [
      "wandb: Logged trace tree to W&B.\n"
     ]
    },
    {
     "name": "stderr",
     "output_type": "stream",
     "text": [
      "=======\n"
     ]
    },
    {
     "name": "stdout",
     "output_type": "stream",
     "text": [
      "Added user message to memory: Who are the giant beings that roam across the world in the movies?\n",
      "=== LLM Response ===\n",
      "To answer your question about the giant beings that roam across the world in the movies, I'll need to use the semantic-film-info tool to gather information. Since you haven't specified which movie you're referring to, and the question could apply to multiple films in our database, I'll need to query for information about both the Dune films and The Lord of the Rings films, as they both feature large creatures in their worlds.\n",
      "=== Calling Function ===\n",
      "Calling function: semantic-film-info with args: {\"query\": \"What are the giant beings or creatures that roam across the world in the movies?\", \"filter_key_list\": [\"title\"], \"filter_value_list\": [\"Dune (2021 film)\", \"Dune: Part Two\", \"The Lord of the Rings: The Fellowship of the Ring\", \"The Lord of the Rings: The Two Towers\"]}\n",
      "=== Function Output ===\n",
      "The giant creatures that roam across the world in the movie are called sandworms. These massive beings are native to the planet Arrakis and play a significant role in the film's story and visuals. \n",
      "\n",
      "The sandworms were designed to be awe-inspiring and commanding of respect. Their appearance was inspired by various natural elements, including whales with baleen in their mouths, tree bark, and mud flats. The filmmakers wanted to portray them as almost deity-like creatures in the eyes of the Fremen people.\n",
      "\n",
      "Creating the sandworms involved significant design and production challenges. The film used a combination of practical sets and visual effects to bring these enormous creatures to life, ensuring they appeared both realistic and fantastical within the movie's universe.\n"
     ]
    },
    {
     "name": "stderr",
     "output_type": "stream",
     "text": [
      "\u001b[34m\u001b[1mwandb\u001b[0m: Logged trace tree to W&B.\n"
     ]
    },
    {
     "name": "stdout",
     "output_type": "stream",
     "text": [
      "=== LLM Response ===\n",
      "Based on the information provided by the semantic-film-info tool, I can answer your question about the giant beings that roam across the world in the movies:\n",
      "\n",
      "In the Dune films (both the 2021 film and its sequel), the giant beings you're referring to are called sandworms. These are massive creatures native to the planet Arrakis, where most of the story takes place. Here are some key points about the sandworms:\n",
      "\n",
      "1. Size and Appearance: The sandworms are truly gigantic creatures. They were designed to be awe-inspiring and command respect. Their appearance draws inspiration from various natural elements, including:\n",
      "   - Whales with baleen in their mouths\n",
      "   - Tree bark\n",
      "   - Mud flats\n",
      "\n",
      "2. Significance: These creatures play a crucial role in the film's story and visuals. They are not just background elements but integral to the plot and the ecology of Arrakis.\n",
      "\n",
      "3. Cultural Impact: To the Fremen people (the native inhabitants of Arrakis), the sandworms are viewed as almost deity-like creatures. This gives you an idea of their importance and the reverence they inspire.\n",
      "\n",
      "4. Design and Production: Creating these sandworms for the films was a significant challenge. The filmmakers used a combination of practical sets and visual effects to bring these enormous creatures to life, aiming to make them appear both realistic and fantastical within the movie's universe.\n",
      "\n",
      "It's worth noting that the query didn't return information about giant beings in The Lord of the Rings films, focusing instead on the sandworms from Dune. If you were curious about large creatures in The Lord of the Rings as well, you might need to ask a more specific question about those films.\n"
     ]
    },
    {
     "name": "stderr",
     "output_type": "stream",
     "text": [
      ">>>>>>> remote\n"
     ]
    }
   ],
   "source": [
    "response = agent.chat(\"Who are the giant beings that roam across the world in the movies?\")"
   ]
  },
  {
   "cell_type": "markdown",
   "metadata": {
    "id": "v_GqxFCVbKch"
   },
   "source": [
    "# 🤝 Breakout Room #2"
   ]
  },
  {
   "cell_type": "markdown",
   "metadata": {
    "id": "yJcJL7VXSV__"
   },
   "source": [
    "## Quantitative RAG Pipeline with NL2SQL Tooling\n",
    "\n",
    "We'll walk through the steps of creating a natural language to SQL system in the following section.\n",
    "\n",
    "> NOTICE: This does not have parsing on the inputs or intermediary calls to ensure that users are using safe SQL queries. Use this with caution in a production environment without adding specific guardrails from either side of the application."
   ]
  },
  {
   "cell_type": "markdown",
   "metadata": {
    "id": "SsVcM0-4SV__"
   },
   "source": [
    "The next few steps should be largely straightforward, we'll want to:\n",
    "\n",
    "1. Read in our `.csv` files into `pd.DataFrame` objects\n",
    "2. Create an in-memory `sqlite` powered `sqlalchemy` engine\n",
    "3. Cast our `pd.DataFrame` objects to the SQL engine\n",
    "4. Create an `SQLDatabase` object through LlamaIndex\n",
    "5. Use that to create a `QueryEngineTool` that we can interact with through the `NLSQLTableQueryEngine`!\n",
    "\n",
    "If you get stuck, please consult the documentation."
   ]
  },
  {
   "cell_type": "code",
   "execution_count": null,
   "metadata": {
    "colab": {
     "base_uri": "https://localhost:8080/"
    },
    "id": "WwWOygTqlNBh",
    "outputId": "eb210413-d15a-44bc-9793-8b874fa9affd"
   },
   "outputs": [
    {
     "name": "stderr",
     "output_type": "stream",
     "text": [
      "<<<<<<< local\n"
     ]
    },
    {
     "name": "stderr",
     "output_type": "stream",
     "text": [
      "  % Total    % Received % Xferd  Average Speed   Time    Time     Time  Current\n",
      "                                 Dload  Upload   Total   Spent    Left  Speed\n"
     ]
    },
    {
     "name": "stderr",
     "output_type": "stream",
     "text": [
      "\n",
      "  0     0    0     0    0     0      0      0 --:--:-- --:--:-- --:--:--     0\n",
      "100  130k  100  130k    0     0  1216k      0 --:--:-- --:--:-- --:--:-- 1289k\n"
     ]
    },
    {
     "name": "stderr",
     "output_type": "stream",
     "text": [
      "=======\n"
     ]
    },
    {
     "name": "stderr",
     "output_type": "stream",
     "text": [
      ">>>>>>> remote\n"
     ]
    },
    {
     "name": "stderr",
     "output_type": "stream",
     "text": [
      "<<<<<<< local <removed>\n"
     ]
    },
    {
     "name": "stderr",
     "output_type": "stream",
     "text": [
      "=======\n"
     ]
    },
    {
     "name": "stdout",
     "output_type": "stream",
     "text": [
      "--2024-06-26 00:01:40--  https://raw.githubusercontent.com/AI-Maker-Space/DataRepository/main/dune1.csv\n",
      "Resolving raw.githubusercontent.com (raw.githubusercontent.com)... 185.199.108.133, 185.199.109.133, 185.199.110.133, ...\n",
      "Connecting to raw.githubusercontent.com (raw.githubusercontent.com)|185.199.108.133|:443... connected.\n",
      "HTTP request sent, awaiting response... 200 OK\n",
      "Length: 133391 (130K) [text/plain]\n",
      "Saving to: ‘dune1.csv’\n",
      "\n",
      "dune1.csv           100%[===================>] 130.26K  --.-KB/s    in 0.02s   \n",
      "\n",
      "2024-06-26 00:01:40 (7.67 MB/s) - ‘dune1.csv’ saved [133391/133391]\n",
      "\n"
     ]
    },
    {
     "name": "stderr",
     "output_type": "stream",
     "text": [
      ">>>>>>> remote <modified: >\n"
     ]
    }
   ],
   "source": [
    "!curl -o dune1.csv https://raw.githubusercontent.com/AI-Maker-Space/DataRepository/main/dune1.csv\n"
   ]
  },
  {
   "cell_type": "code",
   "execution_count": null,
   "metadata": {
    "colab": {
     "base_uri": "https://localhost:8080/"
    },
    "id": "TD_9LPL9lTlG",
    "outputId": "b520f7a1-de90-4e7e-993a-a41215c8b09d"
   },
   "outputs": [
    {
     "name": "stderr",
     "output_type": "stream",
     "text": [
      "<<<<<<< local\n"
     ]
    },
    {
     "name": "stderr",
     "output_type": "stream",
     "text": [
      "  % Total    % Received % Xferd  Average Speed   Time    Time     Time  Current\n",
      "                                 Dload  Upload   Total   Spent    Left  Speed\n",
      "\n"
     ]
    },
    {
     "name": "stderr",
     "output_type": "stream",
     "text": [
      "  0     0    0     0    0     0      0      0 --:--:-- --:--:-- --:--:--     0\n",
      "100  109k  100  109k    0     0   777k      0 --:--:-- --:--:-- --:--:--  815k\n"
     ]
    },
    {
     "name": "stderr",
     "output_type": "stream",
     "text": [
      "=======\n"
     ]
    },
    {
     "name": "stderr",
     "output_type": "stream",
     "text": [
      ">>>>>>> remote\n"
     ]
    },
    {
     "name": "stderr",
     "output_type": "stream",
     "text": [
      "<<<<<<< local <removed>\n"
     ]
    },
    {
     "name": "stderr",
     "output_type": "stream",
     "text": [
      "=======\n"
     ]
    },
    {
     "name": "stdout",
     "output_type": "stream",
     "text": [
      "--2024-06-26 00:01:40--  https://raw.githubusercontent.com/AI-Maker-Space/DataRepository/main/dune2.csv\n",
      "Resolving raw.githubusercontent.com (raw.githubusercontent.com)... 185.199.108.133, 185.199.109.133, 185.199.110.133, ...\n",
      "Connecting to raw.githubusercontent.com (raw.githubusercontent.com)|185.199.108.133|:443... connected.\n",
      "HTTP request sent, awaiting response... 200 OK\n",
      "Length: 111843 (109K) [text/plain]\n",
      "Saving to: ‘dune2.csv’\n",
      "\n",
      "dune2.csv           100%[===================>] 109.22K  --.-KB/s    in 0.01s   \n",
      "\n",
      "2024-06-26 00:01:41 (7.99 MB/s) - ‘dune2.csv’ saved [111843/111843]\n",
      "\n"
     ]
    },
    {
     "name": "stderr",
     "output_type": "stream",
     "text": [
      ">>>>>>> remote <modified: >\n"
     ]
    }
   ],
   "source": [
    "!curl -o dune2.csv https://raw.githubusercontent.com/AI-Maker-Space/DataRepository/main/dune2.csv"
   ]
  },
  {
   "cell_type": "code",
   "execution_count": null,
   "metadata": {
    "colab": {
     "base_uri": "https://localhost:8080/"
    },
    "id": "QWFWvEdY1inS",
    "outputId": "2f626100-2d1b-447c-ebf2-1088f88e962c"
   },
   "outputs": [
    {
     "name": "stderr",
     "output_type": "stream",
     "text": [
      "<<<<<<< local\n"
     ]
    },
    {
     "name": "stderr",
     "output_type": "stream",
     "text": [
      "  % Total    % Received % Xferd  Average Speed   Time    Time     Time  Current\n",
      "                                 Dload  Upload   Total   Spent    Left  Speed\n",
      "\n"
     ]
    },
    {
     "name": "stderr",
     "output_type": "stream",
     "text": [
      "  0     0    0     0    0     0      0      0 --:--:-- --:--:-- --:--:--     0\n",
      "100  168k  100  168k    0     0   837k      0 --:--:-- --:--:-- --:--:--  865k\n"
     ]
    },
    {
     "name": "stderr",
     "output_type": "stream",
     "text": [
      "=======\n"
     ]
    },
    {
     "name": "stderr",
     "output_type": "stream",
     "text": [
      ">>>>>>> remote\n"
     ]
    },
    {
     "name": "stderr",
     "output_type": "stream",
     "text": [
      "<<<<<<< local <removed>\n"
     ]
    },
    {
     "name": "stderr",
     "output_type": "stream",
     "text": [
      "=======\n"
     ]
    },
    {
     "name": "stdout",
     "output_type": "stream",
     "text": [
      "--2024-06-26 00:01:41--  https://raw.githubusercontent.com/AI-Maker-Space/DataRepository/main/lotr_fotr.csv\n",
      "Resolving raw.githubusercontent.com (raw.githubusercontent.com)... 185.199.108.133, 185.199.109.133, 185.199.110.133, ...\n",
      "Connecting to raw.githubusercontent.com (raw.githubusercontent.com)|185.199.108.133|:443... connected.\n",
      "HTTP request sent, awaiting response... 200 OK\n",
      "Length: 172855 (169K) [text/plain]\n",
      "Saving to: ‘lotr_fotr.csv’\n",
      "\n",
      "lotr_fotr.csv       100%[===================>] 168.80K  --.-KB/s    in 0.02s   \n",
      "\n",
      "2024-06-26 00:01:41 (7.51 MB/s) - ‘lotr_fotr.csv’ saved [172855/172855]\n",
      "\n"
     ]
    },
    {
     "name": "stderr",
     "output_type": "stream",
     "text": [
      ">>>>>>> remote <modified: >\n"
     ]
    }
   ],
   "source": [
    "!curl -o lotr_fotr.csv https://raw.githubusercontent.com/AI-Maker-Space/DataRepository/main/lotr_fotr.csv"
   ]
  },
  {
   "cell_type": "code",
   "execution_count": null,
   "metadata": {
    "colab": {
     "base_uri": "https://localhost:8080/"
    },
    "id": "Nto_jNmN1n-G",
    "outputId": "8eba2484-2fe4-447f-ac3a-62f45c07a291"
   },
   "outputs": [
    {
     "name": "stderr",
     "output_type": "stream",
     "text": [
      "<<<<<<< local\n"
     ]
    },
    {
     "name": "stderr",
     "output_type": "stream",
     "text": [
      "  % Total    % Received % Xferd  Average Speed   Time    Time     Time  Current\n",
      "                                 Dload  Upload   Total   Spent    Left  Speed"
     ]
    },
    {
     "name": "stderr",
     "output_type": "stream",
     "text": [
      "\n",
      "\n",
      "  0     0    0     0    0     0      0      0 --:--:-- --:--:-- --:--:--     0\n",
      "100  111k  100  111k    0     0   514k      0 --:--:-- --:--:-- --:--:--  530k\n"
     ]
    },
    {
     "name": "stderr",
     "output_type": "stream",
     "text": [
      "=======\n"
     ]
    },
    {
     "name": "stderr",
     "output_type": "stream",
     "text": [
      ">>>>>>> remote\n"
     ]
    },
    {
     "name": "stderr",
     "output_type": "stream",
     "text": [
      "<<<<<<< local <removed>\n"
     ]
    },
    {
     "name": "stderr",
     "output_type": "stream",
     "text": [
      "=======\n"
     ]
    },
    {
     "name": "stdout",
     "output_type": "stream",
     "text": [
      "--2024-06-26 00:01:41--  https://raw.githubusercontent.com/AI-Maker-Space/DataRepository/main/lotr_tt.csv\n",
      "Resolving raw.githubusercontent.com (raw.githubusercontent.com)... 185.199.108.133, 185.199.109.133, 185.199.110.133, ...\n",
      "Connecting to raw.githubusercontent.com (raw.githubusercontent.com)|185.199.108.133|:443... connected.\n",
      "HTTP request sent, awaiting response... 200 OK\n",
      "Length: 114598 (112K) [text/plain]\n",
      "Saving to: ‘lotr_tt.csv’\n",
      "\n",
      "lotr_tt.csv         100%[===================>] 111.91K  --.-KB/s    in 0.02s   \n",
      "\n",
      "2024-06-26 00:01:41 (5.53 MB/s) - ‘lotr_tt.csv’ saved [114598/114598]\n",
      "\n"
     ]
    },
    {
     "name": "stderr",
     "output_type": "stream",
     "text": [
      ">>>>>>> remote <modified: >\n"
     ]
    }
   ],
   "source": [
    "!curl -o lotr.tt.csv https://raw.githubusercontent.com/AI-Maker-Space/DataRepository/main/lotr_tt.csv"
   ]
  },
  {
   "cell_type": "markdown",
   "metadata": {
    "id": "8PUg-ZuTSWAC"
   },
   "source": [
    "#### Read `.csv` Into Pandas"
   ]
  },
  {
   "cell_type": "code",
   "execution_count": null,
   "metadata": {
    "id": "52Hd8PM4SWAC"
   },
   "outputs": [],
   "source": [
    "import pandas as pd\n",
    "\n",
    "dune1 = pd.read_csv(\"./dune1.csv\")\n",
    "dune2 = pd.read_csv(\"./dune2.csv\")\n",
    "lotr_fotr = pd.read_csv(\"./lotr_fotr.csv\")\n",
    "lotr_tt = pd.read_csv(\"./lotr_tt.csv\")"
   ]
  },
  {
   "cell_type": "markdown",
   "metadata": {
    "id": "fPTNyqmpSWAC"
   },
   "source": [
    "#### Create SQLAlchemy engine with SQLite"
   ]
  },
  {
   "cell_type": "code",
   "execution_count": null,
   "metadata": {
    "id": "4lfuPKYBSWAC"
   },
   "outputs": [],
   "source": [
    "from sqlalchemy import create_engine\n",
    "\n",
    "engine = create_engine(\"sqlite+pysqlite:///:memory:\")"
   ]
  },
  {
   "cell_type": "markdown",
   "metadata": {
    "id": "iJiYiSuHSWAC"
   },
   "source": [
    "#### Convert `pd.DataFrame` to SQL tables"
   ]
  },
  {
   "cell_type": "code",
   "execution_count": null,
   "metadata": {
    "colab": {
     "base_uri": "https://localhost:8080/"
    },
    "id": "W-96asUHSWAC",
    "outputId": "f0d1f08a-2509-4e93-b3f9-a3a21ddff92f"
   },
   "outputs": [
    {
     "data": {
      "text/plain": [
       "274"
      ]
     },
     "execution_count": null,
     "metadata": {},
     "output_type": "execute_result"
    }
   ],
   "source": [
    "dune1.to_sql(\n",
    "  \"Dune (2021 film)\",\n",
    "  engine\n",
    ")"
   ]
  },
  {
   "cell_type": "code",
   "execution_count": null,
   "metadata": {
    "colab": {
     "base_uri": "https://localhost:8080/"
    },
    "id": "ZwOi1RE1SWAC",
    "outputId": "23ac88ff-ed1a-4ef1-f885-17e263aa8f63"
   },
   "outputs": [
    {
     "data": {
      "text/plain": [
       "175"
      ]
     },
     "execution_count": null,
     "metadata": {},
     "output_type": "execute_result"
    }
   ],
   "source": [
    "dune2.to_sql(\n",
    "  \"Dune: Part Two\",\n",
    "  engine\n",
    ")"
   ]
  },
  {
   "cell_type": "code",
   "execution_count": null,
   "metadata": {
    "colab": {
     "base_uri": "https://localhost:8080/"
    },
    "id": "3R6FTIki4Q51",
    "outputId": "ce50ac65-4e44-489c-cf3e-98aec674b51a"
   },
   "outputs": [
    {
     "data": {
      "text/plain": [
       "250"
      ]
     },
     "execution_count": null,
     "metadata": {},
     "output_type": "execute_result"
    }
   ],
   "source": [
    "lotr_fotr.to_sql(\n",
    "  \"The Lord of the Rings: The Fellowship of the Ring\",\n",
    "  engine\n",
    ")"
   ]
  },
  {
   "cell_type": "code",
   "execution_count": null,
   "metadata": {
    "colab": {
     "base_uri": "https://localhost:8080/"
    },
    "id": "5CiP8dwV4SFZ",
    "outputId": "747a2b16-434f-4b37-bf95-fe7acd2ecddb"
   },
   "outputs": [
    {
     "data": {
      "text/plain": [
       "149"
      ]
     },
     "execution_count": null,
     "metadata": {},
     "output_type": "execute_result"
    }
   ],
   "source": [
    "lotr_tt.to_sql(\n",
    "  \"The Lord of the Rings: The Two Towers\",\n",
    "  engine\n",
    ")"
   ]
  },
  {
   "cell_type": "markdown",
   "metadata": {
    "id": "pibA9qT7SWAC"
   },
   "source": [
    "#### Construct a `SQLDatabase` index\n",
    "\n",
    "Source Code Here:\n",
    "- [`SQLDatabase`](https://github.com/jerryjliu/llama_index/blob/d24767b0812ac56104497d8f59095eccbe9f2b08/llama_index/langchain_helpers/sql_wrapper.py#L9)"
   ]
  },
  {
   "cell_type": "code",
   "execution_count": null,
   "metadata": {
    "id": "yeDYpR1LSWAD"
   },
   "outputs": [],
   "source": [
    "from llama_index.core import SQLDatabase\n",
    "\n",
    "sql_database = SQLDatabase(engine=engine, include_tables=movie_list)"
   ]
  },
  {
   "cell_type": "markdown",
   "metadata": {
    "id": "-7VfZBenSWAD"
   },
   "source": [
    "#### Create the NLSQLTableQueryEngine interface for all added SQL tables\n",
    "\n",
    "Source Code Here:\n",
    "- [`NLSQLTableQueryEngine`](https://github.com/jerryjliu/llama_index/blob/d24767b0812ac56104497d8f59095eccbe9f2b08/llama_index/indices/struct_store/sql_query.py#L75C1-L75C1)"
   ]
  },
  {
   "cell_type": "code",
   "execution_count": null,
   "metadata": {
    "id": "zQWSdMtrSWAD"
   },
   "outputs": [],
   "source": [
    "from llama_index.core.indices.struct_store.sql_query import NLSQLTableQueryEngine\n",
    "\n",
    "sql_query_engine = NLSQLTableQueryEngine(\n",
    "    sql_database=sql_database,\n",
    "    tables=movie_list,\n",
    ")"
   ]
  },
  {
   "cell_type": "markdown",
   "metadata": {
    "id": "yu8WfwuTSWAD"
   },
   "source": [
    "#### Wrap It All Up in a `QueryEngineTool`\n",
    "\n",
    "You'll want to ensure you have a descriptive...description!\n",
    "\n",
    "This is what will help the LLM decide which table to use when querying!\n",
    "\n",
    "Sorce Code Here:\n",
    "\n",
    "- [`QueryEngineTool`](https://github.com/jerryjliu/llama_index/blob/d24767b0812ac56104497d8f59095eccbe9f2b08/llama_index/tools/query_engine.py#L13)"
   ]
  },
  {
   "cell_type": "markdown",
   "metadata": {
    "id": "9sjbHnA1bQBG"
   },
   "source": [
    "#### 🏗️ Activity #1:\n",
    "\n",
    "Please write a Natural Language Description for the tables that we are using today.\n",
    "\n",
    "Here is an example:\n",
    "\n",
    "```\n",
    "This tool should be used to answer any and all review related inquiries by translating a natural language query into a SQL query with access to tables:\n",
    "'Dune (2021 film)' - containing info. about the first movie in the Dune series,\n",
    "'Dune: Part Two'- containing info. about about the second movie in the Dune series,\n",
    "'The Lord of the Rings: The Fellowship of the Ring' - containing info. about the first movie in the Lord of the Ring series,\n",
    "'The Lord of the Rings: The Two Towers' - containing info. the second movie in the Lord of the Ring series,\n",
    "```"
   ]
  },
  {
   "cell_type": "code",
   "execution_count": 72,
   "metadata": {
    "id": "4n567cXVVCtX"
   },
   "outputs": [],
   "source": [
    "DESCRIPTION = \"\"\"\\\n",
    "Use this tool to answer any and all review related inquiries by translating a natural language query into a SQL query with access to tables.\n",
    "\n",
    "The database schema is given below:\n",
    "- Review Date: Date of the review\n",
    "- Review Title: Title of the review\n",
    "- Review: Review text\n",
    "- Rating: Rating of the review\n",
    "- Author: Author of the review\n",
    "- URL: URL of the review\n",
    "\n",
    "\n",
    "The 4 tables are:\n",
    "- 'Dune (2021 film)' - containing info. about the first movie in the Dune series,\n",
    "- 'Dune: Part Two'- containing info. about about the second movie in the Dune series,\n",
    "- 'The Lord of the Rings: The Fellowship of the Ring' - containing info. about the first movie in the Lord of the Ring series,\n",
    "- 'The Lord of the Rings: The Two Towers' - containing info. the second movie in the Lord of the Ring series,\n",
    "\n",
    "\"\"\"\n"
   ]
  },
  {
   "cell_type": "code",
   "execution_count": null,
   "metadata": {
    "id": "y-mmcBbLSWAD"
   },
   "outputs": [],
   "source": [
    "from llama_index.core.tools.query_engine import QueryEngineTool\n",
    "\n",
    "sql_tool = QueryEngineTool.from_defaults(\n",
    "    query_engine=sql_query_engine,\n",
    "    name=\"sql-query\",\n",
    "    description=DESCRIPTION,\n",
    ")"
   ]
  },
  {
   "cell_type": "code",
   "execution_count": null,
   "metadata": {
    "id": "feOrlq4XSWAD"
   },
   "outputs": [],
   "source": [
    "agent_worker = FunctionCallingAgentWorker.from_tools(\n",
    "    tools=[sql_tool],\n",
    "    verbose=True\n",
    ")\n",
    "\n",
    "agent = agent_worker.as_agent()"
   ]
  },
  {
   "cell_type": "code",
   "execution_count": null,
   "metadata": {
    "colab": {
     "base_uri": "https://localhost:8080/"
    },
    "id": "iT4G6stBSWAD",
    "outputId": "5920cfe6-1563-45b0-99b6-95caedba50c7"
   },
   "outputs": [
    {
     "name": "stderr",
     "output_type": "stream",
     "text": [
      "<<<<<<< local\n"
     ]
    },
    {
     "name": "stdout",
     "output_type": "stream",
     "text": [
      "Added user message to memory: What is the average rating of the 2nd Lord of the Rings movie?\n",
      "INFO:httpx:HTTP Request: POST https://api.openai.com/v1/chat/completions \"HTTP/1.1 200 OK\"\n",
      "HTTP Request: POST https://api.openai.com/v1/chat/completions \"HTTP/1.1 200 OK\"\n",
      "=== Calling Function ===\n",
      "Calling function: sql-query with args: {\"input\": \"SELECT AVG(Rating) AS Average_Rating FROM 'The Lord of the Rings: The Two Towers'\"}\n",
      "INFO:llama_index.core.indices.struct_store.sql_retriever:> Table desc str: Table 'Dune (2021 film)' has columns: index (BIGINT), Unnamed: 0 (BIGINT), Review_Date (TEXT), Author (TEXT), Rating (FLOAT), Review_Title (TEXT), Review (TEXT), Review_Url (TEXT), and foreign keys: .\n",
      "\n",
      "Table 'Dune: Part Two' has columns: index (BIGINT), Unnamed: 0 (BIGINT), Review_Date (TEXT), Author (TEXT), Rating (FLOAT), Review_Title (TEXT), Review (TEXT), Review_Url (TEXT), and foreign keys: .\n",
      "\n",
      "Table 'The Lord of the Rings: The Fellowship of the Ring' has columns: index (BIGINT), Unnamed: 0 (BIGINT), Review_Date (TEXT), Author (TEXT), Rating (FLOAT), Review_Title (TEXT), Review (TEXT), Review_Url (TEXT), and foreign keys: .\n",
      "> Table desc str: Table 'Dune (2021 film)' has columns: index (BIGINT), Unnamed: 0 (BIGINT), Review_Date (TEXT), Author (TEXT), Rating (FLOAT), Review_Title (TEXT), Review (TEXT), Review_Url (TEXT), and foreign keys: .\n",
      "\n",
      "Table 'Dune: Part Two' has columns: index (BIGINT), Unnamed: 0 (BIGINT), Review_Date (TEXT), Author (TEXT), Rating (FLOAT), Review_Title (TEXT), Review (TEXT), Review_Url (TEXT), and foreign keys: .\n",
      "\n",
      "Table 'The Lord of the Rings: The Fellowship of the Ring' has columns: index (BIGINT), Unnamed: 0 (BIGINT), Review_Date (TEXT), Author (TEXT), Rating (FLOAT), Review_Title (TEXT), Review (TEXT), Review_Url (TEXT), and foreign keys: .\n",
      "INFO:httpx:HTTP Request: POST https://api.openai.com/v1/chat/completions \"HTTP/1.1 200 OK\"\n",
      "HTTP Request: POST https://api.openai.com/v1/chat/completions \"HTTP/1.1 200 OK\"\n",
      "INFO:httpx:HTTP Request: POST https://api.openai.com/v1/chat/completions \"HTTP/1.1 200 OK\"\n",
      "HTTP Request: POST https://api.openai.com/v1/chat/completions \"HTTP/1.1 200 OK\"\n",
      "=== Function Output ===\n",
      "The average rating for \"The Lord of the Rings: The Fellowship of the Ring\" is approximately 9.87.\n",
      "INFO:httpx:HTTP Request: POST https://api.openai.com/v1/chat/completions \"HTTP/1.1 200 OK\"\n",
      "HTTP Request: POST https://api.openai.com/v1/chat/completions \"HTTP/1.1 200 OK\"\n",
      "=== LLM Response ===\n",
      "The average rating for \"The Lord of the Rings: The Two Towers\" is approximately 9.87.\n"
     ]
    },
    {
     "name": "stderr",
     "output_type": "stream",
     "text": [
      "wandb: Logged trace tree to W&B.\n"
     ]
    },
    {
     "name": "stderr",
     "output_type": "stream",
     "text": [
      "=======\n"
     ]
    },
    {
     "name": "stdout",
     "output_type": "stream",
     "text": [
      "Added user message to memory: What is the average rating of the 2nd Lord of the Rings movie?\n",
      "=== LLM Response ===\n",
      "To answer this question, we need to query the database for information about the second Lord of the Rings movie, which is \"The Lord of the Rings: The Two Towers\". Let's use the SQL query tool to retrieve this information.\n",
      "=== Calling Function ===\n",
      "Calling function: sql-query with args: {\"input\": \"SELECT AVG(rating) as average_rating FROM `The Lord of the Rings: The Two Towers`\"}\n",
      "=== Function Output ===\n",
      "I apologize, but I'm unable to provide an accurate response based on the given query and results. The SQL query appears to be incomplete or invalid, and an error was returned instead of actual data. \n",
      "\n",
      "To properly answer a question about the average rating for \"The Lord of the Rings: The Two Towers\", we would need:\n",
      "\n",
      "1. A valid SQL query\n",
      "2. A database with a table containing rating information for the movie\n",
      "3. The actual results of running that query\n",
      "\n",
      "Without this information, I can't synthesize a meaningful response about the average rating. If you have the correct query and results, I'd be happy to help interpret that data. Alternatively, if you have a specific question about the movie's ratings, I could try to provide general information based on publicly available data sources, though it wouldn't be based on the SQL query provided.\n",
      "=== LLM Response ===\n",
      "I apologize for the confusion. It seems that the SQL query didn't return the expected results. This could be due to various reasons, such as the table structure being different from what we assumed or the data not being available in the format we expected.\n",
      "\n",
      "Since we don't have direct access to the correct table structure, let me try a more general query to see what information we can retrieve about \"The Lord of the Rings: The Two Towers\".\n",
      "=== Calling Function ===\n",
      "Calling function: sql-query with args: {\"input\": \"SELECT * FROM `The Lord of the Rings: The Two Towers` LIMIT 1\"}\n",
      "=== Function Output ===\n",
      "Based on the query results, I can provide a summary of the top-rated review for \"The Lord of the Rings: The Two Towers\":\n",
      "\n",
      "The highest-rated review comes from a user named \"Loving_Silence\" who gave the movie a perfect 10 out of 10 rating. Their review is titled \"An Epic in every sense of the word.\" \n",
      "\n",
      "In their review, Loving_Silence praises director Peter Jackson for outdoing himself with this second installment of the trilogy. They express that Jackson proves he is not a \"one-hit wonder\" after the success of the first film, \"The Fellowship of the Ring.\"\n",
      "\n",
      "The reviewer suggests that \"The Two Towers\" may even surpass its predecessor in quality. Unfortunately, the full review is cut off in the provided data, but it's clear that the reviewer has an extremely positive opinion of the film, considering it an epic and giving it the highest possible rating.\n",
      "\n",
      "This review indicates that \"The Lord of the Rings: The Two Towers\" was very well-received by at least some viewers, who found it to be an impressive continuation of the trilogy.\n"
     ]
    },
    {
     "name": "stderr",
     "output_type": "stream",
     "text": [
      "\u001b[34m\u001b[1mwandb\u001b[0m: Logged trace tree to W&B.\n"
     ]
    },
    {
     "name": "stdout",
     "output_type": "stream",
     "text": [
      "=== LLM Response ===\n",
      "Thank you for your patience. I apologize that I couldn't provide the exact average rating for \"The Lord of the Rings: The Two Towers\" as initially requested. However, based on the information we were able to retrieve, I can share some insights about the movie's reception:\n",
      "\n",
      "1. We have access to review data for the movie, which includes individual ratings and review content.\n",
      "\n",
      "2. The highest-rated review in our sample gave the movie a perfect score of 10 out of 10.\n",
      "\n",
      "3. This top review suggests that the movie was very well-received, with the reviewer considering it an \"epic\" and potentially even better than its predecessor.\n",
      "\n",
      "While we can't calculate the exact average rating from this limited data, we can infer that the movie was highly regarded by at least some viewers. The perfect score from the top review indicates that the movie likely has a high average rating overall, though we'd need more data to confirm this.\n",
      "\n",
      "If you'd like more specific information about the movie's ratings or reviews, please let me know, and I can try to query the database for additional details. Alternatively, if you have questions about other aspects of the movie, I'd be happy to help with those as well.\n"
     ]
    },
    {
     "name": "stderr",
     "output_type": "stream",
     "text": [
      ">>>>>>> remote\n"
     ]
    }
   ],
   "source": [
    "response = agent.chat(\"What is the average rating of the 2nd Lord of the Rings movie?\")"
   ]
  },
  {
   "cell_type": "code",
   "execution_count": null,
   "metadata": {
    "colab": {
     "base_uri": "https://localhost:8080/"
    },
    "id": "NhsoxOpkSWAD",
    "outputId": "99d95629-db2f-496a-b431-f5fc08c207f6"
   },
   "outputs": [
    {
     "name": "stderr",
     "output_type": "stream",
     "text": [
      "<<<<<<< local\n"
     ]
    },
    {
     "name": "stderr",
     "output_type": "stream",
     "text": [
      "=======\n"
     ]
    },
    {
     "name": "stdout",
     "output_type": "stream",
     "text": [
      "Thank you for your patience. I apologize that I couldn't provide the exact average rating for \"The Lord of the Rings: The Two Towers\" as initially requested. However, based on the information we were able to retrieve, I can share some insights about the movie's reception:\n",
      "\n",
      "1. We have access to review data for the movie, which includes individual ratings and review content.\n",
      "\n",
      "2. The highest-rated review in our sample gave the movie a perfect score of 10 out of 10.\n",
      "\n",
      "3. This top review suggests that the movie was very well-received, with the reviewer considering it an \"epic\" and potentially even better than its predecessor.\n",
      "\n",
      "While we can't calculate the exact average rating from this limited data, we can infer that the movie was highly regarded by at least some viewers. The perfect score from the top review indicates that the movie likely has a high average rating overall, though we'd need more data to confirm this.\n",
      "\n",
      "If you'd like more specific information about the movie's ratings or reviews, please let me know, and I can try to query the database for additional details. Alternatively, if you have questions about other aspects of the movie, I'd be happy to help with those as well.\n"
     ]
    },
    {
     "name": "stderr",
     "output_type": "stream",
     "text": [
      ">>>>>>> remote\n"
     ]
    },
    {
     "name": "stderr",
     "output_type": "stream",
     "text": [
      "<<<<<<< local <modified: >\n"
     ]
    },
    {
     "name": "stdout",
     "output_type": "stream",
     "text": [
      "The average rating for \"The Lord of the Rings: The Two Towers\" is approximately 9.87.\n"
     ]
    },
    {
     "name": "stderr",
     "output_type": "stream",
     "text": [
      "=======\n"
     ]
    },
    {
     "name": "stderr",
     "output_type": "stream",
     "text": [
      ">>>>>>> remote <removed>\n"
     ]
    }
   ],
   "source": [
    "print(str(response))"
   ]
  },
  {
   "cell_type": "code",
   "execution_count": null,
   "metadata": {
    "colab": {
     "base_uri": "https://localhost:8080/"
    },
    "id": "7FiAS6sF7DoJ",
    "outputId": "e871fa96-ec2b-485f-f6ba-7113b323b94b"
   },
   "outputs": [
    {
     "name": "stderr",
     "output_type": "stream",
     "text": [
      "<<<<<<< local\n"
     ]
    },
    {
     "name": "stdout",
     "output_type": "stream",
     "text": [
      "Added user message to memory: What movie series has better reviews, Lord of the Rings or Dune?\n",
      "INFO:httpx:HTTP Request: POST https://api.openai.com/v1/chat/completions \"HTTP/1.1 500 Internal Server Error\"\n",
      "HTTP Request: POST https://api.openai.com/v1/chat/completions \"HTTP/1.1 500 Internal Server Error\"\n",
      "INFO:openai._base_client:Retrying request to /chat/completions in 0.969333 seconds\n",
      "Retrying request to /chat/completions in 0.969333 seconds\n",
      "INFO:httpx:HTTP Request: POST https://api.openai.com/v1/chat/completions \"HTTP/1.1 200 OK\"\n",
      "HTTP Request: POST https://api.openai.com/v1/chat/completions \"HTTP/1.1 200 OK\"\n",
      "=== Calling Function ===\n",
      "Calling function: sql-query with args: {\"input\": \"SELECT AVG(Rating) AS Average_Rating FROM 'Dune (2021 film)'\"}\n",
      "INFO:llama_index.core.indices.struct_store.sql_retriever:> Table desc str: Table 'Dune (2021 film)' has columns: index (BIGINT), Unnamed: 0 (BIGINT), Review_Date (TEXT), Author (TEXT), Rating (FLOAT), Review_Title (TEXT), Review (TEXT), Review_Url (TEXT), and foreign keys: .\n",
      "\n",
      "Table 'Dune: Part Two' has columns: index (BIGINT), Unnamed: 0 (BIGINT), Review_Date (TEXT), Author (TEXT), Rating (FLOAT), Review_Title (TEXT), Review (TEXT), Review_Url (TEXT), and foreign keys: .\n",
      "\n",
      "Table 'The Lord of the Rings: The Fellowship of the Ring' has columns: index (BIGINT), Unnamed: 0 (BIGINT), Review_Date (TEXT), Author (TEXT), Rating (FLOAT), Review_Title (TEXT), Review (TEXT), Review_Url (TEXT), and foreign keys: .\n",
      "> Table desc str: Table 'Dune (2021 film)' has columns: index (BIGINT), Unnamed: 0 (BIGINT), Review_Date (TEXT), Author (TEXT), Rating (FLOAT), Review_Title (TEXT), Review (TEXT), Review_Url (TEXT), and foreign keys: .\n",
      "\n",
      "Table 'Dune: Part Two' has columns: index (BIGINT), Unnamed: 0 (BIGINT), Review_Date (TEXT), Author (TEXT), Rating (FLOAT), Review_Title (TEXT), Review (TEXT), Review_Url (TEXT), and foreign keys: .\n",
      "\n",
      "Table 'The Lord of the Rings: The Fellowship of the Ring' has columns: index (BIGINT), Unnamed: 0 (BIGINT), Review_Date (TEXT), Author (TEXT), Rating (FLOAT), Review_Title (TEXT), Review (TEXT), Review_Url (TEXT), and foreign keys: .\n",
      "INFO:httpx:HTTP Request: POST https://api.openai.com/v1/chat/completions \"HTTP/1.1 200 OK\"\n",
      "HTTP Request: POST https://api.openai.com/v1/chat/completions \"HTTP/1.1 200 OK\"\n",
      "INFO:httpx:HTTP Request: POST https://api.openai.com/v1/chat/completions \"HTTP/1.1 200 OK\"\n",
      "HTTP Request: POST https://api.openai.com/v1/chat/completions \"HTTP/1.1 200 OK\"\n",
      "=== Function Output ===\n",
      "The average rating for the film \"Dune\" (2021) is approximately 8.34.\n",
      "=== Calling Function ===\n",
      "Calling function: sql-query with args: {\"input\": \"SELECT AVG(Rating) AS Average_Rating FROM 'Dune: Part Two'\"}\n",
      "INFO:llama_index.core.indices.struct_store.sql_retriever:> Table desc str: Table 'Dune (2021 film)' has columns: index (BIGINT), Unnamed: 0 (BIGINT), Review_Date (TEXT), Author (TEXT), Rating (FLOAT), Review_Title (TEXT), Review (TEXT), Review_Url (TEXT), and foreign keys: .\n",
      "\n",
      "Table 'Dune: Part Two' has columns: index (BIGINT), Unnamed: 0 (BIGINT), Review_Date (TEXT), Author (TEXT), Rating (FLOAT), Review_Title (TEXT), Review (TEXT), Review_Url (TEXT), and foreign keys: .\n",
      "\n",
      "Table 'The Lord of the Rings: The Fellowship of the Ring' has columns: index (BIGINT), Unnamed: 0 (BIGINT), Review_Date (TEXT), Author (TEXT), Rating (FLOAT), Review_Title (TEXT), Review (TEXT), Review_Url (TEXT), and foreign keys: .\n",
      "> Table desc str: Table 'Dune (2021 film)' has columns: index (BIGINT), Unnamed: 0 (BIGINT), Review_Date (TEXT), Author (TEXT), Rating (FLOAT), Review_Title (TEXT), Review (TEXT), Review_Url (TEXT), and foreign keys: .\n",
      "\n",
      "Table 'Dune: Part Two' has columns: index (BIGINT), Unnamed: 0 (BIGINT), Review_Date (TEXT), Author (TEXT), Rating (FLOAT), Review_Title (TEXT), Review (TEXT), Review_Url (TEXT), and foreign keys: .\n",
      "\n",
      "Table 'The Lord of the Rings: The Fellowship of the Ring' has columns: index (BIGINT), Unnamed: 0 (BIGINT), Review_Date (TEXT), Author (TEXT), Rating (FLOAT), Review_Title (TEXT), Review (TEXT), Review_Url (TEXT), and foreign keys: .\n",
      "INFO:httpx:HTTP Request: POST https://api.openai.com/v1/chat/completions \"HTTP/1.1 200 OK\"\n",
      "HTTP Request: POST https://api.openai.com/v1/chat/completions \"HTTP/1.1 200 OK\"\n",
      "INFO:httpx:HTTP Request: POST https://api.openai.com/v1/chat/completions \"HTTP/1.1 200 OK\"\n",
      "HTTP Request: POST https://api.openai.com/v1/chat/completions \"HTTP/1.1 200 OK\"\n",
      "=== Function Output ===\n",
      "The average rating for \"Dune: Part Two\" is approximately 8.71.\n",
      "=== Calling Function ===\n",
      "Calling function: sql-query with args: {\"input\": \"SELECT AVG(Rating) AS Average_Rating FROM 'The Lord of the Rings: The Fellowship of the Ring'\"}\n",
      "INFO:llama_index.core.indices.struct_store.sql_retriever:> Table desc str: Table 'Dune (2021 film)' has columns: index (BIGINT), Unnamed: 0 (BIGINT), Review_Date (TEXT), Author (TEXT), Rating (FLOAT), Review_Title (TEXT), Review (TEXT), Review_Url (TEXT), and foreign keys: .\n",
      "\n",
      "Table 'Dune: Part Two' has columns: index (BIGINT), Unnamed: 0 (BIGINT), Review_Date (TEXT), Author (TEXT), Rating (FLOAT), Review_Title (TEXT), Review (TEXT), Review_Url (TEXT), and foreign keys: .\n",
      "\n",
      "Table 'The Lord of the Rings: The Fellowship of the Ring' has columns: index (BIGINT), Unnamed: 0 (BIGINT), Review_Date (TEXT), Author (TEXT), Rating (FLOAT), Review_Title (TEXT), Review (TEXT), Review_Url (TEXT), and foreign keys: .\n",
      "> Table desc str: Table 'Dune (2021 film)' has columns: index (BIGINT), Unnamed: 0 (BIGINT), Review_Date (TEXT), Author (TEXT), Rating (FLOAT), Review_Title (TEXT), Review (TEXT), Review_Url (TEXT), and foreign keys: .\n",
      "\n",
      "Table 'Dune: Part Two' has columns: index (BIGINT), Unnamed: 0 (BIGINT), Review_Date (TEXT), Author (TEXT), Rating (FLOAT), Review_Title (TEXT), Review (TEXT), Review_Url (TEXT), and foreign keys: .\n",
      "\n",
      "Table 'The Lord of the Rings: The Fellowship of the Ring' has columns: index (BIGINT), Unnamed: 0 (BIGINT), Review_Date (TEXT), Author (TEXT), Rating (FLOAT), Review_Title (TEXT), Review (TEXT), Review_Url (TEXT), and foreign keys: .\n",
      "INFO:httpx:HTTP Request: POST https://api.openai.com/v1/chat/completions \"HTTP/1.1 200 OK\"\n",
      "HTTP Request: POST https://api.openai.com/v1/chat/completions \"HTTP/1.1 200 OK\"\n",
      "INFO:httpx:HTTP Request: POST https://api.openai.com/v1/chat/completions \"HTTP/1.1 200 OK\"\n",
      "HTTP Request: POST https://api.openai.com/v1/chat/completions \"HTTP/1.1 200 OK\"\n",
      "=== Function Output ===\n",
      "The average rating for \"The Lord of the Rings: The Fellowship of the Ring\" is approximately 9.87.\n",
      "=== Calling Function ===\n",
      "Calling function: sql-query with args: {\"input\": \"SELECT AVG(Rating) AS Average_Rating FROM 'The Lord of the Rings: The Two Towers'\"}\n",
      "INFO:llama_index.core.indices.struct_store.sql_retriever:> Table desc str: Table 'Dune (2021 film)' has columns: index (BIGINT), Unnamed: 0 (BIGINT), Review_Date (TEXT), Author (TEXT), Rating (FLOAT), Review_Title (TEXT), Review (TEXT), Review_Url (TEXT), and foreign keys: .\n",
      "\n",
      "Table 'Dune: Part Two' has columns: index (BIGINT), Unnamed: 0 (BIGINT), Review_Date (TEXT), Author (TEXT), Rating (FLOAT), Review_Title (TEXT), Review (TEXT), Review_Url (TEXT), and foreign keys: .\n",
      "\n",
      "Table 'The Lord of the Rings: The Fellowship of the Ring' has columns: index (BIGINT), Unnamed: 0 (BIGINT), Review_Date (TEXT), Author (TEXT), Rating (FLOAT), Review_Title (TEXT), Review (TEXT), Review_Url (TEXT), and foreign keys: .\n",
      "> Table desc str: Table 'Dune (2021 film)' has columns: index (BIGINT), Unnamed: 0 (BIGINT), Review_Date (TEXT), Author (TEXT), Rating (FLOAT), Review_Title (TEXT), Review (TEXT), Review_Url (TEXT), and foreign keys: .\n",
      "\n",
      "Table 'Dune: Part Two' has columns: index (BIGINT), Unnamed: 0 (BIGINT), Review_Date (TEXT), Author (TEXT), Rating (FLOAT), Review_Title (TEXT), Review (TEXT), Review_Url (TEXT), and foreign keys: .\n",
      "\n",
      "Table 'The Lord of the Rings: The Fellowship of the Ring' has columns: index (BIGINT), Unnamed: 0 (BIGINT), Review_Date (TEXT), Author (TEXT), Rating (FLOAT), Review_Title (TEXT), Review (TEXT), Review_Url (TEXT), and foreign keys: .\n",
      "INFO:httpx:HTTP Request: POST https://api.openai.com/v1/chat/completions \"HTTP/1.1 200 OK\"\n",
      "HTTP Request: POST https://api.openai.com/v1/chat/completions \"HTTP/1.1 200 OK\"\n",
      "INFO:httpx:HTTP Request: POST https://api.openai.com/v1/chat/completions \"HTTP/1.1 200 OK\"\n",
      "HTTP Request: POST https://api.openai.com/v1/chat/completions \"HTTP/1.1 200 OK\"\n",
      "=== Function Output ===\n",
      "The average rating for \"The Lord of the Rings: The Fellowship of the Ring\" is approximately 9.87.\n",
      "INFO:httpx:HTTP Request: POST https://api.openai.com/v1/chat/completions \"HTTP/1.1 200 OK\"\n",
      "HTTP Request: POST https://api.openai.com/v1/chat/completions \"HTTP/1.1 200 OK\"\n",
      "=== LLM Response ===\n",
      "Here are the average ratings for each movie:\n",
      "\n",
      "- **Dune (2021 film)**: 8.34\n",
      "- **Dune: Part Two**: 8.71\n",
      "- **The Lord of the Rings: The Fellowship of the Ring**: 9.87\n",
      "- **The Lord of the Rings: The Two Towers**: 9.87\n",
      "\n",
      "Based on these average ratings, the **Lord of the Rings** series has better reviews compared to the **Dune** series.\n"
     ]
    },
    {
     "name": "stderr",
     "output_type": "stream",
     "text": [
      "wandb: Logged trace tree to W&B.\n"
     ]
    },
    {
     "name": "stderr",
     "output_type": "stream",
     "text": [
      "=======\n"
     ]
    },
    {
     "name": "stdout",
     "output_type": "stream",
     "text": [
      "Added user message to memory: What movie series has better reviews, Lord of the Rings or Dune?\n",
      "=== LLM Response ===\n",
      "To answer this question, we'll need to compare the reviews of both the Lord of the Rings and Dune movie series. We'll query the database for information about the movies from both series and then analyze the results. Let's start by getting data for each movie.\n",
      "=== Calling Function ===\n",
      "Calling function: sql-query with args: {\"input\": \"SELECT 'LOTR: Fellowship' AS movie, AVG(rating) AS avg_rating, COUNT(*) AS review_count\\nFROM `The Lord of the Rings: The Fellowship of the Ring`\\nUNION ALL\\nSELECT 'LOTR: Two Towers' AS movie, AVG(rating) AS avg_rating, COUNT(*) AS review_count\\nFROM `The Lord of the Rings: The Two Towers`\\nUNION ALL\\nSELECT 'Dune (2021)' AS movie, AVG(rating) AS avg_rating, COUNT(*) AS review_count\\nFROM `Dune (2021 film)`\\nUNION ALL\\nSELECT 'Dune: Part Two' AS movie, AVG(rating) AS avg_rating, COUNT(*) AS review_count\\nFROM `Dune: Part Two`\"}\n",
      "=== Function Output ===\n",
      "I apologize, but I'm unable to provide a meaningful response based on the query results, as there was an error in executing the SQL statement. The error message indicates that the SQL statement is invalid. \n",
      "\n",
      "This could be due to a few reasons:\n",
      "\n",
      "1. The table names might be incorrect or not exist in the database.\n",
      "2. There might be a syntax error in the SQL statement.\n",
      "3. The query might be incomplete, as the last line seems to be cut off (missing a closing backtick).\n",
      "\n",
      "Without valid query results, I can't synthesize a response about the average ratings or review counts for the Lord of the Rings movies or the Dune films. \n",
      "\n",
      "To get the information you're looking for, we would need to correct the SQL query and successfully execute it. Once we have the correct results, I'd be happy to analyze and summarize the data for you.\n",
      "\n",
      "Is there any way you could verify the table names and provide a corrected SQL query? Once we have valid results, I can provide a meaningful analysis of the movie ratings and review counts.\n",
      "=== LLM Response ===\n",
      "I apologize for the inconvenience. It seems that we're having some issues with the SQL query. Let's try a different approach by querying each movie individually to see if we can get some information. We'll start with one movie from each series:\n",
      "=== Calling Function ===\n",
      "Calling function: sql-query with args: {\"input\": \"SELECT AVG(rating) AS avg_rating, COUNT(*) AS review_count FROM `The Lord of the Rings: The Fellowship of the Ring`\"}\n",
      "=== Function Output ===\n",
      "I apologize, but I'm unable to provide a specific response based on the query results, as there was an error executing the SQL statement. The error message indicates that the SQL query is invalid.\n",
      "\n",
      "The query appears to be attempting to calculate the average rating and count the number of reviews for the movie \"The Lord of the Rings: The Fellowship of the Ring\". However, without access to the actual database structure and without a valid SQL query, I cannot provide accurate information.\n",
      "\n",
      "To properly answer questions about this movie's ratings and review count, we would need:\n",
      "\n",
      "1. A valid SQL query\n",
      "2. Access to the correct database\n",
      "3. A table containing review data for the movie\n",
      "\n",
      "If you have the correct table name and database structure, you may want to try reformulating the query. A typical valid SQL query for this kind of information might look like:\n",
      "\n",
      "```sql\n",
      "SELECT AVG(rating) AS avg_rating, COUNT(*) AS review_count \n",
      "FROM movie_reviews\n",
      "WHERE movie_title = 'The Lord of the Rings: The Fellowship of the Ring';\n",
      "```\n",
      "\n",
      "This assumes there's a table called \"movie_reviews\" with columns for \"rating\" and \"movie_title\". The actual table and column names would need to match your specific database structure.\n",
      "\n",
      "Without the correct data, I can only speak generally about the movie. \"The Lord of the Rings: The Fellowship of the Ring\" is a highly regarded film that typically receives positive reviews, but I cannot provide specific rating information or review counts based on the given query.\n"
     ]
    },
    {
     "name": "stderr",
     "output_type": "stream",
     "text": [
      "\u001b[34m\u001b[1mwandb\u001b[0m: Logged trace tree to W&B.\n"
     ]
    },
    {
     "name": "stdout",
     "output_type": "stream",
     "text": [
      "=== LLM Response ===\n",
      "I apologize once again for the difficulties we're encountering with the SQL queries. It seems that we're unable to directly access or query the database as we initially thought. Given these limitations, I'll provide a comparison of the Lord of the Rings and Dune series based on generally available information, rather than specific data from the database we were trying to query.\n",
      "\n",
      "Lord of the Rings series:\n",
      "1. The Lord of the Rings trilogy, directed by Peter Jackson, is widely regarded as one of the most successful and critically acclaimed film series of all time.\n",
      "2. All three films (The Fellowship of the Ring, The Two Towers, and The Return of the King) received high praise from both critics and audiences.\n",
      "3. The Return of the King, the final installment, won 11 Academy Awards, including Best Picture, tying the record for most Oscars won by a single film.\n",
      "4. On aggregate review sites like Rotten Tomatoes and Metacritic, all three films consistently score above 90%, indicating universal acclaim.\n",
      "\n",
      "Dune series:\n",
      "1. The Dune series we're likely referring to includes the 2021 film \"Dune\" (also known as \"Dune: Part One\") and its sequel \"Dune: Part Two\" (2024), both directed by Denis Villeneuve.\n",
      "2. \"Dune\" (2021) was very well-received by critics and audiences, praised for its visual spectacle and faithful adaptation of the source material.\n",
      "3. On aggregate review sites, \"Dune\" (2021) typically scores in the 80-90% range, indicating very positive reviews, though slightly lower than the Lord of the Rings films.\n",
      "4. \"Dune: Part Two\" (2024) has also been highly praised upon its release, with many critics considering it an improvement over the first part.\n",
      "\n",
      "Comparison:\n",
      "1. Critical Reception: Both series are critically acclaimed, but the Lord of the Rings trilogy generally edges out Dune in terms of overall critical consensus and awards recognition.\n",
      "2. Audience Reception: Both series are beloved by audiences, but the Lord of the Rings has had more time to build a larger and more dedicated fanbase.\n",
      "3. Cultural Impact: The Lord of the Rings trilogy has had a more significant cultural impact, largely due to its earlier release and\n"
     ]
    },
    {
     "name": "stderr",
     "output_type": "stream",
     "text": [
      ">>>>>>> remote\n"
     ]
    }
   ],
   "source": [
    "response = agent.chat(\"What movie series has better reviews, Lord of the Rings or Dune?\")"
   ]
  },
  {
   "cell_type": "code",
   "execution_count": null,
   "metadata": {
    "colab": {
     "base_uri": "https://localhost:8080/"
    },
    "id": "qxDA2Gjm7dDZ",
    "outputId": "ab5bfa6c-0dc1-474f-f3d2-36db8d3abb74"
   },
   "outputs": [
    {
     "name": "stderr",
     "output_type": "stream",
     "text": [
      "<<<<<<< local\n"
     ]
    },
    {
     "name": "stderr",
     "output_type": "stream",
     "text": [
      "=======\n"
     ]
    },
    {
     "name": "stdout",
     "output_type": "stream",
     "text": [
      "I apologize once again for the difficulties we're encountering with the SQL queries. It seems that we're unable to directly access or query the database as we initially thought. Given these limitations, I'll provide a comparison of the Lord of the Rings and Dune series based on generally available information, rather than specific data from the database we were trying to query.\n",
      "\n",
      "Lord of the Rings series:\n",
      "1. The Lord of the Rings trilogy, directed by Peter Jackson, is widely regarded as one of the most successful and critically acclaimed film series of all time.\n",
      "2. All three films (The Fellowship of the Ring, The Two Towers, and The Return of the King) received high praise from both critics and audiences.\n",
      "3. The Return of the King, the final installment, won 11 Academy Awards, including Best Picture, tying the record for most Oscars won by a single film.\n",
      "4. On aggregate review sites like Rotten Tomatoes and Metacritic, all three films consistently score above 90%, indicating universal acclaim.\n",
      "\n",
      "Dune series:\n",
      "1. The Dune series we're likely referring to includes the 2021 film \"Dune\" (also known as \"Dune: Part One\") and its sequel \"Dune: Part Two\" (2024), both directed by Denis Villeneuve.\n",
      "2. \"Dune\" (2021) was very well-received by critics and audiences, praised for its visual spectacle and faithful adaptation of the source material.\n",
      "3. On aggregate review sites, \"Dune\" (2021) typically scores in the 80-90% range, indicating very positive reviews, though slightly lower than the Lord of the Rings films.\n",
      "4. \"Dune: Part Two\" (2024) has also been highly praised upon its release, with many critics considering it an improvement over the first part.\n",
      "\n",
      "Comparison:\n",
      "1. Critical Reception: Both series are critically acclaimed, but the Lord of the Rings trilogy generally edges out Dune in terms of overall critical consensus and awards recognition.\n",
      "2. Audience Reception: Both series are beloved by audiences, but the Lord of the Rings has had more time to build a larger and more dedicated fanbase.\n",
      "3. Cultural Impact: The Lord of the Rings trilogy has had a more significant cultural impact, largely due to its earlier release and\n"
     ]
    },
    {
     "name": "stderr",
     "output_type": "stream",
     "text": [
      ">>>>>>> remote\n"
     ]
    },
    {
     "name": "stderr",
     "output_type": "stream",
     "text": [
      "<<<<<<< local <modified: >\n"
     ]
    },
    {
     "name": "stdout",
     "output_type": "stream",
     "text": [
      "Here are the average ratings for each movie:\n",
      "\n",
      "- **Dune (2021 film)**: 8.34\n",
      "- **Dune: Part Two**: 8.71\n",
      "- **The Lord of the Rings: The Fellowship of the Ring**: 9.87\n",
      "- **The Lord of the Rings: The Two Towers**: 9.87\n",
      "\n",
      "Based on these average ratings, the **Lord of the Rings** series has better reviews compared to the **Dune** series.\n"
     ]
    },
    {
     "name": "stderr",
     "output_type": "stream",
     "text": [
      "=======\n"
     ]
    },
    {
     "name": "stderr",
     "output_type": "stream",
     "text": [
      ">>>>>>> remote <removed>\n"
     ]
    }
   ],
   "source": [
    "print(str(response))"
   ]
  },
  {
   "cell_type": "markdown",
   "metadata": {
    "id": "-2LOixbcSWAD"
   },
   "source": [
    "### Task 2: Combined RAG Pipeline\n",
    "\n",
    "Now, we can simply add our tools into the `OpenAIAgent`, and off we go!"
   ]
  },
  {
   "cell_type": "code",
   "execution_count": null,
   "metadata": {
    "id": "uxFHM2l2SWAD"
   },
   "outputs": [],
   "source": [
    "combined_tool_agent_worker = FunctionCallingAgentWorker.from_tools(\n",
    "    tools=[auto_retrieve_tool, sql_tool],\n",
    "    verbose=True\n",
    ")\n",
    "\n",
    "combined_tool_agent = combined_tool_agent_worker.as_agent()"
   ]
  },
  {
   "cell_type": "code",
   "execution_count": null,
   "metadata": {
    "colab": {
     "base_uri": "https://localhost:8080/"
    },
    "id": "mYVHuBf9SWAD",
    "outputId": "286e742b-7aac-4306-c0c7-da62dd3519dc"
   },
   "outputs": [
    {
     "name": "stderr",
     "output_type": "stream",
     "text": [
      "<<<<<<< local\n"
     ]
    },
    {
     "name": "stdout",
     "output_type": "stream",
     "text": [
      "Added user message to memory: Which movie is about a ring, and what is the average rating of the movie?\n",
      "INFO:httpx:HTTP Request: POST https://api.openai.com/v1/chat/completions \"HTTP/1.1 200 OK\"\n",
      "HTTP Request: POST https://api.openai.com/v1/chat/completions \"HTTP/1.1 200 OK\"\n",
      "=== Calling Function ===\n",
      "Calling function: semantic-film-info with args: {\"query\": \"movie about a ring\", \"filter_key_list\": [\"title\"], \"filter_value_list\": [\"The Lord of the Rings: The Fellowship of the Ring\", \"The Lord of the Rings: The Two Towers\"]}\n",
      "INFO:httpx:HTTP Request: POST https://api.openai.com/v1/embeddings \"HTTP/1.1 200 OK\"\n",
      "HTTP Request: POST https://api.openai.com/v1/embeddings \"HTTP/1.1 200 OK\"\n",
      "INFO:httpx:HTTP Request: POST https://api.openai.com/v1/chat/completions \"HTTP/1.1 200 OK\"\n",
      "HTTP Request: POST https://api.openai.com/v1/chat/completions \"HTTP/1.1 200 OK\"\n",
      "=== Function Output ===\n",
      "The movie is \"The Lord of the Rings: The Fellowship of the Ring.\" It tells the story of the Dark Lord Sauron, who seeks the One Ring to return to power. The Ring has found its way to a young hobbit named Frodo Baggins, who, along with eight companions, embarks on a perilous journey to Mount Doom in Mordor to destroy it.\n",
      "=== Calling Function ===\n",
      "Calling function: sql-query with args: {\"input\": \"SELECT AVG(Rating) as AverageRating FROM \\\"The Lord of the Rings: The Fellowship of the Ring\\\"\"}\n",
      "INFO:llama_index.core.indices.struct_store.sql_retriever:> Table desc str: Table 'Dune (2021 film)' has columns: index (BIGINT), Unnamed: 0 (BIGINT), Review_Date (TEXT), Author (TEXT), Rating (FLOAT), Review_Title (TEXT), Review (TEXT), Review_Url (TEXT), and foreign keys: .\n",
      "\n",
      "Table 'Dune: Part Two' has columns: index (BIGINT), Unnamed: 0 (BIGINT), Review_Date (TEXT), Author (TEXT), Rating (FLOAT), Review_Title (TEXT), Review (TEXT), Review_Url (TEXT), and foreign keys: .\n",
      "\n",
      "Table 'The Lord of the Rings: The Fellowship of the Ring' has columns: index (BIGINT), Unnamed: 0 (BIGINT), Review_Date (TEXT), Author (TEXT), Rating (FLOAT), Review_Title (TEXT), Review (TEXT), Review_Url (TEXT), and foreign keys: .\n",
      "> Table desc str: Table 'Dune (2021 film)' has columns: index (BIGINT), Unnamed: 0 (BIGINT), Review_Date (TEXT), Author (TEXT), Rating (FLOAT), Review_Title (TEXT), Review (TEXT), Review_Url (TEXT), and foreign keys: .\n",
      "\n",
      "Table 'Dune: Part Two' has columns: index (BIGINT), Unnamed: 0 (BIGINT), Review_Date (TEXT), Author (TEXT), Rating (FLOAT), Review_Title (TEXT), Review (TEXT), Review_Url (TEXT), and foreign keys: .\n",
      "\n",
      "Table 'The Lord of the Rings: The Fellowship of the Ring' has columns: index (BIGINT), Unnamed: 0 (BIGINT), Review_Date (TEXT), Author (TEXT), Rating (FLOAT), Review_Title (TEXT), Review (TEXT), Review_Url (TEXT), and foreign keys: .\n",
      "INFO:httpx:HTTP Request: POST https://api.openai.com/v1/chat/completions \"HTTP/1.1 200 OK\"\n",
      "HTTP Request: POST https://api.openai.com/v1/chat/completions \"HTTP/1.1 200 OK\"\n",
      "INFO:httpx:HTTP Request: POST https://api.openai.com/v1/chat/completions \"HTTP/1.1 200 OK\"\n",
      "HTTP Request: POST https://api.openai.com/v1/chat/completions \"HTTP/1.1 200 OK\"\n",
      "=== Function Output ===\n",
      "The average rating for \"The Lord of the Rings: The Fellowship of the Ring\" is approximately 9.87.\n",
      "INFO:httpx:HTTP Request: POST https://api.openai.com/v1/chat/completions \"HTTP/1.1 200 OK\"\n",
      "HTTP Request: POST https://api.openai.com/v1/chat/completions \"HTTP/1.1 200 OK\"\n",
      "=== LLM Response ===\n",
      "The movie about a ring is **\"The Lord of the Rings: The Fellowship of the Ring.\"** It tells the story of the Dark Lord Sauron, who seeks the One Ring to return to power. The Ring has found its way to a young hobbit named Frodo Baggins, who, along with eight companions, embarks on a perilous journey to Mount Doom in Mordor to destroy it.\n",
      "\n",
      "The average rating for **\"The Lord of the Rings: The Fellowship of the Ring\"** is approximately **9.87**.\n"
     ]
    },
    {
     "name": "stderr",
     "output_type": "stream",
     "text": [
      "wandb: Logged trace tree to W&B.\n"
     ]
    },
    {
     "name": "stderr",
     "output_type": "stream",
     "text": [
      "=======\n"
     ]
    },
    {
     "name": "stdout",
     "output_type": "stream",
     "text": [
      "Added user message to memory: Which movie is about a ring, and what is the average rating of the movie?\n",
      "=== LLM Response ===\n",
      "To answer your question, we'll need to use two different tools. First, we'll use the semantic film info tool to find out which movie is about a ring, and then we'll use the SQL query tool to get the average rating for that movie.\n",
      "\n",
      "Let's start with finding the movie about a ring:\n",
      "=== Calling Function ===\n",
      "Calling function: semantic-film-info with args: {\"query\": \"Which movie is about a ring?\", \"filter_key_list\": [], \"filter_value_list\": []}\n",
      "=== Function Output ===\n",
      "The movie that is about a ring is \"The Lord of the Rings: The Fellowship of the Ring.\" This 2001 epic fantasy adventure film, directed by Peter Jackson, tells the story of a powerful ring sought by the Dark Lord Sauron. The plot revolves around a young hobbit named Frodo Baggins who inherits this ring and must embark on a perilous journey with eight companions to destroy it in Mount Doom, the only place where it can be destroyed. The fate of Middle-earth hangs in the balance as they undertake this quest to prevent the ring from falling into Sauron's hands and allowing him to return to power.\n",
      "=== LLM Response ===\n",
      "Now that we know the movie about a ring is \"The Lord of the Rings: The Fellowship of the Ring,\" let's find out its average rating:\n",
      "=== Calling Function ===\n",
      "Calling function: sql-query with args: {\"input\": \"What is the average rating of \\\"The Lord of the Rings: The Fellowship of the Ring\\\"?\"}\n",
      "=== Function Output ===\n",
      "Based on the SQL query results, the average rating of \"The Lord of the Rings: The Fellowship of the Ring\" is approximately 9.87 out of 10. This extremely high rating indicates that the movie is very highly regarded by viewers and critics alike. The Fellowship of the Ring, being the first installment in The Lord of the Rings trilogy, has clearly made a significant impact and is considered an exceptional film by those who have rated it.\n"
     ]
    },
    {
     "name": "stderr",
     "output_type": "stream",
     "text": [
      "\u001b[34m\u001b[1mwandb\u001b[0m: Logged trace tree to W&B.\n"
     ]
    },
    {
     "name": "stdout",
     "output_type": "stream",
     "text": [
      "=== LLM Response ===\n",
      "Now, I can answer your question completely:\n",
      "\n",
      "The movie about a ring is \"The Lord of the Rings: The Fellowship of the Ring.\" This movie is the first installment in The Lord of the Rings trilogy, directed by Peter Jackson. It tells the story of Frodo Baggins and his quest to destroy a powerful ring sought by the Dark Lord Sauron.\n",
      "\n",
      "The average rating of \"The Lord of the Rings: The Fellowship of the Ring\" is approximately 9.87 out of 10. This exceptionally high rating suggests that the movie is widely loved and critically acclaimed, considered a masterpiece in the fantasy genre.\n"
     ]
    },
    {
     "name": "stderr",
     "output_type": "stream",
     "text": [
      ">>>>>>> remote\n"
     ]
    }
   ],
   "source": [
    "response = combined_tool_agent.chat(\"Which movie is about a ring, and what is the average rating of the movie?\")"
   ]
  },
  {
   "cell_type": "code",
   "execution_count": null,
   "metadata": {
    "colab": {
     "base_uri": "https://localhost:8080/"
    },
    "id": "k0w0VbomSWAD",
    "outputId": "5f67e404-cd96-4554-813a-44311cc26c5b"
   },
   "outputs": [
    {
     "name": "stderr",
     "output_type": "stream",
     "text": [
      "<<<<<<< local\n"
     ]
    },
    {
     "name": "stderr",
     "output_type": "stream",
     "text": [
      "=======\n"
     ]
    },
    {
     "name": "stdout",
     "output_type": "stream",
     "text": [
      "Now, I can answer your question completely:\n",
      "\n",
      "The movie about a ring is \"The Lord of the Rings: The Fellowship of the Ring.\" This movie is the first installment in The Lord of the Rings trilogy, directed by Peter Jackson. It tells the story of Frodo Baggins and his quest to destroy a powerful ring sought by the Dark Lord Sauron.\n",
      "\n",
      "The average rating of \"The Lord of the Rings: The Fellowship of the Ring\" is approximately 9.87 out of 10. This exceptionally high rating suggests that the movie is widely loved and critically acclaimed, considered a masterpiece in the fantasy genre.\n"
     ]
    },
    {
     "name": "stderr",
     "output_type": "stream",
     "text": [
      ">>>>>>> remote\n"
     ]
    },
    {
     "name": "stderr",
     "output_type": "stream",
     "text": [
      "<<<<<<< local <modified: >\n"
     ]
    },
    {
     "name": "stdout",
     "output_type": "stream",
     "text": [
      "The movie about a ring is **\"The Lord of the Rings: The Fellowship of the Ring.\"** It tells the story of the Dark Lord Sauron, who seeks the One Ring to return to power. The Ring has found its way to a young hobbit named Frodo Baggins, who, along with eight companions, embarks on a perilous journey to Mount Doom in Mordor to destroy it.\n",
      "\n",
      "The average rating for **\"The Lord of the Rings: The Fellowship of the Ring\"** is approximately **9.87**.\n"
     ]
    },
    {
     "name": "stderr",
     "output_type": "stream",
     "text": [
      "=======\n"
     ]
    },
    {
     "name": "stderr",
     "output_type": "stream",
     "text": [
      ">>>>>>> remote <removed>\n"
     ]
    }
   ],
   "source": [
    "print(str(response))"
   ]
  },
  {
   "cell_type": "code",
   "execution_count": null,
   "metadata": {
    "colab": {
     "base_uri": "https://localhost:8080/"
    },
    "id": "BJvN-vtJSWAD",
    "outputId": "3ddeb5fa-d277-4e9d-f368-402eec05b598"
   },
   "outputs": [
    {
     "name": "stderr",
     "output_type": "stream",
     "text": [
      "<<<<<<< local\n"
     ]
    },
    {
     "name": "stdout",
     "output_type": "stream",
     "text": [
      "Added user message to memory: What worlds do the LoTR, and Dune movies take place in?\n",
      "INFO:httpx:HTTP Request: POST https://api.openai.com/v1/chat/completions \"HTTP/1.1 200 OK\"\n",
      "HTTP Request: POST https://api.openai.com/v1/chat/completions \"HTTP/1.1 200 OK\"\n",
      "=== Calling Function ===\n",
      "Calling function: semantic-film-info with args: {\"query\": \"world where the movie takes place\", \"filter_key_list\": [\"title\"], \"filter_value_list\": [\"The Lord of the Rings: The Fellowship of the Ring\", \"The Lord of the Rings: The Two Towers\"]}\n",
      "INFO:httpx:HTTP Request: POST https://api.openai.com/v1/embeddings \"HTTP/1.1 200 OK\"\n",
      "HTTP Request: POST https://api.openai.com/v1/embeddings \"HTTP/1.1 200 OK\"\n",
      "INFO:httpx:HTTP Request: POST https://api.openai.com/v1/chat/completions \"HTTP/1.1 200 OK\"\n",
      "HTTP Request: POST https://api.openai.com/v1/chat/completions \"HTTP/1.1 200 OK\"\n",
      "=== Function Output ===\n",
      "The movie takes place in the fictional world of Middle-earth.\n",
      "=== Calling Function ===\n",
      "Calling function: semantic-film-info with args: {\"query\": \"world where the movie takes place\", \"filter_key_list\": [\"title\"], \"filter_value_list\": [\"Dune (2021 film)\", \"Dune: Part Two\"]}\n",
      "INFO:httpx:HTTP Request: POST https://api.openai.com/v1/embeddings \"HTTP/1.1 200 OK\"\n",
      "HTTP Request: POST https://api.openai.com/v1/embeddings \"HTTP/1.1 200 OK\"\n",
      "INFO:httpx:HTTP Request: POST https://api.openai.com/v1/chat/completions \"HTTP/1.1 200 OK\"\n",
      "HTTP Request: POST https://api.openai.com/v1/chat/completions \"HTTP/1.1 200 OK\"\n",
      "=== Function Output ===\n",
      "The movie takes place in a distant future where humanity has spread across the universe and settled on various planets. The story primarily revolves around the desert planet Arrakis, also known as Dune, which is the only source of the valuable substance known as \"spice.\" Other significant planets include Caladan, the oceanic home of House Atreides, and Giedi Prime, the industrial home of House Harkonnen. The universe is characterized by its complex political, social, and ecological systems.\n",
      "INFO:httpx:HTTP Request: POST https://api.openai.com/v1/chat/completions \"HTTP/1.1 200 OK\"\n",
      "HTTP Request: POST https://api.openai.com/v1/chat/completions \"HTTP/1.1 200 OK\"\n",
      "=== LLM Response ===\n",
      "- The **\"The Lord of the Rings\"** movies take place in the fictional world of **Middle-earth**.\n",
      "\n",
      "- The **\"Dune\"** movies take place in a distant future where humanity has spread across the universe and settled on various planets. The story primarily revolves around the desert planet **Arrakis**, also known as **Dune**, which is the only source of the valuable substance known as \"spice.\" Other significant planets include **Caladan**, the oceanic home of House Atreides, and **Giedi Prime**, the industrial home of House Harkonnen. The universe is characterized by its complex political, social, and ecological systems.\n"
     ]
    },
    {
     "name": "stderr",
     "output_type": "stream",
     "text": [
      "wandb: Logged trace tree to W&B.\n"
     ]
    },
    {
     "name": "stderr",
     "output_type": "stream",
     "text": [
      "=======\n"
     ]
    },
    {
     "name": "stdout",
     "output_type": "stream",
     "text": [
      "Added user message to memory: What worlds do the LoTR, and Dune movies take place in?\n",
      "=== LLM Response ===\n",
      "To answer this question, we'll need to use the semantic film info tool to gather information about the worlds in which the Lord of the Rings (LoTR) and Dune movies take place. We'll make two separate queries, one for each franchise.\n",
      "=== Calling Function ===\n",
      "Calling function: semantic-film-info with args: {\"query\": \"What world do the Lord of the Rings movies take place in?\", \"filter_key_list\": [\"title\"], \"filter_value_list\": [\"The Lord of the Rings: The Fellowship of the Ring\"]}\n",
      "=== Function Output ===\n",
      "The Lord of the Rings movies take place in a world called Middle-earth. This fantasy realm is the setting for the epic adventure that unfolds in the film, where various races including hobbits, elves, dwarves, and men face the threat of the Dark Lord Sauron. The story follows Frodo Baggins and his companions as they embark on a perilous journey across Middle-earth to destroy the One Ring and prevent Sauron from regaining his full power.\n",
      "=== LLM Response ===\n",
      "Now, let's find out about the world of the Dune movies:\n",
      "=== Calling Function ===\n",
      "Calling function: semantic-film-info with args: {\"query\": \"What world do the Dune movies take place in?\", \"filter_key_list\": [\"title\"], \"filter_value_list\": [\"Dune (2021 film)\"]}\n",
      "=== Function Output ===\n",
      "The Dune movies take place in a distant future universe, primarily on the planet Arrakis. Arrakis is a harsh desert planet that is the sole source of a valuable substance called \"spice.\" The story also involves other planets such as Caladan, ruled by House Atreides, and Giedi Prime, the home of House Harkonnen. This universe features interstellar travel, noble houses, and complex political and religious systems. The film depicts a rich, intricate world with advanced technology, mystical abilities, and dangerous creatures like the giant sandworms of Arrakis.\n"
     ]
    },
    {
     "name": "stderr",
     "output_type": "stream",
     "text": [
      "\u001b[34m\u001b[1mwandb\u001b[0m: Logged trace tree to W&B.\n"
     ]
    },
    {
     "name": "stdout",
     "output_type": "stream",
     "text": [
      "=== LLM Response ===\n",
      "Now, I can provide a comprehensive answer to your question:\n",
      "\n",
      "1. The Lord of the Rings (LoTR) movies:\n",
      "   The LoTR movies take place in a world called Middle-earth. This is a fantasy realm created by J.R.R. Tolkien, featuring various races such as hobbits, elves, dwarves, and men. The story unfolds across different regions of Middle-earth as the characters embark on their quest to destroy the One Ring and defeat the Dark Lord Sauron.\n",
      "\n",
      "2. The Dune movies:\n",
      "   The Dune movies are set in a distant future universe, with the primary focus on the planet Arrakis. However, the Dune universe is vast and includes multiple planets:\n",
      "\n",
      "   - Arrakis: Also known as Dune, this is a harsh desert planet and the only source of the valuable substance called \"spice.\"\n",
      "   - Caladan: The homeworld of House Atreides before they move to Arrakis.\n",
      "   - Giedi Prime: The homeworld of House Harkonnen.\n",
      "\n",
      "   This universe features interstellar travel, complex political systems involving noble houses, advanced technology, and unique elements like the giant sandworms of Arrakis.\n",
      "\n",
      "Both franchises create rich, detailed worlds for their stories, but they are vastly different in nature. Middle-earth is a fantasy world with magical elements, while the Dune universe is a far-future science fiction setting with its own unique blend of advanced technology and mystical abilities.\n"
     ]
    },
    {
     "name": "stderr",
     "output_type": "stream",
     "text": [
      ">>>>>>> remote\n"
     ]
    }
   ],
   "source": [
    "response = combined_tool_agent.chat(\"What worlds do the LoTR, and Dune movies take place in?\")"
   ]
  },
  {
   "cell_type": "code",
   "execution_count": null,
   "metadata": {
    "colab": {
     "base_uri": "https://localhost:8080/"
    },
    "id": "F74wGv6NSWAD",
    "outputId": "a8c766d6-1984-47dc-dc6b-68fb95bc4af8"
   },
   "outputs": [
    {
     "name": "stderr",
     "output_type": "stream",
     "text": [
      "<<<<<<< local\n"
     ]
    },
    {
     "name": "stdout",
     "output_type": "stream",
     "text": [
      "- The **\"The Lord of the Rings\"** movies take place in the fictional world of **Middle-earth**.\n",
      "\n",
      "- The **\"Dune\"** movies take place in a distant future where humanity has spread across the universe and settled on various planets. The story primarily revolves around the desert planet **Arrakis**, also known as **Dune**, which is the only source of the valuable substance known as \"spice.\" Other significant planets include **Caladan**, the oceanic home of House Atreides, and **Giedi Prime**, the industrial home of House Harkonnen. The universe is characterized by its complex political, social, and ecological systems.\n"
     ]
    },
    {
     "name": "stderr",
     "output_type": "stream",
     "text": [
      "=======\n"
     ]
    },
    {
     "name": "stdout",
     "output_type": "stream",
     "text": [
      "Now, I can provide a comprehensive answer to your question:\n",
      "\n",
      "1. The Lord of the Rings (LoTR) movies:\n",
      "   The LoTR movies take place in a world called Middle-earth. This is a fantasy realm created by J.R.R. Tolkien, featuring various races such as hobbits, elves, dwarves, and men. The story unfolds across different regions of Middle-earth as the characters embark on their quest to destroy the One Ring and defeat the Dark Lord Sauron.\n",
      "\n",
      "2. The Dune movies:\n",
      "   The Dune movies are set in a distant future universe, with the primary focus on the planet Arrakis. However, the Dune universe is vast and includes multiple planets:\n",
      "\n",
      "   - Arrakis: Also known as Dune, this is a harsh desert planet and the only source of the valuable substance called \"spice.\"\n",
      "   - Caladan: The homeworld of House Atreides before they move to Arrakis.\n",
      "   - Giedi Prime: The homeworld of House Harkonnen.\n",
      "\n",
      "   This universe features interstellar travel, complex political systems involving noble houses, advanced technology, and unique elements like the giant sandworms of Arrakis.\n",
      "\n",
      "Both franchises create rich, detailed worlds for their stories, but they are vastly different in nature. Middle-earth is a fantasy world with magical elements, while the Dune universe is a far-future science fiction setting with its own unique blend of advanced technology and mystical abilities.\n"
     ]
    },
    {
     "name": "stderr",
     "output_type": "stream",
     "text": [
      ">>>>>>> remote\n"
     ]
    }
   ],
   "source": [
    "print(str(response))"
   ]
  },
  {
   "cell_type": "code",
   "execution_count": null,
   "metadata": {
    "colab": {
     "base_uri": "https://localhost:8080/"
    },
    "id": "Lvat4hmkvn3N",
    "outputId": "213651e2-70da-41d3-893d-d4ad5eef59a9"
   },
   "outputs": [
    {
     "name": "stderr",
     "output_type": "stream",
     "text": [
      "<<<<<<< local\n"
     ]
    },
    {
     "name": "stdout",
     "output_type": "stream",
     "text": [
      "Added user message to memory: Which of the following movie series is considered the 'best': Dune, or Lord of the Rings? Base your answer on both reviews, and non-review information.\n",
      "INFO:httpx:HTTP Request: POST https://api.openai.com/v1/chat/completions \"HTTP/1.1 200 OK\"\n",
      "HTTP Request: POST https://api.openai.com/v1/chat/completions \"HTTP/1.1 200 OK\"\n",
      "=== Calling Function ===\n",
      "Calling function: sql-query with args: {\"input\": \"SELECT AVG(Rating) as AverageRating FROM \\\"Dune (2021 film)\\\"\"}\n",
      "INFO:llama_index.core.indices.struct_store.sql_retriever:> Table desc str: Table 'Dune (2021 film)' has columns: index (BIGINT), Unnamed: 0 (BIGINT), Review_Date (TEXT), Author (TEXT), Rating (FLOAT), Review_Title (TEXT), Review (TEXT), Review_Url (TEXT), and foreign keys: .\n",
      "\n",
      "Table 'Dune: Part Two' has columns: index (BIGINT), Unnamed: 0 (BIGINT), Review_Date (TEXT), Author (TEXT), Rating (FLOAT), Review_Title (TEXT), Review (TEXT), Review_Url (TEXT), and foreign keys: .\n",
      "\n",
      "Table 'The Lord of the Rings: The Fellowship of the Ring' has columns: index (BIGINT), Unnamed: 0 (BIGINT), Review_Date (TEXT), Author (TEXT), Rating (FLOAT), Review_Title (TEXT), Review (TEXT), Review_Url (TEXT), and foreign keys: .\n",
      "> Table desc str: Table 'Dune (2021 film)' has columns: index (BIGINT), Unnamed: 0 (BIGINT), Review_Date (TEXT), Author (TEXT), Rating (FLOAT), Review_Title (TEXT), Review (TEXT), Review_Url (TEXT), and foreign keys: .\n",
      "\n",
      "Table 'Dune: Part Two' has columns: index (BIGINT), Unnamed: 0 (BIGINT), Review_Date (TEXT), Author (TEXT), Rating (FLOAT), Review_Title (TEXT), Review (TEXT), Review_Url (TEXT), and foreign keys: .\n",
      "\n",
      "Table 'The Lord of the Rings: The Fellowship of the Ring' has columns: index (BIGINT), Unnamed: 0 (BIGINT), Review_Date (TEXT), Author (TEXT), Rating (FLOAT), Review_Title (TEXT), Review (TEXT), Review_Url (TEXT), and foreign keys: .\n",
      "INFO:httpx:HTTP Request: POST https://api.openai.com/v1/chat/completions \"HTTP/1.1 200 OK\"\n",
      "HTTP Request: POST https://api.openai.com/v1/chat/completions \"HTTP/1.1 200 OK\"\n",
      "INFO:httpx:HTTP Request: POST https://api.openai.com/v1/chat/completions \"HTTP/1.1 200 OK\"\n",
      "HTTP Request: POST https://api.openai.com/v1/chat/completions \"HTTP/1.1 200 OK\"\n",
      "=== Function Output ===\n",
      "The average rating for the film \"Dune (2021)\" is approximately 8.34.\n",
      "=== Calling Function ===\n",
      "Calling function: sql-query with args: {\"input\": \"SELECT AVG(Rating) as AverageRating FROM \\\"Dune: Part Two\\\"\"}\n",
      "INFO:llama_index.core.indices.struct_store.sql_retriever:> Table desc str: Table 'Dune (2021 film)' has columns: index (BIGINT), Unnamed: 0 (BIGINT), Review_Date (TEXT), Author (TEXT), Rating (FLOAT), Review_Title (TEXT), Review (TEXT), Review_Url (TEXT), and foreign keys: .\n",
      "\n",
      "Table 'Dune: Part Two' has columns: index (BIGINT), Unnamed: 0 (BIGINT), Review_Date (TEXT), Author (TEXT), Rating (FLOAT), Review_Title (TEXT), Review (TEXT), Review_Url (TEXT), and foreign keys: .\n",
      "\n",
      "Table 'The Lord of the Rings: The Fellowship of the Ring' has columns: index (BIGINT), Unnamed: 0 (BIGINT), Review_Date (TEXT), Author (TEXT), Rating (FLOAT), Review_Title (TEXT), Review (TEXT), Review_Url (TEXT), and foreign keys: .\n",
      "> Table desc str: Table 'Dune (2021 film)' has columns: index (BIGINT), Unnamed: 0 (BIGINT), Review_Date (TEXT), Author (TEXT), Rating (FLOAT), Review_Title (TEXT), Review (TEXT), Review_Url (TEXT), and foreign keys: .\n",
      "\n",
      "Table 'Dune: Part Two' has columns: index (BIGINT), Unnamed: 0 (BIGINT), Review_Date (TEXT), Author (TEXT), Rating (FLOAT), Review_Title (TEXT), Review (TEXT), Review_Url (TEXT), and foreign keys: .\n",
      "\n",
      "Table 'The Lord of the Rings: The Fellowship of the Ring' has columns: index (BIGINT), Unnamed: 0 (BIGINT), Review_Date (TEXT), Author (TEXT), Rating (FLOAT), Review_Title (TEXT), Review (TEXT), Review_Url (TEXT), and foreign keys: .\n",
      "INFO:httpx:HTTP Request: POST https://api.openai.com/v1/chat/completions \"HTTP/1.1 200 OK\"\n",
      "HTTP Request: POST https://api.openai.com/v1/chat/completions \"HTTP/1.1 200 OK\"\n",
      "INFO:httpx:HTTP Request: POST https://api.openai.com/v1/chat/completions \"HTTP/1.1 200 OK\"\n",
      "HTTP Request: POST https://api.openai.com/v1/chat/completions \"HTTP/1.1 200 OK\"\n",
      "=== Function Output ===\n",
      "The average rating for \"Dune: Part Two\" is approximately 8.71.\n",
      "=== Calling Function ===\n",
      "Calling function: sql-query with args: {\"input\": \"SELECT AVG(Rating) as AverageRating FROM \\\"The Lord of the Rings: The Two Towers\\\"\"}\n",
      "INFO:llama_index.core.indices.struct_store.sql_retriever:> Table desc str: Table 'Dune (2021 film)' has columns: index (BIGINT), Unnamed: 0 (BIGINT), Review_Date (TEXT), Author (TEXT), Rating (FLOAT), Review_Title (TEXT), Review (TEXT), Review_Url (TEXT), and foreign keys: .\n",
      "\n",
      "Table 'Dune: Part Two' has columns: index (BIGINT), Unnamed: 0 (BIGINT), Review_Date (TEXT), Author (TEXT), Rating (FLOAT), Review_Title (TEXT), Review (TEXT), Review_Url (TEXT), and foreign keys: .\n",
      "\n",
      "Table 'The Lord of the Rings: The Fellowship of the Ring' has columns: index (BIGINT), Unnamed: 0 (BIGINT), Review_Date (TEXT), Author (TEXT), Rating (FLOAT), Review_Title (TEXT), Review (TEXT), Review_Url (TEXT), and foreign keys: .\n",
      "> Table desc str: Table 'Dune (2021 film)' has columns: index (BIGINT), Unnamed: 0 (BIGINT), Review_Date (TEXT), Author (TEXT), Rating (FLOAT), Review_Title (TEXT), Review (TEXT), Review_Url (TEXT), and foreign keys: .\n",
      "\n",
      "Table 'Dune: Part Two' has columns: index (BIGINT), Unnamed: 0 (BIGINT), Review_Date (TEXT), Author (TEXT), Rating (FLOAT), Review_Title (TEXT), Review (TEXT), Review_Url (TEXT), and foreign keys: .\n",
      "\n",
      "Table 'The Lord of the Rings: The Fellowship of the Ring' has columns: index (BIGINT), Unnamed: 0 (BIGINT), Review_Date (TEXT), Author (TEXT), Rating (FLOAT), Review_Title (TEXT), Review (TEXT), Review_Url (TEXT), and foreign keys: .\n",
      "INFO:httpx:HTTP Request: POST https://api.openai.com/v1/chat/completions \"HTTP/1.1 200 OK\"\n",
      "HTTP Request: POST https://api.openai.com/v1/chat/completions \"HTTP/1.1 200 OK\"\n",
      "INFO:httpx:HTTP Request: POST https://api.openai.com/v1/chat/completions \"HTTP/1.1 200 OK\"\n",
      "HTTP Request: POST https://api.openai.com/v1/chat/completions \"HTTP/1.1 200 OK\"\n",
      "=== Function Output ===\n",
      "The average rating for \"The Lord of the Rings: The Fellowship of the Ring\" is approximately 9.87.\n",
      "INFO:httpx:HTTP Request: POST https://api.openai.com/v1/chat/completions \"HTTP/1.1 200 OK\"\n",
      "HTTP Request: POST https://api.openai.com/v1/chat/completions \"HTTP/1.1 200 OK\"\n",
      "=== Calling Function ===\n",
      "Calling function: semantic-film-info with args: {\"query\": \"Which movie series is considered the best: Dune or Lord of the Rings?\", \"filter_key_list\": [\"title\"], \"filter_value_list\": [\"Dune (2021 film)\", \"Dune: Part Two\", \"The Lord of the Rings: The Fellowship of the Ring\", \"The Lord of the Rings: The Two Towers\"]}\n",
      "INFO:httpx:HTTP Request: POST https://api.openai.com/v1/embeddings \"HTTP/1.1 200 OK\"\n",
      "HTTP Request: POST https://api.openai.com/v1/embeddings \"HTTP/1.1 200 OK\"\n",
      "INFO:httpx:HTTP Request: POST https://api.openai.com/v1/chat/completions \"HTTP/1.1 200 OK\"\n",
      "HTTP Request: POST https://api.openai.com/v1/chat/completions \"HTTP/1.1 200 OK\"\n",
      "=== Function Output ===\n",
      "The context does not provide a direct comparison between the \"Dune\" and \"Lord of the Rings\" movie series in terms of which is considered the best. Both series have their own merits and have been critically acclaimed in different ways. \"Dune\" (2021) received numerous accolades, including ten Academy Award nominations and six wins, while \"The Lord of the Rings\" film series is also highly celebrated, particularly \"The Return of the King,\" which won eleven Academy Awards. The preference for one over the other would largely depend on individual tastes and criteria for evaluation.\n",
      "INFO:httpx:HTTP Request: POST https://api.openai.com/v1/chat/completions \"HTTP/1.1 200 OK\"\n",
      "HTTP Request: POST https://api.openai.com/v1/chat/completions \"HTTP/1.1 200 OK\"\n",
      "=== LLM Response ===\n",
      "Based on both reviews and non-review information:\n",
      "\n",
      "### Reviews:\n",
      "- **Dune Series:**\n",
      "  - **Dune (2021)**: Average rating of approximately 8.34.\n",
      "  - **Dune: Part Two**: Average rating of approximately 8.71.\n",
      "\n",
      "- **Lord of the Rings Series:**\n",
      "  - **The Lord of the Rings: The Fellowship of the Ring**: Average rating of approximately 9.87.\n",
      "  - **The Lord of the Rings: The Two Towers**: (Rating not explicitly provided, but the series is highly acclaimed).\n",
      "\n",
      "### Non-Review Information:\n",
      "- **Dune Series:**\n",
      "  - \"Dune\" (2021) received numerous accolades, including ten Academy Award nominations and six wins.\n",
      "\n",
      "- **Lord of the Rings Series:**\n",
      "  - The \"Lord of the Rings\" film series is highly celebrated, particularly \"The Return of the King,\" which won eleven Academy Awards.\n",
      "\n",
      "### Conclusion:\n",
      "While both series are critically acclaimed, the **\"Lord of the Rings\"** series, particularly \"The Fellowship of the Ring,\" has higher average ratings and has received significant recognition in terms of awards. Therefore, based on the provided information, the **\"Lord of the Rings\"** series is considered the 'best' when compared to the \"Dune\" series.\n"
     ]
    },
    {
     "name": "stderr",
     "output_type": "stream",
     "text": [
      "wandb: Logged trace tree to W&B.\n"
     ]
    },
    {
     "name": "stderr",
     "output_type": "stream",
     "text": [
      "=======\n"
     ]
    },
    {
     "name": "stdout",
     "output_type": "stream",
     "text": [
      "Added user message to memory: Which of the following movie series is considered the 'best': Dune, or Lord of the Rings? Base your answer on both reviews, and non-review information.\n",
      "=== LLM Response ===\n",
      "To answer this question comprehensively, we'll need to gather information about both the Dune and Lord of the Rings movie series using our available tools. We'll look at review data as well as non-review information to make a comparison. Let's start by gathering some general information about both series, and then we'll look at the reviews.\n",
      "\n",
      "First, let's get some non-review information about both series:\n",
      "=== Calling Function ===\n",
      "Calling function: semantic-film-info with args: {\"query\": \"Compare the Dune and Lord of the Rings movie series in terms of their cultural impact, critical reception, and overall popularity.\", \"filter_key_list\": [], \"filter_value_list\": []}\n",
      "=== Function Output ===\n",
      "I apologize, but I do not have enough information in the given context to make a meaningful comparison between the Dune and Lord of the Rings movie series. The provided context only contains information about The Lord of the Rings films, specifically \"The Fellowship of the Ring\" and \"The Two Towers.\" There is no information about the Dune movies to allow for a comparison of their cultural impact, critical reception, or overall popularity.\n",
      "\n",
      "The context does indicate that The Lord of the Rings films were critically acclaimed and received numerous awards and accolades. \"The Fellowship of the Ring\" won four Academy Awards and was nominated for several others. It also received positive reviews from many critics and was recognized in various \"best of\" lists. \"The Two Towers\" was also very well-received, with critics praising its visual effects, battle scenes, and narrative construction.\n",
      "\n",
      "However, without similar information about the Dune series, I cannot provide a comparative analysis between the two franchises as requested in the query.\n",
      "=== LLM Response ===\n",
      "I apologize for the lack of comparative information. Let's try to gather specific information about each series separately, starting with Dune:\n",
      "=== Calling Function ===\n",
      "Calling function: semantic-film-info with args: {\"query\": \"Provide information about the Dune movie series, including its reception and cultural impact.\", \"filter_key_list\": [\"title\"], \"filter_value_list\": [\"Dune (2021 film)\"]}\n",
      "=== Function Output ===\n",
      "The Dune movie series, based on Frank Herbert's novel, has made a significant impact in the film industry. The 2021 adaptation, directed by Denis Villeneuve, received generally positive reception upon its premiere at the Venice Film Festival.\n",
      "\n",
      "Critics praised the film's ambition, story, scope, worldbuilding, performances (particularly Timothée Chalamet and Rebecca Ferguson), and production values. The writing, cinematography, and Hans Zimmer's score were also highly regarded. Many reviewers likened it to high-quality blockbuster filmmaking, with some comparing it to Christopher Nolan's style.\n",
      "\n",
      "However, the film also faced some criticism. Some reviewers found the story incomplete and the pacing slow. The runtime and adaptation choices were also points of contention for certain critics.\n",
      "\n",
      "The movie's cultural impact has been notable, sparking discussions about representation and cultural appropriation. Some commentators and academics criticized the film for neglecting Arabian and Islamic elements that influenced the original novel, and for the lack of Middle Eastern and North African (MENA) actors in key roles.\n",
      "\n",
      "The film's success led to the production of a sequel, Dune: Part Two, which was released in March 2024. There are also plans for a potential third film based on the novel \"Dune Messiah,\" which Villeneuve intends to serve as the conclusion of his Dune trilogy.\n",
      "\n",
      "The Dune series has garnered significant recognition in the film industry, receiving numerous award nominations and wins, including six Academy Awards. It was also ranked as one of the top ten films of 2021 by the American Film Institute, cementing its place in contemporary cinema.\n",
      "=== LLM Response ===\n",
      "Now, let's gather similar information about the Lord of the Rings series:\n",
      "=== Calling Function ===\n",
      "Calling function: semantic-film-info with args: {\"query\": \"Provide information about the Lord of the Rings movie series, including its reception and cultural impact.\", \"filter_key_list\": [\"title\"], \"filter_value_list\": [\"The Lord of the Rings: The Fellowship of the Ring\"]}\n",
      "=== Function Output ===\n",
      "The Lord of the Rings movie series, particularly \"The Fellowship of the Ring,\" has had a significant impact on cinema and popular culture. The first film in the trilogy was released in 2001 and was directed by Peter Jackson. It was a critical and commercial success, grossing over $868 million worldwide during its initial theatrical run.\n",
      "\n",
      "The movie received widespread acclaim for its visual effects, performances, direction, screenplay, musical score, and faithfulness to J.R.R. Tolkien's source material. It was praised as a landmark in filmmaking and a major achievement in the fantasy genre.\n",
      "\n",
      "The film's success was reflected in its numerous accolades. It won four Academy Awards out of thirteen nominations, including Best Cinematography, Best Visual Effects, Best Makeup, and Best Original Score. It also received recognition from other prestigious awards bodies, winning five BAFTAs and the Hugo Award for Best Dramatic Presentation.\n",
      "\n",
      "The cultural impact of the series has been substantial. The American Film Institute named \"The Fellowship of the Ring\" one of the 100 greatest American films in history, making it the most recent and only 21st-century film on that list at the time. In 2021, it was selected for preservation in the United States National Film Registry by the Library of Congress, acknowledging its cultural, historical, and aesthetic significance.\n",
      "\n",
      "However, it's worth noting that not all critics were entirely positive. Some found the film overly serious and self-important, and questioned the credibility of its fantasy universe.\n",
      "\n",
      "Despite any criticisms, the Lord of the Rings series has left an indelible mark on cinema and continues to be widely recognized as one of the greatest and most influential film series ever made. Its success paved the way for the two sequels, \"The Two Towers\" and \"The Return of the King,\" which were released in the following years and continued to build upon the trilogy's legacy.\n",
      "=== LLM Response ===\n",
      "Now, let's look at the review data for both series. We'll start with Dune:\n",
      "=== Calling Function ===\n",
      "Calling function: sql-query with args: {\"input\": \"What are the average ratings for the Dune movies?\"}\n",
      "=== Function Output ===\n",
      "Based on the query results, here are the average ratings for the Dune movies:\n",
      "\n",
      "1. Dune (2021 film): The average rating is approximately 8.34 out of 10.\n",
      "2. Dune: Part Two: The average rating is approximately 8.71 out of 10.\n",
      "\n",
      "Both movies have received high ratings, with Dune: Part Two slightly outperforming the first film. The sequel has an average rating that is about 0.37 points higher than its predecessor. These ratings suggest that both films have been well-received by audiences, with the second part garnering even more positive feedback.\n",
      "=== LLM Response ===\n",
      "Now, let's check the ratings for the Lord of the Rings movies:\n",
      "=== Calling Function ===\n",
      "Calling function: sql-query with args: {\"input\": \"What are the average ratings for the Lord of the Rings movies?\"}\n",
      "=== Function Output ===\n",
      "Based on the SQL query results, here are the average ratings for two of the Lord of the Rings movies:\n",
      "\n",
      "1. The Lord of the Rings: The Fellowship of the Ring - Average Rating: 9.87 out of 10\n",
      "2. The Lord of the Rings: The Two Towers - Average Rating: 9.18 out of 10\n",
      "\n",
      "Both movies have received exceptionally high ratings, with \"The Fellowship of the Ring\" scoring slightly higher than \"The Two Towers\". It's worth noting that these ratings are remarkably high, indicating that both films were very well-received by viewers.\n",
      "\n",
      "The data for the third movie in the trilogy, \"The Return of the King\", is not included in the provided results. To get a complete picture of the average ratings for all Lord of the Rings movies, we would need that information as well.\n"
     ]
    },
    {
     "name": "stderr",
     "output_type": "stream",
     "text": [
      "\u001b[34m\u001b[1mwandb\u001b[0m: Logged trace tree to W&B.\n"
     ]
    },
    {
     "name": "stdout",
     "output_type": "stream",
     "text": [
      "=== LLM Response ===\n",
      "Now, to answer your question about which movie series is considered the 'best' between Dune and Lord of the Rings, based on both reviews and non-review information:\n",
      "\n",
      "1. Critical Reception and Awards:\n",
      "   - Lord of the Rings: The series, particularly \"The Fellowship of the Ring,\" received widespread acclaim. It won numerous awards, including four Academy Awards for the first film alone. The series is considered a landmark in filmmaking and a major achievement in the fantasy genre.\n",
      "   - Dune: The 2021 film and its sequel have also received positive reception, with critics praising various aspects including performances, visuals, and score. The first film won six Academy Awards, showing strong recognition in the industry.\n",
      "\n",
      "2. Cultural Impact:\n",
      "   - Lord of the Rings: The series has had a massive cultural impact. \"The Fellowship of the Ring\" was named one of the 100 greatest American films in history by the American Film Institute and was selected for preservation in the United States National Film Registry.\n",
      "   - Dune: While significant, the cultural impact of the new Dune series appears to be still developing. It has sparked important discussions about representation and cultural appropriation.\n",
      "\n",
      "3. Ratings:\n",
      "   - Lord of the Rings: The two films we have data for show extremely high average ratings (9.87 and 9.18 out of 10).\n",
      "   - Dune: Both Dune films have very good ratings (8.34 and 8.71 out of 10), but they are slightly lower than the Lord of the Rings films.\n",
      "\n",
      "4. Legacy:\n",
      "   - Lord of the Rings: The series is widely recognized as one of the greatest and most influential film series ever made.\n",
      "   - Dune: While highly regarded, the new Dune series is still in the process of building its legacy, with plans for a third film.\n",
      "\n",
      "Conclusion:\n",
      "Based on the available information, the Lord of the Rings series is generally considered the 'best' between the two. It has a longer-standing legacy, higher average ratings, more significant cultural impact, and more extensive critical acclaim. However, it's important to note that:\n",
      "\n",
      "1. The Dune series is more recent and still ongoing, so its full impact may not yet be realized.\n",
      "2. Both series are highly regarded and have their own unique streng\n"
     ]
    },
    {
     "name": "stderr",
     "output_type": "stream",
     "text": [
      ">>>>>>> remote\n"
     ]
    }
   ],
   "source": [
    "response = combined_tool_agent.chat(\"Which of the following movie series is considered the 'best': Dune, or Lord of the Rings? Base your answer on both reviews, and non-review information.\")"
   ]
  },
  {
   "cell_type": "code",
   "execution_count": null,
   "metadata": {
    "colab": {
     "base_uri": "https://localhost:8080/"
    },
    "id": "BEOpeuAovtZM",
    "outputId": "8c2e7d42-dfc7-4453-865a-58bd534b3b1e"
   },
   "outputs": [
    {
     "name": "stderr",
     "output_type": "stream",
     "text": [
      "<<<<<<< local\n"
     ]
    },
    {
     "name": "stdout",
     "output_type": "stream",
     "text": [
      "Based on both reviews and non-review information:\n",
      "\n",
      "### Reviews:\n",
      "- **Dune Series:**\n",
      "  - **Dune (2021)**: Average rating of approximately 8.34.\n",
      "  - **Dune: Part Two**: Average rating of approximately 8.71.\n",
      "\n",
      "- **Lord of the Rings Series:**\n",
      "  - **The Lord of the Rings: The Fellowship of the Ring**: Average rating of approximately 9.87.\n",
      "  - **The Lord of the Rings: The Two Towers**: (Rating not explicitly provided, but the series is highly acclaimed).\n",
      "\n",
      "### Non-Review Information:\n",
      "- **Dune Series:**\n",
      "  - \"Dune\" (2021) received numerous accolades, including ten Academy Award nominations and six wins.\n",
      "\n",
      "- **Lord of the Rings Series:**\n",
      "  - The \"Lord of the Rings\" film series is highly celebrated, particularly \"The Return of the King,\" which won eleven Academy Awards.\n",
      "\n",
      "### Conclusion:\n",
      "While both series are critically acclaimed, the **\"Lord of the Rings\"** series, particularly \"The Fellowship of the Ring,\" has higher average ratings and has received significant recognition in terms of awards. Therefore, based on the provided information, the **\"Lord of the Rings\"** series is considered the 'best' when compared to the \"Dune\" series.\n"
     ]
    },
    {
     "name": "stderr",
     "output_type": "stream",
     "text": [
      "=======\n"
     ]
    },
    {
     "name": "stdout",
     "output_type": "stream",
     "text": [
      "Now, to answer your question about which movie series is considered the 'best' between Dune and Lord of the Rings, based on both reviews and non-review information:\n",
      "\n",
      "1. Critical Reception and Awards:\n",
      "   - Lord of the Rings: The series, particularly \"The Fellowship of the Ring,\" received widespread acclaim. It won numerous awards, including four Academy Awards for the first film alone. The series is considered a landmark in filmmaking and a major achievement in the fantasy genre.\n",
      "   - Dune: The 2021 film and its sequel have also received positive reception, with critics praising various aspects including performances, visuals, and score. The first film won six Academy Awards, showing strong recognition in the industry.\n",
      "\n",
      "2. Cultural Impact:\n",
      "   - Lord of the Rings: The series has had a massive cultural impact. \"The Fellowship of the Ring\" was named one of the 100 greatest American films in history by the American Film Institute and was selected for preservation in the United States National Film Registry.\n",
      "   - Dune: While significant, the cultural impact of the new Dune series appears to be still developing. It has sparked important discussions about representation and cultural appropriation.\n",
      "\n",
      "3. Ratings:\n",
      "   - Lord of the Rings: The two films we have data for show extremely high average ratings (9.87 and 9.18 out of 10).\n",
      "   - Dune: Both Dune films have very good ratings (8.34 and 8.71 out of 10), but they are slightly lower than the Lord of the Rings films.\n",
      "\n",
      "4. Legacy:\n",
      "   - Lord of the Rings: The series is widely recognized as one of the greatest and most influential film series ever made.\n",
      "   - Dune: While highly regarded, the new Dune series is still in the process of building its legacy, with plans for a third film.\n",
      "\n",
      "Conclusion:\n",
      "Based on the available information, the Lord of the Rings series is generally considered the 'best' between the two. It has a longer-standing legacy, higher average ratings, more significant cultural impact, and more extensive critical acclaim. However, it's important to note that:\n",
      "\n",
      "1. The Dune series is more recent and still ongoing, so its full impact may not yet be realized.\n",
      "2. Both series are highly regarded and have their own unique streng\n"
     ]
    },
    {
     "name": "stderr",
     "output_type": "stream",
     "text": [
      ">>>>>>> remote\n"
     ]
    }
   ],
   "source": [
    "print(str(response))"
   ]
  },
  {
   "cell_type": "markdown",
   "metadata": {
    "id": "e1qaiDJYb1_v"
   },
   "source": [
    "#### ❓ Question #4:\n",
    "\n",
    "How can you verify which tool was used for which query?"
   ]
  },
  {
   "cell_type": "markdown",
   "metadata": {},
   "source": [
    "#### Answer #4:\n",
    "\n",
    "This can be done by inspecting the W&B trace for the run in order to pinpoint the exact tool used for each query."
   ]
  },
  {
   "cell_type": "code",
   "execution_count": 86,
   "metadata": {
    "id": "D3ELqzOvSWAD"
   },
   "outputs": [],
   "source": [
    "wandb_callback.finish()"
   ]
  }
 ],
 "metadata": {
  "colab": {
   "provenance": []
  },
  "kernelspec": {
   "display_name": "Python 3",
   "language": "python",
   "name": "python3"
  },
  "language_info": {
   "codemirror_mode": {
    "name": "ipython",
    "version": 3
   },
   "file_extension": ".py",
   "mimetype": "text/x-python",
   "name": "python",
   "nbconvert_exporter": "python",
   "pygments_lexer": "ipython3",
   "version": "3.11.0"
  }
 },
 "nbformat": 4,
 "nbformat_minor": 0
}
